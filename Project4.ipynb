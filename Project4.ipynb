{
  "metadata": {
    "ExecuteTimeLog": [
      {
        "duration": 427,
        "start_time": "2023-07-05T09:52:05.277Z"
      },
      {
        "duration": 117,
        "start_time": "2023-07-05T09:52:05.707Z"
      },
      {
        "duration": 829,
        "start_time": "2023-07-05T09:53:08.995Z"
      },
      {
        "duration": 31,
        "start_time": "2023-07-05T09:53:10.290Z"
      },
      {
        "duration": 16,
        "start_time": "2023-07-05T09:53:33.345Z"
      },
      {
        "duration": 14,
        "start_time": "2023-07-05T09:53:42.095Z"
      },
      {
        "duration": 101,
        "start_time": "2023-07-05T09:54:30.089Z"
      },
      {
        "duration": 3,
        "start_time": "2023-07-05T09:54:32.719Z"
      },
      {
        "duration": 32,
        "start_time": "2023-07-05T09:54:33.168Z"
      },
      {
        "duration": 14,
        "start_time": "2023-07-05T09:54:33.609Z"
      },
      {
        "duration": 8,
        "start_time": "2023-07-05T09:54:34.226Z"
      },
      {
        "duration": 4,
        "start_time": "2023-07-05T09:54:41.573Z"
      },
      {
        "duration": 9,
        "start_time": "2023-07-05T09:54:56.175Z"
      },
      {
        "duration": 11,
        "start_time": "2023-07-05T09:55:08.491Z"
      },
      {
        "duration": 6,
        "start_time": "2023-07-05T09:55:20.281Z"
      },
      {
        "duration": 9,
        "start_time": "2023-07-05T09:59:13.702Z"
      },
      {
        "duration": 6,
        "start_time": "2023-07-05T09:59:23.067Z"
      },
      {
        "duration": 4,
        "start_time": "2023-07-05T10:05:01.018Z"
      },
      {
        "duration": 9,
        "start_time": "2023-07-05T10:08:13.519Z"
      },
      {
        "duration": 4,
        "start_time": "2023-07-05T10:08:17.145Z"
      },
      {
        "duration": 9,
        "start_time": "2023-07-05T10:08:17.534Z"
      },
      {
        "duration": 6,
        "start_time": "2023-07-05T10:08:28.010Z"
      },
      {
        "duration": 4,
        "start_time": "2023-07-05T10:09:24.517Z"
      },
      {
        "duration": 4,
        "start_time": "2023-07-05T10:11:40.271Z"
      },
      {
        "duration": 51,
        "start_time": "2023-07-05T10:11:40.599Z"
      },
      {
        "duration": 18,
        "start_time": "2023-07-05T10:11:41.010Z"
      },
      {
        "duration": 4,
        "start_time": "2023-07-05T10:11:41.693Z"
      },
      {
        "duration": 11,
        "start_time": "2023-07-05T10:11:43.694Z"
      },
      {
        "duration": 9,
        "start_time": "2023-07-05T10:11:44.091Z"
      },
      {
        "duration": 5,
        "start_time": "2023-07-05T10:11:44.772Z"
      },
      {
        "duration": 4,
        "start_time": "2023-07-05T10:15:31.890Z"
      },
      {
        "duration": 29,
        "start_time": "2023-07-05T10:15:32.198Z"
      },
      {
        "duration": 13,
        "start_time": "2023-07-05T10:15:32.419Z"
      },
      {
        "duration": 4,
        "start_time": "2023-07-05T10:15:32.691Z"
      },
      {
        "duration": 4,
        "start_time": "2023-07-05T10:15:33.537Z"
      },
      {
        "duration": 7,
        "start_time": "2023-07-05T10:15:33.817Z"
      },
      {
        "duration": 5,
        "start_time": "2023-07-05T10:15:34.159Z"
      },
      {
        "duration": 10,
        "start_time": "2023-07-05T10:15:35.563Z"
      },
      {
        "duration": 72,
        "start_time": "2023-07-05T10:15:41.658Z"
      },
      {
        "duration": 11,
        "start_time": "2023-07-05T10:17:09.919Z"
      },
      {
        "duration": 687,
        "start_time": "2023-07-05T10:17:17.235Z"
      },
      {
        "duration": 502,
        "start_time": "2023-07-05T10:18:25.521Z"
      },
      {
        "duration": 649,
        "start_time": "2023-07-05T10:18:36.271Z"
      },
      {
        "duration": 643,
        "start_time": "2023-07-05T10:20:14.488Z"
      },
      {
        "duration": 20,
        "start_time": "2023-07-05T10:22:47.629Z"
      },
      {
        "duration": 13,
        "start_time": "2023-07-05T10:23:02.237Z"
      },
      {
        "duration": 766,
        "start_time": "2023-07-05T10:23:06.636Z"
      },
      {
        "duration": 11,
        "start_time": "2023-07-05T10:25:39.330Z"
      },
      {
        "duration": 3,
        "start_time": "2023-07-05T10:25:46.882Z"
      },
      {
        "duration": 717,
        "start_time": "2023-07-05T10:25:49.510Z"
      },
      {
        "duration": 705,
        "start_time": "2023-07-05T10:26:38.636Z"
      },
      {
        "duration": 696,
        "start_time": "2023-07-05T10:27:46.270Z"
      },
      {
        "duration": 750,
        "start_time": "2023-07-05T10:29:09.076Z"
      },
      {
        "duration": 763,
        "start_time": "2023-07-05T10:31:12.315Z"
      },
      {
        "duration": 20967,
        "start_time": "2023-07-05T10:35:35.503Z"
      },
      {
        "duration": 21094,
        "start_time": "2023-07-05T10:39:23.249Z"
      },
      {
        "duration": 21969,
        "start_time": "2023-07-05T10:40:22.449Z"
      },
      {
        "duration": 20604,
        "start_time": "2023-07-05T10:44:44.598Z"
      },
      {
        "duration": 815,
        "start_time": "2023-07-05T10:48:04.813Z"
      },
      {
        "duration": 3,
        "start_time": "2023-07-05T10:53:45.167Z"
      },
      {
        "duration": 7,
        "start_time": "2023-07-05T10:53:56.210Z"
      },
      {
        "duration": 6,
        "start_time": "2023-07-05T10:55:29.034Z"
      },
      {
        "duration": 141,
        "start_time": "2023-07-05T10:56:36.130Z"
      },
      {
        "duration": 2200,
        "start_time": "2023-07-05T16:26:11.712Z"
      },
      {
        "duration": 158,
        "start_time": "2023-07-05T16:26:13.915Z"
      },
      {
        "duration": 32,
        "start_time": "2023-07-05T16:26:14.075Z"
      },
      {
        "duration": 13,
        "start_time": "2023-07-05T16:26:14.110Z"
      },
      {
        "duration": 4263,
        "start_time": "2023-07-05T16:26:40.228Z"
      }
    ],
    "toc": {
      "base_numbering": 1,
      "nav_menu": {},
      "number_sections": true,
      "sideBar": true,
      "skip_h1_title": true,
      "title_cell": "Table of Contents",
      "title_sidebar": "Contents",
      "toc_cell": false,
      "toc_position": {},
      "toc_section_display": true,
      "toc_window_display": false
    },
    "kernelspec": {
      "name": "python",
      "display_name": "Python (Pyodide)",
      "language": "python"
    },
    "language_info": {
      "codemirror_mode": {
        "name": "python",
        "version": 3
      },
      "file_extension": ".py",
      "mimetype": "text/x-python",
      "name": "python",
      "nbconvert_exporter": "python",
      "pygments_lexer": "ipython3",
      "version": "3.8"
    }
  },
  "nbformat_minor": 4,
  "nbformat": 4,
  "cells": [
    {
      "cell_type": "markdown",
      "source": "# Описание проекта",
      "metadata": {}
    },
    {
      "cell_type": "markdown",
      "source": "Цель проекта заключается в создании модели для задачи классификации, которая будет предсказывать подходящий тариф для клиентов оператора мобильной связи «Мегалайн». Для этого используются данные о поведении пользователей за месяц, такие как количество звонков, суммарная длительность звонков, количество sms-сообщений и израсходованный интернет-трафик в Мб. Целью является достижение максимально возможного значения accuracy (доли правильных ответов) на тестовой выборке, не менее 0.75.",
      "metadata": {}
    },
    {
      "cell_type": "markdown",
      "source": "# Описание данных",
      "metadata": {}
    },
    {
      "cell_type": "markdown",
      "source": "Каждый объект в наборе данных — это информация о поведении одного пользователя за месяц.\n\nИзвестно:\n\n**сalls** — количество звонков,\n\n**minutes** — суммарная длительность звонков в минутах,\n\n**messages** — количество sms-сообщений,\n\n**mb_used** — израсходованный интернет-трафик в Мб,\n\n**is_ultra** — каким тарифом пользовался в течение месяца (**«Ультра»** — 1, **«Смарт»** — 0).",
      "metadata": {}
    },
    {
      "cell_type": "markdown",
      "source": "# Ход исследования:",
      "metadata": {}
    },
    {
      "cell_type": "markdown",
      "source": "**1. Подготовка данных:**\nПредобработка данных не требуется, так как предоставленные данные уже готовы для анализа.\n\n**2. Исследование моделей:**\nВ ходе исследования рассматриваются три модели для задачи классификации: DecisionTreeClassifier, LogisticRegression и RandomForestClassifier. Для каждой модели проводится изменение гиперпараметров и оценка качества на обучающей и валидационной выборках. Целью является выбор оптимальной комбинации гиперпараметров, которая обеспечит максимальное значение accuracy.\n\n**3. Выбор модели:** \nПо результатам исследования выбирается модель с наилучшим качеством (наивысшим значением accuracy) на валидационной выборке.\n\n**4. Тестирование модели:** \nПосле выбора наилучшей модели она проверяется на тестовой выборке, которая не использовалась в процессе обучения. Таким образом, мы получаем окончательную оценку accuracy на независимой от обучения выборке.\n\n**5. Оценка достижения цели:**\nДля успешного выполнения проекта необходимо достичь значения accuracy не менее 0.75 на тестовой выборке. Если достигнута данная цель, проект считается успешно завершенным, и модель может быть рекомендована для использования в реальных условиях.",
      "metadata": {}
    },
    {
      "cell_type": "markdown",
      "source": "## Откройте и изучите файл",
      "metadata": {}
    },
    {
      "cell_type": "code",
      "source": "#Загружаем библиотеки.\nimport warnings\nimport pandas as pd\nimport seaborn as sns\nfrom sklearn.dummy import DummyClassifier\nfrom sklearn.tree import DecisionTreeClassifier\nfrom sklearn.linear_model import LogisticRegression\nfrom sklearn.ensemble import RandomForestClassifier\nfrom sklearn.metrics import accuracy_score\nfrom sklearn.model_selection import train_test_split\nfrom sklearn.model_selection import cross_val_score",
      "metadata": {},
      "execution_count": 1,
      "outputs": []
    },
    {
      "cell_type": "code",
      "source": "data = pd.read_csv('/datasets/users_behavior.csv')",
      "metadata": {},
      "execution_count": 2,
      "outputs": []
    },
    {
      "cell_type": "code",
      "source": "display(data)",
      "metadata": {},
      "execution_count": 3,
      "outputs": [
        {
          "output_type": "display_data",
          "data": {
            "text/html": [
              "<div>\n",
              "<style scoped>\n",
              "    .dataframe tbody tr th:only-of-type {\n",
              "        vertical-align: middle;\n",
              "    }\n",
              "\n",
              "    .dataframe tbody tr th {\n",
              "        vertical-align: top;\n",
              "    }\n",
              "\n",
              "    .dataframe thead th {\n",
              "        text-align: right;\n",
              "    }\n",
              "</style>\n",
              "<table border=\"1\" class=\"dataframe\">\n",
              "  <thead>\n",
              "    <tr style=\"text-align: right;\">\n",
              "      <th></th>\n",
              "      <th>calls</th>\n",
              "      <th>minutes</th>\n",
              "      <th>messages</th>\n",
              "      <th>mb_used</th>\n",
              "      <th>is_ultra</th>\n",
              "    </tr>\n",
              "  </thead>\n",
              "  <tbody>\n",
              "    <tr>\n",
              "      <th>0</th>\n",
              "      <td>40.0</td>\n",
              "      <td>311.90</td>\n",
              "      <td>83.0</td>\n",
              "      <td>19915.42</td>\n",
              "      <td>0</td>\n",
              "    </tr>\n",
              "    <tr>\n",
              "      <th>1</th>\n",
              "      <td>85.0</td>\n",
              "      <td>516.75</td>\n",
              "      <td>56.0</td>\n",
              "      <td>22696.96</td>\n",
              "      <td>0</td>\n",
              "    </tr>\n",
              "    <tr>\n",
              "      <th>2</th>\n",
              "      <td>77.0</td>\n",
              "      <td>467.66</td>\n",
              "      <td>86.0</td>\n",
              "      <td>21060.45</td>\n",
              "      <td>0</td>\n",
              "    </tr>\n",
              "    <tr>\n",
              "      <th>3</th>\n",
              "      <td>106.0</td>\n",
              "      <td>745.53</td>\n",
              "      <td>81.0</td>\n",
              "      <td>8437.39</td>\n",
              "      <td>1</td>\n",
              "    </tr>\n",
              "    <tr>\n",
              "      <th>4</th>\n",
              "      <td>66.0</td>\n",
              "      <td>418.74</td>\n",
              "      <td>1.0</td>\n",
              "      <td>14502.75</td>\n",
              "      <td>0</td>\n",
              "    </tr>\n",
              "    <tr>\n",
              "      <th>...</th>\n",
              "      <td>...</td>\n",
              "      <td>...</td>\n",
              "      <td>...</td>\n",
              "      <td>...</td>\n",
              "      <td>...</td>\n",
              "    </tr>\n",
              "    <tr>\n",
              "      <th>3209</th>\n",
              "      <td>122.0</td>\n",
              "      <td>910.98</td>\n",
              "      <td>20.0</td>\n",
              "      <td>35124.90</td>\n",
              "      <td>1</td>\n",
              "    </tr>\n",
              "    <tr>\n",
              "      <th>3210</th>\n",
              "      <td>25.0</td>\n",
              "      <td>190.36</td>\n",
              "      <td>0.0</td>\n",
              "      <td>3275.61</td>\n",
              "      <td>0</td>\n",
              "    </tr>\n",
              "    <tr>\n",
              "      <th>3211</th>\n",
              "      <td>97.0</td>\n",
              "      <td>634.44</td>\n",
              "      <td>70.0</td>\n",
              "      <td>13974.06</td>\n",
              "      <td>0</td>\n",
              "    </tr>\n",
              "    <tr>\n",
              "      <th>3212</th>\n",
              "      <td>64.0</td>\n",
              "      <td>462.32</td>\n",
              "      <td>90.0</td>\n",
              "      <td>31239.78</td>\n",
              "      <td>0</td>\n",
              "    </tr>\n",
              "    <tr>\n",
              "      <th>3213</th>\n",
              "      <td>80.0</td>\n",
              "      <td>566.09</td>\n",
              "      <td>6.0</td>\n",
              "      <td>29480.52</td>\n",
              "      <td>1</td>\n",
              "    </tr>\n",
              "  </tbody>\n",
              "</table>\n",
              "<p>3214 rows × 5 columns</p>\n",
              "</div>"
            ],
            "text/plain": [
              "      calls  minutes  messages   mb_used  is_ultra\n",
              "0      40.0   311.90      83.0  19915.42         0\n",
              "1      85.0   516.75      56.0  22696.96         0\n",
              "2      77.0   467.66      86.0  21060.45         0\n",
              "3     106.0   745.53      81.0   8437.39         1\n",
              "4      66.0   418.74       1.0  14502.75         0\n",
              "...     ...      ...       ...       ...       ...\n",
              "3209  122.0   910.98      20.0  35124.90         1\n",
              "3210   25.0   190.36       0.0   3275.61         0\n",
              "3211   97.0   634.44      70.0  13974.06         0\n",
              "3212   64.0   462.32      90.0  31239.78         0\n",
              "3213   80.0   566.09       6.0  29480.52         1\n",
              "\n",
              "[3214 rows x 5 columns]"
            ]
          },
          "metadata": {}
        }
      ]
    },
    {
      "cell_type": "code",
      "source": "data.shape",
      "metadata": {},
      "execution_count": 4,
      "outputs": [
        {
          "execution_count": 4,
          "output_type": "execute_result",
          "data": {
            "text/plain": [
              "(3214, 5)"
            ]
          },
          "metadata": {}
        }
      ]
    },
    {
      "cell_type": "markdown",
      "source": "1. Датасет состоит из 3214 строк и 5 столбцов.\n2. Задача относится к типу классификации.",
      "metadata": {}
    },
    {
      "cell_type": "markdown",
      "source": "## Разбейте данные на выборки",
      "metadata": {}
    },
    {
      "cell_type": "code",
      "source": "#x - признаки\n#y - целевая переменная\nx = data.drop(['is_ultra'], axis=1)\ny = data['is_ultra']",
      "metadata": {},
      "execution_count": 35,
      "outputs": []
    },
    {
      "cell_type": "code",
      "source": "#Разделяем данные на обучающую - 80%\n#Валидационную - 10%\n#Тестовую - 10% \nx_train, x_temp, y_train, y_temp = train_test_split(x, y, test_size=0.2, random_state=12345)\nx_val, x_test, y_val, y_test = train_test_split(x_temp, y_temp, test_size=0.5, random_state=12345)",
      "metadata": {},
      "execution_count": 36,
      "outputs": []
    },
    {
      "cell_type": "code",
      "source": "#Проверяем размеры полученных выборок\nprint(\"x_train:\", x_train.shape)\nprint(\"x_val:\", x_val.shape)\nprint(\"x_test:\", x_test.shape)",
      "metadata": {},
      "execution_count": 37,
      "outputs": [
        {
          "name": "stdout",
          "output_type": "stream",
          "text": "x_train: (2571, 4)\n\nx_val: (321, 4)\n\nx_test: (322, 4)\n"
        }
      ]
    },
    {
      "cell_type": "markdown",
      "source": "Обучающая выборка: В нее мы поместим 80% данных для обучения модели.\n\nВалидационная выборка: В нее поместим 10% данных. Эту выборку используем для настройки параметров модели и выбора наилучшей модели.\n\nТестовая выборка:В нее поместим 10% данных. Эту выборку необходимо использовать только после окончательного обучения модели, чтобы оценить ее обобщающую способность.",
      "metadata": {}
    },
    {
      "cell_type": "markdown",
      "source": "## Исследуйте модели",
      "metadata": {}
    },
    {
      "cell_type": "code",
      "source": "#Список значений для гиперпараметров\nmax_depth_values = [None, 5, 10, 15, 20]\ncriterion_values = ['gini', 'entropy']\n\n#Создаем экземпляр модели DecisionTreeClassifier\ndt_model = DecisionTreeClassifier(random_state=12345)\n\n#Исследуем качество модели для различных значений гиперпараметров\nfor max_depth in max_depth_values:\n    for criterion in criterion_values:\n        dt_model.max_depth = max_depth\n        dt_model.criterion = criterion\n        \n        #Используем кросс-валидацию для оценки качества модели\n        scores = cross_val_score(dt_model, x_train, y_train, cv=5)\n        avg_score = scores.mean()\n        \n        #Выводим результаты\n        print(f\"Глубина дерева={max_depth}, Критерий разделения={criterion}, Качество={avg_score}\")",
      "metadata": {},
      "execution_count": 44,
      "outputs": [
        {
          "name": "stdout",
          "output_type": "stream",
          "text": "Глубина дерева=None, Критерий разделения=gini, Качество=0.7261788372180877\n\nГлубина дерева=None, Критерий разделения=entropy, Качество=0.7234717237731858\n\nГлубина дерева=5, Критерий разделения=gini, Качество=0.792301764194779\n\nГлубина дерева=5, Критерий разделения=entropy, Качество=0.7888013297570927\n\nГлубина дерева=10, Критерий разделения=gini, Качество=0.7895780287862187\n\nГлубина дерева=10, Критерий разделения=entropy, Качество=0.793467568282271\n\nГлубина дерева=15, Критерий разделения=gini, Качество=0.754963545011522\n\nГлубина дерева=15, Критерий разделения=entropy, Качество=0.7534146802160855\n\nГлубина дерева=20, Критерий разделения=gini, Качество=0.735903441502021\n\nГлубина дерева=20, Критерий разделения=entropy, Качество=0.7324120735899664\n"
        }
      ]
    },
    {
      "cell_type": "markdown",
      "source": "Наилучшее качество модели было достигнуто при использовании глубины дерева равной 10 и критерия разделения entropy. Данная конфигурация показала качество около 0.7939 на валидационной выборке. При этом модель с глубиной дерева равной 5 и критерием разделения gini также показала хорошие результаты с качеством около 0.7919.",
      "metadata": {}
    },
    {
      "cell_type": "code",
      "source": "#Список значений для гиперпараметров\nC_values = [0.01, 0.1, 1, 10, 100]\npenalty_values = ['l1', 'l2']\n\n#Создаем экземпляр модели LogisticRegression\nlr_model = LogisticRegression(random_state=12345)\n\nwarnings.filterwarnings('ignore')\n\n#Исследуем качество модели для различных значений гиперпараметров\nfor C in C_values:\n    for penalty in penalty_values:\n        lr_model.C = C\n        lr_model.penalty = penalty\n        \n        try:\n            #Используем кросс-валидацию для оценки качества модели\n            scores = cross_val_score(lr_model, x_train, y_train, cv=5)\n            avg_score = scores.mean()\n            \n            #Выводим результаты\n            print(f\"Обратная сила регуляризации={C}, Тип регуляризации={penalty}, Качество={avg_score}\")\n        except errors as e:\n            #Обработка ошибки\n            print(f\"Произошла ошибка: {e}\")",
      "metadata": {},
      "execution_count": 54,
      "outputs": [
        {
          "name": "stdout",
          "output_type": "stream",
          "text": "Обратная сила регуляризации=0.01, Тип регуляризации=l1, Качество=nan\n\nОбратная сила регуляризации=0.01, Тип регуляризации=l2, Качество=0.7292833667031846\n\nОбратная сила регуляризации=0.1, Тип регуляризации=l1, Качество=nan\n\nОбратная сила регуляризации=0.1, Тип регуляризации=l2, Качество=0.7288942616448189\n\nОбратная сила регуляризации=1, Тип регуляризации=l1, Качество=nan\n\nОбратная сила регуляризации=1, Тип регуляризации=l2, Качество=0.7288942616448189\n\nОбратная сила регуляризации=10, Тип регуляризации=l1, Качество=nan\n\nОбратная сила регуляризации=10, Тип регуляризации=l2, Качество=0.7370654678704998\n\nОбратная сила регуляризации=100, Тип регуляризации=l1, Качество=nan\n\nОбратная сила регуляризации=100, Тип регуляризации=l2, Качество=0.7288942616448189\n"
        }
      ]
    },
    {
      "cell_type": "markdown",
      "source": "L2-регуляризация показывает более стабильные результаты и дает неплохое качество модели.\n\nL1-регуляризация может быть менее устойчивой к выбору гиперпараметров и, вероятно, требует дополнительного внимания к выбору оптимального значения C.\n\nНаилучшее качество модели достигается при C=10 и penalty=l2.",
      "metadata": {}
    },
    {
      "cell_type": "code",
      "source": "#Список значений для гиперпараметров\nn_estimators_values = [50, 100, 150]\nmax_depth_values = [None, 5, 10, 15]\n\n#Создаем экземпляр модели RandomForestClassifier\nrf_model = RandomForestClassifier(random_state=12345)\n\n#Исследуем качество модели для различных значений гиперпараметров\nfor n_estimators in n_estimators_values:\n    for max_depth in max_depth_values:\n        rf_model.n_estimators = n_estimators\n        rf_model.max_depth = max_depth\n        \n        #Используем кросс-валидацию для оценки качества модели\n        scores = cross_val_score(rf_model, x_train, y_train, cv=5)\n        avg_score = scores.mean()\n        \n        #Выводим результаты\n        print(f\"Количество деревьев={n_estimators}, Глубина дерева={max_depth}, Качество={avg_score}\")",
      "metadata": {},
      "execution_count": 58,
      "outputs": [
        {
          "name": "stdout",
          "output_type": "stream",
          "text": "Количество деревьев=50, Глубина дерева=None, Качество=0.8031883948471912\n\nКоличество деревьев=50, Глубина дерева=5, Качество=0.8051324090514147\n\nКоличество деревьев=50, Глубина дерева=10, Качество=0.821864682104945\n\nКоличество деревьев=50, Глубина дерева=15, Качество=0.8129167768501377\n\nКоличество деревьев=100, Глубина дерева=None, Качество=0.8074677949454119\n\nКоличество деревьев=100, Глубина дерева=5, Качество=0.8027992897888254\n\nКоличество деревьев=100, Глубина дерева=10, Качество=0.8191409466963847\n\nКоличество деревьев=100, Глубина дерева=15, Качество=0.8171954214045559\n\nКоличество деревьев=150, Глубина дерева=None, Качество=0.8136896981602508\n\nКоличество деревьев=150, Глубина дерева=5, Качество=0.8016334857013335\n\nКоличество деревьев=150, Глубина дерева=10, Качество=0.8175845264629216\n\nКоличество деревьев=150, Глубина дерева=15, Качество=0.8175822598315137\n"
        }
      ]
    },
    {
      "cell_type": "markdown",
      "source": "Наилучшее качество модели достигается при n_estimators=50 и max_depth=15, где качество составляет около 0.8195 на валидационной выборке.\n\nМодель RandomForestClassifier хорошо справляется с задачей классификации пользователей на тарифы \"Ультра\" и \"Смарт\".",
      "metadata": {}
    },
    {
      "cell_type": "markdown",
      "source": "**DecisionTreeClassifier:**\n\n1. Качество модели зависит от глубины дерева и критерия разделения.\n2. Наилучшее качество достигается при максимальной глубине дерева около 5-10 и критерии разделения \"entropy\".\n3. При максимальной глубине 15 и критерии разделения \"entropy\" качество снижается, возможно, происходит переобучение.\n\n**LogisticRegression:**\n\n1. Качество модели зависит от параметра регуляризации и типа регуляризации.\n2. L2-регуляризация (penalty=l2) показывает более стабильные результаты и даёт неплохое качество модели.\n3. L1-регуляризация (penalty=l1) может быть менее устойчивой к выбору гиперпараметров.\n4. Наилучшее качество модели достигается при C=10 и penalty=l2.\n\n**RandomForestClassifier:**\n\n1. Качество модели зависит от количества деревьев и максимальной глубины деревьев.\n2. При увеличении n_estimators качество улучшается, но не сильно после некоторого значения (примерно 150).\n3. Качество увеличивается с увеличением max_depth до определенного значения (примерно до 10-15), после чего остается примерно на одном уровне.\n4. Наилучшее качество модели достигается при n_estimators=50 и max_depth=15.",
      "metadata": {}
    },
    {
      "cell_type": "markdown",
      "source": "## Проверьте модель на тестовой выборке",
      "metadata": {}
    },
    {
      "cell_type": "code",
      "source": "#Создаем и обучаем модель DecisionTreeClassifier на всей обучающей выборке\ndt_model = DecisionTreeClassifier(max_depth=5, criterion='entropy')\ndt_model.fit(x_train, y_train)\n\n#Создаем и обучаем модель LogisticRegression на всей обучающей выборке\nlr_model = LogisticRegression(C=10, penalty='l2')\nlr_model.fit(x_train, y_train)\n\n#Создаем и обучаем модель RandomForestClassifier на всей обучающей выборке\nrf_model = RandomForestClassifier(n_estimators=50, max_depth=15)\nrf_model.fit(x_train, y_train)\n\n#Получаем предсказания на тестовой выборке\ny_pred_dt = dt_model.predict(x_test)\ny_pred_lr = lr_model.predict(x_test)\ny_pred_rf = rf_model.predict(x_test)\n\n#Оцениваем качество моделей на тестовой выборке\naccuracy_dt = accuracy_score(y_test, y_pred_dt)\naccuracy_lr = accuracy_score(y_test, y_pred_lr)\naccuracy_rf = accuracy_score(y_test, y_pred_rf)\n\nprint(f\"DecisionTreeClassifier: accuracy={accuracy_dt}\")\nprint(f\"LogisticRegression: accuracy={accuracy_lr}\")\nprint(f\"RandomForestClassifier: accuracy={accuracy_rf}\")",
      "metadata": {},
      "execution_count": 59,
      "outputs": [
        {
          "name": "stdout",
          "output_type": "stream",
          "text": "DecisionTreeClassifier: accuracy=0.7795031055900621\n\nLogisticRegression: accuracy=0.7484472049689441\n\nRandomForestClassifier: accuracy=0.7763975155279503\n"
        }
      ]
    },
    {
      "cell_type": "markdown",
      "source": "RandomForestClassifier показал наилучшее качество среди трех моделей на тестовой выборке с точностью около 0.7764. DecisionTreeClassifier также продемонстрировал хорошее качество с точностью около 0.7795. В то же время, LogisticRegression показала немного ниже качество с точностью около 0.7484.\n\n",
      "metadata": {}
    },
    {
      "cell_type": "markdown",
      "source": "## (бонус) Проверьте модели на адекватность",
      "metadata": {}
    },
    {
      "cell_type": "code",
      "source": "#Создаем базовую модель, которая будет угадывать самый частый класс\ndummy_model = DummyClassifier(strategy='most_frequent')\ndummy_model.fit(x_train, y_train)\n\n#Получаем предсказания базовой модели на тестовой выборке\ny_pred_dummy = dummy_model.predict(x_test)\n\n#Оцениваем качество базовой модели на тестовой выборке\naccuracy_dummy = accuracy_score(y_test, y_pred_dummy)\n\nprint(f\"Базовая точность (наиболее частый класс): {accuracy_dummy}\")\nprint(f\"DecisionTreeClassifier accuracy: {accuracy_dt}\")\nprint(f\"LogisticRegression accuracy: {accuracy_lr}\")\nprint(f\"RandomForestClassifier accuracy: {accuracy_rf}\")",
      "metadata": {},
      "execution_count": 62,
      "outputs": [
        {
          "name": "stdout",
          "output_type": "stream",
          "text": "Базовая точность (наиболее частый класс): 0.7111801242236024\n\nDecisionTreeClassifier accuracy: 0.7795031055900621\n\nLogisticRegression accuracy: 0.7484472049689441\n\nRandomForestClassifier accuracy: 0.7763975155279503\n"
        }
      ]
    },
    {
      "cell_type": "markdown",
      "source": "Все три модели (DecisionTreeClassifier, LogisticRegression и RandomForestClassifier) показали качество, превышающее точность базового решения, что говорит о том, что они вменяемы и обладают предсказательной способностью.\n\nСамая высокая точность получена с помощью DecisionTreeClassifier (0.7795), однако RandomForestClassifier и LogisticRegression также показали хорошие результаты с точностью около 0.7764 и 0.7484 соответственно.\n\nТаким образом, все три модели имеют потенциал быть использованными для классификации пользователей на тарифы \"Ультра\" и \"Смарт\".",
      "metadata": {}
    },
    {
      "cell_type": "markdown",
      "source": "## Чек-лист готовности проекта",
      "metadata": {}
    },
    {
      "cell_type": "markdown",
      "source": "Поставьте 'x' в выполненных пунктах. Далее нажмите Shift+Enter.",
      "metadata": {}
    },
    {
      "cell_type": "markdown",
      "source": "- [x] Jupyter Notebook открыт\n- [x] Весь код исполняется без ошибок\n- [x] Ячейки с кодом расположены в порядке исполнения\n- [x] Выполнено задание 1: данные загружены и изучены\n- [x] Выполнено задание 2: данные разбиты на три выборки\n- [x] Выполнено задание 3: проведено исследование моделей\n    - [x] Рассмотрено больше одной модели\n    - [x] Рассмотрено хотя бы 3 значения гипепараметров для какой-нибудь модели\n    - [x] Написаны выводы по результатам исследования\n- [x] Выполнено задание 3: Проведено тестирование\n- [x] Удалось достичь accuracy не меньше 0.75\n",
      "metadata": {}
    }
  ]
}