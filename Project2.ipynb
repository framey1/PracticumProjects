{
  "metadata": {
    "ExecuteTimeLog": [
      {
        "duration": 47,
        "start_time": "2023-06-15T20:34:15.162Z"
      },
      {
        "duration": 376,
        "start_time": "2023-06-15T20:34:19.953Z"
      },
      {
        "duration": 114,
        "start_time": "2023-06-15T20:34:20.452Z"
      },
      {
        "duration": 28,
        "start_time": "2023-06-15T20:34:22.643Z"
      },
      {
        "duration": 51,
        "start_time": "2023-06-15T20:36:30.818Z"
      },
      {
        "duration": 136,
        "start_time": "2023-06-15T20:39:27.256Z"
      },
      {
        "duration": 72,
        "start_time": "2023-06-15T20:39:39.824Z"
      },
      {
        "duration": 215,
        "start_time": "2023-06-15T20:43:36.994Z"
      },
      {
        "duration": 2,
        "start_time": "2023-06-15T20:45:18.390Z"
      },
      {
        "duration": 153,
        "start_time": "2023-06-15T20:45:18.741Z"
      },
      {
        "duration": 9,
        "start_time": "2023-06-15T20:48:45.418Z"
      },
      {
        "duration": 72,
        "start_time": "2023-06-15T20:48:54.923Z"
      },
      {
        "duration": 22,
        "start_time": "2023-06-15T20:51:15.162Z"
      },
      {
        "duration": 26,
        "start_time": "2023-06-15T20:53:02.168Z"
      },
      {
        "duration": 18,
        "start_time": "2023-06-15T20:53:14.164Z"
      },
      {
        "duration": 28,
        "start_time": "2023-06-15T20:53:17.248Z"
      },
      {
        "duration": 21,
        "start_time": "2023-06-15T20:53:26.394Z"
      },
      {
        "duration": 24,
        "start_time": "2023-06-15T20:54:00.763Z"
      },
      {
        "duration": 1912,
        "start_time": "2023-06-15T20:56:04.733Z"
      },
      {
        "duration": 37,
        "start_time": "2023-06-15T20:57:26.912Z"
      },
      {
        "duration": 7,
        "start_time": "2023-06-15T21:01:13.074Z"
      },
      {
        "duration": 5,
        "start_time": "2023-06-15T21:01:31.770Z"
      },
      {
        "duration": 17,
        "start_time": "2023-06-15T21:01:43.294Z"
      },
      {
        "duration": 23,
        "start_time": "2023-06-15T21:02:00.652Z"
      },
      {
        "duration": 7,
        "start_time": "2023-06-15T21:02:09.967Z"
      },
      {
        "duration": 10,
        "start_time": "2023-06-15T21:02:58.146Z"
      },
      {
        "duration": 12,
        "start_time": "2023-06-15T21:03:05.560Z"
      },
      {
        "duration": 11,
        "start_time": "2023-06-15T21:03:15.458Z"
      },
      {
        "duration": 4,
        "start_time": "2023-06-15T21:04:08.768Z"
      },
      {
        "duration": 13,
        "start_time": "2023-06-15T21:04:12.744Z"
      },
      {
        "duration": 10,
        "start_time": "2023-06-15T21:04:27.850Z"
      },
      {
        "duration": 10,
        "start_time": "2023-06-15T21:05:37.064Z"
      },
      {
        "duration": 31,
        "start_time": "2023-06-15T21:05:49.726Z"
      },
      {
        "duration": 14,
        "start_time": "2023-06-15T21:07:12.556Z"
      },
      {
        "duration": 12,
        "start_time": "2023-06-15T21:08:08.952Z"
      },
      {
        "duration": 16,
        "start_time": "2023-06-15T21:08:23.459Z"
      },
      {
        "duration": 24,
        "start_time": "2023-06-15T21:09:21.921Z"
      },
      {
        "duration": 13,
        "start_time": "2023-06-15T21:13:57.179Z"
      },
      {
        "duration": 25,
        "start_time": "2023-06-15T21:14:10.042Z"
      },
      {
        "duration": 99,
        "start_time": "2023-06-16T19:44:26.896Z"
      },
      {
        "duration": 629,
        "start_time": "2023-06-16T19:44:31.006Z"
      },
      {
        "duration": 661,
        "start_time": "2023-06-16T19:44:31.637Z"
      },
      {
        "duration": 20,
        "start_time": "2023-06-16T19:44:32.301Z"
      },
      {
        "duration": 32,
        "start_time": "2023-06-16T19:44:32.323Z"
      },
      {
        "duration": 15,
        "start_time": "2023-06-16T19:44:32.503Z"
      },
      {
        "duration": 30,
        "start_time": "2023-06-16T19:44:32.899Z"
      },
      {
        "duration": 13,
        "start_time": "2023-06-16T19:52:25.983Z"
      },
      {
        "duration": 4,
        "start_time": "2023-06-16T19:52:57.073Z"
      },
      {
        "duration": 9,
        "start_time": "2023-06-16T19:53:00.712Z"
      },
      {
        "duration": 6,
        "start_time": "2023-06-16T19:54:34.200Z"
      },
      {
        "duration": 57,
        "start_time": "2023-06-16T19:56:47.394Z"
      },
      {
        "duration": 11,
        "start_time": "2023-06-16T19:56:52.887Z"
      },
      {
        "duration": 577,
        "start_time": "2023-06-16T19:57:34.781Z"
      },
      {
        "duration": 130,
        "start_time": "2023-06-16T19:57:35.362Z"
      },
      {
        "duration": 38,
        "start_time": "2023-06-16T19:57:39.606Z"
      },
      {
        "duration": 24,
        "start_time": "2023-06-16T19:57:40.944Z"
      },
      {
        "duration": 12,
        "start_time": "2023-06-16T19:57:41.681Z"
      },
      {
        "duration": 17,
        "start_time": "2023-06-16T19:57:43.582Z"
      },
      {
        "duration": 15,
        "start_time": "2023-06-16T19:57:45.297Z"
      },
      {
        "duration": 6,
        "start_time": "2023-06-16T19:57:46.788Z"
      },
      {
        "duration": 0,
        "start_time": "2023-06-16T19:58:17.126Z"
      },
      {
        "duration": 21,
        "start_time": "2023-06-16T19:58:33.026Z"
      },
      {
        "duration": 178,
        "start_time": "2023-06-16T19:58:41.902Z"
      },
      {
        "duration": 13,
        "start_time": "2023-06-16T19:58:58.009Z"
      },
      {
        "duration": 159,
        "start_time": "2023-06-16T19:59:01.646Z"
      },
      {
        "duration": 202,
        "start_time": "2023-06-16T19:59:41.660Z"
      },
      {
        "duration": 640,
        "start_time": "2023-06-16T20:00:12.189Z"
      },
      {
        "duration": 223,
        "start_time": "2023-06-16T20:00:18.542Z"
      },
      {
        "duration": 223,
        "start_time": "2023-06-16T20:03:41.242Z"
      },
      {
        "duration": 248,
        "start_time": "2023-06-16T20:03:58.986Z"
      },
      {
        "duration": 239,
        "start_time": "2023-06-16T20:04:06.895Z"
      },
      {
        "duration": 200,
        "start_time": "2023-06-16T20:04:14.545Z"
      },
      {
        "duration": 261,
        "start_time": "2023-06-16T20:04:39.347Z"
      },
      {
        "duration": 168,
        "start_time": "2023-06-16T20:49:28.360Z"
      },
      {
        "duration": 176,
        "start_time": "2023-06-16T20:49:33.884Z"
      },
      {
        "duration": 191,
        "start_time": "2023-06-16T20:49:53.655Z"
      },
      {
        "duration": 219,
        "start_time": "2023-06-16T20:50:13.803Z"
      },
      {
        "duration": 265,
        "start_time": "2023-06-16T20:50:18.507Z"
      },
      {
        "duration": 2156,
        "start_time": "2023-06-16T20:51:39.414Z"
      },
      {
        "duration": 1977,
        "start_time": "2023-06-16T20:51:46.280Z"
      },
      {
        "duration": 2313,
        "start_time": "2023-06-16T20:52:23.187Z"
      },
      {
        "duration": 182,
        "start_time": "2023-06-16T20:52:48.008Z"
      },
      {
        "duration": 176,
        "start_time": "2023-06-16T20:53:03.275Z"
      },
      {
        "duration": 185,
        "start_time": "2023-06-16T20:53:45.963Z"
      },
      {
        "duration": 279,
        "start_time": "2023-06-16T20:54:11.297Z"
      },
      {
        "duration": 237,
        "start_time": "2023-06-16T20:56:12.741Z"
      },
      {
        "duration": 244,
        "start_time": "2023-06-16T20:56:31.453Z"
      },
      {
        "duration": 230,
        "start_time": "2023-06-16T20:57:11.089Z"
      },
      {
        "duration": 238,
        "start_time": "2023-06-16T20:57:44.845Z"
      },
      {
        "duration": 172,
        "start_time": "2023-06-16T20:58:06.736Z"
      },
      {
        "duration": 229,
        "start_time": "2023-06-16T20:58:10.070Z"
      },
      {
        "duration": 320,
        "start_time": "2023-06-16T20:58:31.642Z"
      },
      {
        "duration": 201,
        "start_time": "2023-06-16T20:58:53.042Z"
      },
      {
        "duration": 269,
        "start_time": "2023-06-16T20:58:59.894Z"
      },
      {
        "duration": 13,
        "start_time": "2023-06-16T21:00:20.011Z"
      },
      {
        "duration": 106,
        "start_time": "2023-06-16T21:00:51.339Z"
      },
      {
        "duration": 18,
        "start_time": "2023-06-16T21:01:22.216Z"
      },
      {
        "duration": 22,
        "start_time": "2023-06-16T21:01:27.641Z"
      },
      {
        "duration": 12,
        "start_time": "2023-06-16T21:01:43.796Z"
      },
      {
        "duration": 30,
        "start_time": "2023-06-16T21:01:50.447Z"
      },
      {
        "duration": 22,
        "start_time": "2023-06-16T21:01:57.042Z"
      },
      {
        "duration": 25,
        "start_time": "2023-06-16T21:02:11.544Z"
      },
      {
        "duration": 235,
        "start_time": "2023-06-16T21:04:21.960Z"
      },
      {
        "duration": 202,
        "start_time": "2023-06-16T21:04:30.302Z"
      },
      {
        "duration": 233,
        "start_time": "2023-06-16T21:04:45.426Z"
      },
      {
        "duration": 274,
        "start_time": "2023-06-16T21:04:50.897Z"
      },
      {
        "duration": 309,
        "start_time": "2023-06-16T21:04:58.796Z"
      },
      {
        "duration": 240,
        "start_time": "2023-06-16T21:05:05.743Z"
      },
      {
        "duration": 306,
        "start_time": "2023-06-16T21:06:09.290Z"
      },
      {
        "duration": 397,
        "start_time": "2023-06-16T21:06:47.791Z"
      },
      {
        "duration": 16,
        "start_time": "2023-06-16T21:10:04.394Z"
      },
      {
        "duration": 493,
        "start_time": "2023-06-16T21:21:38.498Z"
      },
      {
        "duration": 128,
        "start_time": "2023-06-16T21:21:38.994Z"
      },
      {
        "duration": 23,
        "start_time": "2023-06-16T21:21:40.062Z"
      },
      {
        "duration": 11,
        "start_time": "2023-06-16T21:21:40.682Z"
      },
      {
        "duration": 20,
        "start_time": "2023-06-16T21:21:41.336Z"
      },
      {
        "duration": 19,
        "start_time": "2023-06-16T21:21:41.959Z"
      },
      {
        "duration": 13,
        "start_time": "2023-06-16T21:21:42.572Z"
      },
      {
        "duration": 198,
        "start_time": "2023-06-16T21:21:42.904Z"
      },
      {
        "duration": 172,
        "start_time": "2023-06-16T21:21:43.237Z"
      },
      {
        "duration": 260,
        "start_time": "2023-06-16T21:21:43.505Z"
      },
      {
        "duration": 23,
        "start_time": "2023-06-16T21:21:43.868Z"
      },
      {
        "duration": 291,
        "start_time": "2023-06-16T21:21:44.247Z"
      },
      {
        "duration": 418,
        "start_time": "2023-06-16T21:21:44.545Z"
      },
      {
        "duration": 62,
        "start_time": "2023-06-16T21:21:45.142Z"
      },
      {
        "duration": 49,
        "start_time": "2023-06-16T21:22:48.630Z"
      },
      {
        "duration": 32,
        "start_time": "2023-06-16T21:23:18.162Z"
      },
      {
        "duration": 36,
        "start_time": "2023-06-16T21:23:25.067Z"
      },
      {
        "duration": 40,
        "start_time": "2023-06-16T21:23:50.370Z"
      },
      {
        "duration": 44,
        "start_time": "2023-06-16T21:24:33.935Z"
      },
      {
        "duration": 50,
        "start_time": "2023-06-16T21:24:46.132Z"
      },
      {
        "duration": 40,
        "start_time": "2023-06-16T21:25:29.062Z"
      },
      {
        "duration": 34,
        "start_time": "2023-06-16T21:25:49.860Z"
      },
      {
        "duration": 47,
        "start_time": "2023-06-16T21:26:04.110Z"
      },
      {
        "duration": 19,
        "start_time": "2023-06-16T21:29:19.747Z"
      },
      {
        "duration": 11,
        "start_time": "2023-06-16T21:30:16.259Z"
      },
      {
        "duration": 16,
        "start_time": "2023-06-16T21:30:59.603Z"
      },
      {
        "duration": 27,
        "start_time": "2023-06-16T21:31:46.040Z"
      },
      {
        "duration": 23,
        "start_time": "2023-06-16T21:31:59.686Z"
      },
      {
        "duration": 156,
        "start_time": "2023-06-16T21:32:21.209Z"
      },
      {
        "duration": 14,
        "start_time": "2023-06-16T21:32:51.577Z"
      },
      {
        "duration": 14,
        "start_time": "2023-06-16T21:32:59.482Z"
      },
      {
        "duration": 13,
        "start_time": "2023-06-16T21:33:27.993Z"
      },
      {
        "duration": 15,
        "start_time": "2023-06-16T21:33:29.628Z"
      },
      {
        "duration": 14,
        "start_time": "2023-06-16T21:33:59.580Z"
      },
      {
        "duration": 13,
        "start_time": "2023-06-16T21:34:18.428Z"
      },
      {
        "duration": 15,
        "start_time": "2023-06-16T21:34:20.266Z"
      },
      {
        "duration": 31,
        "start_time": "2023-06-16T21:34:43.346Z"
      },
      {
        "duration": 23,
        "start_time": "2023-06-16T21:34:57.074Z"
      },
      {
        "duration": 28,
        "start_time": "2023-06-16T21:35:50.742Z"
      },
      {
        "duration": 22,
        "start_time": "2023-06-16T21:35:55.861Z"
      },
      {
        "duration": 25,
        "start_time": "2023-06-16T21:36:04.852Z"
      },
      {
        "duration": 31,
        "start_time": "2023-06-16T21:36:15.500Z"
      },
      {
        "duration": 45,
        "start_time": "2023-06-16T21:38:14.809Z"
      },
      {
        "duration": 39,
        "start_time": "2023-06-16T21:38:33.871Z"
      },
      {
        "duration": 49,
        "start_time": "2023-06-16T21:38:41.397Z"
      },
      {
        "duration": 50,
        "start_time": "2023-06-16T21:39:19.690Z"
      },
      {
        "duration": 13,
        "start_time": "2023-06-16T21:44:22.573Z"
      },
      {
        "duration": 282,
        "start_time": "2023-06-16T21:44:42.786Z"
      },
      {
        "duration": 310,
        "start_time": "2023-06-16T21:45:01.243Z"
      },
      {
        "duration": 347,
        "start_time": "2023-06-16T21:45:19.568Z"
      },
      {
        "duration": 323,
        "start_time": "2023-06-16T21:45:23.863Z"
      },
      {
        "duration": 296,
        "start_time": "2023-06-16T21:49:52.972Z"
      },
      {
        "duration": 404,
        "start_time": "2023-06-16T21:50:00.094Z"
      },
      {
        "duration": 330,
        "start_time": "2023-06-16T21:50:31.453Z"
      },
      {
        "duration": 520,
        "start_time": "2023-06-16T21:51:56.210Z"
      },
      {
        "duration": 457,
        "start_time": "2023-06-16T21:53:43.683Z"
      },
      {
        "duration": 650,
        "start_time": "2023-06-16T21:53:58.699Z"
      },
      {
        "duration": 580,
        "start_time": "2023-06-16T21:54:17.576Z"
      },
      {
        "duration": 544,
        "start_time": "2023-06-16T21:54:31.697Z"
      },
      {
        "duration": 287,
        "start_time": "2023-06-16T21:55:28.194Z"
      },
      {
        "duration": 412,
        "start_time": "2023-06-16T21:55:35.236Z"
      },
      {
        "duration": 461,
        "start_time": "2023-06-16T21:56:13.000Z"
      },
      {
        "duration": 334,
        "start_time": "2023-06-16T21:56:27.933Z"
      },
      {
        "duration": 306,
        "start_time": "2023-06-16T21:56:38.881Z"
      },
      {
        "duration": 325,
        "start_time": "2023-06-16T21:57:25.081Z"
      },
      {
        "duration": 367,
        "start_time": "2023-06-16T21:58:36.877Z"
      },
      {
        "duration": 434,
        "start_time": "2023-06-16T21:59:02.048Z"
      },
      {
        "duration": 24,
        "start_time": "2023-06-16T22:07:26.743Z"
      },
      {
        "duration": 19,
        "start_time": "2023-06-16T22:08:44.416Z"
      },
      {
        "duration": 12,
        "start_time": "2023-06-16T22:09:32.780Z"
      },
      {
        "duration": 30,
        "start_time": "2023-06-16T22:09:44.546Z"
      },
      {
        "duration": 15,
        "start_time": "2023-06-16T22:10:08.172Z"
      },
      {
        "duration": 31,
        "start_time": "2023-06-16T22:12:56.973Z"
      },
      {
        "duration": 5,
        "start_time": "2023-06-16T22:18:01.788Z"
      },
      {
        "duration": 28,
        "start_time": "2023-06-16T22:20:50.210Z"
      },
      {
        "duration": 1392,
        "start_time": "2023-06-16T22:21:06.523Z"
      },
      {
        "duration": 1370,
        "start_time": "2023-06-16T22:21:41.024Z"
      },
      {
        "duration": 21,
        "start_time": "2023-06-16T22:22:17.388Z"
      },
      {
        "duration": 1502,
        "start_time": "2023-06-16T22:23:59.698Z"
      },
      {
        "duration": 1413,
        "start_time": "2023-06-16T22:24:48.217Z"
      },
      {
        "duration": 26,
        "start_time": "2023-06-16T22:24:58.694Z"
      },
      {
        "duration": 1405,
        "start_time": "2023-06-16T22:25:08.023Z"
      },
      {
        "duration": 1355,
        "start_time": "2023-06-16T22:25:17.444Z"
      },
      {
        "duration": 1413,
        "start_time": "2023-06-16T22:27:21.115Z"
      },
      {
        "duration": 1458,
        "start_time": "2023-06-16T22:27:30.162Z"
      },
      {
        "duration": 381,
        "start_time": "2023-06-16T22:27:53.705Z"
      },
      {
        "duration": 82,
        "start_time": "2023-06-16T22:29:33.325Z"
      },
      {
        "duration": 13,
        "start_time": "2023-06-16T22:29:47.865Z"
      },
      {
        "duration": 1552,
        "start_time": "2023-06-16T22:29:56.692Z"
      },
      {
        "duration": 388,
        "start_time": "2023-06-16T22:29:58.246Z"
      },
      {
        "duration": 24,
        "start_time": "2023-06-16T22:29:58.636Z"
      },
      {
        "duration": 27,
        "start_time": "2023-06-16T22:29:58.663Z"
      },
      {
        "duration": 32,
        "start_time": "2023-06-16T22:29:58.692Z"
      },
      {
        "duration": 37,
        "start_time": "2023-06-16T22:29:58.727Z"
      },
      {
        "duration": 21,
        "start_time": "2023-06-16T22:29:58.816Z"
      },
      {
        "duration": 277,
        "start_time": "2023-06-16T22:29:58.991Z"
      },
      {
        "duration": 222,
        "start_time": "2023-06-16T22:29:59.271Z"
      },
      {
        "duration": 283,
        "start_time": "2023-06-16T22:29:59.495Z"
      },
      {
        "duration": 43,
        "start_time": "2023-06-16T22:29:59.780Z"
      },
      {
        "duration": 322,
        "start_time": "2023-06-16T22:29:59.827Z"
      },
      {
        "duration": 322,
        "start_time": "2023-06-16T22:30:00.154Z"
      },
      {
        "duration": 62,
        "start_time": "2023-06-16T22:30:00.479Z"
      },
      {
        "duration": 121,
        "start_time": "2023-06-16T22:30:00.543Z"
      },
      {
        "duration": 36,
        "start_time": "2023-06-16T22:30:00.690Z"
      },
      {
        "duration": 430,
        "start_time": "2023-06-16T22:30:00.887Z"
      },
      {
        "duration": 469,
        "start_time": "2023-06-16T22:30:01.319Z"
      },
      {
        "duration": 47,
        "start_time": "2023-06-16T22:30:01.791Z"
      },
      {
        "duration": 32,
        "start_time": "2023-06-16T22:30:02.444Z"
      },
      {
        "duration": 32,
        "start_time": "2023-06-16T22:31:04.424Z"
      },
      {
        "duration": 27,
        "start_time": "2023-06-16T22:31:58.952Z"
      },
      {
        "duration": 580,
        "start_time": "2023-06-16T22:32:09.457Z"
      },
      {
        "duration": 57,
        "start_time": "2023-06-16T22:34:23.312Z"
      },
      {
        "duration": 30,
        "start_time": "2023-06-16T22:34:30.895Z"
      },
      {
        "duration": 1705,
        "start_time": "2023-06-16T22:36:21.997Z"
      },
      {
        "duration": 486,
        "start_time": "2023-06-16T22:36:23.712Z"
      },
      {
        "duration": 23,
        "start_time": "2023-06-16T22:36:24.202Z"
      },
      {
        "duration": 23,
        "start_time": "2023-06-16T22:36:24.228Z"
      },
      {
        "duration": 14,
        "start_time": "2023-06-16T22:36:24.259Z"
      },
      {
        "duration": 40,
        "start_time": "2023-06-16T22:36:24.277Z"
      },
      {
        "duration": 16,
        "start_time": "2023-06-16T22:36:24.321Z"
      },
      {
        "duration": 249,
        "start_time": "2023-06-16T22:36:24.340Z"
      },
      {
        "duration": 227,
        "start_time": "2023-06-16T22:36:24.599Z"
      },
      {
        "duration": 280,
        "start_time": "2023-06-16T22:36:24.828Z"
      },
      {
        "duration": 28,
        "start_time": "2023-06-16T22:36:25.111Z"
      },
      {
        "duration": 335,
        "start_time": "2023-06-16T22:36:25.142Z"
      },
      {
        "duration": 337,
        "start_time": "2023-06-16T22:36:25.480Z"
      },
      {
        "duration": 52,
        "start_time": "2023-06-16T22:36:25.820Z"
      },
      {
        "duration": 198,
        "start_time": "2023-06-16T22:36:25.875Z"
      },
      {
        "duration": 0,
        "start_time": "2023-06-16T22:36:26.079Z"
      },
      {
        "duration": 0,
        "start_time": "2023-06-16T22:36:26.081Z"
      },
      {
        "duration": 302,
        "start_time": "2023-06-16T22:36:26.248Z"
      },
      {
        "duration": 31,
        "start_time": "2023-06-16T22:36:26.816Z"
      },
      {
        "duration": 87,
        "start_time": "2023-06-16T22:36:43.215Z"
      },
      {
        "duration": 1876,
        "start_time": "2023-06-16T22:36:49.131Z"
      },
      {
        "duration": 556,
        "start_time": "2023-06-16T22:36:51.010Z"
      },
      {
        "duration": 22,
        "start_time": "2023-06-16T22:36:51.569Z"
      },
      {
        "duration": 43,
        "start_time": "2023-06-16T22:36:51.594Z"
      },
      {
        "duration": 15,
        "start_time": "2023-06-16T22:36:51.653Z"
      },
      {
        "duration": 27,
        "start_time": "2023-06-16T22:36:51.671Z"
      },
      {
        "duration": 30,
        "start_time": "2023-06-16T22:36:51.702Z"
      },
      {
        "duration": 248,
        "start_time": "2023-06-16T22:36:51.735Z"
      },
      {
        "duration": 221,
        "start_time": "2023-06-16T22:36:51.985Z"
      },
      {
        "duration": 296,
        "start_time": "2023-06-16T22:36:52.212Z"
      },
      {
        "duration": 49,
        "start_time": "2023-06-16T22:36:52.511Z"
      },
      {
        "duration": 297,
        "start_time": "2023-06-16T22:36:52.563Z"
      },
      {
        "duration": 326,
        "start_time": "2023-06-16T22:36:52.864Z"
      },
      {
        "duration": 58,
        "start_time": "2023-06-16T22:36:53.197Z"
      },
      {
        "duration": 146,
        "start_time": "2023-06-16T22:36:53.263Z"
      },
      {
        "duration": 0,
        "start_time": "2023-06-16T22:36:53.411Z"
      },
      {
        "duration": 0,
        "start_time": "2023-06-16T22:36:53.413Z"
      },
      {
        "duration": 0,
        "start_time": "2023-06-16T22:36:53.414Z"
      },
      {
        "duration": 56,
        "start_time": "2023-06-16T22:36:53.885Z"
      },
      {
        "duration": 109,
        "start_time": "2023-06-16T22:37:10.667Z"
      },
      {
        "duration": 9,
        "start_time": "2023-06-16T22:37:18.207Z"
      },
      {
        "duration": 1585,
        "start_time": "2023-06-16T22:37:23.500Z"
      },
      {
        "duration": 422,
        "start_time": "2023-06-16T22:37:25.089Z"
      },
      {
        "duration": 26,
        "start_time": "2023-06-16T22:37:27.278Z"
      },
      {
        "duration": 27,
        "start_time": "2023-06-16T22:37:28.172Z"
      },
      {
        "duration": 15,
        "start_time": "2023-06-16T22:37:28.964Z"
      },
      {
        "duration": 25,
        "start_time": "2023-06-16T22:37:29.698Z"
      },
      {
        "duration": 22,
        "start_time": "2023-06-16T22:37:30.407Z"
      },
      {
        "duration": 263,
        "start_time": "2023-06-16T22:37:30.835Z"
      },
      {
        "duration": 216,
        "start_time": "2023-06-16T22:37:31.206Z"
      },
      {
        "duration": 747,
        "start_time": "2023-06-16T22:37:31.693Z"
      },
      {
        "duration": 26,
        "start_time": "2023-06-16T22:37:32.442Z"
      },
      {
        "duration": 342,
        "start_time": "2023-06-16T22:37:32.469Z"
      },
      {
        "duration": 314,
        "start_time": "2023-06-16T22:37:32.816Z"
      },
      {
        "duration": 67,
        "start_time": "2023-06-16T22:37:33.137Z"
      },
      {
        "duration": 159,
        "start_time": "2023-06-16T22:37:33.217Z"
      },
      {
        "duration": 0,
        "start_time": "2023-06-16T22:37:33.379Z"
      },
      {
        "duration": 0,
        "start_time": "2023-06-16T22:37:33.380Z"
      },
      {
        "duration": 289,
        "start_time": "2023-06-16T22:37:33.545Z"
      },
      {
        "duration": 32,
        "start_time": "2023-06-16T22:37:34.064Z"
      },
      {
        "duration": 1362,
        "start_time": "2023-06-16T22:39:40.501Z"
      },
      {
        "duration": 420,
        "start_time": "2023-06-16T22:39:41.866Z"
      },
      {
        "duration": 19,
        "start_time": "2023-06-16T22:39:42.288Z"
      },
      {
        "duration": 57,
        "start_time": "2023-06-16T22:39:42.310Z"
      },
      {
        "duration": 13,
        "start_time": "2023-06-16T22:39:42.370Z"
      },
      {
        "duration": 33,
        "start_time": "2023-06-16T22:39:42.385Z"
      },
      {
        "duration": 18,
        "start_time": "2023-06-16T22:39:42.540Z"
      },
      {
        "duration": 267,
        "start_time": "2023-06-16T22:39:42.707Z"
      },
      {
        "duration": 224,
        "start_time": "2023-06-16T22:39:42.977Z"
      },
      {
        "duration": 273,
        "start_time": "2023-06-16T22:39:43.204Z"
      },
      {
        "duration": 44,
        "start_time": "2023-06-16T22:39:43.483Z"
      },
      {
        "duration": 293,
        "start_time": "2023-06-16T22:39:43.529Z"
      },
      {
        "duration": 310,
        "start_time": "2023-06-16T22:39:43.824Z"
      },
      {
        "duration": 47,
        "start_time": "2023-06-16T22:39:44.137Z"
      },
      {
        "duration": 196,
        "start_time": "2023-06-16T22:39:44.186Z"
      },
      {
        "duration": 0,
        "start_time": "2023-06-16T22:39:44.385Z"
      },
      {
        "duration": 219,
        "start_time": "2023-06-16T22:39:44.400Z"
      },
      {
        "duration": 216,
        "start_time": "2023-06-16T22:39:44.844Z"
      },
      {
        "duration": 83,
        "start_time": "2023-06-16T22:39:58.629Z"
      },
      {
        "duration": 1603,
        "start_time": "2023-06-16T22:40:06.887Z"
      },
      {
        "duration": 426,
        "start_time": "2023-06-16T22:40:08.493Z"
      },
      {
        "duration": 26,
        "start_time": "2023-06-16T22:40:08.923Z"
      },
      {
        "duration": 21,
        "start_time": "2023-06-16T22:40:08.953Z"
      },
      {
        "duration": 12,
        "start_time": "2023-06-16T22:40:08.976Z"
      },
      {
        "duration": 47,
        "start_time": "2023-06-16T22:40:08.991Z"
      },
      {
        "duration": 40,
        "start_time": "2023-06-16T22:40:09.039Z"
      },
      {
        "duration": 244,
        "start_time": "2023-06-16T22:40:09.139Z"
      },
      {
        "duration": 259,
        "start_time": "2023-06-16T22:40:09.386Z"
      },
      {
        "duration": 276,
        "start_time": "2023-06-16T22:40:09.656Z"
      },
      {
        "duration": 38,
        "start_time": "2023-06-16T22:40:09.941Z"
      },
      {
        "duration": 312,
        "start_time": "2023-06-16T22:40:09.981Z"
      },
      {
        "duration": 291,
        "start_time": "2023-06-16T22:40:10.296Z"
      },
      {
        "duration": 49,
        "start_time": "2023-06-16T22:40:10.590Z"
      },
      {
        "duration": 115,
        "start_time": "2023-06-16T22:40:10.645Z"
      },
      {
        "duration": 28,
        "start_time": "2023-06-16T22:40:10.837Z"
      },
      {
        "duration": 307,
        "start_time": "2023-06-16T22:40:11.034Z"
      },
      {
        "duration": 333,
        "start_time": "2023-06-16T22:40:11.343Z"
      },
      {
        "duration": 24,
        "start_time": "2023-06-16T22:40:12.032Z"
      },
      {
        "duration": 1512,
        "start_time": "2023-06-16T22:40:12.393Z"
      },
      {
        "duration": 152,
        "start_time": "2023-06-16T22:40:33.430Z"
      },
      {
        "duration": 1527,
        "start_time": "2023-06-18T20:52:23.451Z"
      },
      {
        "duration": 797,
        "start_time": "2023-06-18T20:52:24.981Z"
      },
      {
        "duration": 20,
        "start_time": "2023-06-18T20:52:25.780Z"
      },
      {
        "duration": 30,
        "start_time": "2023-06-18T20:52:25.802Z"
      },
      {
        "duration": 20,
        "start_time": "2023-06-18T20:52:25.837Z"
      },
      {
        "duration": 24,
        "start_time": "2023-06-18T20:52:25.893Z"
      },
      {
        "duration": 18,
        "start_time": "2023-06-18T20:52:26.251Z"
      },
      {
        "duration": 201,
        "start_time": "2023-06-18T20:52:26.444Z"
      },
      {
        "duration": 169,
        "start_time": "2023-06-18T20:52:26.650Z"
      },
      {
        "duration": 204,
        "start_time": "2023-06-18T20:52:26.823Z"
      },
      {
        "duration": 27,
        "start_time": "2023-06-18T20:52:27.029Z"
      },
      {
        "duration": 265,
        "start_time": "2023-06-18T20:52:27.199Z"
      },
      {
        "duration": 284,
        "start_time": "2023-06-18T20:52:27.467Z"
      },
      {
        "duration": 32,
        "start_time": "2023-06-18T20:52:27.757Z"
      },
      {
        "duration": 46,
        "start_time": "2023-06-18T20:52:27.931Z"
      },
      {
        "duration": 44,
        "start_time": "2023-06-18T20:52:28.136Z"
      },
      {
        "duration": 345,
        "start_time": "2023-06-18T20:52:28.279Z"
      },
      {
        "duration": 335,
        "start_time": "2023-06-18T20:52:28.626Z"
      },
      {
        "duration": 46,
        "start_time": "2023-06-18T20:52:29.004Z"
      },
      {
        "duration": 2137,
        "start_time": "2023-06-18T20:52:29.341Z"
      },
      {
        "duration": 106,
        "start_time": "2023-06-18T20:54:49.109Z"
      },
      {
        "duration": 1662,
        "start_time": "2023-06-18T20:54:54.103Z"
      },
      {
        "duration": 693,
        "start_time": "2023-06-18T20:54:55.768Z"
      },
      {
        "duration": 33,
        "start_time": "2023-06-18T20:54:56.463Z"
      },
      {
        "duration": 19,
        "start_time": "2023-06-18T20:54:56.500Z"
      },
      {
        "duration": 21,
        "start_time": "2023-06-18T20:54:56.521Z"
      },
      {
        "duration": 29,
        "start_time": "2023-06-18T20:54:56.550Z"
      },
      {
        "duration": 30,
        "start_time": "2023-06-18T20:54:56.584Z"
      },
      {
        "duration": 290,
        "start_time": "2023-06-18T20:54:56.616Z"
      },
      {
        "duration": 298,
        "start_time": "2023-06-18T20:54:56.908Z"
      },
      {
        "duration": 320,
        "start_time": "2023-06-18T20:54:57.209Z"
      },
      {
        "duration": 38,
        "start_time": "2023-06-18T20:54:57.533Z"
      },
      {
        "duration": 321,
        "start_time": "2023-06-18T20:54:57.577Z"
      },
      {
        "duration": 346,
        "start_time": "2023-06-18T20:54:57.904Z"
      },
      {
        "duration": 71,
        "start_time": "2023-06-18T20:54:58.260Z"
      },
      {
        "duration": 65,
        "start_time": "2023-06-18T20:54:58.343Z"
      },
      {
        "duration": 61,
        "start_time": "2023-06-18T20:54:58.412Z"
      },
      {
        "duration": 471,
        "start_time": "2023-06-18T20:54:58.480Z"
      },
      {
        "duration": 464,
        "start_time": "2023-06-18T20:54:58.957Z"
      },
      {
        "duration": 42,
        "start_time": "2023-06-18T20:54:59.428Z"
      },
      {
        "duration": 1257,
        "start_time": "2023-06-18T21:16:27.287Z"
      },
      {
        "duration": 539,
        "start_time": "2023-06-18T21:16:28.546Z"
      },
      {
        "duration": 20,
        "start_time": "2023-06-18T21:16:29.087Z"
      },
      {
        "duration": 38,
        "start_time": "2023-06-18T21:16:29.110Z"
      },
      {
        "duration": 13,
        "start_time": "2023-06-18T21:16:29.150Z"
      },
      {
        "duration": 16,
        "start_time": "2023-06-18T21:16:29.378Z"
      },
      {
        "duration": 22,
        "start_time": "2023-06-18T21:16:29.713Z"
      },
      {
        "duration": 242,
        "start_time": "2023-06-18T21:16:29.887Z"
      },
      {
        "duration": 199,
        "start_time": "2023-06-18T21:16:30.140Z"
      },
      {
        "duration": 218,
        "start_time": "2023-06-18T21:16:30.348Z"
      },
      {
        "duration": 23,
        "start_time": "2023-06-18T21:16:30.569Z"
      },
      {
        "duration": 355,
        "start_time": "2023-06-18T21:16:30.595Z"
      },
      {
        "duration": 230,
        "start_time": "2023-06-18T21:16:30.952Z"
      },
      {
        "duration": 63,
        "start_time": "2023-06-18T21:16:31.184Z"
      },
      {
        "duration": 27,
        "start_time": "2023-06-18T21:16:31.254Z"
      },
      {
        "duration": 30,
        "start_time": "2023-06-18T21:16:31.442Z"
      },
      {
        "duration": 317,
        "start_time": "2023-06-18T21:16:31.632Z"
      },
      {
        "duration": 335,
        "start_time": "2023-06-18T21:16:31.955Z"
      },
      {
        "duration": 1024,
        "start_time": "2023-06-18T21:16:32.343Z"
      },
      {
        "duration": 280,
        "start_time": "2023-06-18T21:16:33.370Z"
      },
      {
        "duration": 295,
        "start_time": "2023-06-18T21:18:41.941Z"
      },
      {
        "duration": 169,
        "start_time": "2023-06-18T21:18:50.131Z"
      },
      {
        "duration": 436,
        "start_time": "2023-06-18T21:21:35.839Z"
      },
      {
        "duration": 30,
        "start_time": "2023-06-18T21:23:04.581Z"
      },
      {
        "duration": 1877,
        "start_time": "2023-06-18T21:23:09.174Z"
      },
      {
        "duration": 193,
        "start_time": "2023-06-18T21:24:00.389Z"
      },
      {
        "duration": 257,
        "start_time": "2023-06-18T21:30:39.947Z"
      },
      {
        "duration": 228,
        "start_time": "2023-06-18T21:30:54.473Z"
      },
      {
        "duration": 27,
        "start_time": "2023-06-18T21:31:27.040Z"
      },
      {
        "duration": 1577,
        "start_time": "2023-06-18T21:31:42.496Z"
      },
      {
        "duration": 225,
        "start_time": "2023-06-18T21:32:02.205Z"
      },
      {
        "duration": 194,
        "start_time": "2023-06-18T21:37:44.853Z"
      },
      {
        "duration": 13,
        "start_time": "2023-06-18T21:46:43.295Z"
      },
      {
        "duration": 905,
        "start_time": "2023-06-18T21:47:09.619Z"
      },
      {
        "duration": 787,
        "start_time": "2023-06-18T21:48:09.742Z"
      },
      {
        "duration": 766,
        "start_time": "2023-06-18T21:48:28.942Z"
      },
      {
        "duration": 1633,
        "start_time": "2023-06-18T21:48:58.890Z"
      },
      {
        "duration": 15,
        "start_time": "2023-06-18T21:49:16.184Z"
      },
      {
        "duration": 1463,
        "start_time": "2023-06-18T21:49:34.038Z"
      },
      {
        "duration": 156,
        "start_time": "2023-06-19T09:13:24.030Z"
      },
      {
        "duration": 180,
        "start_time": "2023-06-19T09:13:28.198Z"
      },
      {
        "duration": 155,
        "start_time": "2023-06-19T09:14:35.306Z"
      },
      {
        "duration": 3,
        "start_time": "2023-06-19T09:14:46.301Z"
      },
      {
        "duration": 99,
        "start_time": "2023-06-19T09:14:46.541Z"
      },
      {
        "duration": 15,
        "start_time": "2023-06-19T09:14:47.093Z"
      },
      {
        "duration": 16,
        "start_time": "2023-06-19T09:14:47.413Z"
      },
      {
        "duration": 10,
        "start_time": "2023-06-19T09:14:47.771Z"
      },
      {
        "duration": 15,
        "start_time": "2023-06-19T09:14:48.094Z"
      },
      {
        "duration": 14,
        "start_time": "2023-06-19T09:14:48.435Z"
      },
      {
        "duration": 155,
        "start_time": "2023-06-19T09:14:48.595Z"
      },
      {
        "duration": 156,
        "start_time": "2023-06-19T09:14:48.773Z"
      },
      {
        "duration": 177,
        "start_time": "2023-06-19T09:14:48.955Z"
      },
      {
        "duration": 20,
        "start_time": "2023-06-19T09:14:49.135Z"
      },
      {
        "duration": 199,
        "start_time": "2023-06-19T09:14:49.293Z"
      },
      {
        "duration": 246,
        "start_time": "2023-06-19T09:14:49.494Z"
      },
      {
        "duration": 42,
        "start_time": "2023-06-19T09:14:49.810Z"
      },
      {
        "duration": 35,
        "start_time": "2023-06-19T09:14:49.994Z"
      },
      {
        "duration": 34,
        "start_time": "2023-06-19T09:14:50.142Z"
      },
      {
        "duration": 274,
        "start_time": "2023-06-19T09:14:50.321Z"
      },
      {
        "duration": 302,
        "start_time": "2023-06-19T09:14:50.598Z"
      },
      {
        "duration": 23,
        "start_time": "2023-06-19T09:14:51.528Z"
      },
      {
        "duration": 1560,
        "start_time": "2023-06-19T09:14:52.603Z"
      },
      {
        "duration": 1618,
        "start_time": "2023-06-19T09:15:03.571Z"
      },
      {
        "duration": 1564,
        "start_time": "2023-06-19T09:15:13.144Z"
      },
      {
        "duration": 1547,
        "start_time": "2023-06-19T09:15:25.733Z"
      },
      {
        "duration": 15,
        "start_time": "2023-06-19T09:15:36.872Z"
      },
      {
        "duration": 15,
        "start_time": "2023-06-19T09:16:00.841Z"
      },
      {
        "duration": 14,
        "start_time": "2023-06-19T09:16:31.498Z"
      },
      {
        "duration": 14,
        "start_time": "2023-06-19T09:17:04.359Z"
      },
      {
        "duration": 98,
        "start_time": "2023-06-19T09:18:28.306Z"
      },
      {
        "duration": 15,
        "start_time": "2023-06-19T09:18:34.535Z"
      },
      {
        "duration": 1605,
        "start_time": "2023-06-19T09:19:14.028Z"
      },
      {
        "duration": 1463,
        "start_time": "2023-06-19T09:19:41.329Z"
      },
      {
        "duration": 1719,
        "start_time": "2023-06-19T09:20:00.075Z"
      },
      {
        "duration": 6200,
        "start_time": "2023-06-19T09:20:30.097Z"
      },
      {
        "duration": 11369,
        "start_time": "2023-06-19T09:21:09.394Z"
      },
      {
        "duration": 30,
        "start_time": "2023-06-19T09:21:41.648Z"
      },
      {
        "duration": 1157,
        "start_time": "2023-06-19T09:22:38.230Z"
      },
      {
        "duration": 472,
        "start_time": "2023-06-19T09:22:39.389Z"
      },
      {
        "duration": 17,
        "start_time": "2023-06-19T09:22:39.864Z"
      },
      {
        "duration": 69,
        "start_time": "2023-06-19T09:22:39.884Z"
      },
      {
        "duration": 66,
        "start_time": "2023-06-19T09:22:39.955Z"
      },
      {
        "duration": 36,
        "start_time": "2023-06-19T09:22:40.024Z"
      },
      {
        "duration": 64,
        "start_time": "2023-06-19T09:22:40.131Z"
      },
      {
        "duration": 298,
        "start_time": "2023-06-19T09:22:40.300Z"
      },
      {
        "duration": 168,
        "start_time": "2023-06-19T09:22:40.600Z"
      },
      {
        "duration": 218,
        "start_time": "2023-06-19T09:22:40.771Z"
      },
      {
        "duration": 34,
        "start_time": "2023-06-19T09:22:40.991Z"
      },
      {
        "duration": 232,
        "start_time": "2023-06-19T09:22:41.027Z"
      },
      {
        "duration": 283,
        "start_time": "2023-06-19T09:22:41.262Z"
      },
      {
        "duration": 37,
        "start_time": "2023-06-19T09:22:41.547Z"
      },
      {
        "duration": 31,
        "start_time": "2023-06-19T09:22:41.695Z"
      },
      {
        "duration": 27,
        "start_time": "2023-06-19T09:22:41.873Z"
      },
      {
        "duration": 285,
        "start_time": "2023-06-19T09:22:42.054Z"
      },
      {
        "duration": 337,
        "start_time": "2023-06-19T09:22:42.341Z"
      },
      {
        "duration": 22,
        "start_time": "2023-06-19T09:22:42.838Z"
      },
      {
        "duration": 92,
        "start_time": "2023-06-19T09:23:44.632Z"
      },
      {
        "duration": 1116,
        "start_time": "2023-06-19T09:23:52.671Z"
      },
      {
        "duration": 407,
        "start_time": "2023-06-19T09:23:53.789Z"
      },
      {
        "duration": 16,
        "start_time": "2023-06-19T09:23:54.198Z"
      },
      {
        "duration": 24,
        "start_time": "2023-06-19T09:23:54.217Z"
      },
      {
        "duration": 11,
        "start_time": "2023-06-19T09:23:54.243Z"
      },
      {
        "duration": 17,
        "start_time": "2023-06-19T09:23:54.329Z"
      },
      {
        "duration": 13,
        "start_time": "2023-06-19T09:23:54.694Z"
      },
      {
        "duration": 179,
        "start_time": "2023-06-19T09:23:54.852Z"
      },
      {
        "duration": 160,
        "start_time": "2023-06-19T09:23:55.034Z"
      },
      {
        "duration": 199,
        "start_time": "2023-06-19T09:23:55.196Z"
      },
      {
        "duration": 30,
        "start_time": "2023-06-19T09:23:55.397Z"
      },
      {
        "duration": 215,
        "start_time": "2023-06-19T09:23:55.527Z"
      },
      {
        "duration": 215,
        "start_time": "2023-06-19T09:23:55.744Z"
      },
      {
        "duration": 33,
        "start_time": "2023-06-19T09:23:56.032Z"
      },
      {
        "duration": 32,
        "start_time": "2023-06-19T09:23:56.202Z"
      },
      {
        "duration": 26,
        "start_time": "2023-06-19T09:23:56.377Z"
      },
      {
        "duration": 294,
        "start_time": "2023-06-19T09:23:56.539Z"
      },
      {
        "duration": 300,
        "start_time": "2023-06-19T09:23:56.835Z"
      },
      {
        "duration": 27,
        "start_time": "2023-06-19T09:23:57.593Z"
      },
      {
        "duration": 10831,
        "start_time": "2023-06-19T09:23:58.476Z"
      },
      {
        "duration": 6,
        "start_time": "2023-06-19T09:28:46.042Z"
      },
      {
        "duration": 7,
        "start_time": "2023-06-19T09:29:07.228Z"
      },
      {
        "duration": 117,
        "start_time": "2023-06-19T09:29:49.885Z"
      },
      {
        "duration": 10,
        "start_time": "2023-06-19T09:32:22.707Z"
      },
      {
        "duration": 6,
        "start_time": "2023-06-19T09:33:11.374Z"
      },
      {
        "duration": 6,
        "start_time": "2023-06-19T09:33:16.279Z"
      },
      {
        "duration": 10,
        "start_time": "2023-06-19T09:36:06.308Z"
      },
      {
        "duration": 6,
        "start_time": "2023-06-19T09:36:28.935Z"
      },
      {
        "duration": 17,
        "start_time": "2023-06-19T09:37:12.610Z"
      },
      {
        "duration": 4,
        "start_time": "2023-06-19T09:37:25.579Z"
      },
      {
        "duration": 6,
        "start_time": "2023-06-19T09:37:34.827Z"
      },
      {
        "duration": 5,
        "start_time": "2023-06-19T09:37:38.961Z"
      },
      {
        "duration": 5,
        "start_time": "2023-06-19T09:38:54.128Z"
      },
      {
        "duration": 76,
        "start_time": "2023-06-19T09:40:32.187Z"
      },
      {
        "duration": 1536,
        "start_time": "2023-06-19T09:40:52.218Z"
      },
      {
        "duration": 1461,
        "start_time": "2023-06-19T09:41:36.755Z"
      },
      {
        "duration": 1355,
        "start_time": "2023-06-19T09:41:45.088Z"
      },
      {
        "duration": 1479,
        "start_time": "2023-06-19T09:41:57.220Z"
      },
      {
        "duration": 1983,
        "start_time": "2023-06-19T09:42:38.644Z"
      },
      {
        "duration": 209,
        "start_time": "2023-06-19T09:43:19.932Z"
      },
      {
        "duration": 219,
        "start_time": "2023-06-19T09:43:41.657Z"
      },
      {
        "duration": 239,
        "start_time": "2023-06-19T09:44:09.755Z"
      },
      {
        "duration": 264,
        "start_time": "2023-06-19T09:45:53.427Z"
      },
      {
        "duration": 237,
        "start_time": "2023-06-19T09:46:09.820Z"
      },
      {
        "duration": 223,
        "start_time": "2023-06-19T09:48:24.862Z"
      },
      {
        "duration": 24,
        "start_time": "2023-06-19T09:48:49.444Z"
      },
      {
        "duration": 81,
        "start_time": "2023-06-19T09:48:56.328Z"
      },
      {
        "duration": 215,
        "start_time": "2023-06-19T09:49:01.592Z"
      },
      {
        "duration": 249,
        "start_time": "2023-06-19T09:49:23.145Z"
      },
      {
        "duration": 24,
        "start_time": "2023-06-19T09:49:53.807Z"
      },
      {
        "duration": 229,
        "start_time": "2023-06-19T09:50:02.830Z"
      },
      {
        "duration": 226,
        "start_time": "2023-06-19T09:51:01.913Z"
      },
      {
        "duration": 199,
        "start_time": "2023-06-19T09:51:35.629Z"
      },
      {
        "duration": 211,
        "start_time": "2023-06-19T09:51:51.256Z"
      },
      {
        "duration": 201,
        "start_time": "2023-06-19T09:53:10.890Z"
      },
      {
        "duration": 206,
        "start_time": "2023-06-19T09:53:21.059Z"
      },
      {
        "duration": 222,
        "start_time": "2023-06-19T09:53:32.278Z"
      },
      {
        "duration": 211,
        "start_time": "2023-06-19T09:54:01.715Z"
      },
      {
        "duration": 205,
        "start_time": "2023-06-19T09:55:28.688Z"
      },
      {
        "duration": 278,
        "start_time": "2023-06-19T09:55:39.621Z"
      },
      {
        "duration": 220,
        "start_time": "2023-06-19T09:55:51.219Z"
      },
      {
        "duration": 231,
        "start_time": "2023-06-19T09:55:58.758Z"
      },
      {
        "duration": 205,
        "start_time": "2023-06-19T09:57:20.233Z"
      },
      {
        "duration": 220,
        "start_time": "2023-06-19T09:57:31.933Z"
      },
      {
        "duration": 229,
        "start_time": "2023-06-19T09:57:44.332Z"
      },
      {
        "duration": 12,
        "start_time": "2023-06-19T09:59:34.122Z"
      },
      {
        "duration": 21,
        "start_time": "2023-06-19T09:59:54.110Z"
      },
      {
        "duration": 9,
        "start_time": "2023-06-19T10:01:06.288Z"
      },
      {
        "duration": 20,
        "start_time": "2023-06-19T10:02:46.309Z"
      },
      {
        "duration": 100,
        "start_time": "2023-06-19T10:05:28.741Z"
      },
      {
        "duration": 3,
        "start_time": "2023-06-19T10:23:28.548Z"
      },
      {
        "duration": 154,
        "start_time": "2023-06-19T10:24:19.991Z"
      },
      {
        "duration": 108,
        "start_time": "2023-06-19T10:24:32.098Z"
      },
      {
        "duration": 12,
        "start_time": "2023-06-19T11:22:09.832Z"
      },
      {
        "duration": 18,
        "start_time": "2023-06-19T11:23:47.809Z"
      },
      {
        "duration": 1071,
        "start_time": "2023-06-19T12:06:54.762Z"
      },
      {
        "duration": 101,
        "start_time": "2023-06-19T12:06:55.834Z"
      },
      {
        "duration": 13,
        "start_time": "2023-06-19T12:06:55.937Z"
      },
      {
        "duration": 19,
        "start_time": "2023-06-19T12:06:55.952Z"
      },
      {
        "duration": 8,
        "start_time": "2023-06-19T12:06:55.973Z"
      },
      {
        "duration": 13,
        "start_time": "2023-06-19T12:06:55.982Z"
      },
      {
        "duration": 11,
        "start_time": "2023-06-19T12:06:55.997Z"
      },
      {
        "duration": 171,
        "start_time": "2023-06-19T12:06:56.009Z"
      },
      {
        "duration": 134,
        "start_time": "2023-06-19T12:06:56.182Z"
      },
      {
        "duration": 179,
        "start_time": "2023-06-19T12:06:56.318Z"
      },
      {
        "duration": 18,
        "start_time": "2023-06-19T12:06:56.498Z"
      },
      {
        "duration": 210,
        "start_time": "2023-06-19T12:06:56.518Z"
      },
      {
        "duration": 191,
        "start_time": "2023-06-19T12:06:56.730Z"
      },
      {
        "duration": 44,
        "start_time": "2023-06-19T12:06:56.923Z"
      },
      {
        "duration": 24,
        "start_time": "2023-06-19T12:06:56.968Z"
      },
      {
        "duration": 20,
        "start_time": "2023-06-19T12:06:56.994Z"
      },
      {
        "duration": 257,
        "start_time": "2023-06-19T12:06:57.015Z"
      },
      {
        "duration": 305,
        "start_time": "2023-06-19T12:06:57.273Z"
      },
      {
        "duration": 27,
        "start_time": "2023-06-19T12:06:57.580Z"
      },
      {
        "duration": 298,
        "start_time": "2023-06-19T12:06:57.609Z"
      },
      {
        "duration": 5,
        "start_time": "2023-06-19T12:06:57.908Z"
      },
      {
        "duration": 9,
        "start_time": "2023-06-19T12:06:57.915Z"
      },
      {
        "duration": 9,
        "start_time": "2023-06-19T12:06:57.925Z"
      },
      {
        "duration": 42,
        "start_time": "2023-06-19T12:36:48.093Z"
      },
      {
        "duration": 76,
        "start_time": "2023-06-19T12:36:51.893Z"
      },
      {
        "duration": 14,
        "start_time": "2023-06-19T12:37:14.088Z"
      },
      {
        "duration": 23,
        "start_time": "2023-06-19T12:37:22.375Z"
      },
      {
        "duration": 18,
        "start_time": "2023-06-19T12:37:27.815Z"
      },
      {
        "duration": 15,
        "start_time": "2023-06-19T12:37:35.144Z"
      },
      {
        "duration": 21,
        "start_time": "2023-06-19T12:37:37.902Z"
      },
      {
        "duration": 15,
        "start_time": "2023-06-19T12:37:38.385Z"
      },
      {
        "duration": 15,
        "start_time": "2023-06-19T12:37:38.960Z"
      },
      {
        "duration": 15,
        "start_time": "2023-06-19T12:40:56.638Z"
      },
      {
        "duration": 14,
        "start_time": "2023-06-19T12:41:05.825Z"
      },
      {
        "duration": 10,
        "start_time": "2023-06-19T12:42:10.335Z"
      },
      {
        "duration": 7,
        "start_time": "2023-06-19T12:42:17.438Z"
      },
      {
        "duration": 8,
        "start_time": "2023-06-19T12:42:39.705Z"
      },
      {
        "duration": 8,
        "start_time": "2023-06-19T12:43:03.768Z"
      },
      {
        "duration": 6,
        "start_time": "2023-06-19T12:43:22.481Z"
      },
      {
        "duration": 16,
        "start_time": "2023-06-19T12:43:39.646Z"
      },
      {
        "duration": 20,
        "start_time": "2023-06-19T12:43:58.493Z"
      },
      {
        "duration": 1313,
        "start_time": "2023-06-19T12:44:24.571Z"
      },
      {
        "duration": 89,
        "start_time": "2023-06-19T12:44:25.888Z"
      },
      {
        "duration": 22,
        "start_time": "2023-06-19T12:44:25.979Z"
      },
      {
        "duration": 35,
        "start_time": "2023-06-19T12:44:26.003Z"
      },
      {
        "duration": 14,
        "start_time": "2023-06-19T12:44:26.250Z"
      },
      {
        "duration": 19,
        "start_time": "2023-06-19T12:44:28.827Z"
      },
      {
        "duration": 19,
        "start_time": "2023-06-19T12:44:29.544Z"
      },
      {
        "duration": 6,
        "start_time": "2023-06-19T12:44:29.853Z"
      },
      {
        "duration": 12,
        "start_time": "2023-06-19T12:44:31.034Z"
      },
      {
        "duration": 14,
        "start_time": "2023-06-19T12:44:31.264Z"
      },
      {
        "duration": 27,
        "start_time": "2023-06-19T12:44:31.668Z"
      },
      {
        "duration": 10,
        "start_time": "2023-06-19T12:44:49.717Z"
      },
      {
        "duration": 8,
        "start_time": "2023-06-19T12:44:58.460Z"
      },
      {
        "duration": 228,
        "start_time": "2023-06-19T12:45:51.039Z"
      },
      {
        "duration": 186,
        "start_time": "2023-06-19T12:45:56.570Z"
      },
      {
        "duration": 191,
        "start_time": "2023-06-19T12:46:04.703Z"
      },
      {
        "duration": 159,
        "start_time": "2023-06-19T12:46:08.738Z"
      },
      {
        "duration": 166,
        "start_time": "2023-06-19T12:46:41.266Z"
      },
      {
        "duration": 199,
        "start_time": "2023-06-19T12:46:57.563Z"
      },
      {
        "duration": 158,
        "start_time": "2023-06-19T12:47:08.709Z"
      },
      {
        "duration": 472,
        "start_time": "2023-06-19T12:48:11.089Z"
      },
      {
        "duration": 11,
        "start_time": "2023-06-19T12:48:15.958Z"
      },
      {
        "duration": 52,
        "start_time": "2023-06-19T12:48:15.971Z"
      },
      {
        "duration": 6,
        "start_time": "2023-06-19T12:48:16.257Z"
      },
      {
        "duration": 7,
        "start_time": "2023-06-19T12:48:16.445Z"
      },
      {
        "duration": 18,
        "start_time": "2023-06-19T12:48:17.302Z"
      },
      {
        "duration": 285,
        "start_time": "2023-06-19T12:48:17.470Z"
      },
      {
        "duration": 199,
        "start_time": "2023-06-19T12:48:18.180Z"
      },
      {
        "duration": 232,
        "start_time": "2023-06-19T12:48:18.738Z"
      },
      {
        "duration": 21,
        "start_time": "2023-06-19T12:48:19.066Z"
      },
      {
        "duration": 258,
        "start_time": "2023-06-19T12:48:19.256Z"
      },
      {
        "duration": 1,
        "start_time": "2023-06-19T12:48:19.515Z"
      },
      {
        "duration": 51,
        "start_time": "2023-06-19T12:48:20.285Z"
      },
      {
        "duration": 26,
        "start_time": "2023-06-19T12:48:20.459Z"
      },
      {
        "duration": 32,
        "start_time": "2023-06-19T12:48:20.644Z"
      },
      {
        "duration": 307,
        "start_time": "2023-06-19T12:48:20.963Z"
      },
      {
        "duration": 364,
        "start_time": "2023-06-19T12:48:21.460Z"
      },
      {
        "duration": 24,
        "start_time": "2023-06-19T12:48:22.473Z"
      },
      {
        "duration": 296,
        "start_time": "2023-06-19T12:48:22.839Z"
      },
      {
        "duration": 9,
        "start_time": "2023-06-19T12:48:24.069Z"
      },
      {
        "duration": 6,
        "start_time": "2023-06-19T12:48:24.795Z"
      },
      {
        "duration": 10,
        "start_time": "2023-06-19T12:48:25.161Z"
      },
      {
        "duration": 374,
        "start_time": "2023-06-19T12:49:03.283Z"
      },
      {
        "duration": 472,
        "start_time": "2023-06-19T12:49:25.900Z"
      },
      {
        "duration": 280,
        "start_time": "2023-06-19T12:49:52.115Z"
      },
      {
        "duration": 182,
        "start_time": "2023-06-19T12:50:21.828Z"
      },
      {
        "duration": 317,
        "start_time": "2023-06-19T12:50:56.312Z"
      },
      {
        "duration": 315,
        "start_time": "2023-06-19T12:51:54.999Z"
      },
      {
        "duration": 1334,
        "start_time": "2023-06-19T22:09:24.636Z"
      },
      {
        "duration": 248,
        "start_time": "2023-06-19T22:09:25.977Z"
      },
      {
        "duration": 18,
        "start_time": "2023-06-19T22:09:26.227Z"
      },
      {
        "duration": 38,
        "start_time": "2023-06-19T22:09:26.247Z"
      },
      {
        "duration": 18,
        "start_time": "2023-06-19T22:09:26.287Z"
      },
      {
        "duration": 17,
        "start_time": "2023-06-19T22:09:29.687Z"
      },
      {
        "duration": 14,
        "start_time": "2023-06-19T22:09:30.297Z"
      },
      {
        "duration": 5,
        "start_time": "2023-06-19T22:09:30.783Z"
      },
      {
        "duration": 10,
        "start_time": "2023-06-19T22:09:32.202Z"
      },
      {
        "duration": 12,
        "start_time": "2023-06-19T22:09:32.589Z"
      },
      {
        "duration": 6,
        "start_time": "2023-06-19T22:09:33.330Z"
      },
      {
        "duration": 6,
        "start_time": "2023-06-19T22:09:33.687Z"
      },
      {
        "duration": 17,
        "start_time": "2023-06-19T22:09:36.286Z"
      },
      {
        "duration": 186,
        "start_time": "2023-06-19T22:09:39.727Z"
      },
      {
        "duration": 145,
        "start_time": "2023-06-19T22:09:40.882Z"
      },
      {
        "duration": 183,
        "start_time": "2023-06-19T22:09:41.492Z"
      },
      {
        "duration": 22,
        "start_time": "2023-06-19T22:09:41.726Z"
      },
      {
        "duration": 324,
        "start_time": "2023-06-19T22:09:41.807Z"
      },
      {
        "duration": 309,
        "start_time": "2023-06-19T22:09:42.133Z"
      },
      {
        "duration": 112,
        "start_time": "2023-06-19T22:14:06.690Z"
      },
      {
        "duration": 9,
        "start_time": "2023-06-19T22:14:30.238Z"
      },
      {
        "duration": 14,
        "start_time": "2023-06-19T22:15:23.435Z"
      },
      {
        "duration": 13,
        "start_time": "2023-06-19T22:19:14.690Z"
      },
      {
        "duration": 24,
        "start_time": "2023-06-19T22:19:47.593Z"
      },
      {
        "duration": 27,
        "start_time": "2023-06-19T22:19:56.280Z"
      },
      {
        "duration": 31,
        "start_time": "2023-06-19T22:20:21.190Z"
      },
      {
        "duration": 34,
        "start_time": "2023-06-19T22:20:35.460Z"
      },
      {
        "duration": 27,
        "start_time": "2023-06-19T22:20:47.426Z"
      },
      {
        "duration": 30,
        "start_time": "2023-06-19T22:21:13.787Z"
      },
      {
        "duration": 31,
        "start_time": "2023-06-19T22:21:15.880Z"
      },
      {
        "duration": 34,
        "start_time": "2023-06-19T22:21:39.848Z"
      },
      {
        "duration": 17,
        "start_time": "2023-06-19T22:22:48.613Z"
      },
      {
        "duration": 11,
        "start_time": "2023-06-19T22:22:59.789Z"
      },
      {
        "duration": 7,
        "start_time": "2023-06-19T22:23:09.213Z"
      },
      {
        "duration": 11,
        "start_time": "2023-06-19T22:23:20.146Z"
      },
      {
        "duration": 4,
        "start_time": "2023-06-19T22:23:36.084Z"
      },
      {
        "duration": 126,
        "start_time": "2023-06-19T22:24:38.314Z"
      },
      {
        "duration": 72,
        "start_time": "2023-06-19T22:24:48.432Z"
      },
      {
        "duration": 21,
        "start_time": "2023-06-19T22:24:57.001Z"
      },
      {
        "duration": 8,
        "start_time": "2023-06-19T22:25:17.333Z"
      },
      {
        "duration": 8,
        "start_time": "2023-06-19T22:25:25.230Z"
      },
      {
        "duration": 106,
        "start_time": "2023-06-19T22:25:57.416Z"
      },
      {
        "duration": 8,
        "start_time": "2023-06-19T22:26:04.697Z"
      },
      {
        "duration": 13,
        "start_time": "2023-06-19T22:29:41.014Z"
      },
      {
        "duration": 20,
        "start_time": "2023-06-19T22:29:46.681Z"
      },
      {
        "duration": 7,
        "start_time": "2023-06-19T22:29:55.109Z"
      },
      {
        "duration": 23,
        "start_time": "2023-06-19T22:29:55.447Z"
      },
      {
        "duration": 8,
        "start_time": "2023-06-19T22:29:55.806Z"
      },
      {
        "duration": 40,
        "start_time": "2023-06-19T22:29:56.149Z"
      },
      {
        "duration": 27,
        "start_time": "2023-06-19T22:29:56.512Z"
      },
      {
        "duration": 290,
        "start_time": "2023-06-19T22:29:57.273Z"
      },
      {
        "duration": 448,
        "start_time": "2023-06-19T22:29:58.348Z"
      },
      {
        "duration": 5,
        "start_time": "2023-06-19T22:31:39.924Z"
      },
      {
        "duration": 7,
        "start_time": "2023-06-19T22:31:49.478Z"
      },
      {
        "duration": 209,
        "start_time": "2023-06-19T22:32:00.396Z"
      },
      {
        "duration": 5,
        "start_time": "2023-06-19T22:32:06.944Z"
      },
      {
        "duration": 7,
        "start_time": "2023-06-19T22:32:08.219Z"
      },
      {
        "duration": 9,
        "start_time": "2023-06-19T22:32:09.024Z"
      },
      {
        "duration": 1093,
        "start_time": "2023-06-19T22:58:50.822Z"
      },
      {
        "duration": 288,
        "start_time": "2023-06-19T22:58:51.917Z"
      },
      {
        "duration": 16,
        "start_time": "2023-06-19T22:58:52.206Z"
      },
      {
        "duration": 12,
        "start_time": "2023-06-19T22:58:52.224Z"
      },
      {
        "duration": 10,
        "start_time": "2023-06-19T22:58:52.238Z"
      },
      {
        "duration": 24,
        "start_time": "2023-06-19T22:58:52.250Z"
      },
      {
        "duration": 12,
        "start_time": "2023-06-19T22:58:52.276Z"
      },
      {
        "duration": 8,
        "start_time": "2023-06-19T22:58:52.290Z"
      },
      {
        "duration": 9,
        "start_time": "2023-06-19T22:58:52.300Z"
      },
      {
        "duration": 10,
        "start_time": "2023-06-19T22:58:52.311Z"
      },
      {
        "duration": 33,
        "start_time": "2023-06-19T22:58:52.322Z"
      },
      {
        "duration": 8,
        "start_time": "2023-06-19T22:58:52.357Z"
      },
      {
        "duration": 14,
        "start_time": "2023-06-19T22:58:52.367Z"
      },
      {
        "duration": 183,
        "start_time": "2023-06-19T22:58:52.383Z"
      },
      {
        "duration": 145,
        "start_time": "2023-06-19T22:58:52.569Z"
      },
      {
        "duration": 182,
        "start_time": "2023-06-19T22:58:52.715Z"
      },
      {
        "duration": 18,
        "start_time": "2023-06-19T22:58:52.899Z"
      },
      {
        "duration": 297,
        "start_time": "2023-06-19T22:58:52.918Z"
      },
      {
        "duration": 304,
        "start_time": "2023-06-19T22:58:53.217Z"
      },
      {
        "duration": 6,
        "start_time": "2023-06-19T22:58:53.522Z"
      },
      {
        "duration": 29,
        "start_time": "2023-06-19T22:58:53.530Z"
      },
      {
        "duration": 11,
        "start_time": "2023-06-19T22:58:53.561Z"
      },
      {
        "duration": 27,
        "start_time": "2023-06-19T22:58:53.574Z"
      },
      {
        "duration": 22,
        "start_time": "2023-06-19T22:58:53.602Z"
      },
      {
        "duration": 250,
        "start_time": "2023-06-19T22:58:53.655Z"
      },
      {
        "duration": 321,
        "start_time": "2023-06-19T22:58:53.907Z"
      },
      {
        "duration": 31,
        "start_time": "2023-06-19T22:58:54.230Z"
      },
      {
        "duration": 7,
        "start_time": "2023-06-19T22:58:54.265Z"
      },
      {
        "duration": 215,
        "start_time": "2023-06-19T22:58:54.274Z"
      },
      {
        "duration": 6,
        "start_time": "2023-06-19T22:58:54.490Z"
      },
      {
        "duration": 6,
        "start_time": "2023-06-19T22:58:54.497Z"
      },
      {
        "duration": 9,
        "start_time": "2023-06-19T22:58:54.504Z"
      },
      {
        "duration": 5,
        "start_time": "2023-06-19T23:12:29.226Z"
      },
      {
        "duration": 1340,
        "start_time": "2023-06-24T12:49:17.943Z"
      },
      {
        "duration": 276,
        "start_time": "2023-06-24T12:49:19.285Z"
      },
      {
        "duration": 18,
        "start_time": "2023-06-24T12:49:19.563Z"
      },
      {
        "duration": 16,
        "start_time": "2023-06-24T12:49:19.583Z"
      },
      {
        "duration": 29,
        "start_time": "2023-06-24T12:49:19.601Z"
      },
      {
        "duration": 15,
        "start_time": "2023-06-24T12:49:23.447Z"
      },
      {
        "duration": 15,
        "start_time": "2023-06-24T12:49:23.957Z"
      },
      {
        "duration": 5,
        "start_time": "2023-06-24T12:49:24.534Z"
      },
      {
        "duration": 12,
        "start_time": "2023-06-24T12:49:27.401Z"
      },
      {
        "duration": 11,
        "start_time": "2023-06-24T12:49:28.206Z"
      },
      {
        "duration": 5,
        "start_time": "2023-06-24T12:49:29.645Z"
      },
      {
        "duration": 6,
        "start_time": "2023-06-24T12:49:30.042Z"
      },
      {
        "duration": 14,
        "start_time": "2023-06-24T12:49:32.222Z"
      }
    ],
    "toc": {
      "base_numbering": 1,
      "nav_menu": {},
      "number_sections": true,
      "sideBar": true,
      "skip_h1_title": true,
      "title_cell": "Table of Contents",
      "title_sidebar": "Contents",
      "toc_cell": false,
      "toc_position": {},
      "toc_section_display": true,
      "toc_window_display": true
    },
    "kernelspec": {
      "name": "python",
      "display_name": "Python (Pyodide)",
      "language": "python"
    },
    "language_info": {
      "codemirror_mode": {
        "name": "python",
        "version": 3
      },
      "file_extension": ".py",
      "mimetype": "text/x-python",
      "name": "python",
      "nbconvert_exporter": "python",
      "pygments_lexer": "ipython3",
      "version": "3.8"
    }
  },
  "nbformat_minor": 5,
  "nbformat": 4,
  "cells": [
    {
      "cell_type": "markdown",
      "source": "# Описание проекта\nВы аналитик популярного сервиса аренды самокатов GoFast. Вам передали данные о некоторых пользователях из нескольких городов, а также об их поездках. Проанализируйте данные и проверьте некоторые гипотезы, которые могут помочь бизнесу вырасти.\n\nЧтобы совершать поездки по городу, пользователи сервиса GoFast пользуются мобильным приложением. Сервисом можно пользоваться:\nбез подписки\n\n1. абонентская плата отсутствует: \n<p> стоимость одной минуты поездки — 8 рублей;\n<p> стоимость старта (начала поездки) — 50 рублей;\n<p>\n2. с подпиской Ultra: \n<p> абонентская плата — 199 рублей в месяц;\n<p> стоимость одной минуты поездки — 6 рублей;\n<p> стоимость старта — бесплатно.",
      "metadata": {},
      "id": "e9ee3930"
    },
    {
      "cell_type": "markdown",
      "source": "**Пользователи — users_go.csv**\n<p> \nuser_id — уникальный идентификатор пользователя\n<p> \nname — имя пользователя\n<p> \nage\t— возраст\n<p> \ncity — город\n<p> \nsubscription_type - тип подписки (free, ultra)",
      "metadata": {},
      "id": "5c2abcf8"
    },
    {
      "cell_type": "markdown",
      "source": "**Поездки — rides_go.csv**\n<p>user_id\t— уникальный идентификатор пользователя\n<p>distance — расстояние, которое пользователь проехал в текущей сессии (в метрах)\n<p>duration — продолжительность сессии (в минутах) — время с того момента, как пользователь нажал кнопку «Начать поездку» до момента, как он нажал кнопку «Завершить поездку»\n<p>date — дата совершения поездки",
      "metadata": {},
      "id": "786b15c2"
    },
    {
      "cell_type": "markdown",
      "source": "**Подписки — subscriptions_go.csv**\n<p>subscription_type — тип подписки\n<p>minute_price — стоимость одной минуты поездки по данной подписке\n<p>start_ride_price — стоимость начала поездки\n<p>subscription_fee — стоимость ежемесячного платежа",
      "metadata": {},
      "id": "c7c1f5cf"
    },
    {
      "cell_type": "markdown",
      "source": "**Цель исследования:** Анализ данных о пользователях и их поездках в сервисе аренды самокатов GoFast с целью выявления закономерностей и проверки гипотез, которые могут помочь бизнесу увеличить доходы.",
      "metadata": {},
      "id": "fb652f41"
    },
    {
      "cell_type": "markdown",
      "source": "**Ход исследования:**\n\n**1. Импортирование данных:**\nЗагрузка данных о пользователях, поездках и подписках в соответствующие датафреймы.\n\n**2. Предварительный анализ данных:**\nПроверка размерности данных, типов данных и наличия пропущенных значений.\n\n**3. Исследование:**\n\n1. Анализ частоты встречаемости городов.\n2. Визуализация информации о городах для получения общего представления.\n3. Исследование подписок: Определение соотношения пользователей с подпиской и без подписки. Анализ и сравнение данных пользователей с разными типами подписок.\n4. Анализ возраста пользователей: Определение распределения возрастов пользователей.\n\n**4. Анализ пользователей:** \n1. Анализ расстояния: Оценка распределения преодоленных расстояний пользователями. Сравнение расстояний для разных типов подписок.\n2. Анализ продолжительности поездок: Изучение распределения продолжительности поездок. Сравнение продолжительности поездок для разных типов подписок.\n\n**5. Анализ поездок:**\n Расчет и анализ выручки: Объединение данных о пользователях, поездках и подписках в один датафрейм. Расчет помесячной выручки, принесенной каждым пользователем, с учетом условий оплаты для подписчиков и без подписки.\n\n**6. Проверка гипотез**",
      "metadata": {},
      "id": "0eba0975"
    },
    {
      "cell_type": "markdown",
      "source": "# Шаг 1. Загрузка данных",
      "metadata": {},
      "id": "e153832a"
    },
    {
      "cell_type": "code",
      "source": "#Загружаем библиотеки.\nimport pandas as pd\nimport matplotlib.pyplot as plt\nimport numpy as np\nfrom scipy import stats as st",
      "metadata": {},
      "execution_count": 1,
      "outputs": [],
      "id": "c9d89755"
    },
    {
      "cell_type": "code",
      "source": "#Записымываем CSV-файлы в датафреймы и выводим информацию о каждом датасете.\nusers_df = pd.read_csv('/datasets/users_go.csv')\nrides_df = pd.read_csv('/datasets/rides_go.csv')\nsubscriptions_df = pd.read_csv('/datasets/subscriptions_go.csv')",
      "metadata": {},
      "execution_count": 2,
      "outputs": [],
      "id": "37fa8d97"
    },
    {
      "cell_type": "code",
      "source": "print('Первый пять строк из CSV-файла users_go:')\nprint(users_df.head())\nprint('\\nИнформация о CSV-файле users_go:')\nprint(users_df.info())",
      "metadata": {},
      "execution_count": 3,
      "outputs": [
        {
          "name": "stdout",
          "output_type": "stream",
          "text": "Первый пять строк из CSV-файла users_go:\n\n   user_id        name  age            city subscription_type\n\n0        1        Кира   22          Тюмень             ultra\n\n1        2   Станислав   31            Омск             ultra\n\n2        3     Алексей   20          Москва             ultra\n\n3        4  Константин   26  Ростов-на-Дону             ultra\n\n4        5       Адель   28            Омск             ultra\n\n\n\nИнформация о CSV-файле users_go:\n\n<class 'pandas.core.frame.DataFrame'>\n\nRangeIndex: 1565 entries, 0 to 1564\n\nData columns (total 5 columns):\n\n #   Column             Non-Null Count  Dtype \n\n---  ------             --------------  ----- \n\n 0   user_id            1565 non-null   int64 \n\n 1   name               1565 non-null   object\n\n 2   age                1565 non-null   int64 \n\n 3   city               1565 non-null   object\n\n 4   subscription_type  1565 non-null   object\n\ndtypes: int64(2), object(3)\n\nmemory usage: 61.3+ KB\n\nNone\n"
        }
      ],
      "id": "d61a9773"
    },
    {
      "cell_type": "code",
      "source": "print('\\nПервый пять строк из CSV-файла rides_go:')\nprint(rides_df.head())\nprint('\\nИнформация о CSV-файле rides_go:')\nprint(rides_df.info())",
      "metadata": {},
      "execution_count": 4,
      "outputs": [
        {
          "name": "stdout",
          "output_type": "stream",
          "text": "\n\nПервый пять строк из CSV-файла rides_go:\n\n   user_id     distance   duration        date\n\n0        1  4409.919140  25.599769  2021-01-01\n\n1        1  2617.592153  15.816871  2021-01-18\n\n2        1   754.159807   6.232113  2021-04-20\n\n3        1  2694.783254  18.511000  2021-08-11\n\n4        1  4028.687306  26.265803  2021-08-28\n\n\n\nИнформация о CSV-файле rides_go:\n\n<class 'pandas.core.frame.DataFrame'>\n\nRangeIndex: 18068 entries, 0 to 18067\n\nData columns (total 4 columns):\n\n #   Column    Non-Null Count  Dtype  \n\n---  ------    --------------  -----  \n\n 0   user_id   18068 non-null  int64  \n\n 1   distance  18068 non-null  float64\n\n 2   duration  18068 non-null  float64\n\n 3   date      18068 non-null  object \n\ndtypes: float64(2), int64(1), object(1)\n\nmemory usage: 564.8+ KB\n\nNone\n"
        }
      ],
      "id": "5711cfc6"
    },
    {
      "cell_type": "code",
      "source": "print('\\nПервый пять строк из CSV-файла subscriptions_go:')\nprint(subscriptions_df.head())\nprint('\\nИнформация о CSV-файле subscriptions_go:')\nprint(subscriptions_df.info())",
      "metadata": {},
      "execution_count": 5,
      "outputs": [
        {
          "name": "stdout",
          "output_type": "stream",
          "text": "\n\nПервый пять строк из CSV-файла subscriptions_go:\n\n  subscription_type  minute_price  start_ride_price  subscription_fee\n\n0              free             8                50                 0\n\n1             ultra             6                 0               199\n\n\n\nИнформация о CSV-файле subscriptions_go:\n\n<class 'pandas.core.frame.DataFrame'>\n\nRangeIndex: 2 entries, 0 to 1\n\nData columns (total 4 columns):\n\n #   Column             Non-Null Count  Dtype \n\n---  ------             --------------  ----- \n\n 0   subscription_type  2 non-null      object\n\n 1   minute_price       2 non-null      int64 \n\n 2   start_ride_price   2 non-null      int64 \n\n 3   subscription_fee   2 non-null      int64 \n\ndtypes: int64(3), object(1)\n\nmemory usage: 192.0+ bytes\n\nNone\n"
        }
      ],
      "id": "eba38861"
    },
    {
      "cell_type": "markdown",
      "source": "**1. Таблица users_go:**\n<p> Cостоит из 1565 строк.",
      "metadata": {},
      "id": "6aac2f82"
    },
    {
      "cell_type": "markdown",
      "source": "**2. Таблица rides_go:**\n<p> Cостоит из 18068 строк.\n<p>   Столбцу date нужно изменить тип данных",
      "metadata": {},
      "id": "adff0763"
    },
    {
      "cell_type": "markdown",
      "source": "**3. Таблица subscriptions_go:**\n<p> Cостоит из 2 строк.",
      "metadata": {},
      "id": "3a99e1f0"
    },
    {
      "cell_type": "markdown",
      "source": "# Шаг 2. Предобработка данных",
      "metadata": {},
      "id": "e95ebca7"
    },
    {
      "cell_type": "markdown",
      "source": "1. Приведем столбец date к типу даты pandas.",
      "metadata": {},
      "id": "7afb09ae"
    },
    {
      "cell_type": "code",
      "source": "#Преобразовываем тип данных object в столбце date в формат данных date.\nrides_df['date'] = pd.to_datetime(rides_df['date'])\n#Проверим\nrides_df.info()",
      "metadata": {},
      "execution_count": 6,
      "outputs": [
        {
          "name": "stdout",
          "output_type": "stream",
          "text": "<class 'pandas.core.frame.DataFrame'>\n\nRangeIndex: 18068 entries, 0 to 18067\n\nData columns (total 4 columns):\n\n #   Column    Non-Null Count  Dtype         \n\n---  ------    --------------  -----         \n\n 0   user_id   18068 non-null  int64         \n\n 1   distance  18068 non-null  float64       \n\n 2   duration  18068 non-null  float64       \n\n 3   date      18068 non-null  datetime64[ns]\n\ndtypes: datetime64[ns](1), float64(2), int64(1)\n\nmemory usage: 564.8 KB\n"
        }
      ],
      "id": "7030b944"
    },
    {
      "cell_type": "markdown",
      "source": "2. Создаем новый столбец с номером месяца на основе столбца date.",
      "metadata": {},
      "id": "e05dd81f"
    },
    {
      "cell_type": "code",
      "source": "#Создаем новый столбец с номером месяца.\nrides_df['month'] = rides_df['date'].dt.month\n#Проверим\nrides_df.head()",
      "metadata": {},
      "execution_count": 7,
      "outputs": [
        {
          "execution_count": 7,
          "output_type": "execute_result",
          "data": {
            "text/html": [
              "<div>\n",
              "<style scoped>\n",
              "    .dataframe tbody tr th:only-of-type {\n",
              "        vertical-align: middle;\n",
              "    }\n",
              "\n",
              "    .dataframe tbody tr th {\n",
              "        vertical-align: top;\n",
              "    }\n",
              "\n",
              "    .dataframe thead th {\n",
              "        text-align: right;\n",
              "    }\n",
              "</style>\n",
              "<table border=\"1\" class=\"dataframe\">\n",
              "  <thead>\n",
              "    <tr style=\"text-align: right;\">\n",
              "      <th></th>\n",
              "      <th>user_id</th>\n",
              "      <th>distance</th>\n",
              "      <th>duration</th>\n",
              "      <th>date</th>\n",
              "      <th>month</th>\n",
              "    </tr>\n",
              "  </thead>\n",
              "  <tbody>\n",
              "    <tr>\n",
              "      <th>0</th>\n",
              "      <td>1</td>\n",
              "      <td>4409.919140</td>\n",
              "      <td>25.599769</td>\n",
              "      <td>2021-01-01</td>\n",
              "      <td>1</td>\n",
              "    </tr>\n",
              "    <tr>\n",
              "      <th>1</th>\n",
              "      <td>1</td>\n",
              "      <td>2617.592153</td>\n",
              "      <td>15.816871</td>\n",
              "      <td>2021-01-18</td>\n",
              "      <td>1</td>\n",
              "    </tr>\n",
              "    <tr>\n",
              "      <th>2</th>\n",
              "      <td>1</td>\n",
              "      <td>754.159807</td>\n",
              "      <td>6.232113</td>\n",
              "      <td>2021-04-20</td>\n",
              "      <td>4</td>\n",
              "    </tr>\n",
              "    <tr>\n",
              "      <th>3</th>\n",
              "      <td>1</td>\n",
              "      <td>2694.783254</td>\n",
              "      <td>18.511000</td>\n",
              "      <td>2021-08-11</td>\n",
              "      <td>8</td>\n",
              "    </tr>\n",
              "    <tr>\n",
              "      <th>4</th>\n",
              "      <td>1</td>\n",
              "      <td>4028.687306</td>\n",
              "      <td>26.265803</td>\n",
              "      <td>2021-08-28</td>\n",
              "      <td>8</td>\n",
              "    </tr>\n",
              "  </tbody>\n",
              "</table>\n",
              "</div>"
            ],
            "text/plain": [
              "   user_id     distance   duration       date  month\n",
              "0        1  4409.919140  25.599769 2021-01-01      1\n",
              "1        1  2617.592153  15.816871 2021-01-18      1\n",
              "2        1   754.159807   6.232113 2021-04-20      4\n",
              "3        1  2694.783254  18.511000 2021-08-11      8\n",
              "4        1  4028.687306  26.265803 2021-08-28      8"
            ]
          },
          "metadata": {}
        }
      ],
      "id": "c6c3ca29"
    },
    {
      "cell_type": "code",
      "source": "print('Период данных от', rides_df['date'].min(), 'до', rides_df['date'].max())",
      "metadata": {},
      "execution_count": 8,
      "outputs": [
        {
          "name": "stdout",
          "output_type": "stream",
          "text": "Период данных от 2021-01-01 00:00:00 до 2021-12-30 00:00:00\n"
        }
      ],
      "id": "082d05b7"
    },
    {
      "cell_type": "markdown",
      "source": "3. Проверяем на наличие пропущенных значенийв датафреймах.",
      "metadata": {},
      "id": "e04eef89"
    },
    {
      "cell_type": "code",
      "source": "#Проверяем количество пропущенных значений в users_df.\nprint('Количество пропущенных значений в users_go:\\n', users_df.isna().sum())\n#Проверяем количество пропущенных значений в rides_df.\nprint('Количество пропущенных значений в rides_go:\\n', rides_df.isna().sum())\n#Проверяем количество пропущенных значений в subscriptions_go.\nprint('Количество пропущенных значений в subscriptions_go:\\n', subscriptions_df.isna().sum())",
      "metadata": {},
      "execution_count": 9,
      "outputs": [
        {
          "name": "stdout",
          "output_type": "stream",
          "text": "Количество пропущенных значений в users_go:\n\n user_id              0\n\nname                 0\n\nage                  0\n\ncity                 0\n\nsubscription_type    0\n\ndtype: int64\n\nКоличество пропущенных значений в rides_go:\n\n user_id     0\n\ndistance    0\n\nduration    0\n\ndate        0\n\nmonth       0\n\ndtype: int64\n\nКоличество пропущенных значений в subscriptions_go:\n\n subscription_type    0\n\nminute_price         0\n\nstart_ride_price     0\n\nsubscription_fee     0\n\ndtype: int64\n"
        }
      ],
      "id": "19e7dc28"
    },
    {
      "cell_type": "code",
      "source": "print('Дубликатов в users_df:', users_df.duplicated().sum())\nprint('Дубликатов в rides_df:', rides_df.duplicated().sum())\nprint('Дубликатов в subscriptions_df:', subscriptions_df.duplicated().sum())",
      "metadata": {},
      "execution_count": 10,
      "outputs": [
        {
          "name": "stdout",
          "output_type": "stream",
          "text": "Дубликатов в users_df: 31\n\nДубликатов в rides_df: 0\n\nДубликатов в subscriptions_df: 0\n"
        }
      ],
      "id": "40654391"
    },
    {
      "cell_type": "markdown",
      "source": "Удаляем дубликаты в датафрейме.",
      "metadata": {},
      "id": "c097eef3"
    },
    {
      "cell_type": "code",
      "source": "#Удаляем дубликаты для users_df.\nusers_df = users_df.drop_duplicates()",
      "metadata": {},
      "execution_count": 11,
      "outputs": [],
      "id": "90781ba0"
    },
    {
      "cell_type": "code",
      "source": "#Проверка\nprint('Дубликатов в users_df:', users_df.duplicated().sum())",
      "metadata": {},
      "execution_count": 12,
      "outputs": [
        {
          "name": "stdout",
          "output_type": "stream",
          "text": "Дубликатов в users_df: 0\n"
        }
      ],
      "id": "6e21c790"
    },
    {
      "cell_type": "markdown",
      "source": "1. Поменял тип данных у столбца date.\n2. Создали новый столбец с номером месяца.\n3. Проверили и удалили дубликаты во всех датафреймах.",
      "metadata": {},
      "id": "5260609f"
    },
    {
      "cell_type": "markdown",
      "source": "# Шаг 3. Исследовательский анализ данных",
      "metadata": {},
      "id": "212593c7"
    },
    {
      "cell_type": "code",
      "source": "#Описание общей информации о пользователях.\nprint(\"Общая информация о пользователях:\")\nprint(users_df.describe())",
      "metadata": {},
      "execution_count": 13,
      "outputs": [
        {
          "name": "stdout",
          "output_type": "stream",
          "text": "Общая информация о пользователях:\n\n           user_id          age\n\ncount  1534.000000  1534.000000\n\nmean    767.500000    24.903520\n\nstd     442.971971     4.572367\n\nmin       1.000000    12.000000\n\n25%     384.250000    22.000000\n\n50%     767.500000    25.000000\n\n75%    1150.750000    28.000000\n\nmax    1534.000000    43.000000\n"
        }
      ],
      "id": "ed5783fb"
    },
    {
      "cell_type": "code",
      "source": "#Частота встречаемости городов пользователей.\ncity_counts = users_df['city'].value_counts().sort_values(ascending=False)\n\n#Визуализация частоты встречаемости городов пользователей.\ncity_counts.plot(rot=45, kind='bar', title='Частота встречаемости городов пользователей', figsize=(6, 6))\nplt.xlabel('Город')\nplt.ylabel('Частота')\nplt.show()",
      "metadata": {},
      "execution_count": 14,
      "outputs": [
        {
          "output_type": "display_data",
          "data": {
            "image/png": "[encoded data removed]",
            "text/plain": [
              "<Figure size 432x432 with 1 Axes>"
            ]
          },
          "metadata": {
            "needs_background": "light"
          }
        }
      ],
      "id": "bb7d48fd"
    },
    {
      "cell_type": "markdown",
      "source": "Больше всего пользователей из Пятигорска, а наименьшей частотой встречаемости городов пользователей обладает Москва.",
      "metadata": {},
      "id": "d1744d11"
    },
    {
      "cell_type": "code",
      "source": "#Соотношение пользователей с подпиской и без подписки.\nsubscription_counts = users_df['subscription_type'].value_counts()\n\n#Визуализация частоты встречаемости городов пользователей.\nsubscription_counts.plot(kind='pie', autopct='%1.1f%%', title='Соотношение пользователей с подпиской и без подписки', figsize=(6, 6))\nplt.legend()\nplt.show()",
      "metadata": {},
      "execution_count": 15,
      "outputs": [
        {
          "output_type": "display_data",
          "data": {
            "image/png": "[encoded data removed]",
            "text/plain": [
              "<Figure size 432x432 with 1 Axes>"
            ]
          },
          "metadata": {}
        }
      ],
      "id": "042ec1b8"
    },
    {
      "cell_type": "markdown",
      "source": "Без подписки 54.4% пользователей, а с подпиской \"ultra\" 45.6%.",
      "metadata": {},
      "id": "4edcb513"
    },
    {
      "cell_type": "code",
      "source": "#Возраст пользователей.\nusers_df['age'].plot(kind='hist', bins=30, grid=True, title='Возраста пользователей')\nplt.xlabel('Возраст')\nplt.ylabel('Количество пользователей')\nplt.show()",
      "metadata": {},
      "execution_count": 16,
      "outputs": [
        {
          "output_type": "display_data",
          "data": {
            "image/png": "[encoded data removed]",
            "text/plain": [
              "<Figure size 432x288 with 1 Axes>"
            ]
          },
          "metadata": {
            "needs_background": "light"
          }
        }
      ],
      "id": "d9f8b25b"
    },
    {
      "cell_type": "code",
      "source": "#Описание общей информации о поездках.\nprint('Общая информации о поездках:\\n', rides_df.describe())",
      "metadata": {},
      "execution_count": 17,
      "outputs": [
        {
          "name": "stdout",
          "output_type": "stream",
          "text": "Общая информации о поездках:\n\n             user_id      distance      duration         month\n\ncount  18068.000000  18068.000000  18068.000000  18068.000000\n\nmean     842.869936   3070.659976     17.805011      6.486772\n\nstd      434.734317   1116.831209      6.091051      3.437410\n\nmin        1.000000      0.855683      0.500000      1.000000\n\n25%      487.000000   2543.226360     13.597563      4.000000\n\n50%      889.000000   3133.609994     17.678395      6.000000\n\n75%     1213.250000   3776.222735     21.724800      9.000000\n\nmax     1534.000000   7211.007745     40.823963     12.000000\n"
        }
      ],
      "id": "727c2308"
    },
    {
      "cell_type": "code",
      "source": "#Расстояние, которое пользователь преодолел за одну поездку.\nrides_df['distance'].plot(kind='hist', bins=40, grid=True, title='Распределение расстояния за одну поездку')\nplt.xlabel('Расстояние')\nplt.ylabel('Количество поездок')\nplt.show()\n\n#Распределение расстояний\nplt.boxplot(rides_df['distance'], vert=False)\nplt.xlabel('Расстояние')\nplt.title('Распределение расстояния за одну поездку')\nplt.show()",
      "metadata": {},
      "execution_count": 18,
      "outputs": [
        {
          "output_type": "display_data",
          "data": {
            "image/png": "[encoded data removed]",
            "text/plain": [
              "<Figure size 432x288 with 1 Axes>"
            ]
          },
          "metadata": {
            "needs_background": "light"
          }
        },
        {
          "output_type": "display_data",
          "data": {
            "image/png": "[encoded data removed]",
            "text/plain": [
              "<Figure size 432x288 with 1 Axes>"
            ]
          },
          "metadata": {
            "needs_background": "light"
          }
        }
      ],
      "id": "530a60f7"
    },
    {
      "cell_type": "code",
      "source": "#Продолжительность поездок.\nrides_df['duration'].plot(kind='hist', bins=40, grid=True, title='Распределение продолжительности поездок')\nplt.xlabel('Продолжительность')\nplt.ylabel('Количество поездок')\nplt.show()\n\n#Распределение времени\nplt.boxplot(rides_df['duration'], vert=False)\nplt.xlabel('Продолжительность')\nplt.title('Распределение продолжительности поездок')\nplt.show()",
      "metadata": {},
      "execution_count": 19,
      "outputs": [
        {
          "output_type": "display_data",
          "data": {
            "image/png": "[encoded data removed]",
            "text/plain": [
              "<Figure size 432x288 with 1 Axes>"
            ]
          },
          "metadata": {
            "needs_background": "light"
          }
        },
        {
          "output_type": "display_data",
          "data": {
            "image/png": "[encoded data removed]",
            "text/plain": [
              "<Figure size 432x288 with 1 Axes>"
            ]
          },
          "metadata": {
            "needs_background": "light"
          }
        }
      ],
      "id": "fcc40b94"
    },
    {
      "cell_type": "markdown",
      "source": "1. Возраст пользователей варьируется от 22 до 28, а медианный возраст пользователя сервиса 25 лет,\n2. Пользователи совершают зачастую поездки с расстоянием в 2,6 до 3,8 километров.\n3. Длительность поездок в интервале от 11 до 21 минуты.",
      "metadata": {},
      "id": "fb7af9ba"
    },
    {
      "cell_type": "markdown",
      "source": "# Шаг 4. Объединение данных",
      "metadata": {},
      "id": "4ef51331"
    },
    {
      "cell_type": "code",
      "source": "#Выводим размерность user_df.\ndisplay(users_df.shape[0])\n#Выводим размерность rides_df.\ndisplay(rides_df.shape[0])\n#Выводим размерность subscription_df.\ndisplay(subscriptions_df.shape[0])",
      "metadata": {},
      "execution_count": 20,
      "outputs": [
        {
          "output_type": "display_data",
          "data": {
            "text/plain": [
              "1534"
            ]
          },
          "metadata": {}
        },
        {
          "output_type": "display_data",
          "data": {
            "text/plain": [
              "18068"
            ]
          },
          "metadata": {}
        },
        {
          "output_type": "display_data",
          "data": {
            "text/plain": [
              "2"
            ]
          },
          "metadata": {}
        }
      ],
      "id": "5f36da36"
    },
    {
      "cell_type": "code",
      "source": "#Объединение данных о пользователях, поездках и подписках.\ndf = pd.merge(users_df, rides_df, on='user_id', how='left')\ndf = pd.merge(df, subscriptions_df, how='left')",
      "metadata": {},
      "execution_count": 21,
      "outputs": [],
      "id": "6bf288b5"
    },
    {
      "cell_type": "code",
      "source": "display(df.shape[0])",
      "metadata": {},
      "execution_count": 33,
      "outputs": [
        {
          "output_type": "display_data",
          "data": {
            "text/plain": [
              "18068"
            ]
          },
          "metadata": {}
        }
      ],
      "id": "70ee2aee"
    },
    {
      "cell_type": "code",
      "source": "#Проверка о размерности после объединения.\nprint('Датафрейм df:\\n', df.head())\nprint('Размерность df:', df.shape[0])",
      "metadata": {},
      "execution_count": 22,
      "outputs": [
        {
          "name": "stdout",
          "output_type": "stream",
          "text": "Датафрейм df:\n\n    user_id  name  age    city subscription_type     distance   duration  \\\n\n0        1  Кира   22  Тюмень             ultra  4409.919140  25.599769   \n\n1        1  Кира   22  Тюмень             ultra  2617.592153  15.816871   \n\n2        1  Кира   22  Тюмень             ultra   754.159807   6.232113   \n\n3        1  Кира   22  Тюмень             ultra  2694.783254  18.511000   \n\n4        1  Кира   22  Тюмень             ultra  4028.687306  26.265803   \n\n\n\n        date  month  minute_price  start_ride_price  subscription_fee  \n\n0 2021-01-01      1             6                 0               199  \n\n1 2021-01-18      1             6                 0               199  \n\n2 2021-04-20      4             6                 0               199  \n\n3 2021-08-11      8             6                 0               199  \n\n4 2021-08-28      8             6                 0               199  \n\nРазмерность df: 18068\n"
        }
      ],
      "id": "f105039a"
    },
    {
      "cell_type": "code",
      "source": "#Добавляем столбец с пользователями c подпиской.\nultra_df = df[df['subscription_type'] == 'ultra']\n#Проверим пропуски.\ndisplay(ultra_df.isna().sum())\n#Выведем freed_df.\ndisplay(ultra_df)",
      "metadata": {},
      "execution_count": 23,
      "outputs": [
        {
          "output_type": "display_data",
          "data": {
            "text/plain": [
              "user_id              0\n",
              "name                 0\n",
              "age                  0\n",
              "city                 0\n",
              "subscription_type    0\n",
              "distance             0\n",
              "duration             0\n",
              "date                 0\n",
              "month                0\n",
              "minute_price         0\n",
              "start_ride_price     0\n",
              "subscription_fee     0\n",
              "dtype: int64"
            ]
          },
          "metadata": {}
        },
        {
          "output_type": "display_data",
          "data": {
            "text/html": [
              "<div>\n",
              "<style scoped>\n",
              "    .dataframe tbody tr th:only-of-type {\n",
              "        vertical-align: middle;\n",
              "    }\n",
              "\n",
              "    .dataframe tbody tr th {\n",
              "        vertical-align: top;\n",
              "    }\n",
              "\n",
              "    .dataframe thead th {\n",
              "        text-align: right;\n",
              "    }\n",
              "</style>\n",
              "<table border=\"1\" class=\"dataframe\">\n",
              "  <thead>\n",
              "    <tr style=\"text-align: right;\">\n",
              "      <th></th>\n",
              "      <th>user_id</th>\n",
              "      <th>name</th>\n",
              "      <th>age</th>\n",
              "      <th>city</th>\n",
              "      <th>subscription_type</th>\n",
              "      <th>distance</th>\n",
              "      <th>duration</th>\n",
              "      <th>date</th>\n",
              "      <th>month</th>\n",
              "      <th>minute_price</th>\n",
              "      <th>start_ride_price</th>\n",
              "      <th>subscription_fee</th>\n",
              "    </tr>\n",
              "  </thead>\n",
              "  <tbody>\n",
              "    <tr>\n",
              "      <th>0</th>\n",
              "      <td>1</td>\n",
              "      <td>Кира</td>\n",
              "      <td>22</td>\n",
              "      <td>Тюмень</td>\n",
              "      <td>ultra</td>\n",
              "      <td>4409.919140</td>\n",
              "      <td>25.599769</td>\n",
              "      <td>2021-01-01</td>\n",
              "      <td>1</td>\n",
              "      <td>6</td>\n",
              "      <td>0</td>\n",
              "      <td>199</td>\n",
              "    </tr>\n",
              "    <tr>\n",
              "      <th>1</th>\n",
              "      <td>1</td>\n",
              "      <td>Кира</td>\n",
              "      <td>22</td>\n",
              "      <td>Тюмень</td>\n",
              "      <td>ultra</td>\n",
              "      <td>2617.592153</td>\n",
              "      <td>15.816871</td>\n",
              "      <td>2021-01-18</td>\n",
              "      <td>1</td>\n",
              "      <td>6</td>\n",
              "      <td>0</td>\n",
              "      <td>199</td>\n",
              "    </tr>\n",
              "    <tr>\n",
              "      <th>2</th>\n",
              "      <td>1</td>\n",
              "      <td>Кира</td>\n",
              "      <td>22</td>\n",
              "      <td>Тюмень</td>\n",
              "      <td>ultra</td>\n",
              "      <td>754.159807</td>\n",
              "      <td>6.232113</td>\n",
              "      <td>2021-04-20</td>\n",
              "      <td>4</td>\n",
              "      <td>6</td>\n",
              "      <td>0</td>\n",
              "      <td>199</td>\n",
              "    </tr>\n",
              "    <tr>\n",
              "      <th>3</th>\n",
              "      <td>1</td>\n",
              "      <td>Кира</td>\n",
              "      <td>22</td>\n",
              "      <td>Тюмень</td>\n",
              "      <td>ultra</td>\n",
              "      <td>2694.783254</td>\n",
              "      <td>18.511000</td>\n",
              "      <td>2021-08-11</td>\n",
              "      <td>8</td>\n",
              "      <td>6</td>\n",
              "      <td>0</td>\n",
              "      <td>199</td>\n",
              "    </tr>\n",
              "    <tr>\n",
              "      <th>4</th>\n",
              "      <td>1</td>\n",
              "      <td>Кира</td>\n",
              "      <td>22</td>\n",
              "      <td>Тюмень</td>\n",
              "      <td>ultra</td>\n",
              "      <td>4028.687306</td>\n",
              "      <td>26.265803</td>\n",
              "      <td>2021-08-28</td>\n",
              "      <td>8</td>\n",
              "      <td>6</td>\n",
              "      <td>0</td>\n",
              "      <td>199</td>\n",
              "    </tr>\n",
              "    <tr>\n",
              "      <th>...</th>\n",
              "      <td>...</td>\n",
              "      <td>...</td>\n",
              "      <td>...</td>\n",
              "      <td>...</td>\n",
              "      <td>...</td>\n",
              "      <td>...</td>\n",
              "      <td>...</td>\n",
              "      <td>...</td>\n",
              "      <td>...</td>\n",
              "      <td>...</td>\n",
              "      <td>...</td>\n",
              "      <td>...</td>\n",
              "    </tr>\n",
              "    <tr>\n",
              "      <th>6495</th>\n",
              "      <td>699</td>\n",
              "      <td>Оксана</td>\n",
              "      <td>22</td>\n",
              "      <td>Москва</td>\n",
              "      <td>ultra</td>\n",
              "      <td>3973.046497</td>\n",
              "      <td>24.671163</td>\n",
              "      <td>2021-08-29</td>\n",
              "      <td>8</td>\n",
              "      <td>6</td>\n",
              "      <td>0</td>\n",
              "      <td>199</td>\n",
              "    </tr>\n",
              "    <tr>\n",
              "      <th>6496</th>\n",
              "      <td>699</td>\n",
              "      <td>Оксана</td>\n",
              "      <td>22</td>\n",
              "      <td>Москва</td>\n",
              "      <td>ultra</td>\n",
              "      <td>3288.702563</td>\n",
              "      <td>15.892886</td>\n",
              "      <td>2021-09-12</td>\n",
              "      <td>9</td>\n",
              "      <td>6</td>\n",
              "      <td>0</td>\n",
              "      <td>199</td>\n",
              "    </tr>\n",
              "    <tr>\n",
              "      <th>6497</th>\n",
              "      <td>699</td>\n",
              "      <td>Оксана</td>\n",
              "      <td>22</td>\n",
              "      <td>Москва</td>\n",
              "      <td>ultra</td>\n",
              "      <td>3076.159348</td>\n",
              "      <td>14.389525</td>\n",
              "      <td>2021-09-26</td>\n",
              "      <td>9</td>\n",
              "      <td>6</td>\n",
              "      <td>0</td>\n",
              "      <td>199</td>\n",
              "    </tr>\n",
              "    <tr>\n",
              "      <th>6498</th>\n",
              "      <td>699</td>\n",
              "      <td>Оксана</td>\n",
              "      <td>22</td>\n",
              "      <td>Москва</td>\n",
              "      <td>ultra</td>\n",
              "      <td>4707.845501</td>\n",
              "      <td>15.839579</td>\n",
              "      <td>2021-10-17</td>\n",
              "      <td>10</td>\n",
              "      <td>6</td>\n",
              "      <td>0</td>\n",
              "      <td>199</td>\n",
              "    </tr>\n",
              "    <tr>\n",
              "      <th>6499</th>\n",
              "      <td>699</td>\n",
              "      <td>Оксана</td>\n",
              "      <td>22</td>\n",
              "      <td>Москва</td>\n",
              "      <td>ultra</td>\n",
              "      <td>3202.890770</td>\n",
              "      <td>25.217345</td>\n",
              "      <td>2021-12-03</td>\n",
              "      <td>12</td>\n",
              "      <td>6</td>\n",
              "      <td>0</td>\n",
              "      <td>199</td>\n",
              "    </tr>\n",
              "  </tbody>\n",
              "</table>\n",
              "<p>6500 rows × 12 columns</p>\n",
              "</div>"
            ],
            "text/plain": [
              "      user_id    name  age    city subscription_type     distance   duration  \\\n",
              "0           1    Кира   22  Тюмень             ultra  4409.919140  25.599769   \n",
              "1           1    Кира   22  Тюмень             ultra  2617.592153  15.816871   \n",
              "2           1    Кира   22  Тюмень             ultra   754.159807   6.232113   \n",
              "3           1    Кира   22  Тюмень             ultra  2694.783254  18.511000   \n",
              "4           1    Кира   22  Тюмень             ultra  4028.687306  26.265803   \n",
              "...       ...     ...  ...     ...               ...          ...        ...   \n",
              "6495      699  Оксана   22  Москва             ultra  3973.046497  24.671163   \n",
              "6496      699  Оксана   22  Москва             ultra  3288.702563  15.892886   \n",
              "6497      699  Оксана   22  Москва             ultra  3076.159348  14.389525   \n",
              "6498      699  Оксана   22  Москва             ultra  4707.845501  15.839579   \n",
              "6499      699  Оксана   22  Москва             ultra  3202.890770  25.217345   \n",
              "\n",
              "           date  month  minute_price  start_ride_price  subscription_fee  \n",
              "0    2021-01-01      1             6                 0               199  \n",
              "1    2021-01-18      1             6                 0               199  \n",
              "2    2021-04-20      4             6                 0               199  \n",
              "3    2021-08-11      8             6                 0               199  \n",
              "4    2021-08-28      8             6                 0               199  \n",
              "...         ...    ...           ...               ...               ...  \n",
              "6495 2021-08-29      8             6                 0               199  \n",
              "6496 2021-09-12      9             6                 0               199  \n",
              "6497 2021-09-26      9             6                 0               199  \n",
              "6498 2021-10-17     10             6                 0               199  \n",
              "6499 2021-12-03     12             6                 0               199  \n",
              "\n",
              "[6500 rows x 12 columns]"
            ]
          },
          "metadata": {}
        }
      ],
      "id": "2130b74d"
    },
    {
      "cell_type": "code",
      "source": "#Добавляем столбец с пользователями c подпиской.\nfree_df = df[df['subscription_type'] == 'free']\n#Проверим пропуски.\ndisplay(free_df.isna().sum())\n#Выведем freed_df.\ndisplay(free_df)",
      "metadata": {},
      "execution_count": 24,
      "outputs": [
        {
          "output_type": "display_data",
          "data": {
            "text/plain": [
              "user_id              0\n",
              "name                 0\n",
              "age                  0\n",
              "city                 0\n",
              "subscription_type    0\n",
              "distance             0\n",
              "duration             0\n",
              "date                 0\n",
              "month                0\n",
              "minute_price         0\n",
              "start_ride_price     0\n",
              "subscription_fee     0\n",
              "dtype: int64"
            ]
          },
          "metadata": {}
        },
        {
          "output_type": "display_data",
          "data": {
            "text/html": [
              "<div>\n",
              "<style scoped>\n",
              "    .dataframe tbody tr th:only-of-type {\n",
              "        vertical-align: middle;\n",
              "    }\n",
              "\n",
              "    .dataframe tbody tr th {\n",
              "        vertical-align: top;\n",
              "    }\n",
              "\n",
              "    .dataframe thead th {\n",
              "        text-align: right;\n",
              "    }\n",
              "</style>\n",
              "<table border=\"1\" class=\"dataframe\">\n",
              "  <thead>\n",
              "    <tr style=\"text-align: right;\">\n",
              "      <th></th>\n",
              "      <th>user_id</th>\n",
              "      <th>name</th>\n",
              "      <th>age</th>\n",
              "      <th>city</th>\n",
              "      <th>subscription_type</th>\n",
              "      <th>distance</th>\n",
              "      <th>duration</th>\n",
              "      <th>date</th>\n",
              "      <th>month</th>\n",
              "      <th>minute_price</th>\n",
              "      <th>start_ride_price</th>\n",
              "      <th>subscription_fee</th>\n",
              "    </tr>\n",
              "  </thead>\n",
              "  <tbody>\n",
              "    <tr>\n",
              "      <th>6500</th>\n",
              "      <td>700</td>\n",
              "      <td>Айдар</td>\n",
              "      <td>22</td>\n",
              "      <td>Омск</td>\n",
              "      <td>free</td>\n",
              "      <td>2515.690719</td>\n",
              "      <td>14.944286</td>\n",
              "      <td>2021-01-02</td>\n",
              "      <td>1</td>\n",
              "      <td>8</td>\n",
              "      <td>50</td>\n",
              "      <td>0</td>\n",
              "    </tr>\n",
              "    <tr>\n",
              "      <th>6501</th>\n",
              "      <td>700</td>\n",
              "      <td>Айдар</td>\n",
              "      <td>22</td>\n",
              "      <td>Омск</td>\n",
              "      <td>free</td>\n",
              "      <td>846.932642</td>\n",
              "      <td>16.234663</td>\n",
              "      <td>2021-02-01</td>\n",
              "      <td>2</td>\n",
              "      <td>8</td>\n",
              "      <td>50</td>\n",
              "      <td>0</td>\n",
              "    </tr>\n",
              "    <tr>\n",
              "      <th>6502</th>\n",
              "      <td>700</td>\n",
              "      <td>Айдар</td>\n",
              "      <td>22</td>\n",
              "      <td>Омск</td>\n",
              "      <td>free</td>\n",
              "      <td>4004.434142</td>\n",
              "      <td>20.016628</td>\n",
              "      <td>2021-02-04</td>\n",
              "      <td>2</td>\n",
              "      <td>8</td>\n",
              "      <td>50</td>\n",
              "      <td>0</td>\n",
              "    </tr>\n",
              "    <tr>\n",
              "      <th>6503</th>\n",
              "      <td>700</td>\n",
              "      <td>Айдар</td>\n",
              "      <td>22</td>\n",
              "      <td>Омск</td>\n",
              "      <td>free</td>\n",
              "      <td>1205.911290</td>\n",
              "      <td>9.782872</td>\n",
              "      <td>2021-02-10</td>\n",
              "      <td>2</td>\n",
              "      <td>8</td>\n",
              "      <td>50</td>\n",
              "      <td>0</td>\n",
              "    </tr>\n",
              "    <tr>\n",
              "      <th>6504</th>\n",
              "      <td>700</td>\n",
              "      <td>Айдар</td>\n",
              "      <td>22</td>\n",
              "      <td>Омск</td>\n",
              "      <td>free</td>\n",
              "      <td>3047.379435</td>\n",
              "      <td>17.427673</td>\n",
              "      <td>2021-02-14</td>\n",
              "      <td>2</td>\n",
              "      <td>8</td>\n",
              "      <td>50</td>\n",
              "      <td>0</td>\n",
              "    </tr>\n",
              "    <tr>\n",
              "      <th>...</th>\n",
              "      <td>...</td>\n",
              "      <td>...</td>\n",
              "      <td>...</td>\n",
              "      <td>...</td>\n",
              "      <td>...</td>\n",
              "      <td>...</td>\n",
              "      <td>...</td>\n",
              "      <td>...</td>\n",
              "      <td>...</td>\n",
              "      <td>...</td>\n",
              "      <td>...</td>\n",
              "      <td>...</td>\n",
              "    </tr>\n",
              "    <tr>\n",
              "      <th>18063</th>\n",
              "      <td>1534</td>\n",
              "      <td>Альберт</td>\n",
              "      <td>25</td>\n",
              "      <td>Краснодар</td>\n",
              "      <td>free</td>\n",
              "      <td>3781.098080</td>\n",
              "      <td>19.822962</td>\n",
              "      <td>2021-11-04</td>\n",
              "      <td>11</td>\n",
              "      <td>8</td>\n",
              "      <td>50</td>\n",
              "      <td>0</td>\n",
              "    </tr>\n",
              "    <tr>\n",
              "      <th>18064</th>\n",
              "      <td>1534</td>\n",
              "      <td>Альберт</td>\n",
              "      <td>25</td>\n",
              "      <td>Краснодар</td>\n",
              "      <td>free</td>\n",
              "      <td>2840.423057</td>\n",
              "      <td>21.409799</td>\n",
              "      <td>2021-11-16</td>\n",
              "      <td>11</td>\n",
              "      <td>8</td>\n",
              "      <td>50</td>\n",
              "      <td>0</td>\n",
              "    </tr>\n",
              "    <tr>\n",
              "      <th>18065</th>\n",
              "      <td>1534</td>\n",
              "      <td>Альберт</td>\n",
              "      <td>25</td>\n",
              "      <td>Краснодар</td>\n",
              "      <td>free</td>\n",
              "      <td>3826.185507</td>\n",
              "      <td>18.435051</td>\n",
              "      <td>2021-11-18</td>\n",
              "      <td>11</td>\n",
              "      <td>8</td>\n",
              "      <td>50</td>\n",
              "      <td>0</td>\n",
              "    </tr>\n",
              "    <tr>\n",
              "      <th>18066</th>\n",
              "      <td>1534</td>\n",
              "      <td>Альберт</td>\n",
              "      <td>25</td>\n",
              "      <td>Краснодар</td>\n",
              "      <td>free</td>\n",
              "      <td>2902.308661</td>\n",
              "      <td>16.674362</td>\n",
              "      <td>2021-11-27</td>\n",
              "      <td>11</td>\n",
              "      <td>8</td>\n",
              "      <td>50</td>\n",
              "      <td>0</td>\n",
              "    </tr>\n",
              "    <tr>\n",
              "      <th>18067</th>\n",
              "      <td>1534</td>\n",
              "      <td>Альберт</td>\n",
              "      <td>25</td>\n",
              "      <td>Краснодар</td>\n",
              "      <td>free</td>\n",
              "      <td>2371.711192</td>\n",
              "      <td>15.893917</td>\n",
              "      <td>2021-12-29</td>\n",
              "      <td>12</td>\n",
              "      <td>8</td>\n",
              "      <td>50</td>\n",
              "      <td>0</td>\n",
              "    </tr>\n",
              "  </tbody>\n",
              "</table>\n",
              "<p>11568 rows × 12 columns</p>\n",
              "</div>"
            ],
            "text/plain": [
              "       user_id     name  age       city subscription_type     distance  \\\n",
              "6500       700    Айдар   22       Омск              free  2515.690719   \n",
              "6501       700    Айдар   22       Омск              free   846.932642   \n",
              "6502       700    Айдар   22       Омск              free  4004.434142   \n",
              "6503       700    Айдар   22       Омск              free  1205.911290   \n",
              "6504       700    Айдар   22       Омск              free  3047.379435   \n",
              "...        ...      ...  ...        ...               ...          ...   \n",
              "18063     1534  Альберт   25  Краснодар              free  3781.098080   \n",
              "18064     1534  Альберт   25  Краснодар              free  2840.423057   \n",
              "18065     1534  Альберт   25  Краснодар              free  3826.185507   \n",
              "18066     1534  Альберт   25  Краснодар              free  2902.308661   \n",
              "18067     1534  Альберт   25  Краснодар              free  2371.711192   \n",
              "\n",
              "        duration       date  month  minute_price  start_ride_price  \\\n",
              "6500   14.944286 2021-01-02      1             8                50   \n",
              "6501   16.234663 2021-02-01      2             8                50   \n",
              "6502   20.016628 2021-02-04      2             8                50   \n",
              "6503    9.782872 2021-02-10      2             8                50   \n",
              "6504   17.427673 2021-02-14      2             8                50   \n",
              "...          ...        ...    ...           ...               ...   \n",
              "18063  19.822962 2021-11-04     11             8                50   \n",
              "18064  21.409799 2021-11-16     11             8                50   \n",
              "18065  18.435051 2021-11-18     11             8                50   \n",
              "18066  16.674362 2021-11-27     11             8                50   \n",
              "18067  15.893917 2021-12-29     12             8                50   \n",
              "\n",
              "       subscription_fee  \n",
              "6500                  0  \n",
              "6501                  0  \n",
              "6502                  0  \n",
              "6503                  0  \n",
              "6504                  0  \n",
              "...                 ...  \n",
              "18063                 0  \n",
              "18064                 0  \n",
              "18065                 0  \n",
              "18066                 0  \n",
              "18067                 0  \n",
              "\n",
              "[11568 rows x 12 columns]"
            ]
          },
          "metadata": {}
        }
      ],
      "id": "7e5677e0"
    },
    {
      "cell_type": "code",
      "source": "#Визуализация информации о расстоянии поездок для пользователей обеих категорий.\nplt.figure(figsize=(6, 6))\nplt.hist(ultra_df['distance'], bins=30, alpha=0.5, label='С подпиской')\nplt.hist(free_df['distance'], bins=30, alpha=0.5, label='Без подписки')\nplt.title('Сравнение расстояния поездок для пользователей с и без подписки')\nplt.xlabel('Расстояние')\nplt.ylabel('Количество поездок')\nplt.grid()\nplt.legend()\nplt.show()",
      "metadata": {},
      "execution_count": 25,
      "outputs": [
        {
          "output_type": "display_data",
          "data": {
            "image/png": "[encoded data removed]",
            "text/plain": [
              "<Figure size 432x432 with 1 Axes>"
            ]
          },
          "metadata": {
            "needs_background": "light"
          }
        }
      ],
      "id": "5a1aa48b"
    },
    {
      "cell_type": "markdown",
      "source": "1. Тариф Free, которым пользуются пользователи используются для более длительных дистанции, чем на тарифе Ultra.\n2. Тариф Free и тариф Ultra имеют приблизительно одинаковые медианные значения, а именно 3 км.\n3. На тарифе Free пользователи чаще всего проезжают от 2,4 до 4 км, а на тарифе Ultra от 2,8 до 3,4 км.",
      "metadata": {},
      "id": "7857f482"
    },
    {
      "cell_type": "code",
      "source": "#Визуализация информации о продолжительности поездок для пользователей обеих категорий.\nplt.figure(figsize=(6, 6))\nplt.hist(ultra_df['duration'], bins=30, alpha=0.5, label='С подпиской')\nplt.hist(free_df['duration'], bins=30, alpha=0.5, label='Без подписки')\nplt.title('Сравнение продолжительности поездок для пользователей с и без подписки')\nplt.xlabel('Продолжительность')\nplt.ylabel('Количество поездок')\nplt.grid()\nplt.legend()\nplt.show()",
      "metadata": {},
      "execution_count": 26,
      "outputs": [
        {
          "output_type": "display_data",
          "data": {
            "image/png": "[encoded data removed]",
            "text/plain": [
              "<Figure size 432x432 with 1 Axes>"
            ]
          },
          "metadata": {
            "needs_background": "light"
          }
        }
      ],
      "id": "bfd5fb29"
    },
    {
      "cell_type": "markdown",
      "source": "1. Тариф Free пользуется большим спросом поездок, чем на тарифе Ultra.\n2. Тариф Free и тариф Ultra имеют \"почти\" одинаковые медианы, а именно 17,3 и 18,1.\n3. Тариф Free используют от 12 до 23 минут, а Ultra от 15 до 21 минуты.",
      "metadata": {},
      "id": "3fc6228a"
    },
    {
      "cell_type": "markdown",
      "source": "# Шаг 5. Подсчёт выручки",
      "metadata": {},
      "id": "402d620f"
    },
    {
      "cell_type": "markdown",
      "source": "**1. Создайте датафрейм с агрегированными данными о поездках на основе датафрейма с объединёнными данными из шага 4: найдите суммарное расстояние, количество поездок и суммарное время для каждого пользователя за каждый месяц.**",
      "metadata": {},
      "id": "715995fd"
    },
    {
      "cell_type": "code",
      "source": "aggregated_df = df.groupby(['user_id', 'month']).agg({'distance': 'sum', 'user_id': 'count', 'duration': 'sum'})\naggregated_df.columns = ['distance_total', 'rides_total', 'duration_total']\naggregated_df = aggregated_df.reset_index()\ndisplay(aggregated_df)",
      "metadata": {},
      "execution_count": 27,
      "outputs": [
        {
          "output_type": "display_data",
          "data": {
            "text/html": [
              "<div>\n",
              "<style scoped>\n",
              "    .dataframe tbody tr th:only-of-type {\n",
              "        vertical-align: middle;\n",
              "    }\n",
              "\n",
              "    .dataframe tbody tr th {\n",
              "        vertical-align: top;\n",
              "    }\n",
              "\n",
              "    .dataframe thead th {\n",
              "        text-align: right;\n",
              "    }\n",
              "</style>\n",
              "<table border=\"1\" class=\"dataframe\">\n",
              "  <thead>\n",
              "    <tr style=\"text-align: right;\">\n",
              "      <th></th>\n",
              "      <th>user_id</th>\n",
              "      <th>month</th>\n",
              "      <th>distance_total</th>\n",
              "      <th>rides_total</th>\n",
              "      <th>duration_total</th>\n",
              "    </tr>\n",
              "  </thead>\n",
              "  <tbody>\n",
              "    <tr>\n",
              "      <th>0</th>\n",
              "      <td>1</td>\n",
              "      <td>1</td>\n",
              "      <td>7027.511294</td>\n",
              "      <td>2</td>\n",
              "      <td>41.416640</td>\n",
              "    </tr>\n",
              "    <tr>\n",
              "      <th>1</th>\n",
              "      <td>1</td>\n",
              "      <td>4</td>\n",
              "      <td>754.159807</td>\n",
              "      <td>1</td>\n",
              "      <td>6.232113</td>\n",
              "    </tr>\n",
              "    <tr>\n",
              "      <th>2</th>\n",
              "      <td>1</td>\n",
              "      <td>8</td>\n",
              "      <td>6723.470560</td>\n",
              "      <td>2</td>\n",
              "      <td>44.776802</td>\n",
              "    </tr>\n",
              "    <tr>\n",
              "      <th>3</th>\n",
              "      <td>1</td>\n",
              "      <td>10</td>\n",
              "      <td>5809.911100</td>\n",
              "      <td>2</td>\n",
              "      <td>31.578017</td>\n",
              "    </tr>\n",
              "    <tr>\n",
              "      <th>4</th>\n",
              "      <td>1</td>\n",
              "      <td>11</td>\n",
              "      <td>7003.499363</td>\n",
              "      <td>3</td>\n",
              "      <td>53.397424</td>\n",
              "    </tr>\n",
              "    <tr>\n",
              "      <th>...</th>\n",
              "      <td>...</td>\n",
              "      <td>...</td>\n",
              "      <td>...</td>\n",
              "      <td>...</td>\n",
              "      <td>...</td>\n",
              "    </tr>\n",
              "    <tr>\n",
              "      <th>11326</th>\n",
              "      <td>1534</td>\n",
              "      <td>6</td>\n",
              "      <td>3409.468534</td>\n",
              "      <td>2</td>\n",
              "      <td>24.812678</td>\n",
              "    </tr>\n",
              "    <tr>\n",
              "      <th>11327</th>\n",
              "      <td>1534</td>\n",
              "      <td>8</td>\n",
              "      <td>7622.453034</td>\n",
              "      <td>2</td>\n",
              "      <td>47.205960</td>\n",
              "    </tr>\n",
              "    <tr>\n",
              "      <th>11328</th>\n",
              "      <td>1534</td>\n",
              "      <td>9</td>\n",
              "      <td>4928.173852</td>\n",
              "      <td>1</td>\n",
              "      <td>22.560373</td>\n",
              "    </tr>\n",
              "    <tr>\n",
              "      <th>11329</th>\n",
              "      <td>1534</td>\n",
              "      <td>11</td>\n",
              "      <td>13350.015305</td>\n",
              "      <td>4</td>\n",
              "      <td>76.342174</td>\n",
              "    </tr>\n",
              "    <tr>\n",
              "      <th>11330</th>\n",
              "      <td>1534</td>\n",
              "      <td>12</td>\n",
              "      <td>2371.711192</td>\n",
              "      <td>1</td>\n",
              "      <td>15.893917</td>\n",
              "    </tr>\n",
              "  </tbody>\n",
              "</table>\n",
              "<p>11331 rows × 5 columns</p>\n",
              "</div>"
            ],
            "text/plain": [
              "       user_id  month  distance_total  rides_total  duration_total\n",
              "0            1      1     7027.511294            2       41.416640\n",
              "1            1      4      754.159807            1        6.232113\n",
              "2            1      8     6723.470560            2       44.776802\n",
              "3            1     10     5809.911100            2       31.578017\n",
              "4            1     11     7003.499363            3       53.397424\n",
              "...        ...    ...             ...          ...             ...\n",
              "11326     1534      6     3409.468534            2       24.812678\n",
              "11327     1534      8     7622.453034            2       47.205960\n",
              "11328     1534      9     4928.173852            1       22.560373\n",
              "11329     1534     11    13350.015305            4       76.342174\n",
              "11330     1534     12     2371.711192            1       15.893917\n",
              "\n",
              "[11331 rows x 5 columns]"
            ]
          },
          "metadata": {}
        }
      ],
      "id": "53049e0a"
    },
    {
      "cell_type": "code",
      "source": "#Проверка на пропуски aggregated_df.\nprint('Количество пропусков в aggregated_df:\\n', aggregated_df.isna().sum())",
      "metadata": {},
      "execution_count": 28,
      "outputs": [
        {
          "name": "stdout",
          "output_type": "stream",
          "text": "Количество пропусков в aggregated_df:\n\n user_id           0\n\nmonth             0\n\ndistance_total    0\n\nrides_total       0\n\nduration_total    0\n\ndtype: int64\n"
        }
      ],
      "id": "04caeb2e"
    },
    {
      "cell_type": "markdown",
      "source": "**2. В этот же датафрейм добавьте столбец с помесячной выручкой, которую принёс каждый пользователь. Для этого обратитесь к информации об условиях оплаты для подписчиков и тех, у кого нет подписки. Продолжительность каждой поездки в каждой строке исходного датафрейма для подсчёта стоимости округляется до следующего целого числа: например, значения 25.3, 25.5 и 26.0 должны быть преобразованы к 26.**",
      "metadata": {},
      "id": "c4ff7f85"
    },
    {
      "cell_type": "code",
      "source": "#Добавляем столбец с типом подписки.\nsubscription = df.set_index('user_id')['subscription_type'].to_dict()\naggregated_df['subscription_type'] = aggregated_df['user_id'].map(subscription)\n#Стоимость одной минуты поездки для пользователей без подписки.\nminute_for_free = 8\n#Стоимость старта поездки для пользователей без подписки.\nstart_for_free = 50\n#Абонентская плата для ultra.\nsubs_for_ultra = 199\n#Стоимость одной минуты поездки для подписчиков ultra.\nminute_for_ultra = 6\n\n#Функция для округления продолжительности поездки.\ndef round_duration(duration):\n    return np.ceil(duration)\n\n#Функция для вычисления помесячной выручки.\ndef calculate_revenue_for_month(x):\n    rides_total = x['rides_total']\n    duration_total = x['duration_total']\n    \n    rounded_duration = round_duration(duration_total)\n    \n    if x['subscription_type'] == 'free':\n        revenue = (start_for_free * rides_total) + (minute_for_free * rounded_duration)\n    elif x['subscription_type'] == 'ultra':\n        revenue = (minute_for_ultra * rounded_duration) + subs_for_ultra\n    else:\n        revenue = 0.0\n    \n    return revenue\n\n#Добавление столбца с помесячной выручкой.\naggregated_df['monthly_revenue'] = aggregated_df.apply(calculate_revenue_for_month, axis=1)\n\n#Вывод aggregated_df с помесячной выручкой.\nprint(\"Датафрейм с помесячной выручкой:\")\ndisplay(aggregated_df)\n\n#Вывод средней помесячной выручки для ultra и free.\notchet = aggregated_df.groupby('subscription_type')['monthly_revenue'].mean()\nprint(f'Средняя помесячная выручка для free и ultra: \\n{otchet}')",
      "metadata": {},
      "execution_count": 29,
      "outputs": [
        {
          "name": "stdout",
          "output_type": "stream",
          "text": "Датафрейм с помесячной выручкой:\n"
        },
        {
          "output_type": "display_data",
          "data": {
            "text/html": [
              "<div>\n",
              "<style scoped>\n",
              "    .dataframe tbody tr th:only-of-type {\n",
              "        vertical-align: middle;\n",
              "    }\n",
              "\n",
              "    .dataframe tbody tr th {\n",
              "        vertical-align: top;\n",
              "    }\n",
              "\n",
              "    .dataframe thead th {\n",
              "        text-align: right;\n",
              "    }\n",
              "</style>\n",
              "<table border=\"1\" class=\"dataframe\">\n",
              "  <thead>\n",
              "    <tr style=\"text-align: right;\">\n",
              "      <th></th>\n",
              "      <th>user_id</th>\n",
              "      <th>month</th>\n",
              "      <th>distance_total</th>\n",
              "      <th>rides_total</th>\n",
              "      <th>duration_total</th>\n",
              "      <th>subscription_type</th>\n",
              "      <th>monthly_revenue</th>\n",
              "    </tr>\n",
              "  </thead>\n",
              "  <tbody>\n",
              "    <tr>\n",
              "      <th>0</th>\n",
              "      <td>1</td>\n",
              "      <td>1</td>\n",
              "      <td>7027.511294</td>\n",
              "      <td>2</td>\n",
              "      <td>41.416640</td>\n",
              "      <td>ultra</td>\n",
              "      <td>451.0</td>\n",
              "    </tr>\n",
              "    <tr>\n",
              "      <th>1</th>\n",
              "      <td>1</td>\n",
              "      <td>4</td>\n",
              "      <td>754.159807</td>\n",
              "      <td>1</td>\n",
              "      <td>6.232113</td>\n",
              "      <td>ultra</td>\n",
              "      <td>241.0</td>\n",
              "    </tr>\n",
              "    <tr>\n",
              "      <th>2</th>\n",
              "      <td>1</td>\n",
              "      <td>8</td>\n",
              "      <td>6723.470560</td>\n",
              "      <td>2</td>\n",
              "      <td>44.776802</td>\n",
              "      <td>ultra</td>\n",
              "      <td>469.0</td>\n",
              "    </tr>\n",
              "    <tr>\n",
              "      <th>3</th>\n",
              "      <td>1</td>\n",
              "      <td>10</td>\n",
              "      <td>5809.911100</td>\n",
              "      <td>2</td>\n",
              "      <td>31.578017</td>\n",
              "      <td>ultra</td>\n",
              "      <td>391.0</td>\n",
              "    </tr>\n",
              "    <tr>\n",
              "      <th>4</th>\n",
              "      <td>1</td>\n",
              "      <td>11</td>\n",
              "      <td>7003.499363</td>\n",
              "      <td>3</td>\n",
              "      <td>53.397424</td>\n",
              "      <td>ultra</td>\n",
              "      <td>523.0</td>\n",
              "    </tr>\n",
              "    <tr>\n",
              "      <th>...</th>\n",
              "      <td>...</td>\n",
              "      <td>...</td>\n",
              "      <td>...</td>\n",
              "      <td>...</td>\n",
              "      <td>...</td>\n",
              "      <td>...</td>\n",
              "      <td>...</td>\n",
              "    </tr>\n",
              "    <tr>\n",
              "      <th>11326</th>\n",
              "      <td>1534</td>\n",
              "      <td>6</td>\n",
              "      <td>3409.468534</td>\n",
              "      <td>2</td>\n",
              "      <td>24.812678</td>\n",
              "      <td>free</td>\n",
              "      <td>300.0</td>\n",
              "    </tr>\n",
              "    <tr>\n",
              "      <th>11327</th>\n",
              "      <td>1534</td>\n",
              "      <td>8</td>\n",
              "      <td>7622.453034</td>\n",
              "      <td>2</td>\n",
              "      <td>47.205960</td>\n",
              "      <td>free</td>\n",
              "      <td>484.0</td>\n",
              "    </tr>\n",
              "    <tr>\n",
              "      <th>11328</th>\n",
              "      <td>1534</td>\n",
              "      <td>9</td>\n",
              "      <td>4928.173852</td>\n",
              "      <td>1</td>\n",
              "      <td>22.560373</td>\n",
              "      <td>free</td>\n",
              "      <td>234.0</td>\n",
              "    </tr>\n",
              "    <tr>\n",
              "      <th>11329</th>\n",
              "      <td>1534</td>\n",
              "      <td>11</td>\n",
              "      <td>13350.015305</td>\n",
              "      <td>4</td>\n",
              "      <td>76.342174</td>\n",
              "      <td>free</td>\n",
              "      <td>816.0</td>\n",
              "    </tr>\n",
              "    <tr>\n",
              "      <th>11330</th>\n",
              "      <td>1534</td>\n",
              "      <td>12</td>\n",
              "      <td>2371.711192</td>\n",
              "      <td>1</td>\n",
              "      <td>15.893917</td>\n",
              "      <td>free</td>\n",
              "      <td>178.0</td>\n",
              "    </tr>\n",
              "  </tbody>\n",
              "</table>\n",
              "<p>11331 rows × 7 columns</p>\n",
              "</div>"
            ],
            "text/plain": [
              "       user_id  month  distance_total  rides_total  duration_total  \\\n",
              "0            1      1     7027.511294            2       41.416640   \n",
              "1            1      4      754.159807            1        6.232113   \n",
              "2            1      8     6723.470560            2       44.776802   \n",
              "3            1     10     5809.911100            2       31.578017   \n",
              "4            1     11     7003.499363            3       53.397424   \n",
              "...        ...    ...             ...          ...             ...   \n",
              "11326     1534      6     3409.468534            2       24.812678   \n",
              "11327     1534      8     7622.453034            2       47.205960   \n",
              "11328     1534      9     4928.173852            1       22.560373   \n",
              "11329     1534     11    13350.015305            4       76.342174   \n",
              "11330     1534     12     2371.711192            1       15.893917   \n",
              "\n",
              "      subscription_type  monthly_revenue  \n",
              "0                 ultra            451.0  \n",
              "1                 ultra            241.0  \n",
              "2                 ultra            469.0  \n",
              "3                 ultra            391.0  \n",
              "4                 ultra            523.0  \n",
              "...                 ...              ...  \n",
              "11326              free            300.0  \n",
              "11327              free            484.0  \n",
              "11328              free            234.0  \n",
              "11329              free            816.0  \n",
              "11330              free            178.0  \n",
              "\n",
              "[11331 rows x 7 columns]"
            ]
          },
          "metadata": {}
        },
        {
          "name": "stdout",
          "output_type": "stream",
          "text": "Средняя помесячная выручка для free и ultra: \n\nsubscription_type\n\nfree     325.842895\n\nultra    361.481800\n\nName: monthly_revenue, dtype: float64\n"
        }
      ],
      "id": "2b51faa0"
    },
    {
      "cell_type": "markdown",
      "source": "# Шаг 6. Проверка гипотез",
      "metadata": {},
      "id": "41545ac0"
    },
    {
      "cell_type": "markdown",
      "source": "**1. Важно понять, тратят ли пользователи с подпиской больше времени на поездки? Если да, то пользователи с подпиской могут быть «выгоднее» для компании. Проверьте гипотезу. Используйте исходные данные о продолжительности каждой сессии — отдельно для подписчиков и тех, у кого нет подписки.**",
      "metadata": {},
      "id": "ddc2f8e1"
    },
    {
      "cell_type": "markdown",
      "source": "**H0**: Пользователи с подпиской и без подписки не различаются по продолжительности поездок.\n\n**H1**: Пользователи с подпиской тратят больше времени на поездки.",
      "metadata": {},
      "id": "e6dfab36"
    },
    {
      "cell_type": "code",
      "source": "test_ultra = ultra_df['duration']\ntest_free = free_df['duration']\n\nalpha = 0.05\n\nresults = st.ttest_ind(test_ultra, test_free, alternative='greater')\nprint(f'p-value: {results.pvalue}')\n\nif results.pvalue < alpha:\n    print(\"Подтверждаем гипотезу: пользователи с подпиской тратят больше времени на поездки\")\nelse:\n    print(\"Отвергаем гипотезу: пользователи с подпиской и без подписки не различаются по продолжительности поездок\")",
      "metadata": {},
      "execution_count": 30,
      "outputs": [
        {
          "name": "stdout",
          "output_type": "stream",
          "text": "p-value: 1.2804098316645618e-34\n\nПодтверждаем гипотезу: пользователи с подпиской тратят больше времени на поездки\n"
        }
      ],
      "id": "23ea867b"
    },
    {
      "cell_type": "markdown",
      "source": "**2. Расстояние одной поездки в 3130 метров — оптимальное с точки зрения износа самоката. Можно ли сказать, что расстояние, которое проезжают пользователи с подпиской за одну поездку, не превышает 3130 метров? Проверьте гипотезу и сделайте выводы.**",
      "metadata": {},
      "id": "872013ce"
    },
    {
      "cell_type": "markdown",
      "source": "**H0**: Расстояние, которое пользователи проезжают с подпиской за одну поездку, превышает 3130 метров.\n\n**H1**: Расстояние, которое пользователи проезжают с подпиской за одну поездку,  превышает 3130 метров.",
      "metadata": {},
      "id": "e0a266cc"
    },
    {
      "cell_type": "code",
      "source": "distance_for_ultra = ultra_df['distance']\n\nvalue = 3130\nalpha = 0.05\n\nresults = st.ttest_1samp(distance_for_ultra, value, alternative='greater')\nprint(f'p-value: {results.pvalue}')\n\nif results.pvalue < alpha:\n    print(\"Подтверждаем гипотезу: расстояние, которое пользователи проезжают с подпиской за одну поездку, не превышает 3130 метров\")\nelse:\n    print(\"Отвергаем гипотезу: расстояние, которое пользователи проезжают с подпиской за одну поездку, превышает 3130 метров\")",
      "metadata": {},
      "execution_count": 31,
      "outputs": [
        {
          "name": "stdout",
          "output_type": "stream",
          "text": "p-value: 0.9195368847849785\n\nОтвергаем гипотезу: расстояние, которое пользователи проезжают с подпиской за одну поездку, превышает 3130 метров\n"
        }
      ],
      "id": "a71ae4f0"
    },
    {
      "cell_type": "markdown",
      "source": "**3. Проверьте гипотезу о том, будет ли помесячная выручка от пользователей с подпиской по месяцам выше, чем выручка от пользователей без подписки. Сделайте вывод.**",
      "metadata": {},
      "id": "23660caa"
    },
    {
      "cell_type": "markdown",
      "source": "**H0**: Ежемесячная выручка от пользователей с подпиской и без подписки не различается.\n\n**H1**: Ежемесячная выручка от пользователей с подпиской выше, чем от пользователей без подписки.",
      "metadata": {},
      "id": "00354305"
    },
    {
      "cell_type": "code",
      "source": "user_with_ultra = aggregated_df[aggregated_df['subscription_type'] == 'ultra']['monthly_revenue']\nuser_without_subs = aggregated_df[aggregated_df['subscription_type'] == 'free']['monthly_revenue']\n\nalpha = 0.5\n\nresults = st.ttest_ind(user_with_ultra, user_without_subs, alternative='greater')\n\nprint(f'p-value: {results.pvalue}')\n\nif results.pvalue < alpha:\n    print(\"Подтверждаем гипотезу: ежемесячная выручка от пользователей с подпиской выше, чем от пользователей без подписки\")\nelse:\n    print(\"Отвергаем гипотезу: ежемесячная выручка от пользователей с подпиской и без подписки не различается\")",
      "metadata": {},
      "execution_count": 32,
      "outputs": [
        {
          "name": "stdout",
          "output_type": "stream",
          "text": "p-value: 2.8130926188487286e-35\n\nПодтверждаем гипотезу: ежемесячная выручка от пользователей с подпиской выше, чем от пользователей без подписки\n"
        }
      ],
      "id": "521348fa"
    },
    {
      "cell_type": "markdown",
      "source": "**4. Представьте такую ситуацию: техническая команда сервиса обновила сервера, с которыми взаимодействует мобильное приложение. Она надеется, что из-за этого количество обращений в техподдержку значимо снизилось. Некоторый файл содержит для каждого пользователя данные о количестве обращений до обновления и после него. Какой тест вам понадобился бы для проверки этой гипотезы?**",
      "metadata": {},
      "id": "f3495544"
    },
    {
      "cell_type": "markdown",
      "source": "**Необходим тест с проверкой гипотезы о равенстве средних для зависимых (парных) выборок с использованием метода scipy.stats.ttest_rel().**\n<p> Нулевая гипотеза H0: Среднее количество обращений в техподдержку до обновления серверов равно среднему количеству обращений после обновления.\n<p> Альтернативная гипотеза H1:  Среднее количество обращений в техподдержку до обновления серверов отличается от среднего количества обращений после обновления.",
      "metadata": {},
      "id": "e99a52fd"
    },
    {
      "cell_type": "markdown",
      "source": "# Общий вывод",
      "metadata": {},
      "id": "bdc1b75b"
    },
    {
      "cell_type": "markdown",
      "source": "**Нам был передано 3 датасета для анализа данных и проверки гипотез по вопросам бизнеса, касаемо некоторых пользователей сервиса аренды самокатов GoFast из нескольких городов.**\n<p>На удивление, многие данные были предоставлены, а количество дубликатов было мизерное. К счастью, все дубликаты были устранены. Изменили тип данных только у одного столбца. Был добавлен стобец с месячной выручкой. По итогу вышло, что данные содержат в себе информацию о 18068 поездках и 1534 пользователях.",
      "metadata": {},
      "id": "540db910"
    },
    {
      "cell_type": "markdown",
      "source": "**Исследование выявило, что:**\n1. Средний медианный возраст пользователей 25 лет.\n2. Протяженность, которую проезжают пользователи составляют в интервале от 2,8 до 3,5 километров.\n3. Среднее время, которое затрачивают на поездки составляет от 12 до 21 минуты.\n4. Большая часть пользователей из Пятигорска, а наименьшая из Москвы.\n5. Доля пользователей с подпиской Ultra составляет 54,4%, без подписки Free 45,6%.",
      "metadata": {},
      "id": "539cf471"
    },
    {
      "cell_type": "markdown",
      "source": "**Были проведены гипотезы и выяснилось, что:**\n1. Гипотеза 1: пользователи с подпиской тратят больше времени на поездки?\n<p> Гипотеза подтверждена: пользователи с подпиской тратят больше времени на поездки.\n<p>\n2. Гипотеза 2: расстояние, которое пользователи проезжают с подпиской за одну поездку, не превышает 3130 метров?\n<p>Отвергаем гипотезу: расстояние, которое пользователи проезжают с подпиской за одну поездку, превышает 3130 метров.\n<p>\n3. Гипотеза 3: ежемесячная выручка от пользователей с подпиской выше, чем от пользователей без подписки?\n<p>Гипотеза подтверждена: ежемесячная выручка от пользователей с подпиской выше, чем от пользователей без подписки.",
      "metadata": {},
      "id": "1e94ffe7"
    },
    {
      "cell_type": "markdown",
      "source": "**Вывод:** Пользователи, которые приобретали подписку \"Ultra\" являлись самыми выгодными для сервиса GoFast. Учитывая, что пользователи с подпиской тратят больше времени на поездки и приносят больше выручки, стоит активно продвигать подписки среди пользователей. Предоставляйте им дополнительные преимущества, такие как скидки на продолжительные поездки, приоритетное обслуживание и доступ к эксклюзивным функциям или маршрутам.",
      "metadata": {},
      "id": "c4a3a1ee"
    }
  ]
}