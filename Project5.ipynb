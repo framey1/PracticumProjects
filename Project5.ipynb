{
  "metadata": {
    "ExecuteTimeLog": [
      {
        "duration": 1638,
        "start_time": "2023-08-03T19:44:47.331Z"
      },
      {
        "duration": 101,
        "start_time": "2023-08-03T19:44:48.972Z"
      },
      {
        "duration": 20,
        "start_time": "2023-08-03T19:49:33.244Z"
      },
      {
        "duration": 12,
        "start_time": "2023-08-03T19:51:04.448Z"
      },
      {
        "duration": 45,
        "start_time": "2023-08-03T19:51:41.711Z"
      },
      {
        "duration": 11,
        "start_time": "2023-08-03T19:54:18.040Z"
      },
      {
        "duration": 13,
        "start_time": "2023-08-03T19:54:28.581Z"
      },
      {
        "duration": 7,
        "start_time": "2023-08-03T19:54:56.503Z"
      },
      {
        "duration": 4,
        "start_time": "2023-08-03T19:57:30.048Z"
      },
      {
        "duration": 7,
        "start_time": "2023-08-03T19:57:44.407Z"
      },
      {
        "duration": 6,
        "start_time": "2023-08-03T19:57:56.967Z"
      },
      {
        "duration": 974,
        "start_time": "2023-08-03T19:58:47.303Z"
      },
      {
        "duration": 857,
        "start_time": "2023-08-03T19:59:02.700Z"
      },
      {
        "duration": 902,
        "start_time": "2023-08-03T19:59:11.999Z"
      },
      {
        "duration": 1586,
        "start_time": "2023-08-07T18:35:38.604Z"
      },
      {
        "duration": 83,
        "start_time": "2023-08-07T18:35:40.192Z"
      },
      {
        "duration": 30,
        "start_time": "2023-08-07T18:35:40.277Z"
      },
      {
        "duration": 28,
        "start_time": "2023-08-07T18:35:40.309Z"
      },
      {
        "duration": 52,
        "start_time": "2023-08-07T18:35:40.338Z"
      },
      {
        "duration": 1121,
        "start_time": "2023-08-07T18:35:40.527Z"
      },
      {
        "duration": 8,
        "start_time": "2023-08-07T18:35:41.651Z"
      },
      {
        "duration": 15,
        "start_time": "2023-08-07T18:35:41.661Z"
      },
      {
        "duration": 27,
        "start_time": "2023-08-07T18:35:41.678Z"
      },
      {
        "duration": 6,
        "start_time": "2023-08-07T18:44:30.399Z"
      },
      {
        "duration": 21,
        "start_time": "2023-08-07T18:46:19.192Z"
      },
      {
        "duration": 4,
        "start_time": "2023-08-07T18:46:54.024Z"
      },
      {
        "duration": 23,
        "start_time": "2023-08-07T18:49:46.836Z"
      },
      {
        "duration": 5,
        "start_time": "2023-08-07T18:51:08.861Z"
      },
      {
        "duration": 7,
        "start_time": "2023-08-07T18:58:02.365Z"
      },
      {
        "duration": 1499,
        "start_time": "2023-08-12T20:50:00.198Z"
      },
      {
        "duration": 80,
        "start_time": "2023-08-12T20:50:01.699Z"
      },
      {
        "duration": 24,
        "start_time": "2023-08-12T20:50:01.780Z"
      },
      {
        "duration": 12,
        "start_time": "2023-08-12T20:50:01.920Z"
      },
      {
        "duration": 36,
        "start_time": "2023-08-12T20:50:02.668Z"
      },
      {
        "duration": 973,
        "start_time": "2023-08-12T20:50:03.229Z"
      },
      {
        "duration": 6,
        "start_time": "2023-08-12T20:50:04.204Z"
      },
      {
        "duration": 3,
        "start_time": "2023-08-12T20:50:04.799Z"
      },
      {
        "duration": 7,
        "start_time": "2023-08-12T20:50:05.482Z"
      },
      {
        "duration": 6,
        "start_time": "2023-08-12T20:50:06.045Z"
      },
      {
        "duration": 18,
        "start_time": "2023-08-12T20:50:07.895Z"
      },
      {
        "duration": 4,
        "start_time": "2023-08-12T20:50:08.551Z"
      },
      {
        "duration": 25,
        "start_time": "2023-08-12T20:50:20.976Z"
      },
      {
        "duration": 3,
        "start_time": "2023-08-12T20:50:21.435Z"
      },
      {
        "duration": 5,
        "start_time": "2023-08-12T20:50:21.794Z"
      },
      {
        "duration": 5,
        "start_time": "2023-08-12T20:50:22.216Z"
      },
      {
        "duration": 4,
        "start_time": "2023-08-12T20:58:13.539Z"
      },
      {
        "duration": 41,
        "start_time": "2023-08-12T20:58:13.883Z"
      },
      {
        "duration": 18,
        "start_time": "2023-08-12T20:58:14.250Z"
      },
      {
        "duration": 9,
        "start_time": "2023-08-12T20:58:14.537Z"
      },
      {
        "duration": 34,
        "start_time": "2023-08-12T20:58:14.812Z"
      },
      {
        "duration": 920,
        "start_time": "2023-08-12T20:58:15.072Z"
      },
      {
        "duration": 8,
        "start_time": "2023-08-12T20:58:16.001Z"
      },
      {
        "duration": 17,
        "start_time": "2023-08-12T20:58:16.011Z"
      },
      {
        "duration": 27,
        "start_time": "2023-08-12T20:58:16.032Z"
      },
      {
        "duration": 4,
        "start_time": "2023-08-12T20:58:16.233Z"
      },
      {
        "duration": 17,
        "start_time": "2023-08-12T20:58:16.925Z"
      },
      {
        "duration": 3,
        "start_time": "2023-08-12T20:58:17.254Z"
      },
      {
        "duration": 22,
        "start_time": "2023-08-12T20:58:17.569Z"
      },
      {
        "duration": 4,
        "start_time": "2023-08-12T20:58:17.840Z"
      },
      {
        "duration": 5,
        "start_time": "2023-08-12T20:58:18.125Z"
      },
      {
        "duration": 6,
        "start_time": "2023-08-12T20:58:18.398Z"
      },
      {
        "duration": 105,
        "start_time": "2023-08-12T21:01:23.339Z"
      },
      {
        "duration": 4,
        "start_time": "2023-08-12T21:01:25.149Z"
      },
      {
        "duration": 7,
        "start_time": "2023-08-12T21:01:25.716Z"
      },
      {
        "duration": 27,
        "start_time": "2023-08-12T21:16:17.260Z"
      },
      {
        "duration": 30,
        "start_time": "2023-08-12T21:17:02.414Z"
      },
      {
        "duration": 16,
        "start_time": "2023-08-12T21:17:10.738Z"
      },
      {
        "duration": 21,
        "start_time": "2023-08-12T21:17:20.358Z"
      },
      {
        "duration": 2,
        "start_time": "2023-08-12T21:18:07.141Z"
      },
      {
        "duration": 10,
        "start_time": "2023-08-12T21:18:36.231Z"
      },
      {
        "duration": 8,
        "start_time": "2023-08-12T21:19:09.971Z"
      },
      {
        "duration": 16,
        "start_time": "2023-08-12T21:20:35.148Z"
      },
      {
        "duration": 15,
        "start_time": "2023-08-12T21:20:59.635Z"
      },
      {
        "duration": 15,
        "start_time": "2023-08-12T21:21:07.396Z"
      },
      {
        "duration": 21,
        "start_time": "2023-08-12T21:21:32.443Z"
      },
      {
        "duration": 15,
        "start_time": "2023-08-12T21:22:31.587Z"
      },
      {
        "duration": 15,
        "start_time": "2023-08-12T21:23:30.178Z"
      },
      {
        "duration": 1215,
        "start_time": "2023-08-12T21:26:06.591Z"
      },
      {
        "duration": 1501,
        "start_time": "2023-08-12T21:27:16.428Z"
      },
      {
        "duration": 1471,
        "start_time": "2023-08-12T21:28:07.861Z"
      },
      {
        "duration": 1304,
        "start_time": "2023-08-12T21:28:59.829Z"
      },
      {
        "duration": 1197,
        "start_time": "2023-08-12T21:30:05.521Z"
      },
      {
        "duration": 5,
        "start_time": "2023-08-12T21:30:56.584Z"
      },
      {
        "duration": 11825,
        "start_time": "2023-08-12T21:35:39.112Z"
      },
      {
        "duration": 12409,
        "start_time": "2023-08-12T21:37:27.320Z"
      },
      {
        "duration": 12271,
        "start_time": "2023-08-12T21:38:35.846Z"
      },
      {
        "duration": 1564,
        "start_time": "2023-08-13T11:52:46.267Z"
      },
      {
        "duration": 170,
        "start_time": "2023-08-13T11:52:47.833Z"
      },
      {
        "duration": 34,
        "start_time": "2023-08-13T11:52:48.004Z"
      },
      {
        "duration": 16,
        "start_time": "2023-08-13T11:52:48.040Z"
      },
      {
        "duration": 54,
        "start_time": "2023-08-13T11:52:48.058Z"
      },
      {
        "duration": 1211,
        "start_time": "2023-08-13T11:52:48.114Z"
      },
      {
        "duration": 7,
        "start_time": "2023-08-13T11:52:49.328Z"
      },
      {
        "duration": 13,
        "start_time": "2023-08-13T11:52:49.337Z"
      },
      {
        "duration": 20,
        "start_time": "2023-08-13T11:52:49.352Z"
      },
      {
        "duration": 14,
        "start_time": "2023-08-13T11:52:49.373Z"
      },
      {
        "duration": 32,
        "start_time": "2023-08-13T11:52:49.389Z"
      },
      {
        "duration": 13,
        "start_time": "2023-08-13T11:52:49.423Z"
      },
      {
        "duration": 26,
        "start_time": "2023-08-13T11:52:49.528Z"
      },
      {
        "duration": 5,
        "start_time": "2023-08-13T11:52:49.698Z"
      },
      {
        "duration": 5,
        "start_time": "2023-08-13T11:52:49.875Z"
      },
      {
        "duration": 8,
        "start_time": "2023-08-13T11:52:50.061Z"
      },
      {
        "duration": 6,
        "start_time": "2023-08-13T11:52:50.260Z"
      },
      {
        "duration": 39,
        "start_time": "2023-08-13T11:52:50.484Z"
      },
      {
        "duration": 18,
        "start_time": "2023-08-13T11:52:50.929Z"
      },
      {
        "duration": 19,
        "start_time": "2023-08-13T11:52:51.995Z"
      },
      {
        "duration": 11499,
        "start_time": "2023-08-13T11:52:52.645Z"
      },
      {
        "duration": 18,
        "start_time": "2023-08-13T11:53:04.146Z"
      },
      {
        "duration": 24,
        "start_time": "2023-08-13T11:53:04.165Z"
      },
      {
        "duration": 43,
        "start_time": "2023-08-13T11:53:04.192Z"
      },
      {
        "duration": 21,
        "start_time": "2023-08-13T11:53:10.370Z"
      },
      {
        "duration": 25,
        "start_time": "2023-08-13T11:53:22.827Z"
      },
      {
        "duration": 10,
        "start_time": "2023-08-13T11:53:35.685Z"
      },
      {
        "duration": 18,
        "start_time": "2023-08-13T11:53:42.405Z"
      },
      {
        "duration": 16,
        "start_time": "2023-08-13T11:53:45.100Z"
      },
      {
        "duration": 11704,
        "start_time": "2023-08-13T11:53:59.014Z"
      },
      {
        "duration": 50,
        "start_time": "2023-08-13T11:56:08.536Z"
      },
      {
        "duration": 34,
        "start_time": "2023-08-13T11:57:25.786Z"
      },
      {
        "duration": 13,
        "start_time": "2023-08-13T11:58:37.309Z"
      },
      {
        "duration": 7783,
        "start_time": "2023-08-13T12:00:39.018Z"
      },
      {
        "duration": 26,
        "start_time": "2023-08-13T12:00:55.648Z"
      },
      {
        "duration": 25,
        "start_time": "2023-08-13T12:00:58.343Z"
      },
      {
        "duration": 9,
        "start_time": "2023-08-13T12:00:58.886Z"
      },
      {
        "duration": 32,
        "start_time": "2023-08-13T12:01:12.067Z"
      },
      {
        "duration": 10,
        "start_time": "2023-08-13T12:01:12.470Z"
      },
      {
        "duration": 28,
        "start_time": "2023-08-13T12:01:51.505Z"
      },
      {
        "duration": 9,
        "start_time": "2023-08-13T12:01:52.961Z"
      },
      {
        "duration": 11702,
        "start_time": "2023-08-13T12:03:04.669Z"
      },
      {
        "duration": 9,
        "start_time": "2023-08-13T12:03:47.284Z"
      },
      {
        "duration": 35,
        "start_time": "2023-08-13T12:04:09.982Z"
      },
      {
        "duration": 11,
        "start_time": "2023-08-13T12:04:11.006Z"
      },
      {
        "duration": 28,
        "start_time": "2023-08-13T12:04:18.152Z"
      },
      {
        "duration": 12,
        "start_time": "2023-08-13T12:04:19.076Z"
      },
      {
        "duration": 111,
        "start_time": "2023-08-13T12:04:56.466Z"
      },
      {
        "duration": 11311,
        "start_time": "2023-08-13T12:06:14.278Z"
      },
      {
        "duration": 26,
        "start_time": "2023-08-13T12:06:25.591Z"
      },
      {
        "duration": 9,
        "start_time": "2023-08-13T12:06:25.619Z"
      },
      {
        "duration": 32,
        "start_time": "2023-08-13T12:09:08.210Z"
      },
      {
        "duration": 26,
        "start_time": "2023-08-13T12:09:10.164Z"
      },
      {
        "duration": 10,
        "start_time": "2023-08-13T12:09:10.496Z"
      },
      {
        "duration": 37,
        "start_time": "2023-08-13T12:09:17.481Z"
      },
      {
        "duration": 12,
        "start_time": "2023-08-13T12:09:18.141Z"
      },
      {
        "duration": 36,
        "start_time": "2023-08-13T12:09:21.324Z"
      },
      {
        "duration": 9,
        "start_time": "2023-08-13T12:09:21.619Z"
      },
      {
        "duration": 40,
        "start_time": "2023-08-13T12:09:28.328Z"
      },
      {
        "duration": 9,
        "start_time": "2023-08-13T12:09:28.747Z"
      },
      {
        "duration": 12678,
        "start_time": "2023-08-13T12:10:11.388Z"
      },
      {
        "duration": 49,
        "start_time": "2023-08-13T12:10:24.069Z"
      },
      {
        "duration": 14,
        "start_time": "2023-08-13T12:10:24.120Z"
      },
      {
        "duration": 9,
        "start_time": "2023-08-13T12:11:01.603Z"
      },
      {
        "duration": 5,
        "start_time": "2023-08-13T12:11:01.949Z"
      },
      {
        "duration": 29,
        "start_time": "2023-08-13T12:11:02.271Z"
      },
      {
        "duration": 29,
        "start_time": "2023-08-13T12:11:02.579Z"
      },
      {
        "duration": 19,
        "start_time": "2023-08-13T12:11:02.880Z"
      },
      {
        "duration": 6707,
        "start_time": "2023-08-13T12:11:03.152Z"
      },
      {
        "duration": 33,
        "start_time": "2023-08-13T12:11:09.862Z"
      },
      {
        "duration": 10,
        "start_time": "2023-08-13T12:11:09.897Z"
      },
      {
        "duration": 22,
        "start_time": "2023-08-13T12:11:41.684Z"
      },
      {
        "duration": 13,
        "start_time": "2023-08-13T12:46:19.505Z"
      },
      {
        "duration": 80,
        "start_time": "2023-08-13T12:46:25.263Z"
      },
      {
        "duration": 129,
        "start_time": "2023-08-13T12:46:35.555Z"
      },
      {
        "duration": 129,
        "start_time": "2023-08-13T12:47:41.616Z"
      },
      {
        "duration": 6804,
        "start_time": "2023-08-13T12:48:25.279Z"
      },
      {
        "duration": 108,
        "start_time": "2023-08-13T12:50:38.439Z"
      },
      {
        "duration": 30,
        "start_time": "2023-08-13T12:51:59.244Z"
      },
      {
        "duration": 10,
        "start_time": "2023-08-13T12:51:59.995Z"
      },
      {
        "duration": 1434,
        "start_time": "2023-08-13T12:52:18.744Z"
      },
      {
        "duration": 43,
        "start_time": "2023-08-13T12:52:20.180Z"
      },
      {
        "duration": 24,
        "start_time": "2023-08-13T12:52:20.647Z"
      },
      {
        "duration": 16,
        "start_time": "2023-08-13T12:52:21.032Z"
      },
      {
        "duration": 39,
        "start_time": "2023-08-13T12:52:21.396Z"
      },
      {
        "duration": 1165,
        "start_time": "2023-08-13T12:52:21.683Z"
      },
      {
        "duration": 7,
        "start_time": "2023-08-13T12:52:22.850Z"
      },
      {
        "duration": 117,
        "start_time": "2023-08-13T12:52:22.859Z"
      },
      {
        "duration": 151,
        "start_time": "2023-08-13T12:52:22.978Z"
      },
      {
        "duration": 18,
        "start_time": "2023-08-13T12:52:23.131Z"
      },
      {
        "duration": 22,
        "start_time": "2023-08-13T12:52:24.012Z"
      },
      {
        "duration": 4,
        "start_time": "2023-08-13T12:52:24.437Z"
      },
      {
        "duration": 26,
        "start_time": "2023-08-13T12:52:24.873Z"
      },
      {
        "duration": 4,
        "start_time": "2023-08-13T12:52:25.247Z"
      },
      {
        "duration": 6,
        "start_time": "2023-08-13T12:52:25.594Z"
      },
      {
        "duration": 9,
        "start_time": "2023-08-13T12:52:26.100Z"
      },
      {
        "duration": 4,
        "start_time": "2023-08-13T12:52:27.313Z"
      },
      {
        "duration": 32,
        "start_time": "2023-08-13T12:52:27.859Z"
      },
      {
        "duration": 19,
        "start_time": "2023-08-13T12:52:28.443Z"
      },
      {
        "duration": 19,
        "start_time": "2023-08-13T12:52:28.946Z"
      },
      {
        "duration": 145,
        "start_time": "2023-08-13T12:52:30.161Z"
      },
      {
        "duration": 6182,
        "start_time": "2023-08-13T12:52:37.224Z"
      },
      {
        "duration": 22,
        "start_time": "2023-08-13T12:52:49.085Z"
      },
      {
        "duration": 10,
        "start_time": "2023-08-13T12:52:51.954Z"
      },
      {
        "duration": 78,
        "start_time": "2023-08-13T12:54:04.498Z"
      },
      {
        "duration": 135779,
        "start_time": "2023-08-13T12:57:46.993Z"
      },
      {
        "duration": 6344,
        "start_time": "2023-08-13T13:00:02.774Z"
      },
      {
        "duration": 4,
        "start_time": "2023-08-13T13:00:51.615Z"
      },
      {
        "duration": 6168,
        "start_time": "2023-08-13T13:00:57.387Z"
      },
      {
        "duration": 6029,
        "start_time": "2023-08-13T13:02:16.949Z"
      },
      {
        "duration": 6611,
        "start_time": "2023-08-13T13:02:30.039Z"
      },
      {
        "duration": 6135,
        "start_time": "2023-08-13T13:02:45.811Z"
      },
      {
        "duration": 6534,
        "start_time": "2023-08-13T13:02:56.431Z"
      },
      {
        "duration": 142961,
        "start_time": "2023-08-13T13:03:06.751Z"
      },
      {
        "duration": 7052,
        "start_time": "2023-08-13T13:08:14.336Z"
      },
      {
        "duration": 25,
        "start_time": "2023-08-13T13:08:22.352Z"
      },
      {
        "duration": 15,
        "start_time": "2023-08-13T13:08:22.846Z"
      },
      {
        "duration": 146829,
        "start_time": "2023-08-13T13:08:25.956Z"
      },
      {
        "duration": 1592,
        "start_time": "2023-08-13T13:13:56.445Z"
      },
      {
        "duration": 11,
        "start_time": "2023-08-13T13:14:28.231Z"
      },
      {
        "duration": 1320,
        "start_time": "2023-08-13T13:18:48.030Z"
      },
      {
        "duration": 111,
        "start_time": "2023-08-13T13:21:07.864Z"
      },
      {
        "duration": 15,
        "start_time": "2023-08-13T13:21:25.422Z"
      },
      {
        "duration": 11,
        "start_time": "2023-08-13T13:47:49.045Z"
      },
      {
        "duration": 327589,
        "start_time": "2023-08-13T13:48:10.754Z"
      },
      {
        "duration": 146190,
        "start_time": "2023-08-13T13:54:04.459Z"
      },
      {
        "duration": 460,
        "start_time": "2023-08-13T13:58:46.001Z"
      },
      {
        "duration": 12,
        "start_time": "2023-08-13T14:00:05.192Z"
      },
      {
        "duration": 425,
        "start_time": "2023-08-13T14:00:57.787Z"
      },
      {
        "duration": 12,
        "start_time": "2023-08-13T14:00:59.000Z"
      },
      {
        "duration": 62,
        "start_time": "2023-08-13T14:02:43.216Z"
      },
      {
        "duration": 428,
        "start_time": "2023-08-13T14:03:13.291Z"
      },
      {
        "duration": 73,
        "start_time": "2023-08-13T14:03:13.721Z"
      },
      {
        "duration": 421,
        "start_time": "2023-08-13T14:03:21.592Z"
      },
      {
        "duration": 63,
        "start_time": "2023-08-13T14:03:22.404Z"
      },
      {
        "duration": 439,
        "start_time": "2023-08-13T14:05:53.090Z"
      },
      {
        "duration": 80,
        "start_time": "2023-08-13T14:05:59.520Z"
      },
      {
        "duration": 68,
        "start_time": "2023-08-13T14:08:44.025Z"
      },
      {
        "duration": 7254,
        "start_time": "2023-08-13T14:10:37.687Z"
      },
      {
        "duration": 7420,
        "start_time": "2023-08-13T14:10:54.181Z"
      },
      {
        "duration": 23,
        "start_time": "2023-08-13T14:12:59.094Z"
      },
      {
        "duration": 15,
        "start_time": "2023-08-13T14:13:29.741Z"
      },
      {
        "duration": 20,
        "start_time": "2023-08-13T14:14:03.896Z"
      },
      {
        "duration": 18,
        "start_time": "2023-08-13T14:14:04.218Z"
      },
      {
        "duration": 24,
        "start_time": "2023-08-13T14:14:14.691Z"
      },
      {
        "duration": 15,
        "start_time": "2023-08-13T14:14:15.248Z"
      },
      {
        "duration": 1468,
        "start_time": "2023-08-13T14:17:36.791Z"
      },
      {
        "duration": 32,
        "start_time": "2023-08-13T14:17:38.261Z"
      },
      {
        "duration": 11,
        "start_time": "2023-08-13T14:17:43.591Z"
      },
      {
        "duration": 1553,
        "start_time": "2023-08-13T14:18:37.949Z"
      },
      {
        "duration": 620,
        "start_time": "2023-08-13T14:18:51.887Z"
      },
      {
        "duration": 23,
        "start_time": "2023-08-13T14:20:17.724Z"
      },
      {
        "duration": 15,
        "start_time": "2023-08-13T14:20:40.954Z"
      },
      {
        "duration": 37,
        "start_time": "2023-08-13T14:21:01.564Z"
      },
      {
        "duration": 11,
        "start_time": "2023-08-13T14:25:20.790Z"
      },
      {
        "duration": 10,
        "start_time": "2023-08-13T14:27:00.496Z"
      },
      {
        "duration": 3,
        "start_time": "2023-08-13T14:27:01.712Z"
      },
      {
        "duration": 27,
        "start_time": "2023-08-13T14:27:02.199Z"
      },
      {
        "duration": 21,
        "start_time": "2023-08-13T14:27:02.530Z"
      },
      {
        "duration": 19,
        "start_time": "2023-08-13T14:27:02.788Z"
      },
      {
        "duration": 125,
        "start_time": "2023-08-13T14:27:03.488Z"
      },
      {
        "duration": 12652,
        "start_time": "2023-08-13T14:27:04.989Z"
      },
      {
        "duration": 53,
        "start_time": "2023-08-13T14:27:17.643Z"
      },
      {
        "duration": 10,
        "start_time": "2023-08-13T14:27:17.698Z"
      },
      {
        "duration": 32,
        "start_time": "2023-08-13T14:27:49.509Z"
      },
      {
        "duration": 9,
        "start_time": "2023-08-13T14:27:50.150Z"
      },
      {
        "duration": 259764,
        "start_time": "2023-08-13T14:28:18.714Z"
      },
      {
        "duration": 2159,
        "start_time": "2023-08-13T14:33:22.547Z"
      },
      {
        "duration": 9,
        "start_time": "2023-08-13T14:33:26.520Z"
      },
      {
        "duration": 16727,
        "start_time": "2023-08-13T14:34:18.648Z"
      },
      {
        "duration": 33,
        "start_time": "2023-08-13T14:34:55.564Z"
      },
      {
        "duration": 8,
        "start_time": "2023-08-13T14:34:56.515Z"
      },
      {
        "duration": 255538,
        "start_time": "2023-08-13T14:37:54.286Z"
      },
      {
        "duration": 1514,
        "start_time": "2023-08-13T14:42:36.921Z"
      },
      {
        "duration": 15,
        "start_time": "2023-08-13T14:42:38.437Z"
      },
      {
        "duration": 1492,
        "start_time": "2023-08-13T14:42:51.153Z"
      },
      {
        "duration": 16,
        "start_time": "2023-08-13T14:42:52.647Z"
      },
      {
        "duration": 1508,
        "start_time": "2023-08-13T14:44:27.135Z"
      },
      {
        "duration": 16,
        "start_time": "2023-08-13T14:44:28.645Z"
      },
      {
        "duration": 20,
        "start_time": "2023-08-13T14:45:13.969Z"
      },
      {
        "duration": 754,
        "start_time": "2023-08-13T14:45:33.640Z"
      },
      {
        "duration": 12,
        "start_time": "2023-08-13T14:45:34.396Z"
      },
      {
        "duration": 762,
        "start_time": "2023-08-13T14:45:40.190Z"
      },
      {
        "duration": 12,
        "start_time": "2023-08-13T14:45:40.954Z"
      },
      {
        "duration": 1434,
        "start_time": "2023-08-13T14:45:50.119Z"
      },
      {
        "duration": 67,
        "start_time": "2023-08-13T14:46:01.454Z"
      },
      {
        "duration": 16,
        "start_time": "2023-08-13T14:46:22.902Z"
      },
      {
        "duration": 1437,
        "start_time": "2023-08-13T14:46:50.310Z"
      },
      {
        "duration": 14,
        "start_time": "2023-08-13T14:46:51.748Z"
      },
      {
        "duration": 1472,
        "start_time": "2023-08-13T14:49:54.348Z"
      },
      {
        "duration": 13,
        "start_time": "2023-08-13T14:49:55.822Z"
      },
      {
        "duration": 1527,
        "start_time": "2023-08-13T14:50:05.030Z"
      },
      {
        "duration": 13,
        "start_time": "2023-08-13T14:50:07.448Z"
      },
      {
        "duration": 1475,
        "start_time": "2023-08-13T14:52:14.461Z"
      },
      {
        "duration": 12,
        "start_time": "2023-08-13T14:52:15.938Z"
      },
      {
        "duration": 12316,
        "start_time": "2023-08-13T14:53:16.595Z"
      },
      {
        "duration": 32,
        "start_time": "2023-08-13T14:53:45.196Z"
      },
      {
        "duration": 20,
        "start_time": "2023-08-13T14:53:45.570Z"
      },
      {
        "duration": 1762,
        "start_time": "2023-08-13T14:54:31.370Z"
      },
      {
        "duration": 47,
        "start_time": "2023-08-13T14:54:33.134Z"
      },
      {
        "duration": 30,
        "start_time": "2023-08-13T14:54:33.184Z"
      },
      {
        "duration": 22,
        "start_time": "2023-08-13T14:54:33.216Z"
      },
      {
        "duration": 71,
        "start_time": "2023-08-13T14:54:33.240Z"
      },
      {
        "duration": 1377,
        "start_time": "2023-08-13T14:54:33.313Z"
      },
      {
        "duration": 11,
        "start_time": "2023-08-13T14:54:34.692Z"
      },
      {
        "duration": 3,
        "start_time": "2023-08-13T14:54:34.706Z"
      },
      {
        "duration": 10,
        "start_time": "2023-08-13T14:54:34.710Z"
      },
      {
        "duration": 6,
        "start_time": "2023-08-13T14:54:34.722Z"
      },
      {
        "duration": 56,
        "start_time": "2023-08-13T14:54:34.730Z"
      },
      {
        "duration": 5,
        "start_time": "2023-08-13T14:54:34.788Z"
      },
      {
        "duration": 38,
        "start_time": "2023-08-13T14:54:34.794Z"
      },
      {
        "duration": 5,
        "start_time": "2023-08-13T14:54:34.834Z"
      },
      {
        "duration": 34,
        "start_time": "2023-08-13T14:54:34.841Z"
      },
      {
        "duration": 15,
        "start_time": "2023-08-13T14:54:34.878Z"
      },
      {
        "duration": 3,
        "start_time": "2023-08-13T14:54:34.940Z"
      },
      {
        "duration": 30,
        "start_time": "2023-08-13T14:54:35.129Z"
      },
      {
        "duration": 22,
        "start_time": "2023-08-13T14:54:35.308Z"
      },
      {
        "duration": 23,
        "start_time": "2023-08-13T14:54:35.460Z"
      },
      {
        "duration": 136,
        "start_time": "2023-08-13T14:54:35.813Z"
      },
      {
        "duration": 13235,
        "start_time": "2023-08-13T14:54:37.021Z"
      },
      {
        "duration": 53,
        "start_time": "2023-08-13T14:54:50.258Z"
      },
      {
        "duration": 13,
        "start_time": "2023-08-13T14:54:50.313Z"
      },
      {
        "duration": 265486,
        "start_time": "2023-08-13T14:54:50.329Z"
      },
      {
        "duration": 2170,
        "start_time": "2023-08-13T14:59:15.817Z"
      },
      {
        "duration": 12,
        "start_time": "2023-08-13T14:59:17.990Z"
      },
      {
        "duration": 15870,
        "start_time": "2023-08-13T14:59:18.004Z"
      },
      {
        "duration": 38,
        "start_time": "2023-08-13T14:59:33.882Z"
      },
      {
        "duration": 12,
        "start_time": "2023-08-13T14:59:33.922Z"
      },
      {
        "duration": 276524,
        "start_time": "2023-08-13T14:59:33.937Z"
      },
      {
        "duration": 1497,
        "start_time": "2023-08-13T15:04:10.464Z"
      },
      {
        "duration": 132,
        "start_time": "2023-08-13T15:04:11.963Z"
      },
      {
        "duration": 1659,
        "start_time": "2023-08-13T16:47:22.900Z"
      },
      {
        "duration": 71,
        "start_time": "2023-08-13T16:47:24.561Z"
      },
      {
        "duration": 24,
        "start_time": "2023-08-13T16:47:24.634Z"
      },
      {
        "duration": 16,
        "start_time": "2023-08-13T16:47:24.660Z"
      },
      {
        "duration": 56,
        "start_time": "2023-08-13T16:47:24.678Z"
      },
      {
        "duration": 1320,
        "start_time": "2023-08-13T16:47:24.736Z"
      },
      {
        "duration": 7,
        "start_time": "2023-08-13T16:47:26.059Z"
      },
      {
        "duration": 10,
        "start_time": "2023-08-13T16:47:26.089Z"
      },
      {
        "duration": 10,
        "start_time": "2023-08-13T16:47:26.101Z"
      },
      {
        "duration": 10,
        "start_time": "2023-08-13T16:47:26.114Z"
      },
      {
        "duration": 20,
        "start_time": "2023-08-13T16:47:26.126Z"
      },
      {
        "duration": 4,
        "start_time": "2023-08-13T16:47:26.148Z"
      },
      {
        "duration": 45,
        "start_time": "2023-08-13T16:47:26.154Z"
      },
      {
        "duration": 4,
        "start_time": "2023-08-13T16:47:26.342Z"
      },
      {
        "duration": 6,
        "start_time": "2023-08-13T16:47:27.242Z"
      },
      {
        "duration": 8,
        "start_time": "2023-08-13T16:47:27.704Z"
      },
      {
        "duration": 2,
        "start_time": "2023-08-13T16:47:28.567Z"
      },
      {
        "duration": 31,
        "start_time": "2023-08-13T16:47:29.195Z"
      },
      {
        "duration": 18,
        "start_time": "2023-08-13T16:47:29.902Z"
      },
      {
        "duration": 22,
        "start_time": "2023-08-13T16:47:31.896Z"
      },
      {
        "duration": 127,
        "start_time": "2023-08-13T16:47:33.126Z"
      },
      {
        "duration": 13666,
        "start_time": "2023-08-13T16:47:36.570Z"
      },
      {
        "duration": 41,
        "start_time": "2023-08-13T16:47:58.895Z"
      },
      {
        "duration": 9,
        "start_time": "2023-08-13T16:47:59.911Z"
      },
      {
        "duration": 287299,
        "start_time": "2023-08-13T16:48:19.492Z"
      },
      {
        "duration": 2663,
        "start_time": "2023-08-13T16:53:19.650Z"
      },
      {
        "duration": 11,
        "start_time": "2023-08-13T16:53:22.316Z"
      },
      {
        "duration": 16728,
        "start_time": "2023-08-13T16:53:58.499Z"
      },
      {
        "duration": 35,
        "start_time": "2023-08-13T16:54:22.322Z"
      },
      {
        "duration": 31,
        "start_time": "2023-08-13T16:54:23.794Z"
      },
      {
        "duration": 282711,
        "start_time": "2023-08-13T16:56:09.501Z"
      },
      {
        "duration": 1559,
        "start_time": "2023-08-13T17:01:09.591Z"
      },
      {
        "duration": 71,
        "start_time": "2023-08-13T17:01:11.152Z"
      },
      {
        "duration": 13402,
        "start_time": "2023-08-13T17:01:23.647Z"
      },
      {
        "duration": 38,
        "start_time": "2023-08-13T17:01:49.592Z"
      },
      {
        "duration": 13,
        "start_time": "2023-08-13T17:01:51.853Z"
      },
      {
        "duration": 6604,
        "start_time": "2023-08-13T17:01:57.086Z"
      },
      {
        "duration": 28,
        "start_time": "2023-08-13T17:02:17.032Z"
      },
      {
        "duration": 29,
        "start_time": "2023-08-13T17:02:19.091Z"
      },
      {
        "duration": 30,
        "start_time": "2023-08-13T17:08:32.072Z"
      },
      {
        "duration": 1749,
        "start_time": "2023-09-07T06:56:58.180Z"
      },
      {
        "duration": 4,
        "start_time": "2023-09-07T06:57:04.632Z"
      },
      {
        "duration": 175,
        "start_time": "2023-09-07T06:57:06.668Z"
      },
      {
        "duration": 29,
        "start_time": "2023-09-07T06:57:07.518Z"
      },
      {
        "duration": 17,
        "start_time": "2023-09-07T06:57:09.632Z"
      },
      {
        "duration": 43,
        "start_time": "2023-09-07T06:57:09.860Z"
      },
      {
        "duration": 1208,
        "start_time": "2023-09-07T06:57:10.240Z"
      },
      {
        "duration": 9,
        "start_time": "2023-09-07T06:57:11.449Z"
      },
      {
        "duration": 3,
        "start_time": "2023-09-07T06:57:11.468Z"
      },
      {
        "duration": 14,
        "start_time": "2023-09-07T06:57:11.473Z"
      },
      {
        "duration": 7,
        "start_time": "2023-09-07T06:57:11.488Z"
      },
      {
        "duration": 21,
        "start_time": "2023-09-07T06:57:11.692Z"
      },
      {
        "duration": 4,
        "start_time": "2023-09-07T06:57:11.952Z"
      },
      {
        "duration": 26,
        "start_time": "2023-09-07T06:57:12.192Z"
      },
      {
        "duration": 5,
        "start_time": "2023-09-07T06:57:12.640Z"
      },
      {
        "duration": 5,
        "start_time": "2023-09-07T06:57:12.941Z"
      },
      {
        "duration": 8,
        "start_time": "2023-09-07T06:57:13.132Z"
      },
      {
        "duration": 3,
        "start_time": "2023-09-07T06:57:13.331Z"
      },
      {
        "duration": 30,
        "start_time": "2023-09-07T06:57:13.581Z"
      },
      {
        "duration": 18,
        "start_time": "2023-09-07T06:57:14.072Z"
      },
      {
        "duration": 20,
        "start_time": "2023-09-07T06:57:14.612Z"
      },
      {
        "duration": 127,
        "start_time": "2023-09-07T06:57:18.380Z"
      },
      {
        "duration": 12502,
        "start_time": "2023-09-07T06:57:20.922Z"
      },
      {
        "duration": 36,
        "start_time": "2023-09-07T06:57:51.852Z"
      },
      {
        "duration": 11,
        "start_time": "2023-09-07T06:57:52.345Z"
      },
      {
        "duration": 251727,
        "start_time": "2023-09-07T06:57:57.450Z"
      },
      {
        "duration": 2274,
        "start_time": "2023-09-07T07:02:09.180Z"
      },
      {
        "duration": 13,
        "start_time": "2023-09-07T07:02:11.456Z"
      },
      {
        "duration": 18600,
        "start_time": "2023-09-07T07:02:11.471Z"
      },
      {
        "duration": 28,
        "start_time": "2023-09-07T07:02:30.073Z"
      },
      {
        "duration": 218,
        "start_time": "2023-09-07T07:02:30.104Z"
      },
      {
        "duration": 259805,
        "start_time": "2023-09-07T07:02:59.008Z"
      },
      {
        "duration": 1750,
        "start_time": "2023-09-07T07:08:02.088Z"
      },
      {
        "duration": 78,
        "start_time": "2023-09-07T07:08:04.566Z"
      },
      {
        "duration": 15408,
        "start_time": "2023-09-07T07:08:09.643Z"
      },
      {
        "duration": 43,
        "start_time": "2023-09-07T07:08:50.888Z"
      },
      {
        "duration": 21,
        "start_time": "2023-09-07T07:08:52.338Z"
      },
      {
        "duration": 7937,
        "start_time": "2023-09-07T07:08:56.529Z"
      },
      {
        "duration": 42,
        "start_time": "2023-09-07T07:09:21.223Z"
      },
      {
        "duration": 23,
        "start_time": "2023-09-07T07:09:22.388Z"
      },
      {
        "duration": 22,
        "start_time": "2023-09-07T07:09:27.115Z"
      },
      {
        "duration": 4,
        "start_time": "2023-09-07T07:38:27.666Z"
      },
      {
        "duration": 71,
        "start_time": "2023-09-07T07:38:27.672Z"
      },
      {
        "duration": 28,
        "start_time": "2023-09-07T07:38:27.745Z"
      },
      {
        "duration": 21,
        "start_time": "2023-09-07T07:38:27.776Z"
      },
      {
        "duration": 44,
        "start_time": "2023-09-07T07:38:27.799Z"
      },
      {
        "duration": 1289,
        "start_time": "2023-09-07T07:38:27.845Z"
      },
      {
        "duration": 9,
        "start_time": "2023-09-07T07:38:29.138Z"
      },
      {
        "duration": 50,
        "start_time": "2023-09-07T07:38:29.150Z"
      },
      {
        "duration": 10,
        "start_time": "2023-09-07T07:38:29.202Z"
      },
      {
        "duration": 5,
        "start_time": "2023-09-07T07:38:29.214Z"
      },
      {
        "duration": 103,
        "start_time": "2023-09-07T07:38:29.221Z"
      },
      {
        "duration": 64,
        "start_time": "2023-09-07T07:38:29.326Z"
      },
      {
        "duration": 62,
        "start_time": "2023-09-07T07:38:29.391Z"
      },
      {
        "duration": 32,
        "start_time": "2023-09-07T07:38:29.455Z"
      },
      {
        "duration": 25,
        "start_time": "2023-09-07T07:38:29.488Z"
      },
      {
        "duration": 25,
        "start_time": "2023-09-07T07:38:29.515Z"
      },
      {
        "duration": 13,
        "start_time": "2023-09-07T07:38:29.542Z"
      },
      {
        "duration": 43,
        "start_time": "2023-09-07T07:38:29.557Z"
      },
      {
        "duration": 20,
        "start_time": "2023-09-07T07:38:29.602Z"
      },
      {
        "duration": 41,
        "start_time": "2023-09-07T07:38:29.624Z"
      },
      {
        "duration": 146,
        "start_time": "2023-09-07T07:38:29.667Z"
      },
      {
        "duration": 12431,
        "start_time": "2023-09-07T07:38:29.814Z"
      },
      {
        "duration": 46,
        "start_time": "2023-09-07T07:38:42.246Z"
      },
      {
        "duration": 11,
        "start_time": "2023-09-07T07:38:42.295Z"
      },
      {
        "duration": 250352,
        "start_time": "2023-09-07T07:38:42.309Z"
      },
      {
        "duration": 2201,
        "start_time": "2023-09-07T07:42:52.666Z"
      },
      {
        "duration": 9,
        "start_time": "2023-09-07T07:42:54.869Z"
      },
      {
        "duration": 18689,
        "start_time": "2023-09-07T07:42:54.880Z"
      },
      {
        "duration": 25,
        "start_time": "2023-09-07T07:43:13.571Z"
      },
      {
        "duration": 177,
        "start_time": "2023-09-07T07:43:13.598Z"
      },
      {
        "duration": 246747,
        "start_time": "2023-09-07T07:43:13.777Z"
      },
      {
        "duration": 1418,
        "start_time": "2023-09-07T07:47:20.526Z"
      },
      {
        "duration": 71,
        "start_time": "2023-09-07T07:47:21.946Z"
      },
      {
        "duration": 13049,
        "start_time": "2023-09-07T07:47:22.018Z"
      },
      {
        "duration": 40,
        "start_time": "2023-09-07T07:47:35.069Z"
      },
      {
        "duration": 14,
        "start_time": "2023-09-07T07:47:35.110Z"
      },
      {
        "duration": 9442,
        "start_time": "2023-09-07T07:47:35.126Z"
      },
      {
        "duration": 32,
        "start_time": "2023-09-07T07:47:44.569Z"
      },
      {
        "duration": 106,
        "start_time": "2023-09-07T07:47:44.669Z"
      },
      {
        "duration": 104,
        "start_time": "2023-09-07T07:47:44.868Z"
      },
      {
        "duration": 1614,
        "start_time": "2023-09-19T10:55:35.912Z"
      },
      {
        "duration": 345,
        "start_time": "2023-09-19T10:55:37.528Z"
      },
      {
        "duration": 23,
        "start_time": "2023-09-19T10:55:37.874Z"
      },
      {
        "duration": 13,
        "start_time": "2023-09-19T10:55:37.899Z"
      },
      {
        "duration": 42,
        "start_time": "2023-09-19T10:55:37.913Z"
      },
      {
        "duration": 1042,
        "start_time": "2023-09-19T10:55:37.956Z"
      },
      {
        "duration": 7,
        "start_time": "2023-09-19T10:55:39.000Z"
      },
      {
        "duration": 18,
        "start_time": "2023-09-19T10:55:39.009Z"
      },
      {
        "duration": 39,
        "start_time": "2023-09-19T10:55:39.029Z"
      },
      {
        "duration": 4,
        "start_time": "2023-09-19T10:55:39.070Z"
      },
      {
        "duration": 27,
        "start_time": "2023-09-19T10:55:39.076Z"
      },
      {
        "duration": 3,
        "start_time": "2023-09-19T10:55:39.105Z"
      },
      {
        "duration": 27,
        "start_time": "2023-09-19T10:55:39.110Z"
      },
      {
        "duration": 3,
        "start_time": "2023-09-19T10:55:39.269Z"
      },
      {
        "duration": 5,
        "start_time": "2023-09-19T10:55:40.073Z"
      },
      {
        "duration": 7,
        "start_time": "2023-09-19T10:55:40.318Z"
      },
      {
        "duration": 3,
        "start_time": "2023-09-19T10:55:40.548Z"
      },
      {
        "duration": 24,
        "start_time": "2023-09-19T10:55:40.842Z"
      },
      {
        "duration": 19,
        "start_time": "2023-09-19T10:55:41.046Z"
      },
      {
        "duration": 18,
        "start_time": "2023-09-19T10:55:41.242Z"
      },
      {
        "duration": 118,
        "start_time": "2023-09-19T10:55:41.721Z"
      },
      {
        "duration": 10827,
        "start_time": "2023-09-19T10:55:42.817Z"
      },
      {
        "duration": 31,
        "start_time": "2023-09-19T10:55:53.646Z"
      },
      {
        "duration": 7,
        "start_time": "2023-09-19T10:55:53.679Z"
      },
      {
        "duration": 218563,
        "start_time": "2023-09-19T10:55:53.688Z"
      },
      {
        "duration": 2029,
        "start_time": "2023-09-19T10:59:32.252Z"
      },
      {
        "duration": 9,
        "start_time": "2023-09-19T10:59:34.283Z"
      },
      {
        "duration": 17451,
        "start_time": "2023-09-19T10:59:34.294Z"
      },
      {
        "duration": 21,
        "start_time": "2023-09-19T10:59:51.747Z"
      },
      {
        "duration": 176,
        "start_time": "2023-09-19T10:59:51.770Z"
      },
      {
        "duration": 216675,
        "start_time": "2023-09-19T10:59:51.948Z"
      },
      {
        "duration": 1247,
        "start_time": "2023-09-19T11:03:28.624Z"
      },
      {
        "duration": 56,
        "start_time": "2023-09-19T11:03:29.873Z"
      },
      {
        "duration": 11762,
        "start_time": "2023-09-19T11:03:29.931Z"
      },
      {
        "duration": 32,
        "start_time": "2023-09-19T11:03:41.695Z"
      },
      {
        "duration": 21,
        "start_time": "2023-09-19T11:03:41.729Z"
      },
      {
        "duration": 8195,
        "start_time": "2023-09-19T11:03:41.751Z"
      },
      {
        "duration": 108,
        "start_time": "2023-09-19T11:03:49.949Z"
      },
      {
        "duration": 189,
        "start_time": "2023-09-19T11:03:50.059Z"
      },
      {
        "duration": 163,
        "start_time": "2023-09-19T11:03:50.250Z"
      },
      {
        "duration": 4,
        "start_time": "2023-09-19T11:23:56.485Z"
      },
      {
        "duration": 42,
        "start_time": "2023-09-19T11:23:56.871Z"
      },
      {
        "duration": 18,
        "start_time": "2023-09-19T11:23:57.045Z"
      },
      {
        "duration": 12,
        "start_time": "2023-09-19T11:23:57.471Z"
      },
      {
        "duration": 36,
        "start_time": "2023-09-19T11:23:57.674Z"
      },
      {
        "duration": 987,
        "start_time": "2023-09-19T11:23:57.857Z"
      },
      {
        "duration": 7,
        "start_time": "2023-09-19T11:23:58.846Z"
      },
      {
        "duration": 17,
        "start_time": "2023-09-19T11:23:58.854Z"
      },
      {
        "duration": 29,
        "start_time": "2023-09-19T11:23:58.873Z"
      },
      {
        "duration": 7,
        "start_time": "2023-09-19T11:23:58.903Z"
      },
      {
        "duration": 19,
        "start_time": "2023-09-19T11:23:58.986Z"
      },
      {
        "duration": 4,
        "start_time": "2023-09-19T11:23:59.170Z"
      },
      {
        "duration": 22,
        "start_time": "2023-09-19T11:23:59.329Z"
      },
      {
        "duration": 5,
        "start_time": "2023-09-19T11:23:59.530Z"
      },
      {
        "duration": 4,
        "start_time": "2023-09-19T11:23:59.777Z"
      },
      {
        "duration": 7,
        "start_time": "2023-09-19T11:24:00.789Z"
      },
      {
        "duration": 209,
        "start_time": "2023-09-19T11:24:00.798Z"
      },
      {
        "duration": 128,
        "start_time": "2023-09-19T11:24:01.009Z"
      },
      {
        "duration": 238,
        "start_time": "2023-09-19T11:24:01.138Z"
      },
      {
        "duration": 30,
        "start_time": "2023-09-19T11:24:01.378Z"
      },
      {
        "duration": 103,
        "start_time": "2023-09-19T11:24:01.680Z"
      },
      {
        "duration": 10794,
        "start_time": "2023-09-19T11:24:02.617Z"
      },
      {
        "duration": 41,
        "start_time": "2023-09-19T11:24:13.413Z"
      },
      {
        "duration": 9,
        "start_time": "2023-09-19T11:24:13.456Z"
      },
      {
        "duration": 219763,
        "start_time": "2023-09-19T11:24:13.467Z"
      },
      {
        "duration": 1921,
        "start_time": "2023-09-19T11:27:53.232Z"
      },
      {
        "duration": 8,
        "start_time": "2023-09-19T11:27:55.155Z"
      },
      {
        "duration": 17681,
        "start_time": "2023-09-19T11:27:55.164Z"
      },
      {
        "duration": 21,
        "start_time": "2023-09-19T11:28:12.847Z"
      },
      {
        "duration": 82,
        "start_time": "2023-09-19T11:28:12.870Z"
      },
      {
        "duration": 4,
        "start_time": "2023-09-19T12:42:09.873Z"
      },
      {
        "duration": 41,
        "start_time": "2023-09-19T12:42:10.040Z"
      },
      {
        "duration": 18,
        "start_time": "2023-09-19T12:42:10.207Z"
      },
      {
        "duration": 20,
        "start_time": "2023-09-19T12:42:10.387Z"
      },
      {
        "duration": 50,
        "start_time": "2023-09-19T12:42:10.568Z"
      },
      {
        "duration": 978,
        "start_time": "2023-09-19T12:42:10.728Z"
      },
      {
        "duration": 7,
        "start_time": "2023-09-19T12:42:11.708Z"
      },
      {
        "duration": 3,
        "start_time": "2023-09-19T12:42:11.717Z"
      },
      {
        "duration": 23,
        "start_time": "2023-09-19T12:42:11.722Z"
      },
      {
        "duration": 5,
        "start_time": "2023-09-19T12:42:11.746Z"
      },
      {
        "duration": 23,
        "start_time": "2023-09-19T12:42:11.770Z"
      },
      {
        "duration": 4,
        "start_time": "2023-09-19T12:42:11.926Z"
      },
      {
        "duration": 30,
        "start_time": "2023-09-19T12:42:12.103Z"
      },
      {
        "duration": 4,
        "start_time": "2023-09-19T12:42:12.278Z"
      },
      {
        "duration": 5,
        "start_time": "2023-09-19T12:42:12.477Z"
      },
      {
        "duration": 8,
        "start_time": "2023-09-19T12:42:12.635Z"
      },
      {
        "duration": 3,
        "start_time": "2023-09-19T12:42:12.818Z"
      },
      {
        "duration": 25,
        "start_time": "2023-09-19T12:42:12.994Z"
      },
      {
        "duration": 20,
        "start_time": "2023-09-19T12:42:13.148Z"
      },
      {
        "duration": 17,
        "start_time": "2023-09-19T12:42:13.328Z"
      },
      {
        "duration": 100,
        "start_time": "2023-09-19T12:42:13.707Z"
      },
      {
        "duration": 10851,
        "start_time": "2023-09-19T12:42:14.400Z"
      },
      {
        "duration": 33,
        "start_time": "2023-09-19T12:42:25.253Z"
      },
      {
        "duration": 9,
        "start_time": "2023-09-19T12:42:25.288Z"
      },
      {
        "duration": 227089,
        "start_time": "2023-09-19T12:42:25.300Z"
      },
      {
        "duration": 1961,
        "start_time": "2023-09-19T12:46:12.391Z"
      },
      {
        "duration": 8,
        "start_time": "2023-09-19T12:46:14.354Z"
      },
      {
        "duration": 17682,
        "start_time": "2023-09-19T12:46:14.363Z"
      },
      {
        "duration": 96,
        "start_time": "2023-09-19T12:46:32.047Z"
      },
      {
        "duration": 103,
        "start_time": "2023-09-19T12:46:32.147Z"
      },
      {
        "duration": 230157,
        "start_time": "2023-09-19T12:46:32.253Z"
      },
      {
        "duration": 1248,
        "start_time": "2023-09-19T12:50:22.412Z"
      },
      {
        "duration": 70,
        "start_time": "2023-09-19T12:50:23.662Z"
      },
      {
        "duration": 11572,
        "start_time": "2023-09-19T12:50:23.744Z"
      },
      {
        "duration": 44,
        "start_time": "2023-09-19T12:50:35.318Z"
      },
      {
        "duration": 12,
        "start_time": "2023-09-19T12:50:35.364Z"
      },
      {
        "duration": 8981,
        "start_time": "2023-09-19T12:50:35.378Z"
      },
      {
        "duration": 27,
        "start_time": "2023-09-19T12:50:44.444Z"
      },
      {
        "duration": 173,
        "start_time": "2023-09-19T12:50:44.473Z"
      },
      {
        "duration": 99,
        "start_time": "2023-09-19T12:50:44.649Z"
      },
      {
        "duration": 705249,
        "start_time": "2023-09-19T12:50:44.750Z"
      },
      {
        "duration": 2258,
        "start_time": "2023-09-19T13:08:49.895Z"
      },
      {
        "duration": 2238,
        "start_time": "2023-09-19T13:09:41.460Z"
      },
      {
        "duration": 2366,
        "start_time": "2023-09-19T13:10:51.147Z"
      },
      {
        "duration": 10300,
        "start_time": "2023-09-19T13:14:06.750Z"
      },
      {
        "duration": 110,
        "start_time": "2023-09-19T13:17:19.437Z"
      },
      {
        "duration": 10703,
        "start_time": "2023-09-19T13:20:27.926Z"
      },
      {
        "duration": 9910,
        "start_time": "2023-09-19T13:20:54.233Z"
      },
      {
        "duration": 10114,
        "start_time": "2023-09-19T13:21:11.856Z"
      },
      {
        "duration": 62,
        "start_time": "2023-09-19T13:22:57.496Z"
      },
      {
        "duration": 126,
        "start_time": "2023-09-19T13:30:45.702Z"
      },
      {
        "duration": 12,
        "start_time": "2023-09-19T13:30:59.881Z"
      },
      {
        "duration": 3528,
        "start_time": "2023-09-19T13:33:14.751Z"
      },
      {
        "duration": 24,
        "start_time": "2023-09-19T13:35:49.006Z"
      },
      {
        "duration": 23,
        "start_time": "2023-09-19T13:36:10.697Z"
      },
      {
        "duration": 247705,
        "start_time": "2023-09-19T13:39:40.170Z"
      },
      {
        "duration": 1051,
        "start_time": "2023-09-19T13:45:39.277Z"
      },
      {
        "duration": 56,
        "start_time": "2023-09-19T13:48:02.191Z"
      },
      {
        "duration": 10,
        "start_time": "2023-09-19T13:58:09.205Z"
      },
      {
        "duration": 92,
        "start_time": "2023-09-19T13:59:37.579Z"
      },
      {
        "duration": 7,
        "start_time": "2023-09-19T14:07:51.250Z"
      },
      {
        "duration": 4,
        "start_time": "2023-09-19T14:09:19.964Z"
      },
      {
        "duration": 9,
        "start_time": "2023-09-19T14:09:56.584Z"
      },
      {
        "duration": 5,
        "start_time": "2023-09-19T14:10:02.354Z"
      },
      {
        "duration": 4,
        "start_time": "2023-09-19T14:10:20.904Z"
      },
      {
        "duration": 3,
        "start_time": "2023-09-19T14:10:52.166Z"
      },
      {
        "duration": 5,
        "start_time": "2023-09-19T14:12:49.821Z"
      },
      {
        "duration": 1340,
        "start_time": "2023-09-19T14:12:59.188Z"
      },
      {
        "duration": 41,
        "start_time": "2023-09-19T14:13:00.530Z"
      },
      {
        "duration": 35,
        "start_time": "2023-09-19T14:13:00.573Z"
      },
      {
        "duration": 27,
        "start_time": "2023-09-19T14:13:00.610Z"
      },
      {
        "duration": 67,
        "start_time": "2023-09-19T14:13:00.639Z"
      },
      {
        "duration": 1084,
        "start_time": "2023-09-19T14:13:00.708Z"
      },
      {
        "duration": 8,
        "start_time": "2023-09-19T14:13:01.794Z"
      },
      {
        "duration": 3,
        "start_time": "2023-09-19T14:13:02.988Z"
      },
      {
        "duration": 7,
        "start_time": "2023-09-19T14:13:04.361Z"
      },
      {
        "duration": 6,
        "start_time": "2023-09-19T14:13:05.042Z"
      },
      {
        "duration": 19,
        "start_time": "2023-09-19T14:13:06.440Z"
      },
      {
        "duration": 4,
        "start_time": "2023-09-19T14:13:07.402Z"
      },
      {
        "duration": 22,
        "start_time": "2023-09-19T14:13:08.440Z"
      },
      {
        "duration": 3,
        "start_time": "2023-09-19T14:13:09.699Z"
      },
      {
        "duration": 5,
        "start_time": "2023-09-19T14:13:24.282Z"
      },
      {
        "duration": 9,
        "start_time": "2023-09-19T14:13:25.426Z"
      },
      {
        "duration": 3,
        "start_time": "2023-09-19T14:13:33.683Z"
      },
      {
        "duration": 119,
        "start_time": "2023-09-19T14:13:36.139Z"
      },
      {
        "duration": 23,
        "start_time": "2023-09-19T14:16:00.805Z"
      },
      {
        "duration": 19,
        "start_time": "2023-09-19T14:17:30.512Z"
      },
      {
        "duration": 18,
        "start_time": "2023-09-19T14:17:44.605Z"
      },
      {
        "duration": 24,
        "start_time": "2023-09-19T14:17:54.173Z"
      },
      {
        "duration": 14,
        "start_time": "2023-09-19T14:18:46.041Z"
      },
      {
        "duration": 123,
        "start_time": "2023-09-19T14:19:28.006Z"
      },
      {
        "duration": 13,
        "start_time": "2023-09-19T14:19:38.376Z"
      },
      {
        "duration": 12,
        "start_time": "2023-09-19T14:19:47.568Z"
      },
      {
        "duration": 106,
        "start_time": "2023-09-19T14:20:00.811Z"
      },
      {
        "duration": 127,
        "start_time": "2023-09-19T14:21:35.483Z"
      },
      {
        "duration": 8229,
        "start_time": "2023-09-19T14:22:39.293Z"
      },
      {
        "duration": 30,
        "start_time": "2023-09-19T14:23:42.566Z"
      },
      {
        "duration": 26,
        "start_time": "2023-09-19T14:23:57.576Z"
      },
      {
        "duration": 10,
        "start_time": "2023-09-19T14:25:20.726Z"
      },
      {
        "duration": 25,
        "start_time": "2023-09-19T14:25:26.672Z"
      },
      {
        "duration": 10,
        "start_time": "2023-09-19T14:25:27.373Z"
      },
      {
        "duration": 4848,
        "start_time": "2023-09-19T14:26:53.285Z"
      },
      {
        "duration": 23,
        "start_time": "2023-09-19T14:27:21.756Z"
      },
      {
        "duration": 9,
        "start_time": "2023-09-19T14:27:22.434Z"
      },
      {
        "duration": 169,
        "start_time": "2023-09-19T14:31:56.770Z"
      },
      {
        "duration": 20,
        "start_time": "2023-09-19T14:32:22.086Z"
      },
      {
        "duration": 9,
        "start_time": "2023-09-19T14:32:22.706Z"
      },
      {
        "duration": 11360,
        "start_time": "2023-09-19T14:36:27.654Z"
      },
      {
        "duration": 17838,
        "start_time": "2023-09-19T14:37:24.541Z"
      },
      {
        "duration": 10,
        "start_time": "2023-09-19T14:39:38.327Z"
      },
      {
        "duration": 10,
        "start_time": "2023-09-19T14:40:12.779Z"
      },
      {
        "duration": 290,
        "start_time": "2023-09-19T14:40:17.393Z"
      },
      {
        "duration": 10,
        "start_time": "2023-09-19T14:40:17.798Z"
      },
      {
        "duration": 9,
        "start_time": "2023-09-19T14:43:13.098Z"
      },
      {
        "duration": 16,
        "start_time": "2023-09-19T14:43:17.609Z"
      },
      {
        "duration": 9,
        "start_time": "2023-09-19T14:43:18.059Z"
      },
      {
        "duration": 15,
        "start_time": "2023-09-19T14:43:57.339Z"
      },
      {
        "duration": 9,
        "start_time": "2023-09-19T14:43:57.866Z"
      },
      {
        "duration": 17579,
        "start_time": "2023-09-19T14:46:57.806Z"
      },
      {
        "duration": 385,
        "start_time": "2023-09-19T14:48:41.733Z"
      },
      {
        "duration": 10,
        "start_time": "2023-09-19T14:48:55.210Z"
      },
      {
        "duration": 9,
        "start_time": "2023-09-19T14:49:58.700Z"
      },
      {
        "duration": 17311,
        "start_time": "2023-09-19T14:50:04.816Z"
      },
      {
        "duration": 370,
        "start_time": "2023-09-19T14:50:22.129Z"
      },
      {
        "duration": 9,
        "start_time": "2023-09-19T14:50:30.354Z"
      },
      {
        "duration": 36,
        "start_time": "2023-09-19T14:51:08.858Z"
      },
      {
        "duration": 37,
        "start_time": "2023-09-19T14:51:52.697Z"
      },
      {
        "duration": 42,
        "start_time": "2023-09-19T14:52:00.994Z"
      },
      {
        "duration": 4,
        "start_time": "2023-09-19T14:57:17.397Z"
      },
      {
        "duration": 38,
        "start_time": "2023-09-19T14:57:17.542Z"
      },
      {
        "duration": 19,
        "start_time": "2023-09-19T14:57:17.697Z"
      },
      {
        "duration": 12,
        "start_time": "2023-09-19T14:57:17.860Z"
      },
      {
        "duration": 36,
        "start_time": "2023-09-19T14:57:18.062Z"
      },
      {
        "duration": 930,
        "start_time": "2023-09-19T14:57:18.192Z"
      },
      {
        "duration": 7,
        "start_time": "2023-09-19T14:57:19.125Z"
      },
      {
        "duration": 17,
        "start_time": "2023-09-19T14:57:19.133Z"
      },
      {
        "duration": 20,
        "start_time": "2023-09-19T14:57:19.152Z"
      },
      {
        "duration": 5,
        "start_time": "2023-09-19T14:57:19.174Z"
      },
      {
        "duration": 18,
        "start_time": "2023-09-19T14:57:19.301Z"
      },
      {
        "duration": 3,
        "start_time": "2023-09-19T14:57:19.424Z"
      },
      {
        "duration": 21,
        "start_time": "2023-09-19T14:57:19.591Z"
      },
      {
        "duration": 4,
        "start_time": "2023-09-19T14:57:19.783Z"
      },
      {
        "duration": 6,
        "start_time": "2023-09-19T14:57:19.951Z"
      },
      {
        "duration": 8,
        "start_time": "2023-09-19T14:57:20.489Z"
      },
      {
        "duration": 2,
        "start_time": "2023-09-19T14:57:21.353Z"
      },
      {
        "duration": 47,
        "start_time": "2023-09-19T14:57:21.357Z"
      },
      {
        "duration": 21,
        "start_time": "2023-09-19T14:57:21.405Z"
      },
      {
        "duration": 34,
        "start_time": "2023-09-19T14:57:21.427Z"
      },
      {
        "duration": 109,
        "start_time": "2023-09-19T14:57:21.555Z"
      },
      {
        "duration": 157,
        "start_time": "2023-09-19T14:57:22.381Z"
      },
      {
        "duration": 20,
        "start_time": "2023-09-19T14:57:22.580Z"
      },
      {
        "duration": 8,
        "start_time": "2023-09-19T14:57:22.757Z"
      },
      {
        "duration": 17711,
        "start_time": "2023-09-19T14:57:24.424Z"
      },
      {
        "duration": 301,
        "start_time": "2023-09-19T14:57:42.137Z"
      },
      {
        "duration": 10,
        "start_time": "2023-09-19T14:57:42.440Z"
      },
      {
        "duration": 22,
        "start_time": "2023-09-19T14:57:42.451Z"
      },
      {
        "duration": 100,
        "start_time": "2023-09-19T14:57:42.545Z"
      },
      {
        "duration": 17442,
        "start_time": "2023-09-19T14:57:42.647Z"
      },
      {
        "duration": 388,
        "start_time": "2023-09-19T14:58:00.091Z"
      },
      {
        "duration": 39,
        "start_time": "2023-09-19T14:58:00.481Z"
      },
      {
        "duration": 171,
        "start_time": "2023-09-19T14:58:06.293Z"
      },
      {
        "duration": 20,
        "start_time": "2023-09-19T14:59:25.207Z"
      },
      {
        "duration": 12,
        "start_time": "2023-09-19T14:59:40.144Z"
      },
      {
        "duration": 16,
        "start_time": "2023-09-19T15:01:06.929Z"
      },
      {
        "duration": 15,
        "start_time": "2023-09-19T15:01:38.579Z"
      },
      {
        "duration": 14,
        "start_time": "2023-09-19T15:02:20.431Z"
      },
      {
        "duration": 10,
        "start_time": "2023-09-19T15:02:22.152Z"
      },
      {
        "duration": 12,
        "start_time": "2023-09-19T15:04:11.413Z"
      },
      {
        "duration": 23194,
        "start_time": "2023-09-19T15:06:08.766Z"
      },
      {
        "duration": 666,
        "start_time": "2023-09-19T15:07:41.926Z"
      },
      {
        "duration": 61,
        "start_time": "2023-09-19T15:08:04.097Z"
      },
      {
        "duration": 28,
        "start_time": "2023-09-19T15:09:03.871Z"
      },
      {
        "duration": 14,
        "start_time": "2023-09-19T15:09:17.938Z"
      },
      {
        "duration": 202,
        "start_time": "2023-09-19T15:10:38.833Z"
      },
      {
        "duration": 26,
        "start_time": "2023-09-19T15:11:30.225Z"
      },
      {
        "duration": 12,
        "start_time": "2023-09-19T15:11:50.338Z"
      },
      {
        "duration": 12,
        "start_time": "2023-09-19T15:13:52.556Z"
      },
      {
        "duration": 90,
        "start_time": "2023-09-19T15:14:53.148Z"
      },
      {
        "duration": 23,
        "start_time": "2023-09-19T15:15:17.405Z"
      },
      {
        "duration": 13,
        "start_time": "2023-09-19T15:15:17.749Z"
      },
      {
        "duration": 12,
        "start_time": "2023-09-19T15:15:45.748Z"
      },
      {
        "duration": 12,
        "start_time": "2023-09-19T15:15:58.990Z"
      },
      {
        "duration": 11,
        "start_time": "2023-09-19T15:16:10.141Z"
      },
      {
        "duration": 4,
        "start_time": "2023-09-19T15:18:12.651Z"
      },
      {
        "duration": 40,
        "start_time": "2023-09-19T15:18:12.809Z"
      },
      {
        "duration": 20,
        "start_time": "2023-09-19T15:18:12.953Z"
      },
      {
        "duration": 12,
        "start_time": "2023-09-19T15:18:13.132Z"
      },
      {
        "duration": 36,
        "start_time": "2023-09-19T15:18:13.321Z"
      },
      {
        "duration": 1023,
        "start_time": "2023-09-19T15:18:13.440Z"
      },
      {
        "duration": 8,
        "start_time": "2023-09-19T15:18:14.465Z"
      },
      {
        "duration": 13,
        "start_time": "2023-09-19T15:18:14.475Z"
      },
      {
        "duration": 28,
        "start_time": "2023-09-19T15:18:14.489Z"
      },
      {
        "duration": 22,
        "start_time": "2023-09-19T15:18:14.519Z"
      },
      {
        "duration": 35,
        "start_time": "2023-09-19T15:18:14.543Z"
      },
      {
        "duration": 4,
        "start_time": "2023-09-19T15:18:14.631Z"
      },
      {
        "duration": 22,
        "start_time": "2023-09-19T15:18:14.807Z"
      },
      {
        "duration": 4,
        "start_time": "2023-09-19T15:18:14.971Z"
      },
      {
        "duration": 6,
        "start_time": "2023-09-19T15:18:15.129Z"
      },
      {
        "duration": 9,
        "start_time": "2023-09-19T15:18:15.293Z"
      },
      {
        "duration": 3,
        "start_time": "2023-09-19T15:18:15.480Z"
      },
      {
        "duration": 21,
        "start_time": "2023-09-19T15:18:15.940Z"
      },
      {
        "duration": 15,
        "start_time": "2023-09-19T15:18:15.963Z"
      },
      {
        "duration": 15,
        "start_time": "2023-09-19T15:18:15.980Z"
      },
      {
        "duration": 101,
        "start_time": "2023-09-19T15:18:16.322Z"
      },
      {
        "duration": 151,
        "start_time": "2023-09-19T15:18:17.453Z"
      },
      {
        "duration": 19,
        "start_time": "2023-09-19T15:18:17.606Z"
      },
      {
        "duration": 38,
        "start_time": "2023-09-19T15:18:17.626Z"
      },
      {
        "duration": 17527,
        "start_time": "2023-09-19T15:18:17.878Z"
      },
      {
        "duration": 315,
        "start_time": "2023-09-19T15:18:35.407Z"
      },
      {
        "duration": 9,
        "start_time": "2023-09-19T15:18:35.723Z"
      },
      {
        "duration": 40,
        "start_time": "2023-09-19T15:18:35.743Z"
      },
      {
        "duration": 65,
        "start_time": "2023-09-19T15:18:35.786Z"
      },
      {
        "duration": 17503,
        "start_time": "2023-09-19T15:18:35.944Z"
      },
      {
        "duration": 371,
        "start_time": "2023-09-19T15:18:53.449Z"
      },
      {
        "duration": 37,
        "start_time": "2023-09-19T15:18:53.822Z"
      },
      {
        "duration": 172,
        "start_time": "2023-09-19T15:18:53.861Z"
      },
      {
        "duration": 24,
        "start_time": "2023-09-19T15:18:54.043Z"
      },
      {
        "duration": 17,
        "start_time": "2023-09-19T15:18:54.068Z"
      },
      {
        "duration": 20,
        "start_time": "2023-09-19T15:18:54.087Z"
      },
      {
        "duration": 104,
        "start_time": "2023-09-19T15:18:54.146Z"
      },
      {
        "duration": 277,
        "start_time": "2023-09-19T15:18:54.253Z"
      },
      {
        "duration": 23686,
        "start_time": "2023-09-19T15:18:54.544Z"
      },
      {
        "duration": 645,
        "start_time": "2023-09-19T15:19:18.231Z"
      },
      {
        "duration": 43,
        "start_time": "2023-09-19T15:19:18.878Z"
      },
      {
        "duration": 34,
        "start_time": "2023-09-19T15:19:18.923Z"
      },
      {
        "duration": 185,
        "start_time": "2023-09-19T15:19:18.960Z"
      },
      {
        "duration": 297,
        "start_time": "2023-09-19T15:19:19.147Z"
      },
      {
        "duration": 23,
        "start_time": "2023-09-19T15:19:19.446Z"
      },
      {
        "duration": 13,
        "start_time": "2023-09-19T15:19:19.470Z"
      },
      {
        "duration": 34,
        "start_time": "2023-09-19T15:19:19.485Z"
      },
      {
        "duration": 99,
        "start_time": "2023-09-19T15:19:19.521Z"
      },
      {
        "duration": 12,
        "start_time": "2023-09-19T15:19:19.622Z"
      },
      {
        "duration": 28,
        "start_time": "2023-09-19T15:19:19.635Z"
      },
      {
        "duration": 11431,
        "start_time": "2023-09-19T15:20:24.340Z"
      },
      {
        "duration": 119,
        "start_time": "2023-09-19T15:21:50.094Z"
      },
      {
        "duration": 25,
        "start_time": "2023-09-19T15:22:13.271Z"
      },
      {
        "duration": 11,
        "start_time": "2023-09-19T15:23:12.681Z"
      },
      {
        "duration": 14,
        "start_time": "2023-09-19T15:23:31.627Z"
      },
      {
        "duration": 184,
        "start_time": "2023-09-19T15:28:05.425Z"
      },
      {
        "duration": 11,
        "start_time": "2023-09-19T15:28:23.295Z"
      },
      {
        "duration": 5,
        "start_time": "2023-09-19T15:31:11.389Z"
      },
      {
        "duration": 4,
        "start_time": "2023-09-19T15:31:24.820Z"
      },
      {
        "duration": 4,
        "start_time": "2023-09-19T15:31:33.059Z"
      },
      {
        "duration": 3,
        "start_time": "2023-09-19T15:31:47.816Z"
      },
      {
        "duration": 5,
        "start_time": "2023-09-19T15:31:54.063Z"
      },
      {
        "duration": 17630,
        "start_time": "2023-09-19T15:34:00.872Z"
      },
      {
        "duration": 17644,
        "start_time": "2023-09-19T15:34:20.481Z"
      },
      {
        "duration": 418,
        "start_time": "2023-09-19T15:36:29.104Z"
      },
      {
        "duration": 1789,
        "start_time": "2023-09-19T17:23:15.331Z"
      },
      {
        "duration": 83,
        "start_time": "2023-09-19T17:23:17.122Z"
      },
      {
        "duration": 27,
        "start_time": "2023-09-19T17:23:17.207Z"
      },
      {
        "duration": 15,
        "start_time": "2023-09-19T17:23:17.236Z"
      },
      {
        "duration": 44,
        "start_time": "2023-09-19T17:23:17.253Z"
      },
      {
        "duration": 1288,
        "start_time": "2023-09-19T17:23:17.299Z"
      },
      {
        "duration": 9,
        "start_time": "2023-09-19T17:23:18.589Z"
      },
      {
        "duration": 5,
        "start_time": "2023-09-19T17:23:18.601Z"
      },
      {
        "duration": 10,
        "start_time": "2023-09-19T17:23:18.608Z"
      },
      {
        "duration": 6,
        "start_time": "2023-09-19T17:23:18.648Z"
      },
      {
        "duration": 21,
        "start_time": "2023-09-19T17:23:18.656Z"
      },
      {
        "duration": 5,
        "start_time": "2023-09-19T17:23:18.679Z"
      },
      {
        "duration": 28,
        "start_time": "2023-09-19T17:23:18.686Z"
      },
      {
        "duration": 32,
        "start_time": "2023-09-19T17:23:18.716Z"
      },
      {
        "duration": 15,
        "start_time": "2023-09-19T17:23:18.750Z"
      },
      {
        "duration": 17,
        "start_time": "2023-09-19T17:23:18.767Z"
      },
      {
        "duration": 4,
        "start_time": "2023-09-19T17:23:18.787Z"
      },
      {
        "duration": 30,
        "start_time": "2023-09-19T17:23:18.793Z"
      },
      {
        "duration": 36,
        "start_time": "2023-09-19T17:23:18.825Z"
      },
      {
        "duration": 19,
        "start_time": "2023-09-19T17:23:18.863Z"
      },
      {
        "duration": 137,
        "start_time": "2023-09-19T17:23:18.992Z"
      },
      {
        "duration": 191,
        "start_time": "2023-09-19T17:23:19.956Z"
      },
      {
        "duration": 24,
        "start_time": "2023-09-19T17:23:20.150Z"
      },
      {
        "duration": 12,
        "start_time": "2023-09-19T17:23:20.339Z"
      },
      {
        "duration": 21550,
        "start_time": "2023-09-19T17:23:20.917Z"
      },
      {
        "duration": 364,
        "start_time": "2023-09-19T17:23:42.469Z"
      },
      {
        "duration": 12,
        "start_time": "2023-09-19T17:23:42.834Z"
      },
      {
        "duration": 26,
        "start_time": "2023-09-19T17:23:42.849Z"
      },
      {
        "duration": 97,
        "start_time": "2023-09-19T17:23:42.953Z"
      },
      {
        "duration": 21347,
        "start_time": "2023-09-19T17:23:43.052Z"
      },
      {
        "duration": 449,
        "start_time": "2023-09-19T17:24:04.401Z"
      },
      {
        "duration": 45,
        "start_time": "2023-09-19T17:24:04.851Z"
      },
      {
        "duration": 216,
        "start_time": "2023-09-19T17:24:04.898Z"
      },
      {
        "duration": 36,
        "start_time": "2023-09-19T17:24:05.117Z"
      },
      {
        "duration": 19,
        "start_time": "2023-09-19T17:24:05.156Z"
      },
      {
        "duration": 76,
        "start_time": "2023-09-19T17:24:05.178Z"
      },
      {
        "duration": 194,
        "start_time": "2023-09-19T17:24:05.257Z"
      },
      {
        "duration": 100,
        "start_time": "2023-09-19T17:24:05.453Z"
      },
      {
        "duration": 28313,
        "start_time": "2023-09-19T17:24:05.554Z"
      },
      {
        "duration": 824,
        "start_time": "2023-09-19T17:24:33.869Z"
      },
      {
        "duration": 61,
        "start_time": "2023-09-19T17:24:34.695Z"
      },
      {
        "duration": 93,
        "start_time": "2023-09-19T17:24:34.758Z"
      },
      {
        "duration": 108,
        "start_time": "2023-09-19T17:24:34.854Z"
      },
      {
        "duration": 456,
        "start_time": "2023-09-19T17:24:34.965Z"
      },
      {
        "duration": 39,
        "start_time": "2023-09-19T17:24:35.424Z"
      },
      {
        "duration": 14,
        "start_time": "2023-09-19T17:24:35.465Z"
      },
      {
        "duration": 13,
        "start_time": "2023-09-19T17:24:35.481Z"
      },
      {
        "duration": 147,
        "start_time": "2023-09-19T17:24:35.496Z"
      },
      {
        "duration": 15,
        "start_time": "2023-09-19T17:24:35.647Z"
      },
      {
        "duration": 26,
        "start_time": "2023-09-19T17:24:35.664Z"
      },
      {
        "duration": 13816,
        "start_time": "2023-09-19T17:24:35.692Z"
      },
      {
        "duration": 142,
        "start_time": "2023-09-19T17:24:49.511Z"
      },
      {
        "duration": 29,
        "start_time": "2023-09-19T17:24:49.655Z"
      },
      {
        "duration": 68,
        "start_time": "2023-09-19T17:24:49.686Z"
      },
      {
        "duration": 106,
        "start_time": "2023-09-19T17:24:49.756Z"
      },
      {
        "duration": 184,
        "start_time": "2023-09-19T17:24:49.864Z"
      },
      {
        "duration": 6,
        "start_time": "2023-09-19T17:24:50.050Z"
      },
      {
        "duration": 44,
        "start_time": "2023-09-19T17:24:50.058Z"
      },
      {
        "duration": 21,
        "start_time": "2023-09-19T17:24:50.104Z"
      },
      {
        "duration": 12,
        "start_time": "2023-09-19T17:24:50.127Z"
      },
      {
        "duration": 13,
        "start_time": "2023-09-19T17:24:50.142Z"
      },
      {
        "duration": 22017,
        "start_time": "2023-09-19T17:24:50.158Z"
      },
      {
        "duration": 523,
        "start_time": "2023-09-19T17:25:12.178Z"
      },
      {
        "duration": 474,
        "start_time": "2023-09-19T17:27:09.475Z"
      },
      {
        "duration": 142,
        "start_time": "2023-09-19T17:27:09.951Z"
      },
      {
        "duration": 64,
        "start_time": "2023-09-19T17:27:41.109Z"
      },
      {
        "duration": 1864,
        "start_time": "2023-09-19T18:54:11.390Z"
      },
      {
        "duration": 86,
        "start_time": "2023-09-19T18:54:13.256Z"
      },
      {
        "duration": 25,
        "start_time": "2023-09-19T18:54:13.344Z"
      },
      {
        "duration": 16,
        "start_time": "2023-09-19T18:54:13.371Z"
      },
      {
        "duration": 50,
        "start_time": "2023-09-19T18:54:13.388Z"
      },
      {
        "duration": 1284,
        "start_time": "2023-09-19T18:54:13.440Z"
      },
      {
        "duration": 9,
        "start_time": "2023-09-19T18:54:14.726Z"
      },
      {
        "duration": 4,
        "start_time": "2023-09-19T18:54:14.736Z"
      },
      {
        "duration": 8,
        "start_time": "2023-09-19T18:54:14.742Z"
      },
      {
        "duration": 5,
        "start_time": "2023-09-19T18:54:14.752Z"
      },
      {
        "duration": 57,
        "start_time": "2023-09-19T18:54:14.759Z"
      },
      {
        "duration": 5,
        "start_time": "2023-09-19T18:54:14.818Z"
      },
      {
        "duration": 32,
        "start_time": "2023-09-19T18:54:14.824Z"
      },
      {
        "duration": 4,
        "start_time": "2023-09-19T18:54:14.859Z"
      },
      {
        "duration": 10,
        "start_time": "2023-09-19T18:54:14.864Z"
      },
      {
        "duration": 34,
        "start_time": "2023-09-19T18:54:14.877Z"
      },
      {
        "duration": 58,
        "start_time": "2023-09-19T18:54:14.912Z"
      },
      {
        "duration": 27,
        "start_time": "2023-09-19T18:54:14.972Z"
      },
      {
        "duration": 19,
        "start_time": "2023-09-19T18:54:15.002Z"
      },
      {
        "duration": 25,
        "start_time": "2023-09-19T18:54:15.085Z"
      },
      {
        "duration": 125,
        "start_time": "2023-09-19T18:54:15.464Z"
      },
      {
        "duration": 184,
        "start_time": "2023-09-19T18:54:16.327Z"
      },
      {
        "duration": 28,
        "start_time": "2023-09-19T18:54:16.549Z"
      },
      {
        "duration": 10,
        "start_time": "2023-09-19T18:54:16.751Z"
      },
      {
        "duration": 20636,
        "start_time": "2023-09-19T18:54:17.710Z"
      },
      {
        "duration": 364,
        "start_time": "2023-09-19T18:54:38.348Z"
      },
      {
        "duration": 11,
        "start_time": "2023-09-19T18:54:38.714Z"
      },
      {
        "duration": 27,
        "start_time": "2023-09-19T18:54:38.728Z"
      },
      {
        "duration": 153,
        "start_time": "2023-09-19T18:54:38.757Z"
      },
      {
        "duration": 20617,
        "start_time": "2023-09-19T18:54:38.912Z"
      },
      {
        "duration": 448,
        "start_time": "2023-09-19T18:54:59.531Z"
      },
      {
        "duration": 57,
        "start_time": "2023-09-19T18:54:59.981Z"
      },
      {
        "duration": 207,
        "start_time": "2023-09-19T18:55:00.041Z"
      },
      {
        "duration": 22,
        "start_time": "2023-09-19T18:55:00.252Z"
      },
      {
        "duration": 43,
        "start_time": "2023-09-19T18:55:00.276Z"
      },
      {
        "duration": 95,
        "start_time": "2023-09-19T18:55:00.321Z"
      },
      {
        "duration": 193,
        "start_time": "2023-09-19T18:55:00.422Z"
      },
      {
        "duration": 197,
        "start_time": "2023-09-19T18:55:00.618Z"
      },
      {
        "duration": 28068,
        "start_time": "2023-09-19T18:55:00.817Z"
      },
      {
        "duration": 789,
        "start_time": "2023-09-19T18:55:28.887Z"
      },
      {
        "duration": 59,
        "start_time": "2023-09-19T18:55:29.678Z"
      },
      {
        "duration": 25,
        "start_time": "2023-09-19T18:55:29.739Z"
      },
      {
        "duration": 152,
        "start_time": "2023-09-19T18:55:29.766Z"
      },
      {
        "duration": 429,
        "start_time": "2023-09-19T18:55:29.920Z"
      },
      {
        "duration": 28,
        "start_time": "2023-09-19T18:55:30.351Z"
      },
      {
        "duration": 33,
        "start_time": "2023-09-19T18:55:30.381Z"
      },
      {
        "duration": 39,
        "start_time": "2023-09-19T18:55:30.416Z"
      },
      {
        "duration": 124,
        "start_time": "2023-09-19T18:55:30.457Z"
      },
      {
        "duration": 28,
        "start_time": "2023-09-19T18:55:30.584Z"
      },
      {
        "duration": 23,
        "start_time": "2023-09-19T18:55:30.614Z"
      },
      {
        "duration": 13157,
        "start_time": "2023-09-19T18:55:30.639Z"
      },
      {
        "duration": 138,
        "start_time": "2023-09-19T18:55:43.799Z"
      },
      {
        "duration": 28,
        "start_time": "2023-09-19T18:55:43.939Z"
      },
      {
        "duration": 44,
        "start_time": "2023-09-19T18:55:43.968Z"
      },
      {
        "duration": 107,
        "start_time": "2023-09-19T18:55:44.014Z"
      },
      {
        "duration": 187,
        "start_time": "2023-09-19T18:55:44.124Z"
      },
      {
        "duration": 8,
        "start_time": "2023-09-19T18:55:44.313Z"
      },
      {
        "duration": 12,
        "start_time": "2023-09-19T18:55:44.323Z"
      },
      {
        "duration": 7,
        "start_time": "2023-09-19T18:55:44.336Z"
      },
      {
        "duration": 7,
        "start_time": "2023-09-19T18:55:44.345Z"
      },
      {
        "duration": 7,
        "start_time": "2023-09-19T18:55:44.354Z"
      },
      {
        "duration": 20828,
        "start_time": "2023-09-19T18:55:44.362Z"
      },
      {
        "duration": 480,
        "start_time": "2023-09-19T18:56:05.192Z"
      },
      {
        "duration": 74,
        "start_time": "2023-09-19T18:56:05.674Z"
      },
      {
        "duration": 115,
        "start_time": "2023-09-19T18:59:29.113Z"
      },
      {
        "duration": 4,
        "start_time": "2023-09-19T18:59:59.315Z"
      },
      {
        "duration": 155,
        "start_time": "2023-09-19T19:00:02.880Z"
      },
      {
        "duration": 1992,
        "start_time": "2023-09-20T09:53:19.925Z"
      },
      {
        "duration": 87,
        "start_time": "2023-09-20T09:53:21.919Z"
      },
      {
        "duration": 24,
        "start_time": "2023-09-20T09:53:22.008Z"
      },
      {
        "duration": 17,
        "start_time": "2023-09-20T09:53:22.034Z"
      },
      {
        "duration": 56,
        "start_time": "2023-09-20T09:53:22.113Z"
      },
      {
        "duration": 133,
        "start_time": "2023-09-20T09:53:29.330Z"
      },
      {
        "duration": 1296,
        "start_time": "2023-09-20T09:53:35.321Z"
      },
      {
        "duration": 13,
        "start_time": "2023-09-20T09:53:40.699Z"
      },
      {
        "duration": 4,
        "start_time": "2023-09-20T09:53:41.070Z"
      },
      {
        "duration": 8,
        "start_time": "2023-09-20T09:53:45.582Z"
      },
      {
        "duration": 6,
        "start_time": "2023-09-20T09:53:48.316Z"
      },
      {
        "duration": 18,
        "start_time": "2023-09-20T09:53:54.011Z"
      },
      {
        "duration": 6,
        "start_time": "2023-09-20T09:53:56.768Z"
      },
      {
        "duration": 37,
        "start_time": "2023-09-20T09:53:57.556Z"
      },
      {
        "duration": 9,
        "start_time": "2023-09-20T09:54:00.557Z"
      },
      {
        "duration": 6,
        "start_time": "2023-09-20T09:54:00.823Z"
      },
      {
        "duration": 9,
        "start_time": "2023-09-20T09:54:01.213Z"
      },
      {
        "duration": 102,
        "start_time": "2023-09-20T09:54:02.051Z"
      },
      {
        "duration": 2,
        "start_time": "2023-09-20T09:54:08.607Z"
      },
      {
        "duration": 25,
        "start_time": "2023-09-20T09:54:09.567Z"
      },
      {
        "duration": 25,
        "start_time": "2023-09-20T09:54:10.466Z"
      },
      {
        "duration": 21,
        "start_time": "2023-09-20T09:54:11.279Z"
      },
      {
        "duration": 26,
        "start_time": "2023-09-20T09:54:23.736Z"
      },
      {
        "duration": 10,
        "start_time": "2023-09-20T09:54:27.030Z"
      },
      {
        "duration": 25,
        "start_time": "2023-09-20T09:54:30.556Z"
      },
      {
        "duration": 154,
        "start_time": "2023-09-20T09:54:41.918Z"
      },
      {
        "duration": 203,
        "start_time": "2023-09-20T09:54:46.569Z"
      },
      {
        "duration": 31,
        "start_time": "2023-09-20T09:54:53.767Z"
      },
      {
        "duration": 16,
        "start_time": "2023-09-20T09:54:54.053Z"
      },
      {
        "duration": 21916,
        "start_time": "2023-09-20T09:54:55.811Z"
      },
      {
        "duration": 374,
        "start_time": "2023-09-20T09:55:17.730Z"
      },
      {
        "duration": 9,
        "start_time": "2023-09-20T09:55:18.106Z"
      },
      {
        "duration": 36,
        "start_time": "2023-09-20T09:55:18.117Z"
      },
      {
        "duration": 99,
        "start_time": "2023-09-20T09:55:18.155Z"
      },
      {
        "duration": 21584,
        "start_time": "2023-09-20T09:55:18.256Z"
      },
      {
        "duration": 449,
        "start_time": "2023-09-20T09:55:39.843Z"
      },
      {
        "duration": 39,
        "start_time": "2023-09-20T09:55:40.293Z"
      },
      {
        "duration": 212,
        "start_time": "2023-09-20T09:55:40.333Z"
      },
      {
        "duration": 36,
        "start_time": "2023-09-20T09:55:40.553Z"
      },
      {
        "duration": 14,
        "start_time": "2023-09-20T09:55:40.592Z"
      },
      {
        "duration": 46,
        "start_time": "2023-09-20T09:55:40.607Z"
      },
      {
        "duration": 207,
        "start_time": "2023-09-20T09:55:40.663Z"
      },
      {
        "duration": 91,
        "start_time": "2023-09-20T09:55:40.878Z"
      },
      {
        "duration": 139,
        "start_time": "2023-09-20T09:56:24.994Z"
      },
      {
        "duration": 28442,
        "start_time": "2023-09-20T09:57:10.620Z"
      },
      {
        "duration": 778,
        "start_time": "2023-09-20T09:57:39.069Z"
      },
      {
        "duration": 57,
        "start_time": "2023-09-20T09:57:39.849Z"
      },
      {
        "duration": 29994,
        "start_time": "2023-09-20T09:58:28.318Z"
      },
      {
        "duration": 864,
        "start_time": "2023-09-20T09:58:58.314Z"
      },
      {
        "duration": 60,
        "start_time": "2023-09-20T09:58:59.181Z"
      },
      {
        "duration": 27,
        "start_time": "2023-09-20T09:58:59.251Z"
      },
      {
        "duration": 90,
        "start_time": "2023-09-20T09:58:59.280Z"
      },
      {
        "duration": 420,
        "start_time": "2023-09-20T09:58:59.372Z"
      },
      {
        "duration": 24,
        "start_time": "2023-09-20T09:58:59.794Z"
      },
      {
        "duration": 25,
        "start_time": "2023-09-20T09:58:59.820Z"
      },
      {
        "duration": 19,
        "start_time": "2023-09-20T09:58:59.848Z"
      },
      {
        "duration": 133,
        "start_time": "2023-09-20T09:58:59.871Z"
      },
      {
        "duration": 13,
        "start_time": "2023-09-20T09:59:00.005Z"
      },
      {
        "duration": 72,
        "start_time": "2023-09-20T09:59:00.019Z"
      },
      {
        "duration": 13824,
        "start_time": "2023-09-20T09:59:00.093Z"
      },
      {
        "duration": 132,
        "start_time": "2023-09-20T09:59:13.918Z"
      },
      {
        "duration": 35,
        "start_time": "2023-09-20T09:59:14.055Z"
      },
      {
        "duration": 62,
        "start_time": "2023-09-20T09:59:14.092Z"
      },
      {
        "duration": 107,
        "start_time": "2023-09-20T09:59:14.160Z"
      },
      {
        "duration": 176,
        "start_time": "2023-09-20T09:59:14.269Z"
      },
      {
        "duration": 16,
        "start_time": "2023-09-20T09:59:14.447Z"
      },
      {
        "duration": 7,
        "start_time": "2023-09-20T10:00:07.467Z"
      },
      {
        "duration": 4,
        "start_time": "2023-09-20T10:00:08.764Z"
      },
      {
        "duration": 4,
        "start_time": "2023-09-20T10:00:09.298Z"
      },
      {
        "duration": 4,
        "start_time": "2023-09-20T10:00:09.794Z"
      },
      {
        "duration": 4,
        "start_time": "2023-09-20T10:00:10.292Z"
      },
      {
        "duration": 21521,
        "start_time": "2023-09-20T10:00:20.552Z"
      },
      {
        "duration": 466,
        "start_time": "2023-09-20T10:00:42.075Z"
      },
      {
        "duration": 145,
        "start_time": "2023-09-20T10:02:39.676Z"
      },
      {
        "duration": 129,
        "start_time": "2023-09-20T10:02:46.081Z"
      },
      {
        "duration": 133,
        "start_time": "2023-09-20T10:02:49.597Z"
      },
      {
        "duration": 430,
        "start_time": "2023-09-20T10:05:20.568Z"
      },
      {
        "duration": 18,
        "start_time": "2023-09-20T10:05:22.420Z"
      },
      {
        "duration": 16,
        "start_time": "2023-09-20T10:07:08.460Z"
      },
      {
        "duration": 14,
        "start_time": "2023-09-20T10:07:10.477Z"
      },
      {
        "duration": 33,
        "start_time": "2023-09-20T10:07:56.983Z"
      },
      {
        "duration": 21392,
        "start_time": "2023-09-20T10:08:44.608Z"
      },
      {
        "duration": 471,
        "start_time": "2023-09-20T10:09:06.003Z"
      },
      {
        "duration": 21,
        "start_time": "2023-09-20T10:09:24.129Z"
      },
      {
        "duration": 56,
        "start_time": "2023-09-20T10:11:34.343Z"
      },
      {
        "duration": 36,
        "start_time": "2023-09-20T10:11:49.400Z"
      },
      {
        "duration": 1557,
        "start_time": "2023-09-20T10:12:58.959Z"
      },
      {
        "duration": 44,
        "start_time": "2023-09-20T10:13:00.518Z"
      },
      {
        "duration": 49,
        "start_time": "2023-09-20T10:13:00.564Z"
      },
      {
        "duration": 109,
        "start_time": "2023-09-20T10:13:00.615Z"
      },
      {
        "duration": 273,
        "start_time": "2023-09-20T10:13:00.726Z"
      },
      {
        "duration": 1411,
        "start_time": "2023-09-20T10:13:01.002Z"
      },
      {
        "duration": 9,
        "start_time": "2023-09-20T10:13:02.415Z"
      },
      {
        "duration": 133,
        "start_time": "2023-09-20T10:13:02.443Z"
      },
      {
        "duration": 116,
        "start_time": "2023-09-20T10:13:02.578Z"
      },
      {
        "duration": 288,
        "start_time": "2023-09-20T10:13:02.696Z"
      },
      {
        "duration": 685,
        "start_time": "2023-09-20T10:13:02.986Z"
      },
      {
        "duration": 117,
        "start_time": "2023-09-20T10:13:03.673Z"
      },
      {
        "duration": 121,
        "start_time": "2023-09-20T10:13:03.792Z"
      },
      {
        "duration": 82,
        "start_time": "2023-09-20T10:13:03.914Z"
      },
      {
        "duration": 59,
        "start_time": "2023-09-20T10:13:03.998Z"
      },
      {
        "duration": 80,
        "start_time": "2023-09-20T10:13:04.059Z"
      },
      {
        "duration": 80,
        "start_time": "2023-09-20T10:13:04.141Z"
      },
      {
        "duration": 155,
        "start_time": "2023-09-20T10:13:04.223Z"
      },
      {
        "duration": 96,
        "start_time": "2023-09-20T10:13:04.380Z"
      },
      {
        "duration": 101,
        "start_time": "2023-09-20T10:13:04.479Z"
      },
      {
        "duration": 237,
        "start_time": "2023-09-20T10:13:04.582Z"
      },
      {
        "duration": 387,
        "start_time": "2023-09-20T10:13:04.821Z"
      },
      {
        "duration": 22,
        "start_time": "2023-09-20T10:13:05.211Z"
      },
      {
        "duration": 34,
        "start_time": "2023-09-20T10:13:05.251Z"
      },
      {
        "duration": 20597,
        "start_time": "2023-09-20T10:13:05.900Z"
      },
      {
        "duration": 365,
        "start_time": "2023-09-20T10:13:26.499Z"
      },
      {
        "duration": 10,
        "start_time": "2023-09-20T10:13:26.866Z"
      },
      {
        "duration": 55,
        "start_time": "2023-09-20T10:13:26.879Z"
      },
      {
        "duration": 111,
        "start_time": "2023-09-20T10:13:26.936Z"
      },
      {
        "duration": 21237,
        "start_time": "2023-09-20T10:13:27.050Z"
      },
      {
        "duration": 461,
        "start_time": "2023-09-20T10:13:48.289Z"
      },
      {
        "duration": 48,
        "start_time": "2023-09-20T10:13:48.752Z"
      },
      {
        "duration": 215,
        "start_time": "2023-09-20T10:13:48.802Z"
      },
      {
        "duration": 36,
        "start_time": "2023-09-20T10:13:49.019Z"
      },
      {
        "duration": 20,
        "start_time": "2023-09-20T10:13:49.068Z"
      },
      {
        "duration": 84,
        "start_time": "2023-09-20T10:13:49.090Z"
      },
      {
        "duration": 182,
        "start_time": "2023-09-20T10:13:49.177Z"
      },
      {
        "duration": 179,
        "start_time": "2023-09-20T10:13:49.366Z"
      },
      {
        "duration": 145,
        "start_time": "2023-09-20T10:13:49.549Z"
      },
      {
        "duration": 28774,
        "start_time": "2023-09-20T10:13:49.695Z"
      },
      {
        "duration": 781,
        "start_time": "2023-09-20T10:14:18.471Z"
      },
      {
        "duration": 57,
        "start_time": "2023-09-20T10:14:19.254Z"
      },
      {
        "duration": 55,
        "start_time": "2023-09-20T10:14:19.313Z"
      },
      {
        "duration": 99,
        "start_time": "2023-09-20T10:14:19.450Z"
      },
      {
        "duration": 398,
        "start_time": "2023-09-20T10:14:19.552Z"
      },
      {
        "duration": 32,
        "start_time": "2023-09-20T10:14:19.952Z"
      },
      {
        "duration": 14,
        "start_time": "2023-09-20T10:14:19.986Z"
      },
      {
        "duration": 41,
        "start_time": "2023-09-20T10:14:20.002Z"
      },
      {
        "duration": 125,
        "start_time": "2023-09-20T10:14:20.052Z"
      },
      {
        "duration": 14,
        "start_time": "2023-09-20T10:14:20.178Z"
      },
      {
        "duration": 42,
        "start_time": "2023-09-20T10:14:20.193Z"
      },
      {
        "duration": 13617,
        "start_time": "2023-09-20T10:14:20.239Z"
      },
      {
        "duration": 156,
        "start_time": "2023-09-20T10:14:33.858Z"
      },
      {
        "duration": 45,
        "start_time": "2023-09-20T10:14:34.017Z"
      },
      {
        "duration": 90,
        "start_time": "2023-09-20T10:14:34.065Z"
      },
      {
        "duration": 98,
        "start_time": "2023-09-20T10:14:34.159Z"
      },
      {
        "duration": 190,
        "start_time": "2023-09-20T10:14:34.260Z"
      },
      {
        "duration": 7,
        "start_time": "2023-09-20T10:14:34.452Z"
      },
      {
        "duration": 39,
        "start_time": "2023-09-20T10:14:34.461Z"
      },
      {
        "duration": 20,
        "start_time": "2023-09-20T10:14:34.502Z"
      },
      {
        "duration": 147,
        "start_time": "2023-09-20T10:14:34.524Z"
      },
      {
        "duration": 0,
        "start_time": "2023-09-20T10:14:34.674Z"
      },
      {
        "duration": 0,
        "start_time": "2023-09-20T10:14:34.674Z"
      },
      {
        "duration": 0,
        "start_time": "2023-09-20T10:14:34.675Z"
      },
      {
        "duration": 0,
        "start_time": "2023-09-20T10:14:34.676Z"
      },
      {
        "duration": 0,
        "start_time": "2023-09-20T10:14:34.677Z"
      },
      {
        "duration": 5,
        "start_time": "2023-09-20T10:15:04.250Z"
      },
      {
        "duration": 4,
        "start_time": "2023-09-20T10:15:06.000Z"
      },
      {
        "duration": 7,
        "start_time": "2023-09-20T10:15:08.146Z"
      },
      {
        "duration": 4,
        "start_time": "2023-09-20T10:15:08.520Z"
      },
      {
        "duration": 5,
        "start_time": "2023-09-20T10:15:09.092Z"
      },
      {
        "duration": 4,
        "start_time": "2023-09-20T10:15:37.018Z"
      },
      {
        "duration": 5,
        "start_time": "2023-09-20T10:15:39.020Z"
      },
      {
        "duration": 6,
        "start_time": "2023-09-20T10:15:51.666Z"
      },
      {
        "duration": 4,
        "start_time": "2023-09-20T10:15:52.114Z"
      },
      {
        "duration": 5,
        "start_time": "2023-09-20T10:17:08.981Z"
      },
      {
        "duration": 4,
        "start_time": "2023-09-20T10:17:09.693Z"
      },
      {
        "duration": 5,
        "start_time": "2023-09-20T10:17:10.316Z"
      },
      {
        "duration": 4,
        "start_time": "2023-09-20T10:17:10.721Z"
      },
      {
        "duration": 4,
        "start_time": "2023-09-20T10:17:11.313Z"
      },
      {
        "duration": 21013,
        "start_time": "2023-09-20T10:17:12.982Z"
      },
      {
        "duration": 453,
        "start_time": "2023-09-20T10:17:37.247Z"
      },
      {
        "duration": 45,
        "start_time": "2023-09-20T10:17:39.508Z"
      },
      {
        "duration": 18,
        "start_time": "2023-09-20T10:17:59.919Z"
      },
      {
        "duration": 15,
        "start_time": "2023-09-20T10:18:20.380Z"
      },
      {
        "duration": 39,
        "start_time": "2023-09-20T10:18:31.571Z"
      },
      {
        "duration": 13,
        "start_time": "2023-09-20T10:18:35.569Z"
      },
      {
        "duration": 20,
        "start_time": "2023-09-20T10:18:44.358Z"
      },
      {
        "duration": 158,
        "start_time": "2023-09-20T10:18:52.024Z"
      }
    ],
    "toc": {
      "base_numbering": 1,
      "nav_menu": {},
      "number_sections": true,
      "sideBar": true,
      "skip_h1_title": true,
      "title_cell": "Содержание",
      "title_sidebar": "Contents",
      "toc_cell": true,
      "toc_position": {
        "height": "calc(100% - 180px)",
        "left": "10px",
        "top": "150px",
        "width": "361.391px"
      },
      "toc_section_display": true,
      "toc_window_display": false
    },
    "kernelspec": {
      "name": "python",
      "display_name": "Python (Pyodide)",
      "language": "python"
    },
    "language_info": {
      "codemirror_mode": {
        "name": "python",
        "version": 3
      },
      "file_extension": ".py",
      "mimetype": "text/x-python",
      "name": "python",
      "nbconvert_exporter": "python",
      "pygments_lexer": "ipython3",
      "version": "3.8"
    }
  },
  "nbformat_minor": 4,
  "nbformat": 4,
  "cells": [
    {
      "cell_type": "markdown",
      "source": "<h1>Содержание<span class=\"tocSkip\"></span></h1>\n<div class=\"toc\"><ul class=\"toc-item\"><li><span><a href=\"#Подготовка-данных\" data-toc-modified-id=\"Подготовка-данных-1\"><span class=\"toc-item-num\">1&nbsp;&nbsp;</span>Подготовка данных</a></span></li><li><span><a href=\"#Исследование-задачи\" data-toc-modified-id=\"Исследование-задачи-2\"><span class=\"toc-item-num\">2&nbsp;&nbsp;</span>Исследование задачи</a></span></li><li><span><a href=\"#Борьба-с-дисбалансом\" data-toc-modified-id=\"Борьба-с-дисбалансом-3\"><span class=\"toc-item-num\">3&nbsp;&nbsp;</span>Борьба с дисбалансом</a></span><ul class=\"toc-item\"><li><span><a href=\"#Взвешивание-классов\" data-toc-modified-id=\"Взвешивание-классов-3.1\"><span class=\"toc-item-num\">3.1&nbsp;&nbsp;</span>Взвешивание классов</a></span></li><li><span><a href=\"#Увеличение-выборки\" data-toc-modified-id=\"Увеличение-выборки-3.2\"><span class=\"toc-item-num\">3.2&nbsp;&nbsp;</span>Увеличение выборки</a></span></li><li><span><a href=\"#Уменьшение-выборки\" data-toc-modified-id=\"Уменьшение-выборки-3.3\"><span class=\"toc-item-num\">3.3&nbsp;&nbsp;</span>Уменьшение выборки</a></span></li></ul></li><li><span><a href=\"#Тестирование-модели\" data-toc-modified-id=\"Тестирование-модели-4\"><span class=\"toc-item-num\">4&nbsp;&nbsp;</span>Тестирование модели</a></span></li><li><span><a href=\"#Вывод\" data-toc-modified-id=\"Вывод-5\"><span class=\"toc-item-num\">5&nbsp;&nbsp;</span>Вывод</a></span></li><li><span><a href=\"#Чек-лист-готовности-проекта\" data-toc-modified-id=\"Чек-лист-готовности-проекта-6\"><span class=\"toc-item-num\">6&nbsp;&nbsp;</span>Чек-лист готовности проекта</a></span></li></ul></div>",
      "metadata": {
        "toc": true
      }
    },
    {
      "cell_type": "markdown",
      "source": "# Отток клиентов",
      "metadata": {}
    },
    {
      "cell_type": "markdown",
      "source": "Из «Бета-Банка» стали уходить клиенты. Каждый месяц. Немного, но заметно. Банковские маркетологи посчитали: сохранять текущих клиентов дешевле, чем привлекать новых.\nНужно спрогнозировать, уйдёт клиент из банка в ближайшее время или нет. Вам предоставлены исторические данные о поведении клиентов и расторжении договоров с банком. ",
      "metadata": {}
    },
    {
      "cell_type": "markdown",
      "source": "# Описание данных",
      "metadata": {}
    },
    {
      "cell_type": "markdown",
      "source": "Данные находятся в файле **/datasets/Churn.csv**\n\n**Признаки:**\n\n**- RowNumber** — индекс строки в данных\n\n**- CustomerId** — уникальный идентификатор клиента\n\n**- Surname** — фамилия\n\n**- CreditScore** — кредитный рейтинг\n\n**- Geography** — страна проживания\n\n**- Gender** — пол\n\n**- Age** — возраст\n\n**- Tenure** — сколько лет человек является клиентом банка\n\n**- Balance** — баланс на счёте\n\n**- NumOfProducts** — количество продуктов банка, используемых клиентом\n\n**- HasCrCard** — наличие кредитной карты\n\n**- IsActiveMember** — активность клиента\n\n**- EstimatedSalary** — предполагаемая зарплата\n\n**Целевой признак:**\n\n**Exited** — факт ухода клиента",
      "metadata": {}
    },
    {
      "cell_type": "markdown",
      "source": "## Подготовка данных",
      "metadata": {}
    },
    {
      "cell_type": "code",
      "source": "import pandas as pd\nimport matplotlib.pyplot as plt\nimport seaborn as sns\nimport time\n\nfrom sklearn.utils import shuffle\nfrom sklearn.model_selection import train_test_split, GridSearchCV\nfrom sklearn.metrics import accuracy_score, f1_score, recall_score, precision_score, roc_auc_score, roc_curve, auc\n\n\nfrom sklearn.linear_model import LogisticRegression\nfrom sklearn.ensemble import RandomForestClassifier\nfrom sklearn.preprocessing import StandardScaler\nfrom sklearn.tree import DecisionTreeClassifier\nfrom sklearn.dummy import DummyClassifier",
      "metadata": {},
      "execution_count": 1,
      "outputs": []
    },
    {
      "cell_type": "code",
      "source": "data = pd.read_csv('/datasets/Churn.csv')",
      "metadata": {},
      "execution_count": 2,
      "outputs": []
    },
    {
      "cell_type": "code",
      "source": "display(data)",
      "metadata": {},
      "execution_count": 3,
      "outputs": [
        {
          "output_type": "display_data",
          "data": {
            "text/html": [
              "<div>\n",
              "<style scoped>\n",
              "    .dataframe tbody tr th:only-of-type {\n",
              "        vertical-align: middle;\n",
              "    }\n",
              "\n",
              "    .dataframe tbody tr th {\n",
              "        vertical-align: top;\n",
              "    }\n",
              "\n",
              "    .dataframe thead th {\n",
              "        text-align: right;\n",
              "    }\n",
              "</style>\n",
              "<table border=\"1\" class=\"dataframe\">\n",
              "  <thead>\n",
              "    <tr style=\"text-align: right;\">\n",
              "      <th></th>\n",
              "      <th>RowNumber</th>\n",
              "      <th>CustomerId</th>\n",
              "      <th>Surname</th>\n",
              "      <th>CreditScore</th>\n",
              "      <th>Geography</th>\n",
              "      <th>Gender</th>\n",
              "      <th>Age</th>\n",
              "      <th>Tenure</th>\n",
              "      <th>Balance</th>\n",
              "      <th>NumOfProducts</th>\n",
              "      <th>HasCrCard</th>\n",
              "      <th>IsActiveMember</th>\n",
              "      <th>EstimatedSalary</th>\n",
              "      <th>Exited</th>\n",
              "    </tr>\n",
              "  </thead>\n",
              "  <tbody>\n",
              "    <tr>\n",
              "      <th>0</th>\n",
              "      <td>1</td>\n",
              "      <td>15634602</td>\n",
              "      <td>Hargrave</td>\n",
              "      <td>619</td>\n",
              "      <td>France</td>\n",
              "      <td>Female</td>\n",
              "      <td>42</td>\n",
              "      <td>2.0</td>\n",
              "      <td>0.00</td>\n",
              "      <td>1</td>\n",
              "      <td>1</td>\n",
              "      <td>1</td>\n",
              "      <td>101348.88</td>\n",
              "      <td>1</td>\n",
              "    </tr>\n",
              "    <tr>\n",
              "      <th>1</th>\n",
              "      <td>2</td>\n",
              "      <td>15647311</td>\n",
              "      <td>Hill</td>\n",
              "      <td>608</td>\n",
              "      <td>Spain</td>\n",
              "      <td>Female</td>\n",
              "      <td>41</td>\n",
              "      <td>1.0</td>\n",
              "      <td>83807.86</td>\n",
              "      <td>1</td>\n",
              "      <td>0</td>\n",
              "      <td>1</td>\n",
              "      <td>112542.58</td>\n",
              "      <td>0</td>\n",
              "    </tr>\n",
              "    <tr>\n",
              "      <th>2</th>\n",
              "      <td>3</td>\n",
              "      <td>15619304</td>\n",
              "      <td>Onio</td>\n",
              "      <td>502</td>\n",
              "      <td>France</td>\n",
              "      <td>Female</td>\n",
              "      <td>42</td>\n",
              "      <td>8.0</td>\n",
              "      <td>159660.80</td>\n",
              "      <td>3</td>\n",
              "      <td>1</td>\n",
              "      <td>0</td>\n",
              "      <td>113931.57</td>\n",
              "      <td>1</td>\n",
              "    </tr>\n",
              "    <tr>\n",
              "      <th>3</th>\n",
              "      <td>4</td>\n",
              "      <td>15701354</td>\n",
              "      <td>Boni</td>\n",
              "      <td>699</td>\n",
              "      <td>France</td>\n",
              "      <td>Female</td>\n",
              "      <td>39</td>\n",
              "      <td>1.0</td>\n",
              "      <td>0.00</td>\n",
              "      <td>2</td>\n",
              "      <td>0</td>\n",
              "      <td>0</td>\n",
              "      <td>93826.63</td>\n",
              "      <td>0</td>\n",
              "    </tr>\n",
              "    <tr>\n",
              "      <th>4</th>\n",
              "      <td>5</td>\n",
              "      <td>15737888</td>\n",
              "      <td>Mitchell</td>\n",
              "      <td>850</td>\n",
              "      <td>Spain</td>\n",
              "      <td>Female</td>\n",
              "      <td>43</td>\n",
              "      <td>2.0</td>\n",
              "      <td>125510.82</td>\n",
              "      <td>1</td>\n",
              "      <td>1</td>\n",
              "      <td>1</td>\n",
              "      <td>79084.10</td>\n",
              "      <td>0</td>\n",
              "    </tr>\n",
              "    <tr>\n",
              "      <th>...</th>\n",
              "      <td>...</td>\n",
              "      <td>...</td>\n",
              "      <td>...</td>\n",
              "      <td>...</td>\n",
              "      <td>...</td>\n",
              "      <td>...</td>\n",
              "      <td>...</td>\n",
              "      <td>...</td>\n",
              "      <td>...</td>\n",
              "      <td>...</td>\n",
              "      <td>...</td>\n",
              "      <td>...</td>\n",
              "      <td>...</td>\n",
              "      <td>...</td>\n",
              "    </tr>\n",
              "    <tr>\n",
              "      <th>9995</th>\n",
              "      <td>9996</td>\n",
              "      <td>15606229</td>\n",
              "      <td>Obijiaku</td>\n",
              "      <td>771</td>\n",
              "      <td>France</td>\n",
              "      <td>Male</td>\n",
              "      <td>39</td>\n",
              "      <td>5.0</td>\n",
              "      <td>0.00</td>\n",
              "      <td>2</td>\n",
              "      <td>1</td>\n",
              "      <td>0</td>\n",
              "      <td>96270.64</td>\n",
              "      <td>0</td>\n",
              "    </tr>\n",
              "    <tr>\n",
              "      <th>9996</th>\n",
              "      <td>9997</td>\n",
              "      <td>15569892</td>\n",
              "      <td>Johnstone</td>\n",
              "      <td>516</td>\n",
              "      <td>France</td>\n",
              "      <td>Male</td>\n",
              "      <td>35</td>\n",
              "      <td>10.0</td>\n",
              "      <td>57369.61</td>\n",
              "      <td>1</td>\n",
              "      <td>1</td>\n",
              "      <td>1</td>\n",
              "      <td>101699.77</td>\n",
              "      <td>0</td>\n",
              "    </tr>\n",
              "    <tr>\n",
              "      <th>9997</th>\n",
              "      <td>9998</td>\n",
              "      <td>15584532</td>\n",
              "      <td>Liu</td>\n",
              "      <td>709</td>\n",
              "      <td>France</td>\n",
              "      <td>Female</td>\n",
              "      <td>36</td>\n",
              "      <td>7.0</td>\n",
              "      <td>0.00</td>\n",
              "      <td>1</td>\n",
              "      <td>0</td>\n",
              "      <td>1</td>\n",
              "      <td>42085.58</td>\n",
              "      <td>1</td>\n",
              "    </tr>\n",
              "    <tr>\n",
              "      <th>9998</th>\n",
              "      <td>9999</td>\n",
              "      <td>15682355</td>\n",
              "      <td>Sabbatini</td>\n",
              "      <td>772</td>\n",
              "      <td>Germany</td>\n",
              "      <td>Male</td>\n",
              "      <td>42</td>\n",
              "      <td>3.0</td>\n",
              "      <td>75075.31</td>\n",
              "      <td>2</td>\n",
              "      <td>1</td>\n",
              "      <td>0</td>\n",
              "      <td>92888.52</td>\n",
              "      <td>1</td>\n",
              "    </tr>\n",
              "    <tr>\n",
              "      <th>9999</th>\n",
              "      <td>10000</td>\n",
              "      <td>15628319</td>\n",
              "      <td>Walker</td>\n",
              "      <td>792</td>\n",
              "      <td>France</td>\n",
              "      <td>Female</td>\n",
              "      <td>28</td>\n",
              "      <td>NaN</td>\n",
              "      <td>130142.79</td>\n",
              "      <td>1</td>\n",
              "      <td>1</td>\n",
              "      <td>0</td>\n",
              "      <td>38190.78</td>\n",
              "      <td>0</td>\n",
              "    </tr>\n",
              "  </tbody>\n",
              "</table>\n",
              "<p>10000 rows × 14 columns</p>\n",
              "</div>"
            ],
            "text/plain": [
              "      RowNumber  CustomerId    Surname  CreditScore Geography  Gender  Age  \\\n",
              "0             1    15634602   Hargrave          619    France  Female   42   \n",
              "1             2    15647311       Hill          608     Spain  Female   41   \n",
              "2             3    15619304       Onio          502    France  Female   42   \n",
              "3             4    15701354       Boni          699    France  Female   39   \n",
              "4             5    15737888   Mitchell          850     Spain  Female   43   \n",
              "...         ...         ...        ...          ...       ...     ...  ...   \n",
              "9995       9996    15606229   Obijiaku          771    France    Male   39   \n",
              "9996       9997    15569892  Johnstone          516    France    Male   35   \n",
              "9997       9998    15584532        Liu          709    France  Female   36   \n",
              "9998       9999    15682355  Sabbatini          772   Germany    Male   42   \n",
              "9999      10000    15628319     Walker          792    France  Female   28   \n",
              "\n",
              "      Tenure    Balance  NumOfProducts  HasCrCard  IsActiveMember  \\\n",
              "0        2.0       0.00              1          1               1   \n",
              "1        1.0   83807.86              1          0               1   \n",
              "2        8.0  159660.80              3          1               0   \n",
              "3        1.0       0.00              2          0               0   \n",
              "4        2.0  125510.82              1          1               1   \n",
              "...      ...        ...            ...        ...             ...   \n",
              "9995     5.0       0.00              2          1               0   \n",
              "9996    10.0   57369.61              1          1               1   \n",
              "9997     7.0       0.00              1          0               1   \n",
              "9998     3.0   75075.31              2          1               0   \n",
              "9999     NaN  130142.79              1          1               0   \n",
              "\n",
              "      EstimatedSalary  Exited  \n",
              "0           101348.88       1  \n",
              "1           112542.58       0  \n",
              "2           113931.57       1  \n",
              "3            93826.63       0  \n",
              "4            79084.10       0  \n",
              "...               ...     ...  \n",
              "9995         96270.64       0  \n",
              "9996        101699.77       0  \n",
              "9997         42085.58       1  \n",
              "9998         92888.52       1  \n",
              "9999         38190.78       0  \n",
              "\n",
              "[10000 rows x 14 columns]"
            ]
          },
          "metadata": {}
        }
      ]
    },
    {
      "cell_type": "code",
      "source": "data.info()",
      "metadata": {},
      "execution_count": 4,
      "outputs": [
        {
          "name": "stdout",
          "output_type": "stream",
          "text": "<class 'pandas.core.frame.DataFrame'>\n\nRangeIndex: 10000 entries, 0 to 9999\n\nData columns (total 14 columns):\n\n #   Column           Non-Null Count  Dtype  \n\n---  ------           --------------  -----  \n\n 0   RowNumber        10000 non-null  int64  \n\n 1   CustomerId       10000 non-null  int64  \n\n 2   Surname          10000 non-null  object \n\n 3   CreditScore      10000 non-null  int64  \n\n 4   Geography        10000 non-null  object \n\n 5   Gender           10000 non-null  object \n\n 6   Age              10000 non-null  int64  \n\n 7   Tenure           9091 non-null   float64\n\n 8   Balance          10000 non-null  float64\n\n 9   NumOfProducts    10000 non-null  int64  \n\n 10  HasCrCard        10000 non-null  int64  \n\n 11  IsActiveMember   10000 non-null  int64  \n\n 12  EstimatedSalary  10000 non-null  float64\n\n 13  Exited           10000 non-null  int64  \n\ndtypes: float64(3), int64(8), object(3)\n\nmemory usage: 1.1+ MB\n"
        }
      ]
    },
    {
      "cell_type": "code",
      "source": "data.describe()",
      "metadata": {},
      "execution_count": 5,
      "outputs": [
        {
          "execution_count": 5,
          "output_type": "execute_result",
          "data": {
            "text/html": [
              "<div>\n",
              "<style scoped>\n",
              "    .dataframe tbody tr th:only-of-type {\n",
              "        vertical-align: middle;\n",
              "    }\n",
              "\n",
              "    .dataframe tbody tr th {\n",
              "        vertical-align: top;\n",
              "    }\n",
              "\n",
              "    .dataframe thead th {\n",
              "        text-align: right;\n",
              "    }\n",
              "</style>\n",
              "<table border=\"1\" class=\"dataframe\">\n",
              "  <thead>\n",
              "    <tr style=\"text-align: right;\">\n",
              "      <th></th>\n",
              "      <th>RowNumber</th>\n",
              "      <th>CustomerId</th>\n",
              "      <th>CreditScore</th>\n",
              "      <th>Age</th>\n",
              "      <th>Tenure</th>\n",
              "      <th>Balance</th>\n",
              "      <th>NumOfProducts</th>\n",
              "      <th>HasCrCard</th>\n",
              "      <th>IsActiveMember</th>\n",
              "      <th>EstimatedSalary</th>\n",
              "      <th>Exited</th>\n",
              "    </tr>\n",
              "  </thead>\n",
              "  <tbody>\n",
              "    <tr>\n",
              "      <th>count</th>\n",
              "      <td>10000.00000</td>\n",
              "      <td>1.000000e+04</td>\n",
              "      <td>10000.000000</td>\n",
              "      <td>10000.000000</td>\n",
              "      <td>9091.000000</td>\n",
              "      <td>10000.000000</td>\n",
              "      <td>10000.000000</td>\n",
              "      <td>10000.00000</td>\n",
              "      <td>10000.000000</td>\n",
              "      <td>10000.000000</td>\n",
              "      <td>10000.000000</td>\n",
              "    </tr>\n",
              "    <tr>\n",
              "      <th>mean</th>\n",
              "      <td>5000.50000</td>\n",
              "      <td>1.569094e+07</td>\n",
              "      <td>650.528800</td>\n",
              "      <td>38.921800</td>\n",
              "      <td>4.997690</td>\n",
              "      <td>76485.889288</td>\n",
              "      <td>1.530200</td>\n",
              "      <td>0.70550</td>\n",
              "      <td>0.515100</td>\n",
              "      <td>100090.239881</td>\n",
              "      <td>0.203700</td>\n",
              "    </tr>\n",
              "    <tr>\n",
              "      <th>std</th>\n",
              "      <td>2886.89568</td>\n",
              "      <td>7.193619e+04</td>\n",
              "      <td>96.653299</td>\n",
              "      <td>10.487806</td>\n",
              "      <td>2.894723</td>\n",
              "      <td>62397.405202</td>\n",
              "      <td>0.581654</td>\n",
              "      <td>0.45584</td>\n",
              "      <td>0.499797</td>\n",
              "      <td>57510.492818</td>\n",
              "      <td>0.402769</td>\n",
              "    </tr>\n",
              "    <tr>\n",
              "      <th>min</th>\n",
              "      <td>1.00000</td>\n",
              "      <td>1.556570e+07</td>\n",
              "      <td>350.000000</td>\n",
              "      <td>18.000000</td>\n",
              "      <td>0.000000</td>\n",
              "      <td>0.000000</td>\n",
              "      <td>1.000000</td>\n",
              "      <td>0.00000</td>\n",
              "      <td>0.000000</td>\n",
              "      <td>11.580000</td>\n",
              "      <td>0.000000</td>\n",
              "    </tr>\n",
              "    <tr>\n",
              "      <th>25%</th>\n",
              "      <td>2500.75000</td>\n",
              "      <td>1.562853e+07</td>\n",
              "      <td>584.000000</td>\n",
              "      <td>32.000000</td>\n",
              "      <td>2.000000</td>\n",
              "      <td>0.000000</td>\n",
              "      <td>1.000000</td>\n",
              "      <td>0.00000</td>\n",
              "      <td>0.000000</td>\n",
              "      <td>51002.110000</td>\n",
              "      <td>0.000000</td>\n",
              "    </tr>\n",
              "    <tr>\n",
              "      <th>50%</th>\n",
              "      <td>5000.50000</td>\n",
              "      <td>1.569074e+07</td>\n",
              "      <td>652.000000</td>\n",
              "      <td>37.000000</td>\n",
              "      <td>5.000000</td>\n",
              "      <td>97198.540000</td>\n",
              "      <td>1.000000</td>\n",
              "      <td>1.00000</td>\n",
              "      <td>1.000000</td>\n",
              "      <td>100193.915000</td>\n",
              "      <td>0.000000</td>\n",
              "    </tr>\n",
              "    <tr>\n",
              "      <th>75%</th>\n",
              "      <td>7500.25000</td>\n",
              "      <td>1.575323e+07</td>\n",
              "      <td>718.000000</td>\n",
              "      <td>44.000000</td>\n",
              "      <td>7.000000</td>\n",
              "      <td>127644.240000</td>\n",
              "      <td>2.000000</td>\n",
              "      <td>1.00000</td>\n",
              "      <td>1.000000</td>\n",
              "      <td>149388.247500</td>\n",
              "      <td>0.000000</td>\n",
              "    </tr>\n",
              "    <tr>\n",
              "      <th>max</th>\n",
              "      <td>10000.00000</td>\n",
              "      <td>1.581569e+07</td>\n",
              "      <td>850.000000</td>\n",
              "      <td>92.000000</td>\n",
              "      <td>10.000000</td>\n",
              "      <td>250898.090000</td>\n",
              "      <td>4.000000</td>\n",
              "      <td>1.00000</td>\n",
              "      <td>1.000000</td>\n",
              "      <td>199992.480000</td>\n",
              "      <td>1.000000</td>\n",
              "    </tr>\n",
              "  </tbody>\n",
              "</table>\n",
              "</div>"
            ],
            "text/plain": [
              "         RowNumber    CustomerId   CreditScore           Age       Tenure  \\\n",
              "count  10000.00000  1.000000e+04  10000.000000  10000.000000  9091.000000   \n",
              "mean    5000.50000  1.569094e+07    650.528800     38.921800     4.997690   \n",
              "std     2886.89568  7.193619e+04     96.653299     10.487806     2.894723   \n",
              "min        1.00000  1.556570e+07    350.000000     18.000000     0.000000   \n",
              "25%     2500.75000  1.562853e+07    584.000000     32.000000     2.000000   \n",
              "50%     5000.50000  1.569074e+07    652.000000     37.000000     5.000000   \n",
              "75%     7500.25000  1.575323e+07    718.000000     44.000000     7.000000   \n",
              "max    10000.00000  1.581569e+07    850.000000     92.000000    10.000000   \n",
              "\n",
              "             Balance  NumOfProducts    HasCrCard  IsActiveMember  \\\n",
              "count   10000.000000   10000.000000  10000.00000    10000.000000   \n",
              "mean    76485.889288       1.530200      0.70550        0.515100   \n",
              "std     62397.405202       0.581654      0.45584        0.499797   \n",
              "min         0.000000       1.000000      0.00000        0.000000   \n",
              "25%         0.000000       1.000000      0.00000        0.000000   \n",
              "50%     97198.540000       1.000000      1.00000        1.000000   \n",
              "75%    127644.240000       2.000000      1.00000        1.000000   \n",
              "max    250898.090000       4.000000      1.00000        1.000000   \n",
              "\n",
              "       EstimatedSalary        Exited  \n",
              "count     10000.000000  10000.000000  \n",
              "mean     100090.239881      0.203700  \n",
              "std       57510.492818      0.402769  \n",
              "min          11.580000      0.000000  \n",
              "25%       51002.110000      0.000000  \n",
              "50%      100193.915000      0.000000  \n",
              "75%      149388.247500      0.000000  \n",
              "max      199992.480000      1.000000  "
            ]
          },
          "metadata": {}
        }
      ]
    },
    {
      "cell_type": "code",
      "source": "data.hist(figsize=(10, 10))\nNone",
      "metadata": {},
      "execution_count": 6,
      "outputs": [
        {
          "output_type": "display_data",
          "data": {
            "image/png": "[encoded data removed]",
            "text/plain": [
              "<Figure size 720x720 with 12 Axes>"
            ]
          },
          "metadata": {
            "needs_background": "light"
          }
        }
      ]
    },
    {
      "cell_type": "code",
      "source": "#Проверка на наличие пропусков\ndata.isna().sum()",
      "metadata": {},
      "execution_count": 7,
      "outputs": [
        {
          "execution_count": 7,
          "output_type": "execute_result",
          "data": {
            "text/plain": [
              "RowNumber            0\n",
              "CustomerId           0\n",
              "Surname              0\n",
              "CreditScore          0\n",
              "Geography            0\n",
              "Gender               0\n",
              "Age                  0\n",
              "Tenure             909\n",
              "Balance              0\n",
              "NumOfProducts        0\n",
              "HasCrCard            0\n",
              "IsActiveMember       0\n",
              "EstimatedSalary      0\n",
              "Exited               0\n",
              "dtype: int64"
            ]
          },
          "metadata": {}
        }
      ]
    },
    {
      "cell_type": "code",
      "source": "#Заменим пропуски на 0\n#Т.к. человек не является клиентом банка\ndata.Tenure = data.Tenure.fillna(0)",
      "metadata": {},
      "execution_count": 8,
      "outputs": []
    },
    {
      "cell_type": "code",
      "source": "#Проверка\ndata.isna().sum()",
      "metadata": {},
      "execution_count": 9,
      "outputs": [
        {
          "execution_count": 9,
          "output_type": "execute_result",
          "data": {
            "text/plain": [
              "RowNumber          0\n",
              "CustomerId         0\n",
              "Surname            0\n",
              "CreditScore        0\n",
              "Geography          0\n",
              "Gender             0\n",
              "Age                0\n",
              "Tenure             0\n",
              "Balance            0\n",
              "NumOfProducts      0\n",
              "HasCrCard          0\n",
              "IsActiveMember     0\n",
              "EstimatedSalary    0\n",
              "Exited             0\n",
              "dtype: int64"
            ]
          },
          "metadata": {}
        }
      ]
    },
    {
      "cell_type": "code",
      "source": "data['Geography'].unique()",
      "metadata": {},
      "execution_count": 10,
      "outputs": [
        {
          "execution_count": 10,
          "output_type": "execute_result",
          "data": {
            "text/plain": [
              "array(['France', 'Spain', 'Germany'], dtype=object)"
            ]
          },
          "metadata": {}
        }
      ]
    },
    {
      "cell_type": "markdown",
      "source": "Данные от пропусков избавили, теперь можно приступать к работе",
      "metadata": {}
    },
    {
      "cell_type": "markdown",
      "source": "## Исследование задачи",
      "metadata": {}
    },
    {
      "cell_type": "code",
      "source": "data_ml = data.drop(['RowNumber','CustomerId', 'Surname'], axis=1)\ndisplay(data_ml)",
      "metadata": {},
      "execution_count": 11,
      "outputs": [
        {
          "output_type": "display_data",
          "data": {
            "text/html": [
              "<div>\n",
              "<style scoped>\n",
              "    .dataframe tbody tr th:only-of-type {\n",
              "        vertical-align: middle;\n",
              "    }\n",
              "\n",
              "    .dataframe tbody tr th {\n",
              "        vertical-align: top;\n",
              "    }\n",
              "\n",
              "    .dataframe thead th {\n",
              "        text-align: right;\n",
              "    }\n",
              "</style>\n",
              "<table border=\"1\" class=\"dataframe\">\n",
              "  <thead>\n",
              "    <tr style=\"text-align: right;\">\n",
              "      <th></th>\n",
              "      <th>CreditScore</th>\n",
              "      <th>Geography</th>\n",
              "      <th>Gender</th>\n",
              "      <th>Age</th>\n",
              "      <th>Tenure</th>\n",
              "      <th>Balance</th>\n",
              "      <th>NumOfProducts</th>\n",
              "      <th>HasCrCard</th>\n",
              "      <th>IsActiveMember</th>\n",
              "      <th>EstimatedSalary</th>\n",
              "      <th>Exited</th>\n",
              "    </tr>\n",
              "  </thead>\n",
              "  <tbody>\n",
              "    <tr>\n",
              "      <th>0</th>\n",
              "      <td>619</td>\n",
              "      <td>France</td>\n",
              "      <td>Female</td>\n",
              "      <td>42</td>\n",
              "      <td>2.0</td>\n",
              "      <td>0.00</td>\n",
              "      <td>1</td>\n",
              "      <td>1</td>\n",
              "      <td>1</td>\n",
              "      <td>101348.88</td>\n",
              "      <td>1</td>\n",
              "    </tr>\n",
              "    <tr>\n",
              "      <th>1</th>\n",
              "      <td>608</td>\n",
              "      <td>Spain</td>\n",
              "      <td>Female</td>\n",
              "      <td>41</td>\n",
              "      <td>1.0</td>\n",
              "      <td>83807.86</td>\n",
              "      <td>1</td>\n",
              "      <td>0</td>\n",
              "      <td>1</td>\n",
              "      <td>112542.58</td>\n",
              "      <td>0</td>\n",
              "    </tr>\n",
              "    <tr>\n",
              "      <th>2</th>\n",
              "      <td>502</td>\n",
              "      <td>France</td>\n",
              "      <td>Female</td>\n",
              "      <td>42</td>\n",
              "      <td>8.0</td>\n",
              "      <td>159660.80</td>\n",
              "      <td>3</td>\n",
              "      <td>1</td>\n",
              "      <td>0</td>\n",
              "      <td>113931.57</td>\n",
              "      <td>1</td>\n",
              "    </tr>\n",
              "    <tr>\n",
              "      <th>3</th>\n",
              "      <td>699</td>\n",
              "      <td>France</td>\n",
              "      <td>Female</td>\n",
              "      <td>39</td>\n",
              "      <td>1.0</td>\n",
              "      <td>0.00</td>\n",
              "      <td>2</td>\n",
              "      <td>0</td>\n",
              "      <td>0</td>\n",
              "      <td>93826.63</td>\n",
              "      <td>0</td>\n",
              "    </tr>\n",
              "    <tr>\n",
              "      <th>4</th>\n",
              "      <td>850</td>\n",
              "      <td>Spain</td>\n",
              "      <td>Female</td>\n",
              "      <td>43</td>\n",
              "      <td>2.0</td>\n",
              "      <td>125510.82</td>\n",
              "      <td>1</td>\n",
              "      <td>1</td>\n",
              "      <td>1</td>\n",
              "      <td>79084.10</td>\n",
              "      <td>0</td>\n",
              "    </tr>\n",
              "    <tr>\n",
              "      <th>...</th>\n",
              "      <td>...</td>\n",
              "      <td>...</td>\n",
              "      <td>...</td>\n",
              "      <td>...</td>\n",
              "      <td>...</td>\n",
              "      <td>...</td>\n",
              "      <td>...</td>\n",
              "      <td>...</td>\n",
              "      <td>...</td>\n",
              "      <td>...</td>\n",
              "      <td>...</td>\n",
              "    </tr>\n",
              "    <tr>\n",
              "      <th>9995</th>\n",
              "      <td>771</td>\n",
              "      <td>France</td>\n",
              "      <td>Male</td>\n",
              "      <td>39</td>\n",
              "      <td>5.0</td>\n",
              "      <td>0.00</td>\n",
              "      <td>2</td>\n",
              "      <td>1</td>\n",
              "      <td>0</td>\n",
              "      <td>96270.64</td>\n",
              "      <td>0</td>\n",
              "    </tr>\n",
              "    <tr>\n",
              "      <th>9996</th>\n",
              "      <td>516</td>\n",
              "      <td>France</td>\n",
              "      <td>Male</td>\n",
              "      <td>35</td>\n",
              "      <td>10.0</td>\n",
              "      <td>57369.61</td>\n",
              "      <td>1</td>\n",
              "      <td>1</td>\n",
              "      <td>1</td>\n",
              "      <td>101699.77</td>\n",
              "      <td>0</td>\n",
              "    </tr>\n",
              "    <tr>\n",
              "      <th>9997</th>\n",
              "      <td>709</td>\n",
              "      <td>France</td>\n",
              "      <td>Female</td>\n",
              "      <td>36</td>\n",
              "      <td>7.0</td>\n",
              "      <td>0.00</td>\n",
              "      <td>1</td>\n",
              "      <td>0</td>\n",
              "      <td>1</td>\n",
              "      <td>42085.58</td>\n",
              "      <td>1</td>\n",
              "    </tr>\n",
              "    <tr>\n",
              "      <th>9998</th>\n",
              "      <td>772</td>\n",
              "      <td>Germany</td>\n",
              "      <td>Male</td>\n",
              "      <td>42</td>\n",
              "      <td>3.0</td>\n",
              "      <td>75075.31</td>\n",
              "      <td>2</td>\n",
              "      <td>1</td>\n",
              "      <td>0</td>\n",
              "      <td>92888.52</td>\n",
              "      <td>1</td>\n",
              "    </tr>\n",
              "    <tr>\n",
              "      <th>9999</th>\n",
              "      <td>792</td>\n",
              "      <td>France</td>\n",
              "      <td>Female</td>\n",
              "      <td>28</td>\n",
              "      <td>0.0</td>\n",
              "      <td>130142.79</td>\n",
              "      <td>1</td>\n",
              "      <td>1</td>\n",
              "      <td>0</td>\n",
              "      <td>38190.78</td>\n",
              "      <td>0</td>\n",
              "    </tr>\n",
              "  </tbody>\n",
              "</table>\n",
              "<p>10000 rows × 11 columns</p>\n",
              "</div>"
            ],
            "text/plain": [
              "      CreditScore Geography  Gender  Age  Tenure    Balance  NumOfProducts  \\\n",
              "0             619    France  Female   42     2.0       0.00              1   \n",
              "1             608     Spain  Female   41     1.0   83807.86              1   \n",
              "2             502    France  Female   42     8.0  159660.80              3   \n",
              "3             699    France  Female   39     1.0       0.00              2   \n",
              "4             850     Spain  Female   43     2.0  125510.82              1   \n",
              "...           ...       ...     ...  ...     ...        ...            ...   \n",
              "9995          771    France    Male   39     5.0       0.00              2   \n",
              "9996          516    France    Male   35    10.0   57369.61              1   \n",
              "9997          709    France  Female   36     7.0       0.00              1   \n",
              "9998          772   Germany    Male   42     3.0   75075.31              2   \n",
              "9999          792    France  Female   28     0.0  130142.79              1   \n",
              "\n",
              "      HasCrCard  IsActiveMember  EstimatedSalary  Exited  \n",
              "0             1               1        101348.88       1  \n",
              "1             0               1        112542.58       0  \n",
              "2             1               0        113931.57       1  \n",
              "3             0               0         93826.63       0  \n",
              "4             1               1         79084.10       0  \n",
              "...         ...             ...              ...     ...  \n",
              "9995          1               0         96270.64       0  \n",
              "9996          1               1        101699.77       0  \n",
              "9997          0               1         42085.58       1  \n",
              "9998          1               0         92888.52       1  \n",
              "9999          1               0         38190.78       0  \n",
              "\n",
              "[10000 rows x 11 columns]"
            ]
          },
          "metadata": {}
        }
      ]
    },
    {
      "cell_type": "code",
      "source": "data_ml.shape",
      "metadata": {},
      "execution_count": 12,
      "outputs": [
        {
          "execution_count": 12,
          "output_type": "execute_result",
          "data": {
            "text/plain": [
              "(10000, 11)"
            ]
          },
          "metadata": {}
        }
      ]
    },
    {
      "cell_type": "code",
      "source": "data_ml = pd.get_dummies(data_ml, drop_first=True)\ndisplay(data_ml)",
      "metadata": {},
      "execution_count": 13,
      "outputs": [
        {
          "output_type": "display_data",
          "data": {
            "text/html": [
              "<div>\n",
              "<style scoped>\n",
              "    .dataframe tbody tr th:only-of-type {\n",
              "        vertical-align: middle;\n",
              "    }\n",
              "\n",
              "    .dataframe tbody tr th {\n",
              "        vertical-align: top;\n",
              "    }\n",
              "\n",
              "    .dataframe thead th {\n",
              "        text-align: right;\n",
              "    }\n",
              "</style>\n",
              "<table border=\"1\" class=\"dataframe\">\n",
              "  <thead>\n",
              "    <tr style=\"text-align: right;\">\n",
              "      <th></th>\n",
              "      <th>CreditScore</th>\n",
              "      <th>Age</th>\n",
              "      <th>Tenure</th>\n",
              "      <th>Balance</th>\n",
              "      <th>NumOfProducts</th>\n",
              "      <th>HasCrCard</th>\n",
              "      <th>IsActiveMember</th>\n",
              "      <th>EstimatedSalary</th>\n",
              "      <th>Exited</th>\n",
              "      <th>Geography_Germany</th>\n",
              "      <th>Geography_Spain</th>\n",
              "      <th>Gender_Male</th>\n",
              "    </tr>\n",
              "  </thead>\n",
              "  <tbody>\n",
              "    <tr>\n",
              "      <th>0</th>\n",
              "      <td>619</td>\n",
              "      <td>42</td>\n",
              "      <td>2.0</td>\n",
              "      <td>0.00</td>\n",
              "      <td>1</td>\n",
              "      <td>1</td>\n",
              "      <td>1</td>\n",
              "      <td>101348.88</td>\n",
              "      <td>1</td>\n",
              "      <td>0</td>\n",
              "      <td>0</td>\n",
              "      <td>0</td>\n",
              "    </tr>\n",
              "    <tr>\n",
              "      <th>1</th>\n",
              "      <td>608</td>\n",
              "      <td>41</td>\n",
              "      <td>1.0</td>\n",
              "      <td>83807.86</td>\n",
              "      <td>1</td>\n",
              "      <td>0</td>\n",
              "      <td>1</td>\n",
              "      <td>112542.58</td>\n",
              "      <td>0</td>\n",
              "      <td>0</td>\n",
              "      <td>1</td>\n",
              "      <td>0</td>\n",
              "    </tr>\n",
              "    <tr>\n",
              "      <th>2</th>\n",
              "      <td>502</td>\n",
              "      <td>42</td>\n",
              "      <td>8.0</td>\n",
              "      <td>159660.80</td>\n",
              "      <td>3</td>\n",
              "      <td>1</td>\n",
              "      <td>0</td>\n",
              "      <td>113931.57</td>\n",
              "      <td>1</td>\n",
              "      <td>0</td>\n",
              "      <td>0</td>\n",
              "      <td>0</td>\n",
              "    </tr>\n",
              "    <tr>\n",
              "      <th>3</th>\n",
              "      <td>699</td>\n",
              "      <td>39</td>\n",
              "      <td>1.0</td>\n",
              "      <td>0.00</td>\n",
              "      <td>2</td>\n",
              "      <td>0</td>\n",
              "      <td>0</td>\n",
              "      <td>93826.63</td>\n",
              "      <td>0</td>\n",
              "      <td>0</td>\n",
              "      <td>0</td>\n",
              "      <td>0</td>\n",
              "    </tr>\n",
              "    <tr>\n",
              "      <th>4</th>\n",
              "      <td>850</td>\n",
              "      <td>43</td>\n",
              "      <td>2.0</td>\n",
              "      <td>125510.82</td>\n",
              "      <td>1</td>\n",
              "      <td>1</td>\n",
              "      <td>1</td>\n",
              "      <td>79084.10</td>\n",
              "      <td>0</td>\n",
              "      <td>0</td>\n",
              "      <td>1</td>\n",
              "      <td>0</td>\n",
              "    </tr>\n",
              "    <tr>\n",
              "      <th>...</th>\n",
              "      <td>...</td>\n",
              "      <td>...</td>\n",
              "      <td>...</td>\n",
              "      <td>...</td>\n",
              "      <td>...</td>\n",
              "      <td>...</td>\n",
              "      <td>...</td>\n",
              "      <td>...</td>\n",
              "      <td>...</td>\n",
              "      <td>...</td>\n",
              "      <td>...</td>\n",
              "      <td>...</td>\n",
              "    </tr>\n",
              "    <tr>\n",
              "      <th>9995</th>\n",
              "      <td>771</td>\n",
              "      <td>39</td>\n",
              "      <td>5.0</td>\n",
              "      <td>0.00</td>\n",
              "      <td>2</td>\n",
              "      <td>1</td>\n",
              "      <td>0</td>\n",
              "      <td>96270.64</td>\n",
              "      <td>0</td>\n",
              "      <td>0</td>\n",
              "      <td>0</td>\n",
              "      <td>1</td>\n",
              "    </tr>\n",
              "    <tr>\n",
              "      <th>9996</th>\n",
              "      <td>516</td>\n",
              "      <td>35</td>\n",
              "      <td>10.0</td>\n",
              "      <td>57369.61</td>\n",
              "      <td>1</td>\n",
              "      <td>1</td>\n",
              "      <td>1</td>\n",
              "      <td>101699.77</td>\n",
              "      <td>0</td>\n",
              "      <td>0</td>\n",
              "      <td>0</td>\n",
              "      <td>1</td>\n",
              "    </tr>\n",
              "    <tr>\n",
              "      <th>9997</th>\n",
              "      <td>709</td>\n",
              "      <td>36</td>\n",
              "      <td>7.0</td>\n",
              "      <td>0.00</td>\n",
              "      <td>1</td>\n",
              "      <td>0</td>\n",
              "      <td>1</td>\n",
              "      <td>42085.58</td>\n",
              "      <td>1</td>\n",
              "      <td>0</td>\n",
              "      <td>0</td>\n",
              "      <td>0</td>\n",
              "    </tr>\n",
              "    <tr>\n",
              "      <th>9998</th>\n",
              "      <td>772</td>\n",
              "      <td>42</td>\n",
              "      <td>3.0</td>\n",
              "      <td>75075.31</td>\n",
              "      <td>2</td>\n",
              "      <td>1</td>\n",
              "      <td>0</td>\n",
              "      <td>92888.52</td>\n",
              "      <td>1</td>\n",
              "      <td>1</td>\n",
              "      <td>0</td>\n",
              "      <td>1</td>\n",
              "    </tr>\n",
              "    <tr>\n",
              "      <th>9999</th>\n",
              "      <td>792</td>\n",
              "      <td>28</td>\n",
              "      <td>0.0</td>\n",
              "      <td>130142.79</td>\n",
              "      <td>1</td>\n",
              "      <td>1</td>\n",
              "      <td>0</td>\n",
              "      <td>38190.78</td>\n",
              "      <td>0</td>\n",
              "      <td>0</td>\n",
              "      <td>0</td>\n",
              "      <td>0</td>\n",
              "    </tr>\n",
              "  </tbody>\n",
              "</table>\n",
              "<p>10000 rows × 12 columns</p>\n",
              "</div>"
            ],
            "text/plain": [
              "      CreditScore  Age  Tenure    Balance  NumOfProducts  HasCrCard  \\\n",
              "0             619   42     2.0       0.00              1          1   \n",
              "1             608   41     1.0   83807.86              1          0   \n",
              "2             502   42     8.0  159660.80              3          1   \n",
              "3             699   39     1.0       0.00              2          0   \n",
              "4             850   43     2.0  125510.82              1          1   \n",
              "...           ...  ...     ...        ...            ...        ...   \n",
              "9995          771   39     5.0       0.00              2          1   \n",
              "9996          516   35    10.0   57369.61              1          1   \n",
              "9997          709   36     7.0       0.00              1          0   \n",
              "9998          772   42     3.0   75075.31              2          1   \n",
              "9999          792   28     0.0  130142.79              1          1   \n",
              "\n",
              "      IsActiveMember  EstimatedSalary  Exited  Geography_Germany  \\\n",
              "0                  1        101348.88       1                  0   \n",
              "1                  1        112542.58       0                  0   \n",
              "2                  0        113931.57       1                  0   \n",
              "3                  0         93826.63       0                  0   \n",
              "4                  1         79084.10       0                  0   \n",
              "...              ...              ...     ...                ...   \n",
              "9995               0         96270.64       0                  0   \n",
              "9996               1        101699.77       0                  0   \n",
              "9997               1         42085.58       1                  0   \n",
              "9998               0         92888.52       1                  1   \n",
              "9999               0         38190.78       0                  0   \n",
              "\n",
              "      Geography_Spain  Gender_Male  \n",
              "0                   0            0  \n",
              "1                   1            0  \n",
              "2                   0            0  \n",
              "3                   0            0  \n",
              "4                   1            0  \n",
              "...               ...          ...  \n",
              "9995                0            1  \n",
              "9996                0            1  \n",
              "9997                0            0  \n",
              "9998                0            1  \n",
              "9999                0            0  \n",
              "\n",
              "[10000 rows x 12 columns]"
            ]
          },
          "metadata": {}
        }
      ]
    },
    {
      "cell_type": "code",
      "source": "data_ml.shape",
      "metadata": {},
      "execution_count": 14,
      "outputs": [
        {
          "execution_count": 14,
          "output_type": "execute_result",
          "data": {
            "text/plain": [
              "(10000, 12)"
            ]
          },
          "metadata": {}
        }
      ]
    },
    {
      "cell_type": "code",
      "source": "target = data_ml['Exited']\nfeatures  = data_ml.drop('Exited', axis=1)",
      "metadata": {},
      "execution_count": 15,
      "outputs": []
    },
    {
      "cell_type": "code",
      "source": "#Разделяем на обучающую и тестовую выборки (80/20)\nfeatures_train, features_test, target_train, target_test = train_test_split(features, \n                                                                            target, \n                                                                            test_size=0.2, \n                                                                            random_state=12345)\n\n#Разделяем обучающую выборку на обучающую и валидационную (75/25)\nfeatures_train, features_valid, target_train, target_valid = train_test_split(features_train, \n                                                                              target_train, \n                                                                              test_size=0.25, \n                                                                              random_state=12345)",
      "metadata": {},
      "execution_count": 16,
      "outputs": []
    },
    {
      "cell_type": "code",
      "source": "#Масштабирование численных признаков \nnumerical_features = ['CreditScore', 'Age', 'Tenure', 'Balance', 'NumOfProducts', 'EstimatedSalary']",
      "metadata": {},
      "execution_count": 17,
      "outputs": []
    },
    {
      "cell_type": "code",
      "source": "#Масштабируем числ признаки обучающей выборки\nscaler = StandardScaler()\nfeatures_train[numerical_features] = scaler.fit_transform(features_train[numerical_features])\nfeatures_train.head()\n#pd.options.mode.chained_assignment = None",
      "metadata": {},
      "execution_count": 18,
      "outputs": [
        {
          "execution_count": 18,
          "output_type": "execute_result",
          "data": {
            "text/html": [
              "<div>\n",
              "<style scoped>\n",
              "    .dataframe tbody tr th:only-of-type {\n",
              "        vertical-align: middle;\n",
              "    }\n",
              "\n",
              "    .dataframe tbody tr th {\n",
              "        vertical-align: top;\n",
              "    }\n",
              "\n",
              "    .dataframe thead th {\n",
              "        text-align: right;\n",
              "    }\n",
              "</style>\n",
              "<table border=\"1\" class=\"dataframe\">\n",
              "  <thead>\n",
              "    <tr style=\"text-align: right;\">\n",
              "      <th></th>\n",
              "      <th>CreditScore</th>\n",
              "      <th>Age</th>\n",
              "      <th>Tenure</th>\n",
              "      <th>Balance</th>\n",
              "      <th>NumOfProducts</th>\n",
              "      <th>HasCrCard</th>\n",
              "      <th>IsActiveMember</th>\n",
              "      <th>EstimatedSalary</th>\n",
              "      <th>Geography_Germany</th>\n",
              "      <th>Geography_Spain</th>\n",
              "      <th>Gender_Male</th>\n",
              "    </tr>\n",
              "  </thead>\n",
              "  <tbody>\n",
              "    <tr>\n",
              "      <th>492</th>\n",
              "      <td>-0.134048</td>\n",
              "      <td>-0.078068</td>\n",
              "      <td>-0.174142</td>\n",
              "      <td>0.076163</td>\n",
              "      <td>0.816929</td>\n",
              "      <td>0</td>\n",
              "      <td>1</td>\n",
              "      <td>0.331571</td>\n",
              "      <td>0</td>\n",
              "      <td>0</td>\n",
              "      <td>0</td>\n",
              "    </tr>\n",
              "    <tr>\n",
              "      <th>6655</th>\n",
              "      <td>-1.010798</td>\n",
              "      <td>0.494555</td>\n",
              "      <td>-1.451074</td>\n",
              "      <td>0.136391</td>\n",
              "      <td>-0.896909</td>\n",
              "      <td>1</td>\n",
              "      <td>1</td>\n",
              "      <td>-0.727858</td>\n",
              "      <td>0</td>\n",
              "      <td>0</td>\n",
              "      <td>1</td>\n",
              "    </tr>\n",
              "    <tr>\n",
              "      <th>4287</th>\n",
              "      <td>0.639554</td>\n",
              "      <td>1.353490</td>\n",
              "      <td>-1.131841</td>\n",
              "      <td>0.358435</td>\n",
              "      <td>-0.896909</td>\n",
              "      <td>1</td>\n",
              "      <td>1</td>\n",
              "      <td>-0.477006</td>\n",
              "      <td>1</td>\n",
              "      <td>0</td>\n",
              "      <td>1</td>\n",
              "    </tr>\n",
              "    <tr>\n",
              "      <th>42</th>\n",
              "      <td>-0.990168</td>\n",
              "      <td>2.116987</td>\n",
              "      <td>-0.812608</td>\n",
              "      <td>0.651725</td>\n",
              "      <td>-0.896909</td>\n",
              "      <td>1</td>\n",
              "      <td>1</td>\n",
              "      <td>-0.100232</td>\n",
              "      <td>0</td>\n",
              "      <td>0</td>\n",
              "      <td>0</td>\n",
              "    </tr>\n",
              "    <tr>\n",
              "      <th>8178</th>\n",
              "      <td>0.567351</td>\n",
              "      <td>0.685430</td>\n",
              "      <td>0.783558</td>\n",
              "      <td>0.813110</td>\n",
              "      <td>0.816929</td>\n",
              "      <td>1</td>\n",
              "      <td>1</td>\n",
              "      <td>0.801922</td>\n",
              "      <td>0</td>\n",
              "      <td>0</td>\n",
              "      <td>0</td>\n",
              "    </tr>\n",
              "  </tbody>\n",
              "</table>\n",
              "</div>"
            ],
            "text/plain": [
              "      CreditScore       Age    Tenure   Balance  NumOfProducts  HasCrCard  \\\n",
              "492     -0.134048 -0.078068 -0.174142  0.076163       0.816929          0   \n",
              "6655    -1.010798  0.494555 -1.451074  0.136391      -0.896909          1   \n",
              "4287     0.639554  1.353490 -1.131841  0.358435      -0.896909          1   \n",
              "42      -0.990168  2.116987 -0.812608  0.651725      -0.896909          1   \n",
              "8178     0.567351  0.685430  0.783558  0.813110       0.816929          1   \n",
              "\n",
              "      IsActiveMember  EstimatedSalary  Geography_Germany  Geography_Spain  \\\n",
              "492                1         0.331571                  0                0   \n",
              "6655               1        -0.727858                  0                0   \n",
              "4287               1        -0.477006                  1                0   \n",
              "42                 1        -0.100232                  0                0   \n",
              "8178               1         0.801922                  0                0   \n",
              "\n",
              "      Gender_Male  \n",
              "492             0  \n",
              "6655            1  \n",
              "4287            1  \n",
              "42              0  \n",
              "8178            0  "
            ]
          },
          "metadata": {}
        }
      ]
    },
    {
      "cell_type": "code",
      "source": "#Масштабируем численные признаки валидационной выборки\nfeatures_valid[numerical_features] = scaler.transform(features_valid[numerical_features])\nfeatures_valid.head()\n#pd.options.mode.chained_assignment = None",
      "metadata": {},
      "execution_count": 19,
      "outputs": [
        {
          "execution_count": 19,
          "output_type": "execute_result",
          "data": {
            "text/html": [
              "<div>\n",
              "<style scoped>\n",
              "    .dataframe tbody tr th:only-of-type {\n",
              "        vertical-align: middle;\n",
              "    }\n",
              "\n",
              "    .dataframe tbody tr th {\n",
              "        vertical-align: top;\n",
              "    }\n",
              "\n",
              "    .dataframe thead th {\n",
              "        text-align: right;\n",
              "    }\n",
              "</style>\n",
              "<table border=\"1\" class=\"dataframe\">\n",
              "  <thead>\n",
              "    <tr style=\"text-align: right;\">\n",
              "      <th></th>\n",
              "      <th>CreditScore</th>\n",
              "      <th>Age</th>\n",
              "      <th>Tenure</th>\n",
              "      <th>Balance</th>\n",
              "      <th>NumOfProducts</th>\n",
              "      <th>HasCrCard</th>\n",
              "      <th>IsActiveMember</th>\n",
              "      <th>EstimatedSalary</th>\n",
              "      <th>Geography_Germany</th>\n",
              "      <th>Geography_Spain</th>\n",
              "      <th>Gender_Male</th>\n",
              "    </tr>\n",
              "  </thead>\n",
              "  <tbody>\n",
              "    <tr>\n",
              "      <th>2358</th>\n",
              "      <td>0.175393</td>\n",
              "      <td>0.399118</td>\n",
              "      <td>-1.131841</td>\n",
              "      <td>1.385698</td>\n",
              "      <td>-0.896909</td>\n",
              "      <td>0</td>\n",
              "      <td>1</td>\n",
              "      <td>-1.466761</td>\n",
              "      <td>0</td>\n",
              "      <td>0</td>\n",
              "      <td>1</td>\n",
              "    </tr>\n",
              "    <tr>\n",
              "      <th>8463</th>\n",
              "      <td>-1.299609</td>\n",
              "      <td>0.971741</td>\n",
              "      <td>-0.812608</td>\n",
              "      <td>-1.232442</td>\n",
              "      <td>-0.896909</td>\n",
              "      <td>1</td>\n",
              "      <td>0</td>\n",
              "      <td>0.254415</td>\n",
              "      <td>0</td>\n",
              "      <td>1</td>\n",
              "      <td>1</td>\n",
              "    </tr>\n",
              "    <tr>\n",
              "      <th>163</th>\n",
              "      <td>0.711757</td>\n",
              "      <td>-0.268942</td>\n",
              "      <td>-0.812608</td>\n",
              "      <td>-1.232442</td>\n",
              "      <td>0.816929</td>\n",
              "      <td>1</td>\n",
              "      <td>1</td>\n",
              "      <td>0.122863</td>\n",
              "      <td>0</td>\n",
              "      <td>1</td>\n",
              "      <td>0</td>\n",
              "    </tr>\n",
              "    <tr>\n",
              "      <th>3074</th>\n",
              "      <td>-0.391916</td>\n",
              "      <td>0.494555</td>\n",
              "      <td>0.464325</td>\n",
              "      <td>0.672529</td>\n",
              "      <td>-0.896909</td>\n",
              "      <td>1</td>\n",
              "      <td>0</td>\n",
              "      <td>0.585847</td>\n",
              "      <td>1</td>\n",
              "      <td>0</td>\n",
              "      <td>0</td>\n",
              "    </tr>\n",
              "    <tr>\n",
              "      <th>5989</th>\n",
              "      <td>0.165078</td>\n",
              "      <td>1.353490</td>\n",
              "      <td>1.741257</td>\n",
              "      <td>0.536522</td>\n",
              "      <td>-0.896909</td>\n",
              "      <td>0</td>\n",
              "      <td>0</td>\n",
              "      <td>1.462457</td>\n",
              "      <td>0</td>\n",
              "      <td>0</td>\n",
              "      <td>0</td>\n",
              "    </tr>\n",
              "  </tbody>\n",
              "</table>\n",
              "</div>"
            ],
            "text/plain": [
              "      CreditScore       Age    Tenure   Balance  NumOfProducts  HasCrCard  \\\n",
              "2358     0.175393  0.399118 -1.131841  1.385698      -0.896909          0   \n",
              "8463    -1.299609  0.971741 -0.812608 -1.232442      -0.896909          1   \n",
              "163      0.711757 -0.268942 -0.812608 -1.232442       0.816929          1   \n",
              "3074    -0.391916  0.494555  0.464325  0.672529      -0.896909          1   \n",
              "5989     0.165078  1.353490  1.741257  0.536522      -0.896909          0   \n",
              "\n",
              "      IsActiveMember  EstimatedSalary  Geography_Germany  Geography_Spain  \\\n",
              "2358               1        -1.466761                  0                0   \n",
              "8463               0         0.254415                  0                1   \n",
              "163                1         0.122863                  0                1   \n",
              "3074               0         0.585847                  1                0   \n",
              "5989               0         1.462457                  0                0   \n",
              "\n",
              "      Gender_Male  \n",
              "2358            1  \n",
              "8463            1  \n",
              "163             0  \n",
              "3074            0  \n",
              "5989            0  "
            ]
          },
          "metadata": {}
        }
      ]
    },
    {
      "cell_type": "code",
      "source": "#Масштабируем численные признаки тестовой выборки\nfeatures_test[numerical_features] = scaler.transform(features_test[numerical_features])\nfeatures_test.head()\n#pd.options.mode.chained_assignment = None",
      "metadata": {},
      "execution_count": 20,
      "outputs": [
        {
          "name": "stderr",
          "output_type": "stream",
          "text": "/tmp/ipykernel_71/4283761506.py:2: SettingWithCopyWarning: \n\nA value is trying to be set on a copy of a slice from a DataFrame.\n\nTry using .loc[row_indexer,col_indexer] = value instead\n\n\n\nSee the caveats in the documentation: https://pandas.pydata.org/pandas-docs/stable/user_guide/indexing.html#returning-a-view-versus-a-copy\n\n  features_test[numerical_features] = scaler.transform(features_test[numerical_features])\n\n/opt/conda/lib/python3.9/site-packages/pandas/core/indexing.py:1738: SettingWithCopyWarning: \n\nA value is trying to be set on a copy of a slice from a DataFrame.\n\nTry using .loc[row_indexer,col_indexer] = value instead\n\n\n\nSee the caveats in the documentation: https://pandas.pydata.org/pandas-docs/stable/user_guide/indexing.html#returning-a-view-versus-a-copy\n\n  self._setitem_single_column(loc, value[:, i].tolist(), pi)\n"
        },
        {
          "execution_count": 20,
          "output_type": "execute_result",
          "data": {
            "text/html": [
              "<div>\n",
              "<style scoped>\n",
              "    .dataframe tbody tr th:only-of-type {\n",
              "        vertical-align: middle;\n",
              "    }\n",
              "\n",
              "    .dataframe tbody tr th {\n",
              "        vertical-align: top;\n",
              "    }\n",
              "\n",
              "    .dataframe thead th {\n",
              "        text-align: right;\n",
              "    }\n",
              "</style>\n",
              "<table border=\"1\" class=\"dataframe\">\n",
              "  <thead>\n",
              "    <tr style=\"text-align: right;\">\n",
              "      <th></th>\n",
              "      <th>CreditScore</th>\n",
              "      <th>Age</th>\n",
              "      <th>Tenure</th>\n",
              "      <th>Balance</th>\n",
              "      <th>NumOfProducts</th>\n",
              "      <th>HasCrCard</th>\n",
              "      <th>IsActiveMember</th>\n",
              "      <th>EstimatedSalary</th>\n",
              "      <th>Geography_Germany</th>\n",
              "      <th>Geography_Spain</th>\n",
              "      <th>Gender_Male</th>\n",
              "    </tr>\n",
              "  </thead>\n",
              "  <tbody>\n",
              "    <tr>\n",
              "      <th>7867</th>\n",
              "      <td>-0.123733</td>\n",
              "      <td>0.685430</td>\n",
              "      <td>-0.493375</td>\n",
              "      <td>-1.232442</td>\n",
              "      <td>-0.896909</td>\n",
              "      <td>1</td>\n",
              "      <td>1</td>\n",
              "      <td>0.980212</td>\n",
              "      <td>0</td>\n",
              "      <td>1</td>\n",
              "      <td>0</td>\n",
              "    </tr>\n",
              "    <tr>\n",
              "      <th>1402</th>\n",
              "      <td>1.083087</td>\n",
              "      <td>-0.937002</td>\n",
              "      <td>1.102791</td>\n",
              "      <td>0.858518</td>\n",
              "      <td>-0.896909</td>\n",
              "      <td>1</td>\n",
              "      <td>0</td>\n",
              "      <td>-0.390486</td>\n",
              "      <td>0</td>\n",
              "      <td>0</td>\n",
              "      <td>1</td>\n",
              "    </tr>\n",
              "    <tr>\n",
              "      <th>8606</th>\n",
              "      <td>1.598822</td>\n",
              "      <td>0.303681</td>\n",
              "      <td>0.145091</td>\n",
              "      <td>-1.232442</td>\n",
              "      <td>0.816929</td>\n",
              "      <td>1</td>\n",
              "      <td>1</td>\n",
              "      <td>-0.435169</td>\n",
              "      <td>0</td>\n",
              "      <td>1</td>\n",
              "      <td>1</td>\n",
              "    </tr>\n",
              "    <tr>\n",
              "      <th>8885</th>\n",
              "      <td>0.165078</td>\n",
              "      <td>0.589993</td>\n",
              "      <td>-0.174142</td>\n",
              "      <td>0.412100</td>\n",
              "      <td>0.816929</td>\n",
              "      <td>1</td>\n",
              "      <td>1</td>\n",
              "      <td>1.017079</td>\n",
              "      <td>0</td>\n",
              "      <td>1</td>\n",
              "      <td>1</td>\n",
              "    </tr>\n",
              "    <tr>\n",
              "      <th>6494</th>\n",
              "      <td>0.484834</td>\n",
              "      <td>-1.032439</td>\n",
              "      <td>0.783558</td>\n",
              "      <td>-1.232442</td>\n",
              "      <td>0.816929</td>\n",
              "      <td>1</td>\n",
              "      <td>1</td>\n",
              "      <td>-1.343558</td>\n",
              "      <td>0</td>\n",
              "      <td>0</td>\n",
              "      <td>1</td>\n",
              "    </tr>\n",
              "  </tbody>\n",
              "</table>\n",
              "</div>"
            ],
            "text/plain": [
              "      CreditScore       Age    Tenure   Balance  NumOfProducts  HasCrCard  \\\n",
              "7867    -0.123733  0.685430 -0.493375 -1.232442      -0.896909          1   \n",
              "1402     1.083087 -0.937002  1.102791  0.858518      -0.896909          1   \n",
              "8606     1.598822  0.303681  0.145091 -1.232442       0.816929          1   \n",
              "8885     0.165078  0.589993 -0.174142  0.412100       0.816929          1   \n",
              "6494     0.484834 -1.032439  0.783558 -1.232442       0.816929          1   \n",
              "\n",
              "      IsActiveMember  EstimatedSalary  Geography_Germany  Geography_Spain  \\\n",
              "7867               1         0.980212                  0                1   \n",
              "1402               0        -0.390486                  0                0   \n",
              "8606               1        -0.435169                  0                1   \n",
              "8885               1         1.017079                  0                1   \n",
              "6494               1        -1.343558                  0                0   \n",
              "\n",
              "      Gender_Male  \n",
              "7867            0  \n",
              "1402            1  \n",
              "8606            1  \n",
              "8885            1  \n",
              "6494            1  "
            ]
          },
          "metadata": {}
        }
      ]
    },
    {
      "cell_type": "markdown",
      "source": "# Исследование на наличие баланса",
      "metadata": {}
    },
    {
      "cell_type": "code",
      "source": "#Подсчет количества примеров каждого класса\nclass_counts = target.value_counts()\n\n#Визуализация распределения классов\nplt.figure(figsize=(8, 6))\nsns.countplot(x=target)\nplt.title(\"Распределение классов\")\nplt.xlabel(\"Exited\")\nplt.ylabel(\"Count\")\nplt.show()\n\n#Вычисление метрик дисбаланса\nclass_ratio = class_counts[1] / class_counts[0]\nmajority_ratio = class_counts.max() / class_counts.min()\n\nprint(f\"Соотношение классов: {class_ratio:.2f}\")\nprint(f\"Соотношение большинства: {majority_ratio:.2f}\")",
      "metadata": {},
      "execution_count": 21,
      "outputs": [
        {
          "output_type": "display_data",
          "data": {
            "image/png": "[encoded data removed]",
            "text/plain": [
              "<Figure size 576x432 with 1 Axes>"
            ]
          },
          "metadata": {
            "needs_background": "light"
          }
        },
        {
          "name": "stdout",
          "output_type": "stream",
          "text": "Соотношение классов: 0.26\n\nСоотношение большинства: 3.91\n"
        }
      ]
    },
    {
      "cell_type": "markdown",
      "source": "Судя по данным, у нас есть дисбаланс между классами в целевом признаке. \n\nОтношение классов составляет 0.26, что означает, что отрицательных классов (клиенты, которые не ушли) примерно в 4 раза больше, чем положительных классов (клиенты, которые ушли). ",
      "metadata": {}
    },
    {
      "cell_type": "markdown",
      "source": "# Проверка моделей (без учета дисбаланса)",
      "metadata": {}
    },
    {
      "cell_type": "markdown",
      "source": "**Дерево решений**",
      "metadata": {}
    },
    {
      "cell_type": "code",
      "source": "depth_values = []\nf1_scores = []\n\ndepth_range = range(1, 11)\n\nfor depth in depth_range:\n    tree_model = DecisionTreeClassifier(max_depth=depth, random_state=12345)\n    \n    tree_model.fit(features_train, target_train)\n    \n    predictions_valid = tree_model.predict(features_valid)\n    \n    f1 = f1_score(target_valid, predictions_valid)\n    depth_values.append(depth)\n    f1_scores.append(f1)\n\nbest_f1_score = max(f1_scores)\nbest_depth = depth_values[f1_scores.index(best_f1_score)]\n\nprint(\"Лучшая глубина:\", best_depth)\nprint(\"Лучшая F1-мера:\", best_f1_score)",
      "metadata": {},
      "execution_count": 22,
      "outputs": [
        {
          "name": "stdout",
          "output_type": "stream",
          "text": "Лучшая глубина: 7\n\nЛучшая F1-мера: 0.5488958990536277\n"
        }
      ]
    },
    {
      "cell_type": "code",
      "source": "#Создание модели с лучшими параметрами\ntree_model = DecisionTreeClassifier(max_depth=7, random_state=12345)\n\n#Обучение модели на обучающих данных\ntree_model.fit(features_train, target_train)\n\n#Предсказание на валидационной выборке\ntarget_pred = tree_model.predict(features_valid)",
      "metadata": {},
      "execution_count": 23,
      "outputs": []
    },
    {
      "cell_type": "code",
      "source": "#Вычисление метрик\naccuracy = accuracy_score(target_valid, target_pred)\nrecall = recall_score(target_valid, target_pred)\nprecision = precision_score(target_valid, target_pred)\nf1 = f1_score(target_valid, target_pred)\n\n#Вывод метрик\nprint(f\"Accuracy: {accuracy:.2f}\")\nprint(f\"Recall: {recall:.2f}\")\nprint(f\"Precision: {precision:.2f}\")\nprint(f\"F1 Score: {f1:.2f}\")",
      "metadata": {},
      "execution_count": 24,
      "outputs": [
        {
          "name": "stdout",
          "output_type": "stream",
          "text": "Accuracy: 0.86\n\nRecall: 0.45\n\nPrecision: 0.72\n\nF1 Score: 0.55\n"
        }
      ]
    },
    {
      "cell_type": "markdown",
      "source": "Модель имеет высокую точность (Accuracy) в 86%, что означает, что большинство предсказаний верны. Однако, в случае дисбаланса классов, Accuracy может быть вводящей в заблуждение метрикой, так как она не учитывает дисбаланс классов.\n\nПолнота (Recall) составляет 0.45, что означает, что модель находит только 47% положительных случаев из всех реальных положительных случаев.\n\nТочность (Precision) равна 0.72, что говорит о том, что 64% предсказаний положительного класса действительно верны.\n\nF1 Score составляет 0.55, что представляет собой сбалансированное среднее между Precision и Recall.",
      "metadata": {}
    },
    {
      "cell_type": "markdown",
      "source": "**Случайный лес**\n",
      "metadata": {}
    },
    {
      "cell_type": "code",
      "source": "n_estimators_values = []\nmax_depth_values = []\nf1_scores = []\n\nn_estimators_range = range(10, 101, 10)\nmax_depth_range = range(1, 10)\n\nfor n_estimators in n_estimators_range:\n    for max_depth in max_depth_range:\n        rf_model = RandomForestClassifier(\n            n_estimators=n_estimators,\n            max_depth=max_depth,\n            random_state=12345\n        )\n        \n        rf_model.fit(features_train, target_train)\n\n        predictions_valid = rf_model.predict(features_valid)\n\n        f1 = f1_score(target_valid, predictions_valid)\n        n_estimators_values.append(n_estimators)\n        max_depth_values.append(max_depth)\n        f1_scores.append(f1)\n\nbest_f1_score = max(f1_scores)\nbest_n_estimators = n_estimators_values[f1_scores.index(best_f1_score)]\nbest_max_depth = max_depth_values[f1_scores.index(best_f1_score)]\n\nprint(\"Лучшее количество деревьев (n_estimators):\", best_n_estimators)\nprint(\"Лучшая максимальная глубина (max_depth):\", best_max_depth)\nprint(\"Лучшая F1-мера:\", best_f1_score)",
      "metadata": {},
      "execution_count": 25,
      "outputs": [
        {
          "name": "stdout",
          "output_type": "stream",
          "text": "Лучшее количество деревьев (n_estimators): 60\n\nЛучшая максимальная глубина (max_depth): 9\n\nЛучшая F1-мера: 0.5533333333333335\n"
        }
      ]
    },
    {
      "cell_type": "code",
      "source": "best_rf_model = RandomForestClassifier(\n    n_estimators=60,\n    max_depth=9,\n    random_state=12345\n)\n\nbest_rf_model.fit(features_train, target_train)\n\ntarget_pred_forest = best_rf_model.predict(features_valid)",
      "metadata": {},
      "execution_count": 26,
      "outputs": []
    },
    {
      "cell_type": "code",
      "source": "#Вычисление метрик\naccuracy = accuracy_score(target_valid, target_pred_forest)\nrecall = recall_score(target_valid, target_pred_forest)\nprecision = precision_score(target_valid, target_pred_forest)\nf1 = f1_score(target_valid, target_pred_forest)\n\n#Вывод метрик\nprint(f\"Accuracy: {accuracy:.2f}\")\nprint(f\"Recall: {recall:.2f}\")\nprint(f\"Precision: {precision:.2f}\")\nprint(f\"F1 Score: {f1:.2f}\")",
      "metadata": {},
      "execution_count": 27,
      "outputs": [
        {
          "name": "stdout",
          "output_type": "stream",
          "text": "Accuracy: 0.87\n\nRecall: 0.42\n\nPrecision: 0.79\n\nF1 Score: 0.55\n"
        }
      ]
    },
    {
      "cell_type": "markdown",
      "source": "Хорошая точность (Accuracy) в 0.87 означает, что большинство предсказаний верны.\n\nНизкая полнота (Recall) в 0.42 говорит о том, что модель находит только 42% положительных случаев из всех реальных положительных случаев.\n\nВысокая точность (Precision) в 0.79 означает, что 79% предсказаний положительного класса действительно верны.\n\nF1 Score составляет 0.55, что представляет собой сбалансированное среднее между Precision и Recall.",
      "metadata": {}
    },
    {
      "cell_type": "markdown",
      "source": "**Логистическая регрессия**",
      "metadata": {}
    },
    {
      "cell_type": "code",
      "source": "logistic_regression_model = LogisticRegression(\n    random_state=12345,\n    solver='liblinear'\n)\n\nlogistic_regression_model.fit(features_train, target_train)\n\n#Предсказание на валидационной выборке\ntarget_pred_log = logistic_regression_model.predict(features_valid) ",
      "metadata": {},
      "execution_count": 28,
      "outputs": []
    },
    {
      "cell_type": "code",
      "source": "#Вычисление метрик\naccuracy = accuracy_score(target_valid, target_pred_log)\nrecall = recall_score(target_valid, target_pred_log)\nprecision = precision_score(target_valid, target_pred_log)\nf1 = f1_score(target_valid, target_pred_log)\n\n#Вывод метрик\nprint(f\"Accuracy: {accuracy:.2f}\")\nprint(f\"Recall: {recall:.2f}\")\nprint(f\"Precision: {precision:.2f}\")\nprint(f\"F1 Score: {f1:.2f}\")",
      "metadata": {},
      "execution_count": 29,
      "outputs": [
        {
          "name": "stdout",
          "output_type": "stream",
          "text": "Accuracy: 0.82\n\nRecall: 0.21\n\nPrecision: 0.58\n\nF1 Score: 0.31\n"
        }
      ]
    },
    {
      "cell_type": "markdown",
      "source": "Высокая точность (Accuracy) в 0.82 означает, что большинство предсказаний верны.\n\nНизкая полнота (Recall) в 0.21 говорит о том, что модель находит только 21% положительных случаев из всех реальных положительных случаев.\n\nСредняя точность (Precision) в 0.58 означает, что 58% предсказаний положительного класса действительно верны.\n\nF1 Score составляет 0.31, что представляет собой сбалансированное среднее между Precision и Recall.",
      "metadata": {}
    },
    {
      "cell_type": "markdown",
      "source": "**Лучший F1 Score** (сбалансированная метрика между Precision и Recall) имеет модель Дерева решений и Случайный лес с значением 0.55.\n\n**Лучшая точность** (Accuracy) имеет модель Случайного леса с значением 0.87.",
      "metadata": {}
    },
    {
      "cell_type": "markdown",
      "source": "## Борьба с дисбалансом",
      "metadata": {}
    },
    {
      "cell_type": "markdown",
      "source": "Используем 3 метода борьбы с дисбалансом:\n\n1. Взвешивание классов\n2. Увеличение выборки \n3. Уменьшение выборки ",
      "metadata": {}
    },
    {
      "cell_type": "markdown",
      "source": "### Взвешивание классов",
      "metadata": {}
    },
    {
      "cell_type": "markdown",
      "source": "**Случайный лес**",
      "metadata": {}
    },
    {
      "cell_type": "code",
      "source": "n_estimators_values = []\nmax_depth_values = []\nf1_scores = []\n\nn_estimators_range = range(10, 101, 10)\nmax_depth_range = range(1, 10)\n\nfor n_estimators in n_estimators_range:\n    for max_depth in max_depth_range:\n        rf_model = RandomForestClassifier(\n            n_estimators=n_estimators,\n            max_depth=max_depth,\n            random_state=12345,\n            class_weight='balanced'\n        )\n        \n        rf_model.fit(features_train, target_train)\n\n        predictions_valid = rf_model.predict(features_valid)\n\n        f1 = f1_score(target_valid, predictions_valid)\n        n_estimators_values.append(n_estimators)\n        max_depth_values.append(max_depth)\n        f1_scores.append(f1)\n\nbest_f1_score = max(f1_scores)\nbest_n_estimators = n_estimators_values[f1_scores.index(best_f1_score)]\nbest_max_depth = max_depth_values[f1_scores.index(best_f1_score)]\n\nprint(\"Лучшее количество деревьев (n_estimators):\", best_n_estimators)\nprint(\"Лучшая максимальная глубина (max_depth):\", best_max_depth)\nprint(\"Лучшая F1-мера:\", best_f1_score)",
      "metadata": {},
      "execution_count": 30,
      "outputs": [
        {
          "name": "stdout",
          "output_type": "stream",
          "text": "Лучшее количество деревьев (n_estimators): 80\n\nЛучшая максимальная глубина (max_depth): 8\n\nЛучшая F1-мера: 0.591907514450867\n"
        }
      ]
    },
    {
      "cell_type": "code",
      "source": "best_rf_model = RandomForestClassifier(\n    n_estimators=80,\n    max_depth=8,\n    random_state=12345,\n    class_weight='balanced'\n)\n\nbest_rf_model.fit(features_train, target_train)\n\ntarget_pred_forest = best_rf_model.predict(features_valid)",
      "metadata": {},
      "execution_count": 31,
      "outputs": []
    },
    {
      "cell_type": "code",
      "source": "#Вычисление метрик\nrecall = recall_score(target_valid, target_pred_forest)\nprecision = precision_score(target_valid, target_pred_forest)\nf1 = f1_score(target_valid, target_pred_forest)\n\n#Вывод метрик\nprint(f\"Recall: {recall:.2f}\")\nprint(f\"Precision: {precision:.2f}\")\nprint(f\"F1 Score: {f1:.2f}\")\n\nprobabilities_valid = best_rf_model.predict_proba(features_valid)\nprobabilities_one_valid = probabilities_valid[:, 1]\nroc = roc_auc_score(target_valid, probabilities_one_valid)\nprint(f\"ROC-AUC: {roc:.2f}\")",
      "metadata": {},
      "execution_count": 32,
      "outputs": [
        {
          "name": "stdout",
          "output_type": "stream",
          "text": "Recall: 0.65\n\nPrecision: 0.54\n\nF1 Score: 0.59\n\nROC-AUC: 0.85\n"
        }
      ]
    },
    {
      "cell_type": "markdown",
      "source": "**Дерево решений**",
      "metadata": {}
    },
    {
      "cell_type": "code",
      "source": "depth_values = []\nf1_scores = []\n\ndepth_range = range(1, 11)\n\nfor depth in depth_range:\n    tree_model = DecisionTreeClassifier(max_depth=depth, random_state=12345, class_weight='balanced')\n    \n    tree_model.fit(features_train, target_train)\n    \n    predictions_valid = tree_model.predict(features_valid)\n    \n    f1 = f1_score(target_valid, predictions_valid)\n    depth_values.append(depth)\n    f1_scores.append(f1)\n\nbest_f1_score = max(f1_scores)\nbest_depth = depth_values[f1_scores.index(best_f1_score)]\n\nprint(\"Лучшая глубина:\", best_depth)\nprint(\"Лучшая F1-мера:\", best_f1_score)",
      "metadata": {},
      "execution_count": 33,
      "outputs": [
        {
          "name": "stdout",
          "output_type": "stream",
          "text": "Лучшая глубина: 6\n\nЛучшая F1-мера: 0.5587044534412956\n"
        }
      ]
    },
    {
      "cell_type": "code",
      "source": "#Создание модели с лучшими параметрами\ntree_model = DecisionTreeClassifier(max_depth=6, random_state=12345, class_weight='balanced')\n\n#Обучение модели на обучающих данных\ntree_model.fit(features_train, target_train)\n\n#Предсказание на валидационной выборке\ntarget_pred_tree = tree_model.predict(features_valid)",
      "metadata": {},
      "execution_count": 34,
      "outputs": []
    },
    {
      "cell_type": "code",
      "source": "#Вычисление метрик\nrecall = recall_score(target_valid, target_pred_tree)\nprecision = precision_score(target_valid, target_pred_tree)\nf1 = f1_score(target_valid, target_pred_tree)\n\n#Вывод метрик\nprint(f\"Recall: {recall:.2f}\")\nprint(f\"Precision: {precision:.2f}\")\nprint(f\"F1 Score: {f1:.2f}\")\n\nprobabilities_valid = tree_model.predict_proba(features_valid)\nprobabilities_one_valid = probabilities_valid[:, 1]\nroc = roc_auc_score(target_valid, probabilities_one_valid)\nprint(f\"ROC-AUC: {roc:.2f}\")",
      "metadata": {},
      "execution_count": 35,
      "outputs": [
        {
          "name": "stdout",
          "output_type": "stream",
          "text": "Recall: 0.71\n\nPrecision: 0.46\n\nF1 Score: 0.56\n\nROC-AUC: 0.81\n"
        }
      ]
    },
    {
      "cell_type": "markdown",
      "source": "**Логическая регрессия**",
      "metadata": {}
    },
    {
      "cell_type": "code",
      "source": "logistic_regression_model = LogisticRegression(\n    random_state=12345,\n    solver='liblinear',\n    class_weight='balanced'\n)\n\nlogistic_regression_model.fit(features_train, target_train)\n\n#Предсказание на валидационной выборке\ntarget_pred_log = logistic_regression_model.predict(features_valid) ",
      "metadata": {},
      "execution_count": 36,
      "outputs": []
    },
    {
      "cell_type": "code",
      "source": "#Вычисление метрик\nrecall = recall_score(target_valid, target_pred_log)\nprecision = precision_score(target_valid, target_pred_log)\nf1 = f1_score(target_valid, target_pred_log)\n\n#Вывод метрик\nprint(f\"Recall: {recall:.2f}\")\nprint(f\"Precision: {precision:.2f}\")\nprint(f\"F1 Score: {f1:.2f}\")\n\nprobabilities_valid = logistic_regression_model.predict_proba(features_valid)\nprobabilities_one_valid = probabilities_valid[:, 1]\nroc = roc_auc_score(target_valid, probabilities_one_valid)\nprint(f\"ROC-AUC: {roc:.2f}\")",
      "metadata": {},
      "execution_count": 37,
      "outputs": [
        {
          "name": "stdout",
          "output_type": "stream",
          "text": "Recall: 0.68\n\nPrecision: 0.37\n\nF1 Score: 0.48\n\nROC-AUC: 0.77\n"
        }
      ]
    },
    {
      "cell_type": "markdown",
      "source": "### Увеличение выборки",
      "metadata": {}
    },
    {
      "cell_type": "code",
      "source": "def upsample(features, target, repeat):\n    features_zeros = features[target == 0]\n    features_ones = features[target == 1]\n    target_zeros = target[target == 0]\n    target_ones = target[target == 1]\n    \n    features_upsampled = pd.concat([features_zeros] + [features_ones] * repeat)\n    target_upsampled = pd.concat([target_zeros] + [target_ones] * repeat)\n\n    features_upsampled, target_upsampled = shuffle(features_upsampled, target_upsampled, random_state=12345)\n    \n    return features_upsampled, target_upsampled\n\nfeatures_upsampled, target_upsampled = upsample(features_train, target_train, 4)\n\nprint(features_upsampled.shape)\nprint(target_upsampled.shape)",
      "metadata": {},
      "execution_count": 38,
      "outputs": [
        {
          "name": "stdout",
          "output_type": "stream",
          "text": "(9657, 11)\n\n(9657,)\n"
        }
      ]
    },
    {
      "cell_type": "code",
      "source": "#Считаем количество объектов в каждом классе после upsampling\nclass_counts = target_upsampled.value_counts(normalize=True)\n\n#Строим столбчатую диаграмму для визуализации\nplt.figure(figsize=(8, 6))\nclass_counts.plot(kind='bar', color=['skyblue', 'salmon'])\nplt.title('Количество объектов в каждом классе после upsampling')\nplt.xlabel('Класс')\nplt.ylabel('Количество объектов')\nplt.xticks([0, 1], ['Негативный класс', 'Положительный класс'], rotation=0)\nplt.show()",
      "metadata": {},
      "execution_count": 39,
      "outputs": [
        {
          "output_type": "display_data",
          "data": {
            "image/png": "[encoded data removed]",
            "text/plain": [
              "<Figure size 576x432 with 1 Axes>"
            ]
          },
          "metadata": {
            "needs_background": "light"
          }
        }
      ]
    },
    {
      "cell_type": "markdown",
      "source": "**Случайный лес**",
      "metadata": {}
    },
    {
      "cell_type": "code",
      "source": "n_estimators_values = []\nmax_depth_values = []\nf1_scores = []\n\nn_estimators_range = range(10, 101, 10)\nmax_depth_range = range(1, 10)\n\nfor n_estimators in n_estimators_range:\n    for max_depth in max_depth_range:\n        rf_model = RandomForestClassifier(\n            n_estimators=n_estimators,\n            max_depth=max_depth,\n            random_state=12345\n        )\n        \n        rf_model.fit(features_upsampled, target_upsampled)\n\n        predictions_valid = rf_model.predict(features_valid)\n\n        f1 = f1_score(target_valid, predictions_valid)\n        n_estimators_values.append(n_estimators)\n        max_depth_values.append(max_depth)\n        f1_scores.append(f1)\n\nbest_f1_score = max(f1_scores)\nbest_n_estimators = n_estimators_values[f1_scores.index(best_f1_score)]\nbest_max_depth = max_depth_values[f1_scores.index(best_f1_score)]\n\nprint(\"Лучшее количество деревьев (n_estimators):\", best_n_estimators)\nprint(\"Лучшая максимальная глубина (max_depth):\", best_max_depth)\nprint(\"Лучшая F1-мера:\", best_f1_score)",
      "metadata": {},
      "execution_count": 40,
      "outputs": [
        {
          "name": "stdout",
          "output_type": "stream",
          "text": "Лучшее количество деревьев (n_estimators): 100\n\nЛучшая максимальная глубина (max_depth): 9\n\nЛучшая F1-мера: 0.5921787709497207\n"
        }
      ]
    },
    {
      "cell_type": "code",
      "source": "best_rf_model = RandomForestClassifier(\n    n_estimators=100,\n    max_depth=9,\n    random_state=12345\n)\n\nbest_rf_model.fit(features_upsampled, target_upsampled)\n\ntarget_pred_forest = best_rf_model.predict(features_valid)",
      "metadata": {},
      "execution_count": 41,
      "outputs": []
    },
    {
      "cell_type": "code",
      "source": "#Вычисление метрик\nrecall = recall_score(target_valid, target_pred_forest)\nprecision = precision_score(target_valid, target_pred_forest)\nf1 = f1_score(target_valid, target_pred_forest)\n\n#Вывод метрик\nprint(f\"Recall: {recall:.2f}\")\nprint(f\"Precision: {precision:.2f}\")\nprint(f\"F1 Score: {f1:.2f}\")\n\nprobabilities_valid = best_rf_model.predict_proba(features_valid)\nprobabilities_one_valid = probabilities_valid[:, 1]\nroc = roc_auc_score(target_valid, probabilities_one_valid)\nprint(f\"ROC-AUC: {roc:.2f}\")",
      "metadata": {},
      "execution_count": 42,
      "outputs": [
        {
          "name": "stdout",
          "output_type": "stream",
          "text": "Recall: 0.68\n\nPrecision: 0.53\n\nF1 Score: 0.59\n\nROC-AUC: 0.85\n"
        }
      ]
    },
    {
      "cell_type": "markdown",
      "source": "**Логическая регрессия**",
      "metadata": {}
    },
    {
      "cell_type": "code",
      "source": "logistic_regression_model = LogisticRegression(\n    random_state=12345,\n    solver='liblinear'\n)\n\nlogistic_regression_model.fit(features_upsampled, target_upsampled)\n\n#Предсказание на валидационной выборке\ntarget_pred_log = logistic_regression_model.predict(features_valid) ",
      "metadata": {},
      "execution_count": 43,
      "outputs": []
    },
    {
      "cell_type": "code",
      "source": "#Вычисление метрик\nrecall = recall_score(target_valid, target_pred_log)\nprecision = precision_score(target_valid, target_pred_log)\nf1 = f1_score(target_valid, target_pred_log)\n\n#Вывод метрик\nprint(f\"Recall: {recall:.2f}\")\nprint(f\"Precision: {precision:.2f}\")\nprint(f\"F1 Score: {f1:.2f}\")\n\nprobabilities_valid = logistic_regression_model.predict_proba(features_valid)\nprobabilities_one_valid = probabilities_valid[:, 1]\nroc = roc_auc_score(target_valid, probabilities_one_valid)\nprint(f\"ROC-AUC: {roc:.2f}\")",
      "metadata": {},
      "execution_count": 44,
      "outputs": [
        {
          "name": "stdout",
          "output_type": "stream",
          "text": "Recall: 0.69\n\nPrecision: 0.37\n\nF1 Score: 0.48\n\nROC-AUC: 0.77\n"
        }
      ]
    },
    {
      "cell_type": "markdown",
      "source": "**Дерево решений**",
      "metadata": {}
    },
    {
      "cell_type": "code",
      "source": "depth_values = []\nf1_scores = []\n\ndepth_range = range(1, 11)\n\nfor depth in depth_range:\n    tree_model = DecisionTreeClassifier(max_depth=depth, random_state=12345)\n    \n    tree_model.fit(features_upsampled, target_upsampled)\n    \n    predictions_valid = tree_model.predict(features_valid)\n    \n    f1 = f1_score(target_valid, predictions_valid)\n    depth_values.append(depth)\n    f1_scores.append(f1)\n\nbest_f1_score = max(f1_scores)\nbest_depth = depth_values[f1_scores.index(best_f1_score)]\n\nprint(\"Лучшая глубина:\", best_depth)\nprint(\"Лучшая F1-мера:\", best_f1_score)",
      "metadata": {},
      "execution_count": 45,
      "outputs": [
        {
          "name": "stdout",
          "output_type": "stream",
          "text": "Лучшая глубина: 6\n\nЛучшая F1-мера: 0.5587044534412956\n"
        }
      ]
    },
    {
      "cell_type": "code",
      "source": "#Создание модели с лучшими параметрами\ntree_model = DecisionTreeClassifier(max_depth=6, random_state=12345)\n\n#Обучение модели на обучающих данных\ntree_model.fit(features_upsampled, target_upsampled)\n\n#Предсказание на валидационной выборке\ntarget_pred_tree = tree_model.predict(features_valid)",
      "metadata": {},
      "execution_count": 46,
      "outputs": []
    },
    {
      "cell_type": "code",
      "source": "#Вычисление метрик\nrecall = recall_score(target_valid, target_pred_tree)\nprecision = precision_score(target_valid, target_pred_tree)\nf1 = f1_score(target_valid, target_pred_tree)\n\n#Вывод метрик\nprint(f\"Recall: {recall:.2f}\")\nprint(f\"Precision: {precision:.2f}\")\nprint(f\"F1 Score: {f1:.2f}\")\n\nprobabilities_valid = tree_model.predict_proba(features_valid)\nprobabilities_one_valid = probabilities_valid[:, 1]\nroc = roc_auc_score(target_valid, probabilities_one_valid)\nprint(f\"ROC-AUC: {roc:.2f}\")",
      "metadata": {},
      "execution_count": 47,
      "outputs": [
        {
          "name": "stdout",
          "output_type": "stream",
          "text": "Recall: 0.71\n\nPrecision: 0.46\n\nF1 Score: 0.56\n\nROC-AUC: 0.81\n"
        }
      ]
    },
    {
      "cell_type": "markdown",
      "source": "### Уменьшение выборки",
      "metadata": {}
    },
    {
      "cell_type": "code",
      "source": "def downsample(features, target, fraction):\n    features_zeros = features[target == 0]\n    features_ones = features[target == 1]\n    target_zeros = target[target == 0]\n    target_ones = target[target == 1]\n\n    features_zeros_downsampled = features_zeros.sample(frac=fraction, random_state=12345)\n    target_zeros_downsampled = target_zeros.sample(frac=fraction, random_state=12345)\n    \n    features_downsampled = pd.concat([features_zeros_downsampled, features_ones])\n    target_downsampled = pd.concat([target_zeros_downsampled, target_ones])\n    \n    features_downsampled, target_downsampled = shuffle(features_downsampled, target_downsampled, random_state=12345)\n\n    return features_downsampled, target_downsampled\n\nfeatures_downsampled, target_downsampled = downsample(features_train, target_train, 0.25)\n\nprint(features_downsampled.shape)\nprint(target_downsampled.shape)",
      "metadata": {},
      "execution_count": 48,
      "outputs": [
        {
          "name": "stdout",
          "output_type": "stream",
          "text": "(2414, 11)\n\n(2414,)\n"
        }
      ]
    },
    {
      "cell_type": "markdown",
      "source": "**Дерево решений**\n",
      "metadata": {}
    },
    {
      "cell_type": "code",
      "source": "depth_values = []\nf1_scores = []\n\ndepth_range = range(1, 11)\n\nfor depth in depth_range:\n    tree_model = DecisionTreeClassifier(max_depth=depth, random_state=12345)\n    \n    tree_model.fit(features_downsampled, target_downsampled)\n    \n    predictions_valid = tree_model.predict(features_valid)\n    \n    f1 = f1_score(target_valid, predictions_valid)\n    depth_values.append(depth)\n    f1_scores.append(f1)\n\nbest_f1_score = max(f1_scores)\nbest_depth = depth_values[f1_scores.index(best_f1_score)]\n\nprint(\"Лучшая глубина:\", best_depth)\nprint(\"Лучшая F1-мера:\", best_f1_score)",
      "metadata": {},
      "execution_count": 49,
      "outputs": [
        {
          "name": "stdout",
          "output_type": "stream",
          "text": "Лучшая глубина: 7\n\nЛучшая F1-мера: 0.5459662288930582\n"
        }
      ]
    },
    {
      "cell_type": "code",
      "source": "#Создание модели с лучшими параметрами\ntree_model = DecisionTreeClassifier(max_depth=7, random_state=12345)\n\n#Обучение модели на обучающих данных\ntree_model.fit(features_downsampled, target_downsampled)\n\n#Предсказание на валидационной выборке\ntarget_pred_tree = tree_model.predict(features_valid)",
      "metadata": {},
      "execution_count": 50,
      "outputs": []
    },
    {
      "cell_type": "code",
      "source": "#Вычисление метрик\nrecall = recall_score(target_valid, target_pred_tree)\nprecision = precision_score(target_valid, target_pred_tree)\nf1 = f1_score(target_valid, target_pred_tree)\n\n#Вывод метрик\nprint(f\"Recall: {recall:.2f}\")\nprint(f\"Precision: {precision:.2f}\")\nprint(f\"F1 Score: {f1:.2f}\")\n\nprobabilities_valid = tree_model.predict_proba(features_valid)\nprobabilities_one_valid = probabilities_valid[:, 1]\nroc = roc_auc_score(target_valid, probabilities_one_valid)\nprint(f\"ROC-AUC: {roc:.2f}\")",
      "metadata": {},
      "execution_count": 51,
      "outputs": [
        {
          "name": "stdout",
          "output_type": "stream",
          "text": "Recall: 0.74\n\nPrecision: 0.43\n\nF1 Score: 0.55\n\nROC-AUC: 0.81\n"
        }
      ]
    },
    {
      "cell_type": "markdown",
      "source": "**Случайный лес**",
      "metadata": {}
    },
    {
      "cell_type": "code",
      "source": "n_estimators_values = []\nmax_depth_values = []\nf1_scores = []\n\nn_estimators_range = range(10, 101, 10)\nmax_depth_range = range(1, 10)\n\nfor n_estimators in n_estimators_range:\n    for max_depth in max_depth_range:\n        rf_model = RandomForestClassifier(\n            n_estimators=n_estimators,\n            max_depth=max_depth,\n            random_state=12345\n        )\n        \n        rf_model.fit(features_downsampled, target_downsampled)\n\n        predictions_valid = rf_model.predict(features_valid)\n\n        f1 = f1_score(target_valid, predictions_valid)\n        n_estimators_values.append(n_estimators)\n        max_depth_values.append(max_depth)\n        f1_scores.append(f1)\n\nbest_f1_score = max(f1_scores)\nbest_n_estimators = n_estimators_values[f1_scores.index(best_f1_score)]\nbest_max_depth = max_depth_values[f1_scores.index(best_f1_score)]\n\nprint(\"Лучшее количество деревьев (n_estimators):\", best_n_estimators)\nprint(\"Лучшая максимальная глубина (max_depth):\", best_max_depth)\nprint(\"Лучшая F1-мера:\", best_f1_score)",
      "metadata": {},
      "execution_count": 52,
      "outputs": [
        {
          "name": "stdout",
          "output_type": "stream",
          "text": "Лучшее количество деревьев (n_estimators): 40\n\nЛучшая максимальная глубина (max_depth): 7\n\nЛучшая F1-мера: 0.5674325674325673\n"
        }
      ]
    },
    {
      "cell_type": "code",
      "source": "best_rf_model = RandomForestClassifier(\n    n_estimators=40,\n    max_depth=7,\n    random_state=12345\n)\n\nbest_rf_model.fit(features_downsampled, target_downsampled)\n\ntarget_pred_forest = best_rf_model.predict(features_valid)",
      "metadata": {},
      "execution_count": 53,
      "outputs": []
    },
    {
      "cell_type": "code",
      "source": "#Вычисление метрик\nrecall = recall_score(target_valid, target_pred_forest)\nprecision = precision_score(target_valid, target_pred_forest)\nf1 = f1_score(target_valid, target_pred_forest)\n\n#Вывод метрик\nprint(f\"Recall: {recall:.2f}\")\nprint(f\"Precision: {precision:.2f}\")\nprint(f\"F1 Score: {f1:.2f}\")\n\nprobabilities_valid = best_rf_model.predict_proba(features_valid)\nprobabilities_one_valid = probabilities_valid[:, 1]\nroc = roc_auc_score(target_valid, probabilities_one_valid)\nprint(f\"ROC-AUC: {roc:.2f}\")",
      "metadata": {},
      "execution_count": 54,
      "outputs": [
        {
          "name": "stdout",
          "output_type": "stream",
          "text": "Recall: 0.73\n\nPrecision: 0.47\n\nF1 Score: 0.57\n\nROC-AUC: 0.85\n"
        }
      ]
    },
    {
      "cell_type": "markdown",
      "source": "**Логическая регрессия**",
      "metadata": {}
    },
    {
      "cell_type": "code",
      "source": "logistic_regression_model = LogisticRegression(\n    random_state=12345,\n    solver='liblinear'\n)\n\nlogistic_regression_model.fit(features_downsampled, target_downsampled)\n\n#Предсказание на валидационной выборке\ntarget_pred_log = logistic_regression_model.predict(features_valid) ",
      "metadata": {},
      "execution_count": 55,
      "outputs": []
    },
    {
      "cell_type": "code",
      "source": "#Вычисление метрик\nrecall = recall_score(target_valid, target_pred_log)\nprecision = precision_score(target_valid, target_pred_log)\nf1 = f1_score(target_valid, target_pred_log)\n\n#Вывод метрик\nprint(f\"Recall: {recall:.2f}\")\nprint(f\"Precision: {precision:.2f}\")\nprint(f\"F1 Score: {f1:.2f}\")\n\nprobabilities_valid = logistic_regression_model.predict_proba(features_valid)\nprobabilities_one_valid = probabilities_valid[:, 1]\nroc = roc_auc_score(target_valid, probabilities_one_valid)\nprint(f\"ROC-AUC: {roc:.2f}\")",
      "metadata": {},
      "execution_count": 56,
      "outputs": [
        {
          "name": "stdout",
          "output_type": "stream",
          "text": "Recall: 0.69\n\nPrecision: 0.36\n\nF1 Score: 0.48\n\nROC-AUC: 0.77\n"
        }
      ]
    },
    {
      "cell_type": "markdown",
      "source": "Объеденим все полученные данные в одну таблицу и сверим их",
      "metadata": {}
    },
    {
      "cell_type": "code",
      "source": "name_for_model = ['Tree', 'Forest', 'Log']\nbasic_values = [0.55, 0.55, 0.31]\nbalanced_values = [0.56, 0.59, 0.48]\nup_values = [0.56, 0.59, 0.48]\ndown_values = [0.55, 0.57, 0.48]\ndf_result = pd.DataFrame({'Наименование модели': name_for_model,\n                           'Начальные показатели': basic_values,\n                           'Сбалансированы': balanced_values,\n                           'Увеличение': up_values,\n                           'Уменьшение': down_values })\n\ndf_result",
      "metadata": {},
      "execution_count": 57,
      "outputs": [
        {
          "execution_count": 57,
          "output_type": "execute_result",
          "data": {
            "text/html": [
              "<div>\n",
              "<style scoped>\n",
              "    .dataframe tbody tr th:only-of-type {\n",
              "        vertical-align: middle;\n",
              "    }\n",
              "\n",
              "    .dataframe tbody tr th {\n",
              "        vertical-align: top;\n",
              "    }\n",
              "\n",
              "    .dataframe thead th {\n",
              "        text-align: right;\n",
              "    }\n",
              "</style>\n",
              "<table border=\"1\" class=\"dataframe\">\n",
              "  <thead>\n",
              "    <tr style=\"text-align: right;\">\n",
              "      <th></th>\n",
              "      <th>Наименование модели</th>\n",
              "      <th>Начальные показатели</th>\n",
              "      <th>Сбалансированы</th>\n",
              "      <th>Увеличение</th>\n",
              "      <th>Уменьшение</th>\n",
              "    </tr>\n",
              "  </thead>\n",
              "  <tbody>\n",
              "    <tr>\n",
              "      <th>0</th>\n",
              "      <td>Tree</td>\n",
              "      <td>0.55</td>\n",
              "      <td>0.56</td>\n",
              "      <td>0.56</td>\n",
              "      <td>0.55</td>\n",
              "    </tr>\n",
              "    <tr>\n",
              "      <th>1</th>\n",
              "      <td>Forest</td>\n",
              "      <td>0.55</td>\n",
              "      <td>0.59</td>\n",
              "      <td>0.59</td>\n",
              "      <td>0.57</td>\n",
              "    </tr>\n",
              "    <tr>\n",
              "      <th>2</th>\n",
              "      <td>Log</td>\n",
              "      <td>0.31</td>\n",
              "      <td>0.48</td>\n",
              "      <td>0.48</td>\n",
              "      <td>0.48</td>\n",
              "    </tr>\n",
              "  </tbody>\n",
              "</table>\n",
              "</div>"
            ],
            "text/plain": [
              "  Наименование модели  Начальные показатели  Сбалансированы  Увеличение  \\\n",
              "0                Tree                  0.55            0.56        0.56   \n",
              "1              Forest                  0.55            0.59        0.59   \n",
              "2                 Log                  0.31            0.48        0.48   \n",
              "\n",
              "   Уменьшение  \n",
              "0        0.55  \n",
              "1        0.57  \n",
              "2        0.48  "
            ]
          },
          "metadata": {}
        }
      ]
    },
    {
      "cell_type": "markdown",
      "source": "Исходя из предоставленных данных и метрик оценки моделей, можно сделать следующие выводы:\n\n1. **Decision Tree (Дерево решений)**:\n   - Начальные показатели F1-меры составляют 0.55, что означает умеренную производительность модели.\n   - После сбалансирования данных F1-мера увеличилась до 0.56, что говорит о небольшом улучшении способности модели к правильной классификации.\n   - При использовании увеличения выборки (upsampling) F1-мера также достигла значения 0.56, что означает поддержание той же производительности, что и при сбалансированных данных.\n   - При использовании уменьшения выборки (downsampling) F1-мера вернулась к исходному значению 0.55.\n\n2. **Random Forest (Случайный лес)**:\n   - Начальные показатели F1-меры также составляют 0.55.\n   - После сбалансирования данных F1-мера увеличилась до 0.59, что говорит о заметном улучшении способности модели к правильной классификации.\n   - При использовании увеличения выборки (upsampling) F1-мера также достигла значения 0.59, поддерживая высокую производительность.\n   - Однако при использовании уменьшения выборки (downsampling) F1-мера снизилась незначительно до 0.57, но осталась выше исходного уровня.\n\n3. **Logistic Regression (Логистическая регрессия)**:\n   - Начальные показатели F1-меры составляют 0.31, что указывает на низкую производительность модели.\n   - После сбалансирования данных F1-мера увеличилась до 0.48, что говорит о значительном улучшении способности модели к правильной классификации.\n   - При использовании как увеличения, так и уменьшения выборки F1-мера осталась на том же уровне, составляя 0.48.\n\nОбщий вывод:\n- Случайный лес демонстрирует лучшие показатели F1-меры, как в начальной версии, так и после сбалансирования или увеличения выборки.\n- Логистическая регрессия показывает значительное улучшение после сбалансирования данных, но дальнейший рост производительности ограничивается.\n- Решающее дерево имеет более низкую производительность, и увеличение выборки (upsampling) оказывает ограниченное воздействие на его производительность.",
      "metadata": {}
    },
    {
      "cell_type": "markdown",
      "source": "## Тестирование модели",
      "metadata": {}
    },
    {
      "cell_type": "code",
      "source": "new_features_train = pd.concat([features_test, features_valid], axis=0, ignore_index=True)\nnew_target_train = pd.concat([target_test, target_valid], axis=0, ignore_index=True)",
      "metadata": {},
      "execution_count": 71,
      "outputs": []
    },
    {
      "cell_type": "code",
      "source": "target_train.shape",
      "metadata": {},
      "execution_count": 72,
      "outputs": [
        {
          "execution_count": 72,
          "output_type": "execute_result",
          "data": {
            "text/plain": [
              "(6000,)"
            ]
          },
          "metadata": {}
        }
      ]
    },
    {
      "cell_type": "code",
      "source": "round(len(target_train) / len(data), 3)",
      "metadata": {},
      "execution_count": 73,
      "outputs": [
        {
          "execution_count": 73,
          "output_type": "execute_result",
          "data": {
            "text/plain": [
              "0.6"
            ]
          },
          "metadata": {}
        }
      ]
    },
    {
      "cell_type": "code",
      "source": "new_target_train.shape",
      "metadata": {},
      "execution_count": 74,
      "outputs": [
        {
          "execution_count": 74,
          "output_type": "execute_result",
          "data": {
            "text/plain": [
              "(4000,)"
            ]
          },
          "metadata": {}
        }
      ]
    },
    {
      "cell_type": "code",
      "source": "round(len(new_target_train) / len(data), 3)",
      "metadata": {},
      "execution_count": 75,
      "outputs": [
        {
          "execution_count": 75,
          "output_type": "execute_result",
          "data": {
            "text/plain": [
              "0.4"
            ]
          },
          "metadata": {}
        }
      ]
    },
    {
      "cell_type": "markdown",
      "source": "Соотношение тренировочной выборки к тестовой - 60/40",
      "metadata": {}
    },
    {
      "cell_type": "code",
      "source": "#подбор гиперпараметров\nn_estimators_values = []\nmax_depth_values = []\nf1_scores = []\n\nn_estimators_range = range(10, 101, 10)\nmax_depth_range = range(1, 10)\n\nfor n_estimators in n_estimators_range:\n    for max_depth in max_depth_range:\n        rf_model = RandomForestClassifier(\n            n_estimators=n_estimators,\n            max_depth=max_depth,\n            random_state=12345,\n            class_weight='balanced'\n        )\n        \n        rf_model.fit(features_train, target_train)\n\n        predictions_valid = rf_model.predict(features_valid)\n\n        f1 = f1_score(target_valid, predictions_valid)\n        n_estimators_values.append(n_estimators)\n        max_depth_values.append(max_depth)\n        f1_scores.append(f1)\n\nbest_f1_score = max(f1_scores)\nbest_n_estimators = n_estimators_values[f1_scores.index(best_f1_score)]\nbest_max_depth = max_depth_values[f1_scores.index(best_f1_score)]\n\nprint(\"Лучшее количество деревьев (n_estimators):\", best_n_estimators)\nprint(\"Лучшая максимальная глубина (max_depth):\", best_max_depth)\nprint(\"Лучшая F1-мера:\", best_f1_score)",
      "metadata": {},
      "execution_count": 76,
      "outputs": [
        {
          "name": "stdout",
          "output_type": "stream",
          "text": "Лучшее количество деревьев (n_estimators): 80\n\nЛучшая максимальная глубина (max_depth): 8\n\nЛучшая F1-мера: 0.591907514450867\n"
        }
      ]
    },
    {
      "cell_type": "code",
      "source": "best_rf_model = RandomForestClassifier(\n    n_estimators=80,\n    max_depth=8,\n    random_state=12345,\n    class_weight='balanced'\n)\n\nbest_rf_model.fit(features_train, target_train)\n\ntarget_pred_forest = best_rf_model.predict(features_test)",
      "metadata": {},
      "execution_count": 77,
      "outputs": []
    },
    {
      "cell_type": "code",
      "source": "#Вычисление метрик\nrecall = recall_score(target_test, target_pred_forest)\nprecision = precision_score(target_test, target_pred_forest)\nf1 = f1_score(target_test, target_pred_forest)\n\n#Вывод метрик\nprint(f\"Recall: {recall:.2f}\")\nprint(f\"Precision: {precision:.2f}\")\nprint(f\"F1 Score: {f1:.2f}\")\n\nprobabilities_valid = best_rf_model.predict_proba(features_test)\nprobabilities_one_valid = probabilities_valid[:, 1]\nroc = roc_auc_score(target_test, probabilities_one_valid)\nprint(f\"ROC-AUC: {roc:.2f}\")",
      "metadata": {},
      "execution_count": 81,
      "outputs": [
        {
          "name": "stdout",
          "output_type": "stream",
          "text": "Recall: 0.71\n\nPrecision: 0.59\n\nF1 Score: 0.64\n\nROC-AUC: 0.87\n"
        }
      ]
    },
    {
      "cell_type": "code",
      "source": "#Вычисляем ROC-кривую и площадь под ней\nfpr, tpr, thresholds = roc_curve(target_test, probabilities_one_valid)\nroc_auc = auc(fpr, tpr)\n\n#Строим ROC-кривую\nplt.figure(figsize=(8, 6))\nplt.plot(fpr, tpr, color='darkorange', lw=2, label='ROC-кривая (AUC = {:.2f})'.format(roc_auc))\nplt.plot([0, 1], [0, 1], color='navy', lw=2, linestyle='--')\nplt.xlim([0.0, 1.0])\nplt.ylim([0.0, 1.05])\nplt.xlabel('False Positive Rate (FPR)')\nplt.ylabel('True Positive Rate (TPR)')\nplt.title('ROC-кривая')\nplt.legend(loc='lower right')\nplt.show()",
      "metadata": {},
      "execution_count": 84,
      "outputs": [
        {
          "output_type": "display_data",
          "data": {
            "image/png": "[encoded data removed]",
            "text/plain": [
              "<Figure size 576x432 with 1 Axes>"
            ]
          },
          "metadata": {
            "needs_background": "light"
          }
        }
      ]
    },
    {
      "cell_type": "markdown",
      "source": "## Вывод",
      "metadata": {}
    },
    {
      "cell_type": "markdown",
      "source": "В исходных данных был выражен дисбаланс классов: около 80% примеров относились к негативному классу, а только 20% - к позитивному. Это приводило к некорректной оценке моделей и их низкой производительности, особенно в контексте взвешенной метрики F1.\n\nДля борьбы с дисбалансом мы проверили 3 способа:\n\n1. Взвешивание классов\n2. Увеличение выборки (upsampling)\n3. Уменьшение выборки (downsampling)\n\nПосле проведения исследования трех методов борьбы с дисбалансом классов (взвешивание классов, увеличение выборки - upsampling и уменьшение выборки - downsampling), мы пришли к следующему выводу:\n\nНаилучшим методом в данном контексте оказалось взвешивание классов. Этот метод позволил модели случайного леса достичь лучших показателей F1-меры, что является важной метрикой в задачах классификации, особенно при дисбалансе классов. Взвешивание классов помогло модели лучше учитывать недостаточно представленный класс и более точно классифицировать положительные случаи.\n\nПосле проведения анализа и обработки данных, а также обучения модели машинного обучения, мы получили следующие финальные результаты:\n\n- Полнота (Recall): 0.71 - Этот показатель говорит о способности модели правильно обнаруживать положительные случаи. Мы достигли хорошего уровня полноты, что означает, что модель хорошо выявляет реальные позитивные события.\n\n- Точность (Precision): 0.59 - Точность измеряет, насколько точно модель классифицирует положительные случаи. Наша модель показывает умеренную точность, что означает, что иногда она может классифицировать негативные случаи как положительные.\n\n- F1-мера (F1 Score): 0.64 - F1-мера является средним гармоническим между полнотой и точностью. Значение 0.64 говорит о том, что модель достигла сбалансированного сочетания между полнотой и точностью, что является хорошим показателем качества модели.\n\n- ROC-AUC: 0.87 - Площадь под ROC-кривой (ROC-AUC) является мерой качества классификации модели. Значение 0.86 свидетельствует о высокой способности модели разделять классы и хорошей обобщающей способности.\n\nОбщий вывод: Финальные результаты модели позволяют нам сделать вывод о ее способности эффективно выявлять положительные случаи с высокой полнотой и хорошей обобщающей способностью, несмотря на умеренную точность. Это делает модель подходящей для задач, где важно обнаружение реальных позитивных событий.",
      "metadata": {}
    },
    {
      "cell_type": "markdown",
      "source": "## Чек-лист готовности проекта",
      "metadata": {}
    },
    {
      "cell_type": "markdown",
      "source": "Поставьте 'x' в выполненных пунктах. Далее нажмите Shift+Enter.",
      "metadata": {}
    },
    {
      "cell_type": "markdown",
      "source": "- [x]  Jupyter Notebook открыт\n- [x]  Весь код выполняется без ошибок\n- [x]  Ячейки с кодом расположены в порядке исполнения\n- [x]  Выполнен шаг 1: данные подготовлены\n- [x]  Выполнен шаг 2: задача исследована\n    - [x]  Исследован баланс классов\n    - [x]  Изучены модели без учёта дисбаланса\n    - [x]  Написаны выводы по результатам исследования\n- [x]  Выполнен шаг 3: учтён дисбаланс\n    - [x]  Применено несколько способов борьбы с дисбалансом\n    - [x]  Написаны выводы по результатам исследования\n- [x]  Выполнен шаг 4: проведено тестирование\n- [x]  Удалось достичь *F1*-меры не менее 0.59\n- [x]  Исследована метрика *AUC-ROC*",
      "metadata": {}
    }
  ]
}