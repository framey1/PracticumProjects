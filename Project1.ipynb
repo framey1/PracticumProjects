{
 "metadata": {
  "ExecuteTimeLog": [
   {
    "duration": 1193,
    "start_time": "2023-05-23T09:09:01.049Z"
   },
   {
    "duration": 98,
    "start_time": "2023-05-23T09:09:12.070Z"
   },
   {
    "duration": 747,
    "start_time": "2023-05-23T16:46:06.886Z"
   },
   {
    "duration": 117,
    "start_time": "2023-05-23T16:48:37.360Z"
   },
   {
    "duration": 91,
    "start_time": "2023-05-23T16:48:56.953Z"
   },
   {
    "duration": 111,
    "start_time": "2023-05-23T16:49:05.514Z"
   },
   {
    "duration": 91,
    "start_time": "2023-05-23T16:49:21.320Z"
   },
   {
    "duration": 275,
    "start_time": "2023-05-23T16:49:35.188Z"
   },
   {
    "duration": 108,
    "start_time": "2023-05-23T16:49:41.270Z"
   },
   {
    "duration": 117,
    "start_time": "2023-05-23T17:27:20.072Z"
   },
   {
    "duration": 112,
    "start_time": "2023-05-23T17:29:35.011Z"
   },
   {
    "duration": 136,
    "start_time": "2023-05-23T17:33:42.611Z"
   },
   {
    "duration": 547,
    "start_time": "2023-05-24T08:19:40.192Z"
   },
   {
    "duration": 11,
    "start_time": "2023-05-24T08:48:21.054Z"
   },
   {
    "duration": 12,
    "start_time": "2023-05-24T08:49:10.465Z"
   },
   {
    "duration": 9,
    "start_time": "2023-05-24T08:49:10.790Z"
   },
   {
    "duration": 20,
    "start_time": "2023-05-24T08:50:07.284Z"
   },
   {
    "duration": 18,
    "start_time": "2023-05-24T08:50:13.086Z"
   },
   {
    "duration": 12,
    "start_time": "2023-05-24T08:53:40.113Z"
   },
   {
    "duration": 533,
    "start_time": "2023-05-24T10:08:51.449Z"
   },
   {
    "duration": 9,
    "start_time": "2023-05-24T10:09:00.802Z"
   },
   {
    "duration": 113,
    "start_time": "2023-05-24T10:10:11.058Z"
   },
   {
    "duration": 22,
    "start_time": "2023-05-24T10:10:17.458Z"
   },
   {
    "duration": 99,
    "start_time": "2023-05-24T10:11:15.408Z"
   },
   {
    "duration": 77,
    "start_time": "2023-05-24T10:11:31.161Z"
   },
   {
    "duration": 75,
    "start_time": "2023-05-24T10:11:37.457Z"
   },
   {
    "duration": 9,
    "start_time": "2023-05-24T10:12:47.385Z"
   },
   {
    "duration": 11,
    "start_time": "2023-05-24T10:13:16.614Z"
   },
   {
    "duration": 81,
    "start_time": "2023-05-24T10:13:55.390Z"
   },
   {
    "duration": 26,
    "start_time": "2023-05-24T10:14:06.365Z"
   },
   {
    "duration": 27,
    "start_time": "2023-05-24T10:14:15.373Z"
   },
   {
    "duration": 26,
    "start_time": "2023-05-24T10:14:42.917Z"
   },
   {
    "duration": 2047,
    "start_time": "2023-05-24T10:16:41.121Z"
   },
   {
    "duration": 2010,
    "start_time": "2023-05-24T10:16:49.320Z"
   },
   {
    "duration": 27,
    "start_time": "2023-05-24T10:22:00.166Z"
   },
   {
    "duration": 107,
    "start_time": "2023-05-24T18:57:32.439Z"
   },
   {
    "duration": 14,
    "start_time": "2023-05-24T18:57:32.845Z"
   },
   {
    "duration": 72,
    "start_time": "2023-05-24T18:57:33.159Z"
   },
   {
    "duration": 25,
    "start_time": "2023-05-24T18:57:33.423Z"
   },
   {
    "duration": 2064,
    "start_time": "2023-05-24T18:57:33.765Z"
   },
   {
    "duration": 26,
    "start_time": "2023-05-24T19:05:57.672Z"
   },
   {
    "duration": 6,
    "start_time": "2023-05-24T19:06:32.203Z"
   },
   {
    "duration": 4,
    "start_time": "2023-05-24T19:08:11.618Z"
   },
   {
    "duration": 4,
    "start_time": "2023-05-24T19:09:42.963Z"
   },
   {
    "duration": 24,
    "start_time": "2023-05-24T19:09:43.663Z"
   },
   {
    "duration": 6,
    "start_time": "2023-05-24T19:13:08.664Z"
   },
   {
    "duration": 9,
    "start_time": "2023-05-24T19:13:44.056Z"
   },
   {
    "duration": 6,
    "start_time": "2023-05-24T19:15:00.456Z"
   },
   {
    "duration": 135,
    "start_time": "2023-05-25T16:41:45.529Z"
   },
   {
    "duration": 16,
    "start_time": "2023-05-25T16:41:45.793Z"
   },
   {
    "duration": 83,
    "start_time": "2023-05-25T16:41:45.988Z"
   },
   {
    "duration": 27,
    "start_time": "2023-05-25T16:41:46.166Z"
   },
   {
    "duration": 1902,
    "start_time": "2023-05-25T16:41:46.352Z"
   },
   {
    "duration": 38,
    "start_time": "2023-05-25T16:41:48.255Z"
   },
   {
    "duration": 5,
    "start_time": "2023-05-25T16:41:48.295Z"
   },
   {
    "duration": 51,
    "start_time": "2023-05-25T16:41:48.303Z"
   },
   {
    "duration": 8,
    "start_time": "2023-05-25T16:41:48.356Z"
   },
   {
    "duration": 7,
    "start_time": "2023-05-25T16:41:48.420Z"
   },
   {
    "duration": 3,
    "start_time": "2023-05-25T16:42:04.813Z"
   },
   {
    "duration": 100,
    "start_time": "2023-05-25T16:42:11.839Z"
   },
   {
    "duration": 16,
    "start_time": "2023-05-25T16:42:15.291Z"
   },
   {
    "duration": 225,
    "start_time": "2023-05-25T16:42:15.633Z"
   },
   {
    "duration": 28,
    "start_time": "2023-05-25T16:42:15.966Z"
   },
   {
    "duration": 1840,
    "start_time": "2023-05-25T16:42:16.167Z"
   },
   {
    "duration": 27,
    "start_time": "2023-05-25T16:42:18.009Z"
   },
   {
    "duration": 5,
    "start_time": "2023-05-25T16:42:18.051Z"
   },
   {
    "duration": 25,
    "start_time": "2023-05-25T16:42:18.896Z"
   },
   {
    "duration": 6,
    "start_time": "2023-05-25T16:42:34.575Z"
   },
   {
    "duration": 8,
    "start_time": "2023-05-25T16:42:34.949Z"
   },
   {
    "duration": 566,
    "start_time": "2023-05-25T16:52:55.321Z"
   },
   {
    "duration": 607,
    "start_time": "2023-05-25T16:53:53.501Z"
   },
   {
    "duration": 551,
    "start_time": "2023-05-25T16:54:09.635Z"
   },
   {
    "duration": 8,
    "start_time": "2023-05-25T16:54:58.932Z"
   },
   {
    "duration": 30,
    "start_time": "2023-05-25T16:55:17.740Z"
   },
   {
    "duration": 135,
    "start_time": "2023-05-25T16:55:23.924Z"
   },
   {
    "duration": 21,
    "start_time": "2023-05-25T16:56:00.474Z"
   },
   {
    "duration": 13,
    "start_time": "2023-05-25T16:57:45.547Z"
   },
   {
    "duration": 12,
    "start_time": "2023-05-25T16:57:54.615Z"
   },
   {
    "duration": 1167,
    "start_time": "2023-05-25T17:01:25.646Z"
   },
   {
    "duration": 12,
    "start_time": "2023-05-25T17:02:12.204Z"
   },
   {
    "duration": 15,
    "start_time": "2023-05-25T17:02:30.087Z"
   },
   {
    "duration": 20,
    "start_time": "2023-05-25T17:02:36.556Z"
   },
   {
    "duration": 3,
    "start_time": "2023-05-25T18:36:37.915Z"
   },
   {
    "duration": 91,
    "start_time": "2023-05-25T18:36:38.075Z"
   },
   {
    "duration": 16,
    "start_time": "2023-05-25T18:36:38.231Z"
   },
   {
    "duration": 72,
    "start_time": "2023-05-25T18:36:38.410Z"
   },
   {
    "duration": 26,
    "start_time": "2023-05-25T18:36:38.576Z"
   },
   {
    "duration": 1735,
    "start_time": "2023-05-25T18:36:38.744Z"
   },
   {
    "duration": 25,
    "start_time": "2023-05-25T18:36:40.481Z"
   },
   {
    "duration": 10,
    "start_time": "2023-05-25T18:36:40.507Z"
   },
   {
    "duration": 41,
    "start_time": "2023-05-25T18:36:40.518Z"
   },
   {
    "duration": 5,
    "start_time": "2023-05-25T18:36:40.634Z"
   },
   {
    "duration": 7,
    "start_time": "2023-05-25T18:36:40.825Z"
   },
   {
    "duration": 19,
    "start_time": "2023-05-25T18:36:41.250Z"
   },
   {
    "duration": 8,
    "start_time": "2023-05-25T18:37:50.460Z"
   },
   {
    "duration": 4,
    "start_time": "2023-05-25T18:37:50.780Z"
   },
   {
    "duration": 146,
    "start_time": "2023-05-25T18:37:54.074Z"
   },
   {
    "duration": 11,
    "start_time": "2023-05-25T18:38:27.564Z"
   },
   {
    "duration": 2,
    "start_time": "2023-05-25T18:38:58.768Z"
   },
   {
    "duration": 97,
    "start_time": "2023-05-25T18:38:59.203Z"
   },
   {
    "duration": 15,
    "start_time": "2023-05-25T18:39:01.187Z"
   },
   {
    "duration": 74,
    "start_time": "2023-05-25T18:39:03.745Z"
   },
   {
    "duration": 27,
    "start_time": "2023-05-25T18:39:05.364Z"
   },
   {
    "duration": 1744,
    "start_time": "2023-05-25T18:39:07.003Z"
   },
   {
    "duration": 25,
    "start_time": "2023-05-25T18:39:13.074Z"
   },
   {
    "duration": 5,
    "start_time": "2023-05-25T18:39:54.192Z"
   },
   {
    "duration": 17,
    "start_time": "2023-05-25T18:40:49.509Z"
   },
   {
    "duration": 694,
    "start_time": "2023-05-25T19:11:34.007Z"
   },
   {
    "duration": 185,
    "start_time": "2023-05-25T19:11:34.703Z"
   },
   {
    "duration": 20,
    "start_time": "2023-05-25T19:11:34.890Z"
   },
   {
    "duration": 94,
    "start_time": "2023-05-25T19:11:34.912Z"
   },
   {
    "duration": 28,
    "start_time": "2023-05-25T19:11:35.008Z"
   },
   {
    "duration": 2106,
    "start_time": "2023-05-25T19:11:35.037Z"
   },
   {
    "duration": 34,
    "start_time": "2023-05-25T19:11:37.145Z"
   },
   {
    "duration": 11,
    "start_time": "2023-05-25T19:11:37.181Z"
   },
   {
    "duration": 38,
    "start_time": "2023-05-25T19:11:37.194Z"
   },
   {
    "duration": 6,
    "start_time": "2023-05-25T19:11:37.234Z"
   },
   {
    "duration": 30,
    "start_time": "2023-05-25T19:11:37.241Z"
   },
   {
    "duration": 20,
    "start_time": "2023-05-25T19:11:37.272Z"
   },
   {
    "duration": 8,
    "start_time": "2023-05-25T19:55:20.539Z"
   },
   {
    "duration": 8,
    "start_time": "2023-05-25T19:55:31.212Z"
   },
   {
    "duration": 2,
    "start_time": "2023-05-25T19:55:41.463Z"
   },
   {
    "duration": 38,
    "start_time": "2023-05-25T19:55:46.364Z"
   },
   {
    "duration": 7,
    "start_time": "2023-05-25T20:07:20.700Z"
   },
   {
    "duration": 53,
    "start_time": "2023-05-25T20:07:27.116Z"
   },
   {
    "duration": 40,
    "start_time": "2023-05-25T20:19:09.663Z"
   },
   {
    "duration": 17,
    "start_time": "2023-05-25T20:19:11.060Z"
   },
   {
    "duration": 11,
    "start_time": "2023-05-25T20:19:29.966Z"
   },
   {
    "duration": 8,
    "start_time": "2023-05-25T20:19:33.662Z"
   },
   {
    "duration": 8,
    "start_time": "2023-05-25T20:19:44.946Z"
   },
   {
    "duration": 14,
    "start_time": "2023-05-25T20:19:49.953Z"
   },
   {
    "duration": 8,
    "start_time": "2023-05-25T20:22:02.984Z"
   },
   {
    "duration": 8,
    "start_time": "2023-05-25T20:22:06.261Z"
   },
   {
    "duration": 5,
    "start_time": "2023-05-25T20:23:18.960Z"
   },
   {
    "duration": 3,
    "start_time": "2023-05-25T20:23:23.627Z"
   },
   {
    "duration": 15,
    "start_time": "2023-05-25T20:23:30.914Z"
   },
   {
    "duration": 3,
    "start_time": "2023-05-25T20:24:40.183Z"
   },
   {
    "duration": 6,
    "start_time": "2023-05-25T20:28:37.306Z"
   },
   {
    "duration": 282,
    "start_time": "2023-05-25T20:30:50.600Z"
   },
   {
    "duration": 162,
    "start_time": "2023-05-25T20:31:06.384Z"
   },
   {
    "duration": 175,
    "start_time": "2023-05-25T20:31:56.747Z"
   },
   {
    "duration": 179,
    "start_time": "2023-05-25T20:32:19.548Z"
   },
   {
    "duration": 235,
    "start_time": "2023-05-25T20:32:39.077Z"
   },
   {
    "duration": 237,
    "start_time": "2023-05-25T20:32:50.748Z"
   },
   {
    "duration": 287,
    "start_time": "2023-05-25T20:34:13.330Z"
   },
   {
    "duration": 341,
    "start_time": "2023-05-25T20:34:18.382Z"
   },
   {
    "duration": 247,
    "start_time": "2023-05-25T20:36:13.246Z"
   },
   {
    "duration": 75,
    "start_time": "2023-05-25T20:36:31.690Z"
   },
   {
    "duration": 253,
    "start_time": "2023-05-25T20:36:41.182Z"
   },
   {
    "duration": 7,
    "start_time": "2023-05-25T20:36:47.513Z"
   },
   {
    "duration": 238,
    "start_time": "2023-05-25T20:36:49.680Z"
   },
   {
    "duration": 90,
    "start_time": "2023-05-25T20:37:37.249Z"
   },
   {
    "duration": 245,
    "start_time": "2023-05-25T20:37:44.989Z"
   },
   {
    "duration": 238,
    "start_time": "2023-05-25T20:39:11.933Z"
   },
   {
    "duration": 354,
    "start_time": "2023-05-25T20:39:26.539Z"
   },
   {
    "duration": 246,
    "start_time": "2023-05-25T20:39:51.199Z"
   },
   {
    "duration": 5,
    "start_time": "2023-05-25T20:40:00.660Z"
   },
   {
    "duration": 3,
    "start_time": "2023-05-25T20:41:07.776Z"
   },
   {
    "duration": 100,
    "start_time": "2023-05-25T20:41:08.140Z"
   },
   {
    "duration": 46,
    "start_time": "2023-05-25T20:41:08.462Z"
   },
   {
    "duration": 12,
    "start_time": "2023-05-25T20:41:08.663Z"
   },
   {
    "duration": 15,
    "start_time": "2023-05-25T20:41:08.821Z"
   },
   {
    "duration": 1872,
    "start_time": "2023-05-25T20:41:09.358Z"
   },
   {
    "duration": 28,
    "start_time": "2023-05-25T20:41:11.232Z"
   },
   {
    "duration": 5,
    "start_time": "2023-05-25T20:41:11.262Z"
   },
   {
    "duration": 24,
    "start_time": "2023-05-25T20:41:11.269Z"
   },
   {
    "duration": 5,
    "start_time": "2023-05-25T20:41:11.921Z"
   },
   {
    "duration": 7,
    "start_time": "2023-05-25T20:41:13.302Z"
   },
   {
    "duration": 227,
    "start_time": "2023-05-25T20:41:15.062Z"
   },
   {
    "duration": 17,
    "start_time": "2023-05-25T20:41:17.898Z"
   },
   {
    "duration": 5,
    "start_time": "2023-05-25T20:41:18.112Z"
   },
   {
    "duration": 274,
    "start_time": "2023-05-25T20:41:42.302Z"
   },
   {
    "duration": 235,
    "start_time": "2023-05-25T20:42:16.777Z"
   },
   {
    "duration": 2516,
    "start_time": "2023-05-25T20:45:24.021Z"
   },
   {
    "duration": 2204,
    "start_time": "2023-05-25T20:45:36.574Z"
   },
   {
    "duration": 2386,
    "start_time": "2023-05-25T20:46:15.574Z"
   },
   {
    "duration": 11,
    "start_time": "2023-05-25T20:46:30.676Z"
   },
   {
    "duration": 11,
    "start_time": "2023-05-25T20:47:02.177Z"
   },
   {
    "duration": 301,
    "start_time": "2023-05-25T20:47:37.478Z"
   },
   {
    "duration": 101,
    "start_time": "2023-05-25T20:47:50.192Z"
   },
   {
    "duration": 116,
    "start_time": "2023-05-25T20:48:09.948Z"
   },
   {
    "duration": 121,
    "start_time": "2023-05-25T20:50:12.408Z"
   },
   {
    "duration": 106,
    "start_time": "2023-05-25T20:51:58.468Z"
   },
   {
    "duration": 110,
    "start_time": "2023-05-25T20:54:49.357Z"
   },
   {
    "duration": 176,
    "start_time": "2023-05-25T20:55:37.176Z"
   },
   {
    "duration": 107,
    "start_time": "2023-05-25T20:56:19.172Z"
   },
   {
    "duration": 26,
    "start_time": "2023-05-27T21:40:49.002Z"
   },
   {
    "duration": 2,
    "start_time": "2023-05-27T21:42:36.147Z"
   },
   {
    "duration": 109,
    "start_time": "2023-05-27T21:42:36.473Z"
   },
   {
    "duration": 41,
    "start_time": "2023-05-27T21:42:36.823Z"
   },
   {
    "duration": 13,
    "start_time": "2023-05-27T21:42:36.994Z"
   },
   {
    "duration": 17,
    "start_time": "2023-05-27T21:42:37.181Z"
   },
   {
    "duration": 1739,
    "start_time": "2023-05-27T21:42:37.726Z"
   },
   {
    "duration": 23,
    "start_time": "2023-05-27T21:42:39.466Z"
   },
   {
    "duration": 3,
    "start_time": "2023-05-27T21:42:39.491Z"
   },
   {
    "duration": 24,
    "start_time": "2023-05-27T21:42:39.496Z"
   },
   {
    "duration": 5,
    "start_time": "2023-05-27T21:42:39.779Z"
   },
   {
    "duration": 7,
    "start_time": "2023-05-27T21:42:40.153Z"
   },
   {
    "duration": 100,
    "start_time": "2023-05-27T21:42:40.900Z"
   },
   {
    "duration": 17,
    "start_time": "2023-05-27T21:42:41.284Z"
   },
   {
    "duration": 4,
    "start_time": "2023-05-27T21:42:41.470Z"
   },
   {
    "duration": 23,
    "start_time": "2023-05-27T21:42:58.324Z"
   },
   {
    "duration": 30,
    "start_time": "2023-05-27T21:44:28.793Z"
   },
   {
    "duration": 296,
    "start_time": "2023-05-27T21:44:37.606Z"
   },
   {
    "duration": 8,
    "start_time": "2023-05-27T21:48:03.001Z"
   },
   {
    "duration": 25,
    "start_time": "2023-05-27T21:49:02.229Z"
   },
   {
    "duration": 5,
    "start_time": "2023-05-27T21:51:15.794Z"
   },
   {
    "duration": 4,
    "start_time": "2023-05-27T21:51:58.009Z"
   },
   {
    "duration": 13,
    "start_time": "2023-05-27T21:52:19.023Z"
   },
   {
    "duration": 13,
    "start_time": "2023-05-27T21:52:34.415Z"
   },
   {
    "duration": 9,
    "start_time": "2023-05-27T21:55:30.632Z"
   },
   {
    "duration": 5,
    "start_time": "2023-05-27T21:55:41.200Z"
   },
   {
    "duration": 16,
    "start_time": "2023-05-27T21:55:49.957Z"
   },
   {
    "duration": 4,
    "start_time": "2023-05-27T21:56:09.789Z"
   },
   {
    "duration": 3,
    "start_time": "2023-05-27T21:56:10.297Z"
   },
   {
    "duration": 14,
    "start_time": "2023-05-27T21:56:16.402Z"
   },
   {
    "duration": 151,
    "start_time": "2023-05-27T21:59:51.688Z"
   },
   {
    "duration": 163,
    "start_time": "2023-05-27T21:59:58.378Z"
   },
   {
    "duration": 154,
    "start_time": "2023-05-27T22:00:09.946Z"
   },
   {
    "duration": 84,
    "start_time": "2023-05-27T22:00:16.855Z"
   },
   {
    "duration": 160,
    "start_time": "2023-05-27T22:00:22.659Z"
   },
   {
    "duration": 161,
    "start_time": "2023-05-27T22:00:29.839Z"
   },
   {
    "duration": 139,
    "start_time": "2023-05-27T22:00:42.060Z"
   },
   {
    "duration": 186,
    "start_time": "2023-05-27T22:01:28.113Z"
   },
   {
    "duration": 179,
    "start_time": "2023-05-27T22:02:10.828Z"
   },
   {
    "duration": 160,
    "start_time": "2023-05-27T22:02:27.689Z"
   },
   {
    "duration": 9,
    "start_time": "2023-05-27T22:02:33.938Z"
   },
   {
    "duration": 4,
    "start_time": "2023-05-27T22:03:58.823Z"
   },
   {
    "duration": 15,
    "start_time": "2023-05-27T22:04:07.278Z"
   },
   {
    "duration": 29,
    "start_time": "2023-05-27T22:05:08.149Z"
   },
   {
    "duration": 19,
    "start_time": "2023-05-27T22:05:20.461Z"
   },
   {
    "duration": 1215,
    "start_time": "2023-05-27T22:09:54.081Z"
   },
   {
    "duration": 1202,
    "start_time": "2023-05-27T22:10:09.538Z"
   },
   {
    "duration": 17,
    "start_time": "2023-05-27T22:10:51.194Z"
   },
   {
    "duration": 7,
    "start_time": "2023-05-27T22:11:29.038Z"
   },
   {
    "duration": 876,
    "start_time": "2023-05-28T20:57:17.463Z"
   },
   {
    "duration": 195,
    "start_time": "2023-05-28T20:57:18.341Z"
   },
   {
    "duration": 60,
    "start_time": "2023-05-28T20:57:18.537Z"
   },
   {
    "duration": 16,
    "start_time": "2023-05-28T20:57:18.599Z"
   },
   {
    "duration": 79,
    "start_time": "2023-05-28T20:57:18.616Z"
   },
   {
    "duration": 2163,
    "start_time": "2023-05-28T20:57:19.096Z"
   },
   {
    "duration": 47,
    "start_time": "2023-05-28T20:57:21.262Z"
   },
   {
    "duration": 12,
    "start_time": "2023-05-28T20:57:21.311Z"
   },
   {
    "duration": 33,
    "start_time": "2023-05-28T20:57:21.325Z"
   },
   {
    "duration": 19,
    "start_time": "2023-05-28T20:57:21.360Z"
   },
   {
    "duration": 9,
    "start_time": "2023-05-28T20:57:21.498Z"
   },
   {
    "duration": 5,
    "start_time": "2023-05-28T20:57:22.255Z"
   },
   {
    "duration": 23,
    "start_time": "2023-05-28T20:57:22.474Z"
   },
   {
    "duration": 27,
    "start_time": "2023-05-28T20:57:22.893Z"
   },
   {
    "duration": 19,
    "start_time": "2023-05-28T20:57:23.083Z"
   },
   {
    "duration": 28,
    "start_time": "2023-05-28T20:57:23.310Z"
   },
   {
    "duration": 17,
    "start_time": "2023-05-28T20:57:23.503Z"
   },
   {
    "duration": 30,
    "start_time": "2023-05-28T20:57:48.771Z"
   },
   {
    "duration": 37,
    "start_time": "2023-05-28T20:59:20.362Z"
   },
   {
    "duration": 5,
    "start_time": "2023-05-28T21:03:15.355Z"
   },
   {
    "duration": 76,
    "start_time": "2023-05-28T21:03:37.204Z"
   },
   {
    "duration": 22,
    "start_time": "2023-05-28T21:03:55.871Z"
   },
   {
    "duration": 19,
    "start_time": "2023-05-28T21:04:14.104Z"
   },
   {
    "duration": 133,
    "start_time": "2023-05-28T21:04:33.990Z"
   },
   {
    "duration": 40,
    "start_time": "2023-05-28T21:04:45.290Z"
   },
   {
    "duration": 189,
    "start_time": "2023-05-28T21:05:34.554Z"
   },
   {
    "duration": 60,
    "start_time": "2023-06-05T10:25:38.076Z"
   },
   {
    "duration": 838,
    "start_time": "2023-06-05T10:26:01.309Z"
   },
   {
    "duration": 734,
    "start_time": "2023-06-05T10:26:02.150Z"
   },
   {
    "duration": 48,
    "start_time": "2023-06-05T10:26:02.886Z"
   },
   {
    "duration": 14,
    "start_time": "2023-06-05T10:26:02.936Z"
   },
   {
    "duration": 77,
    "start_time": "2023-06-05T10:26:02.951Z"
   },
   {
    "duration": 2059,
    "start_time": "2023-06-05T10:26:03.030Z"
   },
   {
    "duration": 26,
    "start_time": "2023-06-05T10:26:05.091Z"
   },
   {
    "duration": 77,
    "start_time": "2023-06-05T10:26:05.118Z"
   },
   {
    "duration": 12,
    "start_time": "2023-06-05T10:27:28.093Z"
   },
   {
    "duration": 7,
    "start_time": "2023-06-05T10:27:40.041Z"
   },
   {
    "duration": 25,
    "start_time": "2023-06-05T10:29:30.570Z"
   },
   {
    "duration": 12,
    "start_time": "2023-06-05T10:29:59.561Z"
   },
   {
    "duration": 4527,
    "start_time": "2023-06-05T10:35:00.413Z"
   },
   {
    "duration": 21,
    "start_time": "2023-06-05T10:35:13.631Z"
   },
   {
    "duration": 6,
    "start_time": "2023-06-05T10:36:44.864Z"
   },
   {
    "duration": 22,
    "start_time": "2023-06-05T10:38:39.299Z"
   },
   {
    "duration": 26,
    "start_time": "2023-06-05T10:42:41.069Z"
   },
   {
    "duration": 32,
    "start_time": "2023-06-05T10:42:55.343Z"
   },
   {
    "duration": 4,
    "start_time": "2023-06-05T10:44:18.653Z"
   },
   {
    "duration": 13,
    "start_time": "2023-06-05T10:47:09.432Z"
   },
   {
    "duration": 12,
    "start_time": "2023-06-05T10:48:01.033Z"
   },
   {
    "duration": 37,
    "start_time": "2023-06-05T10:48:52.576Z"
   },
   {
    "duration": 8,
    "start_time": "2023-06-05T10:48:55.890Z"
   },
   {
    "duration": 14,
    "start_time": "2023-06-05T10:50:25.034Z"
   },
   {
    "duration": 76,
    "start_time": "2023-06-05T10:54:37.370Z"
   },
   {
    "duration": 54,
    "start_time": "2023-06-05T10:54:42.481Z"
   },
   {
    "duration": 19,
    "start_time": "2023-06-05T10:54:51.096Z"
   },
   {
    "duration": 1620,
    "start_time": "2023-06-05T10:54:56.669Z"
   },
   {
    "duration": 394,
    "start_time": "2023-06-05T10:55:29.923Z"
   },
   {
    "duration": 311,
    "start_time": "2023-06-05T10:58:28.622Z"
   },
   {
    "duration": 328,
    "start_time": "2023-06-05T10:58:34.078Z"
   },
   {
    "duration": 32,
    "start_time": "2023-06-05T10:59:57.991Z"
   },
   {
    "duration": 42,
    "start_time": "2023-06-05T11:00:02.609Z"
   },
   {
    "duration": 227,
    "start_time": "2023-06-05T11:03:08.637Z"
   },
   {
    "duration": 300,
    "start_time": "2023-06-05T11:03:36.625Z"
   },
   {
    "duration": 226,
    "start_time": "2023-06-05T11:04:08.653Z"
   },
   {
    "duration": 255,
    "start_time": "2023-06-05T11:04:24.567Z"
   },
   {
    "duration": 326,
    "start_time": "2023-06-05T11:05:15.568Z"
   },
   {
    "duration": 7,
    "start_time": "2023-06-05T11:11:56.668Z"
   },
   {
    "duration": 56,
    "start_time": "2023-06-05T11:12:01.059Z"
   },
   {
    "duration": 8,
    "start_time": "2023-06-05T11:19:17.276Z"
   },
   {
    "duration": 138,
    "start_time": "2023-06-05T11:19:22.099Z"
   },
   {
    "duration": 135,
    "start_time": "2023-06-05T11:20:07.346Z"
   },
   {
    "duration": 132,
    "start_time": "2023-06-05T11:20:23.980Z"
   },
   {
    "duration": 145,
    "start_time": "2023-06-05T11:20:27.728Z"
   },
   {
    "duration": 125,
    "start_time": "2023-06-05T11:20:51.390Z"
   },
   {
    "duration": 161,
    "start_time": "2023-06-05T11:20:56.283Z"
   },
   {
    "duration": 133,
    "start_time": "2023-06-05T11:22:48.083Z"
   },
   {
    "duration": 119,
    "start_time": "2023-06-05T11:22:54.445Z"
   },
   {
    "duration": 118,
    "start_time": "2023-06-05T11:23:55.461Z"
   },
   {
    "duration": 125,
    "start_time": "2023-06-05T11:24:09.085Z"
   },
   {
    "duration": 118,
    "start_time": "2023-06-05T11:24:23.648Z"
   },
   {
    "duration": 153,
    "start_time": "2023-06-05T11:24:47.573Z"
   },
   {
    "duration": 139,
    "start_time": "2023-06-05T11:24:54.108Z"
   },
   {
    "duration": 141,
    "start_time": "2023-06-05T11:25:00.410Z"
   },
   {
    "duration": 127,
    "start_time": "2023-06-05T11:26:09.051Z"
   },
   {
    "duration": 128,
    "start_time": "2023-06-05T11:26:19.947Z"
   },
   {
    "duration": 220,
    "start_time": "2023-06-05T11:28:26.403Z"
   },
   {
    "duration": 158,
    "start_time": "2023-06-05T11:28:49.392Z"
   },
   {
    "duration": 145,
    "start_time": "2023-06-05T11:29:11.183Z"
   },
   {
    "duration": 141,
    "start_time": "2023-06-05T11:33:12.791Z"
   },
   {
    "duration": 187,
    "start_time": "2023-06-05T11:33:23.664Z"
   },
   {
    "duration": 169,
    "start_time": "2023-06-05T11:33:32.774Z"
   },
   {
    "duration": 165,
    "start_time": "2023-06-05T11:34:37.817Z"
   },
   {
    "duration": 189,
    "start_time": "2023-06-05T11:36:56.494Z"
   },
   {
    "duration": 159,
    "start_time": "2023-06-05T11:37:58.479Z"
   },
   {
    "duration": 171,
    "start_time": "2023-06-05T11:40:17.661Z"
   },
   {
    "duration": 190,
    "start_time": "2023-06-05T11:40:22.475Z"
   },
   {
    "duration": 209,
    "start_time": "2023-06-05T11:40:35.301Z"
   },
   {
    "duration": 146,
    "start_time": "2023-06-05T11:40:43.580Z"
   },
   {
    "duration": 145,
    "start_time": "2023-06-05T11:40:47.880Z"
   },
   {
    "duration": 127,
    "start_time": "2023-06-05T11:41:44.309Z"
   },
   {
    "duration": 195,
    "start_time": "2023-06-05T11:41:46.305Z"
   },
   {
    "duration": 160,
    "start_time": "2023-06-05T11:41:47.163Z"
   },
   {
    "duration": 153,
    "start_time": "2023-06-05T11:41:50.633Z"
   },
   {
    "duration": 143,
    "start_time": "2023-06-05T11:41:52.021Z"
   },
   {
    "duration": 139,
    "start_time": "2023-06-05T11:42:03.563Z"
   },
   {
    "duration": 172,
    "start_time": "2023-06-05T11:42:16.360Z"
   },
   {
    "duration": 147,
    "start_time": "2023-06-05T11:44:38.775Z"
   },
   {
    "duration": 243,
    "start_time": "2023-06-05T11:44:39.563Z"
   },
   {
    "duration": 157,
    "start_time": "2023-06-05T11:44:40.283Z"
   },
   {
    "duration": 146,
    "start_time": "2023-06-05T11:44:40.898Z"
   },
   {
    "duration": 130,
    "start_time": "2023-06-05T11:45:20.417Z"
   },
   {
    "duration": 137,
    "start_time": "2023-06-05T11:45:30.765Z"
   },
   {
    "duration": 158,
    "start_time": "2023-06-05T11:45:39.613Z"
   },
   {
    "duration": 152,
    "start_time": "2023-06-05T11:45:56.777Z"
   },
   {
    "duration": 146,
    "start_time": "2023-06-05T11:46:34.141Z"
   },
   {
    "duration": 144,
    "start_time": "2023-06-05T11:46:59.103Z"
   },
   {
    "duration": 2,
    "start_time": "2023-06-05T11:47:37.029Z"
   },
   {
    "duration": 103,
    "start_time": "2023-06-05T11:47:37.320Z"
   },
   {
    "duration": 40,
    "start_time": "2023-06-05T11:47:37.652Z"
   },
   {
    "duration": 17,
    "start_time": "2023-06-05T11:47:37.803Z"
   },
   {
    "duration": 15,
    "start_time": "2023-06-05T11:47:37.968Z"
   },
   {
    "duration": 1829,
    "start_time": "2023-06-05T11:47:38.465Z"
   },
   {
    "duration": 25,
    "start_time": "2023-06-05T11:47:40.296Z"
   },
   {
    "duration": 154,
    "start_time": "2023-06-05T11:47:40.323Z"
   },
   {
    "duration": 321,
    "start_time": "2023-06-05T11:47:40.480Z"
   },
   {
    "duration": 55,
    "start_time": "2023-06-05T11:47:40.844Z"
   },
   {
    "duration": 134,
    "start_time": "2023-06-05T11:47:41.179Z"
   },
   {
    "duration": 235,
    "start_time": "2023-06-05T11:47:41.510Z"
   },
   {
    "duration": 171,
    "start_time": "2023-06-05T11:47:41.864Z"
   },
   {
    "duration": 153,
    "start_time": "2023-06-05T11:47:42.194Z"
   },
   {
    "duration": 134,
    "start_time": "2023-06-05T11:47:42.524Z"
   },
   {
    "duration": 146,
    "start_time": "2023-06-05T11:47:42.881Z"
   },
   {
    "duration": 1661,
    "start_time": "2023-06-05T11:50:00.454Z"
   },
   {
    "duration": 1253,
    "start_time": "2023-06-05T11:50:20.391Z"
   },
   {
    "duration": 1271,
    "start_time": "2023-06-05T11:50:58.138Z"
   },
   {
    "duration": 390,
    "start_time": "2023-06-05T11:51:04.060Z"
   },
   {
    "duration": 54,
    "start_time": "2023-06-05T11:51:04.527Z"
   },
   {
    "duration": 132,
    "start_time": "2023-06-05T11:51:04.852Z"
   },
   {
    "duration": 152,
    "start_time": "2023-06-05T11:51:05.182Z"
   },
   {
    "duration": 179,
    "start_time": "2023-06-05T11:51:05.524Z"
   },
   {
    "duration": 163,
    "start_time": "2023-06-05T11:51:05.864Z"
   },
   {
    "duration": 158,
    "start_time": "2023-06-05T11:51:06.213Z"
   },
   {
    "duration": 178,
    "start_time": "2023-06-05T11:51:06.570Z"
   },
   {
    "duration": 158,
    "start_time": "2023-06-05T11:51:14.912Z"
   },
   {
    "duration": 1273,
    "start_time": "2023-06-05T11:51:42.924Z"
   },
   {
    "duration": 450,
    "start_time": "2023-06-05T11:51:46.085Z"
   },
   {
    "duration": 60,
    "start_time": "2023-06-05T11:51:46.585Z"
   },
   {
    "duration": 136,
    "start_time": "2023-06-05T11:51:46.934Z"
   },
   {
    "duration": 155,
    "start_time": "2023-06-05T11:51:47.323Z"
   },
   {
    "duration": 181,
    "start_time": "2023-06-05T11:51:47.635Z"
   },
   {
    "duration": 179,
    "start_time": "2023-06-05T11:51:47.983Z"
   },
   {
    "duration": 149,
    "start_time": "2023-06-05T11:51:48.329Z"
   },
   {
    "duration": 169,
    "start_time": "2023-06-05T11:51:48.674Z"
   },
   {
    "duration": 1306,
    "start_time": "2023-06-05T11:52:44.761Z"
   },
   {
    "duration": 1282,
    "start_time": "2023-06-05T11:53:00.308Z"
   },
   {
    "duration": 153,
    "start_time": "2023-06-05T11:53:14.845Z"
   },
   {
    "duration": 235,
    "start_time": "2023-06-05T11:53:42.462Z"
   },
   {
    "duration": 165,
    "start_time": "2023-06-05T11:54:35.816Z"
   },
   {
    "duration": 155,
    "start_time": "2023-06-05T11:54:40.707Z"
   },
   {
    "duration": 170,
    "start_time": "2023-06-05T12:00:27.932Z"
   },
   {
    "duration": 163,
    "start_time": "2023-06-05T12:00:37.684Z"
   },
   {
    "duration": 131,
    "start_time": "2023-06-05T12:01:24.657Z"
   },
   {
    "duration": 123,
    "start_time": "2023-06-05T12:02:25.401Z"
   },
   {
    "duration": 162,
    "start_time": "2023-06-05T12:04:43.669Z"
   },
   {
    "duration": 129,
    "start_time": "2023-06-05T12:05:03.024Z"
   },
   {
    "duration": 139,
    "start_time": "2023-06-05T12:05:09.681Z"
   },
   {
    "duration": 134,
    "start_time": "2023-06-05T12:05:21.829Z"
   },
   {
    "duration": 232,
    "start_time": "2023-06-05T12:05:26.191Z"
   },
   {
    "duration": 125,
    "start_time": "2023-06-05T12:06:12.617Z"
   },
   {
    "duration": 890,
    "start_time": "2023-06-05T12:08:43.957Z"
   },
   {
    "duration": 155,
    "start_time": "2023-06-05T12:08:51.800Z"
   },
   {
    "duration": 146,
    "start_time": "2023-06-05T12:09:25.763Z"
   },
   {
    "duration": 203,
    "start_time": "2023-06-05T12:12:25.680Z"
   },
   {
    "duration": 145,
    "start_time": "2023-06-05T12:12:45.308Z"
   },
   {
    "duration": 132,
    "start_time": "2023-06-05T12:17:53.769Z"
   },
   {
    "duration": 145,
    "start_time": "2023-06-05T12:18:15.132Z"
   },
   {
    "duration": 142,
    "start_time": "2023-06-05T12:18:35.401Z"
   },
   {
    "duration": 138,
    "start_time": "2023-06-05T12:18:44.737Z"
   },
   {
    "duration": 148,
    "start_time": "2023-06-05T12:19:01.352Z"
   },
   {
    "duration": 237,
    "start_time": "2023-06-05T12:21:56.508Z"
   },
   {
    "duration": 140,
    "start_time": "2023-06-05T12:22:18.300Z"
   },
   {
    "duration": 134,
    "start_time": "2023-06-05T12:22:35.592Z"
   },
   {
    "duration": 130,
    "start_time": "2023-06-05T12:22:58.833Z"
   },
   {
    "duration": 149,
    "start_time": "2023-06-05T12:24:42.187Z"
   },
   {
    "duration": 129,
    "start_time": "2023-06-05T12:24:49.780Z"
   },
   {
    "duration": 137,
    "start_time": "2023-06-05T12:24:58.344Z"
   },
   {
    "duration": 132,
    "start_time": "2023-06-05T12:25:27.280Z"
   },
   {
    "duration": 2,
    "start_time": "2023-06-05T21:21:25.768Z"
   },
   {
    "duration": 95,
    "start_time": "2023-06-05T21:21:26.107Z"
   },
   {
    "duration": 39,
    "start_time": "2023-06-05T21:21:26.455Z"
   },
   {
    "duration": 20,
    "start_time": "2023-06-05T21:21:26.637Z"
   },
   {
    "duration": 23,
    "start_time": "2023-06-05T21:21:26.813Z"
   },
   {
    "duration": 1871,
    "start_time": "2023-06-05T21:21:27.323Z"
   },
   {
    "duration": 28,
    "start_time": "2023-06-05T21:21:29.197Z"
   },
   {
    "duration": 1595,
    "start_time": "2023-06-05T21:21:29.228Z"
   },
   {
    "duration": 352,
    "start_time": "2023-06-05T21:21:30.825Z"
   },
   {
    "duration": 57,
    "start_time": "2023-06-05T21:21:31.179Z"
   },
   {
    "duration": 160,
    "start_time": "2023-06-05T21:21:31.237Z"
   },
   {
    "duration": 172,
    "start_time": "2023-06-05T21:21:31.398Z"
   },
   {
    "duration": 304,
    "start_time": "2023-06-05T21:21:31.576Z"
   },
   {
    "duration": 167,
    "start_time": "2023-06-05T21:21:31.882Z"
   },
   {
    "duration": 151,
    "start_time": "2023-06-05T21:21:32.052Z"
   },
   {
    "duration": 146,
    "start_time": "2023-06-05T21:21:32.205Z"
   },
   {
    "duration": 130,
    "start_time": "2023-06-05T21:21:32.353Z"
   },
   {
    "duration": 131,
    "start_time": "2023-06-05T21:21:32.681Z"
   },
   {
    "duration": 146,
    "start_time": "2023-06-05T21:21:33.068Z"
   },
   {
    "duration": 141,
    "start_time": "2023-06-05T21:21:33.469Z"
   },
   {
    "duration": 155,
    "start_time": "2023-06-05T21:21:34.051Z"
   },
   {
    "duration": 129,
    "start_time": "2023-06-05T21:21:34.882Z"
   },
   {
    "duration": 131,
    "start_time": "2023-06-05T21:21:36.403Z"
   },
   {
    "duration": 3,
    "start_time": "2023-06-06T10:01:03.351Z"
   },
   {
    "duration": 105,
    "start_time": "2023-06-06T10:01:03.675Z"
   },
   {
    "duration": 37,
    "start_time": "2023-06-06T10:01:04.013Z"
   },
   {
    "duration": 13,
    "start_time": "2023-06-06T10:01:04.173Z"
   },
   {
    "duration": 81,
    "start_time": "2023-06-06T10:01:04.332Z"
   },
   {
    "duration": 1828,
    "start_time": "2023-06-06T10:01:04.802Z"
   },
   {
    "duration": 25,
    "start_time": "2023-06-06T10:01:06.632Z"
   },
   {
    "duration": 1605,
    "start_time": "2023-06-06T10:01:06.659Z"
   },
   {
    "duration": 405,
    "start_time": "2023-06-06T10:01:08.266Z"
   },
   {
    "duration": 56,
    "start_time": "2023-06-06T10:01:08.673Z"
   },
   {
    "duration": 142,
    "start_time": "2023-06-06T10:01:08.730Z"
   },
   {
    "duration": 152,
    "start_time": "2023-06-06T10:01:08.878Z"
   },
   {
    "duration": 167,
    "start_time": "2023-06-06T10:01:09.032Z"
   },
   {
    "duration": 165,
    "start_time": "2023-06-06T10:01:09.201Z"
   },
   {
    "duration": 148,
    "start_time": "2023-06-06T10:01:09.368Z"
   },
   {
    "duration": 148,
    "start_time": "2023-06-06T10:01:09.517Z"
   },
   {
    "duration": 126,
    "start_time": "2023-06-06T10:01:09.667Z"
   },
   {
    "duration": 130,
    "start_time": "2023-06-06T10:01:09.903Z"
   },
   {
    "duration": 152,
    "start_time": "2023-06-06T10:01:10.233Z"
   },
   {
    "duration": 139,
    "start_time": "2023-06-06T10:01:10.579Z"
   },
   {
    "duration": 213,
    "start_time": "2023-06-06T10:01:10.938Z"
   },
   {
    "duration": 135,
    "start_time": "2023-06-06T10:01:11.259Z"
   },
   {
    "duration": 132,
    "start_time": "2023-06-06T10:01:11.605Z"
   },
   {
    "duration": 359,
    "start_time": "2023-06-06T10:06:19.632Z"
   },
   {
    "duration": 348,
    "start_time": "2023-06-06T10:08:25.299Z"
   },
   {
    "duration": 394,
    "start_time": "2023-06-06T10:09:04.475Z"
   },
   {
    "duration": 12,
    "start_time": "2023-06-06T10:09:12.724Z"
   },
   {
    "duration": 11,
    "start_time": "2023-06-06T10:09:23.153Z"
   },
   {
    "duration": 800,
    "start_time": "2023-06-06T14:41:57.146Z"
   },
   {
    "duration": 670,
    "start_time": "2023-06-06T14:41:57.948Z"
   },
   {
    "duration": 44,
    "start_time": "2023-06-06T14:41:58.619Z"
   },
   {
    "duration": 14,
    "start_time": "2023-06-06T14:41:58.664Z"
   },
   {
    "duration": 75,
    "start_time": "2023-06-06T14:41:58.680Z"
   },
   {
    "duration": 1718,
    "start_time": "2023-06-06T14:41:58.756Z"
   },
   {
    "duration": 23,
    "start_time": "2023-06-06T14:42:00.475Z"
   },
   {
    "duration": 1392,
    "start_time": "2023-06-06T14:42:00.500Z"
   },
   {
    "duration": 334,
    "start_time": "2023-06-06T14:42:01.894Z"
   },
   {
    "duration": 49,
    "start_time": "2023-06-06T14:42:02.231Z"
   },
   {
    "duration": 131,
    "start_time": "2023-06-06T14:42:02.281Z"
   },
   {
    "duration": 130,
    "start_time": "2023-06-06T14:42:02.415Z"
   },
   {
    "duration": 211,
    "start_time": "2023-06-06T14:42:02.546Z"
   },
   {
    "duration": 141,
    "start_time": "2023-06-06T14:42:02.759Z"
   },
   {
    "duration": 127,
    "start_time": "2023-06-06T14:42:02.901Z"
   },
   {
    "duration": 131,
    "start_time": "2023-06-06T14:42:03.030Z"
   },
   {
    "duration": 111,
    "start_time": "2023-06-06T14:42:03.163Z"
   },
   {
    "duration": 121,
    "start_time": "2023-06-06T14:42:03.275Z"
   },
   {
    "duration": 136,
    "start_time": "2023-06-06T14:42:03.397Z"
   },
   {
    "duration": 131,
    "start_time": "2023-06-06T14:42:03.534Z"
   },
   {
    "duration": 123,
    "start_time": "2023-06-06T14:42:03.666Z"
   },
   {
    "duration": 127,
    "start_time": "2023-06-06T14:42:03.790Z"
   },
   {
    "duration": 122,
    "start_time": "2023-06-06T14:42:03.919Z"
   },
   {
    "duration": 351,
    "start_time": "2023-06-06T14:42:04.043Z"
   },
   {
    "duration": 11,
    "start_time": "2023-06-06T14:42:04.395Z"
   },
   {
    "duration": 64,
    "start_time": "2023-06-09T10:14:42.384Z"
   },
   {
    "duration": 7,
    "start_time": "2023-06-09T10:15:11.757Z"
   },
   {
    "duration": 962,
    "start_time": "2023-06-09T10:15:24.612Z"
   },
   {
    "duration": 678,
    "start_time": "2023-06-09T10:15:25.577Z"
   },
   {
    "duration": 59,
    "start_time": "2023-06-09T10:15:26.257Z"
   },
   {
    "duration": 38,
    "start_time": "2023-06-09T10:15:26.319Z"
   },
   {
    "duration": 66,
    "start_time": "2023-06-09T10:15:26.359Z"
   },
   {
    "duration": 2168,
    "start_time": "2023-06-09T10:15:26.428Z"
   },
   {
    "duration": 28,
    "start_time": "2023-06-09T10:15:28.598Z"
   },
   {
    "duration": 1712,
    "start_time": "2023-06-09T10:15:28.628Z"
   },
   {
    "duration": 350,
    "start_time": "2023-06-09T10:15:30.342Z"
   },
   {
    "duration": 69,
    "start_time": "2023-06-09T10:15:30.694Z"
   },
   {
    "duration": 161,
    "start_time": "2023-06-09T10:15:30.765Z"
   },
   {
    "duration": 262,
    "start_time": "2023-06-09T10:15:30.928Z"
   },
   {
    "duration": 208,
    "start_time": "2023-06-09T10:15:31.192Z"
   },
   {
    "duration": 195,
    "start_time": "2023-06-09T10:15:31.402Z"
   },
   {
    "duration": 175,
    "start_time": "2023-06-09T10:15:31.599Z"
   },
   {
    "duration": 180,
    "start_time": "2023-06-09T10:15:31.778Z"
   },
   {
    "duration": 142,
    "start_time": "2023-06-09T10:15:31.960Z"
   },
   {
    "duration": 157,
    "start_time": "2023-06-09T10:15:32.105Z"
   },
   {
    "duration": 181,
    "start_time": "2023-06-09T10:15:32.265Z"
   },
   {
    "duration": 216,
    "start_time": "2023-06-09T10:15:32.450Z"
   },
   {
    "duration": 149,
    "start_time": "2023-06-09T10:15:32.787Z"
   },
   {
    "duration": 150,
    "start_time": "2023-06-09T10:15:33.156Z"
   },
   {
    "duration": 211,
    "start_time": "2023-06-09T10:15:33.553Z"
   },
   {
    "duration": 409,
    "start_time": "2023-06-09T10:15:34.092Z"
   },
   {
    "duration": 12,
    "start_time": "2023-06-09T10:15:34.503Z"
   },
   {
    "duration": 43,
    "start_time": "2023-06-09T10:15:34.927Z"
   },
   {
    "duration": 11,
    "start_time": "2023-06-09T10:15:44.392Z"
   },
   {
    "duration": 24090,
    "start_time": "2023-06-09T10:17:27.966Z"
   },
   {
    "duration": 731,
    "start_time": "2023-06-10T09:29:41.852Z"
   },
   {
    "duration": 321,
    "start_time": "2023-06-10T09:29:42.585Z"
   },
   {
    "duration": 39,
    "start_time": "2023-06-10T09:29:42.907Z"
   },
   {
    "duration": 13,
    "start_time": "2023-06-10T09:29:42.948Z"
   },
   {
    "duration": 69,
    "start_time": "2023-06-10T09:29:42.963Z"
   },
   {
    "duration": 1750,
    "start_time": "2023-06-10T09:29:43.034Z"
   },
   {
    "duration": 22,
    "start_time": "2023-06-10T09:29:44.786Z"
   },
   {
    "duration": 1368,
    "start_time": "2023-06-10T09:29:44.810Z"
   },
   {
    "duration": 341,
    "start_time": "2023-06-10T09:29:46.180Z"
   },
   {
    "duration": 50,
    "start_time": "2023-06-10T09:29:46.522Z"
   },
   {
    "duration": 133,
    "start_time": "2023-06-10T09:29:46.574Z"
   },
   {
    "duration": 145,
    "start_time": "2023-06-10T09:29:46.708Z"
   },
   {
    "duration": 223,
    "start_time": "2023-06-10T09:29:46.855Z"
   },
   {
    "duration": 149,
    "start_time": "2023-06-10T09:29:47.080Z"
   },
   {
    "duration": 135,
    "start_time": "2023-06-10T09:29:47.231Z"
   },
   {
    "duration": 134,
    "start_time": "2023-06-10T09:29:47.367Z"
   },
   {
    "duration": 111,
    "start_time": "2023-06-10T09:29:47.609Z"
   },
   {
    "duration": 124,
    "start_time": "2023-06-10T09:29:47.980Z"
   },
   {
    "duration": 125,
    "start_time": "2023-06-10T09:29:48.366Z"
   },
   {
    "duration": 125,
    "start_time": "2023-06-10T09:29:48.747Z"
   },
   {
    "duration": 122,
    "start_time": "2023-06-10T09:29:49.295Z"
   },
   {
    "duration": 112,
    "start_time": "2023-06-10T09:29:50.060Z"
   },
   {
    "duration": 115,
    "start_time": "2023-06-10T09:29:50.452Z"
   },
   {
    "duration": 334,
    "start_time": "2023-06-10T09:29:51.065Z"
   },
   {
    "duration": 12,
    "start_time": "2023-06-10T09:29:51.588Z"
   },
   {
    "duration": 18391,
    "start_time": "2023-06-10T09:29:53.123Z"
   },
   {
    "duration": 166,
    "start_time": "2023-06-10T09:31:16.388Z"
   },
   {
    "duration": 81,
    "start_time": "2023-06-10T09:31:44.288Z"
   },
   {
    "duration": 173,
    "start_time": "2023-06-10T09:32:08.372Z"
   },
   {
    "duration": 155,
    "start_time": "2023-06-10T09:32:24.456Z"
   },
   {
    "duration": 347,
    "start_time": "2023-06-10T09:32:34.122Z"
   },
   {
    "duration": 159,
    "start_time": "2023-06-10T09:32:45.269Z"
   },
   {
    "duration": 11,
    "start_time": "2023-06-10T09:33:13.070Z"
   },
   {
    "duration": 19229,
    "start_time": "2023-06-10T09:33:20.950Z"
   },
   {
    "duration": 160,
    "start_time": "2023-06-10T09:34:36.465Z"
   },
   {
    "duration": 416,
    "start_time": "2023-06-10T09:34:43.765Z"
   },
   {
    "duration": 172,
    "start_time": "2023-06-10T09:35:00.850Z"
   },
   {
    "duration": 178,
    "start_time": "2023-06-10T09:35:31.171Z"
   },
   {
    "duration": 151,
    "start_time": "2023-06-10T09:35:46.399Z"
   },
   {
    "duration": 195,
    "start_time": "2023-06-10T09:35:59.308Z"
   },
   {
    "duration": 168,
    "start_time": "2023-06-10T09:36:48.647Z"
   },
   {
    "duration": 165,
    "start_time": "2023-06-10T09:38:03.449Z"
   },
   {
    "duration": 163,
    "start_time": "2023-06-10T09:38:20.607Z"
   },
   {
    "duration": 172,
    "start_time": "2023-06-10T09:38:42.081Z"
   },
   {
    "duration": 14,
    "start_time": "2023-06-10T09:39:51.173Z"
   },
   {
    "duration": 13,
    "start_time": "2023-06-10T09:39:58.587Z"
   },
   {
    "duration": 16,
    "start_time": "2023-06-10T09:40:06.785Z"
   },
   {
    "duration": 12,
    "start_time": "2023-06-10T09:40:13.196Z"
   },
   {
    "duration": 175,
    "start_time": "2023-06-10T09:41:32.153Z"
   },
   {
    "duration": 164,
    "start_time": "2023-06-10T09:41:55.351Z"
   },
   {
    "duration": 193,
    "start_time": "2023-06-10T09:43:29.000Z"
   },
   {
    "duration": 76,
    "start_time": "2023-06-10T09:44:09.147Z"
   },
   {
    "duration": 145,
    "start_time": "2023-06-10T09:44:28.843Z"
   },
   {
    "duration": 137,
    "start_time": "2023-06-10T09:45:07.756Z"
   },
   {
    "duration": 146,
    "start_time": "2023-06-10T09:47:21.125Z"
   },
   {
    "duration": 149,
    "start_time": "2023-06-10T09:47:41.869Z"
   },
   {
    "duration": 142,
    "start_time": "2023-06-10T09:47:57.878Z"
   },
   {
    "duration": 140,
    "start_time": "2023-06-10T09:49:22.946Z"
   },
   {
    "duration": 122,
    "start_time": "2023-06-10T09:51:03.452Z"
   },
   {
    "duration": 127,
    "start_time": "2023-06-10T09:52:24.792Z"
   },
   {
    "duration": 145,
    "start_time": "2023-06-10T09:52:31.898Z"
   },
   {
    "duration": 124,
    "start_time": "2023-06-10T09:52:46.555Z"
   },
   {
    "duration": 203,
    "start_time": "2023-06-10T09:52:47.010Z"
   },
   {
    "duration": 130,
    "start_time": "2023-06-10T09:52:47.360Z"
   },
   {
    "duration": 164,
    "start_time": "2023-06-10T09:52:47.721Z"
   },
   {
    "duration": 136,
    "start_time": "2023-06-10T09:52:48.309Z"
   },
   {
    "duration": 156,
    "start_time": "2023-06-10T09:52:57.095Z"
   },
   {
    "duration": 125,
    "start_time": "2023-06-10T09:53:06.264Z"
   },
   {
    "duration": 151,
    "start_time": "2023-06-10T09:54:27.142Z"
   },
   {
    "duration": 148,
    "start_time": "2023-06-10T09:55:47.440Z"
   },
   {
    "duration": 148,
    "start_time": "2023-06-10T09:55:58.193Z"
   },
   {
    "duration": 157,
    "start_time": "2023-06-10T09:56:11.112Z"
   },
   {
    "duration": 147,
    "start_time": "2023-06-10T09:57:11.594Z"
   },
   {
    "duration": 13,
    "start_time": "2023-06-10T09:57:44.460Z"
   },
   {
    "duration": 198,
    "start_time": "2023-06-10T09:57:49.421Z"
   },
   {
    "duration": 3,
    "start_time": "2023-06-10T09:59:55.579Z"
   },
   {
    "duration": 5,
    "start_time": "2023-06-10T10:05:04.442Z"
   },
   {
    "duration": 1009,
    "start_time": "2023-06-10T10:05:12.801Z"
   },
   {
    "duration": 12,
    "start_time": "2023-06-10T10:06:24.242Z"
   },
   {
    "duration": 12,
    "start_time": "2023-06-10T10:07:13.442Z"
   },
   {
    "duration": 967,
    "start_time": "2023-06-10T10:07:18.012Z"
   },
   {
    "duration": 11,
    "start_time": "2023-06-10T10:07:26.883Z"
   },
   {
    "duration": 21,
    "start_time": "2023-06-10T10:09:15.735Z"
   },
   {
    "duration": 18,
    "start_time": "2023-06-10T10:09:26.369Z"
   },
   {
    "duration": 12,
    "start_time": "2023-06-10T10:11:36.868Z"
   },
   {
    "duration": 11,
    "start_time": "2023-06-10T10:11:42.808Z"
   },
   {
    "duration": 11,
    "start_time": "2023-06-10T10:11:49.159Z"
   },
   {
    "duration": 11,
    "start_time": "2023-06-10T10:12:10.238Z"
   },
   {
    "duration": 5,
    "start_time": "2023-06-10T10:12:30.990Z"
   },
   {
    "duration": 17,
    "start_time": "2023-06-10T10:12:34.802Z"
   },
   {
    "duration": 14,
    "start_time": "2023-06-10T10:14:08.450Z"
   },
   {
    "duration": 17,
    "start_time": "2023-06-10T10:14:39.652Z"
   },
   {
    "duration": 16,
    "start_time": "2023-06-10T10:14:48.762Z"
   },
   {
    "duration": 17,
    "start_time": "2023-06-10T10:15:25.834Z"
   },
   {
    "duration": 17,
    "start_time": "2023-06-10T10:18:51.856Z"
   },
   {
    "duration": 208,
    "start_time": "2023-06-10T10:19:07.264Z"
   },
   {
    "duration": 23,
    "start_time": "2023-06-10T10:20:15.232Z"
   },
   {
    "duration": 148,
    "start_time": "2023-06-10T10:21:03.945Z"
   },
   {
    "duration": 166,
    "start_time": "2023-06-10T10:21:49.096Z"
   },
   {
    "duration": 6,
    "start_time": "2023-06-10T10:21:58.212Z"
   },
   {
    "duration": 140,
    "start_time": "2023-06-10T10:22:10.333Z"
   },
   {
    "duration": 20,
    "start_time": "2023-06-10T10:23:57.434Z"
   },
   {
    "duration": 153,
    "start_time": "2023-06-10T10:24:06.594Z"
   },
   {
    "duration": 171,
    "start_time": "2023-06-10T10:24:29.897Z"
   },
   {
    "duration": 134,
    "start_time": "2023-06-10T10:25:51.456Z"
   },
   {
    "duration": 587,
    "start_time": "2023-06-10T11:45:18.551Z"
   },
   {
    "duration": 143,
    "start_time": "2023-06-10T11:45:19.139Z"
   },
   {
    "duration": 39,
    "start_time": "2023-06-10T11:45:19.284Z"
   },
   {
    "duration": 11,
    "start_time": "2023-06-10T11:45:19.325Z"
   },
   {
    "duration": 56,
    "start_time": "2023-06-10T11:45:19.338Z"
   },
   {
    "duration": 1617,
    "start_time": "2023-06-10T11:45:19.396Z"
   },
   {
    "duration": 22,
    "start_time": "2023-06-10T11:45:21.014Z"
   },
   {
    "duration": 1311,
    "start_time": "2023-06-10T11:45:21.037Z"
   },
   {
    "duration": 408,
    "start_time": "2023-06-10T11:45:22.350Z"
   },
   {
    "duration": 57,
    "start_time": "2023-06-10T11:45:22.761Z"
   },
   {
    "duration": 129,
    "start_time": "2023-06-10T11:45:22.820Z"
   },
   {
    "duration": 157,
    "start_time": "2023-06-10T11:45:22.951Z"
   },
   {
    "duration": 240,
    "start_time": "2023-06-10T11:45:23.110Z"
   },
   {
    "duration": 149,
    "start_time": "2023-06-10T11:45:23.351Z"
   },
   {
    "duration": 138,
    "start_time": "2023-06-10T11:45:23.505Z"
   },
   {
    "duration": 137,
    "start_time": "2023-06-10T11:45:23.645Z"
   },
   {
    "duration": 126,
    "start_time": "2023-06-10T11:45:23.783Z"
   },
   {
    "duration": 135,
    "start_time": "2023-06-10T11:45:23.910Z"
   },
   {
    "duration": 133,
    "start_time": "2023-06-10T11:45:24.047Z"
   },
   {
    "duration": 148,
    "start_time": "2023-06-10T11:45:24.182Z"
   },
   {
    "duration": 132,
    "start_time": "2023-06-10T11:45:24.332Z"
   },
   {
    "duration": 126,
    "start_time": "2023-06-10T11:45:24.466Z"
   },
   {
    "duration": 132,
    "start_time": "2023-06-10T11:45:24.593Z"
   },
   {
    "duration": 388,
    "start_time": "2023-06-10T11:45:24.727Z"
   },
   {
    "duration": 11,
    "start_time": "2023-06-10T11:45:25.117Z"
   },
   {
    "duration": 142,
    "start_time": "2023-06-10T11:45:25.130Z"
   },
   {
    "duration": 147,
    "start_time": "2023-06-10T11:45:25.273Z"
   },
   {
    "duration": 136,
    "start_time": "2023-06-10T11:45:25.422Z"
   },
   {
    "duration": 188,
    "start_time": "2023-06-10T11:45:25.559Z"
   },
   {
    "duration": 141,
    "start_time": "2023-06-10T11:45:25.748Z"
   },
   {
    "duration": 161,
    "start_time": "2023-06-10T11:45:25.890Z"
   },
   {
    "duration": 153,
    "start_time": "2023-06-10T11:45:26.053Z"
   },
   {
    "duration": 142,
    "start_time": "2023-06-10T11:45:26.208Z"
   },
   {
    "duration": 16,
    "start_time": "2023-06-10T11:45:26.352Z"
   },
   {
    "duration": 210,
    "start_time": "2023-06-10T11:45:26.370Z"
   },
   {
    "duration": 11,
    "start_time": "2023-06-10T11:49:29.643Z"
   },
   {
    "duration": 5,
    "start_time": "2023-06-10T11:52:31.790Z"
   },
   {
    "duration": 872,
    "start_time": "2023-06-10T18:49:59.857Z"
   },
   {
    "duration": 354,
    "start_time": "2023-06-10T18:50:01.017Z"
   },
   {
    "duration": 49,
    "start_time": "2023-06-10T18:50:15.587Z"
   },
   {
    "duration": 19,
    "start_time": "2023-06-10T18:50:18.065Z"
   },
   {
    "duration": 64,
    "start_time": "2023-06-10T18:50:21.625Z"
   },
   {
    "duration": 2286,
    "start_time": "2023-06-10T18:50:26.403Z"
   },
   {
    "duration": 33,
    "start_time": "2023-06-10T18:50:30.177Z"
   },
   {
    "duration": 1906,
    "start_time": "2023-06-10T18:50:31.091Z"
   },
   {
    "duration": 368,
    "start_time": "2023-06-10T18:52:23.388Z"
   },
   {
    "duration": 72,
    "start_time": "2023-06-10T18:52:28.069Z"
   },
   {
    "duration": 148,
    "start_time": "2023-06-10T18:52:31.026Z"
   },
   {
    "duration": 166,
    "start_time": "2023-06-10T18:52:36.164Z"
   },
   {
    "duration": 350,
    "start_time": "2023-06-10T18:52:39.116Z"
   },
   {
    "duration": 186,
    "start_time": "2023-06-10T18:52:40.971Z"
   },
   {
    "duration": 163,
    "start_time": "2023-06-10T18:52:41.366Z"
   },
   {
    "duration": 174,
    "start_time": "2023-06-10T18:52:49.120Z"
   },
   {
    "duration": 168,
    "start_time": "2023-06-10T18:52:50.105Z"
   },
   {
    "duration": 160,
    "start_time": "2023-06-10T18:53:16.769Z"
   },
   {
    "duration": 169,
    "start_time": "2023-06-10T18:53:17.743Z"
   },
   {
    "duration": 155,
    "start_time": "2023-06-10T18:53:18.887Z"
   },
   {
    "duration": 138,
    "start_time": "2023-06-10T18:53:19.455Z"
   },
   {
    "duration": 155,
    "start_time": "2023-06-10T18:53:19.986Z"
   },
   {
    "duration": 154,
    "start_time": "2023-06-10T18:53:20.187Z"
   },
   {
    "duration": 518,
    "start_time": "2023-06-10T18:53:25.806Z"
   },
   {
    "duration": 34,
    "start_time": "2023-06-10T18:53:26.327Z"
   },
   {
    "duration": 206,
    "start_time": "2023-06-10T18:53:26.980Z"
   },
   {
    "duration": 193,
    "start_time": "2023-06-10T18:53:27.484Z"
   },
   {
    "duration": 192,
    "start_time": "2023-06-10T18:53:27.841Z"
   },
   {
    "duration": 253,
    "start_time": "2023-06-10T18:53:28.217Z"
   },
   {
    "duration": 180,
    "start_time": "2023-06-10T18:53:28.674Z"
   },
   {
    "duration": 238,
    "start_time": "2023-06-10T18:53:29.081Z"
   },
   {
    "duration": 192,
    "start_time": "2023-06-10T18:53:29.443Z"
   },
   {
    "duration": 187,
    "start_time": "2023-06-10T18:53:29.799Z"
   },
   {
    "duration": 280,
    "start_time": "2023-06-10T18:54:51.770Z"
   },
   {
    "duration": 174,
    "start_time": "2023-06-10T18:55:30.651Z"
   },
   {
    "duration": 153,
    "start_time": "2023-06-10T18:56:36.053Z"
   },
   {
    "duration": 167,
    "start_time": "2023-06-10T18:56:56.468Z"
   },
   {
    "duration": 154,
    "start_time": "2023-06-10T18:57:23.035Z"
   },
   {
    "duration": 490,
    "start_time": "2023-06-10T18:57:43.386Z"
   },
   {
    "duration": 168,
    "start_time": "2023-06-10T18:58:26.744Z"
   },
   {
    "duration": 167,
    "start_time": "2023-06-10T18:58:43.323Z"
   },
   {
    "duration": 172,
    "start_time": "2023-06-10T18:58:43.655Z"
   },
   {
    "duration": 157,
    "start_time": "2023-06-10T18:58:44.392Z"
   },
   {
    "duration": 18,
    "start_time": "2023-06-10T18:59:02.197Z"
   },
   {
    "duration": 19,
    "start_time": "2023-06-10T18:59:27.011Z"
   },
   {
    "duration": 24,
    "start_time": "2023-06-10T19:00:32.745Z"
   },
   {
    "duration": 19,
    "start_time": "2023-06-10T19:00:39.038Z"
   },
   {
    "duration": 18,
    "start_time": "2023-06-10T19:00:48.717Z"
   },
   {
    "duration": 33,
    "start_time": "2023-06-10T19:02:14.598Z"
   },
   {
    "duration": 1603,
    "start_time": "2023-06-10T19:03:23.340Z"
   },
   {
    "duration": 1505,
    "start_time": "2023-06-10T19:03:40.612Z"
   },
   {
    "duration": 1486,
    "start_time": "2023-06-10T19:06:01.542Z"
   },
   {
    "duration": 1514,
    "start_time": "2023-06-10T19:06:20.145Z"
   },
   {
    "duration": 1456,
    "start_time": "2023-06-10T19:07:05.761Z"
   },
   {
    "duration": 1544,
    "start_time": "2023-06-10T19:07:18.333Z"
   },
   {
    "duration": 1441,
    "start_time": "2023-06-10T19:07:36.594Z"
   },
   {
    "duration": 28,
    "start_time": "2023-06-10T19:08:07.818Z"
   },
   {
    "duration": 46,
    "start_time": "2023-06-10T19:08:17.650Z"
   },
   {
    "duration": 1749,
    "start_time": "2023-06-10T19:08:39.661Z"
   },
   {
    "duration": 38,
    "start_time": "2023-06-10T19:10:32.854Z"
   },
   {
    "duration": 1317,
    "start_time": "2023-06-10T19:10:39.846Z"
   },
   {
    "duration": 33,
    "start_time": "2023-06-10T19:14:20.115Z"
   },
   {
    "duration": 33,
    "start_time": "2023-06-10T19:14:30.309Z"
   },
   {
    "duration": 34,
    "start_time": "2023-06-10T19:14:41.680Z"
   },
   {
    "duration": 1252,
    "start_time": "2023-06-10T19:14:49.637Z"
   },
   {
    "duration": 1178,
    "start_time": "2023-06-10T19:21:11.296Z"
   },
   {
    "duration": 325,
    "start_time": "2023-06-10T19:21:43.350Z"
   },
   {
    "duration": 64,
    "start_time": "2023-06-10T19:21:45.373Z"
   },
   {
    "duration": 151,
    "start_time": "2023-06-10T19:21:46.103Z"
   },
   {
    "duration": 159,
    "start_time": "2023-06-10T19:21:46.670Z"
   },
   {
    "duration": 183,
    "start_time": "2023-06-10T19:21:47.027Z"
   },
   {
    "duration": 172,
    "start_time": "2023-06-10T19:21:47.381Z"
   },
   {
    "duration": 153,
    "start_time": "2023-06-10T19:21:47.748Z"
   },
   {
    "duration": 236,
    "start_time": "2023-06-10T19:21:48.277Z"
   },
   {
    "duration": 225,
    "start_time": "2023-06-10T19:21:48.644Z"
   },
   {
    "duration": 163,
    "start_time": "2023-06-10T19:21:49.185Z"
   },
   {
    "duration": 153,
    "start_time": "2023-06-10T19:21:49.377Z"
   },
   {
    "duration": 149,
    "start_time": "2023-06-10T19:21:49.759Z"
   },
   {
    "duration": 150,
    "start_time": "2023-06-10T19:21:50.179Z"
   },
   {
    "duration": 140,
    "start_time": "2023-06-10T19:21:50.612Z"
   },
   {
    "duration": 138,
    "start_time": "2023-06-10T19:21:51.520Z"
   },
   {
    "duration": 430,
    "start_time": "2023-06-10T19:21:54.886Z"
   },
   {
    "duration": 15,
    "start_time": "2023-06-10T19:21:56.138Z"
   },
   {
    "duration": 165,
    "start_time": "2023-06-10T19:21:59.931Z"
   },
   {
    "duration": 264,
    "start_time": "2023-06-10T19:22:01.187Z"
   },
   {
    "duration": 173,
    "start_time": "2023-06-10T19:22:10.707Z"
   },
   {
    "duration": 147,
    "start_time": "2023-06-10T19:22:12.510Z"
   },
   {
    "duration": 1411,
    "start_time": "2023-06-10T19:25:11.663Z"
   },
   {
    "duration": 1261,
    "start_time": "2023-06-10T19:27:20.218Z"
   },
   {
    "duration": 348,
    "start_time": "2023-06-10T19:27:30.296Z"
   },
   {
    "duration": 60,
    "start_time": "2023-06-10T19:27:30.934Z"
   },
   {
    "duration": 147,
    "start_time": "2023-06-10T19:27:31.287Z"
   },
   {
    "duration": 185,
    "start_time": "2023-06-10T19:27:31.796Z"
   },
   {
    "duration": 312,
    "start_time": "2023-06-10T19:27:32.136Z"
   },
   {
    "duration": 177,
    "start_time": "2023-06-10T19:27:32.489Z"
   },
   {
    "duration": 164,
    "start_time": "2023-06-10T19:27:32.854Z"
   },
   {
    "duration": 168,
    "start_time": "2023-06-10T19:27:33.396Z"
   },
   {
    "duration": 138,
    "start_time": "2023-06-10T19:27:33.757Z"
   },
   {
    "duration": 155,
    "start_time": "2023-06-10T19:27:34.313Z"
   },
   {
    "duration": 157,
    "start_time": "2023-06-10T19:27:34.690Z"
   },
   {
    "duration": 153,
    "start_time": "2023-06-10T19:27:35.058Z"
   },
   {
    "duration": 162,
    "start_time": "2023-06-10T19:27:35.419Z"
   },
   {
    "duration": 153,
    "start_time": "2023-06-10T19:27:35.788Z"
   },
   {
    "duration": 142,
    "start_time": "2023-06-10T19:27:36.149Z"
   },
   {
    "duration": 546,
    "start_time": "2023-06-10T19:27:36.908Z"
   },
   {
    "duration": 15,
    "start_time": "2023-06-10T19:27:37.457Z"
   },
   {
    "duration": 167,
    "start_time": "2023-06-10T19:27:39.075Z"
   },
   {
    "duration": 187,
    "start_time": "2023-06-10T19:27:39.524Z"
   },
   {
    "duration": 181,
    "start_time": "2023-06-10T19:27:40.107Z"
   },
   {
    "duration": 182,
    "start_time": "2023-06-10T19:27:46.937Z"
   },
   {
    "duration": 173,
    "start_time": "2023-06-10T19:27:47.396Z"
   },
   {
    "duration": 211,
    "start_time": "2023-06-10T19:31:31.837Z"
   },
   {
    "duration": 171,
    "start_time": "2023-06-10T19:31:32.203Z"
   },
   {
    "duration": 167,
    "start_time": "2023-06-10T19:31:32.597Z"
   },
   {
    "duration": 260,
    "start_time": "2023-06-10T19:31:33.103Z"
   },
   {
    "duration": 197,
    "start_time": "2023-06-10T19:31:33.504Z"
   },
   {
    "duration": 184,
    "start_time": "2023-06-10T19:31:33.900Z"
   },
   {
    "duration": 170,
    "start_time": "2023-06-10T19:31:34.245Z"
   },
   {
    "duration": 19,
    "start_time": "2023-06-10T19:31:42.993Z"
   },
   {
    "duration": 201,
    "start_time": "2023-06-10T19:31:44.879Z"
   },
   {
    "duration": 875,
    "start_time": "2023-06-11T06:03:49.743Z"
   },
   {
    "duration": 125,
    "start_time": "2023-06-11T06:03:50.621Z"
   },
   {
    "duration": 78,
    "start_time": "2023-06-11T06:03:50.749Z"
   },
   {
    "duration": 14,
    "start_time": "2023-06-11T06:03:50.829Z"
   },
   {
    "duration": 79,
    "start_time": "2023-06-11T06:03:50.846Z"
   },
   {
    "duration": 2886,
    "start_time": "2023-06-11T06:03:50.927Z"
   },
   {
    "duration": 30,
    "start_time": "2023-06-11T06:03:53.814Z"
   },
   {
    "duration": 1335,
    "start_time": "2023-06-11T06:03:53.846Z"
   },
   {
    "duration": 341,
    "start_time": "2023-06-11T06:03:55.186Z"
   },
   {
    "duration": 77,
    "start_time": "2023-06-11T06:03:55.528Z"
   },
   {
    "duration": 283,
    "start_time": "2023-06-11T06:03:55.607Z"
   },
   {
    "duration": 418,
    "start_time": "2023-06-11T06:03:55.895Z"
   },
   {
    "duration": 450,
    "start_time": "2023-06-11T06:03:56.316Z"
   },
   {
    "duration": 332,
    "start_time": "2023-06-11T06:03:56.771Z"
   },
   {
    "duration": 315,
    "start_time": "2023-06-11T06:03:57.105Z"
   },
   {
    "duration": 337,
    "start_time": "2023-06-11T06:03:57.422Z"
   },
   {
    "duration": 341,
    "start_time": "2023-06-11T06:03:57.761Z"
   },
   {
    "duration": 285,
    "start_time": "2023-06-11T06:03:58.105Z"
   },
   {
    "duration": 323,
    "start_time": "2023-06-11T06:03:58.392Z"
   },
   {
    "duration": 342,
    "start_time": "2023-06-11T06:03:58.719Z"
   },
   {
    "duration": 317,
    "start_time": "2023-06-11T06:03:59.063Z"
   },
   {
    "duration": 309,
    "start_time": "2023-06-11T06:03:59.381Z"
   },
   {
    "duration": 383,
    "start_time": "2023-06-11T06:03:59.694Z"
   },
   {
    "duration": 560,
    "start_time": "2023-06-11T06:04:00.080Z"
   },
   {
    "duration": 15,
    "start_time": "2023-06-11T06:04:00.643Z"
   },
   {
    "duration": 535,
    "start_time": "2023-06-11T06:04:00.660Z"
   },
   {
    "duration": 416,
    "start_time": "2023-06-11T06:04:01.198Z"
   },
   {
    "duration": 324,
    "start_time": "2023-06-11T06:04:01.616Z"
   },
   {
    "duration": 358,
    "start_time": "2023-06-11T06:04:01.942Z"
   },
   {
    "duration": 303,
    "start_time": "2023-06-11T06:04:02.302Z"
   },
   {
    "duration": 483,
    "start_time": "2023-06-11T06:04:02.607Z"
   },
   {
    "duration": 387,
    "start_time": "2023-06-11T06:04:03.096Z"
   },
   {
    "duration": 325,
    "start_time": "2023-06-11T06:04:03.485Z"
   },
   {
    "duration": 19,
    "start_time": "2023-06-11T06:04:03.813Z"
   },
   {
    "duration": 372,
    "start_time": "2023-06-11T06:04:03.834Z"
   },
   {
    "duration": 46,
    "start_time": "2023-06-11T06:06:35.542Z"
   },
   {
    "duration": 13,
    "start_time": "2023-06-11T06:06:45.203Z"
   },
   {
    "duration": 36,
    "start_time": "2023-06-11T06:07:44.796Z"
   },
   {
    "duration": 29,
    "start_time": "2023-06-11T06:13:53.965Z"
   },
   {
    "duration": 756,
    "start_time": "2023-06-11T06:14:07.296Z"
   },
   {
    "duration": 110,
    "start_time": "2023-06-11T06:14:08.054Z"
   },
   {
    "duration": 51,
    "start_time": "2023-06-11T06:14:08.166Z"
   },
   {
    "duration": 16,
    "start_time": "2023-06-11T06:14:08.218Z"
   },
   {
    "duration": 71,
    "start_time": "2023-06-11T06:14:08.236Z"
   },
   {
    "duration": 2896,
    "start_time": "2023-06-11T06:14:08.308Z"
   },
   {
    "duration": 30,
    "start_time": "2023-06-11T06:14:11.206Z"
   },
   {
    "duration": 1248,
    "start_time": "2023-06-11T06:14:11.237Z"
   },
   {
    "duration": 340,
    "start_time": "2023-06-11T06:14:12.486Z"
   },
   {
    "duration": 65,
    "start_time": "2023-06-11T06:14:12.828Z"
   },
   {
    "duration": 286,
    "start_time": "2023-06-11T06:14:12.895Z"
   },
   {
    "duration": 415,
    "start_time": "2023-06-11T06:14:13.182Z"
   },
   {
    "duration": 323,
    "start_time": "2023-06-11T06:14:13.598Z"
   },
   {
    "duration": 320,
    "start_time": "2023-06-11T06:14:13.924Z"
   },
   {
    "duration": 332,
    "start_time": "2023-06-11T06:14:14.245Z"
   },
   {
    "duration": 301,
    "start_time": "2023-06-11T06:14:14.579Z"
   },
   {
    "duration": 297,
    "start_time": "2023-06-11T06:14:14.881Z"
   },
   {
    "duration": 302,
    "start_time": "2023-06-11T06:14:15.180Z"
   },
   {
    "duration": 310,
    "start_time": "2023-06-11T06:14:15.483Z"
   },
   {
    "duration": 298,
    "start_time": "2023-06-11T06:14:15.795Z"
   },
   {
    "duration": 286,
    "start_time": "2023-06-11T06:14:16.096Z"
   },
   {
    "duration": 289,
    "start_time": "2023-06-11T06:14:16.384Z"
   },
   {
    "duration": 277,
    "start_time": "2023-06-11T06:14:16.675Z"
   },
   {
    "duration": 578,
    "start_time": "2023-06-11T06:14:16.953Z"
   },
   {
    "duration": 14,
    "start_time": "2023-06-11T06:14:17.533Z"
   },
   {
    "duration": 330,
    "start_time": "2023-06-11T06:14:17.549Z"
   },
   {
    "duration": 397,
    "start_time": "2023-06-11T06:14:17.881Z"
   },
   {
    "duration": 313,
    "start_time": "2023-06-11T06:14:18.281Z"
   },
   {
    "duration": 314,
    "start_time": "2023-06-11T06:14:18.596Z"
   },
   {
    "duration": 274,
    "start_time": "2023-06-11T06:14:18.911Z"
   },
   {
    "duration": 509,
    "start_time": "2023-06-11T06:14:19.187Z"
   },
   {
    "duration": 312,
    "start_time": "2023-06-11T06:14:19.698Z"
   },
   {
    "duration": 291,
    "start_time": "2023-06-11T06:14:20.012Z"
   },
   {
    "duration": 18,
    "start_time": "2023-06-11T06:14:20.305Z"
   },
   {
    "duration": 386,
    "start_time": "2023-06-11T06:14:20.325Z"
   },
   {
    "duration": 3,
    "start_time": "2023-06-11T07:36:31.566Z"
   },
   {
    "duration": 91,
    "start_time": "2023-06-11T07:36:31.861Z"
   },
   {
    "duration": 37,
    "start_time": "2023-06-11T07:36:32.196Z"
   },
   {
    "duration": 14,
    "start_time": "2023-06-11T07:36:32.339Z"
   },
   {
    "duration": 14,
    "start_time": "2023-06-11T07:36:32.528Z"
   },
   {
    "duration": 1696,
    "start_time": "2023-06-11T07:36:35.312Z"
   },
   {
    "duration": 23,
    "start_time": "2023-06-11T07:36:38.300Z"
   },
   {
    "duration": 1142,
    "start_time": "2023-06-11T07:36:39.411Z"
   },
   {
    "duration": 13,
    "start_time": "2023-06-11T07:36:56.413Z"
   },
   {
    "duration": 738,
    "start_time": "2023-06-11T22:31:20.206Z"
   },
   {
    "duration": 153,
    "start_time": "2023-06-11T22:31:21.130Z"
   },
   {
    "duration": 39,
    "start_time": "2023-06-11T22:31:22.027Z"
   },
   {
    "duration": 18,
    "start_time": "2023-06-11T22:31:22.577Z"
   },
   {
    "duration": 48,
    "start_time": "2023-06-11T22:31:23.015Z"
   },
   {
    "duration": 1647,
    "start_time": "2023-06-11T22:31:24.450Z"
   },
   {
    "duration": 22,
    "start_time": "2023-06-11T22:31:27.188Z"
   },
   {
    "duration": 110,
    "start_time": "2023-06-11T22:31:28.390Z"
   },
   {
    "duration": 13,
    "start_time": "2023-06-11T22:31:30.018Z"
   },
   {
    "duration": 47,
    "start_time": "2023-06-11T22:34:04.332Z"
   },
   {
    "duration": 1165,
    "start_time": "2023-06-11T22:34:35.597Z"
   },
   {
    "duration": 2,
    "start_time": "2023-06-11T23:13:58.321Z"
   },
   {
    "duration": 89,
    "start_time": "2023-06-11T23:13:58.679Z"
   },
   {
    "duration": 36,
    "start_time": "2023-06-11T23:13:59.074Z"
   },
   {
    "duration": 11,
    "start_time": "2023-06-11T23:13:59.116Z"
   },
   {
    "duration": 13,
    "start_time": "2023-06-11T23:13:59.394Z"
   },
   {
    "duration": 1674,
    "start_time": "2023-06-11T23:14:00.495Z"
   },
   {
    "duration": 21,
    "start_time": "2023-06-11T23:14:02.173Z"
   },
   {
    "duration": 1102,
    "start_time": "2023-06-11T23:14:02.941Z"
   },
   {
    "duration": 10,
    "start_time": "2023-06-11T23:14:04.045Z"
   },
   {
    "duration": 1020,
    "start_time": "2023-06-11T23:14:20.661Z"
   },
   {
    "duration": 11,
    "start_time": "2023-06-11T23:14:26.795Z"
   },
   {
    "duration": 55,
    "start_time": "2023-06-11T23:15:13.404Z"
   },
   {
    "duration": 4,
    "start_time": "2023-06-11T23:16:02.539Z"
   },
   {
    "duration": 982,
    "start_time": "2023-06-11T23:16:02.591Z"
   },
   {
    "duration": 24,
    "start_time": "2023-06-11T23:16:26.684Z"
   },
   {
    "duration": 7,
    "start_time": "2023-06-11T23:16:40.635Z"
   },
   {
    "duration": 960,
    "start_time": "2023-06-11T23:17:11.062Z"
   },
   {
    "duration": 7,
    "start_time": "2023-06-11T23:17:41.996Z"
   },
   {
    "duration": 1013,
    "start_time": "2023-06-11T23:17:42.045Z"
   },
   {
    "duration": 18,
    "start_time": "2023-06-11T23:18:24.972Z"
   },
   {
    "duration": 2,
    "start_time": "2023-06-11T23:18:44.054Z"
   },
   {
    "duration": 88,
    "start_time": "2023-06-11T23:18:44.602Z"
   },
   {
    "duration": 34,
    "start_time": "2023-06-11T23:18:45.286Z"
   },
   {
    "duration": 11,
    "start_time": "2023-06-11T23:18:45.750Z"
   },
   {
    "duration": 15,
    "start_time": "2023-06-11T23:18:46.335Z"
   },
   {
    "duration": 1752,
    "start_time": "2023-06-11T23:18:47.846Z"
   },
   {
    "duration": 27,
    "start_time": "2023-06-11T23:18:49.902Z"
   },
   {
    "duration": 4,
    "start_time": "2023-06-11T23:19:07.445Z"
   },
   {
    "duration": 20,
    "start_time": "2023-06-11T23:19:07.490Z"
   },
   {
    "duration": 19,
    "start_time": "2023-06-11T23:19:11.095Z"
   },
   {
    "duration": 1113,
    "start_time": "2023-06-11T23:19:13.305Z"
   },
   {
    "duration": 7,
    "start_time": "2023-06-11T23:20:27.458Z"
   },
   {
    "duration": 14,
    "start_time": "2023-06-11T23:22:28.456Z"
   },
   {
    "duration": 16,
    "start_time": "2023-06-11T23:22:48.425Z"
   },
   {
    "duration": 20,
    "start_time": "2023-06-11T23:22:54.309Z"
   },
   {
    "duration": 592,
    "start_time": "2023-06-12T04:52:48.847Z"
   },
   {
    "duration": 100,
    "start_time": "2023-06-12T04:52:49.441Z"
   },
   {
    "duration": 51,
    "start_time": "2023-06-12T04:52:49.543Z"
   },
   {
    "duration": 12,
    "start_time": "2023-06-12T04:52:49.596Z"
   },
   {
    "duration": 46,
    "start_time": "2023-06-12T04:52:49.609Z"
   },
   {
    "duration": 1823,
    "start_time": "2023-06-12T04:52:49.671Z"
   },
   {
    "duration": 24,
    "start_time": "2023-06-12T04:52:51.496Z"
   },
   {
    "duration": 5,
    "start_time": "2023-06-12T04:52:51.521Z"
   },
   {
    "duration": 43,
    "start_time": "2023-06-12T04:52:51.528Z"
   },
   {
    "duration": 1180,
    "start_time": "2023-06-12T04:52:51.579Z"
   },
   {
    "duration": 31,
    "start_time": "2023-06-12T04:52:52.760Z"
   },
   {
    "duration": 313,
    "start_time": "2023-06-12T04:52:52.792Z"
   },
   {
    "duration": 48,
    "start_time": "2023-06-12T04:52:53.107Z"
   },
   {
    "duration": 138,
    "start_time": "2023-06-12T04:52:53.156Z"
   },
   {
    "duration": 144,
    "start_time": "2023-06-12T04:52:53.295Z"
   },
   {
    "duration": 241,
    "start_time": "2023-06-12T04:52:53.441Z"
   },
   {
    "duration": 158,
    "start_time": "2023-06-12T04:52:53.684Z"
   },
   {
    "duration": 143,
    "start_time": "2023-06-12T04:52:53.844Z"
   },
   {
    "duration": 165,
    "start_time": "2023-06-12T04:52:53.988Z"
   },
   {
    "duration": 139,
    "start_time": "2023-06-12T04:52:54.154Z"
   },
   {
    "duration": 162,
    "start_time": "2023-06-12T04:52:54.295Z"
   },
   {
    "duration": 166,
    "start_time": "2023-06-12T04:52:54.459Z"
   },
   {
    "duration": 166,
    "start_time": "2023-06-12T04:52:54.627Z"
   },
   {
    "duration": 160,
    "start_time": "2023-06-12T04:52:54.795Z"
   },
   {
    "duration": 170,
    "start_time": "2023-06-12T04:52:54.956Z"
   },
   {
    "duration": 146,
    "start_time": "2023-06-12T04:52:55.128Z"
   },
   {
    "duration": 475,
    "start_time": "2023-06-12T04:52:55.276Z"
   },
   {
    "duration": 21,
    "start_time": "2023-06-12T04:52:55.754Z"
   },
   {
    "duration": 165,
    "start_time": "2023-06-12T04:52:55.777Z"
   },
   {
    "duration": 202,
    "start_time": "2023-06-12T04:52:55.944Z"
   },
   {
    "duration": 168,
    "start_time": "2023-06-12T04:52:56.148Z"
   },
   {
    "duration": 183,
    "start_time": "2023-06-12T04:52:56.317Z"
   },
   {
    "duration": 155,
    "start_time": "2023-06-12T04:52:56.502Z"
   },
   {
    "duration": 195,
    "start_time": "2023-06-12T04:52:56.659Z"
   },
   {
    "duration": 186,
    "start_time": "2023-06-12T04:52:56.856Z"
   },
   {
    "duration": 182,
    "start_time": "2023-06-12T04:52:57.044Z"
   },
   {
    "duration": 20,
    "start_time": "2023-06-12T04:52:57.228Z"
   },
   {
    "duration": 276,
    "start_time": "2023-06-12T04:52:57.249Z"
   }
  ],
  "toc": {
   "base_numbering": 1,
   "nav_menu": {},
   "number_sections": true,
   "sideBar": true,
   "skip_h1_title": true,
   "title_cell": "Table of Contents",
   "title_sidebar": "Contents",
   "toc_cell": false,
   "toc_position": {},
   "toc_section_display": true,
   "toc_window_display": false
  },
  "kernelspec": {
   "name": "python",
   "display_name": "Python (Pyodide)",
   "language": "python"
  },
  "language_info": {
   "codemirror_mode": {
    "name": "python",
    "version": 3
   },
   "file_extension": ".py",
   "mimetype": "text/x-python",
   "name": "python",
   "nbconvert_exporter": "python",
   "pygments_lexer": "ipython3",
   "version": "3.8"
  }
 },
 "nbformat_minor": 4,
 "nbformat": 4,
 "cells": [
  {
   "cell_type": "markdown",
   "source": [
    "# Исследование объявлений о продаже квартир\n",
    "\n",
    "В вашем распоряжении данные сервиса Яндекс.Недвижимость — архив объявлений о продаже квартир в Санкт-Петербурге и соседних населённых пунктов за несколько лет. Нужно научиться определять рыночную стоимость объектов недвижимости. Ваша задача — установить параметры. Это позволит построить автоматизированную систему: она отследит аномалии и мошенническую деятельность. \n",
    "\n",
    "По каждой квартире на продажу доступны два вида данных. Первые вписаны пользователем, вторые — получены автоматически на основе картографических данных. Например, расстояние до центра, аэропорта, ближайшего парка и водоёма. "
   ],
   "metadata": {}
  },
  {
   "cell_type": "markdown",
   "source": [
    "### Откройте файл с данными и изучите общую информацию. "
   ],
   "metadata": {}
  },
  {
   "cell_type": "code",
   "source": [
    "#Импортируем библиотеку pandas\n",
    "import pandas as pd\n",
    "#Импортируем библиотеку matplotlib\n",
    "import matplotlib.pyplot as plt"
   ],
   "metadata": {},
   "execution_count": 1,
   "outputs": []
  },
  {
   "cell_type": "code",
   "source": [
    "#Читаем csv файл\n",
    "data = pd.read_csv('/datasets/real_estate_data.csv', sep='\\t')\n",
    "#Выводим первые 5 строк датасета\n",
    "print(data.head())"
   ],
   "metadata": {},
   "execution_count": 2,
   "outputs": [
    {
     "name": "stdout",
     "output_type": "stream",
     "text": "   total_images  last_price  total_area first_day_exposition  rooms  \\\n\n0            20  13000000.0       108.0  2019-03-07T00:00:00      3   \n\n1             7   3350000.0        40.4  2018-12-04T00:00:00      1   \n\n2            10   5196000.0        56.0  2015-08-20T00:00:00      2   \n\n3             0  64900000.0       159.0  2015-07-24T00:00:00      3   \n\n4             2  10000000.0       100.0  2018-06-19T00:00:00      2   \n\n\n\n   ceiling_height  floors_total  living_area  floor is_apartment  ...  \\\n\n0            2.70          16.0         51.0      8          NaN  ...   \n\n1             NaN          11.0         18.6      1          NaN  ...   \n\n2             NaN           5.0         34.3      4          NaN  ...   \n\n3             NaN          14.0          NaN      9          NaN  ...   \n\n4            3.03          14.0         32.0     13          NaN  ...   \n\n\n\n   kitchen_area  balcony    locality_name  airports_nearest  \\\n\n0          25.0      NaN  Санкт-Петербург           18863.0   \n\n1          11.0      2.0   посёлок Шушары           12817.0   \n\n2           8.3      0.0  Санкт-Петербург           21741.0   \n\n3           NaN      0.0  Санкт-Петербург           28098.0   \n\n4          41.0      NaN  Санкт-Петербург           31856.0   \n\n\n\n  cityCenters_nearest  parks_around3000  parks_nearest  ponds_around3000  \\\n\n0             16028.0               1.0          482.0               2.0   \n\n1             18603.0               0.0            NaN               0.0   \n\n2             13933.0               1.0           90.0               2.0   \n\n3              6800.0               2.0           84.0               3.0   \n\n4              8098.0               2.0          112.0               1.0   \n\n\n\n   ponds_nearest  days_exposition  \n\n0          755.0              NaN  \n\n1            NaN             81.0  \n\n2          574.0            558.0  \n\n3          234.0            424.0  \n\n4           48.0            121.0  \n\n\n\n[5 rows x 22 columns]\n"
    }
   ]
  },
  {
   "cell_type": "code",
   "source": [
    "#Получаем информацию о датасете при помощи метода info()\n",
    "display(data)"
   ],
   "metadata": {},
   "execution_count": 3,
   "outputs": [
    {
     "output_type": "display_data",
     "data": {
      "text/html": [
       "<div>\n",
       "<style scoped>\n",
       "    .dataframe tbody tr th:only-of-type {\n",
       "        vertical-align: middle;\n",
       "    }\n",
       "\n",
       "    .dataframe tbody tr th {\n",
       "        vertical-align: top;\n",
       "    }\n",
       "\n",
       "    .dataframe thead th {\n",
       "        text-align: right;\n",
       "    }\n",
       "</style>\n",
       "<table border=\"1\" class=\"dataframe\">\n",
       "  <thead>\n",
       "    <tr style=\"text-align: right;\">\n",
       "      <th></th>\n",
       "      <th>total_images</th>\n",
       "      <th>last_price</th>\n",
       "      <th>total_area</th>\n",
       "      <th>first_day_exposition</th>\n",
       "      <th>rooms</th>\n",
       "      <th>ceiling_height</th>\n",
       "      <th>floors_total</th>\n",
       "      <th>living_area</th>\n",
       "      <th>floor</th>\n",
       "      <th>is_apartment</th>\n",
       "      <th>...</th>\n",
       "      <th>kitchen_area</th>\n",
       "      <th>balcony</th>\n",
       "      <th>locality_name</th>\n",
       "      <th>airports_nearest</th>\n",
       "      <th>cityCenters_nearest</th>\n",
       "      <th>parks_around3000</th>\n",
       "      <th>parks_nearest</th>\n",
       "      <th>ponds_around3000</th>\n",
       "      <th>ponds_nearest</th>\n",
       "      <th>days_exposition</th>\n",
       "    </tr>\n",
       "  </thead>\n",
       "  <tbody>\n",
       "    <tr>\n",
       "      <th>0</th>\n",
       "      <td>20</td>\n",
       "      <td>13000000.0</td>\n",
       "      <td>108.00</td>\n",
       "      <td>2019-03-07T00:00:00</td>\n",
       "      <td>3</td>\n",
       "      <td>2.70</td>\n",
       "      <td>16.0</td>\n",
       "      <td>51.0</td>\n",
       "      <td>8</td>\n",
       "      <td>NaN</td>\n",
       "      <td>...</td>\n",
       "      <td>25.00</td>\n",
       "      <td>NaN</td>\n",
       "      <td>Санкт-Петербург</td>\n",
       "      <td>18863.0</td>\n",
       "      <td>16028.0</td>\n",
       "      <td>1.0</td>\n",
       "      <td>482.0</td>\n",
       "      <td>2.0</td>\n",
       "      <td>755.0</td>\n",
       "      <td>NaN</td>\n",
       "    </tr>\n",
       "    <tr>\n",
       "      <th>1</th>\n",
       "      <td>7</td>\n",
       "      <td>3350000.0</td>\n",
       "      <td>40.40</td>\n",
       "      <td>2018-12-04T00:00:00</td>\n",
       "      <td>1</td>\n",
       "      <td>NaN</td>\n",
       "      <td>11.0</td>\n",
       "      <td>18.6</td>\n",
       "      <td>1</td>\n",
       "      <td>NaN</td>\n",
       "      <td>...</td>\n",
       "      <td>11.00</td>\n",
       "      <td>2.0</td>\n",
       "      <td>посёлок Шушары</td>\n",
       "      <td>12817.0</td>\n",
       "      <td>18603.0</td>\n",
       "      <td>0.0</td>\n",
       "      <td>NaN</td>\n",
       "      <td>0.0</td>\n",
       "      <td>NaN</td>\n",
       "      <td>81.0</td>\n",
       "    </tr>\n",
       "    <tr>\n",
       "      <th>2</th>\n",
       "      <td>10</td>\n",
       "      <td>5196000.0</td>\n",
       "      <td>56.00</td>\n",
       "      <td>2015-08-20T00:00:00</td>\n",
       "      <td>2</td>\n",
       "      <td>NaN</td>\n",
       "      <td>5.0</td>\n",
       "      <td>34.3</td>\n",
       "      <td>4</td>\n",
       "      <td>NaN</td>\n",
       "      <td>...</td>\n",
       "      <td>8.30</td>\n",
       "      <td>0.0</td>\n",
       "      <td>Санкт-Петербург</td>\n",
       "      <td>21741.0</td>\n",
       "      <td>13933.0</td>\n",
       "      <td>1.0</td>\n",
       "      <td>90.0</td>\n",
       "      <td>2.0</td>\n",
       "      <td>574.0</td>\n",
       "      <td>558.0</td>\n",
       "    </tr>\n",
       "    <tr>\n",
       "      <th>3</th>\n",
       "      <td>0</td>\n",
       "      <td>64900000.0</td>\n",
       "      <td>159.00</td>\n",
       "      <td>2015-07-24T00:00:00</td>\n",
       "      <td>3</td>\n",
       "      <td>NaN</td>\n",
       "      <td>14.0</td>\n",
       "      <td>NaN</td>\n",
       "      <td>9</td>\n",
       "      <td>NaN</td>\n",
       "      <td>...</td>\n",
       "      <td>NaN</td>\n",
       "      <td>0.0</td>\n",
       "      <td>Санкт-Петербург</td>\n",
       "      <td>28098.0</td>\n",
       "      <td>6800.0</td>\n",
       "      <td>2.0</td>\n",
       "      <td>84.0</td>\n",
       "      <td>3.0</td>\n",
       "      <td>234.0</td>\n",
       "      <td>424.0</td>\n",
       "    </tr>\n",
       "    <tr>\n",
       "      <th>4</th>\n",
       "      <td>2</td>\n",
       "      <td>10000000.0</td>\n",
       "      <td>100.00</td>\n",
       "      <td>2018-06-19T00:00:00</td>\n",
       "      <td>2</td>\n",
       "      <td>3.03</td>\n",
       "      <td>14.0</td>\n",
       "      <td>32.0</td>\n",
       "      <td>13</td>\n",
       "      <td>NaN</td>\n",
       "      <td>...</td>\n",
       "      <td>41.00</td>\n",
       "      <td>NaN</td>\n",
       "      <td>Санкт-Петербург</td>\n",
       "      <td>31856.0</td>\n",
       "      <td>8098.0</td>\n",
       "      <td>2.0</td>\n",
       "      <td>112.0</td>\n",
       "      <td>1.0</td>\n",
       "      <td>48.0</td>\n",
       "      <td>121.0</td>\n",
       "    </tr>\n",
       "    <tr>\n",
       "      <th>...</th>\n",
       "      <td>...</td>\n",
       "      <td>...</td>\n",
       "      <td>...</td>\n",
       "      <td>...</td>\n",
       "      <td>...</td>\n",
       "      <td>...</td>\n",
       "      <td>...</td>\n",
       "      <td>...</td>\n",
       "      <td>...</td>\n",
       "      <td>...</td>\n",
       "      <td>...</td>\n",
       "      <td>...</td>\n",
       "      <td>...</td>\n",
       "      <td>...</td>\n",
       "      <td>...</td>\n",
       "      <td>...</td>\n",
       "      <td>...</td>\n",
       "      <td>...</td>\n",
       "      <td>...</td>\n",
       "      <td>...</td>\n",
       "      <td>...</td>\n",
       "    </tr>\n",
       "    <tr>\n",
       "      <th>23694</th>\n",
       "      <td>9</td>\n",
       "      <td>9700000.0</td>\n",
       "      <td>133.81</td>\n",
       "      <td>2017-03-21T00:00:00</td>\n",
       "      <td>3</td>\n",
       "      <td>3.70</td>\n",
       "      <td>5.0</td>\n",
       "      <td>73.3</td>\n",
       "      <td>3</td>\n",
       "      <td>NaN</td>\n",
       "      <td>...</td>\n",
       "      <td>13.83</td>\n",
       "      <td>NaN</td>\n",
       "      <td>Санкт-Петербург</td>\n",
       "      <td>24665.0</td>\n",
       "      <td>4232.0</td>\n",
       "      <td>1.0</td>\n",
       "      <td>796.0</td>\n",
       "      <td>3.0</td>\n",
       "      <td>381.0</td>\n",
       "      <td>NaN</td>\n",
       "    </tr>\n",
       "    <tr>\n",
       "      <th>23695</th>\n",
       "      <td>14</td>\n",
       "      <td>3100000.0</td>\n",
       "      <td>59.00</td>\n",
       "      <td>2018-01-15T00:00:00</td>\n",
       "      <td>3</td>\n",
       "      <td>NaN</td>\n",
       "      <td>5.0</td>\n",
       "      <td>38.0</td>\n",
       "      <td>4</td>\n",
       "      <td>NaN</td>\n",
       "      <td>...</td>\n",
       "      <td>8.50</td>\n",
       "      <td>NaN</td>\n",
       "      <td>Тосно</td>\n",
       "      <td>NaN</td>\n",
       "      <td>NaN</td>\n",
       "      <td>NaN</td>\n",
       "      <td>NaN</td>\n",
       "      <td>NaN</td>\n",
       "      <td>NaN</td>\n",
       "      <td>45.0</td>\n",
       "    </tr>\n",
       "    <tr>\n",
       "      <th>23696</th>\n",
       "      <td>18</td>\n",
       "      <td>2500000.0</td>\n",
       "      <td>56.70</td>\n",
       "      <td>2018-02-11T00:00:00</td>\n",
       "      <td>2</td>\n",
       "      <td>NaN</td>\n",
       "      <td>3.0</td>\n",
       "      <td>29.7</td>\n",
       "      <td>1</td>\n",
       "      <td>NaN</td>\n",
       "      <td>...</td>\n",
       "      <td>NaN</td>\n",
       "      <td>NaN</td>\n",
       "      <td>село Рождествено</td>\n",
       "      <td>NaN</td>\n",
       "      <td>NaN</td>\n",
       "      <td>NaN</td>\n",
       "      <td>NaN</td>\n",
       "      <td>NaN</td>\n",
       "      <td>NaN</td>\n",
       "      <td>NaN</td>\n",
       "    </tr>\n",
       "    <tr>\n",
       "      <th>23697</th>\n",
       "      <td>13</td>\n",
       "      <td>11475000.0</td>\n",
       "      <td>76.75</td>\n",
       "      <td>2017-03-28T00:00:00</td>\n",
       "      <td>2</td>\n",
       "      <td>3.00</td>\n",
       "      <td>17.0</td>\n",
       "      <td>NaN</td>\n",
       "      <td>12</td>\n",
       "      <td>NaN</td>\n",
       "      <td>...</td>\n",
       "      <td>23.30</td>\n",
       "      <td>2.0</td>\n",
       "      <td>Санкт-Петербург</td>\n",
       "      <td>39140.0</td>\n",
       "      <td>10364.0</td>\n",
       "      <td>2.0</td>\n",
       "      <td>173.0</td>\n",
       "      <td>3.0</td>\n",
       "      <td>196.0</td>\n",
       "      <td>602.0</td>\n",
       "    </tr>\n",
       "    <tr>\n",
       "      <th>23698</th>\n",
       "      <td>4</td>\n",
       "      <td>1350000.0</td>\n",
       "      <td>32.30</td>\n",
       "      <td>2017-07-21T00:00:00</td>\n",
       "      <td>1</td>\n",
       "      <td>2.50</td>\n",
       "      <td>5.0</td>\n",
       "      <td>12.3</td>\n",
       "      <td>1</td>\n",
       "      <td>NaN</td>\n",
       "      <td>...</td>\n",
       "      <td>9.00</td>\n",
       "      <td>NaN</td>\n",
       "      <td>поселок Новый Учхоз</td>\n",
       "      <td>NaN</td>\n",
       "      <td>NaN</td>\n",
       "      <td>NaN</td>\n",
       "      <td>NaN</td>\n",
       "      <td>NaN</td>\n",
       "      <td>NaN</td>\n",
       "      <td>NaN</td>\n",
       "    </tr>\n",
       "  </tbody>\n",
       "</table>\n",
       "<p>23699 rows × 22 columns</p>\n",
       "</div>"
      ],
      "text/plain": [
       "       total_images  last_price  total_area first_day_exposition  rooms  \\\n",
       "0                20  13000000.0      108.00  2019-03-07T00:00:00      3   \n",
       "1                 7   3350000.0       40.40  2018-12-04T00:00:00      1   \n",
       "2                10   5196000.0       56.00  2015-08-20T00:00:00      2   \n",
       "3                 0  64900000.0      159.00  2015-07-24T00:00:00      3   \n",
       "4                 2  10000000.0      100.00  2018-06-19T00:00:00      2   \n",
       "...             ...         ...         ...                  ...    ...   \n",
       "23694             9   9700000.0      133.81  2017-03-21T00:00:00      3   \n",
       "23695            14   3100000.0       59.00  2018-01-15T00:00:00      3   \n",
       "23696            18   2500000.0       56.70  2018-02-11T00:00:00      2   \n",
       "23697            13  11475000.0       76.75  2017-03-28T00:00:00      2   \n",
       "23698             4   1350000.0       32.30  2017-07-21T00:00:00      1   \n",
       "\n",
       "       ceiling_height  floors_total  living_area  floor is_apartment  ...  \\\n",
       "0                2.70          16.0         51.0      8          NaN  ...   \n",
       "1                 NaN          11.0         18.6      1          NaN  ...   \n",
       "2                 NaN           5.0         34.3      4          NaN  ...   \n",
       "3                 NaN          14.0          NaN      9          NaN  ...   \n",
       "4                3.03          14.0         32.0     13          NaN  ...   \n",
       "...               ...           ...          ...    ...          ...  ...   \n",
       "23694            3.70           5.0         73.3      3          NaN  ...   \n",
       "23695             NaN           5.0         38.0      4          NaN  ...   \n",
       "23696             NaN           3.0         29.7      1          NaN  ...   \n",
       "23697            3.00          17.0          NaN     12          NaN  ...   \n",
       "23698            2.50           5.0         12.3      1          NaN  ...   \n",
       "\n",
       "       kitchen_area  balcony        locality_name  airports_nearest  \\\n",
       "0             25.00      NaN      Санкт-Петербург           18863.0   \n",
       "1             11.00      2.0       посёлок Шушары           12817.0   \n",
       "2              8.30      0.0      Санкт-Петербург           21741.0   \n",
       "3               NaN      0.0      Санкт-Петербург           28098.0   \n",
       "4             41.00      NaN      Санкт-Петербург           31856.0   \n",
       "...             ...      ...                  ...               ...   \n",
       "23694         13.83      NaN      Санкт-Петербург           24665.0   \n",
       "23695          8.50      NaN                Тосно               NaN   \n",
       "23696           NaN      NaN     село Рождествено               NaN   \n",
       "23697         23.30      2.0      Санкт-Петербург           39140.0   \n",
       "23698          9.00      NaN  поселок Новый Учхоз               NaN   \n",
       "\n",
       "      cityCenters_nearest  parks_around3000  parks_nearest  ponds_around3000  \\\n",
       "0                 16028.0               1.0          482.0               2.0   \n",
       "1                 18603.0               0.0            NaN               0.0   \n",
       "2                 13933.0               1.0           90.0               2.0   \n",
       "3                  6800.0               2.0           84.0               3.0   \n",
       "4                  8098.0               2.0          112.0               1.0   \n",
       "...                   ...               ...            ...               ...   \n",
       "23694              4232.0               1.0          796.0               3.0   \n",
       "23695                 NaN               NaN            NaN               NaN   \n",
       "23696                 NaN               NaN            NaN               NaN   \n",
       "23697             10364.0               2.0          173.0               3.0   \n",
       "23698                 NaN               NaN            NaN               NaN   \n",
       "\n",
       "       ponds_nearest  days_exposition  \n",
       "0              755.0              NaN  \n",
       "1                NaN             81.0  \n",
       "2              574.0            558.0  \n",
       "3              234.0            424.0  \n",
       "4               48.0            121.0  \n",
       "...              ...              ...  \n",
       "23694          381.0              NaN  \n",
       "23695            NaN             45.0  \n",
       "23696            NaN              NaN  \n",
       "23697          196.0            602.0  \n",
       "23698            NaN              NaN  \n",
       "\n",
       "[23699 rows x 22 columns]"
      ]
     },
     "metadata": {}
    }
   ]
  },
  {
   "cell_type": "code",
   "source": [
    "#Получаем информацию о датасете при помощи метода info()\n",
    "data.info()"
   ],
   "metadata": {},
   "execution_count": 4,
   "outputs": [
    {
     "name": "stdout",
     "output_type": "stream",
     "text": "<class 'pandas.core.frame.DataFrame'>\n\nRangeIndex: 23699 entries, 0 to 23698\n\nData columns (total 22 columns):\n\n #   Column                Non-Null Count  Dtype  \n\n---  ------                --------------  -----  \n\n 0   total_images          23699 non-null  int64  \n\n 1   last_price            23699 non-null  float64\n\n 2   total_area            23699 non-null  float64\n\n 3   first_day_exposition  23699 non-null  object \n\n 4   rooms                 23699 non-null  int64  \n\n 5   ceiling_height        14504 non-null  float64\n\n 6   floors_total          23613 non-null  float64\n\n 7   living_area           21796 non-null  float64\n\n 8   floor                 23699 non-null  int64  \n\n 9   is_apartment          2775 non-null   object \n\n 10  studio                23699 non-null  bool   \n\n 11  open_plan             23699 non-null  bool   \n\n 12  kitchen_area          21421 non-null  float64\n\n 13  balcony               12180 non-null  float64\n\n 14  locality_name         23650 non-null  object \n\n 15  airports_nearest      18157 non-null  float64\n\n 16  cityCenters_nearest   18180 non-null  float64\n\n 17  parks_around3000      18181 non-null  float64\n\n 18  parks_nearest         8079 non-null   float64\n\n 19  ponds_around3000      18181 non-null  float64\n\n 20  ponds_nearest         9110 non-null   float64\n\n 21  days_exposition       20518 non-null  float64\n\ndtypes: bool(2), float64(14), int64(3), object(3)\n\nmemory usage: 3.7+ MB\n"
    }
   ]
  },
  {
   "cell_type": "code",
   "source": [
    "pd.DataFrame(round(data.isna().mean().sort_values(ascending=False)*100,1)).style.background_gradient('coolwarm')"
   ],
   "metadata": {},
   "execution_count": 5,
   "outputs": [
    {
     "execution_count": 5,
     "output_type": "execute_result",
     "data": {
      "text/html": [
       "<style  type=\"text/css\" >\n",
       "#T_4df1e_row0_col0{\n",
       "            background-color:  #b40426;\n",
       "            color:  #f1f1f1;\n",
       "        }#T_4df1e_row1_col0{\n",
       "            background-color:  #f49a7b;\n",
       "            color:  #000000;\n",
       "        }#T_4df1e_row2_col0{\n",
       "            background-color:  #f7ad90;\n",
       "            color:  #000000;\n",
       "        }#T_4df1e_row3_col0{\n",
       "            background-color:  #e9d5cb;\n",
       "            color:  #000000;\n",
       "        }#T_4df1e_row4_col0{\n",
       "            background-color:  #ccd9ed;\n",
       "            color:  #000000;\n",
       "        }#T_4df1e_row5_col0,#T_4df1e_row6_col0,#T_4df1e_row7_col0,#T_4df1e_row8_col0{\n",
       "            background-color:  #92b4fe;\n",
       "            color:  #000000;\n",
       "        }#T_4df1e_row9_col0{\n",
       "            background-color:  #6a8bef;\n",
       "            color:  #000000;\n",
       "        }#T_4df1e_row10_col0{\n",
       "            background-color:  #5b7ae5;\n",
       "            color:  #000000;\n",
       "        }#T_4df1e_row11_col0{\n",
       "            background-color:  #5673e0;\n",
       "            color:  #000000;\n",
       "        }#T_4df1e_row12_col0{\n",
       "            background-color:  #3c4ec2;\n",
       "            color:  #f1f1f1;\n",
       "        }#T_4df1e_row13_col0,#T_4df1e_row14_col0,#T_4df1e_row15_col0,#T_4df1e_row16_col0,#T_4df1e_row17_col0,#T_4df1e_row18_col0,#T_4df1e_row19_col0,#T_4df1e_row20_col0,#T_4df1e_row21_col0{\n",
       "            background-color:  #3b4cc0;\n",
       "            color:  #f1f1f1;\n",
       "        }</style><table id=\"T_4df1e_\" ><thead>    <tr>        <th class=\"blank level0\" ></th>        <th class=\"col_heading level0 col0\" >0</th>    </tr></thead><tbody>\n",
       "                <tr>\n",
       "                        <th id=\"T_4df1e_level0_row0\" class=\"row_heading level0 row0\" >is_apartment</th>\n",
       "                        <td id=\"T_4df1e_row0_col0\" class=\"data row0 col0\" >88.300000</td>\n",
       "            </tr>\n",
       "            <tr>\n",
       "                        <th id=\"T_4df1e_level0_row1\" class=\"row_heading level0 row1\" >parks_nearest</th>\n",
       "                        <td id=\"T_4df1e_row1_col0\" class=\"data row1 col0\" >65.900000</td>\n",
       "            </tr>\n",
       "            <tr>\n",
       "                        <th id=\"T_4df1e_level0_row2\" class=\"row_heading level0 row2\" >ponds_nearest</th>\n",
       "                        <td id=\"T_4df1e_row2_col0\" class=\"data row2 col0\" >61.600000</td>\n",
       "            </tr>\n",
       "            <tr>\n",
       "                        <th id=\"T_4df1e_level0_row3\" class=\"row_heading level0 row3\" >balcony</th>\n",
       "                        <td id=\"T_4df1e_row3_col0\" class=\"data row3 col0\" >48.600000</td>\n",
       "            </tr>\n",
       "            <tr>\n",
       "                        <th id=\"T_4df1e_level0_row4\" class=\"row_heading level0 row4\" >ceiling_height</th>\n",
       "                        <td id=\"T_4df1e_row4_col0\" class=\"data row4 col0\" >38.800000</td>\n",
       "            </tr>\n",
       "            <tr>\n",
       "                        <th id=\"T_4df1e_level0_row5\" class=\"row_heading level0 row5\" >airports_nearest</th>\n",
       "                        <td id=\"T_4df1e_row5_col0\" class=\"data row5 col0\" >23.400000</td>\n",
       "            </tr>\n",
       "            <tr>\n",
       "                        <th id=\"T_4df1e_level0_row6\" class=\"row_heading level0 row6\" >cityCenters_nearest</th>\n",
       "                        <td id=\"T_4df1e_row6_col0\" class=\"data row6 col0\" >23.300000</td>\n",
       "            </tr>\n",
       "            <tr>\n",
       "                        <th id=\"T_4df1e_level0_row7\" class=\"row_heading level0 row7\" >ponds_around3000</th>\n",
       "                        <td id=\"T_4df1e_row7_col0\" class=\"data row7 col0\" >23.300000</td>\n",
       "            </tr>\n",
       "            <tr>\n",
       "                        <th id=\"T_4df1e_level0_row8\" class=\"row_heading level0 row8\" >parks_around3000</th>\n",
       "                        <td id=\"T_4df1e_row8_col0\" class=\"data row8 col0\" >23.300000</td>\n",
       "            </tr>\n",
       "            <tr>\n",
       "                        <th id=\"T_4df1e_level0_row9\" class=\"row_heading level0 row9\" >days_exposition</th>\n",
       "                        <td id=\"T_4df1e_row9_col0\" class=\"data row9 col0\" >13.400000</td>\n",
       "            </tr>\n",
       "            <tr>\n",
       "                        <th id=\"T_4df1e_level0_row10\" class=\"row_heading level0 row10\" >kitchen_area</th>\n",
       "                        <td id=\"T_4df1e_row10_col0\" class=\"data row10 col0\" >9.600000</td>\n",
       "            </tr>\n",
       "            <tr>\n",
       "                        <th id=\"T_4df1e_level0_row11\" class=\"row_heading level0 row11\" >living_area</th>\n",
       "                        <td id=\"T_4df1e_row11_col0\" class=\"data row11 col0\" >8.000000</td>\n",
       "            </tr>\n",
       "            <tr>\n",
       "                        <th id=\"T_4df1e_level0_row12\" class=\"row_heading level0 row12\" >floors_total</th>\n",
       "                        <td id=\"T_4df1e_row12_col0\" class=\"data row12 col0\" >0.400000</td>\n",
       "            </tr>\n",
       "            <tr>\n",
       "                        <th id=\"T_4df1e_level0_row13\" class=\"row_heading level0 row13\" >locality_name</th>\n",
       "                        <td id=\"T_4df1e_row13_col0\" class=\"data row13 col0\" >0.200000</td>\n",
       "            </tr>\n",
       "            <tr>\n",
       "                        <th id=\"T_4df1e_level0_row14\" class=\"row_heading level0 row14\" >total_images</th>\n",
       "                        <td id=\"T_4df1e_row14_col0\" class=\"data row14 col0\" >0.000000</td>\n",
       "            </tr>\n",
       "            <tr>\n",
       "                        <th id=\"T_4df1e_level0_row15\" class=\"row_heading level0 row15\" >last_price</th>\n",
       "                        <td id=\"T_4df1e_row15_col0\" class=\"data row15 col0\" >0.000000</td>\n",
       "            </tr>\n",
       "            <tr>\n",
       "                        <th id=\"T_4df1e_level0_row16\" class=\"row_heading level0 row16\" >studio</th>\n",
       "                        <td id=\"T_4df1e_row16_col0\" class=\"data row16 col0\" >0.000000</td>\n",
       "            </tr>\n",
       "            <tr>\n",
       "                        <th id=\"T_4df1e_level0_row17\" class=\"row_heading level0 row17\" >floor</th>\n",
       "                        <td id=\"T_4df1e_row17_col0\" class=\"data row17 col0\" >0.000000</td>\n",
       "            </tr>\n",
       "            <tr>\n",
       "                        <th id=\"T_4df1e_level0_row18\" class=\"row_heading level0 row18\" >rooms</th>\n",
       "                        <td id=\"T_4df1e_row18_col0\" class=\"data row18 col0\" >0.000000</td>\n",
       "            </tr>\n",
       "            <tr>\n",
       "                        <th id=\"T_4df1e_level0_row19\" class=\"row_heading level0 row19\" >first_day_exposition</th>\n",
       "                        <td id=\"T_4df1e_row19_col0\" class=\"data row19 col0\" >0.000000</td>\n",
       "            </tr>\n",
       "            <tr>\n",
       "                        <th id=\"T_4df1e_level0_row20\" class=\"row_heading level0 row20\" >total_area</th>\n",
       "                        <td id=\"T_4df1e_row20_col0\" class=\"data row20 col0\" >0.000000</td>\n",
       "            </tr>\n",
       "            <tr>\n",
       "                        <th id=\"T_4df1e_level0_row21\" class=\"row_heading level0 row21\" >open_plan</th>\n",
       "                        <td id=\"T_4df1e_row21_col0\" class=\"data row21 col0\" >0.000000</td>\n",
       "            </tr>\n",
       "    </tbody></table>"
      ],
      "text/plain": [
       "<pandas.io.formats.style.Styler at 0x7f3af5e55310>"
      ]
     },
     "metadata": {}
    }
   ]
  },
  {
   "cell_type": "code",
   "source": [
    "#Построение гистрограммы\n",
    "data.hist(figsize=(15, 20))\n",
    "plt.show()"
   ],
   "metadata": {},
   "execution_count": 6,
   "outputs": [
    {
     "output_type": "display_data",
     "data": {
      "image/png": "[encoded data removed]",
      "text/plain": [
       "<Figure size 1080x1440 with 20 Axes>"
      ]
     },
     "metadata": {
      "needs_background": "light"
     }
    }
   ]
  },
  {
   "cell_type": "markdown",
   "source": [
    "При выводе датасета, первых 5 строк, и изучения файла методом info(), можно сделать вывод, что в некоторые столбцы имеют нерпавильный формат типа данных или же нулевые значения, а именно:\n",
    "1. first_day_exposition - вместо object, должен быть тип данных datatime;\n",
    "2. ceiling_height - присутствуют нулевые значения;\n",
    "3. floors_total - вместо float64, должен быть тип данных int64;\n",
    "4. living_area - присутствуют нулевые значения;\n",
    "5. is_apartment - присутствуют нулевые значения и тип данных должен быть bool, а не object; +\n",
    "6. kitchen_area - присутствуют нулевые значения;\n",
    "7. balcony - присутствуют нулевые значения и тип данных заменить на int64; +\n",
    "8. locality_name - присутствуют нулевые значения;\n",
    "9. airports_nearest - присутствуют нулевые значения;\n",
    "10. cityCenters_nearest - присутствуют нулевые значения;\n",
    "11. parks_around3000 - присутствуют нулевые значения и тип данных должен быть int64, а не float64;\n",
    "12. parks_nearest - присутствуют нулевые значения;\n",
    "13. ponds_around3000 - присутствуют нулевые значения и тип данных должен быть int64, а не float64;\n",
    "14. ponds_nearest - присутствуют нулевые значения;\n",
    "15. days_exposition - присутствуют нулевые значения и тип данных должен быть int64, а не float64."
   ],
   "metadata": {}
  },
  {
   "cell_type": "markdown",
   "source": [
    "### Предобработка данных"
   ],
   "metadata": {}
  },
  {
   "cell_type": "markdown",
   "source": [
    "**Выведем таблицу и проверим наименования всех столбоцов.**"
   ],
   "metadata": {}
  },
  {
   "cell_type": "code",
   "source": [
    "data.head()"
   ],
   "metadata": {},
   "execution_count": 7,
   "outputs": [
    {
     "execution_count": 7,
     "output_type": "execute_result",
     "data": {
      "text/html": [
       "<div>\n",
       "<style scoped>\n",
       "    .dataframe tbody tr th:only-of-type {\n",
       "        vertical-align: middle;\n",
       "    }\n",
       "\n",
       "    .dataframe tbody tr th {\n",
       "        vertical-align: top;\n",
       "    }\n",
       "\n",
       "    .dataframe thead th {\n",
       "        text-align: right;\n",
       "    }\n",
       "</style>\n",
       "<table border=\"1\" class=\"dataframe\">\n",
       "  <thead>\n",
       "    <tr style=\"text-align: right;\">\n",
       "      <th></th>\n",
       "      <th>total_images</th>\n",
       "      <th>last_price</th>\n",
       "      <th>total_area</th>\n",
       "      <th>first_day_exposition</th>\n",
       "      <th>rooms</th>\n",
       "      <th>ceiling_height</th>\n",
       "      <th>floors_total</th>\n",
       "      <th>living_area</th>\n",
       "      <th>floor</th>\n",
       "      <th>is_apartment</th>\n",
       "      <th>...</th>\n",
       "      <th>kitchen_area</th>\n",
       "      <th>balcony</th>\n",
       "      <th>locality_name</th>\n",
       "      <th>airports_nearest</th>\n",
       "      <th>cityCenters_nearest</th>\n",
       "      <th>parks_around3000</th>\n",
       "      <th>parks_nearest</th>\n",
       "      <th>ponds_around3000</th>\n",
       "      <th>ponds_nearest</th>\n",
       "      <th>days_exposition</th>\n",
       "    </tr>\n",
       "  </thead>\n",
       "  <tbody>\n",
       "    <tr>\n",
       "      <th>0</th>\n",
       "      <td>20</td>\n",
       "      <td>13000000.0</td>\n",
       "      <td>108.0</td>\n",
       "      <td>2019-03-07T00:00:00</td>\n",
       "      <td>3</td>\n",
       "      <td>2.70</td>\n",
       "      <td>16.0</td>\n",
       "      <td>51.0</td>\n",
       "      <td>8</td>\n",
       "      <td>NaN</td>\n",
       "      <td>...</td>\n",
       "      <td>25.0</td>\n",
       "      <td>NaN</td>\n",
       "      <td>Санкт-Петербург</td>\n",
       "      <td>18863.0</td>\n",
       "      <td>16028.0</td>\n",
       "      <td>1.0</td>\n",
       "      <td>482.0</td>\n",
       "      <td>2.0</td>\n",
       "      <td>755.0</td>\n",
       "      <td>NaN</td>\n",
       "    </tr>\n",
       "    <tr>\n",
       "      <th>1</th>\n",
       "      <td>7</td>\n",
       "      <td>3350000.0</td>\n",
       "      <td>40.4</td>\n",
       "      <td>2018-12-04T00:00:00</td>\n",
       "      <td>1</td>\n",
       "      <td>NaN</td>\n",
       "      <td>11.0</td>\n",
       "      <td>18.6</td>\n",
       "      <td>1</td>\n",
       "      <td>NaN</td>\n",
       "      <td>...</td>\n",
       "      <td>11.0</td>\n",
       "      <td>2.0</td>\n",
       "      <td>посёлок Шушары</td>\n",
       "      <td>12817.0</td>\n",
       "      <td>18603.0</td>\n",
       "      <td>0.0</td>\n",
       "      <td>NaN</td>\n",
       "      <td>0.0</td>\n",
       "      <td>NaN</td>\n",
       "      <td>81.0</td>\n",
       "    </tr>\n",
       "    <tr>\n",
       "      <th>2</th>\n",
       "      <td>10</td>\n",
       "      <td>5196000.0</td>\n",
       "      <td>56.0</td>\n",
       "      <td>2015-08-20T00:00:00</td>\n",
       "      <td>2</td>\n",
       "      <td>NaN</td>\n",
       "      <td>5.0</td>\n",
       "      <td>34.3</td>\n",
       "      <td>4</td>\n",
       "      <td>NaN</td>\n",
       "      <td>...</td>\n",
       "      <td>8.3</td>\n",
       "      <td>0.0</td>\n",
       "      <td>Санкт-Петербург</td>\n",
       "      <td>21741.0</td>\n",
       "      <td>13933.0</td>\n",
       "      <td>1.0</td>\n",
       "      <td>90.0</td>\n",
       "      <td>2.0</td>\n",
       "      <td>574.0</td>\n",
       "      <td>558.0</td>\n",
       "    </tr>\n",
       "    <tr>\n",
       "      <th>3</th>\n",
       "      <td>0</td>\n",
       "      <td>64900000.0</td>\n",
       "      <td>159.0</td>\n",
       "      <td>2015-07-24T00:00:00</td>\n",
       "      <td>3</td>\n",
       "      <td>NaN</td>\n",
       "      <td>14.0</td>\n",
       "      <td>NaN</td>\n",
       "      <td>9</td>\n",
       "      <td>NaN</td>\n",
       "      <td>...</td>\n",
       "      <td>NaN</td>\n",
       "      <td>0.0</td>\n",
       "      <td>Санкт-Петербург</td>\n",
       "      <td>28098.0</td>\n",
       "      <td>6800.0</td>\n",
       "      <td>2.0</td>\n",
       "      <td>84.0</td>\n",
       "      <td>3.0</td>\n",
       "      <td>234.0</td>\n",
       "      <td>424.0</td>\n",
       "    </tr>\n",
       "    <tr>\n",
       "      <th>4</th>\n",
       "      <td>2</td>\n",
       "      <td>10000000.0</td>\n",
       "      <td>100.0</td>\n",
       "      <td>2018-06-19T00:00:00</td>\n",
       "      <td>2</td>\n",
       "      <td>3.03</td>\n",
       "      <td>14.0</td>\n",
       "      <td>32.0</td>\n",
       "      <td>13</td>\n",
       "      <td>NaN</td>\n",
       "      <td>...</td>\n",
       "      <td>41.0</td>\n",
       "      <td>NaN</td>\n",
       "      <td>Санкт-Петербург</td>\n",
       "      <td>31856.0</td>\n",
       "      <td>8098.0</td>\n",
       "      <td>2.0</td>\n",
       "      <td>112.0</td>\n",
       "      <td>1.0</td>\n",
       "      <td>48.0</td>\n",
       "      <td>121.0</td>\n",
       "    </tr>\n",
       "  </tbody>\n",
       "</table>\n",
       "<p>5 rows × 22 columns</p>\n",
       "</div>"
      ],
      "text/plain": [
       "   total_images  last_price  total_area first_day_exposition  rooms  \\\n",
       "0            20  13000000.0       108.0  2019-03-07T00:00:00      3   \n",
       "1             7   3350000.0        40.4  2018-12-04T00:00:00      1   \n",
       "2            10   5196000.0        56.0  2015-08-20T00:00:00      2   \n",
       "3             0  64900000.0       159.0  2015-07-24T00:00:00      3   \n",
       "4             2  10000000.0       100.0  2018-06-19T00:00:00      2   \n",
       "\n",
       "   ceiling_height  floors_total  living_area  floor is_apartment  ...  \\\n",
       "0            2.70          16.0         51.0      8          NaN  ...   \n",
       "1             NaN          11.0         18.6      1          NaN  ...   \n",
       "2             NaN           5.0         34.3      4          NaN  ...   \n",
       "3             NaN          14.0          NaN      9          NaN  ...   \n",
       "4            3.03          14.0         32.0     13          NaN  ...   \n",
       "\n",
       "   kitchen_area  balcony    locality_name  airports_nearest  \\\n",
       "0          25.0      NaN  Санкт-Петербург           18863.0   \n",
       "1          11.0      2.0   посёлок Шушары           12817.0   \n",
       "2           8.3      0.0  Санкт-Петербург           21741.0   \n",
       "3           NaN      0.0  Санкт-Петербург           28098.0   \n",
       "4          41.0      NaN  Санкт-Петербург           31856.0   \n",
       "\n",
       "  cityCenters_nearest  parks_around3000  parks_nearest  ponds_around3000  \\\n",
       "0             16028.0               1.0          482.0               2.0   \n",
       "1             18603.0               0.0            NaN               0.0   \n",
       "2             13933.0               1.0           90.0               2.0   \n",
       "3              6800.0               2.0           84.0               3.0   \n",
       "4              8098.0               2.0          112.0               1.0   \n",
       "\n",
       "   ponds_nearest  days_exposition  \n",
       "0          755.0              NaN  \n",
       "1            NaN             81.0  \n",
       "2          574.0            558.0  \n",
       "3          234.0            424.0  \n",
       "4           48.0            121.0  \n",
       "\n",
       "[5 rows x 22 columns]"
      ]
     },
     "metadata": {}
    }
   ]
  },
  {
   "cell_type": "code",
   "source": [
    "#Приводим столбцы в змеиному_регистру.\n",
    "data = data.rename(columns={'cityCenters_nearest': 'city_centers_nearest', 'parks_around3000': 'parks_around_3000', 'ponds_around3000': 'ponds_around_3000'})"
   ],
   "metadata": {},
   "execution_count": 8,
   "outputs": []
  },
  {
   "cell_type": "code",
   "source": [
    "#Проверяем на явные дубликаты.\n",
    "data.duplicated()"
   ],
   "metadata": {},
   "execution_count": 9,
   "outputs": [
    {
     "execution_count": 9,
     "output_type": "execute_result",
     "data": {
      "text/plain": [
       "0        False\n",
       "1        False\n",
       "2        False\n",
       "3        False\n",
       "4        False\n",
       "         ...  \n",
       "23694    False\n",
       "23695    False\n",
       "23696    False\n",
       "23697    False\n",
       "23698    False\n",
       "Length: 23699, dtype: bool"
      ]
     },
     "metadata": {}
    }
   ]
  },
  {
   "cell_type": "code",
   "source": [
    "#Проверяем на явные дубликаты.\n",
    "data[data.duplicated()]\n",
    "#Проверим значения столбцов\n",
    "data['living_area'].value_counts()\n",
    "data['total_images'].value_counts()\n",
    "data['floors_total'].value_counts()\n",
    "data['floor'].value_counts()\n",
    "data['is_apartment'].value_counts()\n",
    "data['total_area'].value_counts()\n",
    "data['rooms'].value_counts()\n",
    "data['airports_nearest'].value_counts()\n",
    "data['city_centers_nearest'].value_counts()\n",
    "data['parks_around_3000'].value_counts()\n",
    "data['parks_nearest'].value_counts()\n",
    "data['ponds_around_3000'].value_counts()\n",
    "#Эти столбцы пока что оставим такими, какие они есть.\n",
    "\n",
    "#Удаляем пропуски в столбце floors_total и меняем тип данных на int.\n",
    "data.dropna(subset=['floors_total'], inplace=True)\n",
    "data['floors_total'] = data['floors_total'].astype('int')\n",
    "#Заменим пропуски в balcony на 0 и поменяем типа данных.\n",
    "data['balcony'] = data['balcony'].fillna(0).astype('int')\n",
    "#Заменим пропуски в days_exposition на 0 и поменяем типа данных.\n",
    "data['days_exposition'] = data['days_exposition'].fillna(0).astype('int')\n",
    "#Заполняем пропуски в столбце is_apartment на False.\n",
    "data['is_apartment'].fillna(False, inplace=True)\n",
    "#Заполним пропуски в ceiling_height на медианные.\n",
    "data['ceiling_height'] = data['ceiling_height'].fillna(value=data['ceiling_height'].median())\n",
    "#Заполним пропуски в parks_around_3000 на 0 и заменяем тип данных на int.\n",
    "data['parks_around_3000'] = data['parks_around_3000'].fillna(0).astype('int')\n",
    "#Заполним пропуски в ponds_around_3000 на 0 и заменяем тип данных на int.\n",
    "data['ponds_around_3000'] = data['parks_around_3000'].fillna(0).astype('int')\n",
    "#Поменяем тип данных на int в столбце last_price.\n",
    "data['last_price'] = data['last_price'].astype('int')\n",
    "# Заменяем пустые значения жилой площади и площади кухни\n",
    "lv = data['living_area'].median() / data['total_area'].median()\n",
    "kt = data['kitchen_area'].median() / data['total_area'].median()\n",
    "data['living_area'].fillna(lv * data['total_area'], inplace=True)\n",
    "data['kitchen_area'].fillna(lv * data['total_area'], inplace=True)\n",
    "#Поменяем тип данных в столбце first_day_exposition.\n",
    "data['first_day_exposition'] = pd.to_datetime(data['first_day_exposition'], format = '%Y-%m-%d')\n",
    "#Заполняем пропуски в стоблце ceiling_height при помощи медианных значений относительно населенных пунктов\n",
    "for x in data['locality_name'].unique():\n",
    "    median_chisla = data.loc[data['locality_name'] == x, 'ceiling_height'].median()\n",
    "    data.loc[(data['ceiling_height'].isna()) & (data['locality_name'] == x), 'ceiling_height'].median()\n",
    "#Удаляем пропуски в столбце locality_name.\n",
    "data.dropna(subset=['locality_name'], inplace=True)\n",
    "#Переименовываем\n",
    "data = data.apply(lambda x: x.replace({'поселок':'посёлок', 'городской посёлок': 'посёлок', 'посёлок городского типа': 'посёлок', 'коттеджный посёлок': 'посёлок', 'посёлок при железнодорожной станции': 'посёлок станции'}, regex=True))\n",
    "#Проверяем\n",
    "data['locality_name'].unique()\n",
    "\n",
    "pd.DataFrame(round(data.isna().mean().sort_values(ascending=False)*100,1)).style.background_gradient('coolwarm')"
   ],
   "metadata": {},
   "execution_count": 10,
   "outputs": [
    {
     "execution_count": 10,
     "output_type": "execute_result",
     "data": {
      "text/html": [
       "<style  type=\"text/css\" >\n",
       "#T_f2c55_row0_col0{\n",
       "            background-color:  #b40426;\n",
       "            color:  #f1f1f1;\n",
       "        }#T_f2c55_row1_col0{\n",
       "            background-color:  #cb3e38;\n",
       "            color:  #f1f1f1;\n",
       "        }#T_f2c55_row2_col0,#T_f2c55_row3_col0{\n",
       "            background-color:  #b1cbfc;\n",
       "            color:  #000000;\n",
       "        }#T_f2c55_row4_col0,#T_f2c55_row5_col0,#T_f2c55_row6_col0,#T_f2c55_row7_col0,#T_f2c55_row8_col0,#T_f2c55_row9_col0,#T_f2c55_row10_col0,#T_f2c55_row11_col0,#T_f2c55_row12_col0,#T_f2c55_row13_col0,#T_f2c55_row14_col0,#T_f2c55_row15_col0,#T_f2c55_row16_col0,#T_f2c55_row17_col0,#T_f2c55_row18_col0,#T_f2c55_row19_col0,#T_f2c55_row20_col0,#T_f2c55_row21_col0{\n",
       "            background-color:  #3b4cc0;\n",
       "            color:  #f1f1f1;\n",
       "        }</style><table id=\"T_f2c55_\" ><thead>    <tr>        <th class=\"blank level0\" ></th>        <th class=\"col_heading level0 col0\" >0</th>    </tr></thead><tbody>\n",
       "                <tr>\n",
       "                        <th id=\"T_f2c55_level0_row0\" class=\"row_heading level0 row0\" >parks_nearest</th>\n",
       "                        <td id=\"T_f2c55_row0_col0\" class=\"data row0 col0\" >65.900000</td>\n",
       "            </tr>\n",
       "            <tr>\n",
       "                        <th id=\"T_f2c55_level0_row1\" class=\"row_heading level0 row1\" >ponds_nearest</th>\n",
       "                        <td id=\"T_f2c55_row1_col0\" class=\"data row1 col0\" >61.700000</td>\n",
       "            </tr>\n",
       "            <tr>\n",
       "                        <th id=\"T_f2c55_level0_row2\" class=\"row_heading level0 row2\" >airports_nearest</th>\n",
       "                        <td id=\"T_f2c55_row2_col0\" class=\"data row2 col0\" >23.400000</td>\n",
       "            </tr>\n",
       "            <tr>\n",
       "                        <th id=\"T_f2c55_level0_row3\" class=\"row_heading level0 row3\" >city_centers_nearest</th>\n",
       "                        <td id=\"T_f2c55_row3_col0\" class=\"data row3 col0\" >23.300000</td>\n",
       "            </tr>\n",
       "            <tr>\n",
       "                        <th id=\"T_f2c55_level0_row4\" class=\"row_heading level0 row4\" >total_images</th>\n",
       "                        <td id=\"T_f2c55_row4_col0\" class=\"data row4 col0\" >0.000000</td>\n",
       "            </tr>\n",
       "            <tr>\n",
       "                        <th id=\"T_f2c55_level0_row5\" class=\"row_heading level0 row5\" >last_price</th>\n",
       "                        <td id=\"T_f2c55_row5_col0\" class=\"data row5 col0\" >0.000000</td>\n",
       "            </tr>\n",
       "            <tr>\n",
       "                        <th id=\"T_f2c55_level0_row6\" class=\"row_heading level0 row6\" >ponds_around_3000</th>\n",
       "                        <td id=\"T_f2c55_row6_col0\" class=\"data row6 col0\" >0.000000</td>\n",
       "            </tr>\n",
       "            <tr>\n",
       "                        <th id=\"T_f2c55_level0_row7\" class=\"row_heading level0 row7\" >parks_around_3000</th>\n",
       "                        <td id=\"T_f2c55_row7_col0\" class=\"data row7 col0\" >0.000000</td>\n",
       "            </tr>\n",
       "            <tr>\n",
       "                        <th id=\"T_f2c55_level0_row8\" class=\"row_heading level0 row8\" >locality_name</th>\n",
       "                        <td id=\"T_f2c55_row8_col0\" class=\"data row8 col0\" >0.000000</td>\n",
       "            </tr>\n",
       "            <tr>\n",
       "                        <th id=\"T_f2c55_level0_row9\" class=\"row_heading level0 row9\" >balcony</th>\n",
       "                        <td id=\"T_f2c55_row9_col0\" class=\"data row9 col0\" >0.000000</td>\n",
       "            </tr>\n",
       "            <tr>\n",
       "                        <th id=\"T_f2c55_level0_row10\" class=\"row_heading level0 row10\" >kitchen_area</th>\n",
       "                        <td id=\"T_f2c55_row10_col0\" class=\"data row10 col0\" >0.000000</td>\n",
       "            </tr>\n",
       "            <tr>\n",
       "                        <th id=\"T_f2c55_level0_row11\" class=\"row_heading level0 row11\" >open_plan</th>\n",
       "                        <td id=\"T_f2c55_row11_col0\" class=\"data row11 col0\" >0.000000</td>\n",
       "            </tr>\n",
       "            <tr>\n",
       "                        <th id=\"T_f2c55_level0_row12\" class=\"row_heading level0 row12\" >studio</th>\n",
       "                        <td id=\"T_f2c55_row12_col0\" class=\"data row12 col0\" >0.000000</td>\n",
       "            </tr>\n",
       "            <tr>\n",
       "                        <th id=\"T_f2c55_level0_row13\" class=\"row_heading level0 row13\" >is_apartment</th>\n",
       "                        <td id=\"T_f2c55_row13_col0\" class=\"data row13 col0\" >0.000000</td>\n",
       "            </tr>\n",
       "            <tr>\n",
       "                        <th id=\"T_f2c55_level0_row14\" class=\"row_heading level0 row14\" >floor</th>\n",
       "                        <td id=\"T_f2c55_row14_col0\" class=\"data row14 col0\" >0.000000</td>\n",
       "            </tr>\n",
       "            <tr>\n",
       "                        <th id=\"T_f2c55_level0_row15\" class=\"row_heading level0 row15\" >living_area</th>\n",
       "                        <td id=\"T_f2c55_row15_col0\" class=\"data row15 col0\" >0.000000</td>\n",
       "            </tr>\n",
       "            <tr>\n",
       "                        <th id=\"T_f2c55_level0_row16\" class=\"row_heading level0 row16\" >floors_total</th>\n",
       "                        <td id=\"T_f2c55_row16_col0\" class=\"data row16 col0\" >0.000000</td>\n",
       "            </tr>\n",
       "            <tr>\n",
       "                        <th id=\"T_f2c55_level0_row17\" class=\"row_heading level0 row17\" >ceiling_height</th>\n",
       "                        <td id=\"T_f2c55_row17_col0\" class=\"data row17 col0\" >0.000000</td>\n",
       "            </tr>\n",
       "            <tr>\n",
       "                        <th id=\"T_f2c55_level0_row18\" class=\"row_heading level0 row18\" >rooms</th>\n",
       "                        <td id=\"T_f2c55_row18_col0\" class=\"data row18 col0\" >0.000000</td>\n",
       "            </tr>\n",
       "            <tr>\n",
       "                        <th id=\"T_f2c55_level0_row19\" class=\"row_heading level0 row19\" >first_day_exposition</th>\n",
       "                        <td id=\"T_f2c55_row19_col0\" class=\"data row19 col0\" >0.000000</td>\n",
       "            </tr>\n",
       "            <tr>\n",
       "                        <th id=\"T_f2c55_level0_row20\" class=\"row_heading level0 row20\" >total_area</th>\n",
       "                        <td id=\"T_f2c55_row20_col0\" class=\"data row20 col0\" >0.000000</td>\n",
       "            </tr>\n",
       "            <tr>\n",
       "                        <th id=\"T_f2c55_level0_row21\" class=\"row_heading level0 row21\" >days_exposition</th>\n",
       "                        <td id=\"T_f2c55_row21_col0\" class=\"data row21 col0\" >0.000000</td>\n",
       "            </tr>\n",
       "    </tbody></table>"
      ],
      "text/plain": [
       "<pandas.io.formats.style.Styler at 0x7f3a814ce640>"
      ]
     },
     "metadata": {}
    }
   ]
  },
  {
   "cell_type": "code",
   "source": [
    "#Проверяем на пропуски и смену типа данных.\n",
    "display(data.isna().sum())\n",
    "display(data.info())"
   ],
   "metadata": {},
   "execution_count": 11,
   "outputs": [
    {
     "output_type": "display_data",
     "data": {
      "text/plain": [
       "total_images                0\n",
       "last_price                  0\n",
       "total_area                  0\n",
       "first_day_exposition        0\n",
       "rooms                       0\n",
       "ceiling_height              0\n",
       "floors_total                0\n",
       "living_area                 0\n",
       "floor                       0\n",
       "is_apartment                0\n",
       "studio                      0\n",
       "open_plan                   0\n",
       "kitchen_area                0\n",
       "balcony                     0\n",
       "locality_name               0\n",
       "airports_nearest         5524\n",
       "city_centers_nearest     5501\n",
       "parks_around_3000           0\n",
       "parks_nearest           15535\n",
       "ponds_around_3000           0\n",
       "ponds_nearest           14529\n",
       "days_exposition             0\n",
       "dtype: int64"
      ]
     },
     "metadata": {}
    },
    {
     "name": "stdout",
     "output_type": "stream",
     "text": "<class 'pandas.core.frame.DataFrame'>\n\nInt64Index: 23565 entries, 0 to 23698\n\nData columns (total 22 columns):\n\n #   Column                Non-Null Count  Dtype         \n\n---  ------                --------------  -----         \n\n 0   total_images          23565 non-null  int64         \n\n 1   last_price            23565 non-null  int64         \n\n 2   total_area            23565 non-null  float64       \n\n 3   first_day_exposition  23565 non-null  datetime64[ns]\n\n 4   rooms                 23565 non-null  int64         \n\n 5   ceiling_height        23565 non-null  float64       \n\n 6   floors_total          23565 non-null  int64         \n\n 7   living_area           23565 non-null  float64       \n\n 8   floor                 23565 non-null  int64         \n\n 9   is_apartment          23565 non-null  bool          \n\n 10  studio                23565 non-null  bool          \n\n 11  open_plan             23565 non-null  bool          \n\n 12  kitchen_area          23565 non-null  float64       \n\n 13  balcony               23565 non-null  int64         \n\n 14  locality_name         23565 non-null  object        \n\n 15  airports_nearest      18041 non-null  float64       \n\n 16  city_centers_nearest  18064 non-null  float64       \n\n 17  parks_around_3000     23565 non-null  int64         \n\n 18  parks_nearest         8030 non-null   float64       \n\n 19  ponds_around_3000     23565 non-null  int64         \n\n 20  ponds_nearest         9036 non-null   float64       \n\n 21  days_exposition       23565 non-null  int64         \n\ndtypes: bool(3), datetime64[ns](1), float64(8), int64(9), object(1)\n\nmemory usage: 3.7+ MB\n"
    },
    {
     "output_type": "display_data",
     "data": {
      "text/plain": [
       "None"
      ]
     },
     "metadata": {}
    }
   ]
  },
  {
   "cell_type": "markdown",
   "source": [
    "1. Привели некоторые столбцы к змеиному_регистру.\n",
    "2. Во многих столбцах заменяли значение либо на ноль, либо удалял пропущенные значения.\n",
    "3. Некоторые столбцы заменил на медианное значение, т.к. оно более устойчивое к выбросам, нежели среднее арифметическое.\n",
    "4. Для более удобного вычисления поменяли тип данных в некоторые столбцах с float на int.\n",
    "* Теперь с данными стало работать куда проще и можно перейти к следующему шагу."
   ],
   "metadata": {}
  },
  {
   "cell_type": "markdown",
   "source": [
    "### Посчитайте и добавьте в таблицу новые столбцы"
   ],
   "metadata": {}
  },
  {
   "cell_type": "code",
   "source": [
    "#Высчитаем цену одного квадратного метра\n",
    "data['price_for_one_meter'] = (data['last_price'] / data['total_area']).astype('int')\n",
    "#Создаем столбец по дню побликации\n",
    "data['day_of_week'] = data['first_day_exposition'].dt.dayofweek\n",
    "#Создаем столбец по месяцу побликации\n",
    "data['month'] = data['first_day_exposition'].dt.month\n",
    "#Создаем столбец по году побликации\n",
    "data['year'] = data['first_day_exposition'].dt.year\n",
    "\n",
    "\n",
    "#Сделаем категоризацию этажей:\n",
    "def floors_category(i):\n",
    "    if i['floor'] == 1:\n",
    "        return 'Первый этаж'\n",
    "    elif i['floor'] == i['floors_total']:\n",
    "        return 'Последний этаж'\n",
    "    else: \n",
    "        return 'Другой'\n",
    "data['floors_category'] = data.apply(floors_category, axis=1)\n",
    "#Добавим стобец расстояния в км\n",
    "data['city_centers_km'] = round(data['city_centers_nearest'] / 1000, 0)"
   ],
   "metadata": {},
   "execution_count": 12,
   "outputs": []
  },
  {
   "cell_type": "markdown",
   "source": [
    "### Проведите исследовательский анализ данных"
   ],
   "metadata": {}
  },
  {
   "cell_type": "markdown",
   "source": [
    "Изучаем следующие параметры:\n",
    "1. общая площадь total_area;\n",
    "2. жилая площадь living_area;\n",
    "3. площадь кухни kitchen_area;\n",
    "4. цена объекта last_price;\n",
    "5. количество комнат rooms;\n",
    "6. высота потолков ceiling_height;\n",
    "7. этаж квартиры floor;\n",
    "8. тип этажа квартиры floors_category;\n",
    "9. общее количество этажей в доме floors_total;\n",
    "10. расстояние до центра города в метрах city_centers_nearest;\n",
    "11. расстояние до ближайшего аэропорта airports_nearest;\n",
    "12. расстояние до ближайшего парка ponds_nearest;\n",
    "13. день публикации объявления day_of_week;\n",
    "14. месяц публикации объявления month. "
   ],
   "metadata": {}
  },
  {
   "cell_type": "code",
   "source": [
    "data[['last_price', 'total_area', 'living_area', 'kitchen_area', 'rooms', 'ceiling_height', 'floor', 'floors_category', 'floors_total', 'city_centers_nearest', 'airports_nearest', 'ponds_nearest', 'day_of_week', 'month']].describe()"
   ],
   "metadata": {},
   "execution_count": 13,
   "outputs": [
    {
     "execution_count": 13,
     "output_type": "execute_result",
     "data": {
      "text/html": [
       "<div>\n",
       "<style scoped>\n",
       "    .dataframe tbody tr th:only-of-type {\n",
       "        vertical-align: middle;\n",
       "    }\n",
       "\n",
       "    .dataframe tbody tr th {\n",
       "        vertical-align: top;\n",
       "    }\n",
       "\n",
       "    .dataframe thead th {\n",
       "        text-align: right;\n",
       "    }\n",
       "</style>\n",
       "<table border=\"1\" class=\"dataframe\">\n",
       "  <thead>\n",
       "    <tr style=\"text-align: right;\">\n",
       "      <th></th>\n",
       "      <th>last_price</th>\n",
       "      <th>total_area</th>\n",
       "      <th>living_area</th>\n",
       "      <th>kitchen_area</th>\n",
       "      <th>rooms</th>\n",
       "      <th>ceiling_height</th>\n",
       "      <th>floor</th>\n",
       "      <th>floors_total</th>\n",
       "      <th>city_centers_nearest</th>\n",
       "      <th>airports_nearest</th>\n",
       "      <th>ponds_nearest</th>\n",
       "      <th>day_of_week</th>\n",
       "      <th>month</th>\n",
       "    </tr>\n",
       "  </thead>\n",
       "  <tbody>\n",
       "    <tr>\n",
       "      <th>count</th>\n",
       "      <td>2.356500e+04</td>\n",
       "      <td>23565.000000</td>\n",
       "      <td>23565.000000</td>\n",
       "      <td>23565.000000</td>\n",
       "      <td>23565.000000</td>\n",
       "      <td>23565.000000</td>\n",
       "      <td>23565.000000</td>\n",
       "      <td>23565.000000</td>\n",
       "      <td>18064.000000</td>\n",
       "      <td>18041.000000</td>\n",
       "      <td>9036.000000</td>\n",
       "      <td>23565.000000</td>\n",
       "      <td>23565.000000</td>\n",
       "    </tr>\n",
       "    <tr>\n",
       "      <th>mean</th>\n",
       "      <td>6.540058e+06</td>\n",
       "      <td>60.322824</td>\n",
       "      <td>34.621108</td>\n",
       "      <td>12.645370</td>\n",
       "      <td>2.070656</td>\n",
       "      <td>2.724530</td>\n",
       "      <td>5.878124</td>\n",
       "      <td>10.675875</td>\n",
       "      <td>14192.656056</td>\n",
       "      <td>28797.082701</td>\n",
       "      <td>518.289509</td>\n",
       "      <td>2.567367</td>\n",
       "      <td>6.401570</td>\n",
       "    </tr>\n",
       "    <tr>\n",
       "      <th>std</th>\n",
       "      <td>1.091093e+07</td>\n",
       "      <td>35.657060</td>\n",
       "      <td>22.399827</td>\n",
       "      <td>11.238595</td>\n",
       "      <td>1.078591</td>\n",
       "      <td>0.991026</td>\n",
       "      <td>4.871485</td>\n",
       "      <td>6.594823</td>\n",
       "      <td>8613.348153</td>\n",
       "      <td>12632.499735</td>\n",
       "      <td>278.009558</td>\n",
       "      <td>1.788279</td>\n",
       "      <td>3.492948</td>\n",
       "    </tr>\n",
       "    <tr>\n",
       "      <th>min</th>\n",
       "      <td>1.219000e+04</td>\n",
       "      <td>12.000000</td>\n",
       "      <td>2.000000</td>\n",
       "      <td>1.300000</td>\n",
       "      <td>0.000000</td>\n",
       "      <td>1.000000</td>\n",
       "      <td>1.000000</td>\n",
       "      <td>1.000000</td>\n",
       "      <td>181.000000</td>\n",
       "      <td>0.000000</td>\n",
       "      <td>13.000000</td>\n",
       "      <td>0.000000</td>\n",
       "      <td>1.000000</td>\n",
       "    </tr>\n",
       "    <tr>\n",
       "      <th>25%</th>\n",
       "      <td>3.400000e+06</td>\n",
       "      <td>40.000000</td>\n",
       "      <td>19.000000</td>\n",
       "      <td>7.300000</td>\n",
       "      <td>1.000000</td>\n",
       "      <td>2.600000</td>\n",
       "      <td>2.000000</td>\n",
       "      <td>5.000000</td>\n",
       "      <td>9238.000000</td>\n",
       "      <td>18565.000000</td>\n",
       "      <td>293.000000</td>\n",
       "      <td>1.000000</td>\n",
       "      <td>3.000000</td>\n",
       "    </tr>\n",
       "    <tr>\n",
       "      <th>50%</th>\n",
       "      <td>4.646000e+06</td>\n",
       "      <td>52.000000</td>\n",
       "      <td>30.000000</td>\n",
       "      <td>10.000000</td>\n",
       "      <td>2.000000</td>\n",
       "      <td>2.650000</td>\n",
       "      <td>4.000000</td>\n",
       "      <td>9.000000</td>\n",
       "      <td>13096.500000</td>\n",
       "      <td>26757.000000</td>\n",
       "      <td>503.000000</td>\n",
       "      <td>3.000000</td>\n",
       "      <td>6.000000</td>\n",
       "    </tr>\n",
       "    <tr>\n",
       "      <th>75%</th>\n",
       "      <td>6.790000e+06</td>\n",
       "      <td>69.700000</td>\n",
       "      <td>42.115385</td>\n",
       "      <td>13.350000</td>\n",
       "      <td>3.000000</td>\n",
       "      <td>2.700000</td>\n",
       "      <td>8.000000</td>\n",
       "      <td>16.000000</td>\n",
       "      <td>16285.000000</td>\n",
       "      <td>37273.000000</td>\n",
       "      <td>730.000000</td>\n",
       "      <td>4.000000</td>\n",
       "      <td>10.000000</td>\n",
       "    </tr>\n",
       "    <tr>\n",
       "      <th>max</th>\n",
       "      <td>7.630000e+08</td>\n",
       "      <td>900.000000</td>\n",
       "      <td>409.700000</td>\n",
       "      <td>288.461538</td>\n",
       "      <td>19.000000</td>\n",
       "      <td>100.000000</td>\n",
       "      <td>33.000000</td>\n",
       "      <td>60.000000</td>\n",
       "      <td>65968.000000</td>\n",
       "      <td>84869.000000</td>\n",
       "      <td>1344.000000</td>\n",
       "      <td>6.000000</td>\n",
       "      <td>12.000000</td>\n",
       "    </tr>\n",
       "  </tbody>\n",
       "</table>\n",
       "</div>"
      ],
      "text/plain": [
       "         last_price    total_area   living_area  kitchen_area         rooms  \\\n",
       "count  2.356500e+04  23565.000000  23565.000000  23565.000000  23565.000000   \n",
       "mean   6.540058e+06     60.322824     34.621108     12.645370      2.070656   \n",
       "std    1.091093e+07     35.657060     22.399827     11.238595      1.078591   \n",
       "min    1.219000e+04     12.000000      2.000000      1.300000      0.000000   \n",
       "25%    3.400000e+06     40.000000     19.000000      7.300000      1.000000   \n",
       "50%    4.646000e+06     52.000000     30.000000     10.000000      2.000000   \n",
       "75%    6.790000e+06     69.700000     42.115385     13.350000      3.000000   \n",
       "max    7.630000e+08    900.000000    409.700000    288.461538     19.000000   \n",
       "\n",
       "       ceiling_height         floor  floors_total  city_centers_nearest  \\\n",
       "count    23565.000000  23565.000000  23565.000000          18064.000000   \n",
       "mean         2.724530      5.878124     10.675875          14192.656056   \n",
       "std          0.991026      4.871485      6.594823           8613.348153   \n",
       "min          1.000000      1.000000      1.000000            181.000000   \n",
       "25%          2.600000      2.000000      5.000000           9238.000000   \n",
       "50%          2.650000      4.000000      9.000000          13096.500000   \n",
       "75%          2.700000      8.000000     16.000000          16285.000000   \n",
       "max        100.000000     33.000000     60.000000          65968.000000   \n",
       "\n",
       "       airports_nearest  ponds_nearest   day_of_week         month  \n",
       "count      18041.000000    9036.000000  23565.000000  23565.000000  \n",
       "mean       28797.082701     518.289509      2.567367      6.401570  \n",
       "std        12632.499735     278.009558      1.788279      3.492948  \n",
       "min            0.000000      13.000000      0.000000      1.000000  \n",
       "25%        18565.000000     293.000000      1.000000      3.000000  \n",
       "50%        26757.000000     503.000000      3.000000      6.000000  \n",
       "75%        37273.000000     730.000000      4.000000     10.000000  \n",
       "max        84869.000000    1344.000000      6.000000     12.000000  "
      ]
     },
     "metadata": {}
    }
   ]
  },
  {
   "cell_type": "markdown",
   "source": [
    "1. Значения, которые лежат в диапозоне 25-75% допустимы.\n",
    "2. В минимальных и максимальных значениях некоторых параметров лежат аномальные значения, но они спорные. К примеру, взять столбец total_area, вдруг существует квартира 900 кв м? "
   ],
   "metadata": {}
  },
  {
   "cell_type": "code",
   "source": [
    "#Гисторамма для общей площади.\n",
    "data['total_area'].hist(bins=8, grid = True, range=(0, 180))\n",
    "plt.xlabel('Квадратных метров')\n",
    "plt.ylabel('Кол-во объектов')\n",
    "plt.title('Общая площадь объектов')\n",
    "plt.show()"
   ],
   "metadata": {},
   "execution_count": 14,
   "outputs": [
    {
     "output_type": "display_data",
     "data": {
      "image/png": "[encoded data removed]",
      "text/plain": [
       "<Figure size 432x288 with 1 Axes>"
      ]
     },
     "metadata": {
      "needs_background": "light"
     }
    }
   ]
  },
  {
   "cell_type": "markdown",
   "source": [
    "Наибольшая доля объявлений выпадает на общую площадь в 25 до 50 квадратных метров. "
   ],
   "metadata": {}
  },
  {
   "cell_type": "code",
   "source": [
    "#Гисторамма для жилой площади.\n",
    "data['living_area'].hist(bins=15, grid = True, range=(0, 80))\n",
    "plt.xlabel('Квадратных метров')\n",
    "plt.ylabel('Кол-во объектов')\n",
    "plt.title('Жилая площадь объектов')\n",
    "plt.show()"
   ],
   "metadata": {},
   "execution_count": 15,
   "outputs": [
    {
     "output_type": "display_data",
     "data": {
      "image/png": "[encoded data removed]",
      "text/plain": [
       "<Figure size 432x288 with 1 Axes>"
      ]
     },
     "metadata": {
      "needs_background": "light"
     }
    }
   ]
  },
  {
   "cell_type": "markdown",
   "source": [
    "Наибольшая доля объявлений выпадает на жилую площадь с 17/18 до 47/48 метров квадратных, но пики находятся у объявлений с 20 и 30 квадратными метрами."
   ],
   "metadata": {}
  },
  {
   "cell_type": "code",
   "source": [
    "#Гисторамма для площади кухни.\n",
    "data['kitchen_area'].hist(bins=40, grid = True, range=(0, 30))\n",
    "plt.xlabel('Квадратных метров')\n",
    "plt.ylabel('Кол-во объектов')\n",
    "plt.title('Площадь кухонь')\n",
    "plt.show()"
   ],
   "metadata": {},
   "execution_count": 16,
   "outputs": [
    {
     "output_type": "display_data",
     "data": {
      "image/png": "[encoded data removed]",
      "text/plain": [
       "<Figure size 432x288 with 1 Axes>"
      ]
     },
     "metadata": {
      "needs_background": "light"
     }
    }
   ]
  },
  {
   "cell_type": "markdown",
   "source": [
    "Наибольшая доля объявлений выпадает на кухню с площадью от 5 до 10 квадратных метров."
   ],
   "metadata": {}
  },
  {
   "cell_type": "code",
   "source": [
    "#Гисторамма для цены объектов.\n",
    "data['last_price'].hist(bins=20, grid = True, range=(0, 15000000))\n",
    "plt.xlabel('Цена')\n",
    "plt.ylabel('Кол-во объектов')\n",
    "plt.title('Цена объектов')\n",
    "plt.show()"
   ],
   "metadata": {},
   "execution_count": 17,
   "outputs": [
    {
     "output_type": "display_data",
     "data": {
      "image/png": "[encoded data removed]",
      "text/plain": [
       "<Figure size 432x288 with 1 Axes>"
      ]
     },
     "metadata": {
      "needs_background": "light"
     }
    }
   ]
  },
  {
   "cell_type": "markdown",
   "source": [
    "Наибольшая доля объявлений выпадает на цены объектов приблизительно от 3 до 6 миллионов рублей."
   ],
   "metadata": {}
  },
  {
   "cell_type": "code",
   "source": [
    "#Гисторамма для количества комнат.\n",
    "data['rooms'].hist(bins=10, grid = True, range=(0, 10))\n",
    "plt.xlabel('Кол-во комнат')\n",
    "plt.ylabel('Кол-во объектов')\n",
    "plt.title('Количество комнат')\n",
    "plt.show()"
   ],
   "metadata": {},
   "execution_count": 18,
   "outputs": [
    {
     "output_type": "display_data",
     "data": {
      "image/png": "[encoded data removed]",
      "text/plain": [
       "<Figure size 432x288 with 1 Axes>"
      ]
     },
     "metadata": {
      "needs_background": "light"
     }
    }
   ]
  },
  {
   "cell_type": "markdown",
   "source": [
    "Наибольшая доля объявлений по количеству комнат выпадает от 1 до 3 комнат, но пик достигает больше у квартир, где 1-2 комнаты."
   ],
   "metadata": {}
  },
  {
   "cell_type": "code",
   "source": [
    "#Гисторамма для высоты потолков.\n",
    "data['ceiling_height'].hist(bins=15, grid = True, range=(2, 5))\n",
    "plt.xlabel('Кол-во метров')\n",
    "plt.ylabel('Кол-во объектов')\n",
    "plt.title('Высота потолков')\n",
    "plt.show()"
   ],
   "metadata": {},
   "execution_count": 19,
   "outputs": [
    {
     "output_type": "display_data",
     "data": {
      "image/png": "[encoded data removed]",
      "text/plain": [
       "<Figure size 432x288 with 1 Axes>"
      ]
     },
     "metadata": {
      "needs_background": "light"
     }
    }
   ]
  },
  {
   "cell_type": "markdown",
   "source": [
    "Наибольшая доля объявлений по высоте потолков выпадает приблизительно на 2.6-2.7 метра."
   ],
   "metadata": {}
  },
  {
   "cell_type": "code",
   "source": [
    "#Гисторамма для типа этажа квартиры.\n",
    "data['floors_category'].hist(bins=3, grid = True)\n",
    "plt.xlabel('Этажи')\n",
    "plt.ylabel('Кол-во объектов')\n",
    "plt.title('Тип этажа квартиры')\n",
    "plt.show()"
   ],
   "metadata": {},
   "execution_count": 20,
   "outputs": [
    {
     "output_type": "display_data",
     "data": {
      "image/png": "[encoded data removed]",
      "text/plain": [
       "<Figure size 432x288 with 1 Axes>"
      ]
     },
     "metadata": {
      "needs_background": "light"
     }
    }
   ]
  },
  {
   "cell_type": "markdown",
   "source": [
    "Наибольшая доля квартир расположена между первым и последним этажом."
   ],
   "metadata": {}
  },
  {
   "cell_type": "code",
   "source": [
    "#Гисторамма для общего количества этажей в объекте.\n",
    "data['floors_total'].hist(bins=5, grid = True, range=(0, 50))\n",
    "plt.xlabel('Кол-во этажей')\n",
    "plt.ylabel('Кол-во объектов')\n",
    "plt.title('Общее количество этажей в объекте')\n",
    "plt.show()"
   ],
   "metadata": {},
   "execution_count": 21,
   "outputs": [
    {
     "output_type": "display_data",
     "data": {
      "image/png": "[encoded data removed]",
      "text/plain": [
       "<Figure size 432x288 with 1 Axes>"
      ]
     },
     "metadata": {
      "needs_background": "light"
     }
    }
   ]
  },
  {
   "cell_type": "markdown",
   "source": [
    "Наибольшая доля объектов имеет не более 10 этажей."
   ],
   "metadata": {}
  },
  {
   "cell_type": "code",
   "source": [
    "#Гисторамма для расстояния до центра города в метрах.\n",
    "data['city_centers_nearest'].hist(bins=6, grid = True, range=(0, 40000))\n",
    "plt.xlabel('Кол-во метров')\n",
    "plt.ylabel('Кол-во объектов')\n",
    "plt.title('Расстояние до центра города')\n",
    "plt.show()"
   ],
   "metadata": {},
   "execution_count": 22,
   "outputs": [
    {
     "output_type": "display_data",
     "data": {
      "image/png": "[encoded data removed]",
      "text/plain": [
       "<Figure size 432x288 with 1 Axes>"
      ]
     },
     "metadata": {
      "needs_background": "light"
     }
    }
   ]
  },
  {
   "cell_type": "markdown",
   "source": [
    "Наибольшая доля объектов имеет расстояния до центра города приблизительно от 6-7 до 12-13 км."
   ],
   "metadata": {}
  },
  {
   "cell_type": "code",
   "source": [
    "#Гисторамма для расстояния до ближайшего аэропорта.\n",
    "data['airports_nearest'].hist(bins=8, grid = True, range=(0, 80000))\n",
    "plt.xlabel('Кол-во метров')\n",
    "plt.ylabel('Кол-во объектов')\n",
    "plt.title('Расстояние до аэропорта')\n",
    "plt.show()"
   ],
   "metadata": {},
   "execution_count": 23,
   "outputs": [
    {
     "output_type": "display_data",
     "data": {
      "image/png": "[encoded data removed]",
      "text/plain": [
       "<Figure size 432x288 with 1 Axes>"
      ]
     },
     "metadata": {
      "needs_background": "light"
     }
    }
   ]
  },
  {
   "cell_type": "markdown",
   "source": [
    "Наибольшая доля объектов имеет расстояния до аэропорта от 10 до 20 км."
   ],
   "metadata": {}
  },
  {
   "cell_type": "code",
   "source": [
    "#Гисторамма для расстояния до ближайшего парка.\n",
    "data['ponds_nearest'].hist(bins=10, grid = True, range=(0, 3000))\n",
    "plt.xlabel('Кол-во метров')\n",
    "plt.ylabel('Кол-во объектов')\n",
    "plt.title('Расстояние до парка')\n",
    "plt.show()"
   ],
   "metadata": {},
   "execution_count": 24,
   "outputs": [
    {
     "output_type": "display_data",
     "data": {
      "image/png": "[encoded data removed]",
      "text/plain": [
       "<Figure size 432x288 with 1 Axes>"
      ]
     },
     "metadata": {
      "needs_background": "light"
     }
    }
   ]
  },
  {
   "cell_type": "markdown",
   "source": [
    "Большая часть объявление не содержит в себе информации о расстоянии до ближайшего парка. Лишь малая часть указала расстояния и оно не привышает 1,5 км."
   ],
   "metadata": {}
  },
  {
   "cell_type": "code",
   "source": [
    "#Гисторамма для дня публикации.\n",
    "data['day_of_week'].hist(bins=7, grid = True, range=(0, 7))\n",
    "plt.xlabel('День недели')\n",
    "plt.ylabel('Кол-во объектов')\n",
    "plt.title('День публикации')\n",
    "plt.show()"
   ],
   "metadata": {},
   "execution_count": 25,
   "outputs": [
    {
     "output_type": "display_data",
     "data": {
      "image/png": "[encoded data removed]",
      "text/plain": [
       "<Figure size 432x288 with 1 Axes>"
      ]
     },
     "metadata": {
      "needs_background": "light"
     }
    }
   ]
  },
  {
   "cell_type": "markdown",
   "source": [
    "Объявления появляются куда чаще в будние дни, нежели в выходные."
   ],
   "metadata": {}
  },
  {
   "cell_type": "code",
   "source": [
    "#Гисторамма для месяца публикации.\n",
    "data['month'].hist(bins=12, grid = True, range=(1, 12))\n",
    "plt.xlabel('Месяц')\n",
    "plt.ylabel('Кол-во объектов')\n",
    "plt.title('Месяц публикации')\n",
    "plt.show()"
   ],
   "metadata": {},
   "execution_count": 26,
   "outputs": [
    {
     "output_type": "display_data",
     "data": {
      "image/png": "[encoded data removed]",
      "text/plain": [
       "<Figure size 432x288 with 1 Axes>"
      ]
     },
     "metadata": {
      "needs_background": "light"
     }
    }
   ]
  },
  {
   "cell_type": "markdown",
   "source": [
    "Объявления чаще всего выкладывают в следующие месяцы: февраль, март, апрель, сентябрь, октябрь, ноябрь. Меньше всего объявлений приходится на: наименьшее на май, июнь, июль, август, декабрь, январь."
   ],
   "metadata": {}
  },
  {
   "cell_type": "markdown",
   "source": [
    "#### \"Изучите, как быстро продавались квартиры (столбец days_exposition). Этот параметр показывает, сколько дней «висело» каждое объявление.\n",
    "1. Постройте гистограмму.\n",
    "2. Посчитайте среднее и медиану.\n",
    "3. В ячейке типа markdown опишите, сколько обычно занимает продажа. Какие продажи можно считать быстрыми, а какие — необычно долгими?\""
   ],
   "metadata": {}
  },
  {
   "cell_type": "code",
   "source": [
    "data.query('days_exposition !=0')['days_exposition'].hist(bins=200, figsize=(9, 3))"
   ],
   "metadata": {},
   "execution_count": 27,
   "outputs": [
    {
     "execution_count": 27,
     "output_type": "execute_result",
     "data": {
      "text/plain": [
       "<AxesSubplot:>"
      ]
     },
     "metadata": {}
    },
    {
     "output_type": "display_data",
     "data": {
      "image/png": "[encoded data removed]",
      "text/plain": [
       "<Figure size 648x216 with 1 Axes>"
      ]
     },
     "metadata": {
      "needs_background": "light"
     }
    }
   ]
  },
  {
   "cell_type": "code",
   "source": [
    "data.query('days_exposition !=0')['days_exposition'].describe()"
   ],
   "metadata": {},
   "execution_count": 28,
   "outputs": [
    {
     "execution_count": 28,
     "output_type": "execute_result",
     "data": {
      "text/plain": [
       "count    20394.000000\n",
       "mean       180.741395\n",
       "std        219.732782\n",
       "min          1.000000\n",
       "25%         45.000000\n",
       "50%         95.000000\n",
       "75%        231.000000\n",
       "max       1580.000000\n",
       "Name: days_exposition, dtype: float64"
      ]
     },
     "metadata": {}
    }
   ]
  },
  {
   "cell_type": "markdown",
   "source": [
    "Изучив гистрограмму, Q1, Q2 и Q3, можно сделать следующие выводы:\n",
    "1. Самая быстрая продажа происходила в течении 45 дней.\n",
    "2. В среднем продажа происходила в течении 95 дней.\n",
    "3. 233 дня и более указывает на явные аномальные значения и долгие продажи."
   ],
   "metadata": {}
  },
  {
   "cell_type": "markdown",
   "source": [
    "####  \"Какие факторы больше всего влияют на общую (полную) стоимость объекта? Постройте графики, которые покажут зависимость цены от указанных ниже параметров. Для подготовки данных перед визуализацией вы можете использовать сводные таблицы.\"\n",
    "  - общей площади;\n",
    "  - жилой площади;\n",
    "  - площади кухни;\n",
    "  - количество комнат;\n",
    "  - типа этажа, на котором расположена квартира (первый, последний, другой);\n",
    "  - даты размещения (день недели, месяц, год);"
   ],
   "metadata": {}
  },
  {
   "cell_type": "code",
   "source": [
    "#Построение графика зависимости цены от общей площади\n",
    "print('Корреляция стоимости и общей площади объекта:', data['total_area'].corr(data['last_price']))\n",
    "(data.pivot_table(values='last_price', index='total_area', aggfunc='mean')\n",
    ".plot(grid=True, style= 'o', figsize=(6, 6))\n",
    ".set(xlabel='Общая площадь', ylabel='Цена', title='Зависимость цены от общей площади'))\n",
    "plt.show()"
   ],
   "metadata": {},
   "execution_count": 29,
   "outputs": [
    {
     "name": "stdout",
     "output_type": "stream",
     "text": "Корреляция стоимости и общей площади объекта: 0.6536213939252808\n"
    },
    {
     "output_type": "display_data",
     "data": {
      "image/png": "[encoded data removed]",
      "text/plain": [
       "<Figure size 432x432 with 1 Axes>"
      ]
     },
     "metadata": {
      "needs_background": "light"
     }
    }
   ]
  },
  {
   "cell_type": "code",
   "source": [
    "#Построение сводной таблицы и графика зависимости цены от жилой площади\n",
    "print('Корреляция стоимости и жилой площади:', data['living_area'].corr(data['last_price']))\n",
    "(data.pivot_table(values='last_price', index='living_area', aggfunc='mean')\n",
    ".plot(grid=True, style= 'o', figsize=(6, 6))\n",
    ".set(xlabel='Жилая площадь', ylabel='Средняя цена', title='Зависимость цены от жилой площади'))\n",
    "plt.show()"
   ],
   "metadata": {},
   "execution_count": 30,
   "outputs": [
    {
     "name": "stdout",
     "output_type": "stream",
     "text": "Корреляция стоимости и жилой площади: 0.5857830307420002\n"
    },
    {
     "output_type": "display_data",
     "data": {
      "image/png": "[encoded data removed]",
      "text/plain": [
       "<Figure size 432x432 with 1 Axes>"
      ]
     },
     "metadata": {
      "needs_background": "light"
     }
    }
   ]
  },
  {
   "cell_type": "code",
   "source": [
    "#Построение сводной таблицы и графика зависимости цены от площади кухни\n",
    "print('Корреляция стоимости и площадь кухни:', data['kitchen_area'].corr(data['last_price']))\n",
    "(data.pivot_table(values='last_price', index='kitchen_area', aggfunc='mean')\n",
    ".plot(grid=True, style= 'o', figsize=(6, 6))\n",
    ".set(xlabel='Площадь кухни', ylabel='Средняя цена', title='Зависимость цены от площади кухни'))\n",
    "plt.show()"
   ],
   "metadata": {},
   "execution_count": 31,
   "outputs": [
    {
     "name": "stdout",
     "output_type": "stream",
     "text": "Корреляция стоимости и площадь кухни: 0.40399594465846533\n"
    },
    {
     "output_type": "display_data",
     "data": {
      "image/png": "[encoded data removed]",
      "text/plain": [
       "<Figure size 432x432 with 1 Axes>"
      ]
     },
     "metadata": {
      "needs_background": "light"
     }
    }
   ]
  },
  {
   "cell_type": "code",
   "source": [
    "#Построение сводной таблицы и графика зависимости цены от количества комнат\n",
    "print('Корреляция стоимости и кол-ва комнат:', data['rooms'].corr(data['last_price']))\n",
    "(data.pivot_table(values='last_price', index='rooms', aggfunc='mean')\n",
    ".plot(grid=True, style= 'o', figsize=(6, 6))\n",
    ".set(xlabel='Количество комнат', ylabel='Средняя цена', title='Зависимость цены от количества комнат'))\n",
    "plt.show()"
   ],
   "metadata": {},
   "execution_count": 32,
   "outputs": [
    {
     "name": "stdout",
     "output_type": "stream",
     "text": "Корреляция стоимости и кол-ва комнат: 0.3631905485065752\n"
    },
    {
     "output_type": "display_data",
     "data": {
      "image/png": "[encoded data removed]",
      "text/plain": [
       "<Figure size 432x432 with 1 Axes>"
      ]
     },
     "metadata": {
      "needs_background": "light"
     }
    }
   ]
  },
  {
   "cell_type": "code",
   "source": [
    "#Посттроение сводной таблицы и графика зависимости цены от типа этажа\n",
    "(data.pivot_table(values='last_price', index='floors_category', aggfunc='median')\n",
    ".plot(grid=True, figsize=(6, 6))\n",
    ".set(xlabel='Тип этажа', ylabel='Средняя цена', title='Зависимость цены от типа этажа'))\n",
    "plt.show()"
   ],
   "metadata": {},
   "execution_count": 33,
   "outputs": [
    {
     "output_type": "display_data",
     "data": {
      "image/png": "[encoded data removed]",
      "text/plain": [
       "<Figure size 432x432 with 1 Axes>"
      ]
     },
     "metadata": {
      "needs_background": "light"
     }
    }
   ]
  },
  {
   "cell_type": "code",
   "source": [
    "#Построение сводной таблицы и графика зависимости цены от дня недели размещения\n",
    "(data.pivot_table(values='last_price', index='day_of_week', aggfunc='median')\n",
    ".plot(grid=True, figsize=(6, 6))\n",
    ".set(xlabel='День недели', ylabel='Средняя цена', title='Зависимость цены от дня недели размещения'))\n",
    "plt.show()"
   ],
   "metadata": {},
   "execution_count": 34,
   "outputs": [
    {
     "output_type": "display_data",
     "data": {
      "image/png": "[encoded data removed]",
      "text/plain": [
       "<Figure size 432x432 with 1 Axes>"
      ]
     },
     "metadata": {
      "needs_background": "light"
     }
    }
   ]
  },
  {
   "cell_type": "code",
   "source": [
    "#Построение сводной таблицы и графика зависимости цены от месяца размещения\n",
    "(data.pivot_table(values='last_price', index='month', aggfunc='median')\n",
    ".plot(grid=True, figsize=(6, 6))\n",
    ".set(xlabel='Месяц', ylabel='Средняя цена', title='Зависимость цены от месяца размещения'))\n",
    "plt.show()"
   ],
   "metadata": {},
   "execution_count": 35,
   "outputs": [
    {
     "output_type": "display_data",
     "data": {
      "image/png": "[encoded data removed]",
      "text/plain": [
       "<Figure size 432x432 with 1 Axes>"
      ]
     },
     "metadata": {
      "needs_background": "light"
     }
    }
   ]
  },
  {
   "cell_type": "code",
   "source": [
    "#Построение сводной таблицы и графика зависимости цены от года размещения\n",
    "(data.pivot_table(values='last_price', index='year', aggfunc='median')\n",
    ".plot(grid=True, figsize=(6, 6))\n",
    ".set(xlabel='Год', ylabel='Средняя цена', title='Зависимость цены от года размещения'))\n",
    "plt.show()"
   ],
   "metadata": {},
   "execution_count": 36,
   "outputs": [
    {
     "output_type": "display_data",
     "data": {
      "image/png": "[encoded data removed]",
      "text/plain": [
       "<Figure size 432x432 with 1 Axes>"
      ]
     },
     "metadata": {
      "needs_background": "light"
     }
    }
   ]
  },
  {
   "cell_type": "markdown",
   "source": [
    "Вывод:\n",
    "1. При росте жилой площади стоимость увеличивается.\n",
    "2. На стоимость жилья влияет тип этажа. Например: группа \"Другой\" значительно дороже группы \"Первый этаж\".\n",
    "3. На момент 2014 года квартиры были более дороги, но потом резко привели к спаду цен и только лишь с 2018 года начали подниматься.\n",
    "4. Самые дорогие объявления выкладываются в апреле, а самые дешевые в мае и июне"
   ],
   "metadata": {}
  },
  {
   "cell_type": "markdown",
   "source": [
    "#### Посчитайте среднюю цену одного квадратного метра в 10 населённых пунктах с наибольшим числом объявлений. Выделите населённые пункты с самой высокой и низкой стоимостью квадратного метра. Эти данные можно найти по имени в столбце `locality_name`."
   ],
   "metadata": {}
  },
  {
   "cell_type": "code",
   "source": [
    "#Подсчет числа объявлений по населенным пунктам\n",
    "ads = data['locality_name'].value_counts().head(10).index\n",
    "\n",
    "#Фильтрация данных для выбранных населенных пунктов\n",
    "filtered_data = data[data['locality_name'].isin(ads)]\n",
    "\n",
    "#Расчет средней цены за квадратный метр\n",
    "filtered_data['price_for_one_meter'] = filtered_data['last_price'] / filtered_data['total_area']\n",
    "mean_price_of_meter = filtered_data.groupby('locality_name')['price_for_one_meter'].median()\n",
    "\n",
    "#Населенный пункт с самой высокой стоимостью квадратного метра\n",
    "highest_price_locality = mean_price_of_meter.idxmax()\n",
    "highest_price_of_meter = mean_price_of_meter.max()\n",
    "\n",
    "#Населенный пункт с самой низкой стоимостью квадратного метра\n",
    "lowest_price_locality = mean_price_of_meter.idxmin()\n",
    "lowest_price_of_meter = mean_price_of_meter.min()\n",
    "\n",
    "print(\"Средняя цена за квадратный метр в 10 населенных пунктах с наибольшим числом объявлений:\")\n",
    "print(mean_price_of_meter.sort_values(ascending=False))\n",
    "\n",
    "print(\"\\nНаселенный пункт с самой высокой стоимостью квадратного метра:\")\n",
    "print(highest_price_locality, \"-\", highest_price_of_meter)\n",
    "\n",
    "print(\"\\nНаселенный пункт с самой низкой стоимостью квадратного метра:\")\n",
    "print(lowest_price_locality, \"-\", lowest_price_of_meter)"
   ],
   "metadata": {},
   "execution_count": 37,
   "outputs": [
    {
     "name": "stdout",
     "output_type": "stream",
     "text": "Средняя цена за квадратный метр в 10 населенных пунктах с наибольшим числом объявлений:\n\nlocality_name\n\nСанкт-Петербург      104774.535809\n\nПушкин               100000.000000\n\nдеревня Кудрово       91860.465116\n\nпосёлок Парголово     91642.857143\n\nпосёлок Мурино        86059.293995\n\nпосёлок Шушары        76829.268293\n\nКолпино               74723.748474\n\nГатчина               67796.610169\n\nВсеволожск            65789.473684\n\nВыборг                58158.319871\n\nName: price_for_one_meter, dtype: float64\n\n\n\nНаселенный пункт с самой высокой стоимостью квадратного метра:\n\nСанкт-Петербург - 104774.53580901856\n\n\n\nНаселенный пункт с самой низкой стоимостью квадратного метра:\n\nВыборг - 58158.31987075929\n"
    },
    {
     "name": "stderr",
     "output_type": "stream",
     "text": "/tmp/ipykernel_199/3890609473.py:8: SettingWithCopyWarning: \n\nA value is trying to be set on a copy of a slice from a DataFrame.\n\nTry using .loc[row_indexer,col_indexer] = value instead\n\n\n\nSee the caveats in the documentation: https://pandas.pydata.org/pandas-docs/stable/user_guide/indexing.html#returning-a-view-versus-a-copy\n\n  filtered_data['price_for_one_meter'] = filtered_data['last_price'] / filtered_data['total_area']\n"
    }
   ]
  },
  {
   "cell_type": "markdown",
   "source": [
    "Самая дорогая стоимость за квадратный метр находятся в Санкт-Петергбурге, а в Выборге самая дешевая."
   ],
   "metadata": {}
  },
  {
   "cell_type": "markdown",
   "source": [
    "####  \"Ранее вы посчитали расстояние до центра в километрах. Теперь выделите квартиры в Санкт-Петербурге с помощью столбца `locality_name` и вычислите среднюю цену каждого километра. Опишите, как стоимость объектов зависит от расстояния до центра города.\""
   ],
   "metadata": {}
  },
  {
   "cell_type": "code",
   "source": [
    "#Фильтрация данных для квартир в Санкт-Петербурге\n",
    "spb_data = data[data['locality_name'] == 'Санкт-Петербург']\n",
    "\n",
    "(spb_data.pivot_table(index='city_centers_km', values='last_price', aggfunc='mean')\n",
    ".plot(grid=True, figsize=(6, 6))\n",
    ".set(xlabel='Стоимость объектов', ylabel='Удаленность от центра', title='Зависимость цены от удаленности от центра'))\n",
    "plt.show()\n"
   ],
   "metadata": {},
   "execution_count": 38,
   "outputs": [
    {
     "output_type": "display_data",
     "data": {
      "image/png": "[encoded data removed]",
      "text/plain": [
       "<Figure size 432x432 with 1 Axes>"
      ]
     },
     "metadata": {
      "needs_background": "light"
     }
    }
   ]
  },
  {
   "cell_type": "markdown",
   "source": [
    "Стоимость недвижимости падает по мере удаленности от центра."
   ],
   "metadata": {}
  },
  {
   "cell_type": "markdown",
   "source": [
    "### Результаты исследования:\n",
    "Мы провели достаточно большой анализ данных. Обработали пропуски, заменили типы данных для удобной работы. Посчитали цены за квадратный метр жилья, добавили категоризацию этажей, вывели из даты дни, месяца и года. зучили следующие параметры на наличие выбивающихся значений - площадь, цена, число комнат, высота потолков. Были определены аномалии в данных параметрах.\n",
    "1. Люди отдают предпочтение квартире со следующими параметрами: одна или двухкомнатная квартира с общей стоимостью от 3 до 6 млн. руб., цена от 75 до 100 тыс. руб. за кв.м., площадью составляет от 25 до 50 кв.м., жилая площадь в границах от 15 до 45 кв.м., площадь кухни составляет от 5 до 10 кв.м., квартира с потолоком в 2,6 м., в жилом доме с этажностью не более 10 этажей, который расположен 10-15 километрах от центра.\n",
    "2. Зачастую квартиры рассматривают, которые находятся не на первом и не на последнем этаже.\n",
    "3. Некоторые данные скрыты владельцами о квартире, к примеру, информация о удаленности от аэропорта часто отсутствует.\n",
    "4. Объявления о продаже квартире чаще всего выставляют в будние дни, нежели в выходные. Также активность о размещении объявлений приходятся на следующие месяца: февраль, март, апрель, сентябрь, октябрь и ноябрь.\n",
    "5. Медианный срок продажи квартир составляет около 95 дней.\n",
    "6. Проведя исследования, выяснилось, что самая дорога недвижимость находится в Санкт-Петербурге, а самая дешевая в Выборге."
   ],
   "metadata": {}
  },
  {
   "cell_type": "markdown",
   "source": [
    "**Чек-лист готовности проекта**\n",
    "\n",
    "Поставьте 'x' в выполненных пунктах. Далее нажмите Shift+Enter."
   ],
   "metadata": {}
  },
  {
   "cell_type": "markdown",
   "source": [
    "- [x]  открыт файл\n",
    "- [x]  файлы изучены (выведены первые строки, метод `info()`, гистограммы и т.д.)\n",
    "- [x]  определены пропущенные значения\n",
    "- [x]  заполнены пропущенные значения там, где это возможно\n",
    "- [x]  есть пояснение, какие пропущенные значения обнаружены\n",
    "- [x]  изменены типы данных\n",
    "- [x]  есть пояснение, в каких столбцах изменены типы и почему\n",
    "- [x]  устранены неявные дубликаты в названиях населённых пунктов\n",
    "- [x]  устранены редкие и выбивающиеся значения (аномалии) во всех столбцах\n",
    "- [x]  посчитано и добавлено в таблицу: цена одного квадратного метра\n",
    "- [x]  посчитано и добавлено в таблицу: день публикации объявления (0 - понедельник, 1 - вторник и т.д.)\n",
    "- [x]  посчитано и добавлено в таблицу: месяц публикации объявления\n",
    "- [x]  посчитано и добавлено в таблицу: год публикации объявления\n",
    "- [x]  посчитано и добавлено в таблицу: тип этажа квартиры (значения — «первый», «последний», «другой»)\n",
    "- [x]  посчитано и добавлено в таблицу: расстояние в км до центра города\n",
    "- [x]  изучены и описаны следующие параметры:\n",
    "        - общая площадь;\n",
    "        - жилая площадь;\n",
    "        - площадь кухни;\n",
    "        - цена объекта;\n",
    "        - количество комнат;\n",
    "        - высота потолков;\n",
    "        - этаж квартиры;\n",
    "        - тип этажа квартиры («первый», «последний», «другой»);\n",
    "        - общее количество этажей в доме;\n",
    "        - расстояние до центра города в метрах;\n",
    "        - расстояние до ближайшего аэропорта;\n",
    "        - расстояние до ближайшего парка;\n",
    "        - день и месяц публикации объявления\n",
    "- [x]  построены гистограммы для каждого параметра\n",
    "- [x]  выполнено задание: \"Изучите, как быстро продавались квартиры (столбец days_exposition). Этот параметр показывает, сколько дней «висело» каждое объявление.\n",
    "    - Постройте гистограмму.\n",
    "    - Посчитайте среднее и медиану.\n",
    "    - В ячейке типа markdown опишите, сколько обычно занимает продажа. Какие продажи можно считать быстрыми, а какие — необычно долгими?\"\n",
    "- [x]  выполнено задание: \"Какие факторы больше всего влияют на общую (полную) стоимость объекта? Постройте графики, которые покажут зависимость цены от указанных ниже параметров. Для подготовки данных перед визуализацией вы можете использовать сводные таблицы.\"\n",
    "        - общей площади;\n",
    "        - жилой площади;\n",
    "        - площади кухни;\n",
    "        - количество комнат;\n",
    "        - типа этажа, на котором расположена квартира (первый, последний, другой);\n",
    "        - даты размещения (день недели, месяц, год);\n",
    "- [x]  выполнено задание: \"Посчитайте среднюю цену одного квадратного метра в 10 населённых пунктах с наибольшим числом объявлений. Выделите населённые пункты с самой высокой и низкой стоимостью квадратного метра. Эти данные можно найти по имени в столбце `locality_name`.\"\n",
    "- [x]  выполнено задание: \"Ранее вы посчитали расстояние до центра в километрах. Теперь выделите квартиры в Санкт-Петербурге с помощью столбца `locality_name` и вычислите среднюю цену каждого километра. Опишите, как стоимость объектов зависит от расстояния до центра города.\"\n",
    "- [x]  в каждом этапе есть промежуточные выводы\n",
    "- [x]  есть общий вывод"
   ],
   "metadata": {}
  }
 ]
}
