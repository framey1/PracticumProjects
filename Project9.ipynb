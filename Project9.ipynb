{
  "metadata": {
    "ExecuteTimeLog": [
      {
        "duration": 1716,
        "start_time": "2023-10-31T15:15:42.174Z"
      },
      {
        "duration": 1210,
        "start_time": "2023-10-31T15:17:22.861Z"
      },
      {
        "duration": 35,
        "start_time": "2023-10-31T15:17:34.678Z"
      },
      {
        "duration": 147,
        "start_time": "2023-10-31T15:17:49.711Z"
      },
      {
        "duration": 47,
        "start_time": "2023-11-02T08:37:40.501Z"
      },
      {
        "duration": 1574,
        "start_time": "2023-11-02T08:37:51.897Z"
      },
      {
        "duration": 2951,
        "start_time": "2023-11-02T08:37:53.473Z"
      },
      {
        "duration": 26,
        "start_time": "2023-11-02T08:37:56.426Z"
      },
      {
        "duration": 145,
        "start_time": "2023-11-02T08:37:56.454Z"
      },
      {
        "duration": 3,
        "start_time": "2023-11-02T08:37:56.601Z"
      },
      {
        "duration": 16,
        "start_time": "2023-11-02T08:38:23.012Z"
      },
      {
        "duration": 131,
        "start_time": "2023-11-02T09:07:57.547Z"
      },
      {
        "duration": 114,
        "start_time": "2023-11-02T09:11:21.744Z"
      },
      {
        "duration": 133,
        "start_time": "2023-11-02T09:11:28.513Z"
      },
      {
        "duration": 129,
        "start_time": "2023-11-02T09:11:42.347Z"
      },
      {
        "duration": 11,
        "start_time": "2023-11-02T09:14:07.700Z"
      },
      {
        "duration": 422,
        "start_time": "2023-11-02T09:14:15.379Z"
      },
      {
        "duration": 126,
        "start_time": "2023-11-02T09:14:42.020Z"
      },
      {
        "duration": 401,
        "start_time": "2023-11-02T09:14:45.697Z"
      },
      {
        "duration": 411,
        "start_time": "2023-11-02T09:15:05.138Z"
      },
      {
        "duration": 431,
        "start_time": "2023-11-02T09:15:19.060Z"
      },
      {
        "duration": 892,
        "start_time": "2023-11-02T09:16:32.342Z"
      },
      {
        "duration": 187,
        "start_time": "2023-11-02T09:24:49.939Z"
      },
      {
        "duration": 4,
        "start_time": "2023-11-02T09:25:22.220Z"
      },
      {
        "duration": 132,
        "start_time": "2023-11-02T09:25:34.699Z"
      },
      {
        "duration": 1466,
        "start_time": "2023-11-02T09:25:51.048Z"
      },
      {
        "duration": 1004,
        "start_time": "2023-11-02T09:25:52.516Z"
      },
      {
        "duration": 27,
        "start_time": "2023-11-02T09:25:53.521Z"
      },
      {
        "duration": 161,
        "start_time": "2023-11-02T09:25:53.551Z"
      },
      {
        "duration": 3,
        "start_time": "2023-11-02T09:25:53.714Z"
      },
      {
        "duration": 39,
        "start_time": "2023-11-02T09:25:53.719Z"
      },
      {
        "duration": 163,
        "start_time": "2023-11-02T09:25:53.760Z"
      },
      {
        "duration": 225,
        "start_time": "2023-11-02T09:25:53.925Z"
      },
      {
        "duration": 210,
        "start_time": "2023-11-02T09:25:54.153Z"
      },
      {
        "duration": 444,
        "start_time": "2023-11-02T09:25:54.366Z"
      },
      {
        "duration": 845,
        "start_time": "2023-11-02T09:25:54.812Z"
      },
      {
        "duration": 97,
        "start_time": "2023-11-02T09:29:41.572Z"
      },
      {
        "duration": 33,
        "start_time": "2023-11-02T09:31:39.550Z"
      },
      {
        "duration": 110,
        "start_time": "2023-11-02T09:32:10.835Z"
      },
      {
        "duration": 1548,
        "start_time": "2023-11-02T09:33:06.844Z"
      },
      {
        "duration": 848,
        "start_time": "2023-11-02T09:33:10.878Z"
      },
      {
        "duration": 30,
        "start_time": "2023-11-02T09:33:11.728Z"
      },
      {
        "duration": 133,
        "start_time": "2023-11-02T09:33:12.237Z"
      },
      {
        "duration": 5,
        "start_time": "2023-11-02T09:33:13.068Z"
      },
      {
        "duration": 14,
        "start_time": "2023-11-02T09:33:16.914Z"
      },
      {
        "duration": 138,
        "start_time": "2023-11-02T09:33:20.917Z"
      },
      {
        "duration": 192,
        "start_time": "2023-11-02T09:33:38.837Z"
      },
      {
        "duration": 133,
        "start_time": "2023-11-02T09:33:39.953Z"
      },
      {
        "duration": 452,
        "start_time": "2023-11-02T09:33:42.316Z"
      },
      {
        "duration": 1027,
        "start_time": "2023-11-02T09:33:43.319Z"
      },
      {
        "duration": 88,
        "start_time": "2023-11-02T09:33:45.787Z"
      },
      {
        "duration": 134,
        "start_time": "2023-11-02T09:34:26.231Z"
      },
      {
        "duration": 27,
        "start_time": "2023-11-02T09:34:34.126Z"
      },
      {
        "duration": 1740,
        "start_time": "2023-11-02T09:36:09.995Z"
      },
      {
        "duration": 932,
        "start_time": "2023-11-02T09:36:11.737Z"
      },
      {
        "duration": 23,
        "start_time": "2023-11-02T09:36:12.671Z"
      },
      {
        "duration": 154,
        "start_time": "2023-11-02T09:36:12.696Z"
      },
      {
        "duration": 4,
        "start_time": "2023-11-02T09:36:12.852Z"
      },
      {
        "duration": 48,
        "start_time": "2023-11-02T09:36:12.857Z"
      },
      {
        "duration": 155,
        "start_time": "2023-11-02T09:36:12.906Z"
      },
      {
        "duration": 201,
        "start_time": "2023-11-02T09:36:13.063Z"
      },
      {
        "duration": 133,
        "start_time": "2023-11-02T09:36:13.266Z"
      },
      {
        "duration": 478,
        "start_time": "2023-11-02T09:36:13.401Z"
      },
      {
        "duration": 1022,
        "start_time": "2023-11-02T09:36:13.880Z"
      },
      {
        "duration": 95,
        "start_time": "2023-11-02T09:36:14.903Z"
      },
      {
        "duration": 45,
        "start_time": "2023-11-02T09:36:14.999Z"
      },
      {
        "duration": 33434,
        "start_time": "2023-11-07T07:01:12.881Z"
      },
      {
        "duration": 585,
        "start_time": "2023-11-07T07:01:46.317Z"
      },
      {
        "duration": 0,
        "start_time": "2023-11-07T07:01:46.905Z"
      },
      {
        "duration": 0,
        "start_time": "2023-11-07T07:01:46.906Z"
      },
      {
        "duration": 0,
        "start_time": "2023-11-07T07:01:46.907Z"
      },
      {
        "duration": 0,
        "start_time": "2023-11-07T07:01:46.908Z"
      },
      {
        "duration": 0,
        "start_time": "2023-11-07T07:01:46.909Z"
      },
      {
        "duration": 0,
        "start_time": "2023-11-07T07:01:46.910Z"
      },
      {
        "duration": 0,
        "start_time": "2023-11-07T07:01:46.911Z"
      },
      {
        "duration": 0,
        "start_time": "2023-11-07T07:01:46.912Z"
      },
      {
        "duration": 0,
        "start_time": "2023-11-07T07:01:46.913Z"
      },
      {
        "duration": 0,
        "start_time": "2023-11-07T07:01:46.914Z"
      },
      {
        "duration": 0,
        "start_time": "2023-11-07T07:01:46.915Z"
      },
      {
        "duration": 0,
        "start_time": "2023-11-07T07:01:46.916Z"
      },
      {
        "duration": 0,
        "start_time": "2023-11-07T07:01:46.917Z"
      },
      {
        "duration": 13,
        "start_time": "2023-11-07T07:02:17.908Z"
      },
      {
        "duration": 1657,
        "start_time": "2023-11-07T07:03:05.558Z"
      },
      {
        "duration": 3067,
        "start_time": "2023-11-07T07:03:07.217Z"
      },
      {
        "duration": 25,
        "start_time": "2023-11-07T07:03:10.286Z"
      },
      {
        "duration": 170,
        "start_time": "2023-11-07T07:03:10.313Z"
      },
      {
        "duration": 4,
        "start_time": "2023-11-07T07:03:10.485Z"
      },
      {
        "duration": 27,
        "start_time": "2023-11-07T07:03:10.491Z"
      },
      {
        "duration": 185,
        "start_time": "2023-11-07T07:03:10.519Z"
      },
      {
        "duration": 207,
        "start_time": "2023-11-07T07:03:10.706Z"
      },
      {
        "duration": 167,
        "start_time": "2023-11-07T07:03:10.915Z"
      },
      {
        "duration": 460,
        "start_time": "2023-11-07T07:03:11.084Z"
      },
      {
        "duration": 931,
        "start_time": "2023-11-07T07:03:11.552Z"
      },
      {
        "duration": 106,
        "start_time": "2023-11-07T07:03:12.485Z"
      },
      {
        "duration": 32,
        "start_time": "2023-11-07T07:03:12.593Z"
      },
      {
        "duration": 1564,
        "start_time": "2023-11-07T07:14:58.859Z"
      },
      {
        "duration": 1445,
        "start_time": "2023-11-07T07:15:25.598Z"
      },
      {
        "duration": 1528,
        "start_time": "2023-11-07T07:16:03.307Z"
      },
      {
        "duration": 813,
        "start_time": "2023-11-07T07:16:04.837Z"
      },
      {
        "duration": 25,
        "start_time": "2023-11-07T07:16:05.651Z"
      },
      {
        "duration": 159,
        "start_time": "2023-11-07T07:16:05.678Z"
      },
      {
        "duration": 8,
        "start_time": "2023-11-07T07:16:05.839Z"
      },
      {
        "duration": 14,
        "start_time": "2023-11-07T07:16:05.849Z"
      },
      {
        "duration": 147,
        "start_time": "2023-11-07T07:16:05.864Z"
      },
      {
        "duration": 198,
        "start_time": "2023-11-07T07:16:06.013Z"
      },
      {
        "duration": 157,
        "start_time": "2023-11-07T07:16:06.213Z"
      },
      {
        "duration": 420,
        "start_time": "2023-11-07T07:16:06.373Z"
      },
      {
        "duration": 868,
        "start_time": "2023-11-07T07:16:06.795Z"
      },
      {
        "duration": 95,
        "start_time": "2023-11-07T07:16:07.665Z"
      },
      {
        "duration": 35,
        "start_time": "2023-11-07T07:16:07.762Z"
      },
      {
        "duration": 1621,
        "start_time": "2023-11-07T07:16:07.799Z"
      },
      {
        "duration": 1423,
        "start_time": "2023-11-07T07:16:53.681Z"
      },
      {
        "duration": 820,
        "start_time": "2023-11-07T07:16:55.106Z"
      },
      {
        "duration": 31,
        "start_time": "2023-11-07T07:16:55.928Z"
      },
      {
        "duration": 149,
        "start_time": "2023-11-07T07:16:55.961Z"
      },
      {
        "duration": 5,
        "start_time": "2023-11-07T07:16:56.111Z"
      },
      {
        "duration": 60,
        "start_time": "2023-11-07T07:16:56.117Z"
      },
      {
        "duration": 182,
        "start_time": "2023-11-07T07:16:56.179Z"
      },
      {
        "duration": 183,
        "start_time": "2023-11-07T07:16:56.362Z"
      },
      {
        "duration": 143,
        "start_time": "2023-11-07T07:16:56.547Z"
      },
      {
        "duration": 466,
        "start_time": "2023-11-07T07:16:56.692Z"
      },
      {
        "duration": 887,
        "start_time": "2023-11-07T07:16:57.160Z"
      },
      {
        "duration": 97,
        "start_time": "2023-11-07T07:16:58.049Z"
      },
      {
        "duration": 33,
        "start_time": "2023-11-07T07:16:58.147Z"
      },
      {
        "duration": 152,
        "start_time": "2023-11-07T07:16:58.182Z"
      },
      {
        "duration": 4,
        "start_time": "2023-11-07T07:19:38.308Z"
      },
      {
        "duration": 3,
        "start_time": "2023-11-07T07:21:26.398Z"
      },
      {
        "duration": 2422,
        "start_time": "2023-11-07T07:23:48.489Z"
      },
      {
        "duration": 4,
        "start_time": "2023-11-07T07:25:01.663Z"
      },
      {
        "duration": 7,
        "start_time": "2023-11-07T07:25:02.811Z"
      },
      {
        "duration": 1469,
        "start_time": "2023-11-07T07:25:12.140Z"
      },
      {
        "duration": 879,
        "start_time": "2023-11-07T07:25:13.611Z"
      },
      {
        "duration": 24,
        "start_time": "2023-11-07T07:25:14.492Z"
      },
      {
        "duration": 160,
        "start_time": "2023-11-07T07:25:14.518Z"
      },
      {
        "duration": 4,
        "start_time": "2023-11-07T07:25:14.680Z"
      },
      {
        "duration": 15,
        "start_time": "2023-11-07T07:25:14.686Z"
      },
      {
        "duration": 152,
        "start_time": "2023-11-07T07:25:14.703Z"
      },
      {
        "duration": 217,
        "start_time": "2023-11-07T07:25:14.857Z"
      },
      {
        "duration": 135,
        "start_time": "2023-11-07T07:25:15.076Z"
      },
      {
        "duration": 454,
        "start_time": "2023-11-07T07:25:15.212Z"
      },
      {
        "duration": 914,
        "start_time": "2023-11-07T07:25:15.667Z"
      },
      {
        "duration": 99,
        "start_time": "2023-11-07T07:25:16.583Z"
      },
      {
        "duration": 36,
        "start_time": "2023-11-07T07:25:16.683Z"
      },
      {
        "duration": 147,
        "start_time": "2023-11-07T07:25:16.722Z"
      },
      {
        "duration": 5,
        "start_time": "2023-11-07T07:25:16.871Z"
      },
      {
        "duration": 572,
        "start_time": "2023-11-07T07:25:16.877Z"
      },
      {
        "duration": 96,
        "start_time": "2023-11-07T07:26:50.002Z"
      },
      {
        "duration": 1508,
        "start_time": "2023-11-07T07:27:01.825Z"
      },
      {
        "duration": 847,
        "start_time": "2023-11-07T07:27:03.335Z"
      },
      {
        "duration": 31,
        "start_time": "2023-11-07T07:27:04.184Z"
      },
      {
        "duration": 172,
        "start_time": "2023-11-07T07:27:04.218Z"
      },
      {
        "duration": 12,
        "start_time": "2023-11-07T07:27:04.393Z"
      },
      {
        "duration": 47,
        "start_time": "2023-11-07T07:27:04.407Z"
      },
      {
        "duration": 163,
        "start_time": "2023-11-07T07:27:04.455Z"
      },
      {
        "duration": 203,
        "start_time": "2023-11-07T07:27:04.620Z"
      },
      {
        "duration": 129,
        "start_time": "2023-11-07T07:27:04.825Z"
      },
      {
        "duration": 461,
        "start_time": "2023-11-07T07:27:04.956Z"
      },
      {
        "duration": 838,
        "start_time": "2023-11-07T07:27:05.418Z"
      },
      {
        "duration": 100,
        "start_time": "2023-11-07T07:27:06.258Z"
      },
      {
        "duration": 34,
        "start_time": "2023-11-07T07:27:06.360Z"
      },
      {
        "duration": 147,
        "start_time": "2023-11-07T07:27:06.397Z"
      },
      {
        "duration": 113,
        "start_time": "2023-11-07T07:27:06.546Z"
      },
      {
        "duration": 114,
        "start_time": "2023-11-07T07:27:06.661Z"
      },
      {
        "duration": 1488,
        "start_time": "2023-11-07T07:28:17.523Z"
      },
      {
        "duration": 808,
        "start_time": "2023-11-07T07:28:19.013Z"
      },
      {
        "duration": 33,
        "start_time": "2023-11-07T07:28:19.822Z"
      },
      {
        "duration": 157,
        "start_time": "2023-11-07T07:28:19.857Z"
      },
      {
        "duration": 31,
        "start_time": "2023-11-07T07:28:20.016Z"
      },
      {
        "duration": 35,
        "start_time": "2023-11-07T07:28:20.049Z"
      },
      {
        "duration": 145,
        "start_time": "2023-11-07T07:28:20.086Z"
      },
      {
        "duration": 191,
        "start_time": "2023-11-07T07:28:20.233Z"
      },
      {
        "duration": 132,
        "start_time": "2023-11-07T07:28:20.425Z"
      },
      {
        "duration": 411,
        "start_time": "2023-11-07T07:28:20.559Z"
      },
      {
        "duration": 846,
        "start_time": "2023-11-07T07:28:20.972Z"
      },
      {
        "duration": 98,
        "start_time": "2023-11-07T07:28:21.819Z"
      },
      {
        "duration": 41,
        "start_time": "2023-11-07T07:28:21.919Z"
      },
      {
        "duration": 140,
        "start_time": "2023-11-07T07:28:21.962Z"
      },
      {
        "duration": 119,
        "start_time": "2023-11-07T07:28:22.103Z"
      },
      {
        "duration": 111,
        "start_time": "2023-11-07T07:28:41.978Z"
      },
      {
        "duration": 3158,
        "start_time": "2023-11-07T07:29:37.253Z"
      },
      {
        "duration": 833,
        "start_time": "2023-11-07T07:29:40.413Z"
      },
      {
        "duration": 24,
        "start_time": "2023-11-07T07:29:41.248Z"
      },
      {
        "duration": 155,
        "start_time": "2023-11-07T07:29:41.274Z"
      },
      {
        "duration": 6,
        "start_time": "2023-11-07T07:29:41.432Z"
      },
      {
        "duration": 22,
        "start_time": "2023-11-07T07:29:41.444Z"
      },
      {
        "duration": 133,
        "start_time": "2023-11-07T07:29:41.468Z"
      },
      {
        "duration": 183,
        "start_time": "2023-11-07T07:29:41.602Z"
      },
      {
        "duration": 135,
        "start_time": "2023-11-07T07:29:41.787Z"
      },
      {
        "duration": 450,
        "start_time": "2023-11-07T07:29:41.923Z"
      },
      {
        "duration": 903,
        "start_time": "2023-11-07T07:29:42.375Z"
      },
      {
        "duration": 103,
        "start_time": "2023-11-07T07:29:43.280Z"
      },
      {
        "duration": 34,
        "start_time": "2023-11-07T07:29:43.385Z"
      },
      {
        "duration": 175,
        "start_time": "2023-11-07T07:29:43.422Z"
      },
      {
        "duration": 123,
        "start_time": "2023-11-07T07:29:43.599Z"
      },
      {
        "duration": 408,
        "start_time": "2023-11-07T07:29:57.072Z"
      },
      {
        "duration": 846,
        "start_time": "2023-11-07T07:38:14.945Z"
      },
      {
        "duration": 605,
        "start_time": "2023-11-07T07:40:38.498Z"
      },
      {
        "duration": 484,
        "start_time": "2023-11-07T07:41:06.364Z"
      },
      {
        "duration": 108,
        "start_time": "2023-11-07T07:46:20.112Z"
      },
      {
        "duration": 1466,
        "start_time": "2023-11-07T07:46:39.394Z"
      },
      {
        "duration": 871,
        "start_time": "2023-11-07T07:46:40.861Z"
      },
      {
        "duration": 27,
        "start_time": "2023-11-07T07:46:41.734Z"
      },
      {
        "duration": 162,
        "start_time": "2023-11-07T07:46:41.763Z"
      },
      {
        "duration": 5,
        "start_time": "2023-11-07T07:46:41.927Z"
      },
      {
        "duration": 14,
        "start_time": "2023-11-07T07:46:41.947Z"
      },
      {
        "duration": 153,
        "start_time": "2023-11-07T07:46:41.962Z"
      },
      {
        "duration": 203,
        "start_time": "2023-11-07T07:46:42.116Z"
      },
      {
        "duration": 131,
        "start_time": "2023-11-07T07:46:42.321Z"
      },
      {
        "duration": 422,
        "start_time": "2023-11-07T07:46:42.454Z"
      },
      {
        "duration": 904,
        "start_time": "2023-11-07T07:46:42.878Z"
      },
      {
        "duration": 97,
        "start_time": "2023-11-07T07:46:43.784Z"
      },
      {
        "duration": 34,
        "start_time": "2023-11-07T07:46:43.883Z"
      },
      {
        "duration": 152,
        "start_time": "2023-11-07T07:46:43.920Z"
      },
      {
        "duration": 148,
        "start_time": "2023-11-07T07:46:44.074Z"
      },
      {
        "duration": 389,
        "start_time": "2023-11-07T07:46:44.224Z"
      },
      {
        "duration": 878,
        "start_time": "2023-11-07T07:46:44.615Z"
      },
      {
        "duration": 604,
        "start_time": "2023-11-07T07:46:45.494Z"
      },
      {
        "duration": 1466,
        "start_time": "2023-11-07T07:50:50.407Z"
      },
      {
        "duration": 822,
        "start_time": "2023-11-07T07:50:51.875Z"
      },
      {
        "duration": 23,
        "start_time": "2023-11-07T07:50:52.698Z"
      },
      {
        "duration": 157,
        "start_time": "2023-11-07T07:50:52.723Z"
      },
      {
        "duration": 5,
        "start_time": "2023-11-07T07:50:52.882Z"
      },
      {
        "duration": 28,
        "start_time": "2023-11-07T07:50:52.889Z"
      },
      {
        "duration": 148,
        "start_time": "2023-11-07T07:50:52.918Z"
      },
      {
        "duration": 205,
        "start_time": "2023-11-07T07:50:53.068Z"
      },
      {
        "duration": 134,
        "start_time": "2023-11-07T07:50:53.274Z"
      },
      {
        "duration": 429,
        "start_time": "2023-11-07T07:50:53.409Z"
      },
      {
        "duration": 965,
        "start_time": "2023-11-07T07:50:53.843Z"
      },
      {
        "duration": 97,
        "start_time": "2023-11-07T07:50:54.809Z"
      },
      {
        "duration": 40,
        "start_time": "2023-11-07T07:50:54.907Z"
      },
      {
        "duration": 145,
        "start_time": "2023-11-07T07:50:54.950Z"
      },
      {
        "duration": 121,
        "start_time": "2023-11-07T07:50:55.097Z"
      },
      {
        "duration": 388,
        "start_time": "2023-11-07T07:50:55.220Z"
      },
      {
        "duration": 809,
        "start_time": "2023-11-07T07:50:55.610Z"
      },
      {
        "duration": 615,
        "start_time": "2023-11-07T07:50:56.421Z"
      },
      {
        "duration": 1518,
        "start_time": "2023-11-07T07:52:37.420Z"
      },
      {
        "duration": 851,
        "start_time": "2023-11-07T07:52:38.940Z"
      },
      {
        "duration": 24,
        "start_time": "2023-11-07T07:52:39.792Z"
      },
      {
        "duration": 160,
        "start_time": "2023-11-07T07:52:39.818Z"
      },
      {
        "duration": 5,
        "start_time": "2023-11-07T07:52:39.981Z"
      },
      {
        "duration": 23,
        "start_time": "2023-11-07T07:52:39.988Z"
      },
      {
        "duration": 170,
        "start_time": "2023-11-07T07:52:40.013Z"
      },
      {
        "duration": 208,
        "start_time": "2023-11-07T07:52:40.185Z"
      },
      {
        "duration": 132,
        "start_time": "2023-11-07T07:52:40.395Z"
      },
      {
        "duration": 435,
        "start_time": "2023-11-07T07:52:40.529Z"
      },
      {
        "duration": 937,
        "start_time": "2023-11-07T07:52:40.966Z"
      },
      {
        "duration": 94,
        "start_time": "2023-11-07T07:52:41.905Z"
      },
      {
        "duration": 35,
        "start_time": "2023-11-07T07:52:42.000Z"
      },
      {
        "duration": 132,
        "start_time": "2023-11-07T07:52:42.045Z"
      },
      {
        "duration": 165,
        "start_time": "2023-11-07T07:52:42.179Z"
      },
      {
        "duration": 379,
        "start_time": "2023-11-07T07:52:42.346Z"
      },
      {
        "duration": 835,
        "start_time": "2023-11-07T07:52:42.726Z"
      },
      {
        "duration": 649,
        "start_time": "2023-11-07T07:52:43.563Z"
      },
      {
        "duration": 1630,
        "start_time": "2023-11-07T09:19:07.665Z"
      },
      {
        "duration": 2849,
        "start_time": "2023-11-07T09:19:09.297Z"
      },
      {
        "duration": 23,
        "start_time": "2023-11-07T09:19:12.147Z"
      },
      {
        "duration": 146,
        "start_time": "2023-11-07T09:19:12.172Z"
      },
      {
        "duration": 5,
        "start_time": "2023-11-07T09:19:12.320Z"
      },
      {
        "duration": 30,
        "start_time": "2023-11-07T09:19:12.326Z"
      },
      {
        "duration": 152,
        "start_time": "2023-11-07T09:19:12.358Z"
      },
      {
        "duration": 201,
        "start_time": "2023-11-07T09:19:12.512Z"
      },
      {
        "duration": 137,
        "start_time": "2023-11-07T09:19:12.715Z"
      },
      {
        "duration": 486,
        "start_time": "2023-11-07T09:19:12.854Z"
      },
      {
        "duration": 929,
        "start_time": "2023-11-07T09:19:13.342Z"
      },
      {
        "duration": 102,
        "start_time": "2023-11-07T09:19:14.273Z"
      },
      {
        "duration": 42,
        "start_time": "2023-11-07T09:19:14.376Z"
      },
      {
        "duration": 160,
        "start_time": "2023-11-07T09:19:14.420Z"
      },
      {
        "duration": 114,
        "start_time": "2023-11-07T09:19:14.582Z"
      },
      {
        "duration": 499,
        "start_time": "2023-11-07T09:19:14.697Z"
      },
      {
        "duration": 892,
        "start_time": "2023-11-07T09:19:15.198Z"
      },
      {
        "duration": 1555,
        "start_time": "2023-11-07T09:19:16.091Z"
      },
      {
        "duration": 0,
        "start_time": "2023-11-07T09:19:17.647Z"
      },
      {
        "duration": 514,
        "start_time": "2023-11-07T09:19:30.366Z"
      },
      {
        "duration": 1358,
        "start_time": "2023-11-07T09:23:14.531Z"
      },
      {
        "duration": 815,
        "start_time": "2023-11-07T09:23:15.890Z"
      },
      {
        "duration": 22,
        "start_time": "2023-11-07T09:23:16.706Z"
      },
      {
        "duration": 155,
        "start_time": "2023-11-07T09:23:16.730Z"
      },
      {
        "duration": 4,
        "start_time": "2023-11-07T09:23:16.887Z"
      },
      {
        "duration": 34,
        "start_time": "2023-11-07T09:23:16.892Z"
      },
      {
        "duration": 146,
        "start_time": "2023-11-07T09:23:16.927Z"
      },
      {
        "duration": 207,
        "start_time": "2023-11-07T09:23:17.075Z"
      },
      {
        "duration": 128,
        "start_time": "2023-11-07T09:23:17.284Z"
      },
      {
        "duration": 488,
        "start_time": "2023-11-07T09:23:17.414Z"
      },
      {
        "duration": 894,
        "start_time": "2023-11-07T09:23:17.904Z"
      },
      {
        "duration": 96,
        "start_time": "2023-11-07T09:23:18.800Z"
      },
      {
        "duration": 28,
        "start_time": "2023-11-07T09:23:18.898Z"
      },
      {
        "duration": 167,
        "start_time": "2023-11-07T09:23:18.929Z"
      },
      {
        "duration": 125,
        "start_time": "2023-11-07T09:23:19.097Z"
      },
      {
        "duration": 428,
        "start_time": "2023-11-07T09:23:19.224Z"
      },
      {
        "duration": 856,
        "start_time": "2023-11-07T09:23:19.653Z"
      },
      {
        "duration": 624,
        "start_time": "2023-11-07T09:23:20.511Z"
      },
      {
        "duration": 193,
        "start_time": "2023-11-07T09:23:21.137Z"
      },
      {
        "duration": 345,
        "start_time": "2023-11-07T09:23:21.331Z"
      },
      {
        "duration": 1412,
        "start_time": "2023-11-07T09:26:49.486Z"
      },
      {
        "duration": 820,
        "start_time": "2023-11-07T09:26:50.899Z"
      },
      {
        "duration": 25,
        "start_time": "2023-11-07T09:26:51.721Z"
      },
      {
        "duration": 192,
        "start_time": "2023-11-07T09:26:51.747Z"
      },
      {
        "duration": 5,
        "start_time": "2023-11-07T09:26:51.941Z"
      },
      {
        "duration": 42,
        "start_time": "2023-11-07T09:26:51.948Z"
      },
      {
        "duration": 163,
        "start_time": "2023-11-07T09:26:51.992Z"
      },
      {
        "duration": 193,
        "start_time": "2023-11-07T09:26:52.157Z"
      },
      {
        "duration": 134,
        "start_time": "2023-11-07T09:26:52.352Z"
      },
      {
        "duration": 416,
        "start_time": "2023-11-07T09:26:52.488Z"
      },
      {
        "duration": 861,
        "start_time": "2023-11-07T09:26:52.906Z"
      },
      {
        "duration": 86,
        "start_time": "2023-11-07T09:26:53.769Z"
      },
      {
        "duration": 41,
        "start_time": "2023-11-07T09:26:53.857Z"
      },
      {
        "duration": 141,
        "start_time": "2023-11-07T09:26:53.900Z"
      },
      {
        "duration": 107,
        "start_time": "2023-11-07T09:26:54.043Z"
      },
      {
        "duration": 391,
        "start_time": "2023-11-07T09:26:54.152Z"
      },
      {
        "duration": 752,
        "start_time": "2023-11-07T09:26:54.545Z"
      },
      {
        "duration": 584,
        "start_time": "2023-11-07T09:26:55.299Z"
      },
      {
        "duration": 1444,
        "start_time": "2023-11-07T09:31:56.076Z"
      },
      {
        "duration": 874,
        "start_time": "2023-11-07T09:31:57.522Z"
      },
      {
        "duration": 26,
        "start_time": "2023-11-07T09:31:58.398Z"
      },
      {
        "duration": 161,
        "start_time": "2023-11-07T09:31:58.426Z"
      },
      {
        "duration": 5,
        "start_time": "2023-11-07T09:31:58.588Z"
      },
      {
        "duration": 16,
        "start_time": "2023-11-07T09:31:58.594Z"
      },
      {
        "duration": 154,
        "start_time": "2023-11-07T09:31:58.612Z"
      },
      {
        "duration": 201,
        "start_time": "2023-11-07T09:31:58.768Z"
      },
      {
        "duration": 145,
        "start_time": "2023-11-07T09:31:58.970Z"
      },
      {
        "duration": 490,
        "start_time": "2023-11-07T09:31:59.119Z"
      },
      {
        "duration": 1014,
        "start_time": "2023-11-07T09:31:59.611Z"
      },
      {
        "duration": 96,
        "start_time": "2023-11-07T09:32:00.626Z"
      },
      {
        "duration": 33,
        "start_time": "2023-11-07T09:32:00.723Z"
      },
      {
        "duration": 146,
        "start_time": "2023-11-07T09:32:00.768Z"
      },
      {
        "duration": 110,
        "start_time": "2023-11-07T09:32:00.916Z"
      },
      {
        "duration": 414,
        "start_time": "2023-11-07T09:32:01.027Z"
      },
      {
        "duration": 936,
        "start_time": "2023-11-07T09:32:01.443Z"
      },
      {
        "duration": 602,
        "start_time": "2023-11-07T09:32:02.381Z"
      },
      {
        "duration": 1588,
        "start_time": "2023-11-07T09:36:58.672Z"
      },
      {
        "duration": 840,
        "start_time": "2023-11-07T09:37:00.262Z"
      },
      {
        "duration": 23,
        "start_time": "2023-11-07T09:37:01.104Z"
      },
      {
        "duration": 173,
        "start_time": "2023-11-07T09:37:01.129Z"
      },
      {
        "duration": 4,
        "start_time": "2023-11-07T09:37:01.304Z"
      },
      {
        "duration": 50,
        "start_time": "2023-11-07T09:37:01.309Z"
      },
      {
        "duration": 229,
        "start_time": "2023-11-07T09:37:01.361Z"
      },
      {
        "duration": 209,
        "start_time": "2023-11-07T09:37:01.592Z"
      },
      {
        "duration": 171,
        "start_time": "2023-11-07T09:37:01.803Z"
      },
      {
        "duration": 439,
        "start_time": "2023-11-07T09:37:01.977Z"
      },
      {
        "duration": 896,
        "start_time": "2023-11-07T09:37:02.418Z"
      },
      {
        "duration": 97,
        "start_time": "2023-11-07T09:37:03.316Z"
      },
      {
        "duration": 32,
        "start_time": "2023-11-07T09:37:03.415Z"
      },
      {
        "duration": 149,
        "start_time": "2023-11-07T09:37:03.449Z"
      },
      {
        "duration": 115,
        "start_time": "2023-11-07T09:37:03.599Z"
      },
      {
        "duration": 413,
        "start_time": "2023-11-07T09:37:03.716Z"
      },
      {
        "duration": 775,
        "start_time": "2023-11-07T09:37:04.130Z"
      },
      {
        "duration": 596,
        "start_time": "2023-11-07T09:37:04.907Z"
      },
      {
        "duration": 1487,
        "start_time": "2023-11-07T09:39:17.347Z"
      },
      {
        "duration": 875,
        "start_time": "2023-11-07T09:39:18.836Z"
      },
      {
        "duration": 24,
        "start_time": "2023-11-07T09:39:19.713Z"
      },
      {
        "duration": 154,
        "start_time": "2023-11-07T09:39:19.739Z"
      },
      {
        "duration": 4,
        "start_time": "2023-11-07T09:39:19.895Z"
      },
      {
        "duration": 17,
        "start_time": "2023-11-07T09:39:19.900Z"
      },
      {
        "duration": 155,
        "start_time": "2023-11-07T09:39:19.919Z"
      },
      {
        "duration": 225,
        "start_time": "2023-11-07T09:39:20.076Z"
      },
      {
        "duration": 135,
        "start_time": "2023-11-07T09:39:20.303Z"
      },
      {
        "duration": 453,
        "start_time": "2023-11-07T09:39:20.439Z"
      },
      {
        "duration": 967,
        "start_time": "2023-11-07T09:39:20.893Z"
      },
      {
        "duration": 112,
        "start_time": "2023-11-07T09:39:21.862Z"
      },
      {
        "duration": 35,
        "start_time": "2023-11-07T09:39:21.977Z"
      },
      {
        "duration": 143,
        "start_time": "2023-11-07T09:39:22.014Z"
      },
      {
        "duration": 127,
        "start_time": "2023-11-07T09:39:22.159Z"
      },
      {
        "duration": 425,
        "start_time": "2023-11-07T09:39:22.288Z"
      },
      {
        "duration": 835,
        "start_time": "2023-11-07T09:39:22.715Z"
      },
      {
        "duration": 601,
        "start_time": "2023-11-07T09:39:23.552Z"
      },
      {
        "duration": 2219,
        "start_time": "2023-11-07T09:41:23.771Z"
      },
      {
        "duration": 893,
        "start_time": "2023-11-07T09:41:25.992Z"
      },
      {
        "duration": 24,
        "start_time": "2023-11-07T09:41:26.887Z"
      },
      {
        "duration": 162,
        "start_time": "2023-11-07T09:41:26.913Z"
      },
      {
        "duration": 5,
        "start_time": "2023-11-07T09:41:27.076Z"
      },
      {
        "duration": 20,
        "start_time": "2023-11-07T09:41:27.082Z"
      },
      {
        "duration": 161,
        "start_time": "2023-11-07T09:41:27.103Z"
      },
      {
        "duration": 213,
        "start_time": "2023-11-07T09:41:27.266Z"
      },
      {
        "duration": 136,
        "start_time": "2023-11-07T09:41:27.481Z"
      },
      {
        "duration": 464,
        "start_time": "2023-11-07T09:41:27.620Z"
      },
      {
        "duration": 924,
        "start_time": "2023-11-07T09:41:28.086Z"
      },
      {
        "duration": 100,
        "start_time": "2023-11-07T09:41:29.012Z"
      },
      {
        "duration": 35,
        "start_time": "2023-11-07T09:41:29.113Z"
      },
      {
        "duration": 156,
        "start_time": "2023-11-07T09:41:29.150Z"
      },
      {
        "duration": 125,
        "start_time": "2023-11-07T09:41:29.308Z"
      },
      {
        "duration": 395,
        "start_time": "2023-11-07T09:41:29.435Z"
      },
      {
        "duration": 857,
        "start_time": "2023-11-07T09:41:29.831Z"
      },
      {
        "duration": 611,
        "start_time": "2023-11-07T09:41:30.689Z"
      },
      {
        "duration": 1445,
        "start_time": "2023-11-07T10:02:00.519Z"
      },
      {
        "duration": 866,
        "start_time": "2023-11-07T10:02:01.967Z"
      },
      {
        "duration": 22,
        "start_time": "2023-11-07T10:02:02.835Z"
      },
      {
        "duration": 175,
        "start_time": "2023-11-07T10:02:02.859Z"
      },
      {
        "duration": 4,
        "start_time": "2023-11-07T10:02:03.035Z"
      },
      {
        "duration": 19,
        "start_time": "2023-11-07T10:02:03.041Z"
      },
      {
        "duration": 161,
        "start_time": "2023-11-07T10:02:03.061Z"
      },
      {
        "duration": 195,
        "start_time": "2023-11-07T10:02:03.224Z"
      },
      {
        "duration": 140,
        "start_time": "2023-11-07T10:02:03.421Z"
      },
      {
        "duration": 442,
        "start_time": "2023-11-07T10:02:03.569Z"
      },
      {
        "duration": 925,
        "start_time": "2023-11-07T10:02:04.013Z"
      },
      {
        "duration": 95,
        "start_time": "2023-11-07T10:02:04.940Z"
      },
      {
        "duration": 38,
        "start_time": "2023-11-07T10:02:05.036Z"
      },
      {
        "duration": 163,
        "start_time": "2023-11-07T10:02:05.076Z"
      },
      {
        "duration": 116,
        "start_time": "2023-11-07T10:02:05.240Z"
      },
      {
        "duration": 395,
        "start_time": "2023-11-07T10:02:05.358Z"
      },
      {
        "duration": 935,
        "start_time": "2023-11-07T10:02:05.755Z"
      },
      {
        "duration": 602,
        "start_time": "2023-11-07T10:02:06.692Z"
      },
      {
        "duration": 534431,
        "start_time": "2023-11-07T10:02:07.296Z"
      },
      {
        "duration": 201,
        "start_time": "2023-11-07T10:12:25.561Z"
      },
      {
        "duration": 41994,
        "start_time": "2023-11-07T10:12:54.887Z"
      },
      {
        "duration": 2603915,
        "start_time": "2023-11-07T10:16:40.599Z"
      },
      {
        "duration": 5500,
        "start_time": "2023-11-07T11:00:04.516Z"
      },
      {
        "duration": 5261,
        "start_time": "2023-11-07T11:01:42.975Z"
      },
      {
        "duration": 8743,
        "start_time": "2023-11-07T11:03:10.841Z"
      },
      {
        "duration": 5,
        "start_time": "2023-11-07T11:04:49.913Z"
      },
      {
        "duration": 4,
        "start_time": "2023-11-07T11:05:30.092Z"
      },
      {
        "duration": 1460,
        "start_time": "2023-11-07T11:12:53.162Z"
      },
      {
        "duration": 895,
        "start_time": "2023-11-07T11:12:54.624Z"
      },
      {
        "duration": 24,
        "start_time": "2023-11-07T11:12:55.521Z"
      },
      {
        "duration": 172,
        "start_time": "2023-11-07T11:12:55.546Z"
      },
      {
        "duration": 4,
        "start_time": "2023-11-07T11:12:55.721Z"
      },
      {
        "duration": 23,
        "start_time": "2023-11-07T11:12:55.727Z"
      },
      {
        "duration": 161,
        "start_time": "2023-11-07T11:12:55.752Z"
      },
      {
        "duration": 188,
        "start_time": "2023-11-07T11:12:55.914Z"
      },
      {
        "duration": 135,
        "start_time": "2023-11-07T11:12:56.104Z"
      },
      {
        "duration": 455,
        "start_time": "2023-11-07T11:12:56.241Z"
      },
      {
        "duration": 955,
        "start_time": "2023-11-07T11:12:56.698Z"
      },
      {
        "duration": 96,
        "start_time": "2023-11-07T11:12:57.655Z"
      },
      {
        "duration": 44,
        "start_time": "2023-11-07T11:12:57.753Z"
      },
      {
        "duration": 143,
        "start_time": "2023-11-07T11:12:57.800Z"
      },
      {
        "duration": 120,
        "start_time": "2023-11-07T11:12:57.944Z"
      },
      {
        "duration": 383,
        "start_time": "2023-11-07T11:12:58.066Z"
      },
      {
        "duration": 852,
        "start_time": "2023-11-07T11:12:58.451Z"
      },
      {
        "duration": 625,
        "start_time": "2023-11-07T11:12:59.304Z"
      },
      {
        "duration": 541082,
        "start_time": "2023-11-07T11:12:59.930Z"
      },
      {
        "duration": 5029,
        "start_time": "2023-11-07T11:22:01.013Z"
      },
      {
        "duration": 59939,
        "start_time": "2023-11-07T11:22:06.043Z"
      },
      {
        "duration": 8900,
        "start_time": "2023-11-07T11:23:05.984Z"
      },
      {
        "duration": 2569866,
        "start_time": "2023-11-07T11:23:14.886Z"
      },
      {
        "duration": 371234,
        "start_time": "2023-11-07T12:06:04.760Z"
      },
      {
        "duration": 1134,
        "start_time": "2023-11-07T12:12:15.996Z"
      },
      {
        "duration": 4,
        "start_time": "2023-11-07T12:12:17.137Z"
      },
      {
        "duration": 47,
        "start_time": "2023-11-08T09:48:50.262Z"
      },
      {
        "duration": 1614,
        "start_time": "2023-11-08T09:48:53.822Z"
      },
      {
        "duration": 952,
        "start_time": "2023-11-08T09:48:56.000Z"
      },
      {
        "duration": 15,
        "start_time": "2023-11-08T09:48:57.575Z"
      },
      {
        "duration": 117,
        "start_time": "2023-11-08T09:53:21.683Z"
      },
      {
        "duration": 4,
        "start_time": "2023-11-08T09:53:24.784Z"
      },
      {
        "duration": 12,
        "start_time": "2023-11-08T09:53:26.249Z"
      },
      {
        "duration": 124,
        "start_time": "2023-11-08T09:53:35.355Z"
      },
      {
        "duration": 214,
        "start_time": "2023-11-08T09:53:42.502Z"
      },
      {
        "duration": 110,
        "start_time": "2023-11-08T09:53:43.083Z"
      },
      {
        "duration": 395,
        "start_time": "2023-11-08T09:53:46.440Z"
      },
      {
        "duration": 837,
        "start_time": "2023-11-08T09:53:47.500Z"
      },
      {
        "duration": 96,
        "start_time": "2023-11-08T09:53:49.800Z"
      },
      {
        "duration": 34,
        "start_time": "2023-11-08T09:53:58.498Z"
      },
      {
        "duration": 191,
        "start_time": "2023-11-08T09:54:10.209Z"
      },
      {
        "duration": 1564,
        "start_time": "2023-11-08T09:54:29.623Z"
      },
      {
        "duration": 763,
        "start_time": "2023-11-08T09:54:31.189Z"
      },
      {
        "duration": 15,
        "start_time": "2023-11-08T09:54:31.954Z"
      },
      {
        "duration": 119,
        "start_time": "2023-11-08T09:54:34.749Z"
      },
      {
        "duration": 5,
        "start_time": "2023-11-08T09:54:36.446Z"
      },
      {
        "duration": 11,
        "start_time": "2023-11-08T09:54:37.468Z"
      },
      {
        "duration": 117,
        "start_time": "2023-11-08T09:54:38.053Z"
      },
      {
        "duration": 184,
        "start_time": "2023-11-08T09:54:39.442Z"
      },
      {
        "duration": 110,
        "start_time": "2023-11-08T09:54:39.811Z"
      },
      {
        "duration": 397,
        "start_time": "2023-11-08T09:54:40.823Z"
      },
      {
        "duration": 851,
        "start_time": "2023-11-08T09:54:41.919Z"
      },
      {
        "duration": 96,
        "start_time": "2023-11-08T09:54:43.387Z"
      },
      {
        "duration": 36,
        "start_time": "2023-11-08T09:54:46.827Z"
      },
      {
        "duration": 200,
        "start_time": "2023-11-08T09:54:47.675Z"
      },
      {
        "duration": 147,
        "start_time": "2023-11-08T09:56:15.713Z"
      },
      {
        "duration": 162,
        "start_time": "2023-11-08T09:57:16.790Z"
      },
      {
        "duration": 262,
        "start_time": "2023-11-08T10:00:10.362Z"
      },
      {
        "duration": 153,
        "start_time": "2023-11-08T10:00:21.052Z"
      },
      {
        "duration": 1762,
        "start_time": "2023-11-11T07:22:22.003Z"
      },
      {
        "duration": 2884,
        "start_time": "2023-11-11T07:22:26.895Z"
      },
      {
        "duration": 22,
        "start_time": "2023-11-11T07:22:29.782Z"
      },
      {
        "duration": 140,
        "start_time": "2023-11-11T07:22:34.575Z"
      },
      {
        "duration": 4,
        "start_time": "2023-11-11T07:22:39.975Z"
      },
      {
        "duration": 17,
        "start_time": "2023-11-11T07:22:45.996Z"
      },
      {
        "duration": 139,
        "start_time": "2023-11-11T07:22:47.195Z"
      },
      {
        "duration": 190,
        "start_time": "2023-11-11T07:22:50.395Z"
      },
      {
        "duration": 143,
        "start_time": "2023-11-11T07:22:51.723Z"
      },
      {
        "duration": 422,
        "start_time": "2023-11-11T07:22:53.975Z"
      },
      {
        "duration": 970,
        "start_time": "2023-11-11T07:22:55.875Z"
      },
      {
        "duration": 111,
        "start_time": "2023-11-11T07:22:57.756Z"
      },
      {
        "duration": 34,
        "start_time": "2023-11-11T07:22:58.706Z"
      },
      {
        "duration": 166,
        "start_time": "2023-11-11T07:23:00.201Z"
      },
      {
        "duration": 289,
        "start_time": "2023-11-11T07:23:01.341Z"
      },
      {
        "duration": 92,
        "start_time": "2023-11-11T07:26:09.541Z"
      },
      {
        "duration": 460,
        "start_time": "2023-11-11T07:26:14.255Z"
      },
      {
        "duration": 811,
        "start_time": "2023-11-11T07:30:07.735Z"
      },
      {
        "duration": 619,
        "start_time": "2023-11-11T07:30:10.751Z"
      },
      {
        "duration": 952,
        "start_time": "2023-11-11T07:31:45.824Z"
      },
      {
        "duration": 3,
        "start_time": "2023-11-11T07:32:09.996Z"
      },
      {
        "duration": 2400,
        "start_time": "2023-11-11T07:32:23.377Z"
      },
      {
        "duration": 1679,
        "start_time": "2023-11-11T16:04:40.154Z"
      },
      {
        "duration": 1088,
        "start_time": "2023-11-11T16:04:44.881Z"
      },
      {
        "duration": 15,
        "start_time": "2023-11-11T16:04:45.971Z"
      },
      {
        "duration": 158,
        "start_time": "2023-11-11T16:04:45.987Z"
      },
      {
        "duration": 5,
        "start_time": "2023-11-11T16:04:46.151Z"
      },
      {
        "duration": 13,
        "start_time": "2023-11-11T16:04:46.532Z"
      },
      {
        "duration": 128,
        "start_time": "2023-11-11T16:04:46.762Z"
      },
      {
        "duration": 194,
        "start_time": "2023-11-11T16:04:47.196Z"
      },
      {
        "duration": 123,
        "start_time": "2023-11-11T16:04:47.392Z"
      },
      {
        "duration": 439,
        "start_time": "2023-11-11T16:04:47.909Z"
      },
      {
        "duration": 884,
        "start_time": "2023-11-11T16:04:48.350Z"
      },
      {
        "duration": 97,
        "start_time": "2023-11-11T16:04:49.236Z"
      },
      {
        "duration": 43,
        "start_time": "2023-11-11T16:04:49.335Z"
      },
      {
        "duration": 191,
        "start_time": "2023-11-11T16:04:49.380Z"
      },
      {
        "duration": 295,
        "start_time": "2023-11-11T16:04:49.573Z"
      },
      {
        "duration": 113,
        "start_time": "2023-11-11T16:04:49.870Z"
      },
      {
        "duration": 96,
        "start_time": "2023-11-11T16:04:50.949Z"
      },
      {
        "duration": 425,
        "start_time": "2023-11-11T16:04:52.546Z"
      },
      {
        "duration": 6,
        "start_time": "2023-11-11T16:08:13.580Z"
      },
      {
        "duration": 504,
        "start_time": "2023-11-11T16:08:38.029Z"
      },
      {
        "duration": 526,
        "start_time": "2023-11-11T16:08:55.493Z"
      },
      {
        "duration": 4,
        "start_time": "2023-11-11T16:13:58.291Z"
      },
      {
        "duration": 703,
        "start_time": "2023-11-11T16:13:59.015Z"
      },
      {
        "duration": 13,
        "start_time": "2023-11-11T16:13:59.719Z"
      },
      {
        "duration": 126,
        "start_time": "2023-11-11T16:13:59.754Z"
      },
      {
        "duration": 4,
        "start_time": "2023-11-11T16:14:00.159Z"
      },
      {
        "duration": 12,
        "start_time": "2023-11-11T16:14:01.185Z"
      },
      {
        "duration": 117,
        "start_time": "2023-11-11T16:14:01.584Z"
      },
      {
        "duration": 166,
        "start_time": "2023-11-11T16:14:02.017Z"
      },
      {
        "duration": 116,
        "start_time": "2023-11-11T16:14:02.200Z"
      },
      {
        "duration": 348,
        "start_time": "2023-11-11T16:14:02.575Z"
      },
      {
        "duration": 707,
        "start_time": "2023-11-11T16:14:02.924Z"
      },
      {
        "duration": 88,
        "start_time": "2023-11-11T16:14:03.633Z"
      },
      {
        "duration": 24,
        "start_time": "2023-11-11T16:14:03.722Z"
      },
      {
        "duration": 156,
        "start_time": "2023-11-11T16:14:03.748Z"
      },
      {
        "duration": 292,
        "start_time": "2023-11-11T16:14:03.905Z"
      },
      {
        "duration": 106,
        "start_time": "2023-11-11T16:14:04.840Z"
      },
      {
        "duration": 83,
        "start_time": "2023-11-11T16:14:06.078Z"
      },
      {
        "duration": 364,
        "start_time": "2023-11-11T16:14:07.072Z"
      },
      {
        "duration": 490,
        "start_time": "2023-11-11T16:14:09.927Z"
      },
      {
        "duration": 608,
        "start_time": "2023-11-11T16:14:36.693Z"
      },
      {
        "duration": 587,
        "start_time": "2023-11-11T16:14:41.197Z"
      },
      {
        "duration": 1704,
        "start_time": "2023-11-11T16:18:55.295Z"
      },
      {
        "duration": 783,
        "start_time": "2023-11-11T16:18:57.001Z"
      },
      {
        "duration": 14,
        "start_time": "2023-11-11T16:18:57.786Z"
      },
      {
        "duration": 145,
        "start_time": "2023-11-11T16:18:57.802Z"
      },
      {
        "duration": 5,
        "start_time": "2023-11-11T16:18:57.949Z"
      },
      {
        "duration": 41,
        "start_time": "2023-11-11T16:18:57.956Z"
      },
      {
        "duration": 138,
        "start_time": "2023-11-11T16:18:57.999Z"
      },
      {
        "duration": 183,
        "start_time": "2023-11-11T16:18:58.139Z"
      },
      {
        "duration": 126,
        "start_time": "2023-11-11T16:18:58.324Z"
      },
      {
        "duration": 417,
        "start_time": "2023-11-11T16:18:58.451Z"
      },
      {
        "duration": 874,
        "start_time": "2023-11-11T16:18:58.870Z"
      },
      {
        "duration": 92,
        "start_time": "2023-11-11T16:18:59.746Z"
      },
      {
        "duration": 43,
        "start_time": "2023-11-11T16:18:59.839Z"
      },
      {
        "duration": 178,
        "start_time": "2023-11-11T16:18:59.884Z"
      },
      {
        "duration": 297,
        "start_time": "2023-11-11T16:19:00.065Z"
      },
      {
        "duration": 125,
        "start_time": "2023-11-11T16:19:00.365Z"
      },
      {
        "duration": 96,
        "start_time": "2023-11-11T16:19:00.995Z"
      },
      {
        "duration": 401,
        "start_time": "2023-11-11T16:19:01.418Z"
      },
      {
        "duration": 640,
        "start_time": "2023-11-11T16:19:03.302Z"
      },
      {
        "duration": 726,
        "start_time": "2023-11-11T16:19:04.381Z"
      },
      {
        "duration": 112,
        "start_time": "2023-11-11T16:20:36.776Z"
      },
      {
        "duration": 4,
        "start_time": "2023-11-11T16:21:33.254Z"
      },
      {
        "duration": 4482,
        "start_time": "2023-11-11T16:21:39.771Z"
      },
      {
        "duration": 1783,
        "start_time": "2023-11-14T14:32:15.061Z"
      },
      {
        "duration": 1164,
        "start_time": "2023-11-14T14:32:16.846Z"
      },
      {
        "duration": 18,
        "start_time": "2023-11-14T14:32:18.012Z"
      },
      {
        "duration": 167,
        "start_time": "2023-11-14T14:32:18.032Z"
      },
      {
        "duration": 4,
        "start_time": "2023-11-14T14:32:18.200Z"
      },
      {
        "duration": 26,
        "start_time": "2023-11-14T14:32:18.206Z"
      },
      {
        "duration": 152,
        "start_time": "2023-11-14T14:32:18.234Z"
      },
      {
        "duration": 212,
        "start_time": "2023-11-14T14:32:18.388Z"
      },
      {
        "duration": 151,
        "start_time": "2023-11-14T14:32:18.601Z"
      },
      {
        "duration": 484,
        "start_time": "2023-11-14T14:32:20.289Z"
      },
      {
        "duration": 945,
        "start_time": "2023-11-14T14:32:20.775Z"
      },
      {
        "duration": 119,
        "start_time": "2023-11-14T14:32:21.722Z"
      },
      {
        "duration": 42,
        "start_time": "2023-11-14T14:32:21.844Z"
      },
      {
        "duration": 193,
        "start_time": "2023-11-14T14:32:21.887Z"
      },
      {
        "duration": 324,
        "start_time": "2023-11-14T14:32:22.081Z"
      },
      {
        "duration": 126,
        "start_time": "2023-11-14T14:32:22.571Z"
      },
      {
        "duration": 97,
        "start_time": "2023-11-14T14:32:23.884Z"
      },
      {
        "duration": 448,
        "start_time": "2023-11-14T14:32:25.359Z"
      },
      {
        "duration": 836,
        "start_time": "2023-11-14T14:32:29.114Z"
      },
      {
        "duration": 785,
        "start_time": "2023-11-14T14:32:37.186Z"
      },
      {
        "duration": 4797,
        "start_time": "2023-11-14T14:32:44.001Z"
      },
      {
        "duration": 387764,
        "start_time": "2023-11-14T14:32:54.157Z"
      },
      {
        "duration": 209,
        "start_time": "2023-11-14T14:43:14.656Z"
      },
      {
        "duration": 5,
        "start_time": "2023-11-14T14:43:33.553Z"
      },
      {
        "duration": 1654,
        "start_time": "2023-11-14T14:50:26.933Z"
      },
      {
        "duration": 1527,
        "start_time": "2023-11-14T14:50:36.380Z"
      },
      {
        "duration": 935,
        "start_time": "2023-11-14T14:50:37.909Z"
      },
      {
        "duration": 29,
        "start_time": "2023-11-14T14:50:38.845Z"
      },
      {
        "duration": 213,
        "start_time": "2023-11-14T14:50:38.877Z"
      },
      {
        "duration": 5,
        "start_time": "2023-11-14T14:50:39.092Z"
      },
      {
        "duration": 20,
        "start_time": "2023-11-14T14:50:39.098Z"
      },
      {
        "duration": 170,
        "start_time": "2023-11-14T14:50:39.120Z"
      },
      {
        "duration": 229,
        "start_time": "2023-11-14T14:50:39.292Z"
      },
      {
        "duration": 151,
        "start_time": "2023-11-14T14:50:39.523Z"
      },
      {
        "duration": 490,
        "start_time": "2023-11-14T14:50:39.677Z"
      },
      {
        "duration": 992,
        "start_time": "2023-11-14T14:50:40.169Z"
      },
      {
        "duration": 125,
        "start_time": "2023-11-14T14:50:41.165Z"
      },
      {
        "duration": 36,
        "start_time": "2023-11-14T14:50:41.292Z"
      },
      {
        "duration": 205,
        "start_time": "2023-11-14T14:50:41.330Z"
      },
      {
        "duration": 333,
        "start_time": "2023-11-14T14:50:41.536Z"
      },
      {
        "duration": 131,
        "start_time": "2023-11-14T14:50:41.870Z"
      },
      {
        "duration": 117,
        "start_time": "2023-11-14T14:50:42.371Z"
      },
      {
        "duration": 433,
        "start_time": "2023-11-14T14:50:43.320Z"
      },
      {
        "duration": 26,
        "start_time": "2023-11-14T14:51:33.334Z"
      },
      {
        "duration": 81,
        "start_time": "2023-11-14T14:53:43.767Z"
      },
      {
        "duration": 104,
        "start_time": "2023-11-14T14:54:14.171Z"
      },
      {
        "duration": 82,
        "start_time": "2023-11-14T14:54:25.250Z"
      },
      {
        "duration": 3,
        "start_time": "2023-11-14T14:56:03.575Z"
      },
      {
        "duration": 11,
        "start_time": "2023-11-14T14:58:13.898Z"
      },
      {
        "duration": 148,
        "start_time": "2023-11-14T15:03:49.026Z"
      },
      {
        "duration": 3,
        "start_time": "2023-11-14T15:05:36.911Z"
      },
      {
        "duration": 37,
        "start_time": "2023-11-14T15:05:39.659Z"
      },
      {
        "duration": 1180,
        "start_time": "2023-11-14T15:07:33.613Z"
      },
      {
        "duration": 1152,
        "start_time": "2023-11-14T15:07:47.579Z"
      },
      {
        "duration": 1154,
        "start_time": "2023-11-14T15:10:04.184Z"
      },
      {
        "duration": 3,
        "start_time": "2023-11-14T15:10:52.493Z"
      },
      {
        "duration": 13,
        "start_time": "2023-11-14T15:10:55.235Z"
      },
      {
        "duration": 31,
        "start_time": "2023-11-14T15:14:28.103Z"
      },
      {
        "duration": 15,
        "start_time": "2023-11-14T15:17:05.969Z"
      },
      {
        "duration": 15,
        "start_time": "2023-11-14T15:18:04.337Z"
      },
      {
        "duration": 12,
        "start_time": "2023-11-14T15:18:59.177Z"
      },
      {
        "duration": 23,
        "start_time": "2023-11-14T15:21:46.241Z"
      },
      {
        "duration": 21,
        "start_time": "2023-11-14T15:21:54.613Z"
      },
      {
        "duration": 13,
        "start_time": "2023-11-14T15:22:00.598Z"
      },
      {
        "duration": 27,
        "start_time": "2023-11-14T15:27:18.615Z"
      },
      {
        "duration": 3,
        "start_time": "2023-11-14T15:28:22.909Z"
      },
      {
        "duration": 5,
        "start_time": "2023-11-14T15:30:47.920Z"
      },
      {
        "duration": 1714,
        "start_time": "2023-11-14T19:12:51.752Z"
      },
      {
        "duration": 3138,
        "start_time": "2023-11-14T19:12:53.467Z"
      },
      {
        "duration": 18,
        "start_time": "2023-11-14T19:12:56.606Z"
      },
      {
        "duration": 199,
        "start_time": "2023-11-14T19:12:56.627Z"
      },
      {
        "duration": 10,
        "start_time": "2023-11-14T19:12:56.838Z"
      },
      {
        "duration": 16,
        "start_time": "2023-11-14T19:12:56.852Z"
      },
      {
        "duration": 192,
        "start_time": "2023-11-14T19:12:56.870Z"
      },
      {
        "duration": 264,
        "start_time": "2023-11-14T19:12:57.063Z"
      },
      {
        "duration": 186,
        "start_time": "2023-11-14T19:12:57.328Z"
      },
      {
        "duration": 539,
        "start_time": "2023-11-14T19:12:57.517Z"
      },
      {
        "duration": 1119,
        "start_time": "2023-11-14T19:12:58.059Z"
      },
      {
        "duration": 112,
        "start_time": "2023-11-14T19:12:59.179Z"
      },
      {
        "duration": 53,
        "start_time": "2023-11-14T19:12:59.293Z"
      },
      {
        "duration": 209,
        "start_time": "2023-11-14T19:12:59.352Z"
      },
      {
        "duration": 359,
        "start_time": "2023-11-14T19:12:59.563Z"
      },
      {
        "duration": 152,
        "start_time": "2023-11-14T19:12:59.924Z"
      },
      {
        "duration": 122,
        "start_time": "2023-11-14T19:13:00.078Z"
      },
      {
        "duration": 463,
        "start_time": "2023-11-14T19:13:00.202Z"
      },
      {
        "duration": 19,
        "start_time": "2023-11-14T19:13:00.669Z"
      },
      {
        "duration": 137,
        "start_time": "2023-11-14T19:13:00.690Z"
      },
      {
        "duration": 3,
        "start_time": "2023-11-14T19:13:02.463Z"
      },
      {
        "duration": 34,
        "start_time": "2023-11-14T19:13:02.949Z"
      },
      {
        "duration": 5,
        "start_time": "2023-11-14T19:13:04.297Z"
      },
      {
        "duration": 177,
        "start_time": "2023-11-14T19:19:42.322Z"
      },
      {
        "duration": 158,
        "start_time": "2023-11-14T19:24:57.941Z"
      },
      {
        "duration": 1508,
        "start_time": "2023-11-14T19:25:23.552Z"
      },
      {
        "duration": 1003,
        "start_time": "2023-11-14T19:25:25.063Z"
      },
      {
        "duration": 17,
        "start_time": "2023-11-14T19:25:26.068Z"
      },
      {
        "duration": 190,
        "start_time": "2023-11-14T19:25:26.087Z"
      },
      {
        "duration": 4,
        "start_time": "2023-11-14T19:25:26.279Z"
      },
      {
        "duration": 16,
        "start_time": "2023-11-14T19:25:26.285Z"
      },
      {
        "duration": 204,
        "start_time": "2023-11-14T19:25:26.303Z"
      },
      {
        "duration": 254,
        "start_time": "2023-11-14T19:25:26.509Z"
      },
      {
        "duration": 183,
        "start_time": "2023-11-14T19:25:26.765Z"
      },
      {
        "duration": 524,
        "start_time": "2023-11-14T19:25:26.950Z"
      },
      {
        "duration": 1051,
        "start_time": "2023-11-14T19:25:27.476Z"
      },
      {
        "duration": 111,
        "start_time": "2023-11-14T19:25:28.530Z"
      },
      {
        "duration": 43,
        "start_time": "2023-11-14T19:25:28.643Z"
      },
      {
        "duration": 229,
        "start_time": "2023-11-14T19:25:28.690Z"
      },
      {
        "duration": 393,
        "start_time": "2023-11-14T19:25:28.920Z"
      },
      {
        "duration": 176,
        "start_time": "2023-11-14T19:25:29.315Z"
      },
      {
        "duration": 125,
        "start_time": "2023-11-14T19:25:29.492Z"
      },
      {
        "duration": 469,
        "start_time": "2023-11-14T19:25:29.619Z"
      },
      {
        "duration": 3,
        "start_time": "2023-11-14T19:25:30.090Z"
      },
      {
        "duration": 41,
        "start_time": "2023-11-14T19:25:30.095Z"
      },
      {
        "duration": 108,
        "start_time": "2023-11-14T19:25:30.142Z"
      },
      {
        "duration": 151,
        "start_time": "2023-11-14T19:25:30.252Z"
      },
      {
        "duration": 0,
        "start_time": "2023-11-14T19:25:30.405Z"
      },
      {
        "duration": 19,
        "start_time": "2023-11-14T19:25:42.338Z"
      },
      {
        "duration": 3,
        "start_time": "2023-11-14T19:26:58.390Z"
      },
      {
        "duration": 25,
        "start_time": "2023-11-14T19:26:58.793Z"
      },
      {
        "duration": 98,
        "start_time": "2023-11-14T19:26:59.664Z"
      },
      {
        "duration": 19,
        "start_time": "2023-11-14T19:27:01.359Z"
      },
      {
        "duration": 3,
        "start_time": "2023-11-14T19:29:00.890Z"
      },
      {
        "duration": 29,
        "start_time": "2023-11-14T19:29:01.279Z"
      },
      {
        "duration": 104,
        "start_time": "2023-11-14T19:29:01.872Z"
      },
      {
        "duration": 25,
        "start_time": "2023-11-14T19:29:02.356Z"
      },
      {
        "duration": 13,
        "start_time": "2023-11-14T19:29:23.708Z"
      },
      {
        "duration": 19,
        "start_time": "2023-11-14T19:29:35.106Z"
      },
      {
        "duration": 11,
        "start_time": "2023-11-14T19:30:05.704Z"
      },
      {
        "duration": 7,
        "start_time": "2023-11-14T19:30:24.659Z"
      },
      {
        "duration": 646,
        "start_time": "2023-11-14T19:30:29.964Z"
      },
      {
        "duration": 1683,
        "start_time": "2023-11-14T19:31:03.554Z"
      },
      {
        "duration": 1021,
        "start_time": "2023-11-14T19:31:05.248Z"
      },
      {
        "duration": 22,
        "start_time": "2023-11-14T19:31:06.272Z"
      },
      {
        "duration": 205,
        "start_time": "2023-11-14T19:31:06.296Z"
      },
      {
        "duration": 4,
        "start_time": "2023-11-14T19:31:06.503Z"
      },
      {
        "duration": 59,
        "start_time": "2023-11-14T19:31:06.509Z"
      },
      {
        "duration": 157,
        "start_time": "2023-11-14T19:31:06.570Z"
      },
      {
        "duration": 259,
        "start_time": "2023-11-14T19:31:06.732Z"
      },
      {
        "duration": 155,
        "start_time": "2023-11-14T19:31:06.992Z"
      },
      {
        "duration": 557,
        "start_time": "2023-11-14T19:31:07.153Z"
      },
      {
        "duration": 1108,
        "start_time": "2023-11-14T19:31:07.712Z"
      },
      {
        "duration": 130,
        "start_time": "2023-11-14T19:31:08.821Z"
      },
      {
        "duration": 39,
        "start_time": "2023-11-14T19:31:08.961Z"
      },
      {
        "duration": 264,
        "start_time": "2023-11-14T19:31:09.002Z"
      },
      {
        "duration": 367,
        "start_time": "2023-11-14T19:31:09.272Z"
      },
      {
        "duration": 166,
        "start_time": "2023-11-14T19:31:09.643Z"
      },
      {
        "duration": 125,
        "start_time": "2023-11-14T19:31:09.810Z"
      },
      {
        "duration": 427,
        "start_time": "2023-11-14T19:31:09.941Z"
      },
      {
        "duration": 5,
        "start_time": "2023-11-14T19:31:10.373Z"
      },
      {
        "duration": 18,
        "start_time": "2023-11-14T19:31:10.381Z"
      },
      {
        "duration": 97,
        "start_time": "2023-11-14T19:31:10.401Z"
      },
      {
        "duration": 809,
        "start_time": "2023-11-14T19:31:10.500Z"
      },
      {
        "duration": 0,
        "start_time": "2023-11-14T19:31:11.311Z"
      },
      {
        "duration": 654,
        "start_time": "2023-11-14T19:31:26.565Z"
      },
      {
        "duration": 12,
        "start_time": "2023-11-14T19:34:43.779Z"
      },
      {
        "duration": 4,
        "start_time": "2023-11-14T19:35:06.802Z"
      },
      {
        "duration": 1691,
        "start_time": "2023-11-14T19:35:29.464Z"
      },
      {
        "duration": 946,
        "start_time": "2023-11-14T19:35:31.158Z"
      },
      {
        "duration": 25,
        "start_time": "2023-11-14T19:35:32.105Z"
      },
      {
        "duration": 174,
        "start_time": "2023-11-14T19:35:32.136Z"
      },
      {
        "duration": 4,
        "start_time": "2023-11-14T19:35:32.311Z"
      },
      {
        "duration": 36,
        "start_time": "2023-11-14T19:35:32.317Z"
      },
      {
        "duration": 147,
        "start_time": "2023-11-14T19:35:32.355Z"
      },
      {
        "duration": 213,
        "start_time": "2023-11-14T19:35:32.504Z"
      },
      {
        "duration": 162,
        "start_time": "2023-11-14T19:35:32.719Z"
      },
      {
        "duration": 545,
        "start_time": "2023-11-14T19:35:32.882Z"
      },
      {
        "duration": 1087,
        "start_time": "2023-11-14T19:35:33.430Z"
      },
      {
        "duration": 105,
        "start_time": "2023-11-14T19:35:34.519Z"
      },
      {
        "duration": 52,
        "start_time": "2023-11-14T19:35:34.626Z"
      },
      {
        "duration": 207,
        "start_time": "2023-11-14T19:35:34.682Z"
      },
      {
        "duration": 401,
        "start_time": "2023-11-14T19:35:34.891Z"
      },
      {
        "duration": 175,
        "start_time": "2023-11-14T19:35:35.294Z"
      },
      {
        "duration": 126,
        "start_time": "2023-11-14T19:35:35.471Z"
      },
      {
        "duration": 421,
        "start_time": "2023-11-14T19:35:35.599Z"
      },
      {
        "duration": 15,
        "start_time": "2023-11-14T19:35:36.022Z"
      },
      {
        "duration": 25,
        "start_time": "2023-11-14T19:35:36.046Z"
      },
      {
        "duration": 87,
        "start_time": "2023-11-14T19:35:36.074Z"
      },
      {
        "duration": 679,
        "start_time": "2023-11-14T19:35:36.168Z"
      },
      {
        "duration": 1658,
        "start_time": "2023-11-14T19:39:09.709Z"
      },
      {
        "duration": 1008,
        "start_time": "2023-11-14T19:39:11.369Z"
      },
      {
        "duration": 16,
        "start_time": "2023-11-14T19:39:12.378Z"
      },
      {
        "duration": 261,
        "start_time": "2023-11-14T19:39:12.396Z"
      },
      {
        "duration": 6,
        "start_time": "2023-11-14T19:39:12.660Z"
      },
      {
        "duration": 32,
        "start_time": "2023-11-14T19:39:12.667Z"
      },
      {
        "duration": 196,
        "start_time": "2023-11-14T19:39:12.701Z"
      },
      {
        "duration": 227,
        "start_time": "2023-11-14T19:39:12.899Z"
      },
      {
        "duration": 159,
        "start_time": "2023-11-14T19:39:13.128Z"
      },
      {
        "duration": 537,
        "start_time": "2023-11-14T19:39:13.290Z"
      },
      {
        "duration": 1082,
        "start_time": "2023-11-14T19:39:13.830Z"
      },
      {
        "duration": 103,
        "start_time": "2023-11-14T19:39:14.914Z"
      },
      {
        "duration": 57,
        "start_time": "2023-11-14T19:39:15.019Z"
      },
      {
        "duration": 212,
        "start_time": "2023-11-14T19:39:15.077Z"
      },
      {
        "duration": 355,
        "start_time": "2023-11-14T19:39:15.291Z"
      },
      {
        "duration": 141,
        "start_time": "2023-11-14T19:39:15.649Z"
      },
      {
        "duration": 110,
        "start_time": "2023-11-14T19:39:15.792Z"
      },
      {
        "duration": 423,
        "start_time": "2023-11-14T19:39:15.904Z"
      },
      {
        "duration": 12,
        "start_time": "2023-11-14T19:39:16.330Z"
      },
      {
        "duration": 15,
        "start_time": "2023-11-14T19:39:16.352Z"
      },
      {
        "duration": 84,
        "start_time": "2023-11-14T19:39:16.369Z"
      },
      {
        "duration": 617,
        "start_time": "2023-11-14T19:39:16.455Z"
      },
      {
        "duration": 1559,
        "start_time": "2023-11-14T19:47:34.952Z"
      },
      {
        "duration": 983,
        "start_time": "2023-11-14T19:47:36.512Z"
      },
      {
        "duration": 16,
        "start_time": "2023-11-14T19:47:37.496Z"
      },
      {
        "duration": 194,
        "start_time": "2023-11-14T19:47:37.514Z"
      },
      {
        "duration": 4,
        "start_time": "2023-11-14T19:47:37.710Z"
      },
      {
        "duration": 32,
        "start_time": "2023-11-14T19:47:37.716Z"
      },
      {
        "duration": 169,
        "start_time": "2023-11-14T19:47:37.750Z"
      },
      {
        "duration": 256,
        "start_time": "2023-11-14T19:47:37.920Z"
      },
      {
        "duration": 141,
        "start_time": "2023-11-14T19:47:38.177Z"
      },
      {
        "duration": 508,
        "start_time": "2023-11-14T19:47:38.320Z"
      },
      {
        "duration": 1038,
        "start_time": "2023-11-14T19:47:38.833Z"
      },
      {
        "duration": 101,
        "start_time": "2023-11-14T19:47:39.873Z"
      },
      {
        "duration": 39,
        "start_time": "2023-11-14T19:47:39.977Z"
      },
      {
        "duration": 233,
        "start_time": "2023-11-14T19:47:40.018Z"
      },
      {
        "duration": 325,
        "start_time": "2023-11-14T19:47:40.257Z"
      },
      {
        "duration": 132,
        "start_time": "2023-11-14T19:47:40.583Z"
      },
      {
        "duration": 122,
        "start_time": "2023-11-14T19:47:40.717Z"
      },
      {
        "duration": 426,
        "start_time": "2023-11-14T19:47:40.845Z"
      },
      {
        "duration": 2,
        "start_time": "2023-11-14T19:47:41.273Z"
      },
      {
        "duration": 21,
        "start_time": "2023-11-14T19:47:41.277Z"
      },
      {
        "duration": 95,
        "start_time": "2023-11-14T19:47:41.300Z"
      },
      {
        "duration": 616,
        "start_time": "2023-11-14T19:47:41.397Z"
      },
      {
        "duration": 4,
        "start_time": "2023-11-14T19:47:42.015Z"
      },
      {
        "duration": 1709,
        "start_time": "2023-11-14T20:17:08.935Z"
      },
      {
        "duration": 1086,
        "start_time": "2023-11-14T20:17:10.646Z"
      },
      {
        "duration": 36,
        "start_time": "2023-11-14T20:17:11.737Z"
      },
      {
        "duration": 186,
        "start_time": "2023-11-14T20:17:11.775Z"
      },
      {
        "duration": 9,
        "start_time": "2023-11-14T20:17:11.963Z"
      },
      {
        "duration": 19,
        "start_time": "2023-11-14T20:17:11.974Z"
      },
      {
        "duration": 227,
        "start_time": "2023-11-14T20:17:11.995Z"
      },
      {
        "duration": 268,
        "start_time": "2023-11-14T20:17:12.224Z"
      },
      {
        "duration": 220,
        "start_time": "2023-11-14T20:17:12.494Z"
      },
      {
        "duration": 620,
        "start_time": "2023-11-14T20:17:12.730Z"
      },
      {
        "duration": 1247,
        "start_time": "2023-11-14T20:17:13.353Z"
      },
      {
        "duration": 113,
        "start_time": "2023-11-14T20:17:14.602Z"
      },
      {
        "duration": 51,
        "start_time": "2023-11-14T20:17:14.717Z"
      },
      {
        "duration": 222,
        "start_time": "2023-11-14T20:17:14.771Z"
      },
      {
        "duration": 370,
        "start_time": "2023-11-14T20:17:14.995Z"
      },
      {
        "duration": 151,
        "start_time": "2023-11-14T20:17:15.367Z"
      },
      {
        "duration": 140,
        "start_time": "2023-11-14T20:17:15.520Z"
      },
      {
        "duration": 449,
        "start_time": "2023-11-14T20:17:15.663Z"
      },
      {
        "duration": 2,
        "start_time": "2023-11-14T20:17:16.114Z"
      },
      {
        "duration": 24,
        "start_time": "2023-11-14T20:17:16.117Z"
      },
      {
        "duration": 96,
        "start_time": "2023-11-14T20:17:16.144Z"
      },
      {
        "duration": 747,
        "start_time": "2023-11-14T20:17:16.244Z"
      },
      {
        "duration": 5,
        "start_time": "2023-11-14T20:17:16.993Z"
      },
      {
        "duration": 1866,
        "start_time": "2023-11-14T20:20:36.128Z"
      },
      {
        "duration": 1138,
        "start_time": "2023-11-14T20:20:37.996Z"
      },
      {
        "duration": 32,
        "start_time": "2023-11-14T20:20:39.136Z"
      },
      {
        "duration": 216,
        "start_time": "2023-11-14T20:20:39.170Z"
      },
      {
        "duration": 4,
        "start_time": "2023-11-14T20:20:39.389Z"
      },
      {
        "duration": 18,
        "start_time": "2023-11-14T20:20:39.394Z"
      },
      {
        "duration": 215,
        "start_time": "2023-11-14T20:20:39.413Z"
      },
      {
        "duration": 271,
        "start_time": "2023-11-14T20:20:39.637Z"
      },
      {
        "duration": 182,
        "start_time": "2023-11-14T20:20:39.910Z"
      },
      {
        "duration": 582,
        "start_time": "2023-11-14T20:20:40.093Z"
      },
      {
        "duration": 1211,
        "start_time": "2023-11-14T20:20:40.677Z"
      },
      {
        "duration": 107,
        "start_time": "2023-11-14T20:20:41.890Z"
      },
      {
        "duration": 52,
        "start_time": "2023-11-14T20:20:41.999Z"
      },
      {
        "duration": 240,
        "start_time": "2023-11-14T20:20:42.057Z"
      },
      {
        "duration": 411,
        "start_time": "2023-11-14T20:20:42.299Z"
      },
      {
        "duration": 175,
        "start_time": "2023-11-14T20:20:42.711Z"
      },
      {
        "duration": 127,
        "start_time": "2023-11-14T20:20:42.887Z"
      },
      {
        "duration": 435,
        "start_time": "2023-11-14T20:20:43.015Z"
      },
      {
        "duration": 12,
        "start_time": "2023-11-14T20:20:43.465Z"
      },
      {
        "duration": 13,
        "start_time": "2023-11-14T20:20:43.483Z"
      },
      {
        "duration": 89,
        "start_time": "2023-11-14T20:20:43.498Z"
      },
      {
        "duration": 713,
        "start_time": "2023-11-14T20:20:43.589Z"
      },
      {
        "duration": 4,
        "start_time": "2023-11-14T20:20:44.304Z"
      },
      {
        "duration": 1626,
        "start_time": "2023-11-14T20:24:05.860Z"
      },
      {
        "duration": 978,
        "start_time": "2023-11-14T20:24:07.488Z"
      },
      {
        "duration": 23,
        "start_time": "2023-11-14T20:24:08.468Z"
      },
      {
        "duration": 208,
        "start_time": "2023-11-14T20:24:08.492Z"
      },
      {
        "duration": 5,
        "start_time": "2023-11-14T20:24:08.702Z"
      },
      {
        "duration": 29,
        "start_time": "2023-11-14T20:24:08.708Z"
      },
      {
        "duration": 165,
        "start_time": "2023-11-14T20:24:08.745Z"
      },
      {
        "duration": 258,
        "start_time": "2023-11-14T20:24:08.911Z"
      },
      {
        "duration": 165,
        "start_time": "2023-11-14T20:24:09.171Z"
      },
      {
        "duration": 512,
        "start_time": "2023-11-14T20:24:09.338Z"
      },
      {
        "duration": 1089,
        "start_time": "2023-11-14T20:24:09.852Z"
      },
      {
        "duration": 99,
        "start_time": "2023-11-14T20:24:10.944Z"
      },
      {
        "duration": 48,
        "start_time": "2023-11-14T20:24:11.046Z"
      },
      {
        "duration": 256,
        "start_time": "2023-11-14T20:24:11.097Z"
      },
      {
        "duration": 357,
        "start_time": "2023-11-14T20:24:11.356Z"
      },
      {
        "duration": 154,
        "start_time": "2023-11-14T20:24:11.715Z"
      },
      {
        "duration": 116,
        "start_time": "2023-11-14T20:24:11.871Z"
      },
      {
        "duration": 455,
        "start_time": "2023-11-14T20:24:11.989Z"
      },
      {
        "duration": 6,
        "start_time": "2023-11-14T20:24:12.446Z"
      },
      {
        "duration": 92,
        "start_time": "2023-11-14T20:24:12.454Z"
      },
      {
        "duration": 84,
        "start_time": "2023-11-14T20:24:12.554Z"
      },
      {
        "duration": 623,
        "start_time": "2023-11-14T20:24:12.645Z"
      },
      {
        "duration": 5,
        "start_time": "2023-11-14T20:24:13.270Z"
      },
      {
        "duration": 5723119,
        "start_time": "2023-11-14T20:24:13.277Z"
      },
      {
        "duration": 1647,
        "start_time": "2023-11-15T19:12:50.404Z"
      },
      {
        "duration": 2777,
        "start_time": "2023-11-15T19:12:52.053Z"
      },
      {
        "duration": 16,
        "start_time": "2023-11-15T19:12:54.832Z"
      },
      {
        "duration": 150,
        "start_time": "2023-11-15T19:12:54.850Z"
      },
      {
        "duration": 5,
        "start_time": "2023-11-15T19:12:55.001Z"
      },
      {
        "duration": 24,
        "start_time": "2023-11-15T19:12:55.007Z"
      },
      {
        "duration": 150,
        "start_time": "2023-11-15T19:12:55.033Z"
      },
      {
        "duration": 217,
        "start_time": "2023-11-15T19:12:55.185Z"
      },
      {
        "duration": 136,
        "start_time": "2023-11-15T19:12:55.403Z"
      },
      {
        "duration": 433,
        "start_time": "2023-11-15T19:12:55.541Z"
      },
      {
        "duration": 915,
        "start_time": "2023-11-15T19:12:55.975Z"
      },
      {
        "duration": 105,
        "start_time": "2023-11-15T19:12:56.891Z"
      },
      {
        "duration": 42,
        "start_time": "2023-11-15T19:12:56.998Z"
      },
      {
        "duration": 189,
        "start_time": "2023-11-15T19:12:57.042Z"
      },
      {
        "duration": 307,
        "start_time": "2023-11-15T19:12:57.233Z"
      },
      {
        "duration": 140,
        "start_time": "2023-11-15T19:12:57.541Z"
      },
      {
        "duration": 124,
        "start_time": "2023-11-15T19:12:57.683Z"
      },
      {
        "duration": 425,
        "start_time": "2023-11-15T19:12:57.809Z"
      },
      {
        "duration": 3,
        "start_time": "2023-11-15T19:12:58.235Z"
      },
      {
        "duration": 35,
        "start_time": "2023-11-15T19:12:58.239Z"
      },
      {
        "duration": 72,
        "start_time": "2023-11-15T19:12:59.359Z"
      },
      {
        "duration": 587,
        "start_time": "2023-11-15T19:13:01.044Z"
      },
      {
        "duration": 1589,
        "start_time": "2023-11-15T19:22:05.331Z"
      },
      {
        "duration": 895,
        "start_time": "2023-11-15T19:22:06.922Z"
      },
      {
        "duration": 21,
        "start_time": "2023-11-15T19:22:07.818Z"
      },
      {
        "duration": 156,
        "start_time": "2023-11-15T19:22:07.841Z"
      },
      {
        "duration": 5,
        "start_time": "2023-11-15T19:22:08.000Z"
      },
      {
        "duration": 24,
        "start_time": "2023-11-15T19:22:08.007Z"
      },
      {
        "duration": 149,
        "start_time": "2023-11-15T19:22:08.033Z"
      },
      {
        "duration": 208,
        "start_time": "2023-11-15T19:22:08.183Z"
      },
      {
        "duration": 137,
        "start_time": "2023-11-15T19:22:08.393Z"
      },
      {
        "duration": 428,
        "start_time": "2023-11-15T19:22:08.532Z"
      },
      {
        "duration": 905,
        "start_time": "2023-11-15T19:22:08.962Z"
      },
      {
        "duration": 94,
        "start_time": "2023-11-15T19:22:09.869Z"
      },
      {
        "duration": 34,
        "start_time": "2023-11-15T19:22:09.964Z"
      },
      {
        "duration": 183,
        "start_time": "2023-11-15T19:22:10.001Z"
      },
      {
        "duration": 299,
        "start_time": "2023-11-15T19:22:10.185Z"
      },
      {
        "duration": 124,
        "start_time": "2023-11-15T19:22:10.486Z"
      },
      {
        "duration": 103,
        "start_time": "2023-11-15T19:22:10.611Z"
      },
      {
        "duration": 387,
        "start_time": "2023-11-15T19:22:10.715Z"
      },
      {
        "duration": 2,
        "start_time": "2023-11-15T19:22:11.104Z"
      },
      {
        "duration": 27,
        "start_time": "2023-11-15T19:22:11.108Z"
      },
      {
        "duration": 79,
        "start_time": "2023-11-15T19:22:11.138Z"
      },
      {
        "duration": 531,
        "start_time": "2023-11-15T19:22:11.218Z"
      },
      {
        "duration": 5,
        "start_time": "2023-11-15T19:22:11.750Z"
      },
      {
        "duration": 4568,
        "start_time": "2023-11-15T19:22:11.757Z"
      },
      {
        "duration": 119,
        "start_time": "2023-11-15T19:25:05.636Z"
      },
      {
        "duration": 10,
        "start_time": "2023-11-15T19:25:26.526Z"
      },
      {
        "duration": 10723,
        "start_time": "2023-11-15T19:27:21.598Z"
      },
      {
        "duration": 1513,
        "start_time": "2023-11-15T19:27:45.769Z"
      },
      {
        "duration": 2907,
        "start_time": "2023-11-15T19:27:49.342Z"
      },
      {
        "duration": 2793,
        "start_time": "2023-11-15T19:28:05.990Z"
      },
      {
        "duration": 1609,
        "start_time": "2023-11-15T19:28:08.786Z"
      },
      {
        "duration": 0,
        "start_time": "2023-11-15T19:28:10.399Z"
      },
      {
        "duration": 0,
        "start_time": "2023-11-15T19:28:10.400Z"
      },
      {
        "duration": 0,
        "start_time": "2023-11-15T19:28:10.402Z"
      },
      {
        "duration": 0,
        "start_time": "2023-11-15T19:28:10.403Z"
      },
      {
        "duration": 0,
        "start_time": "2023-11-15T19:28:10.405Z"
      },
      {
        "duration": 0,
        "start_time": "2023-11-15T19:28:10.406Z"
      },
      {
        "duration": 0,
        "start_time": "2023-11-15T19:28:10.407Z"
      },
      {
        "duration": 0,
        "start_time": "2023-11-15T19:28:10.408Z"
      },
      {
        "duration": 0,
        "start_time": "2023-11-15T19:28:10.410Z"
      },
      {
        "duration": 0,
        "start_time": "2023-11-15T19:28:10.431Z"
      },
      {
        "duration": 0,
        "start_time": "2023-11-15T19:28:10.432Z"
      },
      {
        "duration": 0,
        "start_time": "2023-11-15T19:28:10.434Z"
      },
      {
        "duration": 0,
        "start_time": "2023-11-15T19:28:10.435Z"
      },
      {
        "duration": 0,
        "start_time": "2023-11-15T19:28:10.437Z"
      },
      {
        "duration": 0,
        "start_time": "2023-11-15T19:28:10.438Z"
      },
      {
        "duration": 0,
        "start_time": "2023-11-15T19:28:10.440Z"
      },
      {
        "duration": 0,
        "start_time": "2023-11-15T19:28:10.441Z"
      },
      {
        "duration": 0,
        "start_time": "2023-11-15T19:28:10.443Z"
      },
      {
        "duration": 0,
        "start_time": "2023-11-15T19:28:10.444Z"
      },
      {
        "duration": 0,
        "start_time": "2023-11-15T19:28:10.446Z"
      },
      {
        "duration": 0,
        "start_time": "2023-11-15T19:28:10.447Z"
      },
      {
        "duration": 0,
        "start_time": "2023-11-15T19:28:10.448Z"
      },
      {
        "duration": 0,
        "start_time": "2023-11-15T19:28:10.450Z"
      },
      {
        "duration": 3023,
        "start_time": "2023-11-15T19:28:35.039Z"
      },
      {
        "duration": 2861,
        "start_time": "2023-11-15T19:28:45.284Z"
      },
      {
        "duration": 1548,
        "start_time": "2023-11-15T19:29:08.711Z"
      },
      {
        "duration": 1530,
        "start_time": "2023-11-15T19:29:46.009Z"
      },
      {
        "duration": 869,
        "start_time": "2023-11-15T19:29:47.541Z"
      },
      {
        "duration": 19,
        "start_time": "2023-11-15T19:29:48.412Z"
      },
      {
        "duration": 149,
        "start_time": "2023-11-15T19:29:48.433Z"
      },
      {
        "duration": 4,
        "start_time": "2023-11-15T19:29:48.584Z"
      },
      {
        "duration": 16,
        "start_time": "2023-11-15T19:29:48.590Z"
      },
      {
        "duration": 145,
        "start_time": "2023-11-15T19:29:48.608Z"
      },
      {
        "duration": 199,
        "start_time": "2023-11-15T19:29:48.755Z"
      },
      {
        "duration": 152,
        "start_time": "2023-11-15T19:29:48.956Z"
      },
      {
        "duration": 425,
        "start_time": "2023-11-15T19:29:49.110Z"
      },
      {
        "duration": 902,
        "start_time": "2023-11-15T19:29:49.536Z"
      },
      {
        "duration": 94,
        "start_time": "2023-11-15T19:29:50.440Z"
      },
      {
        "duration": 35,
        "start_time": "2023-11-15T19:29:50.535Z"
      },
      {
        "duration": 189,
        "start_time": "2023-11-15T19:29:50.572Z"
      },
      {
        "duration": 296,
        "start_time": "2023-11-15T19:29:50.762Z"
      },
      {
        "duration": 161,
        "start_time": "2023-11-15T19:29:51.059Z"
      },
      {
        "duration": 112,
        "start_time": "2023-11-15T19:29:51.222Z"
      },
      {
        "duration": 373,
        "start_time": "2023-11-15T19:29:51.336Z"
      },
      {
        "duration": 2,
        "start_time": "2023-11-15T19:29:51.711Z"
      },
      {
        "duration": 26,
        "start_time": "2023-11-15T19:29:51.715Z"
      },
      {
        "duration": 76,
        "start_time": "2023-11-15T19:29:51.742Z"
      },
      {
        "duration": 535,
        "start_time": "2023-11-15T19:29:51.820Z"
      },
      {
        "duration": 4,
        "start_time": "2023-11-15T19:29:52.357Z"
      },
      {
        "duration": 120,
        "start_time": "2023-11-15T19:29:52.362Z"
      },
      {
        "duration": 222,
        "start_time": "2023-11-15T19:31:32.253Z"
      },
      {
        "duration": 1974,
        "start_time": "2023-11-15T19:32:05.102Z"
      },
      {
        "duration": 1634,
        "start_time": "2023-11-15T19:33:00.621Z"
      },
      {
        "duration": 1643,
        "start_time": "2023-11-15T19:34:01.047Z"
      },
      {
        "duration": 1748,
        "start_time": "2023-11-16T10:05:29.615Z"
      },
      {
        "duration": 1247,
        "start_time": "2023-11-16T10:05:31.366Z"
      },
      {
        "duration": 18,
        "start_time": "2023-11-16T10:05:32.615Z"
      },
      {
        "duration": 175,
        "start_time": "2023-11-16T10:05:32.635Z"
      },
      {
        "duration": 7,
        "start_time": "2023-11-16T10:05:32.983Z"
      },
      {
        "duration": 14,
        "start_time": "2023-11-16T10:05:33.867Z"
      },
      {
        "duration": 156,
        "start_time": "2023-11-16T10:05:34.146Z"
      },
      {
        "duration": 214,
        "start_time": "2023-11-16T10:05:34.637Z"
      },
      {
        "duration": 148,
        "start_time": "2023-11-16T10:05:34.929Z"
      },
      {
        "duration": 459,
        "start_time": "2023-11-16T10:05:35.562Z"
      },
      {
        "duration": 1004,
        "start_time": "2023-11-16T10:05:36.023Z"
      },
      {
        "duration": 109,
        "start_time": "2023-11-16T10:05:37.030Z"
      },
      {
        "duration": 42,
        "start_time": "2023-11-16T10:05:37.141Z"
      },
      {
        "duration": 212,
        "start_time": "2023-11-16T10:05:37.185Z"
      },
      {
        "duration": 330,
        "start_time": "2023-11-16T10:05:37.399Z"
      },
      {
        "duration": 133,
        "start_time": "2023-11-16T10:05:39.770Z"
      },
      {
        "duration": 104,
        "start_time": "2023-11-16T10:05:41.347Z"
      },
      {
        "duration": 497,
        "start_time": "2023-11-16T10:05:43.189Z"
      },
      {
        "duration": 3,
        "start_time": "2023-11-16T10:05:46.869Z"
      },
      {
        "duration": 13,
        "start_time": "2023-11-16T10:05:47.615Z"
      },
      {
        "duration": 106,
        "start_time": "2023-11-16T10:05:48.930Z"
      },
      {
        "duration": 608,
        "start_time": "2023-11-16T10:05:49.912Z"
      },
      {
        "duration": 5,
        "start_time": "2023-11-16T10:05:51.274Z"
      },
      {
        "duration": 358,
        "start_time": "2023-11-16T10:13:39.258Z"
      },
      {
        "duration": 2538,
        "start_time": "2023-11-16T10:15:10.313Z"
      },
      {
        "duration": 21,
        "start_time": "2023-11-16T10:15:59.270Z"
      },
      {
        "duration": 10,
        "start_time": "2023-11-16T10:16:21.913Z"
      },
      {
        "duration": 1690,
        "start_time": "2023-11-16T10:16:39.667Z"
      },
      {
        "duration": 1091,
        "start_time": "2023-11-16T10:16:41.359Z"
      },
      {
        "duration": 28,
        "start_time": "2023-11-16T10:16:42.452Z"
      },
      {
        "duration": 206,
        "start_time": "2023-11-16T10:16:42.484Z"
      },
      {
        "duration": 6,
        "start_time": "2023-11-16T10:16:42.693Z"
      },
      {
        "duration": 18,
        "start_time": "2023-11-16T10:16:42.702Z"
      },
      {
        "duration": 219,
        "start_time": "2023-11-16T10:16:42.733Z"
      },
      {
        "duration": 292,
        "start_time": "2023-11-16T10:16:42.954Z"
      },
      {
        "duration": 185,
        "start_time": "2023-11-16T10:16:43.248Z"
      },
      {
        "duration": 581,
        "start_time": "2023-11-16T10:16:43.436Z"
      },
      {
        "duration": 1136,
        "start_time": "2023-11-16T10:16:44.019Z"
      },
      {
        "duration": 133,
        "start_time": "2023-11-16T10:16:45.157Z"
      },
      {
        "duration": 39,
        "start_time": "2023-11-16T10:16:45.294Z"
      },
      {
        "duration": 257,
        "start_time": "2023-11-16T10:16:45.335Z"
      },
      {
        "duration": 432,
        "start_time": "2023-11-16T10:16:45.593Z"
      },
      {
        "duration": 212,
        "start_time": "2023-11-16T10:16:46.027Z"
      },
      {
        "duration": 129,
        "start_time": "2023-11-16T10:16:46.241Z"
      },
      {
        "duration": 435,
        "start_time": "2023-11-16T10:16:46.379Z"
      },
      {
        "duration": 7,
        "start_time": "2023-11-16T10:16:46.816Z"
      },
      {
        "duration": 19,
        "start_time": "2023-11-16T10:16:46.826Z"
      },
      {
        "duration": 103,
        "start_time": "2023-11-16T10:16:46.847Z"
      },
      {
        "duration": 766,
        "start_time": "2023-11-16T10:16:46.952Z"
      },
      {
        "duration": 5,
        "start_time": "2023-11-16T10:16:47.720Z"
      },
      {
        "duration": 178,
        "start_time": "2023-11-16T10:16:47.727Z"
      },
      {
        "duration": 15,
        "start_time": "2023-11-16T10:24:00.508Z"
      },
      {
        "duration": 6,
        "start_time": "2023-11-16T10:24:21.772Z"
      },
      {
        "duration": 15,
        "start_time": "2023-11-16T10:24:27.224Z"
      },
      {
        "duration": 32,
        "start_time": "2023-11-16T10:25:28.677Z"
      },
      {
        "duration": 253,
        "start_time": "2023-11-16T10:32:28.759Z"
      },
      {
        "duration": 1612,
        "start_time": "2023-11-16T10:32:53.572Z"
      },
      {
        "duration": 968,
        "start_time": "2023-11-16T10:32:55.187Z"
      },
      {
        "duration": 24,
        "start_time": "2023-11-16T10:32:56.156Z"
      },
      {
        "duration": 191,
        "start_time": "2023-11-16T10:32:56.183Z"
      },
      {
        "duration": 7,
        "start_time": "2023-11-16T10:32:56.377Z"
      },
      {
        "duration": 38,
        "start_time": "2023-11-16T10:32:56.386Z"
      },
      {
        "duration": 197,
        "start_time": "2023-11-16T10:32:56.426Z"
      },
      {
        "duration": 253,
        "start_time": "2023-11-16T10:32:56.624Z"
      },
      {
        "duration": 168,
        "start_time": "2023-11-16T10:32:56.880Z"
      },
      {
        "duration": 526,
        "start_time": "2023-11-16T10:32:57.050Z"
      },
      {
        "duration": 1037,
        "start_time": "2023-11-16T10:32:57.577Z"
      },
      {
        "duration": 113,
        "start_time": "2023-11-16T10:32:58.616Z"
      },
      {
        "duration": 43,
        "start_time": "2023-11-16T10:32:58.730Z"
      },
      {
        "duration": 222,
        "start_time": "2023-11-16T10:32:58.774Z"
      },
      {
        "duration": 346,
        "start_time": "2023-11-16T10:32:58.998Z"
      },
      {
        "duration": 134,
        "start_time": "2023-11-16T10:32:59.346Z"
      },
      {
        "duration": 124,
        "start_time": "2023-11-16T10:32:59.482Z"
      },
      {
        "duration": 473,
        "start_time": "2023-11-16T10:32:59.608Z"
      },
      {
        "duration": 226,
        "start_time": "2023-11-16T10:33:00.083Z"
      },
      {
        "duration": 72078,
        "start_time": "2023-11-16T10:36:46.987Z"
      },
      {
        "duration": 1556,
        "start_time": "2023-11-16T10:38:37.736Z"
      },
      {
        "duration": 925,
        "start_time": "2023-11-16T10:38:39.294Z"
      },
      {
        "duration": 16,
        "start_time": "2023-11-16T10:38:40.221Z"
      },
      {
        "duration": 174,
        "start_time": "2023-11-16T10:38:40.239Z"
      },
      {
        "duration": 21,
        "start_time": "2023-11-16T10:38:40.415Z"
      },
      {
        "duration": 28,
        "start_time": "2023-11-16T10:38:40.438Z"
      },
      {
        "duration": 157,
        "start_time": "2023-11-16T10:38:40.468Z"
      },
      {
        "duration": 208,
        "start_time": "2023-11-16T10:38:40.627Z"
      },
      {
        "duration": 154,
        "start_time": "2023-11-16T10:38:40.837Z"
      },
      {
        "duration": 471,
        "start_time": "2023-11-16T10:38:40.993Z"
      },
      {
        "duration": 948,
        "start_time": "2023-11-16T10:38:41.466Z"
      },
      {
        "duration": 117,
        "start_time": "2023-11-16T10:38:42.417Z"
      },
      {
        "duration": 45,
        "start_time": "2023-11-16T10:38:42.536Z"
      },
      {
        "duration": 195,
        "start_time": "2023-11-16T10:38:42.584Z"
      },
      {
        "duration": 336,
        "start_time": "2023-11-16T10:38:42.781Z"
      },
      {
        "duration": 136,
        "start_time": "2023-11-16T10:38:43.119Z"
      },
      {
        "duration": 113,
        "start_time": "2023-11-16T10:38:43.257Z"
      },
      {
        "duration": 412,
        "start_time": "2023-11-16T10:38:43.372Z"
      },
      {
        "duration": 209,
        "start_time": "2023-11-16T10:38:43.786Z"
      },
      {
        "duration": 67633,
        "start_time": "2023-11-16T10:38:43.997Z"
      },
      {
        "duration": 19744,
        "start_time": "2023-11-16T10:44:01.545Z"
      },
      {
        "duration": 120,
        "start_time": "2023-11-16T10:46:19.364Z"
      },
      {
        "duration": 4,
        "start_time": "2023-11-16T10:46:44.937Z"
      },
      {
        "duration": 10261,
        "start_time": "2023-11-16T10:48:35.124Z"
      },
      {
        "duration": 19,
        "start_time": "2023-11-16T10:50:26.427Z"
      },
      {
        "duration": 5592,
        "start_time": "2023-11-16T10:53:21.504Z"
      },
      {
        "duration": 1610,
        "start_time": "2023-11-16T17:34:54.719Z"
      },
      {
        "duration": 1088,
        "start_time": "2023-11-16T17:34:56.331Z"
      },
      {
        "duration": 17,
        "start_time": "2023-11-16T17:34:57.420Z"
      },
      {
        "duration": 164,
        "start_time": "2023-11-16T17:34:57.439Z"
      },
      {
        "duration": 5,
        "start_time": "2023-11-16T17:34:59.269Z"
      },
      {
        "duration": 14,
        "start_time": "2023-11-16T17:34:59.918Z"
      },
      {
        "duration": 141,
        "start_time": "2023-11-16T17:35:00.569Z"
      },
      {
        "duration": 187,
        "start_time": "2023-11-16T17:35:01.269Z"
      },
      {
        "duration": 131,
        "start_time": "2023-11-16T17:35:01.458Z"
      },
      {
        "duration": 465,
        "start_time": "2023-11-16T17:35:01.829Z"
      },
      {
        "duration": 963,
        "start_time": "2023-11-16T17:35:02.539Z"
      },
      {
        "duration": 95,
        "start_time": "2023-11-16T17:35:12.478Z"
      },
      {
        "duration": 37,
        "start_time": "2023-11-16T17:35:12.575Z"
      },
      {
        "duration": 193,
        "start_time": "2023-11-16T17:35:12.637Z"
      },
      {
        "duration": 316,
        "start_time": "2023-11-16T17:35:12.832Z"
      },
      {
        "duration": 111,
        "start_time": "2023-11-16T17:35:22.827Z"
      },
      {
        "duration": 103,
        "start_time": "2023-11-16T17:35:30.262Z"
      },
      {
        "duration": 140,
        "start_time": "2023-11-16T17:49:19.801Z"
      },
      {
        "duration": 1381,
        "start_time": "2023-11-16T17:51:55.360Z"
      },
      {
        "duration": 86,
        "start_time": "2023-11-16T17:52:27.514Z"
      },
      {
        "duration": 3877,
        "start_time": "2023-11-16T17:52:30.618Z"
      },
      {
        "duration": 307,
        "start_time": "2023-11-16T17:52:38.457Z"
      },
      {
        "duration": 871,
        "start_time": "2023-11-16T17:52:42.471Z"
      },
      {
        "duration": 19,
        "start_time": "2023-11-16T17:52:44.201Z"
      },
      {
        "duration": 149,
        "start_time": "2023-11-16T17:52:47.877Z"
      },
      {
        "duration": 5,
        "start_time": "2023-11-16T17:52:48.578Z"
      },
      {
        "duration": 16,
        "start_time": "2023-11-16T17:52:49.103Z"
      },
      {
        "duration": 133,
        "start_time": "2023-11-16T17:52:49.286Z"
      },
      {
        "duration": 191,
        "start_time": "2023-11-16T17:52:49.899Z"
      },
      {
        "duration": 123,
        "start_time": "2023-11-16T17:52:50.113Z"
      },
      {
        "duration": 446,
        "start_time": "2023-11-16T17:52:50.741Z"
      },
      {
        "duration": 971,
        "start_time": "2023-11-16T17:52:51.189Z"
      },
      {
        "duration": 102,
        "start_time": "2023-11-16T17:52:52.165Z"
      },
      {
        "duration": 37,
        "start_time": "2023-11-16T17:52:52.269Z"
      },
      {
        "duration": 216,
        "start_time": "2023-11-16T17:52:52.308Z"
      },
      {
        "duration": 331,
        "start_time": "2023-11-16T17:52:52.527Z"
      },
      {
        "duration": 118,
        "start_time": "2023-11-16T17:52:55.158Z"
      },
      {
        "duration": 106,
        "start_time": "2023-11-16T17:53:02.643Z"
      },
      {
        "duration": 6637,
        "start_time": "2023-11-16T17:53:05.906Z"
      },
      {
        "duration": 6509,
        "start_time": "2023-11-16T17:53:30.338Z"
      },
      {
        "duration": 6376,
        "start_time": "2023-11-16T17:54:48.365Z"
      },
      {
        "duration": 26,
        "start_time": "2023-11-16T17:57:44.598Z"
      },
      {
        "duration": 3227,
        "start_time": "2023-11-16T17:57:58.297Z"
      },
      {
        "duration": 75,
        "start_time": "2023-11-16T17:58:04.803Z"
      },
      {
        "duration": 22,
        "start_time": "2023-11-16T17:58:29.007Z"
      },
      {
        "duration": 233,
        "start_time": "2023-11-16T17:58:35.854Z"
      },
      {
        "duration": 21,
        "start_time": "2023-11-16T17:58:37.389Z"
      },
      {
        "duration": 11,
        "start_time": "2023-11-16T17:59:20.591Z"
      },
      {
        "duration": 5,
        "start_time": "2023-11-16T17:59:38.212Z"
      },
      {
        "duration": 1648,
        "start_time": "2023-11-16T17:59:46.869Z"
      },
      {
        "duration": 72857,
        "start_time": "2023-11-16T18:00:21.056Z"
      },
      {
        "duration": 27581,
        "start_time": "2023-11-16T18:01:33.915Z"
      },
      {
        "duration": 405,
        "start_time": "2023-11-16T18:03:55.971Z"
      },
      {
        "duration": 21975,
        "start_time": "2023-11-16T18:04:08.543Z"
      },
      {
        "duration": 195203,
        "start_time": "2023-11-16T18:05:04.387Z"
      },
      {
        "duration": 806,
        "start_time": "2023-11-16T18:08:19.592Z"
      },
      {
        "duration": 9971,
        "start_time": "2023-11-16T18:08:34.130Z"
      },
      {
        "duration": 18,
        "start_time": "2023-11-16T18:08:53.854Z"
      },
      {
        "duration": 5311,
        "start_time": "2023-11-16T18:09:03.075Z"
      },
      {
        "duration": 773,
        "start_time": "2023-11-16T18:10:26.693Z"
      },
      {
        "duration": 2512,
        "start_time": "2023-11-16T18:10:57.687Z"
      },
      {
        "duration": 2495,
        "start_time": "2023-11-16T18:11:00.201Z"
      },
      {
        "duration": 1459,
        "start_time": "2023-11-16T18:11:02.697Z"
      },
      {
        "duration": 841,
        "start_time": "2023-11-16T18:11:04.158Z"
      },
      {
        "duration": 18,
        "start_time": "2023-11-16T18:11:05.001Z"
      },
      {
        "duration": 150,
        "start_time": "2023-11-16T18:11:05.022Z"
      },
      {
        "duration": 5,
        "start_time": "2023-11-16T18:11:05.174Z"
      },
      {
        "duration": 43,
        "start_time": "2023-11-16T18:11:05.180Z"
      },
      {
        "duration": 152,
        "start_time": "2023-11-16T18:11:05.225Z"
      },
      {
        "duration": 190,
        "start_time": "2023-11-16T18:11:05.379Z"
      },
      {
        "duration": 131,
        "start_time": "2023-11-16T18:11:05.571Z"
      },
      {
        "duration": 523,
        "start_time": "2023-11-16T18:11:05.703Z"
      },
      {
        "duration": 986,
        "start_time": "2023-11-16T18:11:06.227Z"
      },
      {
        "duration": 103,
        "start_time": "2023-11-16T18:11:07.214Z"
      },
      {
        "duration": 46,
        "start_time": "2023-11-16T18:11:07.319Z"
      },
      {
        "duration": 184,
        "start_time": "2023-11-16T18:11:07.367Z"
      },
      {
        "duration": 338,
        "start_time": "2023-11-16T18:11:07.553Z"
      },
      {
        "duration": 126,
        "start_time": "2023-11-16T18:11:07.894Z"
      },
      {
        "duration": 105,
        "start_time": "2023-11-16T18:11:08.022Z"
      },
      {
        "duration": 6565,
        "start_time": "2023-11-16T18:11:08.130Z"
      },
      {
        "duration": 263,
        "start_time": "2023-11-16T18:11:14.697Z"
      },
      {
        "duration": 1305,
        "start_time": "2023-11-16T18:14:13.005Z"
      },
      {
        "duration": 1150,
        "start_time": "2023-11-16T18:14:47.850Z"
      },
      {
        "duration": 1216,
        "start_time": "2023-11-16T18:15:20.564Z"
      },
      {
        "duration": 2569,
        "start_time": "2023-11-16T18:16:00.399Z"
      },
      {
        "duration": 2660,
        "start_time": "2023-11-16T18:16:02.971Z"
      },
      {
        "duration": 2616,
        "start_time": "2023-11-16T18:16:05.634Z"
      },
      {
        "duration": 1645,
        "start_time": "2023-11-16T18:16:08.254Z"
      },
      {
        "duration": 896,
        "start_time": "2023-11-16T18:16:09.900Z"
      },
      {
        "duration": 18,
        "start_time": "2023-11-16T18:16:10.798Z"
      },
      {
        "duration": 151,
        "start_time": "2023-11-16T18:16:10.818Z"
      },
      {
        "duration": 7,
        "start_time": "2023-11-16T18:16:10.971Z"
      },
      {
        "duration": 25,
        "start_time": "2023-11-16T18:16:10.980Z"
      },
      {
        "duration": 171,
        "start_time": "2023-11-16T18:16:11.007Z"
      },
      {
        "duration": 218,
        "start_time": "2023-11-16T18:16:11.181Z"
      },
      {
        "duration": 144,
        "start_time": "2023-11-16T18:16:11.401Z"
      },
      {
        "duration": 458,
        "start_time": "2023-11-16T18:16:11.546Z"
      },
      {
        "duration": 1023,
        "start_time": "2023-11-16T18:16:12.006Z"
      },
      {
        "duration": 118,
        "start_time": "2023-11-16T18:16:13.031Z"
      },
      {
        "duration": 42,
        "start_time": "2023-11-16T18:16:13.151Z"
      },
      {
        "duration": 234,
        "start_time": "2023-11-16T18:16:13.194Z"
      },
      {
        "duration": 360,
        "start_time": "2023-11-16T18:16:13.430Z"
      },
      {
        "duration": 145,
        "start_time": "2023-11-16T18:16:13.792Z"
      },
      {
        "duration": 116,
        "start_time": "2023-11-16T18:16:13.938Z"
      },
      {
        "duration": 7071,
        "start_time": "2023-11-16T18:16:14.056Z"
      },
      {
        "duration": 274,
        "start_time": "2023-11-16T18:16:21.129Z"
      },
      {
        "duration": 1280,
        "start_time": "2023-11-16T18:16:29.346Z"
      },
      {
        "duration": 3,
        "start_time": "2023-11-16T18:16:59.375Z"
      },
      {
        "duration": 2285,
        "start_time": "2023-11-16T18:17:08.527Z"
      },
      {
        "duration": 86103,
        "start_time": "2023-11-16T18:17:20.483Z"
      },
      {
        "duration": 1200,
        "start_time": "2023-11-16T18:19:48.102Z"
      },
      {
        "duration": 2501,
        "start_time": "2023-11-16T18:19:57.660Z"
      },
      {
        "duration": 761,
        "start_time": "2023-11-16T18:20:00.163Z"
      },
      {
        "duration": 2351,
        "start_time": "2023-11-16T18:20:00.928Z"
      },
      {
        "duration": 3190,
        "start_time": "2023-11-16T18:20:03.282Z"
      },
      {
        "duration": 2547,
        "start_time": "2023-11-16T18:20:06.474Z"
      },
      {
        "duration": 2647,
        "start_time": "2023-11-16T18:20:09.023Z"
      },
      {
        "duration": 690,
        "start_time": "2023-11-16T18:20:11.672Z"
      },
      {
        "duration": 869,
        "start_time": "2023-11-16T18:20:12.364Z"
      },
      {
        "duration": 16,
        "start_time": "2023-11-16T18:20:13.234Z"
      },
      {
        "duration": 153,
        "start_time": "2023-11-16T18:20:13.252Z"
      },
      {
        "duration": 38,
        "start_time": "2023-11-16T18:20:13.406Z"
      },
      {
        "duration": 55,
        "start_time": "2023-11-16T18:20:13.446Z"
      },
      {
        "duration": 164,
        "start_time": "2023-11-16T18:20:13.504Z"
      },
      {
        "duration": 187,
        "start_time": "2023-11-16T18:20:13.670Z"
      },
      {
        "duration": 125,
        "start_time": "2023-11-16T18:20:13.859Z"
      },
      {
        "duration": 485,
        "start_time": "2023-11-16T18:20:13.985Z"
      },
      {
        "duration": 921,
        "start_time": "2023-11-16T18:20:14.471Z"
      },
      {
        "duration": 102,
        "start_time": "2023-11-16T18:20:15.394Z"
      },
      {
        "duration": 34,
        "start_time": "2023-11-16T18:20:15.498Z"
      },
      {
        "duration": 204,
        "start_time": "2023-11-16T18:20:15.534Z"
      },
      {
        "duration": 364,
        "start_time": "2023-11-16T18:20:15.740Z"
      },
      {
        "duration": 121,
        "start_time": "2023-11-16T18:20:16.106Z"
      },
      {
        "duration": 108,
        "start_time": "2023-11-16T18:20:16.228Z"
      },
      {
        "duration": 6597,
        "start_time": "2023-11-16T18:20:16.338Z"
      },
      {
        "duration": 184,
        "start_time": "2023-11-16T18:20:22.937Z"
      },
      {
        "duration": 2903,
        "start_time": "2023-11-16T18:20:23.123Z"
      },
      {
        "duration": 79855,
        "start_time": "2023-11-16T18:20:26.028Z"
      },
      {
        "duration": 28099,
        "start_time": "2023-11-16T18:21:45.885Z"
      },
      {
        "duration": 141,
        "start_time": "2023-11-16T18:22:13.985Z"
      },
      {
        "duration": 0,
        "start_time": "2023-11-16T18:22:14.127Z"
      },
      {
        "duration": 0,
        "start_time": "2023-11-16T18:22:14.129Z"
      },
      {
        "duration": 2542,
        "start_time": "2023-11-16T18:29:17.720Z"
      },
      {
        "duration": 806,
        "start_time": "2023-11-16T18:29:20.264Z"
      },
      {
        "duration": 2281,
        "start_time": "2023-11-16T18:29:21.072Z"
      },
      {
        "duration": 2917,
        "start_time": "2023-11-16T18:29:23.355Z"
      },
      {
        "duration": 2451,
        "start_time": "2023-11-16T18:29:26.276Z"
      },
      {
        "duration": 2480,
        "start_time": "2023-11-16T18:29:28.729Z"
      },
      {
        "duration": 653,
        "start_time": "2023-11-16T18:29:31.212Z"
      },
      {
        "duration": 846,
        "start_time": "2023-11-16T18:29:31.867Z"
      },
      {
        "duration": 17,
        "start_time": "2023-11-16T18:29:32.715Z"
      },
      {
        "duration": 142,
        "start_time": "2023-11-16T18:29:32.733Z"
      },
      {
        "duration": 5,
        "start_time": "2023-11-16T18:29:32.877Z"
      },
      {
        "duration": 13,
        "start_time": "2023-11-16T18:29:32.884Z"
      },
      {
        "duration": 144,
        "start_time": "2023-11-16T18:29:32.899Z"
      },
      {
        "duration": 176,
        "start_time": "2023-11-16T18:29:33.046Z"
      },
      {
        "duration": 123,
        "start_time": "2023-11-16T18:29:33.224Z"
      },
      {
        "duration": 445,
        "start_time": "2023-11-16T18:29:33.348Z"
      },
      {
        "duration": 887,
        "start_time": "2023-11-16T18:29:33.795Z"
      },
      {
        "duration": 102,
        "start_time": "2023-11-16T18:29:34.685Z"
      },
      {
        "duration": 38,
        "start_time": "2023-11-16T18:29:34.788Z"
      },
      {
        "duration": 176,
        "start_time": "2023-11-16T18:29:34.829Z"
      },
      {
        "duration": 317,
        "start_time": "2023-11-16T18:29:35.006Z"
      },
      {
        "duration": 127,
        "start_time": "2023-11-16T18:29:35.325Z"
      },
      {
        "duration": 111,
        "start_time": "2023-11-16T18:29:35.454Z"
      },
      {
        "duration": 6976,
        "start_time": "2023-11-16T18:29:35.567Z"
      },
      {
        "duration": 221,
        "start_time": "2023-11-16T18:29:42.545Z"
      },
      {
        "duration": 2275,
        "start_time": "2023-11-16T18:29:42.767Z"
      },
      {
        "duration": 353622,
        "start_time": "2023-11-16T18:29:45.044Z"
      },
      {
        "duration": 27397,
        "start_time": "2023-11-16T18:35:38.668Z"
      },
      {
        "duration": 141,
        "start_time": "2023-11-16T18:36:06.067Z"
      },
      {
        "duration": 0,
        "start_time": "2023-11-16T18:36:06.210Z"
      },
      {
        "duration": 0,
        "start_time": "2023-11-16T18:36:06.211Z"
      },
      {
        "duration": 16,
        "start_time": "2023-11-16T18:40:48.219Z"
      },
      {
        "duration": 325,
        "start_time": "2023-11-16T18:41:39.049Z"
      },
      {
        "duration": 2487,
        "start_time": "2023-11-16T18:41:44.902Z"
      },
      {
        "duration": 684,
        "start_time": "2023-11-16T18:41:47.391Z"
      },
      {
        "duration": 2233,
        "start_time": "2023-11-16T18:41:48.076Z"
      },
      {
        "duration": 2990,
        "start_time": "2023-11-16T18:41:50.312Z"
      },
      {
        "duration": 2495,
        "start_time": "2023-11-16T18:41:53.305Z"
      },
      {
        "duration": 2566,
        "start_time": "2023-11-16T18:41:55.802Z"
      },
      {
        "duration": 695,
        "start_time": "2023-11-16T18:41:58.370Z"
      },
      {
        "duration": 863,
        "start_time": "2023-11-16T18:41:59.067Z"
      },
      {
        "duration": 17,
        "start_time": "2023-11-16T18:41:59.932Z"
      },
      {
        "duration": 152,
        "start_time": "2023-11-16T18:41:59.950Z"
      },
      {
        "duration": 4,
        "start_time": "2023-11-16T18:42:00.104Z"
      },
      {
        "duration": 37,
        "start_time": "2023-11-16T18:42:00.110Z"
      },
      {
        "duration": 164,
        "start_time": "2023-11-16T18:42:00.149Z"
      },
      {
        "duration": 187,
        "start_time": "2023-11-16T18:42:00.316Z"
      },
      {
        "duration": 126,
        "start_time": "2023-11-16T18:42:00.505Z"
      },
      {
        "duration": 515,
        "start_time": "2023-11-16T18:42:00.632Z"
      },
      {
        "duration": 906,
        "start_time": "2023-11-16T18:42:01.149Z"
      },
      {
        "duration": 92,
        "start_time": "2023-11-16T18:42:02.057Z"
      },
      {
        "duration": 46,
        "start_time": "2023-11-16T18:42:02.150Z"
      },
      {
        "duration": 181,
        "start_time": "2023-11-16T18:42:02.198Z"
      },
      {
        "duration": 322,
        "start_time": "2023-11-16T18:42:02.381Z"
      },
      {
        "duration": 125,
        "start_time": "2023-11-16T18:42:02.705Z"
      },
      {
        "duration": 107,
        "start_time": "2023-11-16T18:42:02.832Z"
      },
      {
        "duration": 6822,
        "start_time": "2023-11-16T18:42:02.941Z"
      },
      {
        "duration": 202,
        "start_time": "2023-11-16T18:42:09.765Z"
      },
      {
        "duration": 140,
        "start_time": "2023-11-16T18:42:09.969Z"
      },
      {
        "duration": 0,
        "start_time": "2023-11-16T18:42:10.111Z"
      },
      {
        "duration": 0,
        "start_time": "2023-11-16T18:42:10.112Z"
      },
      {
        "duration": 0,
        "start_time": "2023-11-16T18:42:10.113Z"
      },
      {
        "duration": 0,
        "start_time": "2023-11-16T18:42:10.114Z"
      },
      {
        "duration": 0,
        "start_time": "2023-11-16T18:42:10.115Z"
      },
      {
        "duration": 377,
        "start_time": "2023-11-16T18:43:48.569Z"
      },
      {
        "duration": 70752,
        "start_time": "2023-11-16T18:43:50.714Z"
      },
      {
        "duration": 27718,
        "start_time": "2023-11-16T18:45:01.468Z"
      },
      {
        "duration": 26,
        "start_time": "2023-11-16T18:45:29.188Z"
      },
      {
        "duration": 0,
        "start_time": "2023-11-16T18:45:29.215Z"
      },
      {
        "duration": 0,
        "start_time": "2023-11-16T18:45:29.216Z"
      },
      {
        "duration": 28,
        "start_time": "2023-11-16T18:47:45.851Z"
      },
      {
        "duration": 177841,
        "start_time": "2023-11-16T18:47:57.436Z"
      },
      {
        "duration": 2404,
        "start_time": "2023-11-16T18:53:17.612Z"
      },
      {
        "duration": 661,
        "start_time": "2023-11-16T18:53:20.018Z"
      },
      {
        "duration": 2195,
        "start_time": "2023-11-16T18:53:20.680Z"
      },
      {
        "duration": 2882,
        "start_time": "2023-11-16T18:53:22.878Z"
      },
      {
        "duration": 2462,
        "start_time": "2023-11-16T18:53:25.763Z"
      },
      {
        "duration": 2500,
        "start_time": "2023-11-16T18:53:28.227Z"
      },
      {
        "duration": 648,
        "start_time": "2023-11-16T18:53:30.730Z"
      },
      {
        "duration": 854,
        "start_time": "2023-11-16T18:53:31.379Z"
      },
      {
        "duration": 15,
        "start_time": "2023-11-16T18:53:32.235Z"
      },
      {
        "duration": 145,
        "start_time": "2023-11-16T18:53:32.252Z"
      },
      {
        "duration": 34,
        "start_time": "2023-11-16T18:53:32.399Z"
      },
      {
        "duration": 21,
        "start_time": "2023-11-16T18:53:32.435Z"
      },
      {
        "duration": 139,
        "start_time": "2023-11-16T18:53:32.457Z"
      },
      {
        "duration": 191,
        "start_time": "2023-11-16T18:53:32.599Z"
      },
      {
        "duration": 130,
        "start_time": "2023-11-16T18:53:32.792Z"
      },
      {
        "duration": 461,
        "start_time": "2023-11-16T18:53:32.924Z"
      },
      {
        "duration": 884,
        "start_time": "2023-11-16T18:53:33.387Z"
      },
      {
        "duration": 107,
        "start_time": "2023-11-16T18:53:34.272Z"
      },
      {
        "duration": 33,
        "start_time": "2023-11-16T18:53:34.380Z"
      },
      {
        "duration": 189,
        "start_time": "2023-11-16T18:53:34.415Z"
      },
      {
        "duration": 342,
        "start_time": "2023-11-16T18:53:34.607Z"
      },
      {
        "duration": 123,
        "start_time": "2023-11-16T18:53:34.951Z"
      },
      {
        "duration": 115,
        "start_time": "2023-11-16T18:53:35.076Z"
      },
      {
        "duration": 6567,
        "start_time": "2023-11-16T18:53:35.192Z"
      },
      {
        "duration": 1243,
        "start_time": "2023-11-16T18:53:41.761Z"
      },
      {
        "duration": 111869,
        "start_time": "2023-11-16T18:53:43.006Z"
      },
      {
        "duration": 27925,
        "start_time": "2023-11-16T18:55:34.876Z"
      },
      {
        "duration": 163,
        "start_time": "2023-11-16T18:56:02.803Z"
      },
      {
        "duration": 0,
        "start_time": "2023-11-16T18:56:02.967Z"
      },
      {
        "duration": 0,
        "start_time": "2023-11-16T18:56:02.969Z"
      },
      {
        "duration": 22,
        "start_time": "2023-11-16T18:57:08.796Z"
      },
      {
        "duration": 22,
        "start_time": "2023-11-16T18:57:53.349Z"
      },
      {
        "duration": 21,
        "start_time": "2023-11-16T18:58:17.165Z"
      },
      {
        "duration": 25,
        "start_time": "2023-11-16T19:01:11.312Z"
      },
      {
        "duration": 12,
        "start_time": "2023-11-16T19:01:46.977Z"
      },
      {
        "duration": 4,
        "start_time": "2023-11-16T19:03:26.323Z"
      },
      {
        "duration": 184661,
        "start_time": "2023-11-16T19:03:31.814Z"
      },
      {
        "duration": 117650,
        "start_time": "2023-11-16T19:07:27.717Z"
      },
      {
        "duration": 23,
        "start_time": "2023-11-16T19:17:17.334Z"
      },
      {
        "duration": 23,
        "start_time": "2023-11-16T19:20:55.730Z"
      },
      {
        "duration": 25,
        "start_time": "2023-11-16T19:21:05.223Z"
      },
      {
        "duration": 2461,
        "start_time": "2023-11-16T19:25:14.529Z"
      },
      {
        "duration": 744,
        "start_time": "2023-11-16T19:25:16.993Z"
      },
      {
        "duration": 2215,
        "start_time": "2023-11-16T19:25:17.741Z"
      },
      {
        "duration": 2870,
        "start_time": "2023-11-16T19:25:19.959Z"
      },
      {
        "duration": 2485,
        "start_time": "2023-11-16T19:25:22.831Z"
      },
      {
        "duration": 2530,
        "start_time": "2023-11-16T19:25:25.318Z"
      },
      {
        "duration": 662,
        "start_time": "2023-11-16T19:25:27.850Z"
      },
      {
        "duration": 857,
        "start_time": "2023-11-16T19:25:28.513Z"
      },
      {
        "duration": 17,
        "start_time": "2023-11-16T19:25:29.372Z"
      },
      {
        "duration": 150,
        "start_time": "2023-11-16T19:25:29.391Z"
      },
      {
        "duration": 5,
        "start_time": "2023-11-16T19:25:29.543Z"
      },
      {
        "duration": 29,
        "start_time": "2023-11-16T19:25:29.551Z"
      },
      {
        "duration": 262,
        "start_time": "2023-11-16T19:25:29.583Z"
      },
      {
        "duration": 182,
        "start_time": "2023-11-16T19:25:29.847Z"
      },
      {
        "duration": 128,
        "start_time": "2023-11-16T19:25:30.030Z"
      },
      {
        "duration": 479,
        "start_time": "2023-11-16T19:25:30.166Z"
      },
      {
        "duration": 930,
        "start_time": "2023-11-16T19:25:30.646Z"
      },
      {
        "duration": 99,
        "start_time": "2023-11-16T19:25:31.578Z"
      },
      {
        "duration": 33,
        "start_time": "2023-11-16T19:25:31.679Z"
      },
      {
        "duration": 201,
        "start_time": "2023-11-16T19:25:31.713Z"
      },
      {
        "duration": 315,
        "start_time": "2023-11-16T19:25:31.916Z"
      },
      {
        "duration": 125,
        "start_time": "2023-11-16T19:25:32.232Z"
      },
      {
        "duration": 117,
        "start_time": "2023-11-16T19:25:32.358Z"
      },
      {
        "duration": 6542,
        "start_time": "2023-11-16T19:25:32.477Z"
      },
      {
        "duration": 1199,
        "start_time": "2023-11-16T19:25:39.021Z"
      },
      {
        "duration": 153971,
        "start_time": "2023-11-16T19:25:40.221Z"
      },
      {
        "duration": 28299,
        "start_time": "2023-11-16T19:28:14.194Z"
      },
      {
        "duration": 151,
        "start_time": "2023-11-16T19:28:42.494Z"
      },
      {
        "duration": 0,
        "start_time": "2023-11-16T19:28:42.647Z"
      },
      {
        "duration": 0,
        "start_time": "2023-11-16T19:28:42.648Z"
      },
      {
        "duration": 36503,
        "start_time": "2023-11-16T19:29:26.266Z"
      },
      {
        "duration": 39162,
        "start_time": "2023-11-16T19:30:54.909Z"
      },
      {
        "duration": 17,
        "start_time": "2023-11-16T19:31:55.125Z"
      },
      {
        "duration": 7301,
        "start_time": "2023-11-16T19:32:00.565Z"
      }
    ],
    "toc": {
      "base_numbering": 1,
      "nav_menu": {},
      "number_sections": true,
      "sideBar": true,
      "skip_h1_title": true,
      "title_cell": "Table of Contents",
      "title_sidebar": "Contents",
      "toc_cell": false,
      "toc_position": {},
      "toc_section_display": true,
      "toc_window_display": false
    },
    "kernelspec": {
      "name": "python",
      "display_name": "Python (Pyodide)",
      "language": "python"
    },
    "language_info": {
      "codemirror_mode": {
        "name": "python",
        "version": 3
      },
      "file_extension": ".py",
      "mimetype": "text/x-python",
      "name": "python",
      "nbconvert_exporter": "python",
      "pygments_lexer": "ipython3",
      "version": "3.8"
    }
  },
  "nbformat_minor": 4,
  "nbformat": 4,
  "cells": [
    {
      "cell_type": "markdown",
      "source": "# Определение стоимости автомобилей",
      "metadata": {}
    },
    {
      "cell_type": "markdown",
      "source": "Сервис по продаже автомобилей с пробегом «Не бит, не крашен» разрабатывает приложение, чтобы привлечь новых клиентов. В нём можно будет узнать рыночную стоимость своего автомобиля. \n\nПостроить модель, которая умеет её определять. В вашем распоряжении данные о технических характеристиках, комплектации и ценах других автомобилей.\n\nКритерии, которые важны заказчику:\n1. Качество предсказания;\n2. Время обучения модели;\n3. Время предсказания модели.",
      "metadata": {}
    },
    {
      "cell_type": "markdown",
      "source": "# Описание данных\n\nДанные находятся в файле **/datasets/autos.csv**",
      "metadata": {}
    },
    {
      "cell_type": "markdown",
      "source": "# Признаки\n\n**DateCrawled** — дата скачивания анкеты из базы\n\n**VehicleType** — тип автомобильного кузова\n\n**RegistrationYear** — год регистрации автомобиля\n\n**Gearbox** — тип коробки передач\n\n**Power** — мощность (л. с.)\n\n**Model** — модель автомобиля\n\n**Kilometer** — пробег (км)\n\n**RegistrationMonth** — месяц регистрации автомобиля\n\n**FuelType** — тип топлива\n\n**Brand** — марка автомобиля\n\n**Repaired** — была машина в ремонте или нет\n\n**DateCreated** — дата создания анкеты\n\n**NumberOfPictures** — количество фотографий автомобиля\n\n**PostalCode** — почтовый индекс владельца анкеты (пользователя)\n\n**LastSeen** — дата последней активности пользователя\n\n# Целевой признак\n\n**Price** — цена (евро)",
      "metadata": {}
    },
    {
      "cell_type": "markdown",
      "source": "# Загрузка библиотек",
      "metadata": {}
    },
    {
      "cell_type": "code",
      "source": "pip install scikit-learn",
      "metadata": {},
      "execution_count": 1,
      "outputs": [
        {
          "name": "stdout",
          "output_type": "stream",
          "text": "Requirement already satisfied: scikit-learn in /opt/conda/lib/python3.9/site-packages (1.3.2)\n\nRequirement already satisfied: threadpoolctl>=2.0.0 in /opt/conda/lib/python3.9/site-packages (from scikit-learn) (3.1.0)\n\nRequirement already satisfied: scipy>=1.5.0 in /opt/conda/lib/python3.9/site-packages (from scikit-learn) (1.9.1)\n\nRequirement already satisfied: joblib>=1.1.1 in /opt/conda/lib/python3.9/site-packages (from scikit-learn) (1.3.2)\n\nRequirement already satisfied: numpy<2.0,>=1.17.3 in /opt/conda/lib/python3.9/site-packages (from scikit-learn) (1.21.1)\n\nNote: you may need to restart the kernel to use updated packages.\n"
        }
      ]
    },
    {
      "cell_type": "code",
      "source": "from sklearn.preprocessing import OneHotEncoder",
      "metadata": {},
      "execution_count": 2,
      "outputs": []
    },
    {
      "cell_type": "code",
      "source": "pip show scikit-learn",
      "metadata": {},
      "execution_count": 3,
      "outputs": [
        {
          "name": "stdout",
          "output_type": "stream",
          "text": "Name: scikit-learn\n\nVersion: 1.3.2\n\nSummary: A set of python modules for machine learning and data mining\n\nHome-page: http://scikit-learn.org\n\nAuthor: None\n\nAuthor-email: None\n\nLicense: new BSD\n\nLocation: /opt/conda/lib/python3.9/site-packages\n\nRequires: joblib, numpy, scipy, threadpoolctl\n\nRequired-by: pyod, lightgbm, category-encoders\n\nNote: you may need to restart the kernel to use updated packages.\n"
        }
      ]
    },
    {
      "cell_type": "code",
      "source": "pip install --upgrade scikit-learn",
      "metadata": {},
      "execution_count": 4,
      "outputs": [
        {
          "name": "stdout",
          "output_type": "stream",
          "text": "Requirement already satisfied: scikit-learn in /opt/conda/lib/python3.9/site-packages (1.3.2)\n\nRequirement already satisfied: scipy>=1.5.0 in /opt/conda/lib/python3.9/site-packages (from scikit-learn) (1.9.1)\n\nRequirement already satisfied: joblib>=1.1.1 in /opt/conda/lib/python3.9/site-packages (from scikit-learn) (1.3.2)\n\nRequirement already satisfied: numpy<2.0,>=1.17.3 in /opt/conda/lib/python3.9/site-packages (from scikit-learn) (1.21.1)\n\nRequirement already satisfied: threadpoolctl>=2.0.0 in /opt/conda/lib/python3.9/site-packages (from scikit-learn) (3.1.0)\n\nNote: you may need to restart the kernel to use updated packages.\n"
        }
      ]
    },
    {
      "cell_type": "code",
      "source": "pip install phik",
      "metadata": {},
      "execution_count": 5,
      "outputs": [
        {
          "name": "stdout",
          "output_type": "stream",
          "text": "Requirement already satisfied: phik in /opt/conda/lib/python3.9/site-packages (0.12.3)\n\nRequirement already satisfied: joblib>=0.14.1 in /opt/conda/lib/python3.9/site-packages (from phik) (1.3.2)\n\nRequirement already satisfied: pandas>=0.25.1 in /opt/conda/lib/python3.9/site-packages (from phik) (1.2.4)\n\nRequirement already satisfied: numpy>=1.18.0 in /opt/conda/lib/python3.9/site-packages (from phik) (1.21.1)\n\nRequirement already satisfied: scipy>=1.5.2 in /opt/conda/lib/python3.9/site-packages (from phik) (1.9.1)\n\nRequirement already satisfied: matplotlib>=2.2.3 in /opt/conda/lib/python3.9/site-packages (from phik) (3.3.4)\n\nRequirement already satisfied: cycler>=0.10 in /opt/conda/lib/python3.9/site-packages (from matplotlib>=2.2.3->phik) (0.11.0)\n\nRequirement already satisfied: pyparsing!=2.0.4,!=2.1.2,!=2.1.6,>=2.0.3 in /opt/conda/lib/python3.9/site-packages (from matplotlib>=2.2.3->phik) (2.4.7)\n\nRequirement already satisfied: kiwisolver>=1.0.1 in /opt/conda/lib/python3.9/site-packages (from matplotlib>=2.2.3->phik) (1.4.4)\n\nRequirement already satisfied: python-dateutil>=2.1 in /opt/conda/lib/python3.9/site-packages (from matplotlib>=2.2.3->phik) (2.8.1)\n\nRequirement already satisfied: pillow>=6.2.0 in /opt/conda/lib/python3.9/site-packages (from matplotlib>=2.2.3->phik) (8.4.0)\n\nRequirement already satisfied: pytz>=2017.3 in /opt/conda/lib/python3.9/site-packages (from pandas>=0.25.1->phik) (2021.1)\n\nRequirement already satisfied: six>=1.5 in /opt/conda/lib/python3.9/site-packages (from python-dateutil>=2.1->matplotlib>=2.2.3->phik) (1.16.0)\n\nNote: you may need to restart the kernel to use updated packages.\n"
        }
      ]
    },
    {
      "cell_type": "code",
      "source": "pip install category_encoders",
      "metadata": {},
      "execution_count": 6,
      "outputs": [
        {
          "name": "stdout",
          "output_type": "stream",
          "text": "Requirement already satisfied: category_encoders in /opt/conda/lib/python3.9/site-packages (2.6.3)\n\nRequirement already satisfied: statsmodels>=0.9.0 in /opt/conda/lib/python3.9/site-packages (from category_encoders) (0.13.2)\n\nRequirement already satisfied: numpy>=1.14.0 in /opt/conda/lib/python3.9/site-packages (from category_encoders) (1.21.1)\n\nRequirement already satisfied: pandas>=1.0.5 in /opt/conda/lib/python3.9/site-packages (from category_encoders) (1.2.4)\n\nRequirement already satisfied: scipy>=1.0.0 in /opt/conda/lib/python3.9/site-packages (from category_encoders) (1.9.1)\n\nRequirement already satisfied: patsy>=0.5.1 in /opt/conda/lib/python3.9/site-packages (from category_encoders) (0.5.2)\n\nRequirement already satisfied: scikit-learn>=0.20.0 in /opt/conda/lib/python3.9/site-packages (from category_encoders) (1.3.2)\n\nRequirement already satisfied: python-dateutil>=2.7.3 in /opt/conda/lib/python3.9/site-packages (from pandas>=1.0.5->category_encoders) (2.8.1)\n\nRequirement already satisfied: pytz>=2017.3 in /opt/conda/lib/python3.9/site-packages (from pandas>=1.0.5->category_encoders) (2021.1)\n\nRequirement already satisfied: six in /opt/conda/lib/python3.9/site-packages (from patsy>=0.5.1->category_encoders) (1.16.0)\n\nRequirement already satisfied: joblib>=1.1.1 in /opt/conda/lib/python3.9/site-packages (from scikit-learn>=0.20.0->category_encoders) (1.3.2)\n\nRequirement already satisfied: threadpoolctl>=2.0.0 in /opt/conda/lib/python3.9/site-packages (from scikit-learn>=0.20.0->category_encoders) (3.1.0)\n\nRequirement already satisfied: packaging>=21.3 in /opt/conda/lib/python3.9/site-packages (from statsmodels>=0.9.0->category_encoders) (21.3)\n\nRequirement already satisfied: pyparsing!=3.0.5,>=2.0.2 in /opt/conda/lib/python3.9/site-packages (from packaging>=21.3->statsmodels>=0.9.0->category_encoders) (2.4.7)\n\nNote: you may need to restart the kernel to use updated packages.\n"
        }
      ]
    },
    {
      "cell_type": "code",
      "source": "import warnings\nimport pandas as pd\nimport numpy as np\nimport seaborn as sns\nimport time\nimport phik\nimport category_encoders as ce\n\nfrom sklearn.linear_model import Ridge\nfrom category_encoders.target_encoder import TargetEncoder\nfrom sklearn.model_selection import ParameterGrid\nfrom sklearn.pipeline import Pipeline\nfrom sklearn.model_selection import cross_val_score\nfrom sklearn.preprocessing import OrdinalEncoder\nfrom catboost import CatBoostRegressor, Pool\nfrom sklearn.preprocessing import OneHotEncoder\nfrom sklearn.compose import ColumnTransformer\nfrom sklearn.model_selection import train_test_split\nfrom sklearn.metrics import mean_squared_error, make_scorer\nfrom sklearn.linear_model import LinearRegression\nfrom sklearn.model_selection import GridSearchCV\nimport lightgbm as lgb\n\nimport matplotlib.pyplot as plt",
      "metadata": {},
      "execution_count": 7,
      "outputs": []
    },
    {
      "cell_type": "markdown",
      "source": "## Подготовка данных",
      "metadata": {}
    },
    {
      "cell_type": "code",
      "source": "data = pd.read_csv('/datasets/autos.csv')",
      "metadata": {},
      "execution_count": 8,
      "outputs": []
    },
    {
      "cell_type": "code",
      "source": "data.head()",
      "metadata": {},
      "execution_count": 9,
      "outputs": [
        {
          "execution_count": 9,
          "output_type": "execute_result",
          "data": {
            "text/html": [
              "<div>\n",
              "<style scoped>\n",
              "    .dataframe tbody tr th:only-of-type {\n",
              "        vertical-align: middle;\n",
              "    }\n",
              "\n",
              "    .dataframe tbody tr th {\n",
              "        vertical-align: top;\n",
              "    }\n",
              "\n",
              "    .dataframe thead th {\n",
              "        text-align: right;\n",
              "    }\n",
              "</style>\n",
              "<table border=\"1\" class=\"dataframe\">\n",
              "  <thead>\n",
              "    <tr style=\"text-align: right;\">\n",
              "      <th></th>\n",
              "      <th>DateCrawled</th>\n",
              "      <th>Price</th>\n",
              "      <th>VehicleType</th>\n",
              "      <th>RegistrationYear</th>\n",
              "      <th>Gearbox</th>\n",
              "      <th>Power</th>\n",
              "      <th>Model</th>\n",
              "      <th>Kilometer</th>\n",
              "      <th>RegistrationMonth</th>\n",
              "      <th>FuelType</th>\n",
              "      <th>Brand</th>\n",
              "      <th>Repaired</th>\n",
              "      <th>DateCreated</th>\n",
              "      <th>NumberOfPictures</th>\n",
              "      <th>PostalCode</th>\n",
              "      <th>LastSeen</th>\n",
              "    </tr>\n",
              "  </thead>\n",
              "  <tbody>\n",
              "    <tr>\n",
              "      <th>0</th>\n",
              "      <td>2016-03-24 11:52:17</td>\n",
              "      <td>480</td>\n",
              "      <td>NaN</td>\n",
              "      <td>1993</td>\n",
              "      <td>manual</td>\n",
              "      <td>0</td>\n",
              "      <td>golf</td>\n",
              "      <td>150000</td>\n",
              "      <td>0</td>\n",
              "      <td>petrol</td>\n",
              "      <td>volkswagen</td>\n",
              "      <td>NaN</td>\n",
              "      <td>2016-03-24 00:00:00</td>\n",
              "      <td>0</td>\n",
              "      <td>70435</td>\n",
              "      <td>2016-04-07 03:16:57</td>\n",
              "    </tr>\n",
              "    <tr>\n",
              "      <th>1</th>\n",
              "      <td>2016-03-24 10:58:45</td>\n",
              "      <td>18300</td>\n",
              "      <td>coupe</td>\n",
              "      <td>2011</td>\n",
              "      <td>manual</td>\n",
              "      <td>190</td>\n",
              "      <td>NaN</td>\n",
              "      <td>125000</td>\n",
              "      <td>5</td>\n",
              "      <td>gasoline</td>\n",
              "      <td>audi</td>\n",
              "      <td>yes</td>\n",
              "      <td>2016-03-24 00:00:00</td>\n",
              "      <td>0</td>\n",
              "      <td>66954</td>\n",
              "      <td>2016-04-07 01:46:50</td>\n",
              "    </tr>\n",
              "    <tr>\n",
              "      <th>2</th>\n",
              "      <td>2016-03-14 12:52:21</td>\n",
              "      <td>9800</td>\n",
              "      <td>suv</td>\n",
              "      <td>2004</td>\n",
              "      <td>auto</td>\n",
              "      <td>163</td>\n",
              "      <td>grand</td>\n",
              "      <td>125000</td>\n",
              "      <td>8</td>\n",
              "      <td>gasoline</td>\n",
              "      <td>jeep</td>\n",
              "      <td>NaN</td>\n",
              "      <td>2016-03-14 00:00:00</td>\n",
              "      <td>0</td>\n",
              "      <td>90480</td>\n",
              "      <td>2016-04-05 12:47:46</td>\n",
              "    </tr>\n",
              "    <tr>\n",
              "      <th>3</th>\n",
              "      <td>2016-03-17 16:54:04</td>\n",
              "      <td>1500</td>\n",
              "      <td>small</td>\n",
              "      <td>2001</td>\n",
              "      <td>manual</td>\n",
              "      <td>75</td>\n",
              "      <td>golf</td>\n",
              "      <td>150000</td>\n",
              "      <td>6</td>\n",
              "      <td>petrol</td>\n",
              "      <td>volkswagen</td>\n",
              "      <td>no</td>\n",
              "      <td>2016-03-17 00:00:00</td>\n",
              "      <td>0</td>\n",
              "      <td>91074</td>\n",
              "      <td>2016-03-17 17:40:17</td>\n",
              "    </tr>\n",
              "    <tr>\n",
              "      <th>4</th>\n",
              "      <td>2016-03-31 17:25:20</td>\n",
              "      <td>3600</td>\n",
              "      <td>small</td>\n",
              "      <td>2008</td>\n",
              "      <td>manual</td>\n",
              "      <td>69</td>\n",
              "      <td>fabia</td>\n",
              "      <td>90000</td>\n",
              "      <td>7</td>\n",
              "      <td>gasoline</td>\n",
              "      <td>skoda</td>\n",
              "      <td>no</td>\n",
              "      <td>2016-03-31 00:00:00</td>\n",
              "      <td>0</td>\n",
              "      <td>60437</td>\n",
              "      <td>2016-04-06 10:17:21</td>\n",
              "    </tr>\n",
              "  </tbody>\n",
              "</table>\n",
              "</div>"
            ],
            "text/plain": [
              "           DateCrawled  Price VehicleType  RegistrationYear Gearbox  Power  \\\n",
              "0  2016-03-24 11:52:17    480         NaN              1993  manual      0   \n",
              "1  2016-03-24 10:58:45  18300       coupe              2011  manual    190   \n",
              "2  2016-03-14 12:52:21   9800         suv              2004    auto    163   \n",
              "3  2016-03-17 16:54:04   1500       small              2001  manual     75   \n",
              "4  2016-03-31 17:25:20   3600       small              2008  manual     69   \n",
              "\n",
              "   Model  Kilometer  RegistrationMonth  FuelType       Brand Repaired  \\\n",
              "0   golf     150000                  0    petrol  volkswagen      NaN   \n",
              "1    NaN     125000                  5  gasoline        audi      yes   \n",
              "2  grand     125000                  8  gasoline        jeep      NaN   \n",
              "3   golf     150000                  6    petrol  volkswagen       no   \n",
              "4  fabia      90000                  7  gasoline       skoda       no   \n",
              "\n",
              "           DateCreated  NumberOfPictures  PostalCode             LastSeen  \n",
              "0  2016-03-24 00:00:00                 0       70435  2016-04-07 03:16:57  \n",
              "1  2016-03-24 00:00:00                 0       66954  2016-04-07 01:46:50  \n",
              "2  2016-03-14 00:00:00                 0       90480  2016-04-05 12:47:46  \n",
              "3  2016-03-17 00:00:00                 0       91074  2016-03-17 17:40:17  \n",
              "4  2016-03-31 00:00:00                 0       60437  2016-04-06 10:17:21  "
            ]
          },
          "metadata": {}
        }
      ]
    },
    {
      "cell_type": "code",
      "source": "data.info()",
      "metadata": {},
      "execution_count": 10,
      "outputs": [
        {
          "name": "stdout",
          "output_type": "stream",
          "text": "<class 'pandas.core.frame.DataFrame'>\n\nRangeIndex: 354369 entries, 0 to 354368\n\nData columns (total 16 columns):\n\n #   Column             Non-Null Count   Dtype \n\n---  ------             --------------   ----- \n\n 0   DateCrawled        354369 non-null  object\n\n 1   Price              354369 non-null  int64 \n\n 2   VehicleType        316879 non-null  object\n\n 3   RegistrationYear   354369 non-null  int64 \n\n 4   Gearbox            334536 non-null  object\n\n 5   Power              354369 non-null  int64 \n\n 6   Model              334664 non-null  object\n\n 7   Kilometer          354369 non-null  int64 \n\n 8   RegistrationMonth  354369 non-null  int64 \n\n 9   FuelType           321474 non-null  object\n\n 10  Brand              354369 non-null  object\n\n 11  Repaired           283215 non-null  object\n\n 12  DateCreated        354369 non-null  object\n\n 13  NumberOfPictures   354369 non-null  int64 \n\n 14  PostalCode         354369 non-null  int64 \n\n 15  LastSeen           354369 non-null  object\n\ndtypes: int64(7), object(9)\n\nmemory usage: 43.3+ MB\n"
        }
      ]
    },
    {
      "cell_type": "code",
      "source": "warnings.filterwarnings(\"ignore\", category=FutureWarning)\n\n# Приведем столбцы к нижнему регистру.\ndata.columns = data.columns.str.replace(r\"([A-Z])\", r\" \\1\").str.lower().str.replace(' ', '_').str[1:]",
      "metadata": {},
      "execution_count": 11,
      "outputs": []
    },
    {
      "cell_type": "code",
      "source": "data.head()",
      "metadata": {},
      "execution_count": 12,
      "outputs": [
        {
          "execution_count": 12,
          "output_type": "execute_result",
          "data": {
            "text/html": [
              "<div>\n",
              "<style scoped>\n",
              "    .dataframe tbody tr th:only-of-type {\n",
              "        vertical-align: middle;\n",
              "    }\n",
              "\n",
              "    .dataframe tbody tr th {\n",
              "        vertical-align: top;\n",
              "    }\n",
              "\n",
              "    .dataframe thead th {\n",
              "        text-align: right;\n",
              "    }\n",
              "</style>\n",
              "<table border=\"1\" class=\"dataframe\">\n",
              "  <thead>\n",
              "    <tr style=\"text-align: right;\">\n",
              "      <th></th>\n",
              "      <th>date_crawled</th>\n",
              "      <th>price</th>\n",
              "      <th>vehicle_type</th>\n",
              "      <th>registration_year</th>\n",
              "      <th>gearbox</th>\n",
              "      <th>power</th>\n",
              "      <th>model</th>\n",
              "      <th>kilometer</th>\n",
              "      <th>registration_month</th>\n",
              "      <th>fuel_type</th>\n",
              "      <th>brand</th>\n",
              "      <th>repaired</th>\n",
              "      <th>date_created</th>\n",
              "      <th>number_of_pictures</th>\n",
              "      <th>postal_code</th>\n",
              "      <th>last_seen</th>\n",
              "    </tr>\n",
              "  </thead>\n",
              "  <tbody>\n",
              "    <tr>\n",
              "      <th>0</th>\n",
              "      <td>2016-03-24 11:52:17</td>\n",
              "      <td>480</td>\n",
              "      <td>NaN</td>\n",
              "      <td>1993</td>\n",
              "      <td>manual</td>\n",
              "      <td>0</td>\n",
              "      <td>golf</td>\n",
              "      <td>150000</td>\n",
              "      <td>0</td>\n",
              "      <td>petrol</td>\n",
              "      <td>volkswagen</td>\n",
              "      <td>NaN</td>\n",
              "      <td>2016-03-24 00:00:00</td>\n",
              "      <td>0</td>\n",
              "      <td>70435</td>\n",
              "      <td>2016-04-07 03:16:57</td>\n",
              "    </tr>\n",
              "    <tr>\n",
              "      <th>1</th>\n",
              "      <td>2016-03-24 10:58:45</td>\n",
              "      <td>18300</td>\n",
              "      <td>coupe</td>\n",
              "      <td>2011</td>\n",
              "      <td>manual</td>\n",
              "      <td>190</td>\n",
              "      <td>NaN</td>\n",
              "      <td>125000</td>\n",
              "      <td>5</td>\n",
              "      <td>gasoline</td>\n",
              "      <td>audi</td>\n",
              "      <td>yes</td>\n",
              "      <td>2016-03-24 00:00:00</td>\n",
              "      <td>0</td>\n",
              "      <td>66954</td>\n",
              "      <td>2016-04-07 01:46:50</td>\n",
              "    </tr>\n",
              "    <tr>\n",
              "      <th>2</th>\n",
              "      <td>2016-03-14 12:52:21</td>\n",
              "      <td>9800</td>\n",
              "      <td>suv</td>\n",
              "      <td>2004</td>\n",
              "      <td>auto</td>\n",
              "      <td>163</td>\n",
              "      <td>grand</td>\n",
              "      <td>125000</td>\n",
              "      <td>8</td>\n",
              "      <td>gasoline</td>\n",
              "      <td>jeep</td>\n",
              "      <td>NaN</td>\n",
              "      <td>2016-03-14 00:00:00</td>\n",
              "      <td>0</td>\n",
              "      <td>90480</td>\n",
              "      <td>2016-04-05 12:47:46</td>\n",
              "    </tr>\n",
              "    <tr>\n",
              "      <th>3</th>\n",
              "      <td>2016-03-17 16:54:04</td>\n",
              "      <td>1500</td>\n",
              "      <td>small</td>\n",
              "      <td>2001</td>\n",
              "      <td>manual</td>\n",
              "      <td>75</td>\n",
              "      <td>golf</td>\n",
              "      <td>150000</td>\n",
              "      <td>6</td>\n",
              "      <td>petrol</td>\n",
              "      <td>volkswagen</td>\n",
              "      <td>no</td>\n",
              "      <td>2016-03-17 00:00:00</td>\n",
              "      <td>0</td>\n",
              "      <td>91074</td>\n",
              "      <td>2016-03-17 17:40:17</td>\n",
              "    </tr>\n",
              "    <tr>\n",
              "      <th>4</th>\n",
              "      <td>2016-03-31 17:25:20</td>\n",
              "      <td>3600</td>\n",
              "      <td>small</td>\n",
              "      <td>2008</td>\n",
              "      <td>manual</td>\n",
              "      <td>69</td>\n",
              "      <td>fabia</td>\n",
              "      <td>90000</td>\n",
              "      <td>7</td>\n",
              "      <td>gasoline</td>\n",
              "      <td>skoda</td>\n",
              "      <td>no</td>\n",
              "      <td>2016-03-31 00:00:00</td>\n",
              "      <td>0</td>\n",
              "      <td>60437</td>\n",
              "      <td>2016-04-06 10:17:21</td>\n",
              "    </tr>\n",
              "  </tbody>\n",
              "</table>\n",
              "</div>"
            ],
            "text/plain": [
              "          date_crawled  price vehicle_type  registration_year gearbox  power  \\\n",
              "0  2016-03-24 11:52:17    480          NaN               1993  manual      0   \n",
              "1  2016-03-24 10:58:45  18300        coupe               2011  manual    190   \n",
              "2  2016-03-14 12:52:21   9800          suv               2004    auto    163   \n",
              "3  2016-03-17 16:54:04   1500        small               2001  manual     75   \n",
              "4  2016-03-31 17:25:20   3600        small               2008  manual     69   \n",
              "\n",
              "   model  kilometer  registration_month fuel_type       brand repaired  \\\n",
              "0   golf     150000                   0    petrol  volkswagen      NaN   \n",
              "1    NaN     125000                   5  gasoline        audi      yes   \n",
              "2  grand     125000                   8  gasoline        jeep      NaN   \n",
              "3   golf     150000                   6    petrol  volkswagen       no   \n",
              "4  fabia      90000                   7  gasoline       skoda       no   \n",
              "\n",
              "          date_created  number_of_pictures  postal_code            last_seen  \n",
              "0  2016-03-24 00:00:00                   0        70435  2016-04-07 03:16:57  \n",
              "1  2016-03-24 00:00:00                   0        66954  2016-04-07 01:46:50  \n",
              "2  2016-03-14 00:00:00                   0        90480  2016-04-05 12:47:46  \n",
              "3  2016-03-17 00:00:00                   0        91074  2016-03-17 17:40:17  \n",
              "4  2016-03-31 00:00:00                   0        60437  2016-04-06 10:17:21  "
            ]
          },
          "metadata": {}
        }
      ]
    },
    {
      "cell_type": "code",
      "source": "missing_percentages = ((data.isna().sum() / len(data)) * 100).apply(lambda x: f\"{x:.2f}%\")\n\nprint(missing_percentages)",
      "metadata": {},
      "execution_count": 13,
      "outputs": [
        {
          "name": "stdout",
          "output_type": "stream",
          "text": "date_crawled           0.00%\n\nprice                  0.00%\n\nvehicle_type          10.58%\n\nregistration_year      0.00%\n\ngearbox                5.60%\n\npower                  0.00%\n\nmodel                  5.56%\n\nkilometer              0.00%\n\nregistration_month     0.00%\n\nfuel_type              9.28%\n\nbrand                  0.00%\n\nrepaired              20.08%\n\ndate_created           0.00%\n\nnumber_of_pictures     0.00%\n\npostal_code            0.00%\n\nlast_seen              0.00%\n\ndtype: object\n"
        }
      ]
    },
    {
      "cell_type": "markdown",
      "source": "Заменим пропущенные значения в столбцах на наиболее популярное значение.",
      "metadata": {}
    },
    {
      "cell_type": "code",
      "source": "# Список столбцов\ncolumns_to_fill = [\"vehicle_type\", \"gearbox\", \"model\", \"fuel_type\", \"repaired\"]\n\nfor column in columns_to_fill:\n    mode_value = data[column].mode().values[0]  # Находим моду столбца\n    data[column] = data[column].fillna(mode_value)  # Заменяем пропущенные значения модой",
      "metadata": {},
      "execution_count": 14,
      "outputs": []
    },
    {
      "cell_type": "code",
      "source": "# Проверка\nprint(data.isna().sum())",
      "metadata": {},
      "execution_count": 15,
      "outputs": [
        {
          "name": "stdout",
          "output_type": "stream",
          "text": "date_crawled          0\n\nprice                 0\n\nvehicle_type          0\n\nregistration_year     0\n\ngearbox               0\n\npower                 0\n\nmodel                 0\n\nkilometer             0\n\nregistration_month    0\n\nfuel_type             0\n\nbrand                 0\n\nrepaired              0\n\ndate_created          0\n\nnumber_of_pictures    0\n\npostal_code           0\n\nlast_seen             0\n\ndtype: int64\n"
        }
      ]
    },
    {
      "cell_type": "code",
      "source": "# Проверим на дубликаты\nprint('Количество дубликатов:', data.duplicated().sum())",
      "metadata": {},
      "execution_count": 16,
      "outputs": [
        {
          "name": "stdout",
          "output_type": "stream",
          "text": "Количество дубликатов: 5\n"
        }
      ]
    },
    {
      "cell_type": "code",
      "source": "# Удаляем дубликаты\ndata.drop_duplicates(inplace=True)\n\nprint('Количество дубликатов:', data.duplicated().sum())",
      "metadata": {},
      "execution_count": 17,
      "outputs": [
        {
          "name": "stdout",
          "output_type": "stream",
          "text": "Количество дубликатов: 0\n"
        }
      ]
    },
    {
      "cell_type": "code",
      "source": "data.describe()",
      "metadata": {},
      "execution_count": 18,
      "outputs": [
        {
          "execution_count": 18,
          "output_type": "execute_result",
          "data": {
            "text/html": [
              "<div>\n",
              "<style scoped>\n",
              "    .dataframe tbody tr th:only-of-type {\n",
              "        vertical-align: middle;\n",
              "    }\n",
              "\n",
              "    .dataframe tbody tr th {\n",
              "        vertical-align: top;\n",
              "    }\n",
              "\n",
              "    .dataframe thead th {\n",
              "        text-align: right;\n",
              "    }\n",
              "</style>\n",
              "<table border=\"1\" class=\"dataframe\">\n",
              "  <thead>\n",
              "    <tr style=\"text-align: right;\">\n",
              "      <th></th>\n",
              "      <th>price</th>\n",
              "      <th>registration_year</th>\n",
              "      <th>power</th>\n",
              "      <th>kilometer</th>\n",
              "      <th>registration_month</th>\n",
              "      <th>number_of_pictures</th>\n",
              "      <th>postal_code</th>\n",
              "    </tr>\n",
              "  </thead>\n",
              "  <tbody>\n",
              "    <tr>\n",
              "      <th>count</th>\n",
              "      <td>354364.000000</td>\n",
              "      <td>354364.000000</td>\n",
              "      <td>354364.000000</td>\n",
              "      <td>354364.000000</td>\n",
              "      <td>354364.000000</td>\n",
              "      <td>354364.0</td>\n",
              "      <td>354364.000000</td>\n",
              "    </tr>\n",
              "    <tr>\n",
              "      <th>mean</th>\n",
              "      <td>4416.655608</td>\n",
              "      <td>2004.234471</td>\n",
              "      <td>110.093723</td>\n",
              "      <td>128211.373051</td>\n",
              "      <td>5.714641</td>\n",
              "      <td>0.0</td>\n",
              "      <td>50508.461698</td>\n",
              "    </tr>\n",
              "    <tr>\n",
              "      <th>std</th>\n",
              "      <td>4514.159690</td>\n",
              "      <td>90.228593</td>\n",
              "      <td>189.851590</td>\n",
              "      <td>37905.136957</td>\n",
              "      <td>3.726433</td>\n",
              "      <td>0.0</td>\n",
              "      <td>25783.124276</td>\n",
              "    </tr>\n",
              "    <tr>\n",
              "      <th>min</th>\n",
              "      <td>0.000000</td>\n",
              "      <td>1000.000000</td>\n",
              "      <td>0.000000</td>\n",
              "      <td>5000.000000</td>\n",
              "      <td>0.000000</td>\n",
              "      <td>0.0</td>\n",
              "      <td>1067.000000</td>\n",
              "    </tr>\n",
              "    <tr>\n",
              "      <th>25%</th>\n",
              "      <td>1050.000000</td>\n",
              "      <td>1999.000000</td>\n",
              "      <td>69.000000</td>\n",
              "      <td>125000.000000</td>\n",
              "      <td>3.000000</td>\n",
              "      <td>0.0</td>\n",
              "      <td>30165.000000</td>\n",
              "    </tr>\n",
              "    <tr>\n",
              "      <th>50%</th>\n",
              "      <td>2700.000000</td>\n",
              "      <td>2003.000000</td>\n",
              "      <td>105.000000</td>\n",
              "      <td>150000.000000</td>\n",
              "      <td>6.000000</td>\n",
              "      <td>0.0</td>\n",
              "      <td>49409.500000</td>\n",
              "    </tr>\n",
              "    <tr>\n",
              "      <th>75%</th>\n",
              "      <td>6400.000000</td>\n",
              "      <td>2008.000000</td>\n",
              "      <td>143.000000</td>\n",
              "      <td>150000.000000</td>\n",
              "      <td>9.000000</td>\n",
              "      <td>0.0</td>\n",
              "      <td>71083.000000</td>\n",
              "    </tr>\n",
              "    <tr>\n",
              "      <th>max</th>\n",
              "      <td>20000.000000</td>\n",
              "      <td>9999.000000</td>\n",
              "      <td>20000.000000</td>\n",
              "      <td>150000.000000</td>\n",
              "      <td>12.000000</td>\n",
              "      <td>0.0</td>\n",
              "      <td>99998.000000</td>\n",
              "    </tr>\n",
              "  </tbody>\n",
              "</table>\n",
              "</div>"
            ],
            "text/plain": [
              "               price  registration_year          power      kilometer  \\\n",
              "count  354364.000000      354364.000000  354364.000000  354364.000000   \n",
              "mean     4416.655608        2004.234471     110.093723  128211.373051   \n",
              "std      4514.159690          90.228593     189.851590   37905.136957   \n",
              "min         0.000000        1000.000000       0.000000    5000.000000   \n",
              "25%      1050.000000        1999.000000      69.000000  125000.000000   \n",
              "50%      2700.000000        2003.000000     105.000000  150000.000000   \n",
              "75%      6400.000000        2008.000000     143.000000  150000.000000   \n",
              "max     20000.000000        9999.000000   20000.000000  150000.000000   \n",
              "\n",
              "       registration_month  number_of_pictures    postal_code  \n",
              "count       354364.000000            354364.0  354364.000000  \n",
              "mean             5.714641                 0.0   50508.461698  \n",
              "std              3.726433                 0.0   25783.124276  \n",
              "min              0.000000                 0.0    1067.000000  \n",
              "25%              3.000000                 0.0   30165.000000  \n",
              "50%              6.000000                 0.0   49409.500000  \n",
              "75%              9.000000                 0.0   71083.000000  \n",
              "max             12.000000                 0.0   99998.000000  "
            ]
          },
          "metadata": {}
        }
      ]
    },
    {
      "cell_type": "code",
      "source": "# Удалим столбцы ненужные\ndata = data.drop(['number_of_pictures', 'postal_code', 'date_created', 'last_seen', 'date_crawled'], axis=1)",
      "metadata": {},
      "execution_count": 19,
      "outputs": []
    },
    {
      "cell_type": "code",
      "source": "# Проверка на дубликаты\nprint('Количество дубликатов:', data.duplicated().sum())",
      "metadata": {},
      "execution_count": 20,
      "outputs": [
        {
          "name": "stdout",
          "output_type": "stream",
          "text": "Количество дубликатов: 33261\n"
        }
      ]
    },
    {
      "cell_type": "code",
      "source": "data = data.drop_duplicates()\n\nprint('Количество дубликатов:', data.duplicated().sum())",
      "metadata": {},
      "execution_count": 21,
      "outputs": [
        {
          "name": "stdout",
          "output_type": "stream",
          "text": "Количество дубликатов: 0\n"
        }
      ]
    },
    {
      "cell_type": "markdown",
      "source": "**Промежуточный вывод:**\n\nМы можем обратить внимание на некоторые интересные аспекты в данных. В частности, в столбце \"registration_year\" есть значения, которые выглядят аномальными. Установим границы для этого столбца: год регистрации не должен быть больше 2023 и не меньше 1930. Любые значения за пределами этого диапазона можно заменить на ближайшие допустимые значения. Это поможет нам избавиться от потенциальных выбросов в данном признаке.\n\nТакже мы замечаем, что в столбце \"registration_month\" есть значение 0, которое, возможно, следует заменить на 1. Это предположение основано на логике, что месяц регистрации не может быть нулевым. Опять же, это поможет нам улучшить данные, но не связано с поиском выбросов.\n\nВ отношении столбца \"power\", мы видим аномальные значения, такие как 20 000 лошадиных сил. Мы можем установить верхний порог мощности, например, 3600 лошадиных сил, чтобы исключить экстремально высокие значения. Это, безусловно, является выбросами и требует обработки.\n\nЧто касается столбца \"kilometer\", он содержит разумные значения, и нет необходимости искать выбросы в этом признаке.\n\nВ отношении столбца \"price\" мы замечаем высокое стандартное отклонение, что может негативно влиять на работу алгоритма. Таким образом, этот признак требует анализа и возможной обработки выбросов.",
      "metadata": {}
    },
    {
      "cell_type": "markdown",
      "source": "# Обозначим границы данных",
      "metadata": {}
    },
    {
      "cell_type": "code",
      "source": "# registration_year\ndef set_registration_year_bounds(year):\n    if year < 1985:\n        return 1985\n    elif year > 2016:\n        return 2016\n    else:\n        return year\ndata['registration_year'] = data['registration_year'].apply(set_registration_year_bounds)\n# registration_month\ndata.loc[data['registration_month'] == 0, 'registration_month'] = 1\n# power\ndata.loc[data['power'] > 3600, 'power'] = 3600",
      "metadata": {},
      "execution_count": 22,
      "outputs": []
    },
    {
      "cell_type": "code",
      "source": "def remove_lines(data, columns):\n    count = 0\n    for column in columns:\n        q25 = data[column].quantile(0.25)\n        q75 = data[column].quantile(0.75)\n        iqr = 1.5 * (q75 - q25)\n        \n        lower_bound = q25 - iqr\n        upper_bound = q75 + iqr\n        \n        lines = data[(data[column] < lower_bound) | (data[column] > upper_bound)]\n        \n        print(f\"Cтроки для удаления в столбце {column}: {len(lines)}\")\n        \n        data.drop(lines.index, inplace=True)\n        count += len(lines)\n    \n    print(\"Удалено:\", count)\n    return data\n\ncolumns_res = [\"price\", \"power\"]\ndata = remove_lines(data, columns_res)",
      "metadata": {},
      "execution_count": 23,
      "outputs": [
        {
          "name": "stdout",
          "output_type": "stream",
          "text": "Cтроки для удаления в столбце price: 17453\n\nCтроки для удаления в столбце power: 5353\n\nУдалено: 22806\n"
        }
      ]
    },
    {
      "cell_type": "code",
      "source": "# Рассчитываем матрицу phik\nphik_matrix = data.phik_matrix(interval_cols=['price', 'power'])\n\n# Настройка размера графика\nplt.figure(figsize=(10, 6))\n\n# Построение тепловой карты phik-корреляций\nsns.heatmap(phik_matrix, annot=True, cmap=\"coolwarm\", linewidths=0.5)\n\n# Отображение графика\nplt.show()",
      "metadata": {},
      "execution_count": 24,
      "outputs": [
        {
          "output_type": "display_data",
          "data": {
            "image/png": "[encoded data removed]",
            "text/plain": [
              "<Figure size 720x432 with 2 Axes>"
            ]
          },
          "metadata": {
            "needs_background": "light"
          }
        }
      ]
    },
    {
      "cell_type": "markdown",
      "source": "**Вывод:**\n\n1. Произведена очистка данных от пропущенных значений в категориальных признаках, где пропуски наиболее часто встречающимся значением.\n\n2. Было обнаружено 5 дубликатов объектов, которые были успешно удалены, чтобы избежать избыточности в обучающей выборке.\n\n3. Касательно корреляции признаков, все значения корреляции находятся в разумных пределах, и наибольшее влияние на целевой признак оказывает признак, отвечающий за мощность автомобиля.\n\n4. Осуществлена очистка данных от выбросов.",
      "metadata": {}
    },
    {
      "cell_type": "markdown",
      "source": "## Обучение моделей",
      "metadata": {}
    },
    {
      "cell_type": "code",
      "source": "# Применение one-hot encoding к категориальным переменным\ndata = pd.get_dummies(data, columns=['vehicle_type', 'gearbox', 'model', 'fuel_type', 'brand', 'repaired'])\n\n# Разделение данных на признаки и целевую переменную\nX = data.drop('price', axis=1)\ny = data['price']\n\n# Разделение на тренировочный, тестовый и валидационный наборы данных\ntrainX, testX, trainY, testY = train_test_split(X, y, test_size=0.2, random_state=12345)\ntrainX, valX, trainY, valY = train_test_split(trainX, trainY, test_size=0.2, random_state=12345)\n\n# Вывод размеров полученных выборок\nprint(f\"trainX размер: {trainX.shape}, trainY размер: {trainY.shape}\")\nprint(f\"valX размер: {valX.shape}, valY размер: {valY.shape}\")\nprint(f\"testX размер: {testX.shape}, testY размер: {testY.shape}\")",
      "metadata": {},
      "execution_count": 25,
      "outputs": [
        {
          "name": "stdout",
          "output_type": "stream",
          "text": "trainX размер: (190909, 312), trainY размер: (190909,)\n\nvalX размер: (47728, 312), valY размер: (47728,)\n\ntestX размер: (59660, 312), testY размер: (59660,)\n"
        }
      ]
    },
    {
      "cell_type": "markdown",
      "source": "# LightGBM",
      "metadata": {}
    },
    {
      "cell_type": "code",
      "source": "# Обучение модели LightGBM\nstart_time = time.time()\n\n# Параметры модели LightGBM\nparams = {\n    'boosting_type': 'gbdt',\n    'objective': 'regression',\n    'metric': 'rmse',\n    'num_leaves': 31,\n    'learning_rate': 0.05,\n    'feature_fraction': 0.9,\n    'bagging_fraction': 0.8,\n    'bagging_freq': 5,\n    'verbose': 0,\n    'n_jobs': -1\n}\n\n# Создание датасетов для обучения и валидации\nlgb_train = lgb.Dataset(trainX, trainY)\nlgb_val = lgb.Dataset(valX, valY)\n\n# Обучение модели LightGBM\nmodel_lgb = lgb.train(params,\n                      lgb_train,\n                      num_boost_round=1000,\n                      valid_sets=[lgb_train, lgb_val],\n                      early_stopping_rounds=50,\n                      verbose_eval=100)\n\nend_time = time.time()\ntraining_time_lgb = end_time - start_time\n\n# Вывод времени обучения модели LightGBM\nprint(\"Время обучения LightGBM: %.2f секунд\" % training_time_lgb)\n\n# Время предсказания модели LightGBM\nstart_time = time.time()\ny_pred_lgb = model_lgb.predict(testX)\nend_time = time.time()\nprediction_time_lgb = end_time - start_time\nprint(\"Время предсказания LightGBM: %.2f секунд\" % prediction_time_lgb)\n\n# Оценка качества модели LightGBM на валидационной выборке\nrmse_lgb = mean_squared_error(valY, model_lgb.predict(valX), squared=False)\nprint(\"RMSE LightGBM на валидационной выборке: %.2f\" % rmse_lgb)",
      "metadata": {
        "scrolled": true
      },
      "execution_count": 26,
      "outputs": [
        {
          "name": "stderr",
          "output_type": "stream",
          "text": "/opt/conda/lib/python3.9/site-packages/lightgbm/engine.py:181: UserWarning: 'early_stopping_rounds' argument is deprecated and will be removed in a future release of LightGBM. Pass 'early_stopping()' callback via 'callbacks' argument instead.\n\n  _log_warning(\"'early_stopping_rounds' argument is deprecated and will be removed in a future release of LightGBM. \"\n\n/opt/conda/lib/python3.9/site-packages/lightgbm/engine.py:239: UserWarning: 'verbose_eval' argument is deprecated and will be removed in a future release of LightGBM. Pass 'log_evaluation()' callback via 'callbacks' argument instead.\n\n  _log_warning(\"'verbose_eval' argument is deprecated and will be removed in a future release of LightGBM. \"\n"
        },
        {
          "name": "stdout",
          "output_type": "stream",
          "text": "[LightGBM] [Warning] Auto-choosing row-wise multi-threading, the overhead of testing was 0.604705 seconds.\n\nYou can set `force_row_wise=true` to remove the overhead.\n\nAnd if memory is not enough, you can set `force_col_wise=true`.\n\nTraining until validation scores don't improve for 50 rounds\n\n[100]\ttraining's rmse: 1570.73\tvalid_1's rmse: 1579.77\n\n[200]\ttraining's rmse: 1503.02\tvalid_1's rmse: 1522.17\n\n[300]\ttraining's rmse: 1474.38\tvalid_1's rmse: 1501.54\n\n[400]\ttraining's rmse: 1453.9\tvalid_1's rmse: 1489.05\n\n[500]\ttraining's rmse: 1438.24\tvalid_1's rmse: 1479.9\n\n[600]\ttraining's rmse: 1423.54\tvalid_1's rmse: 1473.14\n\n[700]\ttraining's rmse: 1409.77\tvalid_1's rmse: 1466.93\n\n[800]\ttraining's rmse: 1399.65\tvalid_1's rmse: 1463.06\n\n[900]\ttraining's rmse: 1388.4\tvalid_1's rmse: 1458.44\n\n[1000]\ttraining's rmse: 1379.45\tvalid_1's rmse: 1456.12\n\nDid not meet early stopping. Best iteration is:\n\n[1000]\ttraining's rmse: 1379.45\tvalid_1's rmse: 1456.12\n\nВремя обучения LightGBM: 140.65 секунд\n\nВремя предсказания LightGBM: 7.41 секунд\n\nRMSE LightGBM на валидационной выборке: 1456.12\n"
        }
      ]
    },
    {
      "cell_type": "markdown",
      "source": "# CatBoost",
      "metadata": {}
    },
    {
      "cell_type": "code",
      "source": "# Обучение модели CatBoostRegressor\nstart_time = time.time()\n\n# Создание и настройка модели CatBoostRegressor\nmodel_catboost = CatBoostRegressor(iterations=1000,\n                                   learning_rate=0.1,\n                                   depth=6,\n                                   loss_function='RMSE',\n                                   random_state=42)\n\n# Обучение модели CatBoostRegressor\nmodel_catboost.fit(trainX, trainY, eval_set=(valX, valY), verbose=100, early_stopping_rounds=50)\n\nend_time = time.time()\ntraining_time_catboost = end_time - start_time\n\n# Вывод времени обучения модели CatBoostRegressor\nprint(\"Время обучения CatBoostRegressor: %.2f секунд\" % training_time_catboost)\n\n# Время предсказания модели CatBoostRegressor\nstart_time = time.time()\ny_pred_catboost = model_catboost.predict(testX)\nend_time = time.time()\nprediction_time_catboost = end_time - start_time\nprint(\"Время предсказания CatBoostRegressor: %.2f секунд\" % prediction_time_catboost)\n\n# Оценка качества модели CatBoostRegressor на валидационной выборке\nrmse_catboost = mean_squared_error(valY, model_catboost.predict(valX), squared=False)\nprint(\"RMSE CatBoostRegressor на валидационной выборке: %.2f\" % rmse_catboost)",
      "metadata": {
        "scrolled": true
      },
      "execution_count": 27,
      "outputs": [
        {
          "name": "stdout",
          "output_type": "stream",
          "text": "0:\tlearn: 3223.3872696\ttest: 3219.1161519\tbest: 3219.1161519 (0)\ttotal: 82.3ms\tremaining: 1m 22s\n\n100:\tlearn: 1606.4909385\ttest: 1611.2715488\tbest: 1611.2715488 (100)\ttotal: 2.65s\tremaining: 23.6s\n\n200:\tlearn: 1541.3377251\ttest: 1553.6194730\tbest: 1553.6194730 (200)\ttotal: 5.15s\tremaining: 20.5s\n\n300:\tlearn: 1508.2377887\ttest: 1525.7051534\tbest: 1525.7051534 (300)\ttotal: 7.6s\tremaining: 17.6s\n\n400:\tlearn: 1486.0408789\ttest: 1508.5221004\tbest: 1508.5221004 (400)\ttotal: 10.2s\tremaining: 15.2s\n\n500:\tlearn: 1468.6164039\ttest: 1496.1173947\tbest: 1496.1173947 (500)\ttotal: 12.6s\tremaining: 12.6s\n\n600:\tlearn: 1454.4410547\ttest: 1487.2898479\tbest: 1487.2898479 (600)\ttotal: 15.1s\tremaining: 10.1s\n\n700:\tlearn: 1442.8448178\ttest: 1480.6549329\tbest: 1480.6549329 (700)\ttotal: 17.6s\tremaining: 7.5s\n\n800:\tlearn: 1432.8229260\ttest: 1475.6423958\tbest: 1475.6423958 (800)\ttotal: 20.1s\tremaining: 5s\n\n900:\tlearn: 1423.9264414\ttest: 1470.7647545\tbest: 1470.7647545 (900)\ttotal: 22.6s\tremaining: 2.48s\n\n999:\tlearn: 1416.1421197\ttest: 1467.4788928\tbest: 1467.4695085 (997)\ttotal: 25s\tremaining: 0us\n\n\n\nbestTest = 1467.469509\n\nbestIteration = 997\n\n\n\nShrink model to first 998 iterations.\n\nВремя обучения CatBoostRegressor: 28.07 секунд\n\nВремя предсказания CatBoostRegressor: 0.13 секунд\n\nRMSE CatBoostRegressor на валидационной выборке: 1467.47\n"
        }
      ]
    },
    {
      "cell_type": "markdown",
      "source": "# Ridge",
      "metadata": {}
    },
    {
      "cell_type": "code",
      "source": "# Время начала обучения\nstart_time = time.time()\n\n# Создаем объект модели Ridge регрессии\nmodel_ridge = Ridge()\n\n# Задаем сетку гиперпараметров для подбора\nparam_grid = {\n    'alpha': [0.1, 1.0, 10.0],  \n    'fit_intercept': [True, False],\n}\n\n# Создаем объект GridSearchCV для подбора гиперпараметров\ngrid_cv = GridSearchCV(estimator=model_ridge, param_grid=param_grid, cv=3, scoring='neg_mean_squared_error')\n\n# Обучаем модель с подбором гиперпараметров\ngrid_cv.fit(trainX, trainY)\n\n# Получаем лучшие гиперпараметры\nbest_params_ridge = grid_cv.best_params_\n\n# Создаем новую модель Ridge с лучшими гиперпараметрами\nbest_model_ridge = Ridge(alpha=best_params_ridge['alpha'], fit_intercept=best_params_ridge['fit_intercept'])\n\n# Обучаем модель на всем обучающем наборе данных\nbest_model_ridge.fit(trainX, trainY)\n\n# Время окончания обучения\nend_time = time.time()\ntraining_time_ridge = end_time - start_time\n\n# Предсказание цен на валидационной выборке\nval_predictions_ridge = best_model_ridge.predict(valX)\n\n# Время окончания предсказания\nend_time = time.time()\nprediction_time_ridge = end_time - start_time\n\n# Вычисление RMSE на валидационной выборке\nrmse_ridge = np.sqrt(mean_squared_error(valY, val_predictions_ridge))\n\n# Вывод результатов\nprint(\"Лучшие гиперпараметры модели Ridge:\", best_params_ridge)\nprint(\"Время обучения Ridge: %.2f секунд\" % training_time_ridge)\nprint(\"Время предсказания Ridge: %.2f секунд\" % prediction_time_ridge)\nprint(\"RMSE Ridge на валидационной выборке: %.2f\" % rmse_ridge)",
      "metadata": {},
      "execution_count": 30,
      "outputs": [
        {
          "name": "stderr",
          "output_type": "stream",
          "text": "/opt/conda/lib/python3.9/site-packages/sklearn/linear_model/_ridge.py:200: LinAlgWarning: Ill-conditioned matrix (rcond=1.7532e-17): result may not be accurate.\n\n  return linalg.solve(A, Xy, assume_a=\"pos\", overwrite_a=True).T\n\n/opt/conda/lib/python3.9/site-packages/sklearn/linear_model/_ridge.py:200: LinAlgWarning: Ill-conditioned matrix (rcond=1.75221e-17): result may not be accurate.\n\n  return linalg.solve(A, Xy, assume_a=\"pos\", overwrite_a=True).T\n\n/opt/conda/lib/python3.9/site-packages/sklearn/linear_model/_ridge.py:200: LinAlgWarning: Ill-conditioned matrix (rcond=1.75376e-17): result may not be accurate.\n\n  return linalg.solve(A, Xy, assume_a=\"pos\", overwrite_a=True).T\n"
        },
        {
          "name": "stdout",
          "output_type": "stream",
          "text": "Лучшие гиперпараметры модели Ridge: {'alpha': 1.0, 'fit_intercept': True}\n\nВремя обучения Ridge: 38.86 секунд\n\nВремя предсказания Ridge: 39.14 секунд\n\nRMSE Ridge на валидационной выборке: 2244.15\n"
        }
      ]
    },
    {
      "cell_type": "code",
      "source": "# Создаем пустую таблицу для результатов\nresults_tab = pd.DataFrame(columns=['Модель', 'RMSE', 'Обучение, сек', 'Предсказание, сек'])\n\n# Добавляем результаты модели LightGBM\nresults_tab = results_tab.append({\n    'Модель': 'LightGBM',\n    'RMSE': rmse_lgb,\n    'Обучение, сек': training_time_lgb,\n    'Предсказание, сек': prediction_time_lgb\n}, ignore_index=True)\n\n# Добавляем результаты модели CatBoostRegressor\nresults_tab = results_tab.append({\n    'Модель': 'CatBoostRegressor',\n    'RMSE': rmse_catboost,\n    'Обучение, сек': training_time_catboost,\n    'Предсказание, сек': prediction_time_catboost\n}, ignore_index=True)\n\n# Добавляем результаты модели LinearRegression\nresults_tab = results_tab.append({\n    'Модель': 'Ridge',\n    'RMSE': rmse_ridge,\n    'Обучение, сек': training_time_ridge,\n    'Предсказание, сек': prediction_time_ridge\n}, ignore_index=True)\n\n# Выводим таблицу с результатами\nprint(results_tab)",
      "metadata": {},
      "execution_count": 31,
      "outputs": [
        {
          "name": "stdout",
          "output_type": "stream",
          "text": "              Модель         RMSE  Обучение, сек  Предсказание, сек\n\n0           LightGBM  1456.119664     140.651085           7.408620\n\n1  CatBoostRegressor  1467.469509      28.069934           0.129520\n\n2              Ridge  2244.152778      38.857640          39.137239\n"
        }
      ]
    },
    {
      "cell_type": "markdown",
      "source": "## Анализ моделей",
      "metadata": {}
    },
    {
      "cell_type": "code",
      "source": "# Предсказание на тестовой выборке\nstart_time = time.time()\ny_pred_test_lgb = model_lgb.predict(testX)\nend_time = time.time()\nprediction_time_test_lgb = end_time - start_time\n\n# Вычисление RMSE на тестовой выборке\nrmse_test_lgb = mean_squared_error(testY, y_pred_test_lgb, squared=False)\n\n# Вывод результатов на тестовой выборке\nprint(\"RMSE LightGBM на тестовой выборке: %.2f\" % rmse_test_lgb)\nprint(\"Время предсказания LightGBM на тестовой выборке: %.2f секунд\" % prediction_time_test_lgb)",
      "metadata": {},
      "execution_count": 32,
      "outputs": [
        {
          "name": "stdout",
          "output_type": "stream",
          "text": "RMSE LightGBM на тестовой выборке: 1449.92\n\nВремя предсказания LightGBM на тестовой выборке: 7.27 секунд\n"
        }
      ]
    },
    {
      "cell_type": "markdown",
      "source": "# Вывод",
      "metadata": {}
    },
    {
      "cell_type": "markdown",
      "source": "В процессе комплексного анализа и предобработки данных мы провели ряд важных шагов для улучшения качества исходного набора данных:\n\n1. **Обработка аномалий:**\n   - В столбце \"registration_year\" были установлены границы для исключения аномалий.\n   - Значение 0 в \"registration_month\" было исправлено на 1.\n   - В столбце \"power\" был установлен верхний порог для исключения экстремально высоких значений.\n\n2. **Очистка данных:**\n   - Столбец \"price\" был проанализирован на наличие выбросов, что привело к удалению аномальных значений и улучшению качества данных.\n   - Пропущенные значения в категориальных признаках были заполнены наиболее часто встречающимися значениями.\n\n3. **Устранение дубликатов и обработка выбросов:**\n   - Удаление 5 дубликатов для избежания избыточности в обучающей выборке.\n   - Проведена работа по очистке данных от выбросов, что существенно повлияло на точность работы алгоритма.\n\n4. **Моделирование:**\n   - Рассмотрено три модели машинного обучения: LightGBM, Ridge и CatBoost.\n   - LightGBM продемонстрировал лучшую производительность на тестовой выборке с RMSE 1449.92 и временем предсказания 7.27 секунд.\n\nВ результате всех этих этапов мы успешно создали и обучили модель, способную предсказывать цены на автомобили с высокой точностью. Она прошла через важные этапы очистки и предобработки данных, что существенно повысило ее эффективность. LightGBM, как лидер среди рассмотренных моделей, рекомендуется для использования в данной задаче.",
      "metadata": {}
    },
    {
      "cell_type": "markdown",
      "source": "## Чек-лист проверки",
      "metadata": {}
    },
    {
      "cell_type": "markdown",
      "source": "Поставьте 'x' в выполненных пунктах. Далее нажмите Shift+Enter.",
      "metadata": {}
    },
    {
      "cell_type": "markdown",
      "source": "- [x]  Jupyter Notebook открыт\n- [x]  Весь код выполняется без ошибок\n- [x]  Ячейки с кодом расположены в порядке исполнения\n- [x]  Выполнена загрузка и подготовка данных\n- [x]  Выполнено обучение моделей\n- [x]  Есть анализ скорости работы и качества моделей",
      "metadata": {}
    }
  ]
}