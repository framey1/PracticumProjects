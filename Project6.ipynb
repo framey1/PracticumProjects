{
  "metadata": {
    "ExecuteTimeLog": [
      {
        "duration": 1957,
        "start_time": "2023-09-21T08:19:43.534Z"
      },
      {
        "duration": 879,
        "start_time": "2023-09-21T08:21:55.752Z"
      },
      {
        "duration": 18,
        "start_time": "2023-09-21T08:23:11.332Z"
      },
      {
        "duration": 9,
        "start_time": "2023-09-21T08:23:23.312Z"
      },
      {
        "duration": 9,
        "start_time": "2023-09-21T08:23:42.323Z"
      },
      {
        "duration": 8,
        "start_time": "2023-09-21T08:24:09.834Z"
      },
      {
        "duration": 39,
        "start_time": "2023-09-21T08:24:17.142Z"
      },
      {
        "duration": 16,
        "start_time": "2023-09-21T08:24:27.436Z"
      },
      {
        "duration": 14,
        "start_time": "2023-09-21T08:25:50.272Z"
      },
      {
        "duration": 14,
        "start_time": "2023-09-21T08:25:59.852Z"
      },
      {
        "duration": 44,
        "start_time": "2023-09-21T08:26:08.966Z"
      },
      {
        "duration": 13,
        "start_time": "2023-09-21T08:26:36.732Z"
      },
      {
        "duration": 14,
        "start_time": "2023-09-21T08:26:46.826Z"
      },
      {
        "duration": 37,
        "start_time": "2023-09-21T08:26:58.534Z"
      },
      {
        "duration": 2660,
        "start_time": "2023-09-21T08:28:26.405Z"
      },
      {
        "duration": 10,
        "start_time": "2023-09-21T08:29:31.014Z"
      },
      {
        "duration": 4625,
        "start_time": "2023-09-21T08:31:13.742Z"
      },
      {
        "duration": 656,
        "start_time": "2023-09-21T08:32:23.386Z"
      },
      {
        "duration": 190,
        "start_time": "2023-09-21T08:33:06.900Z"
      },
      {
        "duration": 14,
        "start_time": "2023-09-21T08:35:51.410Z"
      },
      {
        "duration": 180,
        "start_time": "2023-09-21T08:36:07.424Z"
      },
      {
        "duration": 183,
        "start_time": "2023-09-21T08:36:39.483Z"
      },
      {
        "duration": 199,
        "start_time": "2023-09-21T08:39:03.819Z"
      },
      {
        "duration": 194,
        "start_time": "2023-09-21T08:39:37.190Z"
      },
      {
        "duration": 202,
        "start_time": "2023-09-21T08:39:52.844Z"
      },
      {
        "duration": 187,
        "start_time": "2023-09-21T08:40:03.465Z"
      },
      {
        "duration": 200,
        "start_time": "2023-09-21T08:40:14.043Z"
      },
      {
        "duration": 192,
        "start_time": "2023-09-21T08:40:26.812Z"
      },
      {
        "duration": 160,
        "start_time": "2023-09-21T08:41:01.243Z"
      },
      {
        "duration": 149,
        "start_time": "2023-09-21T08:41:10.585Z"
      },
      {
        "duration": 297,
        "start_time": "2023-09-21T08:41:42.953Z"
      },
      {
        "duration": 208,
        "start_time": "2023-09-21T08:42:12.685Z"
      },
      {
        "duration": 5,
        "start_time": "2023-09-21T10:09:50.800Z"
      },
      {
        "duration": 438,
        "start_time": "2023-09-21T10:09:50.997Z"
      },
      {
        "duration": 21,
        "start_time": "2023-09-21T10:09:51.469Z"
      },
      {
        "duration": 15,
        "start_time": "2023-09-21T10:09:51.806Z"
      },
      {
        "duration": 36,
        "start_time": "2023-09-21T10:09:52.320Z"
      },
      {
        "duration": 12,
        "start_time": "2023-09-21T10:09:52.801Z"
      },
      {
        "duration": 14,
        "start_time": "2023-09-21T10:09:52.970Z"
      },
      {
        "duration": 34,
        "start_time": "2023-09-21T10:09:53.184Z"
      },
      {
        "duration": 12,
        "start_time": "2023-09-21T10:09:53.565Z"
      },
      {
        "duration": 15,
        "start_time": "2023-09-21T10:09:53.753Z"
      },
      {
        "duration": 36,
        "start_time": "2023-09-21T10:09:54.063Z"
      },
      {
        "duration": 208,
        "start_time": "2023-09-21T10:09:54.901Z"
      },
      {
        "duration": 395,
        "start_time": "2023-09-21T10:12:31.900Z"
      },
      {
        "duration": 410,
        "start_time": "2023-09-21T10:12:37.446Z"
      },
      {
        "duration": 375,
        "start_time": "2023-09-21T10:13:38.100Z"
      },
      {
        "duration": 40,
        "start_time": "2023-09-21T10:15:00.626Z"
      },
      {
        "duration": 37,
        "start_time": "2023-09-21T10:15:28.144Z"
      },
      {
        "duration": 1689,
        "start_time": "2023-09-21T10:15:54.112Z"
      },
      {
        "duration": 401,
        "start_time": "2023-09-21T10:15:55.803Z"
      },
      {
        "duration": 17,
        "start_time": "2023-09-21T10:15:56.206Z"
      },
      {
        "duration": 25,
        "start_time": "2023-09-21T10:15:56.225Z"
      },
      {
        "duration": 42,
        "start_time": "2023-09-21T10:15:56.252Z"
      },
      {
        "duration": 12,
        "start_time": "2023-09-21T10:15:56.295Z"
      },
      {
        "duration": 36,
        "start_time": "2023-09-21T10:15:56.308Z"
      },
      {
        "duration": 37,
        "start_time": "2023-09-21T10:15:56.346Z"
      },
      {
        "duration": 12,
        "start_time": "2023-09-21T10:15:56.385Z"
      },
      {
        "duration": 45,
        "start_time": "2023-09-21T10:15:56.399Z"
      },
      {
        "duration": 34,
        "start_time": "2023-09-21T10:15:56.505Z"
      },
      {
        "duration": 204,
        "start_time": "2023-09-21T10:15:57.261Z"
      },
      {
        "duration": 366,
        "start_time": "2023-09-21T10:15:58.682Z"
      },
      {
        "duration": 428,
        "start_time": "2023-09-21T10:16:34.183Z"
      },
      {
        "duration": 410,
        "start_time": "2023-09-21T10:16:56.122Z"
      },
      {
        "duration": 43,
        "start_time": "2023-09-21T10:17:33.562Z"
      },
      {
        "duration": 43,
        "start_time": "2023-09-21T10:17:34.672Z"
      },
      {
        "duration": 38,
        "start_time": "2023-09-21T10:17:35.713Z"
      },
      {
        "duration": 9,
        "start_time": "2023-09-21T10:19:37.593Z"
      },
      {
        "duration": 17,
        "start_time": "2023-09-21T10:23:50.629Z"
      },
      {
        "duration": 16,
        "start_time": "2023-09-21T10:24:26.244Z"
      },
      {
        "duration": 19,
        "start_time": "2023-09-21T10:25:30.573Z"
      },
      {
        "duration": 13,
        "start_time": "2023-09-21T10:25:46.173Z"
      },
      {
        "duration": 13,
        "start_time": "2023-09-21T10:25:52.801Z"
      },
      {
        "duration": 13,
        "start_time": "2023-09-21T10:26:00.210Z"
      },
      {
        "duration": 13,
        "start_time": "2023-09-21T10:26:27.776Z"
      },
      {
        "duration": 13,
        "start_time": "2023-09-21T10:27:22.580Z"
      },
      {
        "duration": 14,
        "start_time": "2023-09-21T10:27:37.611Z"
      },
      {
        "duration": 13,
        "start_time": "2023-09-21T10:28:00.045Z"
      },
      {
        "duration": 14,
        "start_time": "2023-09-21T10:28:12.977Z"
      },
      {
        "duration": 14,
        "start_time": "2023-09-21T10:29:16.342Z"
      },
      {
        "duration": 14,
        "start_time": "2023-09-21T10:29:25.094Z"
      },
      {
        "duration": 14,
        "start_time": "2023-09-21T10:29:53.890Z"
      },
      {
        "duration": 15,
        "start_time": "2023-09-21T10:30:41.269Z"
      },
      {
        "duration": 18,
        "start_time": "2023-09-21T10:31:49.477Z"
      },
      {
        "duration": 14,
        "start_time": "2023-09-21T10:31:50.142Z"
      },
      {
        "duration": 23,
        "start_time": "2023-09-21T10:37:36.576Z"
      },
      {
        "duration": 27,
        "start_time": "2023-09-21T10:38:35.231Z"
      },
      {
        "duration": 14,
        "start_time": "2023-09-21T10:39:27.413Z"
      },
      {
        "duration": 22,
        "start_time": "2023-09-21T10:40:06.144Z"
      },
      {
        "duration": 15,
        "start_time": "2023-09-21T10:40:06.903Z"
      },
      {
        "duration": 4,
        "start_time": "2023-09-21T10:45:55.228Z"
      },
      {
        "duration": 4,
        "start_time": "2023-09-21T10:46:04.412Z"
      },
      {
        "duration": 107,
        "start_time": "2023-09-21T10:47:28.887Z"
      },
      {
        "duration": 10,
        "start_time": "2023-09-21T10:48:06.017Z"
      },
      {
        "duration": 4,
        "start_time": "2023-09-21T10:48:14.757Z"
      },
      {
        "duration": 10,
        "start_time": "2023-09-21T10:49:17.188Z"
      },
      {
        "duration": 4,
        "start_time": "2023-09-21T10:49:23.242Z"
      },
      {
        "duration": 8,
        "start_time": "2023-09-21T10:50:25.132Z"
      },
      {
        "duration": 93,
        "start_time": "2023-09-21T10:53:48.059Z"
      },
      {
        "duration": 5,
        "start_time": "2023-09-21T11:08:58.010Z"
      },
      {
        "duration": 4,
        "start_time": "2023-09-21T11:09:11.955Z"
      },
      {
        "duration": 5,
        "start_time": "2023-09-21T11:11:34.928Z"
      },
      {
        "duration": 7,
        "start_time": "2023-09-21T11:12:45.194Z"
      },
      {
        "duration": 14,
        "start_time": "2023-09-21T11:14:11.137Z"
      },
      {
        "duration": 7,
        "start_time": "2023-09-21T11:16:31.003Z"
      },
      {
        "duration": 13,
        "start_time": "2023-09-21T11:16:32.401Z"
      },
      {
        "duration": 7,
        "start_time": "2023-09-21T11:16:42.060Z"
      },
      {
        "duration": 3,
        "start_time": "2023-09-21T11:16:42.919Z"
      },
      {
        "duration": 4,
        "start_time": "2023-09-21T11:16:51.584Z"
      },
      {
        "duration": 4,
        "start_time": "2023-09-21T11:18:41.974Z"
      },
      {
        "duration": 4,
        "start_time": "2023-09-21T17:56:58.299Z"
      },
      {
        "duration": 506,
        "start_time": "2023-09-21T17:56:58.466Z"
      },
      {
        "duration": 13,
        "start_time": "2023-09-21T17:56:58.974Z"
      },
      {
        "duration": 25,
        "start_time": "2023-09-21T17:56:58.989Z"
      },
      {
        "duration": 42,
        "start_time": "2023-09-21T17:56:59.102Z"
      },
      {
        "duration": 13,
        "start_time": "2023-09-21T17:56:59.437Z"
      },
      {
        "duration": 16,
        "start_time": "2023-09-21T17:56:59.612Z"
      },
      {
        "duration": 38,
        "start_time": "2023-09-21T17:56:59.787Z"
      },
      {
        "duration": 18,
        "start_time": "2023-09-21T17:57:00.164Z"
      },
      {
        "duration": 25,
        "start_time": "2023-09-21T17:57:00.331Z"
      },
      {
        "duration": 50,
        "start_time": "2023-09-21T17:57:00.495Z"
      },
      {
        "duration": 235,
        "start_time": "2023-09-21T17:57:00.860Z"
      },
      {
        "duration": 423,
        "start_time": "2023-09-21T17:57:01.432Z"
      },
      {
        "duration": 430,
        "start_time": "2023-09-21T17:57:01.857Z"
      },
      {
        "duration": 488,
        "start_time": "2023-09-21T17:57:02.289Z"
      },
      {
        "duration": 10,
        "start_time": "2023-09-21T17:57:02.779Z"
      },
      {
        "duration": 29,
        "start_time": "2023-09-21T17:57:02.791Z"
      },
      {
        "duration": 23,
        "start_time": "2023-09-21T17:57:02.822Z"
      },
      {
        "duration": 22,
        "start_time": "2023-09-21T17:57:02.847Z"
      },
      {
        "duration": 81,
        "start_time": "2023-09-21T17:57:02.871Z"
      },
      {
        "duration": 135,
        "start_time": "2023-09-21T17:57:02.960Z"
      },
      {
        "duration": 111,
        "start_time": "2023-09-21T17:57:03.150Z"
      },
      {
        "duration": 5,
        "start_time": "2023-09-21T17:57:03.354Z"
      },
      {
        "duration": 9,
        "start_time": "2023-09-21T17:57:03.560Z"
      },
      {
        "duration": 7,
        "start_time": "2023-09-21T17:57:05.162Z"
      },
      {
        "duration": 3,
        "start_time": "2023-09-21T17:57:05.472Z"
      },
      {
        "duration": 3,
        "start_time": "2023-09-21T17:57:06.658Z"
      },
      {
        "duration": 11,
        "start_time": "2023-09-21T17:59:16.836Z"
      },
      {
        "duration": 5,
        "start_time": "2023-09-21T17:59:46.644Z"
      },
      {
        "duration": 11,
        "start_time": "2023-09-21T19:11:39.875Z"
      },
      {
        "duration": 6,
        "start_time": "2023-09-21T19:12:27.319Z"
      },
      {
        "duration": 11,
        "start_time": "2023-09-21T19:12:45.427Z"
      },
      {
        "duration": 11,
        "start_time": "2023-09-21T19:12:55.247Z"
      },
      {
        "duration": 8,
        "start_time": "2023-09-21T19:13:05.232Z"
      },
      {
        "duration": 5,
        "start_time": "2023-09-21T19:15:04.836Z"
      },
      {
        "duration": 26,
        "start_time": "2023-09-21T19:15:35.415Z"
      },
      {
        "duration": 5,
        "start_time": "2023-09-21T19:18:05.677Z"
      },
      {
        "duration": 22,
        "start_time": "2023-09-21T19:18:07.576Z"
      },
      {
        "duration": 4,
        "start_time": "2023-09-21T19:21:02.486Z"
      },
      {
        "duration": 455,
        "start_time": "2023-09-21T19:21:02.628Z"
      },
      {
        "duration": 14,
        "start_time": "2023-09-21T19:21:03.085Z"
      },
      {
        "duration": 52,
        "start_time": "2023-09-21T19:21:03.101Z"
      },
      {
        "duration": 45,
        "start_time": "2023-09-21T19:21:03.264Z"
      },
      {
        "duration": 16,
        "start_time": "2023-09-21T19:21:03.570Z"
      },
      {
        "duration": 28,
        "start_time": "2023-09-21T19:21:03.729Z"
      },
      {
        "duration": 46,
        "start_time": "2023-09-21T19:21:03.879Z"
      },
      {
        "duration": 13,
        "start_time": "2023-09-21T19:21:04.199Z"
      },
      {
        "duration": 18,
        "start_time": "2023-09-21T19:21:04.376Z"
      },
      {
        "duration": 46,
        "start_time": "2023-09-21T19:21:04.516Z"
      },
      {
        "duration": 284,
        "start_time": "2023-09-21T19:21:04.859Z"
      },
      {
        "duration": 511,
        "start_time": "2023-09-21T19:21:05.327Z"
      },
      {
        "duration": 563,
        "start_time": "2023-09-21T19:21:05.851Z"
      },
      {
        "duration": 509,
        "start_time": "2023-09-21T19:21:06.416Z"
      },
      {
        "duration": 9,
        "start_time": "2023-09-21T19:21:06.927Z"
      },
      {
        "duration": 105,
        "start_time": "2023-09-21T19:21:06.944Z"
      },
      {
        "duration": 29,
        "start_time": "2023-09-21T19:21:07.051Z"
      },
      {
        "duration": 38,
        "start_time": "2023-09-21T19:21:07.082Z"
      },
      {
        "duration": 128,
        "start_time": "2023-09-21T19:21:07.123Z"
      },
      {
        "duration": 185,
        "start_time": "2023-09-21T19:21:07.258Z"
      },
      {
        "duration": 100,
        "start_time": "2023-09-21T19:21:07.466Z"
      },
      {
        "duration": 80,
        "start_time": "2023-09-21T19:21:07.568Z"
      },
      {
        "duration": 95,
        "start_time": "2023-09-21T19:21:07.650Z"
      },
      {
        "duration": 25,
        "start_time": "2023-09-21T19:21:07.749Z"
      },
      {
        "duration": 4,
        "start_time": "2023-09-21T19:21:08.179Z"
      },
      {
        "duration": 4,
        "start_time": "2023-09-21T19:21:08.348Z"
      },
      {
        "duration": 5,
        "start_time": "2023-09-21T19:21:08.552Z"
      },
      {
        "duration": 5,
        "start_time": "2023-09-21T19:21:09.277Z"
      },
      {
        "duration": 13,
        "start_time": "2023-09-21T19:21:15.734Z"
      },
      {
        "duration": 23,
        "start_time": "2023-09-21T19:21:50.600Z"
      },
      {
        "duration": 9,
        "start_time": "2023-09-21T19:23:08.880Z"
      },
      {
        "duration": 8,
        "start_time": "2023-09-21T19:23:19.819Z"
      },
      {
        "duration": 26,
        "start_time": "2023-09-21T19:23:22.224Z"
      },
      {
        "duration": 8,
        "start_time": "2023-09-21T19:27:20.072Z"
      },
      {
        "duration": 4,
        "start_time": "2023-09-21T19:27:28.288Z"
      },
      {
        "duration": 4,
        "start_time": "2023-09-21T19:27:58.130Z"
      },
      {
        "duration": 9,
        "start_time": "2023-09-21T19:28:17.101Z"
      },
      {
        "duration": 4,
        "start_time": "2023-09-21T19:29:02.777Z"
      },
      {
        "duration": 3,
        "start_time": "2023-09-21T19:29:57.732Z"
      },
      {
        "duration": 4,
        "start_time": "2023-09-21T19:31:35.463Z"
      },
      {
        "duration": 3,
        "start_time": "2023-09-21T19:33:40.829Z"
      },
      {
        "duration": 22,
        "start_time": "2023-09-21T19:35:07.885Z"
      },
      {
        "duration": 5,
        "start_time": "2023-09-21T19:37:08.119Z"
      },
      {
        "duration": 12,
        "start_time": "2023-09-21T19:37:46.414Z"
      },
      {
        "duration": 21,
        "start_time": "2023-09-21T19:37:47.489Z"
      },
      {
        "duration": 14,
        "start_time": "2023-09-21T19:38:15.628Z"
      },
      {
        "duration": 25,
        "start_time": "2023-09-21T19:38:16.583Z"
      },
      {
        "duration": 6,
        "start_time": "2023-09-21T19:38:25.568Z"
      },
      {
        "duration": 4,
        "start_time": "2023-09-21T19:38:25.899Z"
      },
      {
        "duration": 12,
        "start_time": "2023-09-21T19:38:26.682Z"
      },
      {
        "duration": 6,
        "start_time": "2023-09-21T19:38:45.845Z"
      },
      {
        "duration": 6,
        "start_time": "2023-09-21T19:39:12.732Z"
      },
      {
        "duration": 33,
        "start_time": "2023-09-21T19:39:17.803Z"
      },
      {
        "duration": 9,
        "start_time": "2023-09-21T19:40:03.277Z"
      },
      {
        "duration": 30,
        "start_time": "2023-09-21T19:40:03.538Z"
      },
      {
        "duration": 33,
        "start_time": "2023-09-21T19:40:26.033Z"
      },
      {
        "duration": 11,
        "start_time": "2023-09-21T19:40:41.499Z"
      },
      {
        "duration": 16,
        "start_time": "2023-09-21T19:42:05.335Z"
      },
      {
        "duration": 15,
        "start_time": "2023-09-21T19:43:25.532Z"
      },
      {
        "duration": 38,
        "start_time": "2023-09-21T19:44:14.480Z"
      },
      {
        "duration": 1777,
        "start_time": "2023-09-21T21:25:25.604Z"
      },
      {
        "duration": 5,
        "start_time": "2023-09-21T21:25:27.712Z"
      },
      {
        "duration": 875,
        "start_time": "2023-09-21T21:26:12.790Z"
      },
      {
        "duration": 8,
        "start_time": "2023-09-21T21:27:12.283Z"
      },
      {
        "duration": 9,
        "start_time": "2023-09-21T21:27:39.987Z"
      },
      {
        "duration": 8,
        "start_time": "2023-09-21T21:27:57.492Z"
      },
      {
        "duration": 11,
        "start_time": "2023-09-21T21:28:13.609Z"
      },
      {
        "duration": 12,
        "start_time": "2023-09-21T21:29:26.876Z"
      },
      {
        "duration": 11,
        "start_time": "2023-09-21T21:29:59.906Z"
      },
      {
        "duration": 21,
        "start_time": "2023-09-21T21:30:33.564Z"
      },
      {
        "duration": 23,
        "start_time": "2023-09-21T21:30:44.540Z"
      },
      {
        "duration": 25,
        "start_time": "2023-09-21T21:31:06.666Z"
      },
      {
        "duration": 50,
        "start_time": "2023-09-21T21:31:18.724Z"
      },
      {
        "duration": 88,
        "start_time": "2023-09-21T21:32:01.928Z"
      },
      {
        "duration": 85,
        "start_time": "2023-09-21T21:32:13.706Z"
      },
      {
        "duration": 86,
        "start_time": "2023-09-21T21:32:20.823Z"
      },
      {
        "duration": 56,
        "start_time": "2023-09-21T21:33:45.847Z"
      },
      {
        "duration": 37,
        "start_time": "2023-09-21T21:33:54.694Z"
      },
      {
        "duration": 84,
        "start_time": "2023-09-21T21:34:16.679Z"
      },
      {
        "duration": 77,
        "start_time": "2023-09-21T21:34:32.035Z"
      },
      {
        "duration": 398,
        "start_time": "2023-09-21T21:34:53.064Z"
      },
      {
        "duration": 135,
        "start_time": "2023-09-21T21:35:12.310Z"
      },
      {
        "duration": 53,
        "start_time": "2023-09-21T21:35:56.431Z"
      },
      {
        "duration": 114,
        "start_time": "2023-09-21T21:36:08.410Z"
      },
      {
        "duration": 19,
        "start_time": "2023-09-21T21:37:02.796Z"
      },
      {
        "duration": 1679,
        "start_time": "2023-09-21T21:38:52.536Z"
      },
      {
        "duration": 605,
        "start_time": "2023-09-21T21:39:12.404Z"
      },
      {
        "duration": 584,
        "start_time": "2023-09-21T21:39:46.621Z"
      },
      {
        "duration": 40,
        "start_time": "2023-09-21T21:41:02.067Z"
      },
      {
        "duration": 1067,
        "start_time": "2023-09-21T21:42:07.274Z"
      },
      {
        "duration": 982,
        "start_time": "2023-09-21T21:42:22.961Z"
      },
      {
        "duration": 1078,
        "start_time": "2023-09-21T21:42:41.294Z"
      },
      {
        "duration": 4,
        "start_time": "2023-09-21T21:52:41.171Z"
      },
      {
        "duration": 4,
        "start_time": "2023-09-21T21:55:36.177Z"
      },
      {
        "duration": 9,
        "start_time": "2023-09-21T21:55:45.061Z"
      },
      {
        "duration": 45,
        "start_time": "2023-09-21T21:55:53.726Z"
      },
      {
        "duration": 55,
        "start_time": "2023-09-21T21:56:36.512Z"
      },
      {
        "duration": 4,
        "start_time": "2023-09-21T21:56:44.940Z"
      },
      {
        "duration": 386,
        "start_time": "2023-09-21T21:56:45.397Z"
      },
      {
        "duration": 6,
        "start_time": "2023-09-21T21:57:46.414Z"
      },
      {
        "duration": 4,
        "start_time": "2023-09-21T22:01:18.143Z"
      },
      {
        "duration": 4,
        "start_time": "2023-09-21T22:03:07.113Z"
      },
      {
        "duration": 5,
        "start_time": "2023-09-21T22:03:26.622Z"
      },
      {
        "duration": 4,
        "start_time": "2023-09-21T22:03:59.117Z"
      },
      {
        "duration": 4,
        "start_time": "2023-09-21T22:04:33.024Z"
      },
      {
        "duration": 3,
        "start_time": "2023-09-21T22:05:00.703Z"
      },
      {
        "duration": 4,
        "start_time": "2023-09-21T22:05:26.410Z"
      },
      {
        "duration": 7,
        "start_time": "2023-09-21T22:06:26.426Z"
      },
      {
        "duration": 7,
        "start_time": "2023-09-21T22:08:03.174Z"
      },
      {
        "duration": 5,
        "start_time": "2023-09-21T22:09:12.669Z"
      },
      {
        "duration": 4,
        "start_time": "2023-09-21T22:10:40.065Z"
      },
      {
        "duration": 5,
        "start_time": "2023-09-21T22:11:09.458Z"
      },
      {
        "duration": 5,
        "start_time": "2023-09-21T22:15:16.800Z"
      },
      {
        "duration": 16,
        "start_time": "2023-09-21T22:16:42.089Z"
      },
      {
        "duration": 7,
        "start_time": "2023-09-21T22:18:33.116Z"
      },
      {
        "duration": 18,
        "start_time": "2023-09-21T22:20:05.162Z"
      },
      {
        "duration": 17,
        "start_time": "2023-09-21T22:20:18.920Z"
      },
      {
        "duration": 18,
        "start_time": "2023-09-21T22:21:13.498Z"
      },
      {
        "duration": 18,
        "start_time": "2023-09-21T22:21:34.161Z"
      },
      {
        "duration": 17,
        "start_time": "2023-09-21T22:21:41.861Z"
      },
      {
        "duration": 17,
        "start_time": "2023-09-21T22:22:10.199Z"
      },
      {
        "duration": 14,
        "start_time": "2023-09-21T22:23:47.333Z"
      },
      {
        "duration": 34689,
        "start_time": "2023-09-21T22:24:01.386Z"
      },
      {
        "duration": 102332,
        "start_time": "2023-09-21T22:26:52.621Z"
      },
      {
        "duration": 169,
        "start_time": "2023-09-21T22:31:37.056Z"
      },
      {
        "duration": 110231,
        "start_time": "2023-09-21T22:31:46.861Z"
      },
      {
        "duration": 1449,
        "start_time": "2023-09-21T22:36:50.362Z"
      },
      {
        "duration": 3,
        "start_time": "2023-09-21T22:36:51.813Z"
      },
      {
        "duration": 429,
        "start_time": "2023-09-21T22:36:51.817Z"
      },
      {
        "duration": 22,
        "start_time": "2023-09-21T22:36:52.248Z"
      },
      {
        "duration": 34,
        "start_time": "2023-09-21T22:36:52.272Z"
      },
      {
        "duration": 97,
        "start_time": "2023-09-21T22:36:52.307Z"
      },
      {
        "duration": 118,
        "start_time": "2023-09-21T22:36:52.405Z"
      },
      {
        "duration": 39,
        "start_time": "2023-09-21T22:36:52.524Z"
      },
      {
        "duration": 122,
        "start_time": "2023-09-21T22:36:52.566Z"
      },
      {
        "duration": 0,
        "start_time": "2023-09-21T22:36:52.691Z"
      },
      {
        "duration": 0,
        "start_time": "2023-09-21T22:36:52.692Z"
      },
      {
        "duration": 0,
        "start_time": "2023-09-21T22:36:52.694Z"
      },
      {
        "duration": 0,
        "start_time": "2023-09-21T22:36:52.696Z"
      },
      {
        "duration": 0,
        "start_time": "2023-09-21T22:36:52.698Z"
      },
      {
        "duration": 0,
        "start_time": "2023-09-21T22:36:52.699Z"
      },
      {
        "duration": 0,
        "start_time": "2023-09-21T22:36:52.700Z"
      },
      {
        "duration": 0,
        "start_time": "2023-09-21T22:36:52.701Z"
      },
      {
        "duration": 0,
        "start_time": "2023-09-21T22:36:52.702Z"
      },
      {
        "duration": 0,
        "start_time": "2023-09-21T22:36:52.703Z"
      },
      {
        "duration": 1398,
        "start_time": "2023-09-21T22:37:22.092Z"
      },
      {
        "duration": 2,
        "start_time": "2023-09-21T22:37:23.492Z"
      },
      {
        "duration": 415,
        "start_time": "2023-09-21T22:37:23.496Z"
      },
      {
        "duration": 12,
        "start_time": "2023-09-21T22:37:23.913Z"
      },
      {
        "duration": 54,
        "start_time": "2023-09-21T22:37:23.927Z"
      },
      {
        "duration": 84,
        "start_time": "2023-09-21T22:37:23.983Z"
      },
      {
        "duration": 122,
        "start_time": "2023-09-21T22:37:24.068Z"
      },
      {
        "duration": 23,
        "start_time": "2023-09-21T22:37:24.192Z"
      },
      {
        "duration": 1047,
        "start_time": "2023-09-21T22:37:24.216Z"
      },
      {
        "duration": 4,
        "start_time": "2023-09-21T22:37:25.265Z"
      },
      {
        "duration": 289,
        "start_time": "2023-09-21T22:37:25.270Z"
      },
      {
        "duration": 92,
        "start_time": "2023-09-21T22:37:25.561Z"
      },
      {
        "duration": 5,
        "start_time": "2023-09-21T22:37:25.657Z"
      },
      {
        "duration": 89,
        "start_time": "2023-09-21T22:37:25.665Z"
      },
      {
        "duration": 9,
        "start_time": "2023-09-21T22:37:25.757Z"
      },
      {
        "duration": 17,
        "start_time": "2023-09-21T22:37:25.767Z"
      },
      {
        "duration": 39,
        "start_time": "2023-09-21T22:37:25.785Z"
      },
      {
        "duration": 107595,
        "start_time": "2023-09-21T22:37:25.826Z"
      },
      {
        "duration": 5,
        "start_time": "2023-09-21T22:42:00.637Z"
      },
      {
        "duration": 105746,
        "start_time": "2023-09-21T22:43:01.390Z"
      },
      {
        "duration": 11,
        "start_time": "2023-09-21T22:44:47.138Z"
      },
      {
        "duration": 6,
        "start_time": "2023-09-21T22:46:54.661Z"
      },
      {
        "duration": 1265,
        "start_time": "2023-09-21T22:48:32.978Z"
      },
      {
        "duration": 2,
        "start_time": "2023-09-21T22:48:34.245Z"
      },
      {
        "duration": 370,
        "start_time": "2023-09-21T22:48:34.249Z"
      },
      {
        "duration": 12,
        "start_time": "2023-09-21T22:48:34.621Z"
      },
      {
        "duration": 49,
        "start_time": "2023-09-21T22:48:34.635Z"
      },
      {
        "duration": 80,
        "start_time": "2023-09-21T22:48:34.685Z"
      },
      {
        "duration": 104,
        "start_time": "2023-09-21T22:48:34.766Z"
      },
      {
        "duration": 20,
        "start_time": "2023-09-21T22:48:34.872Z"
      },
      {
        "duration": 975,
        "start_time": "2023-09-21T22:48:34.893Z"
      },
      {
        "duration": 4,
        "start_time": "2023-09-21T22:48:35.869Z"
      },
      {
        "duration": 380,
        "start_time": "2023-09-21T22:48:35.875Z"
      },
      {
        "duration": 96,
        "start_time": "2023-09-21T22:48:36.257Z"
      },
      {
        "duration": 98,
        "start_time": "2023-09-21T22:48:36.355Z"
      },
      {
        "duration": 45,
        "start_time": "2023-09-21T22:48:36.456Z"
      },
      {
        "duration": 28,
        "start_time": "2023-09-21T22:48:36.503Z"
      },
      {
        "duration": 13,
        "start_time": "2023-09-21T22:48:36.532Z"
      },
      {
        "duration": 44,
        "start_time": "2023-09-21T22:48:36.546Z"
      },
      {
        "duration": 17,
        "start_time": "2023-09-21T22:48:36.591Z"
      },
      {
        "duration": 100300,
        "start_time": "2023-09-21T22:48:36.609Z"
      },
      {
        "duration": 6,
        "start_time": "2023-09-21T22:50:16.911Z"
      },
      {
        "duration": 4,
        "start_time": "2023-09-21T22:56:08.084Z"
      },
      {
        "duration": 103,
        "start_time": "2023-09-21T22:57:45.593Z"
      },
      {
        "duration": 6,
        "start_time": "2023-09-21T22:58:20.159Z"
      },
      {
        "duration": 4503,
        "start_time": "2023-09-21T22:58:20.936Z"
      },
      {
        "duration": 7,
        "start_time": "2023-09-21T22:59:28.293Z"
      },
      {
        "duration": 8,
        "start_time": "2023-09-21T23:00:13.560Z"
      },
      {
        "duration": 5,
        "start_time": "2023-09-21T23:01:51.868Z"
      },
      {
        "duration": 4803,
        "start_time": "2023-09-21T23:01:52.424Z"
      },
      {
        "duration": 9,
        "start_time": "2023-09-21T23:03:04.913Z"
      },
      {
        "duration": 9,
        "start_time": "2023-09-21T23:04:02.813Z"
      },
      {
        "duration": 1406,
        "start_time": "2023-09-21T23:04:39.799Z"
      },
      {
        "duration": 3,
        "start_time": "2023-09-21T23:04:41.208Z"
      },
      {
        "duration": 416,
        "start_time": "2023-09-21T23:04:41.213Z"
      },
      {
        "duration": 13,
        "start_time": "2023-09-21T23:04:41.631Z"
      },
      {
        "duration": 40,
        "start_time": "2023-09-21T23:04:41.649Z"
      },
      {
        "duration": 107,
        "start_time": "2023-09-21T23:04:41.691Z"
      },
      {
        "duration": 132,
        "start_time": "2023-09-21T23:04:41.799Z"
      },
      {
        "duration": 32,
        "start_time": "2023-09-21T23:04:41.933Z"
      },
      {
        "duration": 1030,
        "start_time": "2023-09-21T23:04:41.967Z"
      },
      {
        "duration": 4,
        "start_time": "2023-09-21T23:04:42.999Z"
      },
      {
        "duration": 366,
        "start_time": "2023-09-21T23:04:43.005Z"
      },
      {
        "duration": 8,
        "start_time": "2023-09-21T23:04:43.449Z"
      },
      {
        "duration": 99,
        "start_time": "2023-09-21T23:04:43.459Z"
      },
      {
        "duration": 12,
        "start_time": "2023-09-21T23:04:43.561Z"
      },
      {
        "duration": 24,
        "start_time": "2023-09-21T23:04:43.575Z"
      },
      {
        "duration": 28,
        "start_time": "2023-09-21T23:04:43.601Z"
      },
      {
        "duration": 65,
        "start_time": "2023-09-21T23:04:43.631Z"
      },
      {
        "duration": 49,
        "start_time": "2023-09-21T23:04:43.698Z"
      },
      {
        "duration": 5050,
        "start_time": "2023-09-21T23:04:43.749Z"
      },
      {
        "duration": 7,
        "start_time": "2023-09-21T23:04:48.800Z"
      },
      {
        "duration": 5,
        "start_time": "2023-09-21T23:07:35.468Z"
      },
      {
        "duration": 107,
        "start_time": "2023-09-21T23:07:36.093Z"
      },
      {
        "duration": 8,
        "start_time": "2023-09-21T23:07:39.363Z"
      },
      {
        "duration": 9,
        "start_time": "2023-09-21T23:08:16.776Z"
      },
      {
        "duration": 5,
        "start_time": "2023-09-21T23:08:33.671Z"
      },
      {
        "duration": 10,
        "start_time": "2023-09-21T23:08:34.099Z"
      },
      {
        "duration": 5,
        "start_time": "2023-09-21T23:11:42.194Z"
      },
      {
        "duration": 9,
        "start_time": "2023-09-21T23:11:42.638Z"
      },
      {
        "duration": 9,
        "start_time": "2023-09-21T23:11:44.920Z"
      },
      {
        "duration": 1293,
        "start_time": "2023-09-21T23:11:58.396Z"
      },
      {
        "duration": 3,
        "start_time": "2023-09-21T23:11:59.690Z"
      },
      {
        "duration": 434,
        "start_time": "2023-09-21T23:11:59.694Z"
      },
      {
        "duration": 18,
        "start_time": "2023-09-21T23:12:00.130Z"
      },
      {
        "duration": 58,
        "start_time": "2023-09-21T23:12:00.151Z"
      },
      {
        "duration": 91,
        "start_time": "2023-09-21T23:12:00.211Z"
      },
      {
        "duration": 110,
        "start_time": "2023-09-21T23:12:00.304Z"
      },
      {
        "duration": 20,
        "start_time": "2023-09-21T23:12:00.416Z"
      },
      {
        "duration": 996,
        "start_time": "2023-09-21T23:12:00.437Z"
      },
      {
        "duration": 4,
        "start_time": "2023-09-21T23:12:01.435Z"
      },
      {
        "duration": 316,
        "start_time": "2023-09-21T23:12:01.440Z"
      },
      {
        "duration": 7,
        "start_time": "2023-09-21T23:12:01.757Z"
      },
      {
        "duration": 208,
        "start_time": "2023-09-21T23:12:01.766Z"
      },
      {
        "duration": 139,
        "start_time": "2023-09-21T23:12:01.977Z"
      },
      {
        "duration": 62,
        "start_time": "2023-09-21T23:12:02.118Z"
      },
      {
        "duration": 60,
        "start_time": "2023-09-21T23:12:02.182Z"
      },
      {
        "duration": 52,
        "start_time": "2023-09-21T23:12:02.244Z"
      },
      {
        "duration": 15,
        "start_time": "2023-09-21T23:12:02.299Z"
      },
      {
        "duration": 161,
        "start_time": "2023-09-21T23:12:02.316Z"
      },
      {
        "duration": 0,
        "start_time": "2023-09-21T23:12:02.478Z"
      },
      {
        "duration": 11,
        "start_time": "2023-09-21T23:12:19.860Z"
      },
      {
        "duration": 4628,
        "start_time": "2023-09-21T23:12:42.810Z"
      },
      {
        "duration": 26,
        "start_time": "2023-09-21T23:12:47.440Z"
      },
      {
        "duration": 11,
        "start_time": "2023-09-21T23:13:11.031Z"
      },
      {
        "duration": 7,
        "start_time": "2023-09-21T23:13:50.616Z"
      },
      {
        "duration": 8,
        "start_time": "2023-09-21T23:13:59.506Z"
      },
      {
        "duration": 4,
        "start_time": "2023-09-21T23:14:56.833Z"
      },
      {
        "duration": 15,
        "start_time": "2023-09-21T23:15:28.086Z"
      },
      {
        "duration": 5,
        "start_time": "2023-09-21T23:15:46.561Z"
      },
      {
        "duration": 4521,
        "start_time": "2023-09-21T23:15:47.910Z"
      },
      {
        "duration": 11,
        "start_time": "2023-09-21T23:16:04.908Z"
      },
      {
        "duration": 7,
        "start_time": "2023-09-21T23:16:26.706Z"
      },
      {
        "duration": 111367,
        "start_time": "2023-09-21T23:22:24.819Z"
      },
      {
        "duration": 102,
        "start_time": "2023-09-21T23:27:43.063Z"
      },
      {
        "duration": 4,
        "start_time": "2023-09-21T23:32:23.340Z"
      },
      {
        "duration": 85,
        "start_time": "2023-09-21T23:32:41.068Z"
      },
      {
        "duration": 205,
        "start_time": "2023-09-21T23:32:58.237Z"
      },
      {
        "duration": 108,
        "start_time": "2023-09-21T23:33:23.921Z"
      },
      {
        "duration": 157,
        "start_time": "2023-09-21T23:33:27.186Z"
      },
      {
        "duration": 9,
        "start_time": "2023-09-21T23:33:44.120Z"
      },
      {
        "duration": 9,
        "start_time": "2023-09-21T23:34:15.194Z"
      },
      {
        "duration": 4,
        "start_time": "2023-09-21T23:34:23.199Z"
      },
      {
        "duration": 1581,
        "start_time": "2023-09-21T23:34:23.638Z"
      },
      {
        "duration": 4167,
        "start_time": "2023-09-21T23:34:39.307Z"
      },
      {
        "duration": 9,
        "start_time": "2023-09-21T23:35:06.754Z"
      },
      {
        "duration": 77,
        "start_time": "2023-09-21T23:37:15.848Z"
      },
      {
        "duration": 9,
        "start_time": "2023-09-21T23:37:22.414Z"
      },
      {
        "duration": 7,
        "start_time": "2023-09-21T23:38:04.965Z"
      },
      {
        "duration": 7,
        "start_time": "2023-09-21T23:38:40.211Z"
      },
      {
        "duration": 8,
        "start_time": "2023-09-21T23:39:30.956Z"
      },
      {
        "duration": 9,
        "start_time": "2023-09-21T23:39:51.039Z"
      },
      {
        "duration": 1348,
        "start_time": "2023-09-22T07:15:36.906Z"
      },
      {
        "duration": 4,
        "start_time": "2023-09-22T07:15:38.256Z"
      },
      {
        "duration": 931,
        "start_time": "2023-09-22T07:15:38.262Z"
      },
      {
        "duration": 15,
        "start_time": "2023-09-22T07:15:39.196Z"
      },
      {
        "duration": 60,
        "start_time": "2023-09-22T07:15:39.213Z"
      },
      {
        "duration": 101,
        "start_time": "2023-09-22T07:15:39.275Z"
      },
      {
        "duration": 150,
        "start_time": "2023-09-22T07:15:39.378Z"
      },
      {
        "duration": 26,
        "start_time": "2023-09-22T07:15:39.529Z"
      },
      {
        "duration": 1088,
        "start_time": "2023-09-22T07:15:39.557Z"
      },
      {
        "duration": 5,
        "start_time": "2023-09-22T07:15:40.648Z"
      },
      {
        "duration": 358,
        "start_time": "2023-09-22T07:15:40.655Z"
      },
      {
        "duration": 92,
        "start_time": "2023-09-22T07:15:41.016Z"
      },
      {
        "duration": 8,
        "start_time": "2023-09-22T07:15:41.112Z"
      },
      {
        "duration": 93,
        "start_time": "2023-09-22T07:15:41.123Z"
      },
      {
        "duration": 13,
        "start_time": "2023-09-22T07:15:41.218Z"
      },
      {
        "duration": 8,
        "start_time": "2023-09-22T07:15:41.233Z"
      },
      {
        "duration": 19,
        "start_time": "2023-09-22T07:15:41.243Z"
      },
      {
        "duration": 5,
        "start_time": "2023-09-22T07:15:41.264Z"
      },
      {
        "duration": 5062,
        "start_time": "2023-09-22T07:15:41.270Z"
      },
      {
        "duration": 12,
        "start_time": "2023-09-22T07:15:46.334Z"
      },
      {
        "duration": 4,
        "start_time": "2023-09-22T07:15:55.294Z"
      },
      {
        "duration": 5,
        "start_time": "2023-09-22T07:16:00.535Z"
      },
      {
        "duration": 6,
        "start_time": "2023-09-22T07:16:02.642Z"
      },
      {
        "duration": 4336,
        "start_time": "2023-09-22T07:16:03.207Z"
      },
      {
        "duration": 11,
        "start_time": "2023-09-22T07:16:07.545Z"
      },
      {
        "duration": 5,
        "start_time": "2023-09-22T07:16:47.947Z"
      },
      {
        "duration": 4978,
        "start_time": "2023-09-22T07:16:49.364Z"
      },
      {
        "duration": 11,
        "start_time": "2023-09-22T07:16:54.344Z"
      },
      {
        "duration": 1524,
        "start_time": "2023-09-22T21:12:17.429Z"
      },
      {
        "duration": 1336,
        "start_time": "2023-09-22T21:12:53.317Z"
      },
      {
        "duration": 3,
        "start_time": "2023-09-22T21:12:54.655Z"
      },
      {
        "duration": 775,
        "start_time": "2023-09-22T21:12:54.659Z"
      },
      {
        "duration": 14,
        "start_time": "2023-09-22T21:12:55.436Z"
      },
      {
        "duration": 62,
        "start_time": "2023-09-22T21:12:55.451Z"
      },
      {
        "duration": 78,
        "start_time": "2023-09-22T21:12:55.514Z"
      },
      {
        "duration": 109,
        "start_time": "2023-09-22T21:12:55.594Z"
      },
      {
        "duration": 20,
        "start_time": "2023-09-22T21:12:55.704Z"
      },
      {
        "duration": 1017,
        "start_time": "2023-09-22T21:12:55.726Z"
      },
      {
        "duration": 6,
        "start_time": "2023-09-22T21:12:56.745Z"
      },
      {
        "duration": 308,
        "start_time": "2023-09-22T21:12:56.752Z"
      },
      {
        "duration": 87,
        "start_time": "2023-09-22T21:12:57.063Z"
      },
      {
        "duration": 102,
        "start_time": "2023-09-22T21:12:57.155Z"
      },
      {
        "duration": 12,
        "start_time": "2023-09-22T21:12:57.259Z"
      },
      {
        "duration": 11,
        "start_time": "2023-09-22T21:12:57.272Z"
      },
      {
        "duration": 9,
        "start_time": "2023-09-22T21:12:57.285Z"
      },
      {
        "duration": 36,
        "start_time": "2023-09-22T21:12:57.295Z"
      },
      {
        "duration": 6,
        "start_time": "2023-09-22T21:12:57.332Z"
      },
      {
        "duration": 3784,
        "start_time": "2023-09-22T21:12:57.339Z"
      },
      {
        "duration": 9,
        "start_time": "2023-09-22T21:13:01.125Z"
      },
      {
        "duration": 95,
        "start_time": "2023-09-22T21:19:20.291Z"
      },
      {
        "duration": 1411,
        "start_time": "2023-09-22T21:19:30.752Z"
      },
      {
        "duration": 0,
        "start_time": "2023-09-22T21:19:32.165Z"
      },
      {
        "duration": 0,
        "start_time": "2023-09-22T21:19:32.166Z"
      },
      {
        "duration": 0,
        "start_time": "2023-09-22T21:19:32.168Z"
      },
      {
        "duration": 0,
        "start_time": "2023-09-22T21:19:32.170Z"
      },
      {
        "duration": 0,
        "start_time": "2023-09-22T21:19:32.170Z"
      },
      {
        "duration": 10,
        "start_time": "2023-09-22T21:19:32.269Z"
      },
      {
        "duration": 8,
        "start_time": "2023-09-22T21:19:32.506Z"
      },
      {
        "duration": 9,
        "start_time": "2023-09-22T21:19:32.711Z"
      },
      {
        "duration": 8,
        "start_time": "2023-09-22T21:19:34.695Z"
      },
      {
        "duration": 10,
        "start_time": "2023-09-22T21:19:41.026Z"
      },
      {
        "duration": 3,
        "start_time": "2023-09-22T21:19:42.182Z"
      },
      {
        "duration": 369,
        "start_time": "2023-09-22T21:19:43.391Z"
      },
      {
        "duration": 13,
        "start_time": "2023-09-22T21:19:43.805Z"
      },
      {
        "duration": 35,
        "start_time": "2023-09-22T21:19:44.549Z"
      },
      {
        "duration": 79,
        "start_time": "2023-09-22T21:19:44.797Z"
      },
      {
        "duration": 119,
        "start_time": "2023-09-22T21:19:44.974Z"
      },
      {
        "duration": 20,
        "start_time": "2023-09-22T21:19:45.167Z"
      },
      {
        "duration": 1032,
        "start_time": "2023-09-22T21:19:45.617Z"
      },
      {
        "duration": 9,
        "start_time": "2023-09-22T21:19:46.651Z"
      },
      {
        "duration": 9,
        "start_time": "2023-09-22T21:19:49.514Z"
      },
      {
        "duration": 1195,
        "start_time": "2023-09-22T21:20:56.613Z"
      },
      {
        "duration": 14760,
        "start_time": "2023-09-22T21:21:24.360Z"
      },
      {
        "duration": 933,
        "start_time": "2023-09-22T21:21:39.123Z"
      },
      {
        "duration": 2,
        "start_time": "2023-09-22T21:21:40.058Z"
      },
      {
        "duration": 419,
        "start_time": "2023-09-22T21:21:40.062Z"
      },
      {
        "duration": 13,
        "start_time": "2023-09-22T21:21:40.483Z"
      },
      {
        "duration": 48,
        "start_time": "2023-09-22T21:21:40.499Z"
      },
      {
        "duration": 81,
        "start_time": "2023-09-22T21:21:40.549Z"
      },
      {
        "duration": 122,
        "start_time": "2023-09-22T21:21:40.631Z"
      },
      {
        "duration": 20,
        "start_time": "2023-09-22T21:21:40.754Z"
      },
      {
        "duration": 1130,
        "start_time": "2023-09-22T21:21:40.776Z"
      },
      {
        "duration": 60422,
        "start_time": "2023-09-22T21:21:50.251Z"
      },
      {
        "duration": 189,
        "start_time": "2023-09-22T21:24:47.983Z"
      },
      {
        "duration": 5428,
        "start_time": "2023-09-22T21:25:00.073Z"
      },
      {
        "duration": 2234,
        "start_time": "2023-09-22T21:27:09.987Z"
      },
      {
        "duration": 1865,
        "start_time": "2023-09-22T21:27:12.223Z"
      },
      {
        "duration": 3,
        "start_time": "2023-09-22T21:27:14.089Z"
      },
      {
        "duration": 381,
        "start_time": "2023-09-22T21:27:14.093Z"
      },
      {
        "duration": 13,
        "start_time": "2023-09-22T21:27:14.477Z"
      },
      {
        "duration": 33,
        "start_time": "2023-09-22T21:27:14.492Z"
      },
      {
        "duration": 95,
        "start_time": "2023-09-22T21:27:14.527Z"
      },
      {
        "duration": 119,
        "start_time": "2023-09-22T21:27:14.624Z"
      },
      {
        "duration": 24,
        "start_time": "2023-09-22T21:27:14.750Z"
      },
      {
        "duration": 1056,
        "start_time": "2023-09-22T21:27:14.775Z"
      },
      {
        "duration": 60428,
        "start_time": "2023-09-22T21:27:15.832Z"
      },
      {
        "duration": 4,
        "start_time": "2023-09-22T21:28:16.261Z"
      },
      {
        "duration": 383,
        "start_time": "2023-09-22T21:28:16.267Z"
      },
      {
        "duration": 96,
        "start_time": "2023-09-22T21:28:16.655Z"
      },
      {
        "duration": 4,
        "start_time": "2023-09-22T21:28:16.753Z"
      },
      {
        "duration": 12,
        "start_time": "2023-09-22T21:28:16.758Z"
      },
      {
        "duration": 27,
        "start_time": "2023-09-22T21:28:16.771Z"
      },
      {
        "duration": 50,
        "start_time": "2023-09-22T21:28:16.800Z"
      },
      {
        "duration": 21,
        "start_time": "2023-09-22T21:28:16.851Z"
      },
      {
        "duration": 4,
        "start_time": "2023-09-22T21:28:16.874Z"
      },
      {
        "duration": 4107,
        "start_time": "2023-09-22T21:28:16.879Z"
      },
      {
        "duration": 9,
        "start_time": "2023-09-22T21:28:20.988Z"
      },
      {
        "duration": 16144,
        "start_time": "2023-09-26T06:58:53.363Z"
      },
      {
        "duration": 3568,
        "start_time": "2023-09-26T06:59:09.510Z"
      },
      {
        "duration": 3,
        "start_time": "2023-09-26T06:59:13.079Z"
      },
      {
        "duration": 820,
        "start_time": "2023-09-26T06:59:13.084Z"
      },
      {
        "duration": 12,
        "start_time": "2023-09-26T06:59:13.906Z"
      },
      {
        "duration": 36,
        "start_time": "2023-09-26T06:59:13.920Z"
      },
      {
        "duration": 94,
        "start_time": "2023-09-26T06:59:13.958Z"
      },
      {
        "duration": 126,
        "start_time": "2023-09-26T06:59:14.053Z"
      },
      {
        "duration": 22,
        "start_time": "2023-09-26T06:59:14.181Z"
      },
      {
        "duration": 1132,
        "start_time": "2023-09-26T06:59:14.205Z"
      },
      {
        "duration": 65410,
        "start_time": "2023-09-26T06:59:15.339Z"
      }
    ],
    "toc": {
      "base_numbering": 1,
      "nav_menu": {},
      "number_sections": true,
      "sideBar": true,
      "skip_h1_title": true,
      "title_cell": "Table of Contents",
      "title_sidebar": "Contents",
      "toc_cell": false,
      "toc_position": {},
      "toc_section_display": true,
      "toc_window_display": false
    },
    "kernelspec": {
      "name": "python",
      "display_name": "Python (Pyodide)",
      "language": "python"
    },
    "language_info": {
      "codemirror_mode": {
        "name": "python",
        "version": 3
      },
      "file_extension": ".py",
      "mimetype": "text/x-python",
      "name": "python",
      "nbconvert_exporter": "python",
      "pygments_lexer": "ipython3",
      "version": "3.8"
    }
  },
  "nbformat_minor": 4,
  "nbformat": 4,
  "cells": [
    {
      "cell_type": "markdown",
      "source": "# Выбор локации для скважины",
      "metadata": {}
    },
    {
      "cell_type": "markdown",
      "source": "Допустим, вы работаете в добывающей компании «ГлавРосГосНефть». Нужно решить, где бурить новую скважину.\n\nВам предоставлены пробы нефти в трёх регионах: в каждом 10 000 месторождений, где измерили качество нефти и объём её запасов. Постройте модель машинного обучения, которая поможет определить регион, где добыча принесёт наибольшую прибыль. Проанализируйте возможную прибыль и риски техникой *Bootstrap.*\n\nШаги для выбора локации:\n\n- В избранном регионе ищут месторождения, для каждого определяют значения признаков;\n- Строят модель и оценивают объём запасов;\n- Выбирают месторождения с самым высокими оценками значений. Количество месторождений зависит от бюджета компании и стоимости разработки одной скважины;\n- Прибыль равна суммарной прибыли отобранных месторождений.",
      "metadata": {}
    },
    {
      "cell_type": "markdown",
      "source": "# Описание данных",
      "metadata": {}
    },
    {
      "cell_type": "markdown",
      "source": "Данные геологоразведки трёх регионов находятся в файлах: \n\n/datasets/geo_data_0.csv\n\n/datasets/geo_data_1.csv\n\n/datasets/geo_data_2.csv\n\n**id** — уникальный идентификатор скважины;\n\n**f0, f1, f2** — три признака точек (неважно, что они означают, но сами признаки значимы);\nproduct — объём запасов в скважине (тыс. баррелей).",
      "metadata": {}
    },
    {
      "cell_type": "markdown",
      "source": "## Загрузка и подготовка данных",
      "metadata": {}
    },
    {
      "cell_type": "code",
      "source": "pip install pandas-profiling",
      "metadata": {},
      "execution_count": 1,
      "outputs": [
        {
          "name": "stdout",
          "output_type": "stream",
          "text": "Collecting pandas-profiling\n\n  Downloading pandas_profiling-3.6.6-py2.py3-none-any.whl (324 kB)\n\n\u001b[K     |████████████████████████████████| 324 kB 1.1 MB/s eta 0:00:01     |███████                         | 71 kB 1.2 MB/s eta 0:00:01\n\n\u001b[?25hCollecting ydata-profiling\n\n  Downloading ydata_profiling-4.5.1-py2.py3-none-any.whl (357 kB)\n\n\u001b[K     |████████████████████████████████| 357 kB 18.6 MB/s eta 0:00:01\n\n\u001b[?25hCollecting imagehash==4.3.1\n\n  Downloading ImageHash-4.3.1-py2.py3-none-any.whl (296 kB)\n\n\u001b[K     |████████████████████████████████| 296 kB 19.2 MB/s eta 0:00:01\n\n\u001b[?25hRequirement already satisfied: tqdm<5,>=4.48.2 in /opt/conda/lib/python3.9/site-packages (from ydata-profiling->pandas-profiling) (4.61.2)\n\nRequirement already satisfied: pandas!=1.4.0,<2.1,>1.1 in /opt/conda/lib/python3.9/site-packages (from ydata-profiling->pandas-profiling) (1.2.4)\n\nCollecting dacite>=1.8\n\n  Downloading dacite-1.8.1-py3-none-any.whl (14 kB)\n\nCollecting wordcloud>=1.9.1\n\n  Downloading wordcloud-1.9.2-cp39-cp39-manylinux_2_17_x86_64.manylinux2014_x86_64.whl (460 kB)\n\n\u001b[K     |████████████████████████████████| 460 kB 44.8 MB/s eta 0:00:01\n\n\u001b[?25hRequirement already satisfied: numpy<1.24,>=1.16.0 in /opt/conda/lib/python3.9/site-packages (from ydata-profiling->pandas-profiling) (1.21.1)\n\nCollecting phik<0.13,>=0.11.1\n\n  Downloading phik-0.12.3-cp39-cp39-manylinux_2_17_x86_64.manylinux2014_x86_64.whl (679 kB)\n\n\u001b[K     |████████████████████████████████| 679 kB 76.0 MB/s eta 0:00:01\n\n\u001b[?25hRequirement already satisfied: scipy<1.12,>=1.4.1 in /opt/conda/lib/python3.9/site-packages (from ydata-profiling->pandas-profiling) (1.9.1)\n\nCollecting multimethod<2,>=1.4\n\n  Downloading multimethod-1.10-py3-none-any.whl (9.9 kB)\n\nRequirement already satisfied: requests<3,>=2.24.0 in /opt/conda/lib/python3.9/site-packages (from ydata-profiling->pandas-profiling) (2.25.1)\n\nRequirement already satisfied: statsmodels<1,>=0.13.2 in /opt/conda/lib/python3.9/site-packages (from ydata-profiling->pandas-profiling) (0.13.2)\n\nRequirement already satisfied: pydantic<2,>=1.8.1 in /opt/conda/lib/python3.9/site-packages (from ydata-profiling->pandas-profiling) (1.8.2)\n\nRequirement already satisfied: matplotlib<4,>=3.2 in /opt/conda/lib/python3.9/site-packages (from ydata-profiling->pandas-profiling) (3.3.4)\n\nRequirement already satisfied: jinja2<3.2,>=2.11.1 in /opt/conda/lib/python3.9/site-packages (from ydata-profiling->pandas-profiling) (3.0.1)\n\nCollecting visions[type_image_path]==0.7.5\n\n  Downloading visions-0.7.5-py3-none-any.whl (102 kB)\n\n\u001b[K     |████████████████████████████████| 102 kB 70.1 MB/s eta 0:00:01\n\n\u001b[?25hRequirement already satisfied: PyYAML<6.1,>=5.0.0 in /opt/conda/lib/python3.9/site-packages (from ydata-profiling->pandas-profiling) (6.0)\n\nRequirement already satisfied: seaborn<0.13,>=0.10.1 in /opt/conda/lib/python3.9/site-packages (from ydata-profiling->pandas-profiling) (0.11.1)\n\nCollecting htmlmin==0.1.12\n\n  Downloading htmlmin-0.1.12.tar.gz (19 kB)\n\nCollecting typeguard<3,>=2.13.2\n\n  Downloading typeguard-2.13.3-py3-none-any.whl (17 kB)\n\nRequirement already satisfied: pillow in /opt/conda/lib/python3.9/site-packages (from imagehash==4.3.1->ydata-profiling->pandas-profiling) (8.4.0)\n\nCollecting PyWavelets\n\n  Downloading PyWavelets-1.4.1-cp39-cp39-manylinux_2_17_x86_64.manylinux2014_x86_64.whl (6.9 MB)\n\n\u001b[K     |████████████████████████████████| 6.9 MB 78.4 MB/s eta 0:00:01\n\n\u001b[?25hCollecting networkx>=2.4\n\n  Downloading networkx-3.1-py3-none-any.whl (2.1 MB)\n\n\u001b[K     |████████████████████████████████| 2.1 MB 52.2 MB/s eta 0:00:01\n\n\u001b[?25hRequirement already satisfied: attrs>=19.3.0 in /opt/conda/lib/python3.9/site-packages (from visions[type_image_path]==0.7.5->ydata-profiling->pandas-profiling) (21.2.0)\n\nCollecting tangled-up-in-unicode>=0.0.4\n\n  Downloading tangled_up_in_unicode-0.2.0-py3-none-any.whl (4.7 MB)\n\n\u001b[K     |████████████████████████████████| 4.7 MB 45.9 MB/s eta 0:00:01\n\n\u001b[?25hRequirement already satisfied: MarkupSafe>=2.0 in /opt/conda/lib/python3.9/site-packages (from jinja2<3.2,>=2.11.1->ydata-profiling->pandas-profiling) (2.1.1)\n\nRequirement already satisfied: pyparsing!=2.0.4,!=2.1.2,!=2.1.6,>=2.0.3 in /opt/conda/lib/python3.9/site-packages (from matplotlib<4,>=3.2->ydata-profiling->pandas-profiling) (2.4.7)\n\nRequirement already satisfied: cycler>=0.10 in /opt/conda/lib/python3.9/site-packages (from matplotlib<4,>=3.2->ydata-profiling->pandas-profiling) (0.11.0)\n\nRequirement already satisfied: python-dateutil>=2.1 in /opt/conda/lib/python3.9/site-packages (from matplotlib<4,>=3.2->ydata-profiling->pandas-profiling) (2.8.1)\n\nRequirement already satisfied: kiwisolver>=1.0.1 in /opt/conda/lib/python3.9/site-packages (from matplotlib<4,>=3.2->ydata-profiling->pandas-profiling) (1.4.4)\n\nRequirement already satisfied: pytz>=2017.3 in /opt/conda/lib/python3.9/site-packages (from pandas!=1.4.0,<2.1,>1.1->ydata-profiling->pandas-profiling) (2021.1)\n\nRequirement already satisfied: joblib>=0.14.1 in /opt/conda/lib/python3.9/site-packages (from phik<0.13,>=0.11.1->ydata-profiling->pandas-profiling) (1.1.0)\n\nRequirement already satisfied: typing-extensions>=3.7.4.3 in /opt/conda/lib/python3.9/site-packages (from pydantic<2,>=1.8.1->ydata-profiling->pandas-profiling) (4.3.0)\n\nRequirement already satisfied: six>=1.5 in /opt/conda/lib/python3.9/site-packages (from python-dateutil>=2.1->matplotlib<4,>=3.2->ydata-profiling->pandas-profiling) (1.16.0)\n\nRequirement already satisfied: chardet<5,>=3.0.2 in /opt/conda/lib/python3.9/site-packages (from requests<3,>=2.24.0->ydata-profiling->pandas-profiling) (4.0.0)\n\nRequirement already satisfied: urllib3<1.27,>=1.21.1 in /opt/conda/lib/python3.9/site-packages (from requests<3,>=2.24.0->ydata-profiling->pandas-profiling) (1.26.6)\n\nRequirement already satisfied: idna<3,>=2.5 in /opt/conda/lib/python3.9/site-packages (from requests<3,>=2.24.0->ydata-profiling->pandas-profiling) (2.10)\n\nRequirement already satisfied: certifi>=2017.4.17 in /opt/conda/lib/python3.9/site-packages (from requests<3,>=2.24.0->ydata-profiling->pandas-profiling) (2022.6.15)\n\nRequirement already satisfied: patsy>=0.5.2 in /opt/conda/lib/python3.9/site-packages (from statsmodels<1,>=0.13.2->ydata-profiling->pandas-profiling) (0.5.2)\n\nRequirement already satisfied: packaging>=21.3 in /opt/conda/lib/python3.9/site-packages (from statsmodels<1,>=0.13.2->ydata-profiling->pandas-profiling) (21.3)\n\nBuilding wheels for collected packages: htmlmin\n\n  Building wheel for htmlmin (setup.py) ... \u001b[?25ldone\n\n\u001b[?25h  Created wheel for htmlmin: filename=htmlmin-0.1.12-py3-none-any.whl size=27085 sha256=cf0b49bf725de0199febbfde7a71671c863e8bb22190ea1300a12d06485a6a54\n\n  Stored in directory: /home/jovyan/.cache/pip/wheels/1d/05/04/c6d7d3b66539d9e659ac6dfe81e2d0fd4c1a8316cc5a403300\n\nSuccessfully built htmlmin\n\nInstalling collected packages: tangled-up-in-unicode, PyWavelets, networkx, multimethod, visions, imagehash, wordcloud, typeguard, phik, htmlmin, dacite, ydata-profiling, pandas-profiling\n\nSuccessfully installed PyWavelets-1.4.1 dacite-1.8.1 htmlmin-0.1.12 imagehash-4.3.1 multimethod-1.10 networkx-3.1 pandas-profiling-3.6.6 phik-0.12.3 tangled-up-in-unicode-0.2.0 typeguard-2.13.3 visions-0.7.5 wordcloud-1.9.2 ydata-profiling-4.5.1\n\nNote: you may need to restart the kernel to use updated packages.\n"
        }
      ]
    },
    {
      "cell_type": "code",
      "source": "import pandas as pd\nimport numpy as np\nimport matplotlib.pyplot as plt\nimport seaborn as sns\nimport pandas_profiling\n\nfrom sklearn.model_selection import train_test_split\nfrom sklearn.linear_model import LinearRegression\nfrom sklearn.metrics import mean_squared_error\n\nfrom numpy.random import RandomState\n\nstate = RandomState(12345)",
      "metadata": {},
      "execution_count": 2,
      "outputs": [
        {
          "name": "stderr",
          "output_type": "stream",
          "text": "/tmp/ipykernel_31/516511747.py:5: DeprecationWarning: `import pandas_profiling` is going to be deprecated by April 1st. Please use `import ydata_profiling` instead.\n\n  import pandas_profiling\n"
        }
      ]
    },
    {
      "cell_type": "code",
      "source": "total_points = 500\nselected_points = 200\nbudget = 10000000000\nbarrel_price = 450\nrevenue_per_unit = 450000\nmax_loss_probability = 0.025",
      "metadata": {},
      "execution_count": 3,
      "outputs": []
    },
    {
      "cell_type": "code",
      "source": "#Загрузка первого датасета\ndf0 = pd.read_csv('/datasets/geo_data_0.csv')\n#Загрузка второго датасета\ndf1 = pd.read_csv('/datasets/geo_data_1.csv')\n#Загрузка третьего датасета\ndf2 = pd.read_csv('/datasets/geo_data_2.csv')",
      "metadata": {},
      "execution_count": 4,
      "outputs": []
    },
    {
      "cell_type": "code",
      "source": "print('Первые пять строк первого датасета:\\n', df0.head(5))\nprint('\\nПервые пять строк второго датасета:\\n', df1.head(5))\nprint('\\nПервые пять строк третьего датасета:\\n', df2.head(5))",
      "metadata": {},
      "execution_count": 5,
      "outputs": [
        {
          "name": "stdout",
          "output_type": "stream",
          "text": "Первые пять строк первого датасета:\n\n       id        f0        f1        f2     product\n\n0  txEyH  0.705745 -0.497823  1.221170  105.280062\n\n1  2acmU  1.334711 -0.340164  4.365080   73.037750\n\n2  409Wp  1.022732  0.151990  1.419926   85.265647\n\n3  iJLyR -0.032172  0.139033  2.978566  168.620776\n\n4  Xdl7t  1.988431  0.155413  4.751769  154.036647\n\n\n\nПервые пять строк второго датасета:\n\n       id         f0         f1        f2     product\n\n0  kBEdx -15.001348  -8.276000 -0.005876    3.179103\n\n1  62mP7  14.272088  -3.475083  0.999183   26.953261\n\n2  vyE1P   6.263187  -5.948386  5.001160  134.766305\n\n3  KcrkZ -13.081196 -11.506057  4.999415  137.945408\n\n4  AHL4O  12.702195  -8.147433  5.004363  134.766305\n\n\n\nПервые пять строк третьего датасета:\n\n       id        f0        f1        f2     product\n\n0  fwXo0 -1.146987  0.963328 -0.828965   27.758673\n\n1  WJtFt  0.262778  0.269839 -2.530187   56.069697\n\n2  ovLUW  0.194587  0.289035 -5.586433   62.871910\n\n3  q6cA6  2.236060 -0.553760  0.930038  114.572842\n\n4  WPMUX -0.515993  1.716266  5.899011  149.600746\n"
        }
      ]
    },
    {
      "cell_type": "code",
      "source": "print(df0.info())\nprint()\nprint(df1.info())\nprint()\nprint(df2.info())",
      "metadata": {},
      "execution_count": 6,
      "outputs": [
        {
          "name": "stdout",
          "output_type": "stream",
          "text": "<class 'pandas.core.frame.DataFrame'>\n\nRangeIndex: 100000 entries, 0 to 99999\n\nData columns (total 5 columns):\n\n #   Column   Non-Null Count   Dtype  \n\n---  ------   --------------   -----  \n\n 0   id       100000 non-null  object \n\n 1   f0       100000 non-null  float64\n\n 2   f1       100000 non-null  float64\n\n 3   f2       100000 non-null  float64\n\n 4   product  100000 non-null  float64\n\ndtypes: float64(4), object(1)\n\nmemory usage: 3.8+ MB\n\nNone\n\n\n\n<class 'pandas.core.frame.DataFrame'>\n\nRangeIndex: 100000 entries, 0 to 99999\n\nData columns (total 5 columns):\n\n #   Column   Non-Null Count   Dtype  \n\n---  ------   --------------   -----  \n\n 0   id       100000 non-null  object \n\n 1   f0       100000 non-null  float64\n\n 2   f1       100000 non-null  float64\n\n 3   f2       100000 non-null  float64\n\n 4   product  100000 non-null  float64\n\ndtypes: float64(4), object(1)\n\nmemory usage: 3.8+ MB\n\nNone\n\n\n\n<class 'pandas.core.frame.DataFrame'>\n\nRangeIndex: 100000 entries, 0 to 99999\n\nData columns (total 5 columns):\n\n #   Column   Non-Null Count   Dtype  \n\n---  ------   --------------   -----  \n\n 0   id       100000 non-null  object \n\n 1   f0       100000 non-null  float64\n\n 2   f1       100000 non-null  float64\n\n 3   f2       100000 non-null  float64\n\n 4   product  100000 non-null  float64\n\ndtypes: float64(4), object(1)\n\nmemory usage: 3.8+ MB\n\nNone\n"
        }
      ]
    },
    {
      "cell_type": "code",
      "source": "print(df0.describe())\nprint()\nprint(df1.describe())\nprint()\nprint(df2.describe())",
      "metadata": {},
      "execution_count": 7,
      "outputs": [
        {
          "name": "stdout",
          "output_type": "stream",
          "text": "                  f0             f1             f2        product\n\ncount  100000.000000  100000.000000  100000.000000  100000.000000\n\nmean        0.500419       0.250143       2.502647      92.500000\n\nstd         0.871832       0.504433       3.248248      44.288691\n\nmin        -1.408605      -0.848218     -12.088328       0.000000\n\n25%        -0.072580      -0.200881       0.287748      56.497507\n\n50%         0.502360       0.250252       2.515969      91.849972\n\n75%         1.073581       0.700646       4.715088     128.564089\n\nmax         2.362331       1.343769      16.003790     185.364347\n\n\n\n                  f0             f1             f2        product\n\ncount  100000.000000  100000.000000  100000.000000  100000.000000\n\nmean        1.141296      -4.796579       2.494541      68.825000\n\nstd         8.965932       5.119872       1.703572      45.944423\n\nmin       -31.609576     -26.358598      -0.018144       0.000000\n\n25%        -6.298551      -8.267985       1.000021      26.953261\n\n50%         1.153055      -4.813172       2.011479      57.085625\n\n75%         8.621015      -1.332816       3.999904     107.813044\n\nmax        29.421755      18.734063       5.019721     137.945408\n\n\n\n                  f0             f1             f2        product\n\ncount  100000.000000  100000.000000  100000.000000  100000.000000\n\nmean        0.002023      -0.002081       2.495128      95.000000\n\nstd         1.732045       1.730417       3.473445      44.749921\n\nmin        -8.760004      -7.084020     -11.970335       0.000000\n\n25%        -1.162288      -1.174820       0.130359      59.450441\n\n50%         0.009424      -0.009482       2.484236      94.925613\n\n75%         1.158535       1.163678       4.858794     130.595027\n\nmax         7.238262       7.844801      16.739402     190.029838\n"
        }
      ]
    },
    {
      "cell_type": "code",
      "source": "print('Количество дубликатов датасетах:')\nprint(df0.duplicated().sum())\nprint(df1.duplicated().sum())\nprint(df2.duplicated().sum())",
      "metadata": {},
      "execution_count": 8,
      "outputs": [
        {
          "name": "stdout",
          "output_type": "stream",
          "text": "Количество дубликатов датасетах:\n\n0\n\n0\n\n0\n"
        }
      ]
    },
    {
      "cell_type": "code",
      "source": "print('Количество пропусков в датасетах:')\nprint(df0.isna().sum())\nprint(df1.isna().sum())\nprint(df2.isna().sum())",
      "metadata": {},
      "execution_count": 9,
      "outputs": [
        {
          "name": "stdout",
          "output_type": "stream",
          "text": "Количество пропусков в датасетах:\n\nid         0\n\nf0         0\n\nf1         0\n\nf2         0\n\nproduct    0\n\ndtype: int64\n\nid         0\n\nf0         0\n\nf1         0\n\nf2         0\n\nproduct    0\n\ndtype: int64\n\nid         0\n\nf0         0\n\nf1         0\n\nf2         0\n\nproduct    0\n\ndtype: int64\n"
        }
      ]
    },
    {
      "cell_type": "code",
      "source": "#Матрица корреляций для df0\ncorrelation_matrix_df0 = df0.corr()\n\n#Матрица корреляций для df1\ncorrelation_matrix_df1 = df1.corr()\n\n#Матрица корреляций для df2\ncorrelation_matrix_df2 = df2.corr()\n\n#Создание тепловых карт (heatmap) для матриц корреляций\nplt.figure(figsize=(12, 4))\n\nplt.subplot(131)\nsns.heatmap(correlation_matrix_df0, annot=True, cmap=\"coolwarm\", fmt=\".2f\")\nplt.title('Матрица корреляций для df0')\n\nplt.subplot(132)\nsns.heatmap(correlation_matrix_df1, annot=True, cmap=\"coolwarm\", fmt=\".2f\")\nplt.title('Матрица корреляций для df1')\n\nplt.subplot(133)\nsns.heatmap(correlation_matrix_df2, annot=True, cmap=\"coolwarm\", fmt=\".2f\")\nplt.title('Матрица корреляций для df2')\n\nplt.tight_layout()\nplt.show()",
      "metadata": {},
      "execution_count": 10,
      "outputs": [
        {
          "output_type": "display_data",
          "data": {
            "image/png": "[encoded data removed]",
            "text/plain": [
              "<Figure size 864x288 with 6 Axes>"
            ]
          },
          "metadata": {
            "needs_background": "light"
          }
        }
      ]
    },
    {
      "cell_type": "code",
      "source": "#Создание отчета для df0\nprofile_df0 = pandas_profiling.ProfileReport(df0)\nprofile_df0.to_widgets()\n\n#Создание отчета для df1\nprofile_df1 = pandas_profiling.ProfileReport(df1)\nprofile_df1.to_widgets()\n\n#Создание отчета для df2\nprofile_df2 = pandas_profiling.ProfileReport(df2)\nprofile_df2.to_widgets()",
      "metadata": {},
      "execution_count": 11,
      "outputs": [
        {
          "output_type": "display_data",
          "data": {
            "application/vnd.jupyter.widget-view+json": {
              "model_id": "5a0ed13c3b2d47ee81153a8920bf950e",
              "version_major": 2,
              "version_minor": 0
            },
            "text/plain": [
              "Summarize dataset:   0%|          | 0/5 [00:00<?, ?it/s]"
            ]
          },
          "metadata": {}
        },
        {
          "output_type": "display_data",
          "data": {
            "application/vnd.jupyter.widget-view+json": {
              "model_id": "d86a4961e6c544b5a0825e309324502f",
              "version_major": 2,
              "version_minor": 0
            },
            "text/plain": [
              "Generate report structure:   0%|          | 0/1 [00:00<?, ?it/s]"
            ]
          },
          "metadata": {}
        },
        {
          "output_type": "display_data",
          "data": {
            "application/vnd.jupyter.widget-view+json": {
              "model_id": "",
              "version_major": 2,
              "version_minor": 0
            },
            "text/plain": [
              "Render widgets:   0%|          | 0/1 [00:00<?, ?it/s]"
            ]
          },
          "metadata": {}
        },
        {
          "output_type": "display_data",
          "data": {
            "application/vnd.jupyter.widget-view+json": {
              "model_id": "50ae3799104b4645a343078f2f949d74",
              "version_major": 2,
              "version_minor": 0
            },
            "text/plain": [
              "VBox(children=(Tab(children=(Tab(children=(GridBox(children=(VBox(children=(GridspecLayout(children=(HTML(valu…"
            ]
          },
          "metadata": {}
        },
        {
          "output_type": "display_data",
          "data": {
            "application/vnd.jupyter.widget-view+json": {
              "model_id": "50517821e2574ff3991c0af2ca536eff",
              "version_major": 2,
              "version_minor": 0
            },
            "text/plain": [
              "Summarize dataset:   0%|          | 0/5 [00:00<?, ?it/s]"
            ]
          },
          "metadata": {}
        },
        {
          "output_type": "display_data",
          "data": {
            "application/vnd.jupyter.widget-view+json": {
              "model_id": "5b0b5a444cbe48de99508b3ee592a240",
              "version_major": 2,
              "version_minor": 0
            },
            "text/plain": [
              "Generate report structure:   0%|          | 0/1 [00:00<?, ?it/s]"
            ]
          },
          "metadata": {}
        },
        {
          "output_type": "display_data",
          "data": {
            "application/vnd.jupyter.widget-view+json": {
              "model_id": "",
              "version_major": 2,
              "version_minor": 0
            },
            "text/plain": [
              "Render widgets:   0%|          | 0/1 [00:00<?, ?it/s]"
            ]
          },
          "metadata": {}
        },
        {
          "output_type": "display_data",
          "data": {
            "application/vnd.jupyter.widget-view+json": {
              "model_id": "fa3eed5946554bd69415a0b2875ff89b",
              "version_major": 2,
              "version_minor": 0
            },
            "text/plain": [
              "VBox(children=(Tab(children=(Tab(children=(GridBox(children=(VBox(children=(GridspecLayout(children=(HTML(valu…"
            ]
          },
          "metadata": {}
        },
        {
          "output_type": "display_data",
          "data": {
            "application/vnd.jupyter.widget-view+json": {
              "model_id": "28911e1cfeeb4955a37bea1ea3b266e2",
              "version_major": 2,
              "version_minor": 0
            },
            "text/plain": [
              "Summarize dataset:   0%|          | 0/5 [00:00<?, ?it/s]"
            ]
          },
          "metadata": {}
        },
        {
          "output_type": "display_data",
          "data": {
            "application/vnd.jupyter.widget-view+json": {
              "model_id": "496af12d0daa4efd89e9343ef412b6ab",
              "version_major": 2,
              "version_minor": 0
            },
            "text/plain": [
              "Generate report structure:   0%|          | 0/1 [00:00<?, ?it/s]"
            ]
          },
          "metadata": {}
        },
        {
          "output_type": "display_data",
          "data": {
            "application/vnd.jupyter.widget-view+json": {
              "model_id": "",
              "version_major": 2,
              "version_minor": 0
            },
            "text/plain": [
              "Render widgets:   0%|          | 0/1 [00:00<?, ?it/s]"
            ]
          },
          "metadata": {}
        },
        {
          "output_type": "display_data",
          "data": {
            "application/vnd.jupyter.widget-view+json": {
              "model_id": "de99302425174b2caa422634b09cd422",
              "version_major": 2,
              "version_minor": 0
            },
            "text/plain": [
              "VBox(children=(Tab(children=(Tab(children=(GridBox(children=(VBox(children=(GridspecLayout(children=(HTML(valu…"
            ]
          },
          "metadata": {}
        }
      ]
    },
    {
      "cell_type": "markdown",
      "source": "Исходные данные в каждом датасете составляют 100 000 наблюдений, и они прошли тщательную проверку. \n\nОтметим также отсутствие пропусков и корректные типы данных, что упрощает анализ и обработку данных.\n\nВажно отметить, что в регионах d0 и d1 корреляции между переменными являются слабыми или даже очень слабыми. Однако в регионе d1 наблюдается высокая корреляция между объемом нефти на скважину и одной из координат. Эта высокая корреляция, вероятно, объясняется географическими особенностями месторождения нефти.\n\nВывод: Исходя из представленных данных, можно сделать вывод, что регионы d0 и d1 не обладают сильными линейными зависимостями между переменными, что может потенциально влиять на успешность разработки скважин в этих регионах. В то время как регион d1 имеет интересное явление, связанное с географическими координатами скважин, что может потребовать дополнительных исследований и учета в стратегии разработки.",
      "metadata": {}
    },
    {
      "cell_type": "markdown",
      "source": "## Обучение и проверка модели",
      "metadata": {}
    },
    {
      "cell_type": "markdown",
      "source": " 2.1. Разбейте данные на обучающую и валидационную выборки в соотношении 75:25.\n \n 2.2. Обучите модель и сделайте предсказания на валидационной выборке.\n \n 2.3. Сохраните предсказания и правильные ответы на валидационной выборке.\n \n 2.4. Напечатайте на экране средний запас предсказанного сырья и RMSE модели.",
      "metadata": {}
    },
    {
      "cell_type": "code",
      "source": "def train_and_predict(df):\n    #Выделяем признаки (X) и целевую переменную (y)\n    X = df.drop(['id', 'product'], axis=1)\n    y = df['product']\n    \n    #Разделяем данные на обучающую и валидационную выборки (75% - обучающая, 25% - валидационная)\n    X_train, X_valid, y_train, y_valid = train_test_split(X, y, test_size=0.25, random_state=12345)\n    \n    #Инициализируем модель линейной регрессии\n    model = LinearRegression()\n    #Обучаем модель на обучающей выборке\n    model.fit(X_train, y_train)\n    #Делаем предсказания на валидационной выборке\n    predictions = model.predict(X_valid)\n    \n    #RMSE\n    rmse = mean_squared_error(y_valid, predictions)**0.5\n    \n    predicted_mean = predictions.sum() / len(predictions)\n    \n    return y_valid, predictions, predicted_mean, rmse",
      "metadata": {},
      "execution_count": 12,
      "outputs": []
    },
    {
      "cell_type": "code",
      "source": "y_valid_0, predictions_0, predicted_mean_0, rmse_0 = train_and_predict(df0)\ny_valid_1, predictions_1, predicted_mean_1, rmse_1 = train_and_predict(df1)\ny_valid_2, predictions_2, predicted_mean_2, rmse_2 = train_and_predict(df2)",
      "metadata": {},
      "execution_count": 13,
      "outputs": []
    },
    {
      "cell_type": "code",
      "source": "#Для df0\nprint(\"Регион df0:\")\nprint(\"Средний запас предсказанного сырья:\", predicted_mean_0)\nprint(\"RMSE модели:\", rmse_0)\nprint()\n\n#Для df1\nprint(\"Регион df1:\")\nprint(\"Средний запас предсказанного сырья:\", predicted_mean_1)\nprint(\"RMSE модели:\", rmse_1)\nprint()\n\n#Для df2\nprint(\"Регион df2:\")\nprint(\"Средний запас предсказанного сырья:\", predicted_mean_2)\nprint(\"RMSE модели:\", rmse_2)",
      "metadata": {},
      "execution_count": 14,
      "outputs": [
        {
          "name": "stdout",
          "output_type": "stream",
          "text": "Регион df0:\n\nСредний запас предсказанного сырья: 92.59256778438035\n\nRMSE модели: 37.5794217150813\n\n\n\nРегион df1:\n\nСредний запас предсказанного сырья: 68.728546895446\n\nRMSE модели: 0.893099286775617\n\n\n\nРегион df2:\n\nСредний запас предсказанного сырья: 94.96504596800489\n\nRMSE модели: 40.02970873393434\n"
        }
      ]
    },
    {
      "cell_type": "markdown",
      "source": "Анализ результатов:\n\n1. Регион df0:\n   - Средний запас предсказанного сырья: 92.59 тыс. баррелей.\n   - RMSE модели: 37.58.\n   - RMSE довольно высокий, что может указывать на недостаточную точность модели. Также средний запас предсказанного сырья относительно высок, но это не всегда гарантирует высокую прибыль, так как RMSE достаточно большой.\n\n2. Регион df1:\n   - Средний запас предсказанного сырья: 68.73 тыс. баррелей.\n   - RMSE модели: 0.89.\n   - RMSE в этом регионе очень низкий, что указывает на высокую точность модели. Средний запас предсказанного сырья также ниже, но с учетом низкого RMSE, это может быть более надежным прогнозом.\n\n3. Регион df2:\n   - Средний запас предсказанного сырья: 94.97 тыс. баррелей.\n   - RMSE модели: 40.03.\n   - RMSE в этом регионе также довольно высокий, что указывает на недостаточную точность модели. Средний запас предсказанного сырья высок, но с учетом высокого RMSE, это может быть менее надежным прогнозом.",
      "metadata": {}
    },
    {
      "cell_type": "markdown",
      "source": "## Подготовка к расчёту прибыли",
      "metadata": {}
    },
    {
      "cell_type": "markdown",
      "source": "3.1. Все ключевые значения для расчётов сохраните в отдельных переменных.\n\n3.2. Рассчитайте достаточный объём сырья для безубыточной разработки новой скважины. Сравните полученный объём сырья со средним запасом в каждом регионе. \n",
      "metadata": {}
    },
    {
      "cell_type": "code",
      "source": "#Рассчитываем достаточный объем сырья для безубыточной разработки\neven_volume = budget / (revenue_per_unit * selected_points)\n\n# Выводим информацию\nprint(\"Достаточный объем сырья для безубыточной разработки в регионе df0:\", round(even_volume, 2), \"тыс. баррелей\")",
      "metadata": {},
      "execution_count": 15,
      "outputs": [
        {
          "name": "stdout",
          "output_type": "stream",
          "text": "Достаточный объем сырья для безубыточной разработки в регионе df0: 111.11 тыс. баррелей\n"
        }
      ]
    },
    {
      "cell_type": "code",
      "source": "#Для df0\nprint(\"Средний запас сырья в регионе df0:\", round(predicted_mean_0, 2), \"тыс. баррелей\")\n#Для df1:\nprint(\"Средний запас сырья в регионе df1:\", round(predicted_mean_1, 2), \"тыс. баррелей\")\n#Для df2:\nprint(\"Средний запас сырья в регионе df2:\", round(predicted_mean_2, 2), \"тыс. баррелей\")",
      "metadata": {},
      "execution_count": 16,
      "outputs": [
        {
          "name": "stdout",
          "output_type": "stream",
          "text": "Средний запас сырья в регионе df0: 92.59 тыс. баррелей\n\nСредний запас сырья в регионе df1: 68.73 тыс. баррелей\n\nСредний запас сырья в регионе df2: 94.97 тыс. баррелей\n"
        }
      ]
    },
    {
      "cell_type": "code",
      "source": "#Вычисляем разницу между достаточным объемом и средним запасом сырья для каждого региона\ndifference_df0 = predicted_mean_0 - even_volume\ndifference_df1 = predicted_mean_1 - even_volume\ndifference_df2 = predicted_mean_2 - even_volume\n\n#Выводим результаты\nprint(\"Разница между достаточным объемом и средним запасом сырья в регионе df0:\", round(difference_df0, 2), \"тыс. баррелей\")\nprint(\"Разница между достаточным объемом и средним запасом сырья в регионе df1:\", round(difference_df1, 2), \"тыс. баррелей\")\nprint(\"Разница между достаточным объемом и средним запасом сырья в регионе df2:\", round(difference_df2, 2), \"тыс. баррелей\")",
      "metadata": {},
      "execution_count": 17,
      "outputs": [
        {
          "name": "stdout",
          "output_type": "stream",
          "text": "Разница между достаточным объемом и средним запасом сырья в регионе df0: -18.52 тыс. баррелей\n\nРазница между достаточным объемом и средним запасом сырья в регионе df1: -42.38 тыс. баррелей\n\nРазница между достаточным объемом и средним запасом сырья в регионе df2: -16.15 тыс. баррелей\n"
        }
      ]
    },
    {
      "cell_type": "markdown",
      "source": "С использованием машинного обучения мы провели анализ трех регионов для определения их потенциала в разработке нефтяных скважин. Средний запас сырья в каждом регионе был оценен с помощью моделей машинного обучения. Затем был вычислен достаточный объем сырья, необходимый для безубыточной разработки скважины, учитывая бюджет на разработку скважин и доход с каждой единицы продукта.\n\nРезультаты показывают, что в регионе df1 разница между средним запасом сырья и достаточным объемом наименьшая среди всех регионов, что указывает на потенциал для безубыточной разработки скважин в этом регионе. В регионах df0 и df2 разница между средним запасом и достаточным объемом также негативна, что означает, что средний запас сырья в этих регионах недостаточен для безубыточной разработки скважин.\n\nТаким образом, машинное обучение помогло нам определить регион df1 как потенциально более привлекательный для дальнейшего исследования и разработки скважин, учитывая его близость к безубыточности.\n",
      "metadata": {}
    },
    {
      "cell_type": "markdown",
      "source": "## Расчёт прибыли и рисков ",
      "metadata": {}
    },
    {
      "cell_type": "markdown",
      "source": " 4.1. Выберите скважины с максимальными значениями предсказаний. \n \n 4.2. Просуммируйте целевое значение объёма сырья, соответствующее этим предсказаниям.\n \n 4.3. Рассчитайте прибыль для полученного объёма сырья.",
      "metadata": {}
    },
    {
      "cell_type": "code",
      "source": "#Для df0\ny_valid_0 = y_valid_0.reset_index(drop=True)\npredictions_0 = pd.Series(predictions_0).reset_index(drop=True)\n\n#Для df1\ny_valid_1 = y_valid_1.reset_index(drop=True)\npredictions_1 = pd.Series(predictions_1).reset_index(drop=True)\n\n#Для df2\ny_valid_2 = y_valid_2.reset_index(drop=True)\npredictions_2 = pd.Series(predictions_2).reset_index(drop=True)",
      "metadata": {},
      "execution_count": 18,
      "outputs": []
    },
    {
      "cell_type": "code",
      "source": "def calculate_profit(targets, predicted, count):\n    #Сортируем предсказания в убывающем порядке\n    pred_sorted = pd.Series(predicted).sort_values(ascending=False)\n    \n    selected = targets[pred_sorted.index][:count]\n    \n    #Суммируем целевое значение объема сырья для выбранных скважин\n    total_volume_selected = selected.sum()\n    \n    return total_volume_selected\n\n#Рассчитываем прибыль для каждого региона\nfor i, (y_valid, predictions) in enumerate([(y_valid_0, predictions_0),\n                                            (y_valid_1, predictions_1),\n                                            (y_valid_2, predictions_2)]):\n    selected_volume = calculate_profit(y_valid, predictions, selected_points)\n    profit = selected_volume * revenue_per_unit - budget\n    profit_in_billion = profit / 1e9  # Прибыль в миллиардах рублей\n    print(f\"Прибыль для df {i} - {profit_in_billion:.2f} миллиардов рублей\")",
      "metadata": {},
      "execution_count": 19,
      "outputs": [
        {
          "name": "stdout",
          "output_type": "stream",
          "text": "Прибыль для df 0 - 3.32 миллиардов рублей\n\nПрибыль для df 1 - 2.42 миллиардов рублей\n\nПрибыль для df 2 - 2.71 миллиардов рублей\n"
        }
      ]
    },
    {
      "cell_type": "markdown",
      "source": "## Посчитайте риски и прибыль для каждого региона",
      "metadata": {}
    },
    {
      "cell_type": "markdown",
      "source": "5.1. Примените технику Bootstrap с 1000 выборок, чтобы найти распределение прибыли.\n\n5.2. Найдите среднюю прибыль, 95%-й доверительный интервал и риск убытков. Убыток — это отрицательная прибыль.",
      "metadata": {}
    },
    {
      "cell_type": "code",
      "source": "def profit_and_risks(y_valid, predictions):\n    bootstrap_samples = 1000\n    confidence_interval = 0.95\n    profit_list = []\n    \n    for x in range(bootstrap_samples):\n        pred_subsample = pd.Series(predictions).sample(500, replace=True, random_state=state)\n        targets_subsample = y_valid[pred_subsample.index]\n\n        selected_sum = calculate_profit(targets_subsample, pred_subsample, selected_points)\n        profit = selected_sum * revenue_per_unit - budget\n        profit_list.append(profit)\n\n    profit_list = pd.Series(profit_list)\n\n    mean_profit = profit_list.mean() / 1000000000 \n    lower_bound = profit_list.quantile((1 - confidence_interval) / 2) / 1000000000 \n    upper_bound = profit_list.quantile(1 - (1 - confidence_interval) / 2) / 1000000000 \n    risk_of_losses = (profit_list < 0).mean()\n\n    return mean_profit, lower_bound, upper_bound, risk_of_losses",
      "metadata": {},
      "execution_count": 20,
      "outputs": []
    },
    {
      "cell_type": "code",
      "source": "#Рассчитываем риски и прибыль для каждого региона\nmean_profit_df0, lower_bound_df0, upper_bound_df0, risk_of_losses_df0 = profit_and_risks(\n    y_valid_0, predictions_0)\n\nmean_profit_df1, lower_bound_df1, upper_bound_df1, risk_of_losses_df1 = profit_and_risks(\n    y_valid_1, predictions_1)\n\nmean_profit_df2, lower_bound_df2, upper_bound_df2, risk_of_losses_df2 = profit_and_risks(\n    y_valid_2, predictions_2)",
      "metadata": {},
      "execution_count": 21,
      "outputs": []
    },
    {
      "cell_type": "code",
      "source": "print(\"Регион df0:\")\nprint(\"Средняя прибыль:\", round(mean_profit_df0, 2))\nprint(\"95% доверительный интервал:\", round(lower_bound_df0, 2), \",\", round(upper_bound_df0, 2))\nprint(\"Риск убытков:\", risk_of_losses_df0 * 100, \"%\")\nif risk_of_losses_df0 <= max_loss_probability:\n    print(\"Регион df0 приемлем.\")\nelse:\n    print(\"Регион df0 не приемлем.\")\nprint()\n\nprint(\"Регион df1:\")\nprint(\"Средняя прибыль:\", round(mean_profit_df1, 2))\nprint(\"95% доверительный интервал:\", round(lower_bound_df1, 2), \",\", round(upper_bound_df1, 2))\nprint(\"Риск убытков:\", risk_of_losses_df1 * 100, \"%\")\nif risk_of_losses_df1 <= max_loss_probability:\n    print(\"Регион df1 приемлем.\")\nelse:\n    print(\"Регион df1 не приемлем.\")\nprint()\n\nprint(\"Регион df2:\")\nprint(\"Средняя прибыль:\", round(mean_profit_df2, 2))\nprint(\"95% доверительный интервал:\", round(lower_bound_df2, 2), \",\", round(upper_bound_df2, 2))\nprint(\"Риск убытков:\", risk_of_losses_df2 * 100, \"%\")\nif risk_of_losses_df2 <= max_loss_probability:\n    print(\"Регион df2 приемлем.\")\nelse:\n    print(\"Регион df2 не приемлем.\")",
      "metadata": {},
      "execution_count": 22,
      "outputs": [
        {
          "name": "stdout",
          "output_type": "stream",
          "text": "Регион df0:\n\nСредняя прибыль: 0.43\n\n95% доверительный интервал: -0.1 , 0.95\n\nРиск убытков: 6.0 %\n\nРегион df0 не приемлем.\n\n\n\nРегион df1:\n\nСредняя прибыль: 0.52\n\n95% доверительный интервал: 0.13 , 0.95\n\nРиск убытков: 0.3 %\n\nРегион df1 приемлем.\n\n\n\nРегион df2:\n\nСредняя прибыль: 0.42\n\n95% доверительный интервал: -0.12 , 0.99\n\nРиск убытков: 6.2 %\n\nРегион df2 не приемлем.\n"
        }
      ]
    },
    {
      "cell_type": "markdown",
      "source": "# Вывод",
      "metadata": {}
    },
    {
      "cell_type": "markdown",
      "source": "Регион df0:\n- Средняя прибыль: 0.43\n- 95% доверительный интервал: от -0.1  до 0.95\n- Риск убытков: 6.0%\n- Регион df0 не приемлем для разработки.\n\nРегион df1:\n- Средняя прибыль: 0.52\n- 95% доверительный интервал: от 0.13 до 0.95\n- Риск убытков: 0.3%\n- Регион df1 приемлем для разработки.\n\nРегион df2:\n- Средняя прибыль: 0.42 \n- 95% доверительный интервал: от -0.12 до 0.99\n- Риск убытков: 6.2%\n- Регион df2 не приемлем для разработки.\n\nИз этого вывода следует, что регион df1 является наиболее приемлемым с самой низкой вероятностью убытков (0.3%) и наивысшей средней прибылью (0.52 млрд. рублей). Регионы df0 и df2, напротив, имеют высокий риск убытков (6.0% и 6.2% соответственно) и, следовательно, не рекомендуются для разработки.",
      "metadata": {}
    },
    {
      "cell_type": "markdown",
      "source": "Поставьте 'x' в выполненных пунктах. Далее нажмите Shift+Enter.",
      "metadata": {}
    },
    {
      "cell_type": "markdown",
      "source": "- [x]  Jupyter Notebook открыт\n- [x]  Весь код выполняется без ошибок\n- [x]  Ячейки с кодом расположены в порядке исполнения\n- [x]  Выполнен шаг 1: данные подготовлены\n- [x]  Выполнен шаг 2: модели обучены и проверены\n    - [x]  Данные корректно разбиты на обучающую и валидационную выборки\n    - [x]  Модели обучены, предсказания сделаны\n    - [x]  Предсказания и правильные ответы на валидационной выборке сохранены\n    - [x]  На экране напечатаны результаты\n    - [x]  Сделаны выводы\n- [x]  Выполнен шаг 3: проведена подготовка к расчёту прибыли\n    - [x]  Для всех ключевых значений созданы константы Python\n    - [x]  Посчитано минимальное среднее количество продукта в месторождениях региона, достаточное для разработки\n    - [x]  По предыдущему пункту сделаны выводы\n    - [x]  Написана функция расчёта прибыли\n- [x]  Выполнен шаг 4: посчитаны риски и прибыль\n    - [x]  Проведена процедура *Bootstrap*\n    - [x]  Все параметры бутстрепа соответствуют условию\n    - [x]  Найдены все нужные величины\n    - [x]  Предложен регион для разработки месторождения\n    - [x]  Выбор региона обоснован",
      "metadata": {}
    }
  ]
}