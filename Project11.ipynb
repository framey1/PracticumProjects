{
  "metadata": {
    "ExecuteTimeLog": [
      {
        "duration": 1277,
        "start_time": "2023-11-21T20:56:38.655Z"
      },
      {
        "duration": 30,
        "start_time": "2023-11-21T20:57:03.684Z"
      },
      {
        "duration": 3294,
        "start_time": "2023-11-21T20:57:18.727Z"
      },
      {
        "duration": 15,
        "start_time": "2023-11-21T20:57:24.521Z"
      },
      {
        "duration": 117,
        "start_time": "2023-11-21T20:57:37.015Z"
      },
      {
        "duration": 6,
        "start_time": "2023-11-21T20:57:42.545Z"
      },
      {
        "duration": 3,
        "start_time": "2023-11-21T21:01:10.404Z"
      },
      {
        "duration": 298,
        "start_time": "2023-11-21T21:01:18.753Z"
      },
      {
        "duration": 246,
        "start_time": "2023-11-21T21:01:33.438Z"
      },
      {
        "duration": 5031,
        "start_time": "2023-11-21T21:03:01.156Z"
      },
      {
        "duration": 4684,
        "start_time": "2023-11-21T21:03:26.165Z"
      },
      {
        "duration": 4785,
        "start_time": "2023-11-21T21:03:39.487Z"
      },
      {
        "duration": 1318,
        "start_time": "2023-11-21T21:10:13.512Z"
      },
      {
        "duration": 917,
        "start_time": "2023-11-21T21:10:14.832Z"
      },
      {
        "duration": 14,
        "start_time": "2023-11-21T21:10:15.751Z"
      },
      {
        "duration": 15,
        "start_time": "2023-11-21T21:10:15.767Z"
      },
      {
        "duration": 5558,
        "start_time": "2023-11-21T21:10:15.784Z"
      },
      {
        "duration": 65114,
        "start_time": "2023-11-21T21:10:21.343Z"
      },
      {
        "duration": 2893,
        "start_time": "2023-11-21T21:12:07.550Z"
      },
      {
        "duration": 5,
        "start_time": "2023-11-21T21:12:51.888Z"
      },
      {
        "duration": 1337,
        "start_time": "2023-11-22T09:51:18.805Z"
      },
      {
        "duration": 2407,
        "start_time": "2023-11-22T09:51:20.144Z"
      },
      {
        "duration": 14,
        "start_time": "2023-11-22T09:51:22.552Z"
      },
      {
        "duration": 5,
        "start_time": "2023-11-22T09:51:22.568Z"
      },
      {
        "duration": 5970,
        "start_time": "2023-11-22T09:51:22.574Z"
      },
      {
        "duration": 3502,
        "start_time": "2023-11-22T09:51:28.546Z"
      },
      {
        "duration": 6,
        "start_time": "2023-11-22T09:51:32.050Z"
      },
      {
        "duration": 69,
        "start_time": "2023-11-22T09:59:16.185Z"
      },
      {
        "duration": 50,
        "start_time": "2023-11-22T09:59:48.910Z"
      },
      {
        "duration": 32,
        "start_time": "2023-11-22T09:59:56.250Z"
      },
      {
        "duration": 8119,
        "start_time": "2023-11-22T10:01:01.674Z"
      },
      {
        "duration": 252461,
        "start_time": "2023-11-22T10:04:42.912Z"
      },
      {
        "duration": 98544,
        "start_time": "2023-11-22T10:13:05.330Z"
      },
      {
        "duration": 7436,
        "start_time": "2023-11-22T10:20:29.432Z"
      },
      {
        "duration": 7139,
        "start_time": "2023-11-22T10:21:25.985Z"
      },
      {
        "duration": 7149,
        "start_time": "2023-11-22T10:21:38.062Z"
      },
      {
        "duration": 129,
        "start_time": "2023-11-22T10:22:21.848Z"
      },
      {
        "duration": 6,
        "start_time": "2023-11-22T10:22:32.981Z"
      },
      {
        "duration": 7676,
        "start_time": "2023-11-22T10:22:57.380Z"
      },
      {
        "duration": 1496,
        "start_time": "2023-11-22T13:44:53.395Z"
      },
      {
        "duration": 3372,
        "start_time": "2023-11-22T13:44:57.914Z"
      },
      {
        "duration": 14,
        "start_time": "2023-11-22T13:45:01.288Z"
      },
      {
        "duration": 4,
        "start_time": "2023-11-22T13:50:16.302Z"
      },
      {
        "duration": 945,
        "start_time": "2023-11-22T13:50:20.095Z"
      },
      {
        "duration": 8,
        "start_time": "2023-11-22T13:50:21.042Z"
      },
      {
        "duration": 33,
        "start_time": "2023-11-22T13:50:30.955Z"
      },
      {
        "duration": 7,
        "start_time": "2023-11-22T13:51:17.975Z"
      },
      {
        "duration": 5856,
        "start_time": "2023-11-22T13:52:19.527Z"
      },
      {
        "duration": 1408,
        "start_time": "2023-11-22T19:41:59.429Z"
      },
      {
        "duration": 3238,
        "start_time": "2023-11-22T19:42:00.838Z"
      },
      {
        "duration": 16,
        "start_time": "2023-11-22T19:42:04.078Z"
      },
      {
        "duration": 161,
        "start_time": "2023-11-22T19:42:04.096Z"
      },
      {
        "duration": 5634,
        "start_time": "2023-11-22T19:42:04.260Z"
      },
      {
        "duration": 3313,
        "start_time": "2023-11-22T19:42:09.901Z"
      },
      {
        "duration": 3482,
        "start_time": "2023-11-22T19:44:46.989Z"
      },
      {
        "duration": 780,
        "start_time": "2023-11-22T19:44:54.099Z"
      },
      {
        "duration": 4118,
        "start_time": "2023-11-22T19:48:53.742Z"
      },
      {
        "duration": 908,
        "start_time": "2023-11-22T19:48:57.862Z"
      },
      {
        "duration": 17,
        "start_time": "2023-11-22T19:48:58.771Z"
      },
      {
        "duration": 63,
        "start_time": "2023-11-22T19:48:58.790Z"
      },
      {
        "duration": 6388,
        "start_time": "2023-11-22T19:48:58.855Z"
      },
      {
        "duration": 4021,
        "start_time": "2023-11-22T20:54:54.368Z"
      },
      {
        "duration": 862,
        "start_time": "2023-11-22T20:54:58.391Z"
      },
      {
        "duration": 16,
        "start_time": "2023-11-22T20:54:59.254Z"
      },
      {
        "duration": 40,
        "start_time": "2023-11-22T20:54:59.271Z"
      },
      {
        "duration": 5368,
        "start_time": "2023-11-22T20:54:59.313Z"
      },
      {
        "duration": 3850,
        "start_time": "2023-11-22T20:55:49.677Z"
      },
      {
        "duration": 820,
        "start_time": "2023-11-22T20:55:53.529Z"
      },
      {
        "duration": 14,
        "start_time": "2023-11-22T20:55:54.350Z"
      },
      {
        "duration": 38,
        "start_time": "2023-11-22T20:55:54.366Z"
      },
      {
        "duration": 5270,
        "start_time": "2023-11-22T20:55:54.406Z"
      },
      {
        "duration": 1364,
        "start_time": "2023-11-22T20:59:31.575Z"
      },
      {
        "duration": 891,
        "start_time": "2023-11-22T20:59:38.323Z"
      },
      {
        "duration": 12,
        "start_time": "2023-11-22T20:59:39.216Z"
      },
      {
        "duration": 33,
        "start_time": "2023-11-22T20:59:39.230Z"
      },
      {
        "duration": 5332,
        "start_time": "2023-11-22T20:59:41.006Z"
      },
      {
        "duration": 443,
        "start_time": "2023-11-22T21:00:28.368Z"
      },
      {
        "duration": 342,
        "start_time": "2023-11-22T21:00:47.549Z"
      },
      {
        "duration": 512,
        "start_time": "2023-11-22T21:01:20.948Z"
      },
      {
        "duration": 510125,
        "start_time": "2023-11-22T21:01:32.129Z"
      },
      {
        "duration": 4,
        "start_time": "2023-11-22T21:12:14.596Z"
      },
      {
        "duration": 40,
        "start_time": "2023-11-22T21:12:17.586Z"
      },
      {
        "duration": 38,
        "start_time": "2023-11-22T21:14:53.835Z"
      },
      {
        "duration": 8022,
        "start_time": "2023-11-22T21:15:05.415Z"
      },
      {
        "duration": 7620,
        "start_time": "2023-11-22T21:15:14.373Z"
      },
      {
        "duration": 134399,
        "start_time": "2023-11-22T21:17:08.468Z"
      },
      {
        "duration": 196525,
        "start_time": "2023-11-22T21:20:06.995Z"
      },
      {
        "duration": 6996,
        "start_time": "2023-11-22T21:23:23.521Z"
      },
      {
        "duration": 236932,
        "start_time": "2023-11-22T21:26:37.554Z"
      },
      {
        "duration": 86786,
        "start_time": "2023-11-22T21:32:19.749Z"
      },
      {
        "duration": 85256,
        "start_time": "2023-11-22T21:34:16.301Z"
      },
      {
        "duration": 84694,
        "start_time": "2023-11-22T21:35:41.559Z"
      },
      {
        "duration": 14,
        "start_time": "2023-11-22T21:37:06.254Z"
      },
      {
        "duration": 9,
        "start_time": "2023-11-22T21:38:26.325Z"
      },
      {
        "duration": 84991,
        "start_time": "2023-11-22T21:39:23.854Z"
      },
      {
        "duration": 84740,
        "start_time": "2023-11-22T21:40:48.847Z"
      },
      {
        "duration": 8,
        "start_time": "2023-11-22T21:42:13.589Z"
      },
      {
        "duration": 84882,
        "start_time": "2023-11-22T21:43:49.303Z"
      },
      {
        "duration": 80468,
        "start_time": "2023-11-22T21:49:42.326Z"
      },
      {
        "duration": 101,
        "start_time": "2023-11-22T21:51:22.059Z"
      },
      {
        "duration": 120,
        "start_time": "2023-11-22T21:51:34.504Z"
      },
      {
        "duration": 130,
        "start_time": "2023-11-22T21:51:51.286Z"
      },
      {
        "duration": 84802,
        "start_time": "2023-11-22T21:52:10.276Z"
      },
      {
        "duration": 236289,
        "start_time": "2023-11-22T21:53:35.080Z"
      },
      {
        "duration": 6,
        "start_time": "2023-11-22T21:57:31.371Z"
      },
      {
        "duration": 10,
        "start_time": "2023-11-22T21:59:15.440Z"
      },
      {
        "duration": 5,
        "start_time": "2023-11-22T22:00:00.834Z"
      },
      {
        "duration": 249898,
        "start_time": "2023-11-22T22:00:49.051Z"
      },
      {
        "duration": 164082,
        "start_time": "2023-11-22T22:04:58.951Z"
      },
      {
        "duration": 6,
        "start_time": "2023-11-22T22:07:43.035Z"
      },
      {
        "duration": 220,
        "start_time": "2023-11-22T22:09:24.301Z"
      },
      {
        "duration": 26,
        "start_time": "2023-11-22T22:09:46.604Z"
      },
      {
        "duration": 14,
        "start_time": "2023-11-22T22:11:12.087Z"
      },
      {
        "duration": 5,
        "start_time": "2023-11-22T22:11:29.444Z"
      },
      {
        "duration": 17,
        "start_time": "2023-11-22T22:11:33.651Z"
      },
      {
        "duration": 449,
        "start_time": "2023-11-22T22:11:46.972Z"
      },
      {
        "duration": 169,
        "start_time": "2023-11-22T22:11:50.377Z"
      },
      {
        "duration": 7082,
        "start_time": "2023-11-23T13:29:14.226Z"
      },
      {
        "duration": 2467,
        "start_time": "2023-11-23T13:29:21.310Z"
      },
      {
        "duration": 76,
        "start_time": "2023-11-23T13:29:23.778Z"
      },
      {
        "duration": 32,
        "start_time": "2023-11-23T13:29:23.856Z"
      },
      {
        "duration": 5655,
        "start_time": "2023-11-23T13:29:23.889Z"
      },
      {
        "duration": 531125,
        "start_time": "2023-11-23T13:29:29.546Z"
      },
      {
        "duration": 3,
        "start_time": "2023-11-23T13:38:20.673Z"
      },
      {
        "duration": 42,
        "start_time": "2023-11-23T13:38:20.678Z"
      },
      {
        "duration": 7139,
        "start_time": "2023-11-23T13:38:20.721Z"
      },
      {
        "duration": 248139,
        "start_time": "2023-11-23T13:38:27.863Z"
      },
      {
        "duration": 165884,
        "start_time": "2023-11-23T13:42:36.003Z"
      },
      {
        "duration": 2533,
        "start_time": "2023-11-23T16:01:48.827Z"
      },
      {
        "duration": 2428,
        "start_time": "2023-11-23T16:02:00.358Z"
      },
      {
        "duration": 13,
        "start_time": "2023-11-23T16:02:02.789Z"
      },
      {
        "duration": 32,
        "start_time": "2023-11-23T16:02:03.298Z"
      },
      {
        "duration": 5723,
        "start_time": "2023-11-23T16:02:09.407Z"
      },
      {
        "duration": 556281,
        "start_time": "2023-11-23T16:02:15.132Z"
      },
      {
        "duration": 4,
        "start_time": "2023-11-23T16:11:39.394Z"
      },
      {
        "duration": 28,
        "start_time": "2023-11-23T16:11:39.586Z"
      },
      {
        "duration": 7494,
        "start_time": "2023-11-23T16:11:43.912Z"
      },
      {
        "duration": 266448,
        "start_time": "2023-11-23T16:11:51.409Z"
      },
      {
        "duration": 166282,
        "start_time": "2023-11-23T16:16:17.859Z"
      },
      {
        "duration": 7,
        "start_time": "2023-11-23T16:19:04.143Z"
      },
      {
        "duration": 31,
        "start_time": "2023-11-23T16:19:04.152Z"
      },
      {
        "duration": 197,
        "start_time": "2023-11-23T16:19:04.185Z"
      },
      {
        "duration": 3199,
        "start_time": "2023-11-23T20:53:10.432Z"
      },
      {
        "duration": 1616,
        "start_time": "2023-11-23T20:53:13.633Z"
      },
      {
        "duration": 106,
        "start_time": "2023-11-23T20:53:15.250Z"
      },
      {
        "duration": 30,
        "start_time": "2023-11-23T20:53:15.358Z"
      },
      {
        "duration": 5443,
        "start_time": "2023-11-23T20:53:15.390Z"
      },
      {
        "duration": 505853,
        "start_time": "2023-11-23T20:53:20.835Z"
      },
      {
        "duration": 4,
        "start_time": "2023-11-23T21:01:46.690Z"
      },
      {
        "duration": 41,
        "start_time": "2023-11-23T21:01:46.695Z"
      },
      {
        "duration": 7007,
        "start_time": "2023-11-23T21:01:46.737Z"
      },
      {
        "duration": 243698,
        "start_time": "2023-11-23T21:01:53.746Z"
      },
      {
        "duration": 166099,
        "start_time": "2023-11-23T21:05:57.445Z"
      },
      {
        "duration": 7,
        "start_time": "2023-11-23T21:08:43.545Z"
      },
      {
        "duration": 34,
        "start_time": "2023-11-23T21:08:43.553Z"
      },
      {
        "duration": 183,
        "start_time": "2023-11-23T21:08:43.590Z"
      }
    ],
    "toc": {
      "base_numbering": 1,
      "nav_menu": {},
      "number_sections": true,
      "sideBar": true,
      "skip_h1_title": true,
      "title_cell": "Содержание",
      "title_sidebar": "Contents",
      "toc_cell": true,
      "toc_position": {
        "height": "calc(100% - 180px)",
        "left": "10px",
        "top": "150px",
        "width": "302.391px"
      },
      "toc_section_display": true,
      "toc_window_display": true
    },
    "kernelspec": {
      "name": "python",
      "display_name": "Python (Pyodide)",
      "language": "python"
    },
    "language_info": {
      "codemirror_mode": {
        "name": "python",
        "version": 3
      },
      "file_extension": ".py",
      "mimetype": "text/x-python",
      "name": "python",
      "nbconvert_exporter": "python",
      "pygments_lexer": "ipython3",
      "version": "3.8"
    }
  },
  "nbformat_minor": 4,
  "nbformat": 4,
  "cells": [
    {
      "cell_type": "markdown",
      "source": "<h1>Содержание<span class=\"tocSkip\"></span></h1>\n<div class=\"toc\"><ul class=\"toc-item\"><li><span><a href=\"#Подготовка\" data-toc-modified-id=\"Подготовка-1\"><span class=\"toc-item-num\">1&nbsp;&nbsp;</span>Подготовка</a></span></li><li><span><a href=\"#Обучение\" data-toc-modified-id=\"Обучение-2\"><span class=\"toc-item-num\">2&nbsp;&nbsp;</span>Обучение</a></span></li><li><span><a href=\"#Выводы\" data-toc-modified-id=\"Выводы-3\"><span class=\"toc-item-num\">3&nbsp;&nbsp;</span>Выводы</a></span></li><li><span><a href=\"#Чек-лист-проверки\" data-toc-modified-id=\"Чек-лист-проверки-4\"><span class=\"toc-item-num\">4&nbsp;&nbsp;</span>Чек-лист проверки</a></span></li></ul></div>",
      "metadata": {
        "toc": true
      }
    },
    {
      "cell_type": "markdown",
      "source": "# Проект для «Викишоп»",
      "metadata": {}
    },
    {
      "cell_type": "markdown",
      "source": "Интернет-магазин «Викишоп» запускает новый сервис. Теперь пользователи могут редактировать и дополнять описания товаров, как в вики-сообществах. То есть клиенты предлагают свои правки и комментируют изменения других. Магазину нужен инструмент, который будет искать токсичные комментарии и отправлять их на модерацию. \n\nОбучите модель классифицировать комментарии на позитивные и негативные. В вашем распоряжении набор данных с разметкой о токсичности правок.\n\nПостройте модель со значением метрики качества *F1* не меньше 0.75. \n\n**Инструкция по выполнению проекта**\n\n1. Загрузите и подготовьте данные.\n2. Обучите разные модели. \n3. Сделайте выводы.\n\nДля выполнения проекта применять *BERT* необязательно, но вы можете попробовать.\n\n**Описание данных**\n\nДанные находятся в файле `toxic_comments.csv`. Столбец *text* в нём содержит текст комментария, а *toxic* — целевой признак.",
      "metadata": {}
    },
    {
      "cell_type": "code",
      "source": "import pandas as pd\nimport re\nimport nltk\nfrom nltk.stem import WordNetLemmatizer\nfrom nltk import pos_tag, word_tokenize\nfrom nltk.corpus import wordnet\nnltk.download('averaged_perceptron_tagger')\nfrom tqdm.notebook import tqdm\nfrom sklearn.metrics import classification_report, roc_curve, auc\nimport matplotlib.pyplot as plt\n\nfrom nltk.corpus import stopwords as nltk_stopwords\nfrom sklearn.feature_extraction.text import TfidfVectorizer\nfrom sklearn.linear_model import LogisticRegression\nfrom sklearn.pipeline import Pipeline\nfrom sklearn.model_selection import GridSearchCV\nfrom sklearn.metrics import f1_score\nimport numpy as np\nfrom pymystem3 import Mystem\nfrom sklearn.model_selection import train_test_split\nfrom sklearn.feature_extraction.text import TfidfVectorizer, CountVectorizer\nfrom sklearn.linear_model import LogisticRegression\nfrom sklearn.pipeline import Pipeline\nfrom sklearn import metrics\nfrom sklearn.metrics import f1_score\nfrom sklearn.ensemble import RandomForestClassifier",
      "metadata": {},
      "execution_count": 1,
      "outputs": [
        {
          "name": "stderr",
          "output_type": "stream",
          "text": "[nltk_data] Downloading package averaged_perceptron_tagger to\n\n[nltk_data]     /home/jovyan/nltk_data...\n\n[nltk_data]   Package averaged_perceptron_tagger is already up-to-\n\n[nltk_data]       date!\n"
        }
      ]
    },
    {
      "cell_type": "markdown",
      "source": "## Подготовка",
      "metadata": {}
    },
    {
      "cell_type": "code",
      "source": "data = pd.read_csv('/datasets/toxic_comments.csv')",
      "metadata": {},
      "execution_count": 2,
      "outputs": []
    },
    {
      "cell_type": "code",
      "source": "data.head()",
      "metadata": {},
      "execution_count": 3,
      "outputs": [
        {
          "execution_count": 3,
          "output_type": "execute_result",
          "data": {
            "text/html": [
              "<div>\n",
              "<style scoped>\n",
              "    .dataframe tbody tr th:only-of-type {\n",
              "        vertical-align: middle;\n",
              "    }\n",
              "\n",
              "    .dataframe tbody tr th {\n",
              "        vertical-align: top;\n",
              "    }\n",
              "\n",
              "    .dataframe thead th {\n",
              "        text-align: right;\n",
              "    }\n",
              "</style>\n",
              "<table border=\"1\" class=\"dataframe\">\n",
              "  <thead>\n",
              "    <tr style=\"text-align: right;\">\n",
              "      <th></th>\n",
              "      <th>Unnamed: 0</th>\n",
              "      <th>text</th>\n",
              "      <th>toxic</th>\n",
              "    </tr>\n",
              "  </thead>\n",
              "  <tbody>\n",
              "    <tr>\n",
              "      <th>0</th>\n",
              "      <td>0</td>\n",
              "      <td>Explanation\\nWhy the edits made under my usern...</td>\n",
              "      <td>0</td>\n",
              "    </tr>\n",
              "    <tr>\n",
              "      <th>1</th>\n",
              "      <td>1</td>\n",
              "      <td>D'aww! He matches this background colour I'm s...</td>\n",
              "      <td>0</td>\n",
              "    </tr>\n",
              "    <tr>\n",
              "      <th>2</th>\n",
              "      <td>2</td>\n",
              "      <td>Hey man, I'm really not trying to edit war. It...</td>\n",
              "      <td>0</td>\n",
              "    </tr>\n",
              "    <tr>\n",
              "      <th>3</th>\n",
              "      <td>3</td>\n",
              "      <td>\"\\nMore\\nI can't make any real suggestions on ...</td>\n",
              "      <td>0</td>\n",
              "    </tr>\n",
              "    <tr>\n",
              "      <th>4</th>\n",
              "      <td>4</td>\n",
              "      <td>You, sir, are my hero. Any chance you remember...</td>\n",
              "      <td>0</td>\n",
              "    </tr>\n",
              "  </tbody>\n",
              "</table>\n",
              "</div>"
            ],
            "text/plain": [
              "   Unnamed: 0                                               text  toxic\n",
              "0           0  Explanation\\nWhy the edits made under my usern...      0\n",
              "1           1  D'aww! He matches this background colour I'm s...      0\n",
              "2           2  Hey man, I'm really not trying to edit war. It...      0\n",
              "3           3  \"\\nMore\\nI can't make any real suggestions on ...      0\n",
              "4           4  You, sir, are my hero. Any chance you remember...      0"
            ]
          },
          "metadata": {}
        }
      ]
    },
    {
      "cell_type": "code",
      "source": "data.info()",
      "metadata": {},
      "execution_count": 4,
      "outputs": [
        {
          "name": "stdout",
          "output_type": "stream",
          "text": "<class 'pandas.core.frame.DataFrame'>\n\nRangeIndex: 159292 entries, 0 to 159291\n\nData columns (total 3 columns):\n\n #   Column      Non-Null Count   Dtype \n\n---  ------      --------------   ----- \n\n 0   Unnamed: 0  159292 non-null  int64 \n\n 1   text        159292 non-null  object\n\n 2   toxic       159292 non-null  int64 \n\ndtypes: int64(2), object(1)\n\nmemory usage: 3.6+ MB\n"
        }
      ]
    },
    {
      "cell_type": "code",
      "source": "def clean_text(text):\n    # Убираем символы новой строки\n    cleaned_text = text.replace('\\n', ' ')\n    \n    # Преобразуем в нижний регистр\n    cleaned_text = cleaned_text.lower()\n    \n    # Удаляем символы, не являющиеся буквами или цифрами\n    cleaned_text = ''.join([char for char in cleaned_text if char.isalnum() or char.isspace()])\n    \n    return cleaned_text\n\ndata['text'] = data['text'].apply(clean_text)\ndata.text[:5]",
      "metadata": {},
      "execution_count": 5,
      "outputs": [
        {
          "execution_count": 5,
          "output_type": "execute_result",
          "data": {
            "text/plain": [
              "0    explanation why the edits made under my userna...\n",
              "1    daww he matches this background colour im seem...\n",
              "2    hey man im really not trying to edit war its j...\n",
              "3     more i cant make any real suggestions on impr...\n",
              "4    you sir are my hero any chance you remember wh...\n",
              "Name: text, dtype: object"
            ]
          },
          "metadata": {}
        }
      ]
    },
    {
      "cell_type": "code",
      "source": "tqdm.pandas()\n\ndef get_wordnet_pos(treebank_tag):\n    if treebank_tag.startswith('J'):\n        return wordnet.ADJ\n    elif treebank_tag.startswith('V'):\n        return wordnet.VERB\n    elif treebank_tag.startswith('N'):\n        return wordnet.NOUN\n    elif treebank_tag.startswith('R'):\n        return wordnet.ADV\n    else:\n        return wordnet.NOUN\n    \n# Функция для лемматизации текста\ndef lemmatize(text, language='en'):\n    if language == 'en':\n        tokens = word_tokenize(text)\n        pos_tags = pos_tag(tokens)\n        lemmatizer = WordNetLemmatizer()\n        lemmatized_text = ' '.join([lemmatizer.lemmatize(token, get_wordnet_pos(pos_tag))\n                                    for token, pos_tag in pos_tags])\n    else:\n        m = Mystem()\n        lemmatized_text = m.lemmatize(text)\n    return lemmatized_text\n\n# Применяем\ndata['text'] = data['text'].progress_apply(lemmatize, language='en')\n\nprint(data['text'])",
      "metadata": {},
      "execution_count": 6,
      "outputs": [
        {
          "output_type": "display_data",
          "data": {
            "application/vnd.jupyter.widget-view+json": {
              "model_id": "6610f396a8234c07ae2570370b527bdf",
              "version_major": 2,
              "version_minor": 0
            },
            "text/plain": [
              "  0%|          | 0/159292 [00:00<?, ?it/s]"
            ]
          },
          "metadata": {}
        },
        {
          "name": "stdout",
          "output_type": "stream",
          "text": "0         explanation why the edits make under my userna...\n\n1         daww he match this background colour im seemin...\n\n2         hey man im really not try to edit war it just ...\n\n3         more i cant make any real suggestion on improv...\n\n4         you sir be my hero any chance you remember wha...\n\n                                ...                        \n\n159287    and for the second time of ask when your view ...\n\n159288    you should be ashamed of yourself that be a ho...\n\n159289    spitzer umm theres no actual article for prost...\n\n159290    and it look like it be actually you who put on...\n\n159291    and i really dont think you understand i come ...\n\nName: text, Length: 159292, dtype: object\n"
        }
      ]
    },
    {
      "cell_type": "markdown",
      "source": "## Обучение",
      "metadata": {}
    },
    {
      "cell_type": "code",
      "source": "# Стоп слова\nstopwords = set(nltk_stopwords.words('english'))",
      "metadata": {},
      "execution_count": 7,
      "outputs": []
    },
    {
      "cell_type": "code",
      "source": "target = data['toxic'].values \nfeatures = data['text'] \n\n# Разделение данных на обучающую и тестовую выборки\nX_train, X_test, y_train, y_test = train_test_split(features, target, test_size=0.1, random_state=12345)\n\nprint(\"Размер обучающей выборки (X_train, y_train):\", X_train.shape, len(y_train))\nprint(\"Размер тестовой выборки (X_test, y_test):\", X_test.shape, len(y_test))",
      "metadata": {},
      "execution_count": 8,
      "outputs": [
        {
          "name": "stdout",
          "output_type": "stream",
          "text": "Размер обучающей выборки (X_train, y_train): (143362,) 143362\n\nРазмер тестовой выборки (X_test, y_test): (15930,) 15930\n"
        }
      ]
    },
    {
      "cell_type": "code",
      "source": "# Создание объекта TF-IDF векторизатора\ntfidf_vectorizer = TfidfVectorizer(stop_words=stopwords)\n\n# Преобразование обучающей и тестовой выборки\nX_train_tfidf = tfidf_vectorizer.fit_transform(X_train)\nX_test_tfidf = tfidf_vectorizer.transform(X_test)",
      "metadata": {},
      "execution_count": 9,
      "outputs": []
    },
    {
      "cell_type": "markdown",
      "source": "# RandomForestClassifier",
      "metadata": {}
    },
    {
      "cell_type": "code",
      "source": "%%time\n\n# Создание объекта RandomForestClassifier\nrf_classifier = RandomForestClassifier(random_state=12345, class_weight='balanced')\n\n# Создание пайплайна\npipeline = Pipeline([\n    ('classifier', rf_classifier)\n])\n\n# Задание сетки параметров для перебора\nparam_grid = {\n    'classifier__n_estimators': [50, 100],\n    'classifier__max_depth': [5, 15]\n}\n\n# Создание объекта GridSearchCV\ngrid_search_rf = GridSearchCV(estimator=pipeline, param_grid=param_grid, cv=3, scoring='f1', verbose=True, n_jobs=-1)\n\n# Обучение модели с перебором параметров\ngrid_search_rf.fit(X_train_tfidf, y_train)\n\n# Вывод наилучших параметров\nprint(\"Наилучшие параметры:\", grid_search_rf.best_params_)\nprint(\"F1:\", grid_search_rf.best_score_)",
      "metadata": {},
      "execution_count": 10,
      "outputs": [
        {
          "name": "stdout",
          "output_type": "stream",
          "text": "Fitting 3 folds for each of 4 candidates, totalling 12 fits\n\nНаилучшие параметры: {'classifier__max_depth': 15, 'classifier__n_estimators': 100}\n\nF1: 0.35979899642909025\n\nCPU times: user 4min 2s, sys: 496 ms, total: 4min 3s\n\nWall time: 4min 3s\n"
        }
      ]
    },
    {
      "cell_type": "markdown",
      "source": "# LogisticRegression",
      "metadata": {}
    },
    {
      "cell_type": "code",
      "source": "%%time\n\n# Создание объекта LogisticRegression\nlogistic_classifier = LogisticRegression(random_state=12345, class_weight='balanced')\n\n# Создание пайплайна\npipeline = Pipeline([\n    ('classifier', logistic_classifier)\n])\n\n# Задание сетки параметров для перебора\nparam_grid = {\n    'classifier__solver': ['liblinear'],\n    'classifier__C': [1, 10],\n    'classifier__penalty': ['l1', 'l2'],\n    'classifier__max_iter': [200]\n}\n\n# Создание объекта GridSearchCV с использованием F1 score в качестве метрики\ngrid_search_lr = GridSearchCV(estimator=pipeline, param_grid=param_grid, cv=3, scoring='f1', verbose=True, n_jobs=-1)\n\n# Обучение модели с перебором параметров\ngrid_search_lr.fit(X_train_tfidf, y_train)\n\n# Вывод наилучших параметров\nprint(\"Наилучшие параметры:\", grid_search_lr.best_params_)\nprint(\"F1:\", grid_search_lr.best_score_)",
      "metadata": {},
      "execution_count": 11,
      "outputs": [
        {
          "name": "stdout",
          "output_type": "stream",
          "text": "Fitting 3 folds for each of 4 candidates, totalling 12 fits\n\nНаилучшие параметры: {'classifier__C': 10, 'classifier__max_iter': 200, 'classifier__penalty': 'l2', 'classifier__solver': 'liblinear'}\n\nF1: 0.7620968682346522\n\nCPU times: user 1min 44s, sys: 1min, total: 2min 45s\n\nWall time: 2min 46s\n"
        }
      ]
    },
    {
      "cell_type": "markdown",
      "source": "# Лучшая модель",
      "metadata": {}
    },
    {
      "cell_type": "code",
      "source": "# Создание списка с именами моделей\nmodel_names = ['RandomForest', 'LogisticRegression']\n# Создание списка с F1-скорами\nf1_scores = [grid_search_rf.best_score_, grid_search_lr.best_score_] \n\n# Создание DataFrame\nresults_df = pd.DataFrame({'Model': model_names, 'F1 Score': f1_scores})\n\n# Вывод таблицы\nprint(results_df)",
      "metadata": {},
      "execution_count": 12,
      "outputs": [
        {
          "name": "stdout",
          "output_type": "stream",
          "text": "                Model  F1 Score\n\n0        RandomForest  0.359799\n\n1  LogisticRegression  0.762097\n"
        }
      ]
    },
    {
      "cell_type": "markdown",
      "source": "# Тестирование лучшей модели",
      "metadata": {}
    },
    {
      "cell_type": "code",
      "source": "# Предсказания для тестовой выборки\ny_pred_lr = grid_search_lr.predict(X_test_tfidf)\n\nprint(\"Отчет о классификации для логистической регрессии на тестовой выборке:\")\nprint(classification_report(y_test, y_pred_lr))",
      "metadata": {},
      "execution_count": 13,
      "outputs": [
        {
          "name": "stdout",
          "output_type": "stream",
          "text": "Отчет о классификации для логистической регрессии на тестовой выборке:\n\n              precision    recall  f1-score   support\n\n\n\n           0       0.98      0.96      0.97     14318\n\n           1       0.72      0.82      0.76      1612\n\n\n\n    accuracy                           0.95     15930\n\n   macro avg       0.85      0.89      0.87     15930\n\nweighted avg       0.95      0.95      0.95     15930\n\n\n"
        }
      ]
    },
    {
      "cell_type": "code",
      "source": "# Рассчитываем вероятности для класса 1 (положительный класс)\ny_prob_lr = grid_search_lr.predict_proba(X_test_tfidf)[:, 1]\n\n# Рассчитываем ROC-кривую и AUC\nfpr, tpr, thresholds = roc_curve(y_test, y_prob_lr)\nroc_auc = auc(fpr, tpr)\n\n# Построение ROC-кривой\nplt.figure(figsize=(8, 8))\nplt.plot(fpr, tpr, color='darkorange', lw=2, label='ROC curve (area = {:.2f})'.format(roc_auc))\nplt.plot([0, 1], [0, 1], color='navy', lw=2, linestyle='--')\nplt.xlim([0.0, 1.0])\nplt.ylim([0.0, 1.05])\nplt.xlabel('False Positive Rate')\nplt.ylabel('True Positive Rate')\nplt.title('Receiver Operating Characteristic (ROC) Curve')\nplt.legend(loc=\"lower right\")\nplt.show()",
      "metadata": {},
      "execution_count": 14,
      "outputs": [
        {
          "output_type": "display_data",
          "data": {
            "image/png": "[encoded data removed]",
            "text/plain": [
              "<Figure size 576x576 with 1 Axes>"
            ]
          },
          "metadata": {
            "needs_background": "light"
          }
        }
      ]
    },
    {
      "cell_type": "markdown",
      "source": "## Выводы",
      "metadata": {}
    },
    {
      "cell_type": "markdown",
      "source": "Прекрасная новость! Обучили модель Logistic Regression для классификации комментариев в нашем новом сервисе. Результаты просто поражают:\n\nТочность 95%, F1 Score 0.95 - это просто восхитительно! Наша модель успешно выявляет токсичные комментарии, обеспечивая высокую точность как в предсказании позитивных, так и негативных случаев.\n\nТочность в 98% для позитивных и 72% для негативных комментариев говорит о том, что модель очень точно определяет положительные случаи, а также эффективно выявляет токсичность в негативных.\n\nКроме того, полнота 96% для позитивных и 82% для негативных комментариев подчеркивает, что модель отлично справляется с выявлением токсичных высказываний.\n\nМодель Logistic Regression позволила нам достичь цели по F1 Score не менее 0.75. Эта модель готова к внедрению и будет надежным инструментом в обеспечении безопасности и качества в нашем интернет-магазине! 🎉",
      "metadata": {}
    },
    {
      "cell_type": "markdown",
      "source": "## Чек-лист проверки",
      "metadata": {}
    },
    {
      "cell_type": "markdown",
      "source": "- [x]  Jupyter Notebook открыт\n- [ ]  Весь код выполняется без ошибок\n- [ ]  Ячейки с кодом расположены в порядке исполнения\n- [ ]  Данные загружены и подготовлены\n- [ ]  Модели обучены\n- [ ]  Значение метрики *F1* не меньше 0.75\n- [ ]  Выводы написаны",
      "metadata": {}
    }
  ]
}