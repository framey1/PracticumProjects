{
  "metadata": {
    "ExecuteTimeLog": [
      {
        "duration": 1837,
        "start_time": "2023-09-25T21:30:34.424Z"
      },
      {
        "duration": 5,
        "start_time": "2023-09-25T21:31:03.683Z"
      },
      {
        "duration": 4,
        "start_time": "2023-09-25T21:31:23.567Z"
      },
      {
        "duration": 1898,
        "start_time": "2023-09-26T11:19:12.227Z"
      },
      {
        "duration": 3047,
        "start_time": "2023-09-26T11:19:14.128Z"
      },
      {
        "duration": 54,
        "start_time": "2023-09-26T11:19:35.527Z"
      },
      {
        "duration": 896,
        "start_time": "2023-09-26T11:20:36.236Z"
      },
      {
        "duration": 1985,
        "start_time": "2023-09-26T11:22:10.427Z"
      },
      {
        "duration": 35,
        "start_time": "2023-09-26T11:23:04.272Z"
      },
      {
        "duration": 16,
        "start_time": "2023-09-26T11:23:21.090Z"
      },
      {
        "duration": 19,
        "start_time": "2023-09-26T11:23:34.389Z"
      },
      {
        "duration": 24,
        "start_time": "2023-09-26T11:24:36.697Z"
      },
      {
        "duration": 178,
        "start_time": "2023-09-26T11:24:42.759Z"
      },
      {
        "duration": 128,
        "start_time": "2023-09-26T11:25:17.022Z"
      },
      {
        "duration": 23,
        "start_time": "2023-09-26T11:25:37.187Z"
      },
      {
        "duration": 96,
        "start_time": "2023-09-26T11:25:56.337Z"
      },
      {
        "duration": 1739,
        "start_time": "2023-09-26T11:30:19.094Z"
      },
      {
        "duration": 2542,
        "start_time": "2023-09-26T11:30:20.835Z"
      },
      {
        "duration": 19,
        "start_time": "2023-09-26T11:30:23.378Z"
      },
      {
        "duration": 22,
        "start_time": "2023-09-26T11:30:23.409Z"
      },
      {
        "duration": 19,
        "start_time": "2023-09-26T11:30:23.434Z"
      },
      {
        "duration": 169,
        "start_time": "2023-09-26T11:30:23.455Z"
      },
      {
        "duration": 22,
        "start_time": "2023-09-26T11:30:23.626Z"
      },
      {
        "duration": 121,
        "start_time": "2023-09-26T11:30:23.649Z"
      },
      {
        "duration": 269,
        "start_time": "2023-09-26T11:30:23.772Z"
      },
      {
        "duration": 185,
        "start_time": "2023-09-26T11:30:49.293Z"
      },
      {
        "duration": 295,
        "start_time": "2023-09-26T11:31:01.722Z"
      },
      {
        "duration": 20,
        "start_time": "2023-09-26T11:32:18.267Z"
      },
      {
        "duration": 22,
        "start_time": "2023-09-26T11:32:32.766Z"
      },
      {
        "duration": 16,
        "start_time": "2023-09-26T11:38:30.206Z"
      },
      {
        "duration": 15,
        "start_time": "2023-09-26T11:38:43.150Z"
      },
      {
        "duration": 111,
        "start_time": "2023-09-26T11:49:16.260Z"
      },
      {
        "duration": 3,
        "start_time": "2023-09-26T11:49:24.202Z"
      },
      {
        "duration": 8,
        "start_time": "2023-09-26T11:51:09.734Z"
      },
      {
        "duration": 10,
        "start_time": "2023-09-26T11:54:24.542Z"
      },
      {
        "duration": 128,
        "start_time": "2023-09-26T12:01:00.450Z"
      },
      {
        "duration": 11,
        "start_time": "2023-09-26T12:01:21.180Z"
      },
      {
        "duration": 11,
        "start_time": "2023-09-26T12:01:56.880Z"
      },
      {
        "duration": 36,
        "start_time": "2023-09-26T12:02:25.486Z"
      },
      {
        "duration": 31,
        "start_time": "2023-09-26T12:07:16.624Z"
      },
      {
        "duration": 23,
        "start_time": "2023-09-26T12:07:37.484Z"
      },
      {
        "duration": 12,
        "start_time": "2023-09-26T12:08:45.239Z"
      },
      {
        "duration": 11,
        "start_time": "2023-09-26T12:08:50.037Z"
      },
      {
        "duration": 11,
        "start_time": "2023-09-26T12:08:53.445Z"
      },
      {
        "duration": 5,
        "start_time": "2023-09-26T12:08:57.825Z"
      },
      {
        "duration": 7,
        "start_time": "2023-09-26T12:13:01.125Z"
      },
      {
        "duration": 20,
        "start_time": "2023-09-26T12:15:28.523Z"
      },
      {
        "duration": 196,
        "start_time": "2023-09-26T12:15:43.972Z"
      },
      {
        "duration": 188,
        "start_time": "2023-09-26T12:16:15.886Z"
      },
      {
        "duration": 358,
        "start_time": "2023-09-26T12:16:30.014Z"
      },
      {
        "duration": 202,
        "start_time": "2023-09-26T12:16:49.348Z"
      },
      {
        "duration": 362,
        "start_time": "2023-09-26T12:17:02.638Z"
      },
      {
        "duration": 291,
        "start_time": "2023-09-26T12:17:29.296Z"
      },
      {
        "duration": 280,
        "start_time": "2023-09-26T12:18:07.336Z"
      },
      {
        "duration": 246,
        "start_time": "2023-09-26T12:18:17.850Z"
      },
      {
        "duration": 377,
        "start_time": "2023-09-26T12:18:35.588Z"
      },
      {
        "duration": 242,
        "start_time": "2023-09-26T12:20:33.877Z"
      },
      {
        "duration": 250,
        "start_time": "2023-09-26T12:20:42.070Z"
      },
      {
        "duration": 220,
        "start_time": "2023-09-26T12:20:46.042Z"
      },
      {
        "duration": 296,
        "start_time": "2023-09-26T12:21:25.377Z"
      },
      {
        "duration": 1503,
        "start_time": "2023-09-26T12:39:47.251Z"
      },
      {
        "duration": 2336,
        "start_time": "2023-09-26T12:39:48.757Z"
      },
      {
        "duration": 23,
        "start_time": "2023-09-26T12:39:51.095Z"
      },
      {
        "duration": 39,
        "start_time": "2023-09-26T12:39:51.121Z"
      },
      {
        "duration": 34,
        "start_time": "2023-09-26T12:39:51.161Z"
      },
      {
        "duration": 136,
        "start_time": "2023-09-26T12:39:51.197Z"
      },
      {
        "duration": 21,
        "start_time": "2023-09-26T12:39:51.335Z"
      },
      {
        "duration": 118,
        "start_time": "2023-09-26T12:39:51.359Z"
      },
      {
        "duration": 265,
        "start_time": "2023-09-26T12:39:51.479Z"
      },
      {
        "duration": 154,
        "start_time": "2023-09-26T12:39:51.748Z"
      },
      {
        "duration": 286,
        "start_time": "2023-09-26T12:39:51.905Z"
      },
      {
        "duration": 31,
        "start_time": "2023-09-26T12:39:52.193Z"
      },
      {
        "duration": 15,
        "start_time": "2023-09-26T12:39:52.226Z"
      },
      {
        "duration": 37,
        "start_time": "2023-09-26T12:39:52.243Z"
      },
      {
        "duration": 41,
        "start_time": "2023-09-26T12:39:52.282Z"
      },
      {
        "duration": 23,
        "start_time": "2023-09-26T12:39:52.325Z"
      },
      {
        "duration": 28,
        "start_time": "2023-09-26T12:39:52.350Z"
      },
      {
        "duration": 16,
        "start_time": "2023-09-26T12:39:52.381Z"
      },
      {
        "duration": 359,
        "start_time": "2023-09-26T12:39:52.399Z"
      },
      {
        "duration": 379,
        "start_time": "2023-09-26T12:39:52.759Z"
      },
      {
        "duration": 25,
        "start_time": "2023-09-26T12:44:35.128Z"
      },
      {
        "duration": 25,
        "start_time": "2023-09-26T12:45:13.437Z"
      },
      {
        "duration": 15,
        "start_time": "2023-09-26T12:48:52.748Z"
      },
      {
        "duration": 22,
        "start_time": "2023-09-26T12:49:16.968Z"
      },
      {
        "duration": 269,
        "start_time": "2023-09-26T12:53:36.671Z"
      },
      {
        "duration": 24,
        "start_time": "2023-09-26T12:55:17.438Z"
      },
      {
        "duration": 22,
        "start_time": "2023-09-26T12:56:01.005Z"
      },
      {
        "duration": 273,
        "start_time": "2023-09-26T12:56:04.716Z"
      },
      {
        "duration": 26,
        "start_time": "2023-09-26T12:56:05.942Z"
      },
      {
        "duration": 21,
        "start_time": "2023-09-26T12:56:07.591Z"
      },
      {
        "duration": 27,
        "start_time": "2023-09-26T12:57:03.095Z"
      },
      {
        "duration": 17,
        "start_time": "2023-09-26T12:59:06.972Z"
      },
      {
        "duration": 203,
        "start_time": "2023-09-26T13:07:58.100Z"
      },
      {
        "duration": 416,
        "start_time": "2023-09-26T13:08:12.433Z"
      },
      {
        "duration": 286,
        "start_time": "2023-09-26T13:09:08.023Z"
      },
      {
        "duration": 421,
        "start_time": "2023-09-26T13:09:44.501Z"
      },
      {
        "duration": 1952,
        "start_time": "2023-09-26T13:10:34.294Z"
      },
      {
        "duration": 417,
        "start_time": "2023-09-26T13:10:46.085Z"
      },
      {
        "duration": 548,
        "start_time": "2023-09-26T13:11:26.663Z"
      },
      {
        "duration": 788,
        "start_time": "2023-09-26T13:11:47.541Z"
      },
      {
        "duration": 575,
        "start_time": "2023-09-26T13:11:56.188Z"
      },
      {
        "duration": 22,
        "start_time": "2023-09-26T13:13:05.308Z"
      },
      {
        "duration": 546,
        "start_time": "2023-09-26T13:13:25.831Z"
      },
      {
        "duration": 775,
        "start_time": "2023-09-26T13:13:32.499Z"
      },
      {
        "duration": 558,
        "start_time": "2023-09-26T13:16:06.438Z"
      },
      {
        "duration": 457,
        "start_time": "2023-09-26T13:21:44.928Z"
      },
      {
        "duration": 584,
        "start_time": "2023-09-26T13:22:15.627Z"
      },
      {
        "duration": 427,
        "start_time": "2023-09-26T13:22:37.424Z"
      },
      {
        "duration": 716,
        "start_time": "2023-09-26T13:22:57.477Z"
      },
      {
        "duration": 580,
        "start_time": "2023-09-26T13:23:22.849Z"
      },
      {
        "duration": 479,
        "start_time": "2023-09-26T13:23:36.242Z"
      },
      {
        "duration": 472,
        "start_time": "2023-09-26T13:26:25.876Z"
      },
      {
        "duration": 12,
        "start_time": "2023-09-26T13:30:38.433Z"
      },
      {
        "duration": 135,
        "start_time": "2023-09-26T13:31:39.210Z"
      },
      {
        "duration": 756,
        "start_time": "2023-09-26T13:31:59.902Z"
      },
      {
        "duration": 361,
        "start_time": "2023-09-26T13:33:29.427Z"
      },
      {
        "duration": 8,
        "start_time": "2023-09-26T13:35:28.863Z"
      },
      {
        "duration": 33,
        "start_time": "2023-09-26T13:36:21.736Z"
      },
      {
        "duration": 23,
        "start_time": "2023-09-26T13:36:49.393Z"
      },
      {
        "duration": 107,
        "start_time": "2023-09-26T13:39:37.434Z"
      },
      {
        "duration": 5,
        "start_time": "2023-09-26T13:39:54.551Z"
      },
      {
        "duration": 3,
        "start_time": "2023-09-26T13:40:47.886Z"
      },
      {
        "duration": 16,
        "start_time": "2023-09-26T13:42:59.505Z"
      },
      {
        "duration": 7,
        "start_time": "2023-09-26T13:44:10.674Z"
      },
      {
        "duration": 8,
        "start_time": "2023-09-26T13:45:53.861Z"
      },
      {
        "duration": 4,
        "start_time": "2023-09-26T13:48:10.986Z"
      },
      {
        "duration": 9,
        "start_time": "2023-09-26T13:49:27.580Z"
      },
      {
        "duration": 6,
        "start_time": "2023-09-26T13:49:28.177Z"
      },
      {
        "duration": 16,
        "start_time": "2023-09-26T13:49:40.149Z"
      },
      {
        "duration": 7,
        "start_time": "2023-09-26T13:49:46.089Z"
      },
      {
        "duration": 5,
        "start_time": "2023-09-26T13:53:12.236Z"
      },
      {
        "duration": 6,
        "start_time": "2023-09-26T13:53:28.146Z"
      },
      {
        "duration": 7,
        "start_time": "2023-09-26T13:53:36.536Z"
      },
      {
        "duration": 7,
        "start_time": "2023-09-26T13:56:19.455Z"
      },
      {
        "duration": 12,
        "start_time": "2023-09-26T13:57:29.592Z"
      },
      {
        "duration": 7,
        "start_time": "2023-09-26T13:58:04.683Z"
      },
      {
        "duration": 26,
        "start_time": "2023-09-26T13:58:12.003Z"
      },
      {
        "duration": 5,
        "start_time": "2023-09-26T13:59:13.463Z"
      },
      {
        "duration": 4,
        "start_time": "2023-09-26T13:59:18.263Z"
      },
      {
        "duration": 13,
        "start_time": "2023-09-26T14:02:39.188Z"
      },
      {
        "duration": 4,
        "start_time": "2023-09-26T14:03:00.291Z"
      },
      {
        "duration": 5,
        "start_time": "2023-09-26T14:04:13.260Z"
      },
      {
        "duration": 1590,
        "start_time": "2023-09-26T14:25:48.776Z"
      },
      {
        "duration": 3002,
        "start_time": "2023-09-26T14:25:50.368Z"
      },
      {
        "duration": 20,
        "start_time": "2023-09-26T14:25:53.372Z"
      },
      {
        "duration": 46,
        "start_time": "2023-09-26T14:25:53.394Z"
      },
      {
        "duration": 20,
        "start_time": "2023-09-26T14:25:53.447Z"
      },
      {
        "duration": 153,
        "start_time": "2023-09-26T14:25:53.469Z"
      },
      {
        "duration": 37,
        "start_time": "2023-09-26T14:25:53.624Z"
      },
      {
        "duration": 115,
        "start_time": "2023-09-26T14:25:53.663Z"
      },
      {
        "duration": 295,
        "start_time": "2023-09-26T14:25:53.780Z"
      },
      {
        "duration": 170,
        "start_time": "2023-09-26T14:25:54.076Z"
      },
      {
        "duration": 324,
        "start_time": "2023-09-26T14:25:54.247Z"
      },
      {
        "duration": 54,
        "start_time": "2023-09-26T14:25:54.574Z"
      },
      {
        "duration": 21,
        "start_time": "2023-09-26T14:25:54.631Z"
      },
      {
        "duration": 12,
        "start_time": "2023-09-26T14:25:54.656Z"
      },
      {
        "duration": 45,
        "start_time": "2023-09-26T14:25:54.670Z"
      },
      {
        "duration": 48,
        "start_time": "2023-09-26T14:25:54.717Z"
      },
      {
        "duration": 6,
        "start_time": "2023-09-26T14:25:54.768Z"
      },
      {
        "duration": 7,
        "start_time": "2023-09-26T14:25:54.777Z"
      },
      {
        "duration": 371,
        "start_time": "2023-09-26T14:25:54.786Z"
      },
      {
        "duration": 486,
        "start_time": "2023-09-26T14:25:55.160Z"
      },
      {
        "duration": 26,
        "start_time": "2023-09-26T14:25:55.648Z"
      },
      {
        "duration": 67,
        "start_time": "2023-09-26T14:25:55.676Z"
      },
      {
        "duration": 19,
        "start_time": "2023-09-26T14:25:55.745Z"
      },
      {
        "duration": 326,
        "start_time": "2023-09-26T14:25:55.766Z"
      },
      {
        "duration": 44,
        "start_time": "2023-09-26T14:25:56.094Z"
      },
      {
        "duration": 35,
        "start_time": "2023-09-26T14:25:56.139Z"
      },
      {
        "duration": 711,
        "start_time": "2023-09-26T14:25:56.176Z"
      },
      {
        "duration": 680,
        "start_time": "2023-09-26T14:25:56.889Z"
      },
      {
        "duration": 833,
        "start_time": "2023-09-26T14:25:57.571Z"
      },
      {
        "duration": 541,
        "start_time": "2023-09-26T14:25:58.406Z"
      },
      {
        "duration": 596,
        "start_time": "2023-09-26T14:25:58.951Z"
      },
      {
        "duration": 17,
        "start_time": "2023-09-26T14:25:59.550Z"
      },
      {
        "duration": 543,
        "start_time": "2023-09-26T14:25:59.569Z"
      },
      {
        "duration": 17,
        "start_time": "2023-09-26T14:26:00.119Z"
      },
      {
        "duration": 38,
        "start_time": "2023-09-26T14:26:00.140Z"
      },
      {
        "duration": 142,
        "start_time": "2023-09-26T14:26:00.180Z"
      },
      {
        "duration": 62,
        "start_time": "2023-09-26T14:26:00.323Z"
      },
      {
        "duration": 57,
        "start_time": "2023-09-26T14:26:00.387Z"
      },
      {
        "duration": 53,
        "start_time": "2023-09-26T14:26:00.447Z"
      },
      {
        "duration": 98,
        "start_time": "2023-09-26T14:26:00.502Z"
      },
      {
        "duration": 83,
        "start_time": "2023-09-26T14:26:00.606Z"
      },
      {
        "duration": 58,
        "start_time": "2023-09-26T14:26:00.690Z"
      },
      {
        "duration": 38,
        "start_time": "2023-09-26T14:26:00.750Z"
      },
      {
        "duration": 56,
        "start_time": "2023-09-26T14:26:00.790Z"
      },
      {
        "duration": 51,
        "start_time": "2023-09-26T14:26:00.848Z"
      },
      {
        "duration": 298,
        "start_time": "2023-09-26T14:26:00.901Z"
      },
      {
        "duration": 1717,
        "start_time": "2023-09-26T14:29:07.276Z"
      },
      {
        "duration": 2592,
        "start_time": "2023-09-26T14:29:08.997Z"
      },
      {
        "duration": 40,
        "start_time": "2023-09-26T14:29:11.591Z"
      },
      {
        "duration": 21,
        "start_time": "2023-09-26T14:29:11.645Z"
      },
      {
        "duration": 19,
        "start_time": "2023-09-26T14:29:11.669Z"
      },
      {
        "duration": 178,
        "start_time": "2023-09-26T14:29:11.689Z"
      },
      {
        "duration": 21,
        "start_time": "2023-09-26T14:29:11.869Z"
      },
      {
        "duration": 152,
        "start_time": "2023-09-26T14:29:11.892Z"
      },
      {
        "duration": 310,
        "start_time": "2023-09-26T14:29:12.048Z"
      },
      {
        "duration": 206,
        "start_time": "2023-09-26T14:29:12.362Z"
      },
      {
        "duration": 366,
        "start_time": "2023-09-26T14:29:12.572Z"
      },
      {
        "duration": 28,
        "start_time": "2023-09-26T14:29:12.940Z"
      },
      {
        "duration": 59,
        "start_time": "2023-09-26T14:29:12.970Z"
      },
      {
        "duration": 20,
        "start_time": "2023-09-26T14:29:13.045Z"
      },
      {
        "duration": 31,
        "start_time": "2023-09-26T14:29:13.070Z"
      },
      {
        "duration": 68,
        "start_time": "2023-09-26T14:29:13.104Z"
      },
      {
        "duration": 7,
        "start_time": "2023-09-26T14:29:13.175Z"
      },
      {
        "duration": 19,
        "start_time": "2023-09-26T14:29:13.184Z"
      },
      {
        "duration": 378,
        "start_time": "2023-09-26T14:29:13.206Z"
      },
      {
        "duration": 482,
        "start_time": "2023-09-26T14:29:13.586Z"
      },
      {
        "duration": 25,
        "start_time": "2023-09-26T14:29:14.070Z"
      },
      {
        "duration": 143,
        "start_time": "2023-09-26T14:29:14.097Z"
      },
      {
        "duration": 33,
        "start_time": "2023-09-26T14:29:14.245Z"
      },
      {
        "duration": 365,
        "start_time": "2023-09-26T14:29:14.280Z"
      },
      {
        "duration": 24,
        "start_time": "2023-09-26T14:29:14.655Z"
      },
      {
        "duration": 53,
        "start_time": "2023-09-26T14:29:14.681Z"
      },
      {
        "duration": 729,
        "start_time": "2023-09-26T14:29:14.740Z"
      },
      {
        "duration": 710,
        "start_time": "2023-09-26T14:29:15.471Z"
      },
      {
        "duration": 879,
        "start_time": "2023-09-26T14:29:16.183Z"
      },
      {
        "duration": 574,
        "start_time": "2023-09-26T14:29:17.072Z"
      },
      {
        "duration": 578,
        "start_time": "2023-09-26T14:29:17.649Z"
      },
      {
        "duration": 22,
        "start_time": "2023-09-26T14:29:18.239Z"
      },
      {
        "duration": 574,
        "start_time": "2023-09-26T14:29:18.263Z"
      },
      {
        "duration": 11,
        "start_time": "2023-09-26T14:29:18.840Z"
      },
      {
        "duration": 43,
        "start_time": "2023-09-26T14:29:18.854Z"
      },
      {
        "duration": 4,
        "start_time": "2023-09-26T14:29:18.899Z"
      },
      {
        "duration": 20,
        "start_time": "2023-09-26T14:29:18.916Z"
      },
      {
        "duration": 20,
        "start_time": "2023-09-26T14:29:18.943Z"
      },
      {
        "duration": 10,
        "start_time": "2023-09-26T14:29:18.965Z"
      },
      {
        "duration": 14,
        "start_time": "2023-09-26T14:29:18.977Z"
      },
      {
        "duration": 42,
        "start_time": "2023-09-26T14:29:18.996Z"
      },
      {
        "duration": 17,
        "start_time": "2023-09-26T14:29:19.040Z"
      },
      {
        "duration": 6,
        "start_time": "2023-09-26T14:29:19.059Z"
      },
      {
        "duration": 8,
        "start_time": "2023-09-26T14:29:19.067Z"
      },
      {
        "duration": 17,
        "start_time": "2023-09-26T14:29:19.077Z"
      },
      {
        "duration": 178,
        "start_time": "2023-09-26T14:29:19.096Z"
      },
      {
        "duration": 16,
        "start_time": "2023-09-26T14:30:14.670Z"
      },
      {
        "duration": 2086,
        "start_time": "2023-09-26T14:33:42.139Z"
      },
      {
        "duration": 2973,
        "start_time": "2023-09-26T14:33:44.232Z"
      },
      {
        "duration": 51,
        "start_time": "2023-09-26T14:33:47.208Z"
      },
      {
        "duration": 24,
        "start_time": "2023-09-26T14:33:47.262Z"
      },
      {
        "duration": 52,
        "start_time": "2023-09-26T14:33:47.288Z"
      },
      {
        "duration": 158,
        "start_time": "2023-09-26T14:33:47.347Z"
      },
      {
        "duration": 57,
        "start_time": "2023-09-26T14:33:47.512Z"
      },
      {
        "duration": 127,
        "start_time": "2023-09-26T14:33:47.571Z"
      },
      {
        "duration": 341,
        "start_time": "2023-09-26T14:33:47.701Z"
      },
      {
        "duration": 179,
        "start_time": "2023-09-26T14:33:48.045Z"
      },
      {
        "duration": 348,
        "start_time": "2023-09-26T14:33:48.225Z"
      },
      {
        "duration": 23,
        "start_time": "2023-09-26T14:33:48.575Z"
      },
      {
        "duration": 30,
        "start_time": "2023-09-26T14:33:48.601Z"
      },
      {
        "duration": 16,
        "start_time": "2023-09-26T14:33:48.635Z"
      },
      {
        "duration": 33,
        "start_time": "2023-09-26T14:33:48.655Z"
      },
      {
        "duration": 70,
        "start_time": "2023-09-26T14:33:48.691Z"
      },
      {
        "duration": 7,
        "start_time": "2023-09-26T14:33:48.764Z"
      },
      {
        "duration": 42,
        "start_time": "2023-09-26T14:33:48.774Z"
      },
      {
        "duration": 329,
        "start_time": "2023-09-26T14:33:48.819Z"
      },
      {
        "duration": 438,
        "start_time": "2023-09-26T14:33:49.150Z"
      },
      {
        "duration": 58,
        "start_time": "2023-09-26T14:33:49.591Z"
      },
      {
        "duration": 27,
        "start_time": "2023-09-26T14:33:49.651Z"
      },
      {
        "duration": 46,
        "start_time": "2023-09-26T14:33:49.679Z"
      },
      {
        "duration": 342,
        "start_time": "2023-09-26T14:33:49.727Z"
      },
      {
        "duration": 25,
        "start_time": "2023-09-26T14:33:50.071Z"
      },
      {
        "duration": 44,
        "start_time": "2023-09-26T14:33:50.116Z"
      },
      {
        "duration": 713,
        "start_time": "2023-09-26T14:33:50.163Z"
      },
      {
        "duration": 787,
        "start_time": "2023-09-26T14:33:50.882Z"
      },
      {
        "duration": 895,
        "start_time": "2023-09-26T14:33:51.672Z"
      },
      {
        "duration": 624,
        "start_time": "2023-09-26T14:33:52.572Z"
      },
      {
        "duration": 582,
        "start_time": "2023-09-26T14:33:53.198Z"
      },
      {
        "duration": 10,
        "start_time": "2023-09-26T14:33:53.783Z"
      },
      {
        "duration": 554,
        "start_time": "2023-09-26T14:33:53.795Z"
      },
      {
        "duration": 9,
        "start_time": "2023-09-26T14:33:54.352Z"
      },
      {
        "duration": 78,
        "start_time": "2023-09-26T14:33:54.363Z"
      },
      {
        "duration": 11,
        "start_time": "2023-09-26T14:33:54.443Z"
      },
      {
        "duration": 29,
        "start_time": "2023-09-26T14:33:54.457Z"
      },
      {
        "duration": 76,
        "start_time": "2023-09-26T14:33:54.487Z"
      },
      {
        "duration": 178,
        "start_time": "2023-09-26T14:33:54.566Z"
      },
      {
        "duration": 0,
        "start_time": "2023-09-26T14:33:54.746Z"
      },
      {
        "duration": 0,
        "start_time": "2023-09-26T14:33:54.748Z"
      },
      {
        "duration": 0,
        "start_time": "2023-09-26T14:33:54.752Z"
      },
      {
        "duration": 0,
        "start_time": "2023-09-26T14:33:54.754Z"
      },
      {
        "duration": 0,
        "start_time": "2023-09-26T14:33:54.755Z"
      },
      {
        "duration": 0,
        "start_time": "2023-09-26T14:33:54.757Z"
      },
      {
        "duration": 0,
        "start_time": "2023-09-26T14:33:54.758Z"
      },
      {
        "duration": 6,
        "start_time": "2023-09-26T14:34:08.873Z"
      },
      {
        "duration": 20,
        "start_time": "2023-09-26T14:34:10.025Z"
      },
      {
        "duration": 9,
        "start_time": "2023-09-26T14:34:12.386Z"
      },
      {
        "duration": 9,
        "start_time": "2023-09-26T14:34:15.303Z"
      },
      {
        "duration": 11,
        "start_time": "2023-09-26T14:34:15.836Z"
      },
      {
        "duration": 4,
        "start_time": "2023-09-26T14:34:16.482Z"
      },
      {
        "duration": 10,
        "start_time": "2023-09-26T14:34:18.745Z"
      },
      {
        "duration": 282,
        "start_time": "2023-09-26T14:34:19.474Z"
      },
      {
        "duration": 104,
        "start_time": "2023-09-26T14:34:59.231Z"
      },
      {
        "duration": 409,
        "start_time": "2023-09-26T14:36:47.475Z"
      },
      {
        "duration": 8,
        "start_time": "2023-09-26T14:43:09.688Z"
      },
      {
        "duration": 26,
        "start_time": "2023-09-26T14:43:48.432Z"
      },
      {
        "duration": 4,
        "start_time": "2023-09-26T14:44:31.274Z"
      },
      {
        "duration": 17,
        "start_time": "2023-09-26T14:44:52.961Z"
      },
      {
        "duration": 13,
        "start_time": "2023-09-26T14:45:27.643Z"
      },
      {
        "duration": 12,
        "start_time": "2023-09-26T14:45:47.009Z"
      },
      {
        "duration": 7,
        "start_time": "2023-09-26T14:46:01.740Z"
      },
      {
        "duration": 4,
        "start_time": "2023-09-26T14:46:17.473Z"
      },
      {
        "duration": 260,
        "start_time": "2023-09-26T14:46:34.362Z"
      },
      {
        "duration": 299,
        "start_time": "2023-09-26T14:47:16.874Z"
      },
      {
        "duration": 1807,
        "start_time": "2023-09-27T12:16:32.395Z"
      },
      {
        "duration": 3383,
        "start_time": "2023-09-27T12:16:34.204Z"
      },
      {
        "duration": 16,
        "start_time": "2023-09-27T12:16:37.589Z"
      },
      {
        "duration": 30,
        "start_time": "2023-09-27T12:16:37.608Z"
      },
      {
        "duration": 26,
        "start_time": "2023-09-27T12:16:37.640Z"
      },
      {
        "duration": 142,
        "start_time": "2023-09-27T12:16:37.667Z"
      },
      {
        "duration": 31,
        "start_time": "2023-09-27T12:16:37.811Z"
      },
      {
        "duration": 143,
        "start_time": "2023-09-27T12:16:37.844Z"
      },
      {
        "duration": 237,
        "start_time": "2023-09-27T12:16:37.989Z"
      },
      {
        "duration": 136,
        "start_time": "2023-09-27T12:16:38.230Z"
      },
      {
        "duration": 243,
        "start_time": "2023-09-27T12:16:38.367Z"
      },
      {
        "duration": 25,
        "start_time": "2023-09-27T12:16:38.612Z"
      },
      {
        "duration": 14,
        "start_time": "2023-09-27T12:16:38.639Z"
      },
      {
        "duration": 39,
        "start_time": "2023-09-27T12:16:38.655Z"
      },
      {
        "duration": 53,
        "start_time": "2023-09-27T12:16:38.696Z"
      },
      {
        "duration": 23,
        "start_time": "2023-09-27T12:16:38.751Z"
      },
      {
        "duration": 17,
        "start_time": "2023-09-27T12:16:38.775Z"
      },
      {
        "duration": 21,
        "start_time": "2023-09-27T12:16:38.794Z"
      },
      {
        "duration": 283,
        "start_time": "2023-09-27T12:16:38.817Z"
      },
      {
        "duration": 371,
        "start_time": "2023-09-27T12:16:39.101Z"
      },
      {
        "duration": 21,
        "start_time": "2023-09-27T12:16:39.474Z"
      },
      {
        "duration": 35,
        "start_time": "2023-09-27T12:16:39.497Z"
      },
      {
        "duration": 19,
        "start_time": "2023-09-27T12:16:39.534Z"
      },
      {
        "duration": 265,
        "start_time": "2023-09-27T12:16:39.555Z"
      },
      {
        "duration": 24,
        "start_time": "2023-09-27T12:16:39.823Z"
      },
      {
        "duration": 28,
        "start_time": "2023-09-27T12:16:39.849Z"
      },
      {
        "duration": 643,
        "start_time": "2023-09-27T12:16:39.879Z"
      },
      {
        "duration": 532,
        "start_time": "2023-09-27T12:16:40.527Z"
      },
      {
        "duration": 652,
        "start_time": "2023-09-27T12:16:41.061Z"
      },
      {
        "duration": 415,
        "start_time": "2023-09-27T12:16:41.715Z"
      },
      {
        "duration": 422,
        "start_time": "2023-09-27T12:16:42.131Z"
      },
      {
        "duration": 10,
        "start_time": "2023-09-27T12:16:42.554Z"
      },
      {
        "duration": 424,
        "start_time": "2023-09-27T12:16:42.565Z"
      },
      {
        "duration": 6,
        "start_time": "2023-09-27T12:16:42.991Z"
      },
      {
        "duration": 60,
        "start_time": "2023-09-27T12:16:42.999Z"
      },
      {
        "duration": 3,
        "start_time": "2023-09-27T12:16:43.061Z"
      },
      {
        "duration": 4,
        "start_time": "2023-09-27T12:16:43.067Z"
      },
      {
        "duration": 21,
        "start_time": "2023-09-27T12:16:43.072Z"
      },
      {
        "duration": 12,
        "start_time": "2023-09-27T12:16:43.095Z"
      },
      {
        "duration": 15,
        "start_time": "2023-09-27T12:16:43.109Z"
      },
      {
        "duration": 18,
        "start_time": "2023-09-27T12:16:43.127Z"
      },
      {
        "duration": 3,
        "start_time": "2023-09-27T12:16:43.148Z"
      },
      {
        "duration": 6,
        "start_time": "2023-09-27T12:16:43.153Z"
      },
      {
        "duration": 7,
        "start_time": "2023-09-27T12:16:43.160Z"
      },
      {
        "duration": 306,
        "start_time": "2023-09-27T12:16:43.169Z"
      },
      {
        "duration": 1912,
        "start_time": "2023-09-27T13:56:44.682Z"
      },
      {
        "duration": 5045,
        "start_time": "2023-09-27T13:56:58.083Z"
      },
      {
        "duration": 23,
        "start_time": "2023-09-27T13:57:03.133Z"
      },
      {
        "duration": 15,
        "start_time": "2023-09-27T13:57:03.158Z"
      },
      {
        "duration": 83,
        "start_time": "2023-09-27T13:57:03.174Z"
      },
      {
        "duration": 16,
        "start_time": "2023-09-27T13:59:02.391Z"
      },
      {
        "duration": 14,
        "start_time": "2023-09-27T13:59:02.763Z"
      },
      {
        "duration": 18,
        "start_time": "2023-09-27T13:59:02.964Z"
      },
      {
        "duration": 142,
        "start_time": "2023-09-27T13:59:03.842Z"
      },
      {
        "duration": 20,
        "start_time": "2023-09-27T13:59:04.447Z"
      },
      {
        "duration": 131,
        "start_time": "2023-09-27T13:59:04.907Z"
      },
      {
        "duration": 304,
        "start_time": "2023-09-27T13:59:05.873Z"
      },
      {
        "duration": 152,
        "start_time": "2023-09-27T13:59:06.227Z"
      },
      {
        "duration": 306,
        "start_time": "2023-09-27T13:59:06.779Z"
      },
      {
        "duration": 24,
        "start_time": "2023-09-27T13:59:07.326Z"
      },
      {
        "duration": 13,
        "start_time": "2023-09-27T13:59:08.758Z"
      },
      {
        "duration": 9,
        "start_time": "2023-09-27T13:59:15.858Z"
      },
      {
        "duration": 27,
        "start_time": "2023-09-27T13:59:36.964Z"
      },
      {
        "duration": 32,
        "start_time": "2023-09-27T13:59:37.331Z"
      },
      {
        "duration": 5,
        "start_time": "2023-09-27T13:59:37.502Z"
      },
      {
        "duration": 5,
        "start_time": "2023-09-27T13:59:37.665Z"
      },
      {
        "duration": 299,
        "start_time": "2023-09-27T13:59:37.838Z"
      },
      {
        "duration": 331,
        "start_time": "2023-09-27T13:59:38.142Z"
      },
      {
        "duration": 27,
        "start_time": "2023-09-27T13:59:38.535Z"
      },
      {
        "duration": 31,
        "start_time": "2023-09-27T13:59:38.697Z"
      },
      {
        "duration": 21,
        "start_time": "2023-09-27T13:59:38.868Z"
      },
      {
        "duration": 418,
        "start_time": "2023-09-27T13:59:39.227Z"
      },
      {
        "duration": 30,
        "start_time": "2023-09-27T13:59:40.131Z"
      },
      {
        "duration": 32,
        "start_time": "2023-09-27T13:59:40.331Z"
      },
      {
        "duration": 684,
        "start_time": "2023-09-27T13:59:41.035Z"
      },
      {
        "duration": 657,
        "start_time": "2023-09-27T13:59:41.721Z"
      },
      {
        "duration": 885,
        "start_time": "2023-09-27T13:59:42.380Z"
      },
      {
        "duration": 514,
        "start_time": "2023-09-27T13:59:43.268Z"
      },
      {
        "duration": 650,
        "start_time": "2023-09-27T13:59:43.784Z"
      },
      {
        "duration": 16,
        "start_time": "2023-09-27T13:59:44.436Z"
      },
      {
        "duration": 416,
        "start_time": "2023-09-27T13:59:44.454Z"
      },
      {
        "duration": 7,
        "start_time": "2023-09-27T13:59:44.873Z"
      },
      {
        "duration": 48,
        "start_time": "2023-09-27T13:59:44.882Z"
      },
      {
        "duration": 4,
        "start_time": "2023-09-27T13:59:46.870Z"
      },
      {
        "duration": 3,
        "start_time": "2023-09-27T13:59:47.206Z"
      },
      {
        "duration": 10,
        "start_time": "2023-09-27T14:00:10.567Z"
      },
      {
        "duration": 7,
        "start_time": "2023-09-27T14:00:12.678Z"
      },
      {
        "duration": 3,
        "start_time": "2023-09-27T14:00:14.147Z"
      },
      {
        "duration": 8,
        "start_time": "2023-09-27T14:00:14.459Z"
      },
      {
        "duration": 3,
        "start_time": "2023-09-27T14:00:15.175Z"
      },
      {
        "duration": 3,
        "start_time": "2023-09-27T14:00:16.902Z"
      },
      {
        "duration": 5,
        "start_time": "2023-09-27T14:00:17.859Z"
      },
      {
        "duration": 535,
        "start_time": "2023-09-27T14:00:18.566Z"
      },
      {
        "duration": 3,
        "start_time": "2023-09-27T14:03:57.442Z"
      },
      {
        "duration": 10,
        "start_time": "2023-09-27T14:08:07.268Z"
      },
      {
        "duration": 10,
        "start_time": "2023-09-27T14:08:37.667Z"
      },
      {
        "duration": 7,
        "start_time": "2023-09-27T14:11:29.830Z"
      },
      {
        "duration": 258,
        "start_time": "2023-09-27T14:13:15.268Z"
      },
      {
        "duration": 1658,
        "start_time": "2023-09-27T14:19:21.770Z"
      },
      {
        "duration": 858,
        "start_time": "2023-09-27T14:21:57.272Z"
      },
      {
        "duration": 1870,
        "start_time": "2023-09-27T14:22:55.783Z"
      },
      {
        "duration": 1651,
        "start_time": "2023-09-27T14:23:15.598Z"
      },
      {
        "duration": 19,
        "start_time": "2023-09-27T14:23:17.455Z"
      },
      {
        "duration": 18,
        "start_time": "2023-09-27T14:23:21.622Z"
      },
      {
        "duration": 19,
        "start_time": "2023-09-27T14:23:25.073Z"
      },
      {
        "duration": 137,
        "start_time": "2023-09-27T14:23:31.000Z"
      },
      {
        "duration": 33,
        "start_time": "2023-09-27T14:23:31.788Z"
      },
      {
        "duration": 111,
        "start_time": "2023-09-27T14:23:32.420Z"
      },
      {
        "duration": 260,
        "start_time": "2023-09-27T14:23:33.538Z"
      },
      {
        "duration": 150,
        "start_time": "2023-09-27T14:23:34.758Z"
      },
      {
        "duration": 295,
        "start_time": "2023-09-27T14:23:38.835Z"
      },
      {
        "duration": 16,
        "start_time": "2023-09-27T14:26:21.855Z"
      },
      {
        "duration": 130,
        "start_time": "2023-09-27T14:26:22.287Z"
      },
      {
        "duration": 26,
        "start_time": "2023-09-27T14:26:22.523Z"
      },
      {
        "duration": 107,
        "start_time": "2023-09-27T14:26:22.731Z"
      },
      {
        "duration": 129,
        "start_time": "2023-09-27T14:27:36.734Z"
      },
      {
        "duration": 777,
        "start_time": "2023-09-27T14:27:42.321Z"
      },
      {
        "duration": 2451,
        "start_time": "2023-09-27T14:29:03.230Z"
      },
      {
        "duration": 18,
        "start_time": "2023-09-27T14:29:10.389Z"
      },
      {
        "duration": 22,
        "start_time": "2023-09-27T14:29:14.401Z"
      },
      {
        "duration": 23,
        "start_time": "2023-09-27T14:29:17.820Z"
      },
      {
        "duration": 9,
        "start_time": "2023-09-27T14:29:52.820Z"
      },
      {
        "duration": 856,
        "start_time": "2023-09-27T14:29:52.969Z"
      },
      {
        "duration": 17,
        "start_time": "2023-09-27T14:29:53.827Z"
      },
      {
        "duration": 19,
        "start_time": "2023-09-27T14:29:53.846Z"
      },
      {
        "duration": 55,
        "start_time": "2023-09-27T14:29:53.867Z"
      },
      {
        "duration": 152,
        "start_time": "2023-09-27T14:29:53.924Z"
      },
      {
        "duration": 21,
        "start_time": "2023-09-27T14:29:54.079Z"
      },
      {
        "duration": 110,
        "start_time": "2023-09-27T14:29:54.101Z"
      },
      {
        "duration": 264,
        "start_time": "2023-09-27T14:29:54.363Z"
      },
      {
        "duration": 134,
        "start_time": "2023-09-27T14:29:54.629Z"
      },
      {
        "duration": 287,
        "start_time": "2023-09-27T14:29:54.765Z"
      },
      {
        "duration": 18,
        "start_time": "2023-09-27T14:29:55.054Z"
      },
      {
        "duration": 15,
        "start_time": "2023-09-27T14:29:55.120Z"
      },
      {
        "duration": 12,
        "start_time": "2023-09-27T14:29:55.294Z"
      },
      {
        "duration": 31,
        "start_time": "2023-09-27T14:29:55.608Z"
      },
      {
        "duration": 22,
        "start_time": "2023-09-27T14:29:55.932Z"
      },
      {
        "duration": 5,
        "start_time": "2023-09-27T14:29:57.058Z"
      },
      {
        "duration": 25,
        "start_time": "2023-09-27T14:29:57.066Z"
      },
      {
        "duration": 283,
        "start_time": "2023-09-27T14:29:57.093Z"
      },
      {
        "duration": 371,
        "start_time": "2023-09-27T14:29:57.378Z"
      },
      {
        "duration": 24,
        "start_time": "2023-09-27T14:29:57.751Z"
      },
      {
        "duration": 48,
        "start_time": "2023-09-27T14:29:57.776Z"
      },
      {
        "duration": 128,
        "start_time": "2023-09-27T14:29:57.825Z"
      },
      {
        "duration": 279,
        "start_time": "2023-09-27T14:29:57.955Z"
      },
      {
        "duration": 24,
        "start_time": "2023-09-27T14:29:58.238Z"
      },
      {
        "duration": 30,
        "start_time": "2023-09-27T14:29:58.264Z"
      },
      {
        "duration": 585,
        "start_time": "2023-09-27T14:29:58.842Z"
      },
      {
        "duration": 695,
        "start_time": "2023-09-27T14:29:59.430Z"
      },
      {
        "duration": 598,
        "start_time": "2023-09-27T14:30:00.129Z"
      },
      {
        "duration": 444,
        "start_time": "2023-09-27T14:30:00.729Z"
      },
      {
        "duration": 494,
        "start_time": "2023-09-27T14:30:01.175Z"
      },
      {
        "duration": 10,
        "start_time": "2023-09-27T14:30:01.671Z"
      },
      {
        "duration": 618,
        "start_time": "2023-09-27T14:30:01.683Z"
      },
      {
        "duration": 16,
        "start_time": "2023-09-27T14:30:02.309Z"
      },
      {
        "duration": 254,
        "start_time": "2023-09-27T14:30:02.329Z"
      },
      {
        "duration": 252,
        "start_time": "2023-09-27T14:30:02.585Z"
      },
      {
        "duration": 49,
        "start_time": "2023-09-27T14:30:02.838Z"
      },
      {
        "duration": 55,
        "start_time": "2023-09-27T14:30:02.888Z"
      },
      {
        "duration": 79,
        "start_time": "2023-09-27T14:30:02.945Z"
      },
      {
        "duration": 36,
        "start_time": "2023-09-27T14:30:03.026Z"
      },
      {
        "duration": 40,
        "start_time": "2023-09-27T14:30:03.064Z"
      },
      {
        "duration": 228,
        "start_time": "2023-09-27T14:30:44.623Z"
      },
      {
        "duration": 12,
        "start_time": "2023-09-27T14:33:20.188Z"
      },
      {
        "duration": 6,
        "start_time": "2023-09-27T14:33:43.408Z"
      },
      {
        "duration": 1648,
        "start_time": "2023-09-27T14:33:59.930Z"
      },
      {
        "duration": 1115,
        "start_time": "2023-09-27T14:34:01.580Z"
      },
      {
        "duration": 32,
        "start_time": "2023-09-27T14:34:02.697Z"
      },
      {
        "duration": 40,
        "start_time": "2023-09-27T14:34:02.732Z"
      },
      {
        "duration": 58,
        "start_time": "2023-09-27T14:34:02.775Z"
      },
      {
        "duration": 166,
        "start_time": "2023-09-27T14:34:02.836Z"
      },
      {
        "duration": 35,
        "start_time": "2023-09-27T14:34:03.004Z"
      },
      {
        "duration": 131,
        "start_time": "2023-09-27T14:34:03.041Z"
      },
      {
        "duration": 656,
        "start_time": "2023-09-27T14:34:03.174Z"
      },
      {
        "duration": 310,
        "start_time": "2023-09-27T14:34:03.833Z"
      },
      {
        "duration": 800,
        "start_time": "2023-09-27T14:34:04.146Z"
      },
      {
        "duration": 79,
        "start_time": "2023-09-27T14:34:04.948Z"
      },
      {
        "duration": 20,
        "start_time": "2023-09-27T14:34:05.029Z"
      },
      {
        "duration": 66,
        "start_time": "2023-09-27T14:34:05.054Z"
      },
      {
        "duration": 101,
        "start_time": "2023-09-27T14:34:05.123Z"
      },
      {
        "duration": 97,
        "start_time": "2023-09-27T14:34:05.227Z"
      },
      {
        "duration": 18,
        "start_time": "2023-09-27T14:34:05.326Z"
      },
      {
        "duration": 26,
        "start_time": "2023-09-27T14:34:05.347Z"
      },
      {
        "duration": 758,
        "start_time": "2023-09-27T14:34:05.375Z"
      },
      {
        "duration": 995,
        "start_time": "2023-09-27T14:34:06.135Z"
      },
      {
        "duration": 84,
        "start_time": "2023-09-27T14:34:07.132Z"
      },
      {
        "duration": 30,
        "start_time": "2023-09-27T14:34:07.223Z"
      },
      {
        "duration": 83,
        "start_time": "2023-09-27T14:34:07.255Z"
      },
      {
        "duration": 906,
        "start_time": "2023-09-27T14:34:07.340Z"
      },
      {
        "duration": 86,
        "start_time": "2023-09-27T14:34:08.249Z"
      },
      {
        "duration": 32,
        "start_time": "2023-09-27T14:34:08.339Z"
      },
      {
        "duration": 647,
        "start_time": "2023-09-27T14:34:08.411Z"
      },
      {
        "duration": 635,
        "start_time": "2023-09-27T14:34:09.060Z"
      },
      {
        "duration": 767,
        "start_time": "2023-09-27T14:34:09.697Z"
      },
      {
        "duration": 484,
        "start_time": "2023-09-27T14:34:10.466Z"
      },
      {
        "duration": 498,
        "start_time": "2023-09-27T14:34:10.952Z"
      },
      {
        "duration": 13,
        "start_time": "2023-09-27T14:34:11.452Z"
      },
      {
        "duration": 495,
        "start_time": "2023-09-27T14:34:11.467Z"
      },
      {
        "duration": 7,
        "start_time": "2023-09-27T14:34:11.964Z"
      },
      {
        "duration": 230,
        "start_time": "2023-09-27T14:34:11.972Z"
      },
      {
        "duration": 12,
        "start_time": "2023-09-27T14:34:12.204Z"
      },
      {
        "duration": 11,
        "start_time": "2023-09-27T14:34:12.220Z"
      },
      {
        "duration": 5,
        "start_time": "2023-09-27T14:34:12.233Z"
      },
      {
        "duration": 153,
        "start_time": "2023-09-27T14:34:12.239Z"
      },
      {
        "duration": 0,
        "start_time": "2023-09-27T14:34:12.394Z"
      },
      {
        "duration": 0,
        "start_time": "2023-09-27T14:34:12.396Z"
      },
      {
        "duration": 21,
        "start_time": "2023-09-27T14:35:56.931Z"
      },
      {
        "duration": 7,
        "start_time": "2023-09-27T14:37:55.015Z"
      },
      {
        "duration": 8,
        "start_time": "2023-09-27T14:38:02.697Z"
      },
      {
        "duration": 7,
        "start_time": "2023-09-27T14:38:09.586Z"
      },
      {
        "duration": 231,
        "start_time": "2023-09-27T14:38:13.170Z"
      },
      {
        "duration": 11,
        "start_time": "2023-09-27T14:45:24.380Z"
      },
      {
        "duration": 22,
        "start_time": "2023-09-27T14:45:29.743Z"
      },
      {
        "duration": 4,
        "start_time": "2023-09-27T14:45:46.404Z"
      },
      {
        "duration": 6,
        "start_time": "2023-09-27T14:45:52.494Z"
      },
      {
        "duration": 271,
        "start_time": "2023-09-27T14:46:01.220Z"
      },
      {
        "duration": 357,
        "start_time": "2023-09-27T14:46:02.247Z"
      },
      {
        "duration": 18,
        "start_time": "2023-09-27T14:46:05.754Z"
      },
      {
        "duration": 23,
        "start_time": "2023-09-27T14:46:10.028Z"
      },
      {
        "duration": 20,
        "start_time": "2023-09-27T14:46:12.240Z"
      },
      {
        "duration": 282,
        "start_time": "2023-09-27T14:46:14.983Z"
      },
      {
        "duration": 460,
        "start_time": "2023-09-27T14:46:51.826Z"
      },
      {
        "duration": 1569,
        "start_time": "2023-09-27T14:48:04.824Z"
      },
      {
        "duration": 1025,
        "start_time": "2023-09-27T14:48:06.395Z"
      },
      {
        "duration": 22,
        "start_time": "2023-09-27T14:48:07.423Z"
      },
      {
        "duration": 16,
        "start_time": "2023-09-27T14:48:07.447Z"
      },
      {
        "duration": 21,
        "start_time": "2023-09-27T14:48:07.465Z"
      },
      {
        "duration": 174,
        "start_time": "2023-09-27T14:48:07.488Z"
      },
      {
        "duration": 22,
        "start_time": "2023-09-27T14:48:07.664Z"
      },
      {
        "duration": 140,
        "start_time": "2023-09-27T14:48:07.688Z"
      },
      {
        "duration": 282,
        "start_time": "2023-09-27T14:48:07.831Z"
      },
      {
        "duration": 143,
        "start_time": "2023-09-27T14:48:08.125Z"
      },
      {
        "duration": 286,
        "start_time": "2023-09-27T14:48:08.269Z"
      },
      {
        "duration": 20,
        "start_time": "2023-09-27T14:48:08.557Z"
      },
      {
        "duration": 41,
        "start_time": "2023-09-27T14:48:08.579Z"
      },
      {
        "duration": 11,
        "start_time": "2023-09-27T14:48:08.631Z"
      },
      {
        "duration": 12,
        "start_time": "2023-09-27T14:48:08.643Z"
      },
      {
        "duration": 23,
        "start_time": "2023-09-27T14:48:08.657Z"
      },
      {
        "duration": 31,
        "start_time": "2023-09-27T14:48:08.682Z"
      },
      {
        "duration": 11,
        "start_time": "2023-09-27T14:48:08.717Z"
      },
      {
        "duration": 300,
        "start_time": "2023-09-27T14:48:08.730Z"
      },
      {
        "duration": 389,
        "start_time": "2023-09-27T14:48:09.032Z"
      },
      {
        "duration": 27,
        "start_time": "2023-09-27T14:48:09.423Z"
      },
      {
        "duration": 33,
        "start_time": "2023-09-27T14:48:09.452Z"
      },
      {
        "duration": 41,
        "start_time": "2023-09-27T14:48:09.487Z"
      },
      {
        "duration": 273,
        "start_time": "2023-09-27T14:48:09.530Z"
      },
      {
        "duration": 26,
        "start_time": "2023-09-27T14:48:09.812Z"
      },
      {
        "duration": 36,
        "start_time": "2023-09-27T14:48:09.840Z"
      },
      {
        "duration": 610,
        "start_time": "2023-09-27T14:48:09.878Z"
      },
      {
        "duration": 675,
        "start_time": "2023-09-27T14:48:10.489Z"
      },
      {
        "duration": 764,
        "start_time": "2023-09-27T14:48:11.166Z"
      },
      {
        "duration": 507,
        "start_time": "2023-09-27T14:48:11.932Z"
      },
      {
        "duration": 992,
        "start_time": "2023-09-27T14:48:12.441Z"
      },
      {
        "duration": 16,
        "start_time": "2023-09-27T14:48:13.436Z"
      },
      {
        "duration": 1173,
        "start_time": "2023-09-27T14:48:13.454Z"
      },
      {
        "duration": 13,
        "start_time": "2023-09-27T14:48:14.628Z"
      },
      {
        "duration": 71,
        "start_time": "2023-09-27T14:48:14.644Z"
      },
      {
        "duration": 5,
        "start_time": "2023-09-27T14:48:14.717Z"
      },
      {
        "duration": 11,
        "start_time": "2023-09-27T14:48:14.724Z"
      },
      {
        "duration": 7,
        "start_time": "2023-09-27T14:48:14.737Z"
      },
      {
        "duration": 9,
        "start_time": "2023-09-27T14:48:14.746Z"
      },
      {
        "duration": 61,
        "start_time": "2023-09-27T14:48:14.758Z"
      },
      {
        "duration": 739,
        "start_time": "2023-09-27T14:48:14.826Z"
      },
      {
        "duration": 13,
        "start_time": "2023-09-27T14:50:04.188Z"
      },
      {
        "duration": 18,
        "start_time": "2023-09-27T14:51:16.863Z"
      },
      {
        "duration": 11,
        "start_time": "2023-09-27T14:51:20.445Z"
      },
      {
        "duration": 37,
        "start_time": "2023-09-27T14:51:22.406Z"
      },
      {
        "duration": 5,
        "start_time": "2023-09-27T14:51:26.232Z"
      },
      {
        "duration": 6,
        "start_time": "2023-09-27T14:51:30.540Z"
      },
      {
        "duration": 262,
        "start_time": "2023-09-27T14:51:54.533Z"
      },
      {
        "duration": 1496,
        "start_time": "2023-09-27T14:52:25.946Z"
      },
      {
        "duration": 905,
        "start_time": "2023-09-27T14:52:27.444Z"
      },
      {
        "duration": 20,
        "start_time": "2023-09-27T14:52:28.351Z"
      },
      {
        "duration": 14,
        "start_time": "2023-09-27T14:52:28.373Z"
      },
      {
        "duration": 44,
        "start_time": "2023-09-27T14:52:28.389Z"
      },
      {
        "duration": 160,
        "start_time": "2023-09-27T14:52:28.435Z"
      },
      {
        "duration": 34,
        "start_time": "2023-09-27T14:52:28.597Z"
      },
      {
        "duration": 122,
        "start_time": "2023-09-27T14:52:28.633Z"
      },
      {
        "duration": 259,
        "start_time": "2023-09-27T14:52:29.545Z"
      },
      {
        "duration": 149,
        "start_time": "2023-09-27T14:52:29.905Z"
      },
      {
        "duration": 282,
        "start_time": "2023-09-27T14:52:30.384Z"
      },
      {
        "duration": 18,
        "start_time": "2023-09-27T14:52:30.888Z"
      },
      {
        "duration": 16,
        "start_time": "2023-09-27T14:52:38.169Z"
      },
      {
        "duration": 9,
        "start_time": "2023-09-27T14:52:43.078Z"
      },
      {
        "duration": 130,
        "start_time": "2023-09-27T14:53:53.020Z"
      },
      {
        "duration": 12,
        "start_time": "2023-09-27T14:53:54.121Z"
      },
      {
        "duration": 27,
        "start_time": "2023-09-27T14:54:06.192Z"
      },
      {
        "duration": 10,
        "start_time": "2023-09-27T14:54:09.560Z"
      },
      {
        "duration": 22,
        "start_time": "2023-09-27T14:54:13.174Z"
      },
      {
        "duration": 4,
        "start_time": "2023-09-27T14:54:19.358Z"
      },
      {
        "duration": 5,
        "start_time": "2023-09-27T14:54:24.870Z"
      },
      {
        "duration": 293,
        "start_time": "2023-09-27T14:54:25.592Z"
      },
      {
        "duration": 338,
        "start_time": "2023-09-27T14:54:32.625Z"
      },
      {
        "duration": 33,
        "start_time": "2023-09-27T14:54:41.899Z"
      },
      {
        "duration": 41,
        "start_time": "2023-09-27T14:54:46.198Z"
      },
      {
        "duration": 20,
        "start_time": "2023-09-27T14:54:56.175Z"
      },
      {
        "duration": 390,
        "start_time": "2023-09-27T14:55:01.185Z"
      },
      {
        "duration": 26,
        "start_time": "2023-09-27T14:55:08.058Z"
      },
      {
        "duration": 23,
        "start_time": "2023-09-27T14:55:18.702Z"
      },
      {
        "duration": 596,
        "start_time": "2023-09-27T14:55:28.141Z"
      },
      {
        "duration": 574,
        "start_time": "2023-09-27T14:55:52.947Z"
      },
      {
        "duration": 705,
        "start_time": "2023-09-27T14:56:02.697Z"
      },
      {
        "duration": 434,
        "start_time": "2023-09-27T14:56:26.870Z"
      },
      {
        "duration": 466,
        "start_time": "2023-09-27T14:56:41.827Z"
      },
      {
        "duration": 15,
        "start_time": "2023-09-27T14:56:52.119Z"
      },
      {
        "duration": 10,
        "start_time": "2023-09-27T14:57:05.176Z"
      },
      {
        "duration": 445,
        "start_time": "2023-09-27T14:57:12.280Z"
      },
      {
        "duration": 6,
        "start_time": "2023-09-27T14:57:29.632Z"
      },
      {
        "duration": 23,
        "start_time": "2023-09-27T14:57:40.899Z"
      },
      {
        "duration": 3,
        "start_time": "2023-09-27T14:57:47.588Z"
      },
      {
        "duration": 3,
        "start_time": "2023-09-27T14:57:48.489Z"
      },
      {
        "duration": 2,
        "start_time": "2023-09-27T14:57:49.096Z"
      },
      {
        "duration": 7,
        "start_time": "2023-09-27T14:57:57.787Z"
      },
      {
        "duration": 6,
        "start_time": "2023-09-27T14:58:06.093Z"
      },
      {
        "duration": 83499,
        "start_time": "2023-09-27T14:58:49.790Z"
      },
      {
        "duration": 3,
        "start_time": "2023-09-27T15:01:24.927Z"
      },
      {
        "duration": 3,
        "start_time": "2023-09-27T15:01:52.050Z"
      },
      {
        "duration": 4,
        "start_time": "2023-09-27T15:02:10.521Z"
      },
      {
        "duration": 4,
        "start_time": "2023-09-27T15:04:11.642Z"
      },
      {
        "duration": 255277,
        "start_time": "2023-09-27T15:08:16.044Z"
      },
      {
        "duration": 250821,
        "start_time": "2023-09-27T15:12:47.541Z"
      },
      {
        "duration": 10,
        "start_time": "2023-09-27T15:31:49.262Z"
      },
      {
        "duration": 5,
        "start_time": "2023-09-27T15:55:53.851Z"
      },
      {
        "duration": 4,
        "start_time": "2023-09-27T15:57:15.642Z"
      },
      {
        "duration": 4,
        "start_time": "2023-09-27T15:57:50.747Z"
      },
      {
        "duration": 6,
        "start_time": "2023-09-27T15:59:52.806Z"
      },
      {
        "duration": 5,
        "start_time": "2023-09-27T16:00:11.499Z"
      },
      {
        "duration": 23,
        "start_time": "2023-09-27T16:12:02.285Z"
      },
      {
        "duration": 3,
        "start_time": "2023-09-27T16:16:48.824Z"
      },
      {
        "duration": 9,
        "start_time": "2023-09-27T16:16:58.102Z"
      },
      {
        "duration": 5,
        "start_time": "2023-09-27T16:17:03.190Z"
      },
      {
        "duration": 5,
        "start_time": "2023-09-27T16:35:47.565Z"
      },
      {
        "duration": 1790,
        "start_time": "2023-09-27T16:42:38.283Z"
      },
      {
        "duration": 1104,
        "start_time": "2023-09-27T16:42:40.075Z"
      },
      {
        "duration": 33,
        "start_time": "2023-09-27T16:42:41.181Z"
      },
      {
        "duration": 23,
        "start_time": "2023-09-27T16:42:41.219Z"
      },
      {
        "duration": 36,
        "start_time": "2023-09-27T16:42:41.246Z"
      },
      {
        "duration": 181,
        "start_time": "2023-09-27T16:42:41.285Z"
      },
      {
        "duration": 58,
        "start_time": "2023-09-27T16:42:41.468Z"
      },
      {
        "duration": 136,
        "start_time": "2023-09-27T16:42:41.535Z"
      },
      {
        "duration": 355,
        "start_time": "2023-09-27T16:42:41.673Z"
      },
      {
        "duration": 206,
        "start_time": "2023-09-27T16:42:42.030Z"
      },
      {
        "duration": 387,
        "start_time": "2023-09-27T16:42:42.239Z"
      },
      {
        "duration": 34,
        "start_time": "2023-09-27T16:42:42.630Z"
      },
      {
        "duration": 21,
        "start_time": "2023-09-27T16:42:42.666Z"
      },
      {
        "duration": 23,
        "start_time": "2023-09-27T16:42:42.693Z"
      },
      {
        "duration": 39,
        "start_time": "2023-09-27T16:42:42.718Z"
      },
      {
        "duration": 15,
        "start_time": "2023-09-27T16:42:42.759Z"
      },
      {
        "duration": 66,
        "start_time": "2023-09-27T16:42:42.777Z"
      },
      {
        "duration": 7,
        "start_time": "2023-09-27T16:42:42.845Z"
      },
      {
        "duration": 6,
        "start_time": "2023-09-27T16:42:42.854Z"
      },
      {
        "duration": 351,
        "start_time": "2023-09-27T16:42:42.862Z"
      },
      {
        "duration": 394,
        "start_time": "2023-09-27T16:42:43.215Z"
      },
      {
        "duration": 29,
        "start_time": "2023-09-27T16:42:43.617Z"
      },
      {
        "duration": 37,
        "start_time": "2023-09-27T16:42:43.648Z"
      },
      {
        "duration": 39,
        "start_time": "2023-09-27T16:42:43.687Z"
      },
      {
        "duration": 336,
        "start_time": "2023-09-27T16:42:43.728Z"
      },
      {
        "duration": 27,
        "start_time": "2023-09-27T16:42:44.066Z"
      },
      {
        "duration": 26,
        "start_time": "2023-09-27T16:42:44.109Z"
      },
      {
        "duration": 627,
        "start_time": "2023-09-27T16:42:44.137Z"
      },
      {
        "duration": 675,
        "start_time": "2023-09-27T16:42:44.766Z"
      },
      {
        "duration": 792,
        "start_time": "2023-09-27T16:42:45.444Z"
      },
      {
        "duration": 501,
        "start_time": "2023-09-27T16:42:46.239Z"
      },
      {
        "duration": 528,
        "start_time": "2023-09-27T16:42:46.743Z"
      },
      {
        "duration": 11,
        "start_time": "2023-09-27T16:42:47.273Z"
      },
      {
        "duration": 507,
        "start_time": "2023-09-27T16:42:47.286Z"
      },
      {
        "duration": 32,
        "start_time": "2023-09-27T16:42:47.795Z"
      },
      {
        "duration": 24,
        "start_time": "2023-09-27T16:42:47.830Z"
      },
      {
        "duration": 4,
        "start_time": "2023-09-27T16:42:47.857Z"
      },
      {
        "duration": 10,
        "start_time": "2023-09-27T16:42:47.863Z"
      },
      {
        "duration": 5,
        "start_time": "2023-09-27T16:42:47.875Z"
      },
      {
        "duration": 8,
        "start_time": "2023-09-27T16:42:47.882Z"
      },
      {
        "duration": 13,
        "start_time": "2023-09-27T16:42:47.912Z"
      },
      {
        "duration": 6,
        "start_time": "2023-09-27T16:42:47.927Z"
      },
      {
        "duration": 133,
        "start_time": "2023-09-27T16:42:47.935Z"
      },
      {
        "duration": 0,
        "start_time": "2023-09-27T16:42:48.070Z"
      },
      {
        "duration": 0,
        "start_time": "2023-09-27T16:42:48.071Z"
      },
      {
        "duration": 0,
        "start_time": "2023-09-27T16:42:48.073Z"
      },
      {
        "duration": 0,
        "start_time": "2023-09-27T16:42:48.075Z"
      },
      {
        "duration": 0,
        "start_time": "2023-09-27T16:42:48.076Z"
      },
      {
        "duration": 0,
        "start_time": "2023-09-27T16:42:48.078Z"
      },
      {
        "duration": 0,
        "start_time": "2023-09-27T16:42:48.079Z"
      },
      {
        "duration": 0,
        "start_time": "2023-09-27T16:42:48.081Z"
      },
      {
        "duration": 0,
        "start_time": "2023-09-27T16:42:48.082Z"
      },
      {
        "duration": 0,
        "start_time": "2023-09-27T16:42:48.084Z"
      },
      {
        "duration": 0,
        "start_time": "2023-09-27T16:42:48.086Z"
      },
      {
        "duration": 0,
        "start_time": "2023-09-27T16:42:48.114Z"
      },
      {
        "duration": 0,
        "start_time": "2023-09-27T16:42:48.115Z"
      },
      {
        "duration": 5,
        "start_time": "2023-09-27T16:45:31.999Z"
      },
      {
        "duration": 4,
        "start_time": "2023-09-27T16:45:33.896Z"
      },
      {
        "duration": 4,
        "start_time": "2023-09-27T16:45:34.473Z"
      },
      {
        "duration": 4,
        "start_time": "2023-09-27T16:45:35.124Z"
      },
      {
        "duration": 261305,
        "start_time": "2023-09-27T16:45:35.431Z"
      },
      {
        "duration": 10,
        "start_time": "2023-09-27T16:49:56.738Z"
      },
      {
        "duration": 26,
        "start_time": "2023-09-27T16:49:56.749Z"
      },
      {
        "duration": 14,
        "start_time": "2023-09-27T16:49:56.777Z"
      },
      {
        "duration": 6,
        "start_time": "2023-09-27T16:49:56.793Z"
      },
      {
        "duration": 22,
        "start_time": "2023-09-27T16:49:56.801Z"
      },
      {
        "duration": 3,
        "start_time": "2023-09-27T16:49:56.827Z"
      },
      {
        "duration": 31,
        "start_time": "2023-09-27T16:49:56.832Z"
      },
      {
        "duration": 27,
        "start_time": "2023-09-27T16:49:56.865Z"
      },
      {
        "duration": 24,
        "start_time": "2023-09-27T16:49:56.894Z"
      },
      {
        "duration": 25,
        "start_time": "2023-09-27T16:53:24.409Z"
      },
      {
        "duration": 10,
        "start_time": "2023-09-27T16:53:53.543Z"
      },
      {
        "duration": 8,
        "start_time": "2023-09-27T16:55:25.832Z"
      },
      {
        "duration": 87,
        "start_time": "2023-09-27T16:59:34.385Z"
      },
      {
        "duration": 7,
        "start_time": "2023-09-27T17:02:08.401Z"
      },
      {
        "duration": 3,
        "start_time": "2023-09-27T17:06:59.847Z"
      },
      {
        "duration": 8,
        "start_time": "2023-09-27T17:07:17.643Z"
      },
      {
        "duration": 14,
        "start_time": "2023-09-27T17:15:54.818Z"
      },
      {
        "duration": 6,
        "start_time": "2023-09-27T17:16:01.386Z"
      },
      {
        "duration": 7,
        "start_time": "2023-09-27T17:17:50.724Z"
      },
      {
        "duration": 10,
        "start_time": "2023-09-27T17:17:52.088Z"
      },
      {
        "duration": 9,
        "start_time": "2023-09-27T17:17:57.817Z"
      },
      {
        "duration": 6363,
        "start_time": "2023-09-28T05:51:22.488Z"
      },
      {
        "duration": 2472,
        "start_time": "2023-09-28T05:51:28.854Z"
      },
      {
        "duration": 19,
        "start_time": "2023-09-28T05:51:31.328Z"
      },
      {
        "duration": 41,
        "start_time": "2023-09-28T05:51:31.350Z"
      },
      {
        "duration": 74,
        "start_time": "2023-09-28T05:51:31.393Z"
      },
      {
        "duration": 177,
        "start_time": "2023-09-28T05:51:31.469Z"
      },
      {
        "duration": 22,
        "start_time": "2023-09-28T05:51:31.648Z"
      },
      {
        "duration": 146,
        "start_time": "2023-09-28T05:51:31.672Z"
      },
      {
        "duration": 255,
        "start_time": "2023-09-28T05:51:31.822Z"
      },
      {
        "duration": 154,
        "start_time": "2023-09-28T05:51:32.079Z"
      },
      {
        "duration": 489,
        "start_time": "2023-09-28T05:51:32.235Z"
      },
      {
        "duration": 26,
        "start_time": "2023-09-28T05:51:32.727Z"
      },
      {
        "duration": 17,
        "start_time": "2023-09-28T05:51:32.756Z"
      },
      {
        "duration": 48,
        "start_time": "2023-09-28T05:51:32.775Z"
      },
      {
        "duration": 22,
        "start_time": "2023-09-28T05:51:32.827Z"
      },
      {
        "duration": 15,
        "start_time": "2023-09-28T05:51:32.851Z"
      },
      {
        "duration": 34,
        "start_time": "2023-09-28T05:51:32.868Z"
      },
      {
        "duration": 10,
        "start_time": "2023-09-28T05:51:32.904Z"
      },
      {
        "duration": 27,
        "start_time": "2023-09-28T05:51:32.916Z"
      },
      {
        "duration": 314,
        "start_time": "2023-09-28T05:51:32.945Z"
      },
      {
        "duration": 377,
        "start_time": "2023-09-28T05:51:33.261Z"
      },
      {
        "duration": 22,
        "start_time": "2023-09-28T05:51:33.639Z"
      },
      {
        "duration": 189,
        "start_time": "2023-09-28T05:51:33.663Z"
      },
      {
        "duration": 28,
        "start_time": "2023-09-28T05:51:33.854Z"
      },
      {
        "duration": 304,
        "start_time": "2023-09-28T05:51:33.884Z"
      },
      {
        "duration": 38,
        "start_time": "2023-09-28T05:51:34.191Z"
      },
      {
        "duration": 20,
        "start_time": "2023-09-28T05:51:34.231Z"
      },
      {
        "duration": 581,
        "start_time": "2023-09-28T05:51:34.255Z"
      },
      {
        "duration": 617,
        "start_time": "2023-09-28T05:51:34.838Z"
      },
      {
        "duration": 721,
        "start_time": "2023-09-28T05:51:35.457Z"
      },
      {
        "duration": 476,
        "start_time": "2023-09-28T05:51:36.181Z"
      },
      {
        "duration": 480,
        "start_time": "2023-09-28T05:51:36.660Z"
      },
      {
        "duration": 11,
        "start_time": "2023-09-28T05:51:37.142Z"
      },
      {
        "duration": 455,
        "start_time": "2023-09-28T05:51:37.155Z"
      },
      {
        "duration": 6,
        "start_time": "2023-09-28T05:51:37.619Z"
      },
      {
        "duration": 43,
        "start_time": "2023-09-28T05:51:37.627Z"
      },
      {
        "duration": 3,
        "start_time": "2023-09-28T05:51:37.672Z"
      },
      {
        "duration": 13,
        "start_time": "2023-09-28T05:51:37.677Z"
      },
      {
        "duration": 31,
        "start_time": "2023-09-28T05:51:37.692Z"
      },
      {
        "duration": 13,
        "start_time": "2023-09-28T05:51:37.725Z"
      },
      {
        "duration": 16,
        "start_time": "2023-09-28T05:51:37.740Z"
      },
      {
        "duration": 14,
        "start_time": "2023-09-28T05:51:37.758Z"
      },
      {
        "duration": 22,
        "start_time": "2023-09-28T05:51:37.774Z"
      },
      {
        "duration": 12,
        "start_time": "2023-09-28T05:51:37.798Z"
      },
      {
        "duration": 15,
        "start_time": "2023-09-28T05:51:37.811Z"
      },
      {
        "duration": 9,
        "start_time": "2023-09-28T05:51:37.828Z"
      },
      {
        "duration": 24,
        "start_time": "2023-09-28T05:51:37.838Z"
      },
      {
        "duration": 13,
        "start_time": "2023-09-28T05:52:06.131Z"
      },
      {
        "duration": 1748,
        "start_time": "2023-09-28T06:39:04.524Z"
      },
      {
        "duration": 2247,
        "start_time": "2023-09-28T06:39:07.760Z"
      },
      {
        "duration": 18,
        "start_time": "2023-09-28T06:39:10.009Z"
      },
      {
        "duration": 12,
        "start_time": "2023-09-28T06:39:10.028Z"
      },
      {
        "duration": 28,
        "start_time": "2023-09-28T06:39:10.042Z"
      },
      {
        "duration": 120,
        "start_time": "2023-09-28T06:39:16.471Z"
      },
      {
        "duration": 20,
        "start_time": "2023-09-28T06:39:16.730Z"
      },
      {
        "duration": 93,
        "start_time": "2023-09-28T06:39:17.179Z"
      },
      {
        "duration": 224,
        "start_time": "2023-09-28T06:39:18.553Z"
      },
      {
        "duration": 122,
        "start_time": "2023-09-28T06:39:19.021Z"
      },
      {
        "duration": 251,
        "start_time": "2023-09-28T06:39:20.507Z"
      },
      {
        "duration": 17,
        "start_time": "2023-09-28T06:39:26.456Z"
      },
      {
        "duration": 5,
        "start_time": "2023-09-28T07:20:26.024Z"
      },
      {
        "duration": 827,
        "start_time": "2023-09-28T07:20:26.906Z"
      },
      {
        "duration": 18,
        "start_time": "2023-09-28T07:20:27.735Z"
      },
      {
        "duration": 12,
        "start_time": "2023-09-28T07:20:28.096Z"
      },
      {
        "duration": 16,
        "start_time": "2023-09-28T07:20:28.445Z"
      },
      {
        "duration": 113,
        "start_time": "2023-09-28T07:20:30.123Z"
      },
      {
        "duration": 18,
        "start_time": "2023-09-28T07:20:30.448Z"
      },
      {
        "duration": 82,
        "start_time": "2023-09-28T07:20:30.844Z"
      },
      {
        "duration": 215,
        "start_time": "2023-09-28T07:20:32.464Z"
      },
      {
        "duration": 131,
        "start_time": "2023-09-28T07:20:32.914Z"
      },
      {
        "duration": 275,
        "start_time": "2023-09-28T07:20:33.633Z"
      },
      {
        "duration": 19,
        "start_time": "2023-09-28T07:20:34.161Z"
      },
      {
        "duration": 8,
        "start_time": "2023-09-28T07:21:00.075Z"
      },
      {
        "duration": 15,
        "start_time": "2023-09-28T07:21:17.446Z"
      },
      {
        "duration": 1504,
        "start_time": "2023-09-28T07:21:31.770Z"
      },
      {
        "duration": 862,
        "start_time": "2023-09-28T07:21:33.276Z"
      },
      {
        "duration": 21,
        "start_time": "2023-09-28T07:21:34.139Z"
      },
      {
        "duration": 24,
        "start_time": "2023-09-28T07:21:34.162Z"
      },
      {
        "duration": 52,
        "start_time": "2023-09-28T07:21:34.188Z"
      },
      {
        "duration": 123,
        "start_time": "2023-09-28T07:21:34.242Z"
      },
      {
        "duration": 21,
        "start_time": "2023-09-28T07:21:34.367Z"
      },
      {
        "duration": 136,
        "start_time": "2023-09-28T07:21:34.390Z"
      },
      {
        "duration": 253,
        "start_time": "2023-09-28T07:21:34.528Z"
      },
      {
        "duration": 132,
        "start_time": "2023-09-28T07:21:34.782Z"
      },
      {
        "duration": 272,
        "start_time": "2023-09-28T07:21:34.916Z"
      },
      {
        "duration": 16,
        "start_time": "2023-09-28T07:21:35.189Z"
      },
      {
        "duration": 18,
        "start_time": "2023-09-28T07:21:35.207Z"
      },
      {
        "duration": 8,
        "start_time": "2023-09-28T07:21:35.245Z"
      },
      {
        "duration": 37,
        "start_time": "2023-09-28T07:21:35.255Z"
      },
      {
        "duration": 20,
        "start_time": "2023-09-28T07:21:35.294Z"
      },
      {
        "duration": 35,
        "start_time": "2023-09-28T07:21:35.316Z"
      },
      {
        "duration": 16,
        "start_time": "2023-09-28T07:21:35.353Z"
      },
      {
        "duration": 16,
        "start_time": "2023-09-28T07:21:35.371Z"
      },
      {
        "duration": 274,
        "start_time": "2023-09-28T07:21:35.389Z"
      },
      {
        "duration": 323,
        "start_time": "2023-09-28T07:21:35.665Z"
      },
      {
        "duration": 20,
        "start_time": "2023-09-28T07:21:35.990Z"
      },
      {
        "duration": 37,
        "start_time": "2023-09-28T07:21:36.012Z"
      },
      {
        "duration": 29,
        "start_time": "2023-09-28T07:21:36.051Z"
      },
      {
        "duration": 273,
        "start_time": "2023-09-28T07:21:36.082Z"
      },
      {
        "duration": 23,
        "start_time": "2023-09-28T07:21:36.357Z"
      },
      {
        "duration": 30,
        "start_time": "2023-09-28T07:21:36.382Z"
      },
      {
        "duration": 509,
        "start_time": "2023-09-28T07:21:36.413Z"
      },
      {
        "duration": 526,
        "start_time": "2023-09-28T07:21:36.924Z"
      },
      {
        "duration": 633,
        "start_time": "2023-09-28T07:21:37.452Z"
      },
      {
        "duration": 403,
        "start_time": "2023-09-28T07:21:38.087Z"
      },
      {
        "duration": 412,
        "start_time": "2023-09-28T07:21:38.492Z"
      },
      {
        "duration": 9,
        "start_time": "2023-09-28T07:21:38.905Z"
      },
      {
        "duration": 461,
        "start_time": "2023-09-28T07:21:38.915Z"
      },
      {
        "duration": 6,
        "start_time": "2023-09-28T07:21:39.379Z"
      },
      {
        "duration": 47,
        "start_time": "2023-09-28T07:21:39.387Z"
      },
      {
        "duration": 10,
        "start_time": "2023-09-28T07:21:39.437Z"
      },
      {
        "duration": 24,
        "start_time": "2023-09-28T07:21:39.449Z"
      },
      {
        "duration": 9,
        "start_time": "2023-09-28T07:21:39.475Z"
      },
      {
        "duration": 25,
        "start_time": "2023-09-28T07:21:39.485Z"
      },
      {
        "duration": 7,
        "start_time": "2023-09-28T07:21:39.515Z"
      },
      {
        "duration": 38,
        "start_time": "2023-09-28T07:21:39.524Z"
      },
      {
        "duration": 23,
        "start_time": "2023-09-28T07:21:39.564Z"
      },
      {
        "duration": 23,
        "start_time": "2023-09-28T07:21:39.588Z"
      },
      {
        "duration": 9,
        "start_time": "2023-09-28T07:21:39.612Z"
      },
      {
        "duration": 25,
        "start_time": "2023-09-28T07:21:39.623Z"
      },
      {
        "duration": 221443,
        "start_time": "2023-09-28T07:21:39.650Z"
      },
      {
        "duration": 9,
        "start_time": "2023-09-28T07:25:21.094Z"
      },
      {
        "duration": 8,
        "start_time": "2023-09-28T07:25:21.104Z"
      },
      {
        "duration": 6,
        "start_time": "2023-09-28T07:25:21.114Z"
      },
      {
        "duration": 22,
        "start_time": "2023-09-28T07:25:21.121Z"
      },
      {
        "duration": 24,
        "start_time": "2023-09-28T07:25:21.145Z"
      },
      {
        "duration": 5,
        "start_time": "2023-09-28T07:25:21.170Z"
      },
      {
        "duration": 20,
        "start_time": "2023-09-28T07:25:21.176Z"
      },
      {
        "duration": 45,
        "start_time": "2023-09-28T07:25:21.198Z"
      },
      {
        "duration": 17,
        "start_time": "2023-09-28T07:25:21.245Z"
      },
      {
        "duration": 14,
        "start_time": "2023-09-28T07:25:21.264Z"
      },
      {
        "duration": 63,
        "start_time": "2023-09-28T07:25:21.280Z"
      },
      {
        "duration": 8,
        "start_time": "2023-09-28T07:25:21.345Z"
      },
      {
        "duration": 6,
        "start_time": "2023-09-28T07:25:21.355Z"
      },
      {
        "duration": 6,
        "start_time": "2023-09-28T07:25:21.363Z"
      },
      {
        "duration": 7,
        "start_time": "2023-09-28T07:25:21.371Z"
      },
      {
        "duration": 15,
        "start_time": "2023-09-28T07:25:21.394Z"
      },
      {
        "duration": 6,
        "start_time": "2023-09-28T07:25:25.358Z"
      },
      {
        "duration": 20,
        "start_time": "2023-09-28T07:25:26.894Z"
      },
      {
        "duration": 4,
        "start_time": "2023-09-28T07:25:27.651Z"
      },
      {
        "duration": 5,
        "start_time": "2023-09-28T07:25:28.385Z"
      },
      {
        "duration": 222,
        "start_time": "2023-09-28T07:25:28.774Z"
      },
      {
        "duration": 258,
        "start_time": "2023-09-28T07:25:29.218Z"
      },
      {
        "duration": 12,
        "start_time": "2023-09-28T07:25:30.772Z"
      },
      {
        "duration": 19,
        "start_time": "2023-09-28T07:25:31.611Z"
      },
      {
        "duration": 18,
        "start_time": "2023-09-28T07:25:32.045Z"
      },
      {
        "duration": 1684,
        "start_time": "2023-09-28T18:35:12.883Z"
      },
      {
        "duration": 2392,
        "start_time": "2023-09-28T18:35:26.895Z"
      },
      {
        "duration": 21,
        "start_time": "2023-09-28T18:35:29.289Z"
      },
      {
        "duration": 15,
        "start_time": "2023-09-28T18:35:32.692Z"
      },
      {
        "duration": 21,
        "start_time": "2023-09-28T18:35:34.702Z"
      },
      {
        "duration": 124,
        "start_time": "2023-09-28T18:35:38.027Z"
      },
      {
        "duration": 21,
        "start_time": "2023-09-28T18:35:38.437Z"
      },
      {
        "duration": 127,
        "start_time": "2023-09-28T18:35:39.034Z"
      },
      {
        "duration": 238,
        "start_time": "2023-09-28T18:35:42.742Z"
      },
      {
        "duration": 160,
        "start_time": "2023-09-28T18:35:43.738Z"
      },
      {
        "duration": 252,
        "start_time": "2023-09-28T18:35:44.924Z"
      },
      {
        "duration": 17,
        "start_time": "2023-09-28T18:35:52.780Z"
      },
      {
        "duration": 12,
        "start_time": "2023-09-28T18:37:19.966Z"
      },
      {
        "duration": 8,
        "start_time": "2023-09-28T18:37:44.644Z"
      },
      {
        "duration": 8,
        "start_time": "2023-09-28T18:42:35.132Z"
      },
      {
        "duration": 22,
        "start_time": "2023-09-28T18:44:25.733Z"
      },
      {
        "duration": 8,
        "start_time": "2023-09-28T18:50:42.516Z"
      },
      {
        "duration": 12,
        "start_time": "2023-09-28T18:50:48.892Z"
      },
      {
        "duration": 7,
        "start_time": "2023-09-28T18:50:49.875Z"
      },
      {
        "duration": 91,
        "start_time": "2023-09-28T18:52:30.525Z"
      },
      {
        "duration": 29,
        "start_time": "2023-09-28T18:52:54.853Z"
      },
      {
        "duration": 5,
        "start_time": "2023-09-28T18:52:55.614Z"
      },
      {
        "duration": 6,
        "start_time": "2023-09-28T18:53:01.328Z"
      },
      {
        "duration": 302,
        "start_time": "2023-09-28T18:53:02.145Z"
      },
      {
        "duration": 273,
        "start_time": "2023-09-28T18:53:06.699Z"
      },
      {
        "duration": 25,
        "start_time": "2023-09-28T18:53:13.461Z"
      },
      {
        "duration": 23,
        "start_time": "2023-09-28T18:53:21.145Z"
      },
      {
        "duration": 22,
        "start_time": "2023-09-28T18:53:27.739Z"
      },
      {
        "duration": 2,
        "start_time": "2023-09-28T18:56:17.454Z"
      },
      {
        "duration": 300,
        "start_time": "2023-09-28T18:56:25.157Z"
      },
      {
        "duration": 235,
        "start_time": "2023-09-28T18:56:37.828Z"
      },
      {
        "duration": 23,
        "start_time": "2023-09-28T18:57:16.062Z"
      },
      {
        "duration": 2,
        "start_time": "2023-09-28T18:57:21.598Z"
      },
      {
        "duration": 519,
        "start_time": "2023-09-28T18:58:19.368Z"
      },
      {
        "duration": 633,
        "start_time": "2023-09-28T18:58:23.303Z"
      },
      {
        "duration": 549,
        "start_time": "2023-09-28T18:58:33.496Z"
      },
      {
        "duration": 109,
        "start_time": "2023-09-28T19:01:10.774Z"
      },
      {
        "duration": 2827,
        "start_time": "2023-09-28T19:01:21.986Z"
      },
      {
        "duration": 2912,
        "start_time": "2023-09-28T19:02:43.326Z"
      },
      {
        "duration": 13,
        "start_time": "2023-09-28T19:03:32.802Z"
      },
      {
        "duration": 14,
        "start_time": "2023-09-28T19:03:52.784Z"
      },
      {
        "duration": 415,
        "start_time": "2023-09-28T19:04:00.028Z"
      },
      {
        "duration": 58,
        "start_time": "2023-09-28T19:04:26.636Z"
      },
      {
        "duration": 5478,
        "start_time": "2023-09-28T19:04:32.913Z"
      },
      {
        "duration": 2955,
        "start_time": "2023-09-28T19:04:55.773Z"
      },
      {
        "duration": 2956,
        "start_time": "2023-09-28T19:05:42.380Z"
      },
      {
        "duration": 3703,
        "start_time": "2023-09-28T19:06:21.483Z"
      },
      {
        "duration": 3093,
        "start_time": "2023-09-28T19:06:43.931Z"
      },
      {
        "duration": 581,
        "start_time": "2023-09-28T19:12:43.937Z"
      },
      {
        "duration": 424,
        "start_time": "2023-09-28T19:13:22.716Z"
      },
      {
        "duration": 425,
        "start_time": "2023-09-28T19:13:47.065Z"
      },
      {
        "duration": 524,
        "start_time": "2023-09-28T19:13:51.136Z"
      },
      {
        "duration": 423,
        "start_time": "2023-09-28T19:14:07.983Z"
      },
      {
        "duration": 448,
        "start_time": "2023-09-28T19:14:27.193Z"
      },
      {
        "duration": 424,
        "start_time": "2023-09-28T19:15:30.960Z"
      },
      {
        "duration": 544,
        "start_time": "2023-09-28T19:17:42.225Z"
      },
      {
        "duration": 419,
        "start_time": "2023-09-28T19:17:59.489Z"
      },
      {
        "duration": 418,
        "start_time": "2023-09-28T19:18:15.097Z"
      },
      {
        "duration": 12,
        "start_time": "2023-09-28T19:20:39.630Z"
      },
      {
        "duration": 12,
        "start_time": "2023-09-28T19:21:21.388Z"
      },
      {
        "duration": 23,
        "start_time": "2023-09-28T19:26:30.600Z"
      },
      {
        "duration": 2012,
        "start_time": "2023-09-28T19:26:43.423Z"
      },
      {
        "duration": 928,
        "start_time": "2023-09-28T19:27:20.859Z"
      },
      {
        "duration": 104,
        "start_time": "2023-09-28T19:27:46.501Z"
      },
      {
        "duration": 73,
        "start_time": "2023-09-28T19:28:01.146Z"
      },
      {
        "duration": 117,
        "start_time": "2023-09-28T19:28:21.911Z"
      },
      {
        "duration": 912,
        "start_time": "2023-09-28T19:28:32.757Z"
      },
      {
        "duration": 6,
        "start_time": "2023-09-28T19:30:50.890Z"
      },
      {
        "duration": 24,
        "start_time": "2023-09-28T19:30:51.588Z"
      },
      {
        "duration": 3,
        "start_time": "2023-09-28T19:30:54.926Z"
      },
      {
        "duration": 3,
        "start_time": "2023-09-28T19:30:55.380Z"
      },
      {
        "duration": 2,
        "start_time": "2023-09-28T19:30:57.789Z"
      },
      {
        "duration": 7,
        "start_time": "2023-09-28T19:31:00.513Z"
      },
      {
        "duration": 6,
        "start_time": "2023-09-28T19:31:03.299Z"
      },
      {
        "duration": 3,
        "start_time": "2023-09-28T19:31:05.592Z"
      },
      {
        "duration": 7,
        "start_time": "2023-09-28T19:31:05.989Z"
      },
      {
        "duration": 3,
        "start_time": "2023-09-28T19:31:06.508Z"
      },
      {
        "duration": 3,
        "start_time": "2023-09-28T19:33:27.380Z"
      },
      {
        "duration": 3,
        "start_time": "2023-09-28T19:33:28.010Z"
      },
      {
        "duration": 204,
        "start_time": "2023-09-28T19:33:29.004Z"
      },
      {
        "duration": 1476,
        "start_time": "2023-09-28T19:34:18.749Z"
      },
      {
        "duration": 887,
        "start_time": "2023-09-28T19:34:20.227Z"
      },
      {
        "duration": 19,
        "start_time": "2023-09-28T19:34:21.115Z"
      },
      {
        "duration": 17,
        "start_time": "2023-09-28T19:34:21.143Z"
      },
      {
        "duration": 33,
        "start_time": "2023-09-28T19:34:21.162Z"
      },
      {
        "duration": 122,
        "start_time": "2023-09-28T19:34:21.196Z"
      },
      {
        "duration": 25,
        "start_time": "2023-09-28T19:34:21.320Z"
      },
      {
        "duration": 103,
        "start_time": "2023-09-28T19:34:21.346Z"
      },
      {
        "duration": 241,
        "start_time": "2023-09-28T19:34:21.451Z"
      },
      {
        "duration": 141,
        "start_time": "2023-09-28T19:34:21.695Z"
      },
      {
        "duration": 271,
        "start_time": "2023-09-28T19:34:21.837Z"
      },
      {
        "duration": 18,
        "start_time": "2023-09-28T19:34:22.110Z"
      },
      {
        "duration": 11,
        "start_time": "2023-09-28T19:34:22.144Z"
      },
      {
        "duration": 29,
        "start_time": "2023-09-28T19:34:22.156Z"
      },
      {
        "duration": 39,
        "start_time": "2023-09-28T19:34:22.187Z"
      },
      {
        "duration": 43,
        "start_time": "2023-09-28T19:34:22.228Z"
      },
      {
        "duration": 20,
        "start_time": "2023-09-28T19:34:22.274Z"
      },
      {
        "duration": 35,
        "start_time": "2023-09-28T19:34:22.296Z"
      },
      {
        "duration": 269,
        "start_time": "2023-09-28T19:34:22.333Z"
      },
      {
        "duration": 353,
        "start_time": "2023-09-28T19:34:22.604Z"
      },
      {
        "duration": 23,
        "start_time": "2023-09-28T19:34:22.959Z"
      },
      {
        "duration": 42,
        "start_time": "2023-09-28T19:34:22.984Z"
      },
      {
        "duration": 32,
        "start_time": "2023-09-28T19:34:23.027Z"
      },
      {
        "duration": 314,
        "start_time": "2023-09-28T19:34:23.061Z"
      },
      {
        "duration": 24,
        "start_time": "2023-09-28T19:34:23.378Z"
      },
      {
        "duration": 15,
        "start_time": "2023-09-28T19:34:23.404Z"
      },
      {
        "duration": 228,
        "start_time": "2023-09-28T19:34:23.420Z"
      },
      {
        "duration": 0,
        "start_time": "2023-09-28T19:34:23.651Z"
      },
      {
        "duration": 0,
        "start_time": "2023-09-28T19:34:23.653Z"
      },
      {
        "duration": 0,
        "start_time": "2023-09-28T19:34:23.655Z"
      },
      {
        "duration": 0,
        "start_time": "2023-09-28T19:34:23.656Z"
      },
      {
        "duration": 0,
        "start_time": "2023-09-28T19:34:23.657Z"
      },
      {
        "duration": 0,
        "start_time": "2023-09-28T19:34:23.659Z"
      },
      {
        "duration": 0,
        "start_time": "2023-09-28T19:34:23.661Z"
      },
      {
        "duration": 0,
        "start_time": "2023-09-28T19:34:23.662Z"
      },
      {
        "duration": 0,
        "start_time": "2023-09-28T19:34:23.664Z"
      },
      {
        "duration": 0,
        "start_time": "2023-09-28T19:34:23.665Z"
      },
      {
        "duration": 0,
        "start_time": "2023-09-28T19:34:23.667Z"
      },
      {
        "duration": 0,
        "start_time": "2023-09-28T19:34:23.669Z"
      },
      {
        "duration": 0,
        "start_time": "2023-09-28T19:34:23.670Z"
      },
      {
        "duration": 0,
        "start_time": "2023-09-28T19:34:23.672Z"
      },
      {
        "duration": 0,
        "start_time": "2023-09-28T19:34:23.673Z"
      },
      {
        "duration": 0,
        "start_time": "2023-09-28T19:34:23.675Z"
      },
      {
        "duration": 0,
        "start_time": "2023-09-28T19:34:23.677Z"
      },
      {
        "duration": 0,
        "start_time": "2023-09-28T19:34:23.679Z"
      },
      {
        "duration": 0,
        "start_time": "2023-09-28T19:34:23.680Z"
      },
      {
        "duration": 0,
        "start_time": "2023-09-28T19:34:23.682Z"
      },
      {
        "duration": 0,
        "start_time": "2023-09-28T19:34:23.684Z"
      },
      {
        "duration": 0,
        "start_time": "2023-09-28T19:34:23.743Z"
      },
      {
        "duration": 0,
        "start_time": "2023-09-28T19:34:23.745Z"
      },
      {
        "duration": 0,
        "start_time": "2023-09-28T19:34:23.746Z"
      },
      {
        "duration": 0,
        "start_time": "2023-09-28T19:34:23.747Z"
      },
      {
        "duration": 0,
        "start_time": "2023-09-28T19:34:23.749Z"
      },
      {
        "duration": 0,
        "start_time": "2023-09-28T19:34:23.751Z"
      },
      {
        "duration": 0,
        "start_time": "2023-09-28T19:34:23.752Z"
      },
      {
        "duration": 0,
        "start_time": "2023-09-28T19:34:23.754Z"
      },
      {
        "duration": 0,
        "start_time": "2023-09-28T19:34:23.755Z"
      },
      {
        "duration": 0,
        "start_time": "2023-09-28T19:34:23.756Z"
      },
      {
        "duration": 0,
        "start_time": "2023-09-28T19:34:23.758Z"
      },
      {
        "duration": 111,
        "start_time": "2023-09-28T19:35:19.584Z"
      },
      {
        "duration": 2914,
        "start_time": "2023-09-28T19:35:49.445Z"
      },
      {
        "duration": 440,
        "start_time": "2023-09-28T19:35:58.627Z"
      },
      {
        "duration": 431,
        "start_time": "2023-09-28T19:35:59.069Z"
      },
      {
        "duration": 11,
        "start_time": "2023-09-28T19:35:59.503Z"
      },
      {
        "duration": 1099,
        "start_time": "2023-09-28T19:36:00.488Z"
      },
      {
        "duration": 6,
        "start_time": "2023-09-28T19:36:02.438Z"
      },
      {
        "duration": 17,
        "start_time": "2023-09-28T19:36:02.707Z"
      },
      {
        "duration": 4,
        "start_time": "2023-09-28T19:36:03.851Z"
      },
      {
        "duration": 3,
        "start_time": "2023-09-28T19:36:04.034Z"
      },
      {
        "duration": 3,
        "start_time": "2023-09-28T19:36:04.419Z"
      },
      {
        "duration": 9,
        "start_time": "2023-09-28T19:36:04.815Z"
      },
      {
        "duration": 6,
        "start_time": "2023-09-28T19:36:05.704Z"
      },
      {
        "duration": 3,
        "start_time": "2023-09-28T19:36:06.256Z"
      },
      {
        "duration": 7,
        "start_time": "2023-09-28T19:36:07.433Z"
      },
      {
        "duration": 3,
        "start_time": "2023-09-28T19:36:07.897Z"
      },
      {
        "duration": 4,
        "start_time": "2023-09-28T19:36:09.508Z"
      },
      {
        "duration": 3,
        "start_time": "2023-09-28T19:36:10.296Z"
      },
      {
        "duration": 230,
        "start_time": "2023-09-28T19:36:13.811Z"
      },
      {
        "duration": 10,
        "start_time": "2023-09-28T19:39:25.403Z"
      },
      {
        "duration": 11,
        "start_time": "2023-09-28T19:39:55.511Z"
      },
      {
        "duration": 9,
        "start_time": "2023-09-28T19:40:07.887Z"
      },
      {
        "duration": 4,
        "start_time": "2023-09-28T19:40:18.700Z"
      },
      {
        "duration": 4,
        "start_time": "2023-09-28T19:41:15.987Z"
      },
      {
        "duration": 5,
        "start_time": "2023-09-28T19:41:49.699Z"
      },
      {
        "duration": 4,
        "start_time": "2023-09-28T19:42:11.053Z"
      },
      {
        "duration": 490,
        "start_time": "2023-09-28T19:44:28.556Z"
      },
      {
        "duration": 1626,
        "start_time": "2023-09-28T19:44:41.546Z"
      },
      {
        "duration": 901,
        "start_time": "2023-09-28T19:44:43.175Z"
      },
      {
        "duration": 19,
        "start_time": "2023-09-28T19:44:44.077Z"
      },
      {
        "duration": 25,
        "start_time": "2023-09-28T19:44:44.098Z"
      },
      {
        "duration": 24,
        "start_time": "2023-09-28T19:44:44.125Z"
      },
      {
        "duration": 128,
        "start_time": "2023-09-28T19:44:44.151Z"
      },
      {
        "duration": 21,
        "start_time": "2023-09-28T19:44:44.281Z"
      },
      {
        "duration": 123,
        "start_time": "2023-09-28T19:44:44.304Z"
      },
      {
        "duration": 288,
        "start_time": "2023-09-28T19:44:44.429Z"
      },
      {
        "duration": 149,
        "start_time": "2023-09-28T19:44:44.720Z"
      },
      {
        "duration": 263,
        "start_time": "2023-09-28T19:44:44.871Z"
      },
      {
        "duration": 24,
        "start_time": "2023-09-28T19:44:45.135Z"
      },
      {
        "duration": 9,
        "start_time": "2023-09-28T19:44:45.161Z"
      },
      {
        "duration": 22,
        "start_time": "2023-09-28T19:44:45.172Z"
      },
      {
        "duration": 6,
        "start_time": "2023-09-28T19:44:45.196Z"
      },
      {
        "duration": 57,
        "start_time": "2023-09-28T19:44:45.204Z"
      },
      {
        "duration": 11,
        "start_time": "2023-09-28T19:44:45.263Z"
      },
      {
        "duration": 22,
        "start_time": "2023-09-28T19:44:45.276Z"
      },
      {
        "duration": 260,
        "start_time": "2023-09-28T19:44:45.300Z"
      },
      {
        "duration": 340,
        "start_time": "2023-09-28T19:44:45.562Z"
      },
      {
        "duration": 22,
        "start_time": "2023-09-28T19:44:45.904Z"
      },
      {
        "duration": 45,
        "start_time": "2023-09-28T19:44:45.927Z"
      },
      {
        "duration": 18,
        "start_time": "2023-09-28T19:44:45.974Z"
      },
      {
        "duration": 267,
        "start_time": "2023-09-28T19:44:45.994Z"
      },
      {
        "duration": 24,
        "start_time": "2023-09-28T19:44:46.262Z"
      },
      {
        "duration": 10,
        "start_time": "2023-09-28T19:44:46.288Z"
      },
      {
        "duration": 139,
        "start_time": "2023-09-28T19:44:46.301Z"
      },
      {
        "duration": 0,
        "start_time": "2023-09-28T19:44:46.444Z"
      },
      {
        "duration": 0,
        "start_time": "2023-09-28T19:44:46.446Z"
      },
      {
        "duration": 0,
        "start_time": "2023-09-28T19:44:46.447Z"
      },
      {
        "duration": 0,
        "start_time": "2023-09-28T19:44:46.448Z"
      },
      {
        "duration": 0,
        "start_time": "2023-09-28T19:44:46.450Z"
      },
      {
        "duration": 0,
        "start_time": "2023-09-28T19:44:46.451Z"
      },
      {
        "duration": 0,
        "start_time": "2023-09-28T19:44:46.452Z"
      },
      {
        "duration": 0,
        "start_time": "2023-09-28T19:44:46.453Z"
      },
      {
        "duration": 0,
        "start_time": "2023-09-28T19:44:46.454Z"
      },
      {
        "duration": 0,
        "start_time": "2023-09-28T19:44:46.456Z"
      },
      {
        "duration": 0,
        "start_time": "2023-09-28T19:44:46.457Z"
      },
      {
        "duration": 0,
        "start_time": "2023-09-28T19:44:46.458Z"
      },
      {
        "duration": 0,
        "start_time": "2023-09-28T19:44:46.459Z"
      },
      {
        "duration": 0,
        "start_time": "2023-09-28T19:44:46.460Z"
      },
      {
        "duration": 0,
        "start_time": "2023-09-28T19:44:46.461Z"
      },
      {
        "duration": 0,
        "start_time": "2023-09-28T19:44:46.462Z"
      },
      {
        "duration": 0,
        "start_time": "2023-09-28T19:44:46.463Z"
      },
      {
        "duration": 0,
        "start_time": "2023-09-28T19:44:46.465Z"
      },
      {
        "duration": 0,
        "start_time": "2023-09-28T19:44:46.466Z"
      },
      {
        "duration": 0,
        "start_time": "2023-09-28T19:44:46.467Z"
      },
      {
        "duration": 0,
        "start_time": "2023-09-28T19:44:46.468Z"
      },
      {
        "duration": 0,
        "start_time": "2023-09-28T19:44:46.469Z"
      },
      {
        "duration": 0,
        "start_time": "2023-09-28T19:44:46.470Z"
      },
      {
        "duration": 0,
        "start_time": "2023-09-28T19:44:46.471Z"
      },
      {
        "duration": 0,
        "start_time": "2023-09-28T19:44:46.473Z"
      },
      {
        "duration": 0,
        "start_time": "2023-09-28T19:44:46.474Z"
      },
      {
        "duration": 0,
        "start_time": "2023-09-28T19:44:46.476Z"
      },
      {
        "duration": 0,
        "start_time": "2023-09-28T19:44:46.478Z"
      },
      {
        "duration": 0,
        "start_time": "2023-09-28T19:44:46.479Z"
      },
      {
        "duration": 0,
        "start_time": "2023-09-28T19:44:46.481Z"
      },
      {
        "duration": 0,
        "start_time": "2023-09-28T19:44:46.544Z"
      },
      {
        "duration": 0,
        "start_time": "2023-09-28T19:44:46.545Z"
      },
      {
        "duration": 0,
        "start_time": "2023-09-28T19:44:46.547Z"
      },
      {
        "duration": 0,
        "start_time": "2023-09-28T19:44:46.548Z"
      },
      {
        "duration": 0,
        "start_time": "2023-09-28T19:44:46.549Z"
      },
      {
        "duration": 0,
        "start_time": "2023-09-28T19:44:46.550Z"
      },
      {
        "duration": 0,
        "start_time": "2023-09-28T19:44:46.551Z"
      },
      {
        "duration": 0,
        "start_time": "2023-09-28T19:44:46.552Z"
      },
      {
        "duration": 0,
        "start_time": "2023-09-28T19:44:46.553Z"
      },
      {
        "duration": 15,
        "start_time": "2023-09-28T19:45:08.259Z"
      },
      {
        "duration": 3237,
        "start_time": "2023-09-28T19:45:42.638Z"
      },
      {
        "duration": 437,
        "start_time": "2023-09-28T19:45:48.099Z"
      },
      {
        "duration": 428,
        "start_time": "2023-09-28T19:45:48.537Z"
      },
      {
        "duration": 15,
        "start_time": "2023-09-28T19:45:48.968Z"
      },
      {
        "duration": 1048,
        "start_time": "2023-09-28T19:45:49.232Z"
      },
      {
        "duration": 6,
        "start_time": "2023-09-28T19:45:50.282Z"
      },
      {
        "duration": 19,
        "start_time": "2023-09-28T19:45:50.391Z"
      },
      {
        "duration": 3,
        "start_time": "2023-09-28T19:45:51.940Z"
      },
      {
        "duration": 4,
        "start_time": "2023-09-28T19:45:52.295Z"
      },
      {
        "duration": 3,
        "start_time": "2023-09-28T19:45:52.819Z"
      },
      {
        "duration": 9,
        "start_time": "2023-09-28T19:45:54.135Z"
      },
      {
        "duration": 8,
        "start_time": "2023-09-28T19:45:54.375Z"
      },
      {
        "duration": 6,
        "start_time": "2023-09-28T19:45:54.553Z"
      },
      {
        "duration": 3,
        "start_time": "2023-09-28T19:45:54.739Z"
      },
      {
        "duration": 6,
        "start_time": "2023-09-28T19:45:55.123Z"
      },
      {
        "duration": 3,
        "start_time": "2023-09-28T19:45:55.458Z"
      },
      {
        "duration": 512,
        "start_time": "2023-09-28T19:45:56.150Z"
      },
      {
        "duration": 6,
        "start_time": "2023-09-28T19:45:56.752Z"
      },
      {
        "duration": 7,
        "start_time": "2023-09-28T19:46:25.523Z"
      },
      {
        "duration": 6,
        "start_time": "2023-09-28T19:46:25.833Z"
      },
      {
        "duration": 3,
        "start_time": "2023-09-28T19:46:26.226Z"
      },
      {
        "duration": 6,
        "start_time": "2023-09-28T19:46:26.851Z"
      },
      {
        "duration": 3,
        "start_time": "2023-09-28T19:46:27.248Z"
      },
      {
        "duration": 3,
        "start_time": "2023-09-28T19:46:28.519Z"
      },
      {
        "duration": 5,
        "start_time": "2023-09-28T19:46:29.027Z"
      },
      {
        "duration": 207,
        "start_time": "2023-09-28T19:46:29.612Z"
      },
      {
        "duration": 9,
        "start_time": "2023-09-28T19:50:49.799Z"
      },
      {
        "duration": 9,
        "start_time": "2023-09-28T19:50:50.412Z"
      },
      {
        "duration": 9,
        "start_time": "2023-09-28T19:50:50.986Z"
      },
      {
        "duration": 7,
        "start_time": "2023-09-28T19:50:52.988Z"
      },
      {
        "duration": 1625,
        "start_time": "2023-09-29T22:00:39.301Z"
      },
      {
        "duration": 2201,
        "start_time": "2023-09-29T22:00:40.928Z"
      },
      {
        "duration": 19,
        "start_time": "2023-09-29T22:00:43.131Z"
      },
      {
        "duration": 12,
        "start_time": "2023-09-29T22:00:43.152Z"
      },
      {
        "duration": 17,
        "start_time": "2023-09-29T22:00:46.893Z"
      },
      {
        "duration": 115,
        "start_time": "2023-09-29T22:00:50.262Z"
      },
      {
        "duration": 19,
        "start_time": "2023-09-29T22:00:50.657Z"
      },
      {
        "duration": 92,
        "start_time": "2023-09-29T22:00:51.103Z"
      },
      {
        "duration": 236,
        "start_time": "2023-09-29T22:00:52.205Z"
      },
      {
        "duration": 126,
        "start_time": "2023-09-29T22:00:52.594Z"
      },
      {
        "duration": 248,
        "start_time": "2023-09-29T22:00:53.206Z"
      },
      {
        "duration": 18,
        "start_time": "2023-09-29T22:00:53.677Z"
      },
      {
        "duration": 11,
        "start_time": "2023-09-29T22:00:57.787Z"
      },
      {
        "duration": 9,
        "start_time": "2023-09-29T22:01:00.781Z"
      },
      {
        "duration": 115,
        "start_time": "2023-09-29T22:01:02.212Z"
      },
      {
        "duration": 8,
        "start_time": "2023-09-29T22:01:16.159Z"
      },
      {
        "duration": 22,
        "start_time": "2023-09-29T22:01:21.620Z"
      },
      {
        "duration": 4,
        "start_time": "2023-09-29T22:01:21.990Z"
      },
      {
        "duration": 5,
        "start_time": "2023-09-29T22:01:22.344Z"
      },
      {
        "duration": 243,
        "start_time": "2023-09-29T22:01:22.598Z"
      },
      {
        "duration": 337,
        "start_time": "2023-09-29T22:01:22.844Z"
      },
      {
        "duration": 25,
        "start_time": "2023-09-29T22:01:24.308Z"
      },
      {
        "duration": 23,
        "start_time": "2023-09-29T22:01:24.783Z"
      },
      {
        "duration": 2,
        "start_time": "2023-09-29T22:01:25.190Z"
      },
      {
        "duration": 250,
        "start_time": "2023-09-29T22:01:27.809Z"
      },
      {
        "duration": 31,
        "start_time": "2023-09-29T22:01:28.510Z"
      },
      {
        "duration": 3,
        "start_time": "2023-09-29T22:01:29.248Z"
      },
      {
        "duration": 3043,
        "start_time": "2023-09-29T22:01:32.976Z"
      },
      {
        "duration": 571,
        "start_time": "2023-09-29T22:01:40.106Z"
      },
      {
        "duration": 383,
        "start_time": "2023-09-29T22:01:41.092Z"
      },
      {
        "duration": 13,
        "start_time": "2023-09-29T22:01:42.003Z"
      },
      {
        "duration": 895,
        "start_time": "2023-09-29T22:01:44.594Z"
      },
      {
        "duration": 6,
        "start_time": "2023-09-29T22:01:47.396Z"
      },
      {
        "duration": 18,
        "start_time": "2023-09-29T22:01:47.734Z"
      },
      {
        "duration": 4,
        "start_time": "2023-09-29T22:01:49.091Z"
      },
      {
        "duration": 2,
        "start_time": "2023-09-29T22:01:49.383Z"
      },
      {
        "duration": 3,
        "start_time": "2023-09-29T22:01:50.031Z"
      },
      {
        "duration": 9,
        "start_time": "2023-09-29T22:01:50.693Z"
      },
      {
        "duration": 6,
        "start_time": "2023-09-29T22:01:51.005Z"
      },
      {
        "duration": 3,
        "start_time": "2023-09-29T22:01:51.773Z"
      },
      {
        "duration": 7,
        "start_time": "2023-09-29T22:01:52.400Z"
      },
      {
        "duration": 3,
        "start_time": "2023-09-29T22:01:52.877Z"
      },
      {
        "duration": 4,
        "start_time": "2023-09-29T22:01:54.399Z"
      },
      {
        "duration": 4,
        "start_time": "2023-09-29T22:01:55.203Z"
      },
      {
        "duration": 214,
        "start_time": "2023-09-29T22:01:56.119Z"
      },
      {
        "duration": 15,
        "start_time": "2023-09-29T22:02:33.611Z"
      },
      {
        "duration": 14,
        "start_time": "2023-09-29T22:02:48.614Z"
      },
      {
        "duration": 1523,
        "start_time": "2023-09-29T22:02:54.440Z"
      },
      {
        "duration": 858,
        "start_time": "2023-09-29T22:02:55.964Z"
      },
      {
        "duration": 18,
        "start_time": "2023-09-29T22:02:56.824Z"
      },
      {
        "duration": 18,
        "start_time": "2023-09-29T22:02:56.844Z"
      },
      {
        "duration": 37,
        "start_time": "2023-09-29T22:02:56.864Z"
      },
      {
        "duration": 126,
        "start_time": "2023-09-29T22:02:56.903Z"
      },
      {
        "duration": 26,
        "start_time": "2023-09-29T22:02:57.031Z"
      },
      {
        "duration": 108,
        "start_time": "2023-09-29T22:02:57.059Z"
      },
      {
        "duration": 236,
        "start_time": "2023-09-29T22:02:57.169Z"
      },
      {
        "duration": 145,
        "start_time": "2023-09-29T22:02:57.408Z"
      },
      {
        "duration": 263,
        "start_time": "2023-09-29T22:02:57.556Z"
      },
      {
        "duration": 15,
        "start_time": "2023-09-29T22:02:57.821Z"
      },
      {
        "duration": 27,
        "start_time": "2023-09-29T22:02:57.838Z"
      },
      {
        "duration": 32,
        "start_time": "2023-09-29T22:02:57.867Z"
      },
      {
        "duration": 14,
        "start_time": "2023-09-29T22:02:57.901Z"
      },
      {
        "duration": 30,
        "start_time": "2023-09-29T22:02:57.917Z"
      },
      {
        "duration": 20,
        "start_time": "2023-09-29T22:02:57.949Z"
      },
      {
        "duration": 30,
        "start_time": "2023-09-29T22:02:57.971Z"
      },
      {
        "duration": 239,
        "start_time": "2023-09-29T22:02:58.003Z"
      },
      {
        "duration": 345,
        "start_time": "2023-09-29T22:02:58.244Z"
      },
      {
        "duration": 32,
        "start_time": "2023-09-29T22:02:58.591Z"
      },
      {
        "duration": 51,
        "start_time": "2023-09-29T22:02:58.625Z"
      },
      {
        "duration": 26,
        "start_time": "2023-09-29T22:02:58.678Z"
      },
      {
        "duration": 278,
        "start_time": "2023-09-29T22:02:58.706Z"
      },
      {
        "duration": 33,
        "start_time": "2023-09-29T22:02:58.986Z"
      },
      {
        "duration": 19,
        "start_time": "2023-09-29T22:02:59.020Z"
      },
      {
        "duration": 3060,
        "start_time": "2023-09-29T22:02:59.041Z"
      },
      {
        "duration": 596,
        "start_time": "2023-09-29T22:03:02.105Z"
      },
      {
        "duration": 412,
        "start_time": "2023-09-29T22:03:02.703Z"
      },
      {
        "duration": 11,
        "start_time": "2023-09-29T22:03:03.117Z"
      },
      {
        "duration": 1081,
        "start_time": "2023-09-29T22:03:03.130Z"
      },
      {
        "duration": 7,
        "start_time": "2023-09-29T22:03:04.213Z"
      },
      {
        "duration": 72,
        "start_time": "2023-09-29T22:03:04.222Z"
      },
      {
        "duration": 20,
        "start_time": "2023-09-29T22:03:04.295Z"
      },
      {
        "duration": 45,
        "start_time": "2023-09-29T22:03:04.317Z"
      },
      {
        "duration": 24,
        "start_time": "2023-09-29T22:03:04.364Z"
      },
      {
        "duration": 28,
        "start_time": "2023-09-29T22:03:04.391Z"
      },
      {
        "duration": 70,
        "start_time": "2023-09-29T22:03:04.420Z"
      },
      {
        "duration": 11,
        "start_time": "2023-09-29T22:03:04.492Z"
      },
      {
        "duration": 27,
        "start_time": "2023-09-29T22:03:04.505Z"
      },
      {
        "duration": 284,
        "start_time": "2023-09-29T22:03:04.535Z"
      },
      {
        "duration": 87,
        "start_time": "2023-09-29T22:03:04.821Z"
      },
      {
        "duration": 24,
        "start_time": "2023-09-29T22:03:04.910Z"
      },
      {
        "duration": 283899,
        "start_time": "2023-09-29T22:03:04.936Z"
      },
      {
        "duration": 9,
        "start_time": "2023-09-29T22:07:48.837Z"
      },
      {
        "duration": 9,
        "start_time": "2023-09-29T22:07:48.848Z"
      },
      {
        "duration": 6,
        "start_time": "2023-09-29T22:07:48.858Z"
      },
      {
        "duration": 28,
        "start_time": "2023-09-29T22:07:48.865Z"
      },
      {
        "duration": 31,
        "start_time": "2023-09-29T22:07:48.894Z"
      },
      {
        "duration": 3,
        "start_time": "2023-09-29T22:07:48.927Z"
      },
      {
        "duration": 17,
        "start_time": "2023-09-29T22:07:48.931Z"
      },
      {
        "duration": 18,
        "start_time": "2023-09-29T22:07:48.949Z"
      },
      {
        "duration": 19,
        "start_time": "2023-09-29T22:07:48.969Z"
      },
      {
        "duration": 47,
        "start_time": "2023-09-29T22:07:48.990Z"
      },
      {
        "duration": 35,
        "start_time": "2023-09-29T22:07:49.039Z"
      },
      {
        "duration": 7,
        "start_time": "2023-09-29T22:07:49.076Z"
      },
      {
        "duration": 21,
        "start_time": "2023-09-29T22:07:49.085Z"
      },
      {
        "duration": 13,
        "start_time": "2023-09-29T22:07:49.108Z"
      },
      {
        "duration": 14,
        "start_time": "2023-09-29T22:07:49.123Z"
      },
      {
        "duration": 4,
        "start_time": "2023-09-29T22:09:50.142Z"
      },
      {
        "duration": 4,
        "start_time": "2023-09-29T22:10:06.022Z"
      },
      {
        "duration": 6,
        "start_time": "2023-09-29T22:10:11.408Z"
      },
      {
        "duration": 5,
        "start_time": "2023-09-29T22:10:14.404Z"
      },
      {
        "duration": 4,
        "start_time": "2023-09-29T22:10:15.400Z"
      },
      {
        "duration": 4,
        "start_time": "2023-09-29T22:10:25.382Z"
      },
      {
        "duration": 4,
        "start_time": "2023-09-29T22:10:30.739Z"
      },
      {
        "duration": 13,
        "start_time": "2023-09-29T22:10:31.199Z"
      },
      {
        "duration": 3,
        "start_time": "2023-09-29T22:10:33.934Z"
      },
      {
        "duration": 8,
        "start_time": "2023-09-29T22:10:34.527Z"
      },
      {
        "duration": 7,
        "start_time": "2023-09-29T22:10:40.201Z"
      },
      {
        "duration": 5,
        "start_time": "2023-09-29T22:13:00.141Z"
      },
      {
        "duration": 109,
        "start_time": "2023-09-29T22:13:11.475Z"
      },
      {
        "duration": 14,
        "start_time": "2023-09-29T22:13:39.703Z"
      },
      {
        "duration": 16,
        "start_time": "2023-09-29T22:13:42.141Z"
      },
      {
        "duration": 1671,
        "start_time": "2023-09-29T22:14:05.142Z"
      },
      {
        "duration": 922,
        "start_time": "2023-09-29T22:14:06.816Z"
      },
      {
        "duration": 22,
        "start_time": "2023-09-29T22:14:07.740Z"
      },
      {
        "duration": 14,
        "start_time": "2023-09-29T22:14:07.764Z"
      },
      {
        "duration": 47,
        "start_time": "2023-09-29T22:14:07.780Z"
      },
      {
        "duration": 139,
        "start_time": "2023-09-29T22:14:07.828Z"
      },
      {
        "duration": 20,
        "start_time": "2023-09-29T22:14:07.968Z"
      },
      {
        "duration": 112,
        "start_time": "2023-09-29T22:14:07.989Z"
      },
      {
        "duration": 242,
        "start_time": "2023-09-29T22:14:08.103Z"
      },
      {
        "duration": 140,
        "start_time": "2023-09-29T22:14:08.348Z"
      },
      {
        "duration": 282,
        "start_time": "2023-09-29T22:14:08.489Z"
      },
      {
        "duration": 18,
        "start_time": "2023-09-29T22:14:08.773Z"
      },
      {
        "duration": 19,
        "start_time": "2023-09-29T22:14:08.802Z"
      },
      {
        "duration": 63,
        "start_time": "2023-09-29T22:14:08.823Z"
      },
      {
        "duration": 17,
        "start_time": "2023-09-29T22:14:08.889Z"
      },
      {
        "duration": 65,
        "start_time": "2023-09-29T22:14:08.908Z"
      },
      {
        "duration": 26,
        "start_time": "2023-09-29T22:14:08.976Z"
      },
      {
        "duration": 25,
        "start_time": "2023-09-29T22:14:09.004Z"
      },
      {
        "duration": 254,
        "start_time": "2023-09-29T22:14:09.030Z"
      },
      {
        "duration": 341,
        "start_time": "2023-09-29T22:14:09.285Z"
      },
      {
        "duration": 23,
        "start_time": "2023-09-29T22:14:09.628Z"
      },
      {
        "duration": 49,
        "start_time": "2023-09-29T22:14:09.652Z"
      },
      {
        "duration": 2,
        "start_time": "2023-09-29T22:14:09.703Z"
      },
      {
        "duration": 277,
        "start_time": "2023-09-29T22:14:09.707Z"
      },
      {
        "duration": 26,
        "start_time": "2023-09-29T22:14:09.986Z"
      },
      {
        "duration": 139,
        "start_time": "2023-09-29T22:14:10.015Z"
      },
      {
        "duration": 2925,
        "start_time": "2023-09-29T22:14:10.157Z"
      },
      {
        "duration": 571,
        "start_time": "2023-09-29T22:14:13.086Z"
      },
      {
        "duration": 405,
        "start_time": "2023-09-29T22:14:13.659Z"
      },
      {
        "duration": 11,
        "start_time": "2023-09-29T22:14:14.065Z"
      },
      {
        "duration": 986,
        "start_time": "2023-09-29T22:14:14.077Z"
      },
      {
        "duration": 7,
        "start_time": "2023-09-29T22:14:15.064Z"
      },
      {
        "duration": 109,
        "start_time": "2023-09-29T22:14:15.072Z"
      },
      {
        "duration": 120,
        "start_time": "2023-09-29T22:14:15.182Z"
      },
      {
        "duration": 71,
        "start_time": "2023-09-29T22:14:15.304Z"
      },
      {
        "duration": 39,
        "start_time": "2023-09-29T22:14:15.377Z"
      },
      {
        "duration": 25,
        "start_time": "2023-09-29T22:14:15.418Z"
      },
      {
        "duration": 41,
        "start_time": "2023-09-29T22:14:15.444Z"
      },
      {
        "duration": 57,
        "start_time": "2023-09-29T22:14:15.487Z"
      },
      {
        "duration": 85,
        "start_time": "2023-09-29T22:14:15.546Z"
      },
      {
        "duration": 38,
        "start_time": "2023-09-29T22:14:15.632Z"
      },
      {
        "duration": 51,
        "start_time": "2023-09-29T22:14:15.672Z"
      },
      {
        "duration": 35,
        "start_time": "2023-09-29T22:14:15.725Z"
      },
      {
        "duration": 1587,
        "start_time": "2023-09-29T22:15:12.144Z"
      },
      {
        "duration": 932,
        "start_time": "2023-09-29T22:15:13.733Z"
      },
      {
        "duration": 23,
        "start_time": "2023-09-29T22:15:14.668Z"
      },
      {
        "duration": 18,
        "start_time": "2023-09-29T22:15:14.701Z"
      },
      {
        "duration": 32,
        "start_time": "2023-09-29T22:15:14.720Z"
      },
      {
        "duration": 136,
        "start_time": "2023-09-29T22:15:14.754Z"
      },
      {
        "duration": 26,
        "start_time": "2023-09-29T22:15:14.892Z"
      },
      {
        "duration": 145,
        "start_time": "2023-09-29T22:15:14.920Z"
      },
      {
        "duration": 241,
        "start_time": "2023-09-29T22:15:15.067Z"
      },
      {
        "duration": 127,
        "start_time": "2023-09-29T22:15:15.310Z"
      },
      {
        "duration": 255,
        "start_time": "2023-09-29T22:15:15.439Z"
      },
      {
        "duration": 17,
        "start_time": "2023-09-29T22:15:15.700Z"
      },
      {
        "duration": 8,
        "start_time": "2023-09-29T22:15:15.719Z"
      },
      {
        "duration": 12,
        "start_time": "2023-09-29T22:15:15.937Z"
      },
      {
        "duration": 8,
        "start_time": "2023-09-29T22:15:16.460Z"
      },
      {
        "duration": 21,
        "start_time": "2023-09-29T22:15:17.667Z"
      },
      {
        "duration": 4,
        "start_time": "2023-09-29T22:15:17.842Z"
      },
      {
        "duration": 6,
        "start_time": "2023-09-29T22:15:18.035Z"
      },
      {
        "duration": 391,
        "start_time": "2023-09-29T22:15:18.194Z"
      },
      {
        "duration": 361,
        "start_time": "2023-09-29T22:15:18.587Z"
      },
      {
        "duration": 24,
        "start_time": "2023-09-29T22:15:18.951Z"
      },
      {
        "duration": 40,
        "start_time": "2023-09-29T22:15:18.977Z"
      },
      {
        "duration": 3,
        "start_time": "2023-09-29T22:15:19.079Z"
      },
      {
        "duration": 264,
        "start_time": "2023-09-29T22:15:20.208Z"
      },
      {
        "duration": 33,
        "start_time": "2023-09-29T22:15:20.473Z"
      },
      {
        "duration": 3,
        "start_time": "2023-09-29T22:15:20.561Z"
      },
      {
        "duration": 2902,
        "start_time": "2023-09-29T22:15:21.548Z"
      },
      {
        "duration": 658,
        "start_time": "2023-09-29T22:15:24.453Z"
      },
      {
        "duration": 429,
        "start_time": "2023-09-29T22:15:25.113Z"
      },
      {
        "duration": 11,
        "start_time": "2023-09-29T22:15:25.543Z"
      },
      {
        "duration": 890,
        "start_time": "2023-09-29T22:15:25.555Z"
      },
      {
        "duration": 6,
        "start_time": "2023-09-29T22:15:26.447Z"
      },
      {
        "duration": 22,
        "start_time": "2023-09-29T22:15:26.454Z"
      },
      {
        "duration": 3,
        "start_time": "2023-09-29T22:15:26.825Z"
      },
      {
        "duration": 3,
        "start_time": "2023-09-29T22:15:27.027Z"
      },
      {
        "duration": 2,
        "start_time": "2023-09-29T22:15:27.423Z"
      },
      {
        "duration": 9,
        "start_time": "2023-09-29T22:15:28.201Z"
      },
      {
        "duration": 8,
        "start_time": "2023-09-29T22:15:28.686Z"
      },
      {
        "duration": 3,
        "start_time": "2023-09-29T22:15:30.202Z"
      },
      {
        "duration": 6,
        "start_time": "2023-09-29T22:15:30.598Z"
      },
      {
        "duration": 4,
        "start_time": "2023-09-29T22:15:31.129Z"
      },
      {
        "duration": 3,
        "start_time": "2023-09-29T22:15:32.197Z"
      },
      {
        "duration": 97,
        "start_time": "2023-09-29T22:15:32.647Z"
      },
      {
        "duration": 279984,
        "start_time": "2023-09-29T22:15:32.981Z"
      },
      {
        "duration": 9,
        "start_time": "2023-09-29T22:20:12.967Z"
      },
      {
        "duration": 53,
        "start_time": "2023-09-29T22:20:12.978Z"
      },
      {
        "duration": 28,
        "start_time": "2023-09-29T22:20:13.033Z"
      },
      {
        "duration": 32,
        "start_time": "2023-09-29T22:20:13.062Z"
      },
      {
        "duration": 31,
        "start_time": "2023-09-29T22:20:25.387Z"
      },
      {
        "duration": 2,
        "start_time": "2023-09-29T22:20:34.109Z"
      },
      {
        "duration": 5,
        "start_time": "2023-09-29T22:20:34.870Z"
      },
      {
        "duration": 6,
        "start_time": "2023-09-29T22:20:35.677Z"
      },
      {
        "duration": 6,
        "start_time": "2023-09-29T22:20:36.860Z"
      },
      {
        "duration": 8,
        "start_time": "2023-09-29T22:20:41.384Z"
      },
      {
        "duration": 7,
        "start_time": "2023-09-29T22:20:58.822Z"
      },
      {
        "duration": 9,
        "start_time": "2023-09-29T22:21:03.731Z"
      },
      {
        "duration": 154,
        "start_time": "2023-09-29T22:21:04.345Z"
      },
      {
        "duration": 7,
        "start_time": "2023-09-29T22:21:05.674Z"
      },
      {
        "duration": 7,
        "start_time": "2023-09-29T22:21:10.704Z"
      },
      {
        "duration": 6,
        "start_time": "2023-09-29T22:21:11.502Z"
      },
      {
        "duration": 5,
        "start_time": "2023-09-29T22:21:12.333Z"
      },
      {
        "duration": 4,
        "start_time": "2023-09-29T22:30:36.109Z"
      },
      {
        "duration": 4,
        "start_time": "2023-09-29T22:30:36.504Z"
      },
      {
        "duration": 4,
        "start_time": "2023-09-29T22:30:36.816Z"
      },
      {
        "duration": 15,
        "start_time": "2023-09-29T22:30:37.432Z"
      },
      {
        "duration": 3,
        "start_time": "2023-09-29T22:30:39.844Z"
      },
      {
        "duration": 5,
        "start_time": "2023-09-29T22:30:40.569Z"
      },
      {
        "duration": 5,
        "start_time": "2023-09-29T22:30:42.084Z"
      },
      {
        "duration": 5,
        "start_time": "2023-09-29T22:30:42.883Z"
      },
      {
        "duration": 9,
        "start_time": "2023-09-29T22:30:45.911Z"
      },
      {
        "duration": 8,
        "start_time": "2023-09-29T22:30:47.571Z"
      },
      {
        "duration": 24,
        "start_time": "2023-09-29T22:30:48.108Z"
      },
      {
        "duration": 3205,
        "start_time": "2023-09-30T09:10:43.762Z"
      },
      {
        "duration": 2302,
        "start_time": "2023-09-30T09:10:46.969Z"
      },
      {
        "duration": 21,
        "start_time": "2023-09-30T09:10:49.273Z"
      },
      {
        "duration": 13,
        "start_time": "2023-09-30T09:10:49.296Z"
      },
      {
        "duration": 19,
        "start_time": "2023-09-30T09:10:49.310Z"
      },
      {
        "duration": 140,
        "start_time": "2023-09-30T09:10:49.331Z"
      },
      {
        "duration": 21,
        "start_time": "2023-09-30T09:10:49.473Z"
      },
      {
        "duration": 107,
        "start_time": "2023-09-30T09:10:49.509Z"
      },
      {
        "duration": 257,
        "start_time": "2023-09-30T09:10:49.618Z"
      },
      {
        "duration": 144,
        "start_time": "2023-09-30T09:10:49.878Z"
      },
      {
        "duration": 293,
        "start_time": "2023-09-30T09:10:50.024Z"
      },
      {
        "duration": 20,
        "start_time": "2023-09-30T09:10:50.319Z"
      },
      {
        "duration": 10,
        "start_time": "2023-09-30T09:10:50.341Z"
      },
      {
        "duration": 12,
        "start_time": "2023-09-30T09:10:50.354Z"
      },
      {
        "duration": 46,
        "start_time": "2023-09-30T09:10:50.368Z"
      },
      {
        "duration": 26,
        "start_time": "2023-09-30T09:10:50.416Z"
      },
      {
        "duration": 12,
        "start_time": "2023-09-30T09:10:50.445Z"
      },
      {
        "duration": 6,
        "start_time": "2023-09-30T09:10:50.458Z"
      },
      {
        "duration": 292,
        "start_time": "2023-09-30T09:10:50.465Z"
      },
      {
        "duration": 372,
        "start_time": "2023-09-30T09:10:50.759Z"
      },
      {
        "duration": 24,
        "start_time": "2023-09-30T09:10:51.133Z"
      },
      {
        "duration": 24,
        "start_time": "2023-09-30T09:10:51.159Z"
      },
      {
        "duration": 25,
        "start_time": "2023-09-30T09:10:51.184Z"
      },
      {
        "duration": 275,
        "start_time": "2023-09-30T09:10:51.211Z"
      },
      {
        "duration": 27,
        "start_time": "2023-09-30T09:10:51.487Z"
      },
      {
        "duration": 14,
        "start_time": "2023-09-30T09:10:51.516Z"
      },
      {
        "duration": 3290,
        "start_time": "2023-09-30T09:10:51.531Z"
      },
      {
        "duration": 654,
        "start_time": "2023-09-30T09:10:54.826Z"
      },
      {
        "duration": 431,
        "start_time": "2023-09-30T09:10:55.482Z"
      },
      {
        "duration": 11,
        "start_time": "2023-09-30T09:10:55.915Z"
      },
      {
        "duration": 902,
        "start_time": "2023-09-30T09:10:55.929Z"
      },
      {
        "duration": 6,
        "start_time": "2023-09-30T09:10:56.833Z"
      },
      {
        "duration": 27,
        "start_time": "2023-09-30T09:10:56.840Z"
      },
      {
        "duration": 3,
        "start_time": "2023-09-30T09:10:56.868Z"
      },
      {
        "duration": 9,
        "start_time": "2023-09-30T09:10:56.873Z"
      },
      {
        "duration": 7,
        "start_time": "2023-09-30T09:10:56.883Z"
      },
      {
        "duration": 22,
        "start_time": "2023-09-30T09:10:56.892Z"
      },
      {
        "duration": 9,
        "start_time": "2023-09-30T09:10:56.916Z"
      },
      {
        "duration": 15,
        "start_time": "2023-09-30T09:10:56.927Z"
      },
      {
        "duration": 17,
        "start_time": "2023-09-30T09:10:56.944Z"
      },
      {
        "duration": 6,
        "start_time": "2023-09-30T09:10:56.962Z"
      },
      {
        "duration": 142,
        "start_time": "2023-09-30T09:13:05.185Z"
      },
      {
        "duration": 7,
        "start_time": "2023-09-30T09:13:42.155Z"
      },
      {
        "duration": 5,
        "start_time": "2023-09-30T09:13:57.916Z"
      },
      {
        "duration": 5430,
        "start_time": "2023-09-30T09:15:25.553Z"
      },
      {
        "duration": 31,
        "start_time": "2023-09-30T09:15:35.244Z"
      },
      {
        "duration": 114,
        "start_time": "2023-09-30T09:15:38.281Z"
      },
      {
        "duration": 32,
        "start_time": "2023-09-30T09:15:55.519Z"
      },
      {
        "duration": 3,
        "start_time": "2023-09-30T09:15:56.655Z"
      },
      {
        "duration": 3,
        "start_time": "2023-09-30T09:15:57.234Z"
      },
      {
        "duration": 8,
        "start_time": "2023-09-30T09:16:02.139Z"
      },
      {
        "duration": 2619,
        "start_time": "2023-09-30T09:17:31.370Z"
      },
      {
        "duration": 19796,
        "start_time": "2023-09-30T09:17:33.991Z"
      },
      {
        "duration": 41,
        "start_time": "2023-09-30T09:17:53.788Z"
      },
      {
        "duration": 7,
        "start_time": "2023-09-30T09:17:53.832Z"
      },
      {
        "duration": 6486,
        "start_time": "2023-09-30T09:18:27.259Z"
      },
      {
        "duration": 19664,
        "start_time": "2023-09-30T09:18:33.747Z"
      },
      {
        "duration": 42,
        "start_time": "2023-09-30T09:18:53.413Z"
      },
      {
        "duration": 7,
        "start_time": "2023-09-30T09:18:53.457Z"
      },
      {
        "duration": 2495,
        "start_time": "2023-09-30T09:21:04.923Z"
      },
      {
        "duration": 19649,
        "start_time": "2023-09-30T09:21:07.420Z"
      },
      {
        "duration": 38,
        "start_time": "2023-09-30T09:21:27.071Z"
      },
      {
        "duration": 6,
        "start_time": "2023-09-30T09:21:27.112Z"
      },
      {
        "duration": 5,
        "start_time": "2023-09-30T09:21:27.120Z"
      },
      {
        "duration": 6,
        "start_time": "2023-09-30T09:21:27.127Z"
      },
      {
        "duration": 10,
        "start_time": "2023-09-30T09:21:27.134Z"
      },
      {
        "duration": 1920,
        "start_time": "2023-09-30T21:38:14.502Z"
      },
      {
        "duration": 2539,
        "start_time": "2023-09-30T21:38:16.428Z"
      },
      {
        "duration": 21,
        "start_time": "2023-09-30T21:38:18.969Z"
      },
      {
        "duration": 156,
        "start_time": "2023-09-30T21:38:18.992Z"
      },
      {
        "duration": 23,
        "start_time": "2023-09-30T21:38:19.150Z"
      },
      {
        "duration": 1766,
        "start_time": "2023-10-05T13:18:38.557Z"
      },
      {
        "duration": 2253,
        "start_time": "2023-10-05T13:18:40.325Z"
      },
      {
        "duration": 21,
        "start_time": "2023-10-05T13:18:42.580Z"
      },
      {
        "duration": 13,
        "start_time": "2023-10-05T13:18:42.756Z"
      },
      {
        "duration": 18,
        "start_time": "2023-10-05T13:18:42.953Z"
      },
      {
        "duration": 122,
        "start_time": "2023-10-05T13:18:43.336Z"
      },
      {
        "duration": 22,
        "start_time": "2023-10-05T13:18:43.820Z"
      },
      {
        "duration": 110,
        "start_time": "2023-10-05T13:18:44.840Z"
      },
      {
        "duration": 237,
        "start_time": "2023-10-05T13:18:49.387Z"
      },
      {
        "duration": 140,
        "start_time": "2023-10-05T13:18:49.625Z"
      },
      {
        "duration": 259,
        "start_time": "2023-10-05T13:18:49.969Z"
      },
      {
        "duration": 17,
        "start_time": "2023-10-05T13:18:50.230Z"
      }
    ],
    "toc": {
      "base_numbering": 1,
      "nav_menu": {},
      "number_sections": true,
      "sideBar": true,
      "skip_h1_title": true,
      "title_cell": "Содержание",
      "title_sidebar": "Contents",
      "toc_cell": true,
      "toc_position": {
        "height": "calc(100% - 180px)",
        "left": "10px",
        "top": "150px",
        "width": "361.391px"
      },
      "toc_section_display": true,
      "toc_window_display": true
    },
    "kernelspec": {
      "name": "python",
      "display_name": "Python (Pyodide)",
      "language": "python"
    },
    "language_info": {
      "codemirror_mode": {
        "name": "python",
        "version": 3
      },
      "file_extension": ".py",
      "mimetype": "text/x-python",
      "name": "python",
      "nbconvert_exporter": "python",
      "pygments_lexer": "ipython3",
      "version": "3.8"
    }
  },
  "nbformat_minor": 4,
  "nbformat": 4,
  "cells": [
    {
      "cell_type": "markdown",
      "source": "<h1>Содержание<span class=\"tocSkip\"></span></h1>\n<div class=\"toc\"><ul class=\"toc-item\"><li><span><a href=\"#Подготовка-данных\" data-toc-modified-id=\"Подготовка-данных-1\"><span class=\"toc-item-num\">1&nbsp;&nbsp;</span>Подготовка данных</a></span></li><li><span><a href=\"#Анализ-данных\" data-toc-modified-id=\"Анализ-данных-2\"><span class=\"toc-item-num\">2&nbsp;&nbsp;</span>Анализ данных</a></span></li><li><span><a href=\"#Модель\" data-toc-modified-id=\"Модель-3\"><span class=\"toc-item-num\">3&nbsp;&nbsp;</span>Модель</a></span></li><li><span><a href=\"#Чек-лист-готовности-проекта\" data-toc-modified-id=\"Чек-лист-готовности-проекта-4\"><span class=\"toc-item-num\">4&nbsp;&nbsp;</span>Чек-лист готовности проекта</a></span></li></ul></div>",
      "metadata": {
        "toc": true
      }
    },
    {
      "cell_type": "markdown",
      "source": "# Восстановление золота из руды",
      "metadata": {}
    },
    {
      "cell_type": "markdown",
      "source": "Подготовьте прототип модели машинного обучения для «Цифры». Компания разрабатывает решения для эффективной работы промышленных предприятий.\n\nМодель должна предсказать коэффициент восстановления золота из золотосодержащей руды. Используйте данные с параметрами добычи и очистки. \n\nМодель поможет оптимизировать производство, чтобы не запускать предприятие с убыточными характеристиками.\n\nВам нужно:\n\n1. Подготовить данные;\n2. Провести исследовательский анализ данных;\n3. Построить и обучить модель.\n\nЧтобы выполнить проект, обращайтесь к библиотекам *pandas*, *matplotlib* и *sklearn.* Вам поможет их документация.",
      "metadata": {}
    },
    {
      "cell_type": "markdown",
      "source": "## Подготовка данных",
      "metadata": {}
    },
    {
      "cell_type": "code",
      "source": "import pandas as pd\nimport numpy as np\nimport matplotlib.pyplot as plt\nimport seaborn as sns\nfrom sklearn.metrics import make_scorer\nfrom sklearn.metrics import mean_absolute_error\nfrom sklearn.tree import DecisionTreeRegressor\nfrom sklearn.pipeline import Pipeline\nfrom sklearn.impute import SimpleImputer\nfrom sklearn.preprocessing import StandardScaler\nfrom sklearn.ensemble import RandomForestRegressor\nfrom sklearn import linear_model\nfrom sklearn.linear_model import LinearRegression\nfrom sklearn.model_selection import GridSearchCV, KFold\nfrom numpy.random import RandomState\nfrom sklearn.dummy import DummyRegressor\nfrom sklearn.pipeline import make_pipeline\nimport warnings\nwarnings.filterwarnings('ignore')",
      "metadata": {},
      "execution_count": 1,
      "outputs": []
    },
    {
      "cell_type": "code",
      "source": "data_train = pd.read_csv('/datasets/gold_industry_train.csv') \ndata_test = pd.read_csv('/datasets/gold_industry_test.csv') \ndata_full = pd.read_csv('/datasets/gold_industry_full.csv')",
      "metadata": {},
      "execution_count": 2,
      "outputs": []
    },
    {
      "cell_type": "code",
      "source": "data_train.info()",
      "metadata": {},
      "execution_count": 3,
      "outputs": [
        {
          "name": "stdout",
          "output_type": "stream",
          "text": "<class 'pandas.core.frame.DataFrame'>\n\nRangeIndex: 14579 entries, 0 to 14578\n\nData columns (total 87 columns):\n\n #   Column                                              Non-Null Count  Dtype  \n\n---  ------                                              --------------  -----  \n\n 0   date                                                14579 non-null  object \n\n 1   rougher.input.feed_au                               14579 non-null  float64\n\n 2   rougher.input.feed_ag                               14579 non-null  float64\n\n 3   rougher.input.feed_pb                               14507 non-null  float64\n\n 4   rougher.input.feed_sol                              14502 non-null  float64\n\n 5   rougher.input.feed_rate                             14572 non-null  float64\n\n 6   rougher.input.feed_size                             14478 non-null  float64\n\n 7   rougher.input.floatbank10_sulfate                   14548 non-null  float64\n\n 8   rougher.input.floatbank10_xanthate                  14572 non-null  float64\n\n 9   rougher.state.floatbank10_a_air                     14579 non-null  float64\n\n 10  rougher.state.floatbank10_a_level                   14579 non-null  float64\n\n 11  rougher.state.floatbank10_b_air                     14579 non-null  float64\n\n 12  rougher.state.floatbank10_b_level                   14579 non-null  float64\n\n 13  rougher.state.floatbank10_c_air                     14579 non-null  float64\n\n 14  rougher.state.floatbank10_c_level                   14579 non-null  float64\n\n 15  rougher.state.floatbank10_d_air                     14579 non-null  float64\n\n 16  rougher.state.floatbank10_d_level                   14579 non-null  float64\n\n 17  rougher.state.floatbank10_e_air                     14150 non-null  float64\n\n 18  rougher.state.floatbank10_e_level                   14579 non-null  float64\n\n 19  rougher.state.floatbank10_f_air                     14579 non-null  float64\n\n 20  rougher.state.floatbank10_f_level                   14579 non-null  float64\n\n 21  rougher.input.floatbank11_sulfate                   14543 non-null  float64\n\n 22  rougher.input.floatbank11_xanthate                  14172 non-null  float64\n\n 23  rougher.calculation.sulfate_to_au_concentrate       14578 non-null  float64\n\n 24  rougher.calculation.floatbank10_sulfate_to_au_feed  14578 non-null  float64\n\n 25  rougher.calculation.floatbank11_sulfate_to_au_feed  14578 non-null  float64\n\n 26  rougher.calculation.au_pb_ratio                     14579 non-null  float64\n\n 27  rougher.output.concentrate_au                       14579 non-null  float64\n\n 28  rougher.output.concentrate_ag                       14579 non-null  float64\n\n 29  rougher.output.concentrate_pb                       14579 non-null  float64\n\n 30  rougher.output.concentrate_sol                      14561 non-null  float64\n\n 31  rougher.output.recovery                             14579 non-null  float64\n\n 32  rougher.output.tail_au                              14579 non-null  float64\n\n 33  rougher.output.tail_ag                              14578 non-null  float64\n\n 34  rougher.output.tail_pb                              14579 non-null  float64\n\n 35  rougher.output.tail_sol                             14579 non-null  float64\n\n 36  primary_cleaner.input.sulfate                       14556 non-null  float64\n\n 37  primary_cleaner.input.depressant                    14551 non-null  float64\n\n 38  primary_cleaner.input.feed_size                     14579 non-null  float64\n\n 39  primary_cleaner.input.xanthate                      14518 non-null  float64\n\n 40  primary_cleaner.state.floatbank8_a_air              14576 non-null  float64\n\n 41  primary_cleaner.state.floatbank8_a_level            14579 non-null  float64\n\n 42  primary_cleaner.state.floatbank8_b_air              14576 non-null  float64\n\n 43  primary_cleaner.state.floatbank8_b_level            14579 non-null  float64\n\n 44  primary_cleaner.state.floatbank8_c_air              14579 non-null  float64\n\n 45  primary_cleaner.state.floatbank8_c_level            14579 non-null  float64\n\n 46  primary_cleaner.state.floatbank8_d_air              14578 non-null  float64\n\n 47  primary_cleaner.state.floatbank8_d_level            14579 non-null  float64\n\n 48  primary_cleaner.output.concentrate_au               14579 non-null  float64\n\n 49  primary_cleaner.output.concentrate_ag               14579 non-null  float64\n\n 50  primary_cleaner.output.concentrate_pb               14491 non-null  float64\n\n 51  primary_cleaner.output.concentrate_sol              14314 non-null  float64\n\n 52  primary_cleaner.output.tail_au                      14579 non-null  float64\n\n 53  primary_cleaner.output.tail_ag                      14575 non-null  float64\n\n 54  primary_cleaner.output.tail_pb                      14573 non-null  float64\n\n 55  primary_cleaner.output.tail_sol                     14534 non-null  float64\n\n 56  secondary_cleaner.state.floatbank2_a_air            14485 non-null  float64\n\n 57  secondary_cleaner.state.floatbank2_a_level          14579 non-null  float64\n\n 58  secondary_cleaner.state.floatbank2_b_air            14557 non-null  float64\n\n 59  secondary_cleaner.state.floatbank2_b_level          14579 non-null  float64\n\n 60  secondary_cleaner.state.floatbank3_a_air            14567 non-null  float64\n\n 61  secondary_cleaner.state.floatbank3_a_level          14579 non-null  float64\n\n 62  secondary_cleaner.state.floatbank3_b_air            14579 non-null  float64\n\n 63  secondary_cleaner.state.floatbank3_b_level          14579 non-null  float64\n\n 64  secondary_cleaner.state.floatbank4_a_air            14574 non-null  float64\n\n 65  secondary_cleaner.state.floatbank4_a_level          14579 non-null  float64\n\n 66  secondary_cleaner.state.floatbank4_b_air            14579 non-null  float64\n\n 67  secondary_cleaner.state.floatbank4_b_level          14579 non-null  float64\n\n 68  secondary_cleaner.state.floatbank5_a_air            14579 non-null  float64\n\n 69  secondary_cleaner.state.floatbank5_a_level          14579 non-null  float64\n\n 70  secondary_cleaner.state.floatbank5_b_air            14579 non-null  float64\n\n 71  secondary_cleaner.state.floatbank5_b_level          14579 non-null  float64\n\n 72  secondary_cleaner.state.floatbank6_a_air            14578 non-null  float64\n\n 73  secondary_cleaner.state.floatbank6_a_level          14579 non-null  float64\n\n 74  secondary_cleaner.output.tail_au                    14579 non-null  float64\n\n 75  secondary_cleaner.output.tail_ag                    14578 non-null  float64\n\n 76  secondary_cleaner.output.tail_pb                    14575 non-null  float64\n\n 77  secondary_cleaner.output.tail_sol                   13659 non-null  float64\n\n 78  final.output.concentrate_au                         14579 non-null  float64\n\n 79  final.output.concentrate_ag                         14578 non-null  float64\n\n 80  final.output.concentrate_pb                         14578 non-null  float64\n\n 81  final.output.concentrate_sol                        14387 non-null  float64\n\n 82  final.output.recovery                               14579 non-null  float64\n\n 83  final.output.tail_au                                14579 non-null  float64\n\n 84  final.output.tail_ag                                14578 non-null  float64\n\n 85  final.output.tail_pb                                14504 non-null  float64\n\n 86  final.output.tail_sol                               14574 non-null  float64\n\ndtypes: float64(86), object(1)\n\nmemory usage: 9.7+ MB\n"
        }
      ]
    },
    {
      "cell_type": "code",
      "source": "data_test.info()",
      "metadata": {},
      "execution_count": 4,
      "outputs": [
        {
          "name": "stdout",
          "output_type": "stream",
          "text": "<class 'pandas.core.frame.DataFrame'>\n\nRangeIndex: 4860 entries, 0 to 4859\n\nData columns (total 53 columns):\n\n #   Column                                      Non-Null Count  Dtype  \n\n---  ------                                      --------------  -----  \n\n 0   date                                        4860 non-null   object \n\n 1   rougher.input.feed_au                       4860 non-null   float64\n\n 2   rougher.input.feed_ag                       4860 non-null   float64\n\n 3   rougher.input.feed_pb                       4832 non-null   float64\n\n 4   rougher.input.feed_sol                      4838 non-null   float64\n\n 5   rougher.input.feed_rate                     4856 non-null   float64\n\n 6   rougher.input.feed_size                     4816 non-null   float64\n\n 7   rougher.input.floatbank10_sulfate           4857 non-null   float64\n\n 8   rougher.input.floatbank10_xanthate          4859 non-null   float64\n\n 9   rougher.state.floatbank10_a_air             4859 non-null   float64\n\n 10  rougher.state.floatbank10_a_level           4859 non-null   float64\n\n 11  rougher.state.floatbank10_b_air             4859 non-null   float64\n\n 12  rougher.state.floatbank10_b_level           4859 non-null   float64\n\n 13  rougher.state.floatbank10_c_air             4859 non-null   float64\n\n 14  rougher.state.floatbank10_c_level           4859 non-null   float64\n\n 15  rougher.state.floatbank10_d_air             4860 non-null   float64\n\n 16  rougher.state.floatbank10_d_level           4860 non-null   float64\n\n 17  rougher.state.floatbank10_e_air             4853 non-null   float64\n\n 18  rougher.state.floatbank10_e_level           4860 non-null   float64\n\n 19  rougher.state.floatbank10_f_air             4860 non-null   float64\n\n 20  rougher.state.floatbank10_f_level           4860 non-null   float64\n\n 21  rougher.input.floatbank11_sulfate           4852 non-null   float64\n\n 22  rougher.input.floatbank11_xanthate          4814 non-null   float64\n\n 23  primary_cleaner.input.sulfate               4859 non-null   float64\n\n 24  primary_cleaner.input.depressant            4851 non-null   float64\n\n 25  primary_cleaner.input.feed_size             4860 non-null   float64\n\n 26  primary_cleaner.input.xanthate              4817 non-null   float64\n\n 27  primary_cleaner.state.floatbank8_a_air      4859 non-null   float64\n\n 28  primary_cleaner.state.floatbank8_a_level    4859 non-null   float64\n\n 29  primary_cleaner.state.floatbank8_b_air      4859 non-null   float64\n\n 30  primary_cleaner.state.floatbank8_b_level    4859 non-null   float64\n\n 31  primary_cleaner.state.floatbank8_c_air      4858 non-null   float64\n\n 32  primary_cleaner.state.floatbank8_c_level    4859 non-null   float64\n\n 33  primary_cleaner.state.floatbank8_d_air      4858 non-null   float64\n\n 34  primary_cleaner.state.floatbank8_d_level    4859 non-null   float64\n\n 35  secondary_cleaner.state.floatbank2_a_air    4734 non-null   float64\n\n 36  secondary_cleaner.state.floatbank2_a_level  4859 non-null   float64\n\n 37  secondary_cleaner.state.floatbank2_b_air    4859 non-null   float64\n\n 38  secondary_cleaner.state.floatbank2_b_level  4859 non-null   float64\n\n 39  secondary_cleaner.state.floatbank3_a_air    4859 non-null   float64\n\n 40  secondary_cleaner.state.floatbank3_a_level  4859 non-null   float64\n\n 41  secondary_cleaner.state.floatbank3_b_air    4859 non-null   float64\n\n 42  secondary_cleaner.state.floatbank3_b_level  4859 non-null   float64\n\n 43  secondary_cleaner.state.floatbank4_a_air    4859 non-null   float64\n\n 44  secondary_cleaner.state.floatbank4_a_level  4859 non-null   float64\n\n 45  secondary_cleaner.state.floatbank4_b_air    4859 non-null   float64\n\n 46  secondary_cleaner.state.floatbank4_b_level  4859 non-null   float64\n\n 47  secondary_cleaner.state.floatbank5_a_air    4859 non-null   float64\n\n 48  secondary_cleaner.state.floatbank5_a_level  4859 non-null   float64\n\n 49  secondary_cleaner.state.floatbank5_b_air    4859 non-null   float64\n\n 50  secondary_cleaner.state.floatbank5_b_level  4859 non-null   float64\n\n 51  secondary_cleaner.state.floatbank6_a_air    4859 non-null   float64\n\n 52  secondary_cleaner.state.floatbank6_a_level  4859 non-null   float64\n\ndtypes: float64(52), object(1)\n\nmemory usage: 2.0+ MB\n"
        }
      ]
    },
    {
      "cell_type": "code",
      "source": "data_full.info()",
      "metadata": {},
      "execution_count": 5,
      "outputs": [
        {
          "name": "stdout",
          "output_type": "stream",
          "text": "<class 'pandas.core.frame.DataFrame'>\n\nRangeIndex: 19439 entries, 0 to 19438\n\nData columns (total 87 columns):\n\n #   Column                                              Non-Null Count  Dtype  \n\n---  ------                                              --------------  -----  \n\n 0   date                                                19439 non-null  object \n\n 1   rougher.input.feed_au                               19439 non-null  float64\n\n 2   rougher.input.feed_ag                               19439 non-null  float64\n\n 3   rougher.input.feed_pb                               19339 non-null  float64\n\n 4   rougher.input.feed_sol                              19340 non-null  float64\n\n 5   rougher.input.feed_rate                             19428 non-null  float64\n\n 6   rougher.input.feed_size                             19294 non-null  float64\n\n 7   rougher.input.floatbank10_sulfate                   19405 non-null  float64\n\n 8   rougher.input.floatbank10_xanthate                  19431 non-null  float64\n\n 9   rougher.state.floatbank10_a_air                     19438 non-null  float64\n\n 10  rougher.state.floatbank10_a_level                   19438 non-null  float64\n\n 11  rougher.state.floatbank10_b_air                     19438 non-null  float64\n\n 12  rougher.state.floatbank10_b_level                   19438 non-null  float64\n\n 13  rougher.state.floatbank10_c_air                     19438 non-null  float64\n\n 14  rougher.state.floatbank10_c_level                   19438 non-null  float64\n\n 15  rougher.state.floatbank10_d_air                     19439 non-null  float64\n\n 16  rougher.state.floatbank10_d_level                   19439 non-null  float64\n\n 17  rougher.state.floatbank10_e_air                     19003 non-null  float64\n\n 18  rougher.state.floatbank10_e_level                   19439 non-null  float64\n\n 19  rougher.state.floatbank10_f_air                     19439 non-null  float64\n\n 20  rougher.state.floatbank10_f_level                   19439 non-null  float64\n\n 21  rougher.input.floatbank11_sulfate                   19395 non-null  float64\n\n 22  rougher.input.floatbank11_xanthate                  18986 non-null  float64\n\n 23  rougher.calculation.sulfate_to_au_concentrate       19437 non-null  float64\n\n 24  rougher.calculation.floatbank10_sulfate_to_au_feed  19437 non-null  float64\n\n 25  rougher.calculation.floatbank11_sulfate_to_au_feed  19437 non-null  float64\n\n 26  rougher.calculation.au_pb_ratio                     19439 non-null  float64\n\n 27  rougher.output.concentrate_au                       19439 non-null  float64\n\n 28  rougher.output.concentrate_ag                       19439 non-null  float64\n\n 29  rougher.output.concentrate_pb                       19439 non-null  float64\n\n 30  rougher.output.concentrate_sol                      19416 non-null  float64\n\n 31  rougher.output.recovery                             19439 non-null  float64\n\n 32  rougher.output.tail_au                              19439 non-null  float64\n\n 33  rougher.output.tail_ag                              19438 non-null  float64\n\n 34  rougher.output.tail_pb                              19439 non-null  float64\n\n 35  rougher.output.tail_sol                             19439 non-null  float64\n\n 36  primary_cleaner.input.sulfate                       19415 non-null  float64\n\n 37  primary_cleaner.input.depressant                    19402 non-null  float64\n\n 38  primary_cleaner.input.feed_size                     19439 non-null  float64\n\n 39  primary_cleaner.input.xanthate                      19335 non-null  float64\n\n 40  primary_cleaner.state.floatbank8_a_air              19435 non-null  float64\n\n 41  primary_cleaner.state.floatbank8_a_level            19438 non-null  float64\n\n 42  primary_cleaner.state.floatbank8_b_air              19435 non-null  float64\n\n 43  primary_cleaner.state.floatbank8_b_level            19438 non-null  float64\n\n 44  primary_cleaner.state.floatbank8_c_air              19437 non-null  float64\n\n 45  primary_cleaner.state.floatbank8_c_level            19438 non-null  float64\n\n 46  primary_cleaner.state.floatbank8_d_air              19436 non-null  float64\n\n 47  primary_cleaner.state.floatbank8_d_level            19438 non-null  float64\n\n 48  primary_cleaner.output.concentrate_au               19439 non-null  float64\n\n 49  primary_cleaner.output.concentrate_ag               19439 non-null  float64\n\n 50  primary_cleaner.output.concentrate_pb               19323 non-null  float64\n\n 51  primary_cleaner.output.concentrate_sol              19069 non-null  float64\n\n 52  primary_cleaner.output.tail_au                      19439 non-null  float64\n\n 53  primary_cleaner.output.tail_ag                      19435 non-null  float64\n\n 54  primary_cleaner.output.tail_pb                      19418 non-null  float64\n\n 55  primary_cleaner.output.tail_sol                     19377 non-null  float64\n\n 56  secondary_cleaner.state.floatbank2_a_air            19219 non-null  float64\n\n 57  secondary_cleaner.state.floatbank2_a_level          19438 non-null  float64\n\n 58  secondary_cleaner.state.floatbank2_b_air            19416 non-null  float64\n\n 59  secondary_cleaner.state.floatbank2_b_level          19438 non-null  float64\n\n 60  secondary_cleaner.state.floatbank3_a_air            19426 non-null  float64\n\n 61  secondary_cleaner.state.floatbank3_a_level          19438 non-null  float64\n\n 62  secondary_cleaner.state.floatbank3_b_air            19438 non-null  float64\n\n 63  secondary_cleaner.state.floatbank3_b_level          19438 non-null  float64\n\n 64  secondary_cleaner.state.floatbank4_a_air            19433 non-null  float64\n\n 65  secondary_cleaner.state.floatbank4_a_level          19438 non-null  float64\n\n 66  secondary_cleaner.state.floatbank4_b_air            19438 non-null  float64\n\n 67  secondary_cleaner.state.floatbank4_b_level          19438 non-null  float64\n\n 68  secondary_cleaner.state.floatbank5_a_air            19438 non-null  float64\n\n 69  secondary_cleaner.state.floatbank5_a_level          19438 non-null  float64\n\n 70  secondary_cleaner.state.floatbank5_b_air            19438 non-null  float64\n\n 71  secondary_cleaner.state.floatbank5_b_level          19438 non-null  float64\n\n 72  secondary_cleaner.state.floatbank6_a_air            19437 non-null  float64\n\n 73  secondary_cleaner.state.floatbank6_a_level          19438 non-null  float64\n\n 74  secondary_cleaner.output.tail_au                    19439 non-null  float64\n\n 75  secondary_cleaner.output.tail_ag                    19437 non-null  float64\n\n 76  secondary_cleaner.output.tail_pb                    19427 non-null  float64\n\n 77  secondary_cleaner.output.tail_sol                   17691 non-null  float64\n\n 78  final.output.concentrate_au                         19439 non-null  float64\n\n 79  final.output.concentrate_ag                         19438 non-null  float64\n\n 80  final.output.concentrate_pb                         19438 non-null  float64\n\n 81  final.output.concentrate_sol                        19228 non-null  float64\n\n 82  final.output.recovery                               19439 non-null  float64\n\n 83  final.output.tail_au                                19439 non-null  float64\n\n 84  final.output.tail_ag                                19438 non-null  float64\n\n 85  final.output.tail_pb                                19338 non-null  float64\n\n 86  final.output.tail_sol                               19433 non-null  float64\n\ndtypes: float64(86), object(1)\n\nmemory usage: 12.9+ MB\n"
        }
      ]
    },
    {
      "cell_type": "markdown",
      "source": "# Проверка на дубликаты",
      "metadata": {}
    },
    {
      "cell_type": "code",
      "source": "print('Количество дубликатов в data_train:', data_train.duplicated().sum())",
      "metadata": {},
      "execution_count": 6,
      "outputs": [
        {
          "name": "stdout",
          "output_type": "stream",
          "text": "Количество дубликатов в data_train: 0\n"
        }
      ]
    },
    {
      "cell_type": "code",
      "source": "print('Количество дубликатов в data_test:', data_test.duplicated().sum())",
      "metadata": {},
      "execution_count": 7,
      "outputs": [
        {
          "name": "stdout",
          "output_type": "stream",
          "text": "Количество дубликатов в data_test: 0\n"
        }
      ]
    },
    {
      "cell_type": "code",
      "source": "print('Количество дубликатов в data_full:', data_full.duplicated().sum())",
      "metadata": {},
      "execution_count": 8,
      "outputs": [
        {
          "name": "stdout",
          "output_type": "stream",
          "text": "Количество дубликатов в data_full: 0\n"
        }
      ]
    },
    {
      "cell_type": "markdown",
      "source": "# Описательная статистика для каждого датасета",
      "metadata": {}
    },
    {
      "cell_type": "code",
      "source": "data_train.describe()",
      "metadata": {},
      "execution_count": 9,
      "outputs": [
        {
          "execution_count": 9,
          "output_type": "execute_result",
          "data": {
            "text/html": [
              "<div>\n",
              "<style scoped>\n",
              "    .dataframe tbody tr th:only-of-type {\n",
              "        vertical-align: middle;\n",
              "    }\n",
              "\n",
              "    .dataframe tbody tr th {\n",
              "        vertical-align: top;\n",
              "    }\n",
              "\n",
              "    .dataframe thead th {\n",
              "        text-align: right;\n",
              "    }\n",
              "</style>\n",
              "<table border=\"1\" class=\"dataframe\">\n",
              "  <thead>\n",
              "    <tr style=\"text-align: right;\">\n",
              "      <th></th>\n",
              "      <th>rougher.input.feed_au</th>\n",
              "      <th>rougher.input.feed_ag</th>\n",
              "      <th>rougher.input.feed_pb</th>\n",
              "      <th>rougher.input.feed_sol</th>\n",
              "      <th>rougher.input.feed_rate</th>\n",
              "      <th>rougher.input.feed_size</th>\n",
              "      <th>rougher.input.floatbank10_sulfate</th>\n",
              "      <th>rougher.input.floatbank10_xanthate</th>\n",
              "      <th>rougher.state.floatbank10_a_air</th>\n",
              "      <th>rougher.state.floatbank10_a_level</th>\n",
              "      <th>...</th>\n",
              "      <th>secondary_cleaner.output.tail_sol</th>\n",
              "      <th>final.output.concentrate_au</th>\n",
              "      <th>final.output.concentrate_ag</th>\n",
              "      <th>final.output.concentrate_pb</th>\n",
              "      <th>final.output.concentrate_sol</th>\n",
              "      <th>final.output.recovery</th>\n",
              "      <th>final.output.tail_au</th>\n",
              "      <th>final.output.tail_ag</th>\n",
              "      <th>final.output.tail_pb</th>\n",
              "      <th>final.output.tail_sol</th>\n",
              "    </tr>\n",
              "  </thead>\n",
              "  <tbody>\n",
              "    <tr>\n",
              "      <th>count</th>\n",
              "      <td>14579.000000</td>\n",
              "      <td>14579.000000</td>\n",
              "      <td>14507.000000</td>\n",
              "      <td>14502.000000</td>\n",
              "      <td>14572.000000</td>\n",
              "      <td>14478.000000</td>\n",
              "      <td>14548.000000</td>\n",
              "      <td>14572.000000</td>\n",
              "      <td>14579.000000</td>\n",
              "      <td>14579.000000</td>\n",
              "      <td>...</td>\n",
              "      <td>13659.000000</td>\n",
              "      <td>14579.000000</td>\n",
              "      <td>14578.000000</td>\n",
              "      <td>14578.000000</td>\n",
              "      <td>14387.000000</td>\n",
              "      <td>14579.000000</td>\n",
              "      <td>14579.000000</td>\n",
              "      <td>14578.000000</td>\n",
              "      <td>14504.000000</td>\n",
              "      <td>14574.000000</td>\n",
              "    </tr>\n",
              "    <tr>\n",
              "      <th>mean</th>\n",
              "      <td>8.352941</td>\n",
              "      <td>8.877460</td>\n",
              "      <td>3.604221</td>\n",
              "      <td>36.561420</td>\n",
              "      <td>474.332784</td>\n",
              "      <td>58.922712</td>\n",
              "      <td>12.427399</td>\n",
              "      <td>5.994854</td>\n",
              "      <td>1104.208278</td>\n",
              "      <td>-379.367166</td>\n",
              "      <td>...</td>\n",
              "      <td>7.111347</td>\n",
              "      <td>43.979499</td>\n",
              "      <td>5.192145</td>\n",
              "      <td>9.923809</td>\n",
              "      <td>9.566676</td>\n",
              "      <td>66.759066</td>\n",
              "      <td>3.087939</td>\n",
              "      <td>9.731972</td>\n",
              "      <td>2.719985</td>\n",
              "      <td>10.612745</td>\n",
              "    </tr>\n",
              "    <tr>\n",
              "      <th>std</th>\n",
              "      <td>1.934376</td>\n",
              "      <td>1.922536</td>\n",
              "      <td>1.056063</td>\n",
              "      <td>5.209823</td>\n",
              "      <td>108.503552</td>\n",
              "      <td>22.407410</td>\n",
              "      <td>3.428939</td>\n",
              "      <td>1.152873</td>\n",
              "      <td>162.235606</td>\n",
              "      <td>94.652311</td>\n",
              "      <td>...</td>\n",
              "      <td>3.909951</td>\n",
              "      <td>5.471437</td>\n",
              "      <td>1.388014</td>\n",
              "      <td>1.706976</td>\n",
              "      <td>2.805654</td>\n",
              "      <td>10.619709</td>\n",
              "      <td>0.915187</td>\n",
              "      <td>2.358143</td>\n",
              "      <td>0.958929</td>\n",
              "      <td>2.871075</td>\n",
              "    </tr>\n",
              "    <tr>\n",
              "      <th>min</th>\n",
              "      <td>0.010000</td>\n",
              "      <td>0.010000</td>\n",
              "      <td>0.010000</td>\n",
              "      <td>0.010000</td>\n",
              "      <td>0.002986</td>\n",
              "      <td>0.049194</td>\n",
              "      <td>0.001083</td>\n",
              "      <td>0.000568</td>\n",
              "      <td>-0.042069</td>\n",
              "      <td>-657.949759</td>\n",
              "      <td>...</td>\n",
              "      <td>0.000000</td>\n",
              "      <td>0.000000</td>\n",
              "      <td>0.000000</td>\n",
              "      <td>0.000000</td>\n",
              "      <td>0.000000</td>\n",
              "      <td>0.000000</td>\n",
              "      <td>0.000000</td>\n",
              "      <td>0.000000</td>\n",
              "      <td>0.000000</td>\n",
              "      <td>0.000000</td>\n",
              "    </tr>\n",
              "    <tr>\n",
              "      <th>25%</th>\n",
              "      <td>6.932996</td>\n",
              "      <td>7.341922</td>\n",
              "      <td>2.880490</td>\n",
              "      <td>34.093951</td>\n",
              "      <td>411.048483</td>\n",
              "      <td>47.278490</td>\n",
              "      <td>10.002832</td>\n",
              "      <td>5.304167</td>\n",
              "      <td>999.644856</td>\n",
              "      <td>-499.861797</td>\n",
              "      <td>...</td>\n",
              "      <td>3.784897</td>\n",
              "      <td>43.345906</td>\n",
              "      <td>4.283347</td>\n",
              "      <td>9.103183</td>\n",
              "      <td>7.860030</td>\n",
              "      <td>63.114596</td>\n",
              "      <td>2.505287</td>\n",
              "      <td>8.088928</td>\n",
              "      <td>2.036512</td>\n",
              "      <td>9.013412</td>\n",
              "    </tr>\n",
              "    <tr>\n",
              "      <th>50%</th>\n",
              "      <td>8.225284</td>\n",
              "      <td>8.715859</td>\n",
              "      <td>3.532399</td>\n",
              "      <td>37.097511</td>\n",
              "      <td>498.187968</td>\n",
              "      <td>54.361187</td>\n",
              "      <td>12.003320</td>\n",
              "      <td>6.003053</td>\n",
              "      <td>1000.982624</td>\n",
              "      <td>-300.314199</td>\n",
              "      <td>...</td>\n",
              "      <td>7.629968</td>\n",
              "      <td>44.975014</td>\n",
              "      <td>5.118647</td>\n",
              "      <td>10.046455</td>\n",
              "      <td>9.301970</td>\n",
              "      <td>67.962788</td>\n",
              "      <td>3.029238</td>\n",
              "      <td>9.818512</td>\n",
              "      <td>2.774847</td>\n",
              "      <td>10.670515</td>\n",
              "    </tr>\n",
              "    <tr>\n",
              "      <th>75%</th>\n",
              "      <td>9.832210</td>\n",
              "      <td>10.255843</td>\n",
              "      <td>4.257282</td>\n",
              "      <td>39.899799</td>\n",
              "      <td>549.586552</td>\n",
              "      <td>64.464926</td>\n",
              "      <td>14.929903</td>\n",
              "      <td>6.796632</td>\n",
              "      <td>1292.663971</td>\n",
              "      <td>-299.989315</td>\n",
              "      <td>...</td>\n",
              "      <td>10.367050</td>\n",
              "      <td>46.275153</td>\n",
              "      <td>5.925380</td>\n",
              "      <td>10.981203</td>\n",
              "      <td>11.001573</td>\n",
              "      <td>72.598187</td>\n",
              "      <td>3.614098</td>\n",
              "      <td>11.169187</td>\n",
              "      <td>3.353845</td>\n",
              "      <td>12.130827</td>\n",
              "    </tr>\n",
              "    <tr>\n",
              "      <th>max</th>\n",
              "      <td>13.731330</td>\n",
              "      <td>14.596026</td>\n",
              "      <td>7.052325</td>\n",
              "      <td>53.475325</td>\n",
              "      <td>717.508837</td>\n",
              "      <td>484.967466</td>\n",
              "      <td>36.118275</td>\n",
              "      <td>9.703448</td>\n",
              "      <td>1512.299531</td>\n",
              "      <td>-273.776101</td>\n",
              "      <td>...</td>\n",
              "      <td>26.000772</td>\n",
              "      <td>52.756638</td>\n",
              "      <td>16.001945</td>\n",
              "      <td>16.705297</td>\n",
              "      <td>19.423912</td>\n",
              "      <td>100.000000</td>\n",
              "      <td>8.245022</td>\n",
              "      <td>19.552149</td>\n",
              "      <td>5.804178</td>\n",
              "      <td>22.317730</td>\n",
              "    </tr>\n",
              "  </tbody>\n",
              "</table>\n",
              "<p>8 rows × 86 columns</p>\n",
              "</div>"
            ],
            "text/plain": [
              "       rougher.input.feed_au  rougher.input.feed_ag  rougher.input.feed_pb  \\\n",
              "count           14579.000000           14579.000000           14507.000000   \n",
              "mean                8.352941               8.877460               3.604221   \n",
              "std                 1.934376               1.922536               1.056063   \n",
              "min                 0.010000               0.010000               0.010000   \n",
              "25%                 6.932996               7.341922               2.880490   \n",
              "50%                 8.225284               8.715859               3.532399   \n",
              "75%                 9.832210              10.255843               4.257282   \n",
              "max                13.731330              14.596026               7.052325   \n",
              "\n",
              "       rougher.input.feed_sol  rougher.input.feed_rate  \\\n",
              "count            14502.000000             14572.000000   \n",
              "mean                36.561420               474.332784   \n",
              "std                  5.209823               108.503552   \n",
              "min                  0.010000                 0.002986   \n",
              "25%                 34.093951               411.048483   \n",
              "50%                 37.097511               498.187968   \n",
              "75%                 39.899799               549.586552   \n",
              "max                 53.475325               717.508837   \n",
              "\n",
              "       rougher.input.feed_size  rougher.input.floatbank10_sulfate  \\\n",
              "count             14478.000000                       14548.000000   \n",
              "mean                 58.922712                          12.427399   \n",
              "std                  22.407410                           3.428939   \n",
              "min                   0.049194                           0.001083   \n",
              "25%                  47.278490                          10.002832   \n",
              "50%                  54.361187                          12.003320   \n",
              "75%                  64.464926                          14.929903   \n",
              "max                 484.967466                          36.118275   \n",
              "\n",
              "       rougher.input.floatbank10_xanthate  rougher.state.floatbank10_a_air  \\\n",
              "count                        14572.000000                     14579.000000   \n",
              "mean                             5.994854                      1104.208278   \n",
              "std                              1.152873                       162.235606   \n",
              "min                              0.000568                        -0.042069   \n",
              "25%                              5.304167                       999.644856   \n",
              "50%                              6.003053                      1000.982624   \n",
              "75%                              6.796632                      1292.663971   \n",
              "max                              9.703448                      1512.299531   \n",
              "\n",
              "       rougher.state.floatbank10_a_level  ...  \\\n",
              "count                       14579.000000  ...   \n",
              "mean                         -379.367166  ...   \n",
              "std                            94.652311  ...   \n",
              "min                          -657.949759  ...   \n",
              "25%                          -499.861797  ...   \n",
              "50%                          -300.314199  ...   \n",
              "75%                          -299.989315  ...   \n",
              "max                          -273.776101  ...   \n",
              "\n",
              "       secondary_cleaner.output.tail_sol  final.output.concentrate_au  \\\n",
              "count                       13659.000000                 14579.000000   \n",
              "mean                            7.111347                    43.979499   \n",
              "std                             3.909951                     5.471437   \n",
              "min                             0.000000                     0.000000   \n",
              "25%                             3.784897                    43.345906   \n",
              "50%                             7.629968                    44.975014   \n",
              "75%                            10.367050                    46.275153   \n",
              "max                            26.000772                    52.756638   \n",
              "\n",
              "       final.output.concentrate_ag  final.output.concentrate_pb  \\\n",
              "count                 14578.000000                 14578.000000   \n",
              "mean                      5.192145                     9.923809   \n",
              "std                       1.388014                     1.706976   \n",
              "min                       0.000000                     0.000000   \n",
              "25%                       4.283347                     9.103183   \n",
              "50%                       5.118647                    10.046455   \n",
              "75%                       5.925380                    10.981203   \n",
              "max                      16.001945                    16.705297   \n",
              "\n",
              "       final.output.concentrate_sol  final.output.recovery  \\\n",
              "count                  14387.000000           14579.000000   \n",
              "mean                       9.566676              66.759066   \n",
              "std                        2.805654              10.619709   \n",
              "min                        0.000000               0.000000   \n",
              "25%                        7.860030              63.114596   \n",
              "50%                        9.301970              67.962788   \n",
              "75%                       11.001573              72.598187   \n",
              "max                       19.423912             100.000000   \n",
              "\n",
              "       final.output.tail_au  final.output.tail_ag  final.output.tail_pb  \\\n",
              "count          14579.000000          14578.000000          14504.000000   \n",
              "mean               3.087939              9.731972              2.719985   \n",
              "std                0.915187              2.358143              0.958929   \n",
              "min                0.000000              0.000000              0.000000   \n",
              "25%                2.505287              8.088928              2.036512   \n",
              "50%                3.029238              9.818512              2.774847   \n",
              "75%                3.614098             11.169187              3.353845   \n",
              "max                8.245022             19.552149              5.804178   \n",
              "\n",
              "       final.output.tail_sol  \n",
              "count           14574.000000  \n",
              "mean               10.612745  \n",
              "std                 2.871075  \n",
              "min                 0.000000  \n",
              "25%                 9.013412  \n",
              "50%                10.670515  \n",
              "75%                12.130827  \n",
              "max                22.317730  \n",
              "\n",
              "[8 rows x 86 columns]"
            ]
          },
          "metadata": {}
        }
      ]
    },
    {
      "cell_type": "code",
      "source": "data_test.describe()",
      "metadata": {},
      "execution_count": 10,
      "outputs": [
        {
          "execution_count": 10,
          "output_type": "execute_result",
          "data": {
            "text/html": [
              "<div>\n",
              "<style scoped>\n",
              "    .dataframe tbody tr th:only-of-type {\n",
              "        vertical-align: middle;\n",
              "    }\n",
              "\n",
              "    .dataframe tbody tr th {\n",
              "        vertical-align: top;\n",
              "    }\n",
              "\n",
              "    .dataframe thead th {\n",
              "        text-align: right;\n",
              "    }\n",
              "</style>\n",
              "<table border=\"1\" class=\"dataframe\">\n",
              "  <thead>\n",
              "    <tr style=\"text-align: right;\">\n",
              "      <th></th>\n",
              "      <th>rougher.input.feed_au</th>\n",
              "      <th>rougher.input.feed_ag</th>\n",
              "      <th>rougher.input.feed_pb</th>\n",
              "      <th>rougher.input.feed_sol</th>\n",
              "      <th>rougher.input.feed_rate</th>\n",
              "      <th>rougher.input.feed_size</th>\n",
              "      <th>rougher.input.floatbank10_sulfate</th>\n",
              "      <th>rougher.input.floatbank10_xanthate</th>\n",
              "      <th>rougher.state.floatbank10_a_air</th>\n",
              "      <th>rougher.state.floatbank10_a_level</th>\n",
              "      <th>...</th>\n",
              "      <th>secondary_cleaner.state.floatbank4_a_air</th>\n",
              "      <th>secondary_cleaner.state.floatbank4_a_level</th>\n",
              "      <th>secondary_cleaner.state.floatbank4_b_air</th>\n",
              "      <th>secondary_cleaner.state.floatbank4_b_level</th>\n",
              "      <th>secondary_cleaner.state.floatbank5_a_air</th>\n",
              "      <th>secondary_cleaner.state.floatbank5_a_level</th>\n",
              "      <th>secondary_cleaner.state.floatbank5_b_air</th>\n",
              "      <th>secondary_cleaner.state.floatbank5_b_level</th>\n",
              "      <th>secondary_cleaner.state.floatbank6_a_air</th>\n",
              "      <th>secondary_cleaner.state.floatbank6_a_level</th>\n",
              "    </tr>\n",
              "  </thead>\n",
              "  <tbody>\n",
              "    <tr>\n",
              "      <th>count</th>\n",
              "      <td>4860.000000</td>\n",
              "      <td>4860.000000</td>\n",
              "      <td>4832.000000</td>\n",
              "      <td>4838.000000</td>\n",
              "      <td>4856.000000</td>\n",
              "      <td>4816.000000</td>\n",
              "      <td>4857.000000</td>\n",
              "      <td>4859.000000</td>\n",
              "      <td>4859.000000</td>\n",
              "      <td>4859.000000</td>\n",
              "      <td>...</td>\n",
              "      <td>4.859000e+03</td>\n",
              "      <td>4859.000000</td>\n",
              "      <td>4.859000e+03</td>\n",
              "      <td>4859.000000</td>\n",
              "      <td>4859.000000</td>\n",
              "      <td>4859.000000</td>\n",
              "      <td>4859.000000</td>\n",
              "      <td>4859.000000</td>\n",
              "      <td>4859.000000</td>\n",
              "      <td>4859.000000</td>\n",
              "    </tr>\n",
              "    <tr>\n",
              "      <th>mean</th>\n",
              "      <td>8.005584</td>\n",
              "      <td>8.547348</td>\n",
              "      <td>3.579662</td>\n",
              "      <td>37.095864</td>\n",
              "      <td>490.285103</td>\n",
              "      <td>59.113400</td>\n",
              "      <td>12.055735</td>\n",
              "      <td>6.101308</td>\n",
              "      <td>1108.635895</td>\n",
              "      <td>-368.340127</td>\n",
              "      <td>...</td>\n",
              "      <td>1.985770e+01</td>\n",
              "      <td>-488.665140</td>\n",
              "      <td>1.557025e+01</td>\n",
              "      <td>-464.176507</td>\n",
              "      <td>16.594103</td>\n",
              "      <td>-490.815250</td>\n",
              "      <td>12.945971</td>\n",
              "      <td>-489.583564</td>\n",
              "      <td>19.053888</td>\n",
              "      <td>-504.678924</td>\n",
              "    </tr>\n",
              "    <tr>\n",
              "      <th>std</th>\n",
              "      <td>1.993590</td>\n",
              "      <td>1.958601</td>\n",
              "      <td>1.029377</td>\n",
              "      <td>4.926284</td>\n",
              "      <td>94.371623</td>\n",
              "      <td>19.125122</td>\n",
              "      <td>3.407642</td>\n",
              "      <td>1.042754</td>\n",
              "      <td>156.493143</td>\n",
              "      <td>91.155929</td>\n",
              "      <td>...</td>\n",
              "      <td>5.913105e+00</td>\n",
              "      <td>44.392714</td>\n",
              "      <td>4.927361e+00</td>\n",
              "      <td>65.706994</td>\n",
              "      <td>5.724305</td>\n",
              "      <td>32.258443</td>\n",
              "      <td>5.533176</td>\n",
              "      <td>37.084609</td>\n",
              "      <td>5.548996</td>\n",
              "      <td>38.690186</td>\n",
              "    </tr>\n",
              "    <tr>\n",
              "      <th>min</th>\n",
              "      <td>0.010000</td>\n",
              "      <td>0.010000</td>\n",
              "      <td>0.010000</td>\n",
              "      <td>0.010000</td>\n",
              "      <td>0.012786</td>\n",
              "      <td>0.046369</td>\n",
              "      <td>0.018907</td>\n",
              "      <td>0.015783</td>\n",
              "      <td>300.792494</td>\n",
              "      <td>-600.568138</td>\n",
              "      <td>...</td>\n",
              "      <td>1.079872e-16</td>\n",
              "      <td>-799.704969</td>\n",
              "      <td>2.489718e-17</td>\n",
              "      <td>-799.860767</td>\n",
              "      <td>-0.371498</td>\n",
              "      <td>-797.142475</td>\n",
              "      <td>1.358469</td>\n",
              "      <td>-800.006180</td>\n",
              "      <td>0.160386</td>\n",
              "      <td>-809.734800</td>\n",
              "    </tr>\n",
              "    <tr>\n",
              "      <th>25%</th>\n",
              "      <td>6.574363</td>\n",
              "      <td>6.975898</td>\n",
              "      <td>2.903612</td>\n",
              "      <td>34.510841</td>\n",
              "      <td>434.099695</td>\n",
              "      <td>47.596984</td>\n",
              "      <td>9.890429</td>\n",
              "      <td>5.499808</td>\n",
              "      <td>999.715729</td>\n",
              "      <td>-499.731972</td>\n",
              "      <td>...</td>\n",
              "      <td>1.501123e+01</td>\n",
              "      <td>-500.704004</td>\n",
              "      <td>1.202172e+01</td>\n",
              "      <td>-500.196517</td>\n",
              "      <td>11.073822</td>\n",
              "      <td>-500.483564</td>\n",
              "      <td>9.011890</td>\n",
              "      <td>-500.129913</td>\n",
              "      <td>14.963953</td>\n",
              "      <td>-500.668501</td>\n",
              "    </tr>\n",
              "    <tr>\n",
              "      <th>50%</th>\n",
              "      <td>7.812923</td>\n",
              "      <td>8.179714</td>\n",
              "      <td>3.540772</td>\n",
              "      <td>37.499761</td>\n",
              "      <td>502.118742</td>\n",
              "      <td>55.509481</td>\n",
              "      <td>11.997859</td>\n",
              "      <td>6.099805</td>\n",
              "      <td>1001.414798</td>\n",
              "      <td>-300.181367</td>\n",
              "      <td>...</td>\n",
              "      <td>1.996807e+01</td>\n",
              "      <td>-499.892919</td>\n",
              "      <td>1.501240e+01</td>\n",
              "      <td>-499.540776</td>\n",
              "      <td>16.631195</td>\n",
              "      <td>-499.873136</td>\n",
              "      <td>11.999417</td>\n",
              "      <td>-499.955304</td>\n",
              "      <td>19.960006</td>\n",
              "      <td>-500.033769</td>\n",
              "    </tr>\n",
              "    <tr>\n",
              "      <th>75%</th>\n",
              "      <td>9.556589</td>\n",
              "      <td>10.084339</td>\n",
              "      <td>4.199847</td>\n",
              "      <td>40.461315</td>\n",
              "      <td>555.596563</td>\n",
              "      <td>66.661547</td>\n",
              "      <td>14.496072</td>\n",
              "      <td>6.802101</td>\n",
              "      <td>1202.837565</td>\n",
              "      <td>-299.961547</td>\n",
              "      <td>...</td>\n",
              "      <td>2.498900e+01</td>\n",
              "      <td>-498.652030</td>\n",
              "      <td>1.999949e+01</td>\n",
              "      <td>-400.302329</td>\n",
              "      <td>19.983191</td>\n",
              "      <td>-498.852815</td>\n",
              "      <td>15.004198</td>\n",
              "      <td>-499.643776</td>\n",
              "      <td>24.974583</td>\n",
              "      <td>-499.460134</td>\n",
              "    </tr>\n",
              "    <tr>\n",
              "      <th>max</th>\n",
              "      <td>13.417156</td>\n",
              "      <td>14.533698</td>\n",
              "      <td>7.142594</td>\n",
              "      <td>53.477742</td>\n",
              "      <td>702.523396</td>\n",
              "      <td>363.989699</td>\n",
              "      <td>30.010759</td>\n",
              "      <td>9.396928</td>\n",
              "      <td>1521.980372</td>\n",
              "      <td>-281.039299</td>\n",
              "      <td>...</td>\n",
              "      <td>3.008450e+01</td>\n",
              "      <td>-383.373053</td>\n",
              "      <td>2.398898e+01</td>\n",
              "      <td>-114.250832</td>\n",
              "      <td>33.215996</td>\n",
              "      <td>-288.963521</td>\n",
              "      <td>24.177106</td>\n",
              "      <td>-141.934397</td>\n",
              "      <td>32.028529</td>\n",
              "      <td>-104.427459</td>\n",
              "    </tr>\n",
              "  </tbody>\n",
              "</table>\n",
              "<p>8 rows × 52 columns</p>\n",
              "</div>"
            ],
            "text/plain": [
              "       rougher.input.feed_au  rougher.input.feed_ag  rougher.input.feed_pb  \\\n",
              "count            4860.000000            4860.000000            4832.000000   \n",
              "mean                8.005584               8.547348               3.579662   \n",
              "std                 1.993590               1.958601               1.029377   \n",
              "min                 0.010000               0.010000               0.010000   \n",
              "25%                 6.574363               6.975898               2.903612   \n",
              "50%                 7.812923               8.179714               3.540772   \n",
              "75%                 9.556589              10.084339               4.199847   \n",
              "max                13.417156              14.533698               7.142594   \n",
              "\n",
              "       rougher.input.feed_sol  rougher.input.feed_rate  \\\n",
              "count             4838.000000              4856.000000   \n",
              "mean                37.095864               490.285103   \n",
              "std                  4.926284                94.371623   \n",
              "min                  0.010000                 0.012786   \n",
              "25%                 34.510841               434.099695   \n",
              "50%                 37.499761               502.118742   \n",
              "75%                 40.461315               555.596563   \n",
              "max                 53.477742               702.523396   \n",
              "\n",
              "       rougher.input.feed_size  rougher.input.floatbank10_sulfate  \\\n",
              "count              4816.000000                        4857.000000   \n",
              "mean                 59.113400                          12.055735   \n",
              "std                  19.125122                           3.407642   \n",
              "min                   0.046369                           0.018907   \n",
              "25%                  47.596984                           9.890429   \n",
              "50%                  55.509481                          11.997859   \n",
              "75%                  66.661547                          14.496072   \n",
              "max                 363.989699                          30.010759   \n",
              "\n",
              "       rougher.input.floatbank10_xanthate  rougher.state.floatbank10_a_air  \\\n",
              "count                         4859.000000                      4859.000000   \n",
              "mean                             6.101308                      1108.635895   \n",
              "std                              1.042754                       156.493143   \n",
              "min                              0.015783                       300.792494   \n",
              "25%                              5.499808                       999.715729   \n",
              "50%                              6.099805                      1001.414798   \n",
              "75%                              6.802101                      1202.837565   \n",
              "max                              9.396928                      1521.980372   \n",
              "\n",
              "       rougher.state.floatbank10_a_level  ...  \\\n",
              "count                        4859.000000  ...   \n",
              "mean                         -368.340127  ...   \n",
              "std                            91.155929  ...   \n",
              "min                          -600.568138  ...   \n",
              "25%                          -499.731972  ...   \n",
              "50%                          -300.181367  ...   \n",
              "75%                          -299.961547  ...   \n",
              "max                          -281.039299  ...   \n",
              "\n",
              "       secondary_cleaner.state.floatbank4_a_air  \\\n",
              "count                              4.859000e+03   \n",
              "mean                               1.985770e+01   \n",
              "std                                5.913105e+00   \n",
              "min                                1.079872e-16   \n",
              "25%                                1.501123e+01   \n",
              "50%                                1.996807e+01   \n",
              "75%                                2.498900e+01   \n",
              "max                                3.008450e+01   \n",
              "\n",
              "       secondary_cleaner.state.floatbank4_a_level  \\\n",
              "count                                 4859.000000   \n",
              "mean                                  -488.665140   \n",
              "std                                     44.392714   \n",
              "min                                   -799.704969   \n",
              "25%                                   -500.704004   \n",
              "50%                                   -499.892919   \n",
              "75%                                   -498.652030   \n",
              "max                                   -383.373053   \n",
              "\n",
              "       secondary_cleaner.state.floatbank4_b_air  \\\n",
              "count                              4.859000e+03   \n",
              "mean                               1.557025e+01   \n",
              "std                                4.927361e+00   \n",
              "min                                2.489718e-17   \n",
              "25%                                1.202172e+01   \n",
              "50%                                1.501240e+01   \n",
              "75%                                1.999949e+01   \n",
              "max                                2.398898e+01   \n",
              "\n",
              "       secondary_cleaner.state.floatbank4_b_level  \\\n",
              "count                                 4859.000000   \n",
              "mean                                  -464.176507   \n",
              "std                                     65.706994   \n",
              "min                                   -799.860767   \n",
              "25%                                   -500.196517   \n",
              "50%                                   -499.540776   \n",
              "75%                                   -400.302329   \n",
              "max                                   -114.250832   \n",
              "\n",
              "       secondary_cleaner.state.floatbank5_a_air  \\\n",
              "count                               4859.000000   \n",
              "mean                                  16.594103   \n",
              "std                                    5.724305   \n",
              "min                                   -0.371498   \n",
              "25%                                   11.073822   \n",
              "50%                                   16.631195   \n",
              "75%                                   19.983191   \n",
              "max                                   33.215996   \n",
              "\n",
              "       secondary_cleaner.state.floatbank5_a_level  \\\n",
              "count                                 4859.000000   \n",
              "mean                                  -490.815250   \n",
              "std                                     32.258443   \n",
              "min                                   -797.142475   \n",
              "25%                                   -500.483564   \n",
              "50%                                   -499.873136   \n",
              "75%                                   -498.852815   \n",
              "max                                   -288.963521   \n",
              "\n",
              "       secondary_cleaner.state.floatbank5_b_air  \\\n",
              "count                               4859.000000   \n",
              "mean                                  12.945971   \n",
              "std                                    5.533176   \n",
              "min                                    1.358469   \n",
              "25%                                    9.011890   \n",
              "50%                                   11.999417   \n",
              "75%                                   15.004198   \n",
              "max                                   24.177106   \n",
              "\n",
              "       secondary_cleaner.state.floatbank5_b_level  \\\n",
              "count                                 4859.000000   \n",
              "mean                                  -489.583564   \n",
              "std                                     37.084609   \n",
              "min                                   -800.006180   \n",
              "25%                                   -500.129913   \n",
              "50%                                   -499.955304   \n",
              "75%                                   -499.643776   \n",
              "max                                   -141.934397   \n",
              "\n",
              "       secondary_cleaner.state.floatbank6_a_air  \\\n",
              "count                               4859.000000   \n",
              "mean                                  19.053888   \n",
              "std                                    5.548996   \n",
              "min                                    0.160386   \n",
              "25%                                   14.963953   \n",
              "50%                                   19.960006   \n",
              "75%                                   24.974583   \n",
              "max                                   32.028529   \n",
              "\n",
              "       secondary_cleaner.state.floatbank6_a_level  \n",
              "count                                 4859.000000  \n",
              "mean                                  -504.678924  \n",
              "std                                     38.690186  \n",
              "min                                   -809.734800  \n",
              "25%                                   -500.668501  \n",
              "50%                                   -500.033769  \n",
              "75%                                   -499.460134  \n",
              "max                                   -104.427459  \n",
              "\n",
              "[8 rows x 52 columns]"
            ]
          },
          "metadata": {}
        }
      ]
    },
    {
      "cell_type": "code",
      "source": "data_full.describe()",
      "metadata": {},
      "execution_count": 11,
      "outputs": [
        {
          "execution_count": 11,
          "output_type": "execute_result",
          "data": {
            "text/html": [
              "<div>\n",
              "<style scoped>\n",
              "    .dataframe tbody tr th:only-of-type {\n",
              "        vertical-align: middle;\n",
              "    }\n",
              "\n",
              "    .dataframe tbody tr th {\n",
              "        vertical-align: top;\n",
              "    }\n",
              "\n",
              "    .dataframe thead th {\n",
              "        text-align: right;\n",
              "    }\n",
              "</style>\n",
              "<table border=\"1\" class=\"dataframe\">\n",
              "  <thead>\n",
              "    <tr style=\"text-align: right;\">\n",
              "      <th></th>\n",
              "      <th>rougher.input.feed_au</th>\n",
              "      <th>rougher.input.feed_ag</th>\n",
              "      <th>rougher.input.feed_pb</th>\n",
              "      <th>rougher.input.feed_sol</th>\n",
              "      <th>rougher.input.feed_rate</th>\n",
              "      <th>rougher.input.feed_size</th>\n",
              "      <th>rougher.input.floatbank10_sulfate</th>\n",
              "      <th>rougher.input.floatbank10_xanthate</th>\n",
              "      <th>rougher.state.floatbank10_a_air</th>\n",
              "      <th>rougher.state.floatbank10_a_level</th>\n",
              "      <th>...</th>\n",
              "      <th>secondary_cleaner.output.tail_sol</th>\n",
              "      <th>final.output.concentrate_au</th>\n",
              "      <th>final.output.concentrate_ag</th>\n",
              "      <th>final.output.concentrate_pb</th>\n",
              "      <th>final.output.concentrate_sol</th>\n",
              "      <th>final.output.recovery</th>\n",
              "      <th>final.output.tail_au</th>\n",
              "      <th>final.output.tail_ag</th>\n",
              "      <th>final.output.tail_pb</th>\n",
              "      <th>final.output.tail_sol</th>\n",
              "    </tr>\n",
              "  </thead>\n",
              "  <tbody>\n",
              "    <tr>\n",
              "      <th>count</th>\n",
              "      <td>19439.000000</td>\n",
              "      <td>19439.000000</td>\n",
              "      <td>19339.000000</td>\n",
              "      <td>19340.000000</td>\n",
              "      <td>19428.000000</td>\n",
              "      <td>19294.000000</td>\n",
              "      <td>19405.000000</td>\n",
              "      <td>19431.000000</td>\n",
              "      <td>19438.000000</td>\n",
              "      <td>19438.000000</td>\n",
              "      <td>...</td>\n",
              "      <td>17691.000000</td>\n",
              "      <td>19439.000000</td>\n",
              "      <td>19438.000000</td>\n",
              "      <td>19438.000000</td>\n",
              "      <td>19228.000000</td>\n",
              "      <td>19439.000000</td>\n",
              "      <td>19439.000000</td>\n",
              "      <td>19438.000000</td>\n",
              "      <td>19338.000000</td>\n",
              "      <td>19433.000000</td>\n",
              "    </tr>\n",
              "    <tr>\n",
              "      <th>mean</th>\n",
              "      <td>8.266097</td>\n",
              "      <td>8.794927</td>\n",
              "      <td>3.598085</td>\n",
              "      <td>36.695114</td>\n",
              "      <td>478.320042</td>\n",
              "      <td>58.970310</td>\n",
              "      <td>12.334373</td>\n",
              "      <td>6.021474</td>\n",
              "      <td>1105.315068</td>\n",
              "      <td>-376.610690</td>\n",
              "      <td>...</td>\n",
              "      <td>7.167247</td>\n",
              "      <td>44.076513</td>\n",
              "      <td>5.168470</td>\n",
              "      <td>9.978895</td>\n",
              "      <td>9.501224</td>\n",
              "      <td>67.050208</td>\n",
              "      <td>3.042467</td>\n",
              "      <td>9.688589</td>\n",
              "      <td>2.705795</td>\n",
              "      <td>10.583728</td>\n",
              "    </tr>\n",
              "    <tr>\n",
              "      <th>std</th>\n",
              "      <td>1.955092</td>\n",
              "      <td>1.936847</td>\n",
              "      <td>1.049486</td>\n",
              "      <td>5.145445</td>\n",
              "      <td>105.373758</td>\n",
              "      <td>21.634478</td>\n",
              "      <td>3.427317</td>\n",
              "      <td>1.127263</td>\n",
              "      <td>160.826798</td>\n",
              "      <td>93.909667</td>\n",
              "      <td>...</td>\n",
              "      <td>3.916079</td>\n",
              "      <td>5.129784</td>\n",
              "      <td>1.372348</td>\n",
              "      <td>1.669240</td>\n",
              "      <td>2.787537</td>\n",
              "      <td>10.125840</td>\n",
              "      <td>0.922808</td>\n",
              "      <td>2.328642</td>\n",
              "      <td>0.949077</td>\n",
              "      <td>2.868782</td>\n",
              "    </tr>\n",
              "    <tr>\n",
              "      <th>min</th>\n",
              "      <td>0.010000</td>\n",
              "      <td>0.010000</td>\n",
              "      <td>0.010000</td>\n",
              "      <td>0.010000</td>\n",
              "      <td>0.002986</td>\n",
              "      <td>0.046369</td>\n",
              "      <td>0.001083</td>\n",
              "      <td>0.000568</td>\n",
              "      <td>-0.042069</td>\n",
              "      <td>-657.949759</td>\n",
              "      <td>...</td>\n",
              "      <td>0.000000</td>\n",
              "      <td>0.000000</td>\n",
              "      <td>0.000000</td>\n",
              "      <td>0.000000</td>\n",
              "      <td>0.000000</td>\n",
              "      <td>0.000000</td>\n",
              "      <td>0.000000</td>\n",
              "      <td>0.000000</td>\n",
              "      <td>0.000000</td>\n",
              "      <td>0.000000</td>\n",
              "    </tr>\n",
              "    <tr>\n",
              "      <th>25%</th>\n",
              "      <td>6.854384</td>\n",
              "      <td>7.237967</td>\n",
              "      <td>2.887280</td>\n",
              "      <td>34.207799</td>\n",
              "      <td>416.525453</td>\n",
              "      <td>47.435103</td>\n",
              "      <td>10.000362</td>\n",
              "      <td>5.398678</td>\n",
              "      <td>999.661867</td>\n",
              "      <td>-499.835165</td>\n",
              "      <td>...</td>\n",
              "      <td>3.845475</td>\n",
              "      <td>43.402215</td>\n",
              "      <td>4.251240</td>\n",
              "      <td>9.137262</td>\n",
              "      <td>7.722820</td>\n",
              "      <td>63.299712</td>\n",
              "      <td>2.461138</td>\n",
              "      <td>8.062878</td>\n",
              "      <td>2.040119</td>\n",
              "      <td>8.938947</td>\n",
              "    </tr>\n",
              "    <tr>\n",
              "      <th>50%</th>\n",
              "      <td>8.125839</td>\n",
              "      <td>8.593574</td>\n",
              "      <td>3.534895</td>\n",
              "      <td>37.202650</td>\n",
              "      <td>499.416120</td>\n",
              "      <td>54.610197</td>\n",
              "      <td>12.001174</td>\n",
              "      <td>6.008273</td>\n",
              "      <td>1001.072890</td>\n",
              "      <td>-300.263994</td>\n",
              "      <td>...</td>\n",
              "      <td>7.685827</td>\n",
              "      <td>45.011244</td>\n",
              "      <td>5.066094</td>\n",
              "      <td>10.102433</td>\n",
              "      <td>9.218961</td>\n",
              "      <td>68.172738</td>\n",
              "      <td>2.984909</td>\n",
              "      <td>9.743623</td>\n",
              "      <td>2.748730</td>\n",
              "      <td>10.622456</td>\n",
              "    </tr>\n",
              "    <tr>\n",
              "      <th>75%</th>\n",
              "      <td>9.769917</td>\n",
              "      <td>10.213771</td>\n",
              "      <td>4.244161</td>\n",
              "      <td>40.039133</td>\n",
              "      <td>550.172183</td>\n",
              "      <td>65.023044</td>\n",
              "      <td>14.716595</td>\n",
              "      <td>6.798051</td>\n",
              "      <td>1205.620588</td>\n",
              "      <td>-299.981998</td>\n",
              "      <td>...</td>\n",
              "      <td>10.411296</td>\n",
              "      <td>46.275313</td>\n",
              "      <td>5.895527</td>\n",
              "      <td>11.035769</td>\n",
              "      <td>10.947813</td>\n",
              "      <td>72.686642</td>\n",
              "      <td>3.571351</td>\n",
              "      <td>11.134294</td>\n",
              "      <td>3.333216</td>\n",
              "      <td>12.104271</td>\n",
              "    </tr>\n",
              "    <tr>\n",
              "      <th>max</th>\n",
              "      <td>13.731330</td>\n",
              "      <td>14.596026</td>\n",
              "      <td>7.142594</td>\n",
              "      <td>53.477742</td>\n",
              "      <td>717.508837</td>\n",
              "      <td>484.967466</td>\n",
              "      <td>36.118275</td>\n",
              "      <td>9.703448</td>\n",
              "      <td>1521.980372</td>\n",
              "      <td>-273.776101</td>\n",
              "      <td>...</td>\n",
              "      <td>26.000772</td>\n",
              "      <td>52.756638</td>\n",
              "      <td>16.001945</td>\n",
              "      <td>17.031899</td>\n",
              "      <td>19.615720</td>\n",
              "      <td>100.000000</td>\n",
              "      <td>8.245022</td>\n",
              "      <td>19.552149</td>\n",
              "      <td>5.804178</td>\n",
              "      <td>22.317730</td>\n",
              "    </tr>\n",
              "  </tbody>\n",
              "</table>\n",
              "<p>8 rows × 86 columns</p>\n",
              "</div>"
            ],
            "text/plain": [
              "       rougher.input.feed_au  rougher.input.feed_ag  rougher.input.feed_pb  \\\n",
              "count           19439.000000           19439.000000           19339.000000   \n",
              "mean                8.266097               8.794927               3.598085   \n",
              "std                 1.955092               1.936847               1.049486   \n",
              "min                 0.010000               0.010000               0.010000   \n",
              "25%                 6.854384               7.237967               2.887280   \n",
              "50%                 8.125839               8.593574               3.534895   \n",
              "75%                 9.769917              10.213771               4.244161   \n",
              "max                13.731330              14.596026               7.142594   \n",
              "\n",
              "       rougher.input.feed_sol  rougher.input.feed_rate  \\\n",
              "count            19340.000000             19428.000000   \n",
              "mean                36.695114               478.320042   \n",
              "std                  5.145445               105.373758   \n",
              "min                  0.010000                 0.002986   \n",
              "25%                 34.207799               416.525453   \n",
              "50%                 37.202650               499.416120   \n",
              "75%                 40.039133               550.172183   \n",
              "max                 53.477742               717.508837   \n",
              "\n",
              "       rougher.input.feed_size  rougher.input.floatbank10_sulfate  \\\n",
              "count             19294.000000                       19405.000000   \n",
              "mean                 58.970310                          12.334373   \n",
              "std                  21.634478                           3.427317   \n",
              "min                   0.046369                           0.001083   \n",
              "25%                  47.435103                          10.000362   \n",
              "50%                  54.610197                          12.001174   \n",
              "75%                  65.023044                          14.716595   \n",
              "max                 484.967466                          36.118275   \n",
              "\n",
              "       rougher.input.floatbank10_xanthate  rougher.state.floatbank10_a_air  \\\n",
              "count                        19431.000000                     19438.000000   \n",
              "mean                             6.021474                      1105.315068   \n",
              "std                              1.127263                       160.826798   \n",
              "min                              0.000568                        -0.042069   \n",
              "25%                              5.398678                       999.661867   \n",
              "50%                              6.008273                      1001.072890   \n",
              "75%                              6.798051                      1205.620588   \n",
              "max                              9.703448                      1521.980372   \n",
              "\n",
              "       rougher.state.floatbank10_a_level  ...  \\\n",
              "count                       19438.000000  ...   \n",
              "mean                         -376.610690  ...   \n",
              "std                            93.909667  ...   \n",
              "min                          -657.949759  ...   \n",
              "25%                          -499.835165  ...   \n",
              "50%                          -300.263994  ...   \n",
              "75%                          -299.981998  ...   \n",
              "max                          -273.776101  ...   \n",
              "\n",
              "       secondary_cleaner.output.tail_sol  final.output.concentrate_au  \\\n",
              "count                       17691.000000                 19439.000000   \n",
              "mean                            7.167247                    44.076513   \n",
              "std                             3.916079                     5.129784   \n",
              "min                             0.000000                     0.000000   \n",
              "25%                             3.845475                    43.402215   \n",
              "50%                             7.685827                    45.011244   \n",
              "75%                            10.411296                    46.275313   \n",
              "max                            26.000772                    52.756638   \n",
              "\n",
              "       final.output.concentrate_ag  final.output.concentrate_pb  \\\n",
              "count                 19438.000000                 19438.000000   \n",
              "mean                      5.168470                     9.978895   \n",
              "std                       1.372348                     1.669240   \n",
              "min                       0.000000                     0.000000   \n",
              "25%                       4.251240                     9.137262   \n",
              "50%                       5.066094                    10.102433   \n",
              "75%                       5.895527                    11.035769   \n",
              "max                      16.001945                    17.031899   \n",
              "\n",
              "       final.output.concentrate_sol  final.output.recovery  \\\n",
              "count                  19228.000000           19439.000000   \n",
              "mean                       9.501224              67.050208   \n",
              "std                        2.787537              10.125840   \n",
              "min                        0.000000               0.000000   \n",
              "25%                        7.722820              63.299712   \n",
              "50%                        9.218961              68.172738   \n",
              "75%                       10.947813              72.686642   \n",
              "max                       19.615720             100.000000   \n",
              "\n",
              "       final.output.tail_au  final.output.tail_ag  final.output.tail_pb  \\\n",
              "count          19439.000000          19438.000000          19338.000000   \n",
              "mean               3.042467              9.688589              2.705795   \n",
              "std                0.922808              2.328642              0.949077   \n",
              "min                0.000000              0.000000              0.000000   \n",
              "25%                2.461138              8.062878              2.040119   \n",
              "50%                2.984909              9.743623              2.748730   \n",
              "75%                3.571351             11.134294              3.333216   \n",
              "max                8.245022             19.552149              5.804178   \n",
              "\n",
              "       final.output.tail_sol  \n",
              "count           19433.000000  \n",
              "mean               10.583728  \n",
              "std                 2.868782  \n",
              "min                 0.000000  \n",
              "25%                 8.938947  \n",
              "50%                10.622456  \n",
              "75%                12.104271  \n",
              "max                22.317730  \n",
              "\n",
              "[8 rows x 86 columns]"
            ]
          },
          "metadata": {}
        }
      ]
    },
    {
      "cell_type": "code",
      "source": "datasets = [data_train, data_test, data_full]\n\nfor dataset in datasets:\n    missing_values = dataset.isna().sum()\n    print(\"Пропуски в датасете:\")\n    print(missing_values)\n    print(\"\\n\")",
      "metadata": {},
      "execution_count": 12,
      "outputs": [
        {
          "name": "stdout",
          "output_type": "stream",
          "text": "Пропуски в датасете:\n\ndate                       0\n\nrougher.input.feed_au      0\n\nrougher.input.feed_ag      0\n\nrougher.input.feed_pb     72\n\nrougher.input.feed_sol    77\n\n                          ..\n\nfinal.output.recovery      0\n\nfinal.output.tail_au       0\n\nfinal.output.tail_ag       1\n\nfinal.output.tail_pb      75\n\nfinal.output.tail_sol      5\n\nLength: 87, dtype: int64\n\n\n\n\n\nПропуски в датасете:\n\ndate                                            0\n\nrougher.input.feed_au                           0\n\nrougher.input.feed_ag                           0\n\nrougher.input.feed_pb                          28\n\nrougher.input.feed_sol                         22\n\nrougher.input.feed_rate                         4\n\nrougher.input.feed_size                        44\n\nrougher.input.floatbank10_sulfate               3\n\nrougher.input.floatbank10_xanthate              1\n\nrougher.state.floatbank10_a_air                 1\n\nrougher.state.floatbank10_a_level               1\n\nrougher.state.floatbank10_b_air                 1\n\nrougher.state.floatbank10_b_level               1\n\nrougher.state.floatbank10_c_air                 1\n\nrougher.state.floatbank10_c_level               1\n\nrougher.state.floatbank10_d_air                 0\n\nrougher.state.floatbank10_d_level               0\n\nrougher.state.floatbank10_e_air                 7\n\nrougher.state.floatbank10_e_level               0\n\nrougher.state.floatbank10_f_air                 0\n\nrougher.state.floatbank10_f_level               0\n\nrougher.input.floatbank11_sulfate               8\n\nrougher.input.floatbank11_xanthate             46\n\nprimary_cleaner.input.sulfate                   1\n\nprimary_cleaner.input.depressant                9\n\nprimary_cleaner.input.feed_size                 0\n\nprimary_cleaner.input.xanthate                 43\n\nprimary_cleaner.state.floatbank8_a_air          1\n\nprimary_cleaner.state.floatbank8_a_level        1\n\nprimary_cleaner.state.floatbank8_b_air          1\n\nprimary_cleaner.state.floatbank8_b_level        1\n\nprimary_cleaner.state.floatbank8_c_air          2\n\nprimary_cleaner.state.floatbank8_c_level        1\n\nprimary_cleaner.state.floatbank8_d_air          2\n\nprimary_cleaner.state.floatbank8_d_level        1\n\nsecondary_cleaner.state.floatbank2_a_air      126\n\nsecondary_cleaner.state.floatbank2_a_level      1\n\nsecondary_cleaner.state.floatbank2_b_air        1\n\nsecondary_cleaner.state.floatbank2_b_level      1\n\nsecondary_cleaner.state.floatbank3_a_air        1\n\nsecondary_cleaner.state.floatbank3_a_level      1\n\nsecondary_cleaner.state.floatbank3_b_air        1\n\nsecondary_cleaner.state.floatbank3_b_level      1\n\nsecondary_cleaner.state.floatbank4_a_air        1\n\nsecondary_cleaner.state.floatbank4_a_level      1\n\nsecondary_cleaner.state.floatbank4_b_air        1\n\nsecondary_cleaner.state.floatbank4_b_level      1\n\nsecondary_cleaner.state.floatbank5_a_air        1\n\nsecondary_cleaner.state.floatbank5_a_level      1\n\nsecondary_cleaner.state.floatbank5_b_air        1\n\nsecondary_cleaner.state.floatbank5_b_level      1\n\nsecondary_cleaner.state.floatbank6_a_air        1\n\nsecondary_cleaner.state.floatbank6_a_level      1\n\ndtype: int64\n\n\n\n\n\nПропуски в датасете:\n\ndate                        0\n\nrougher.input.feed_au       0\n\nrougher.input.feed_ag       0\n\nrougher.input.feed_pb     100\n\nrougher.input.feed_sol     99\n\n                         ... \n\nfinal.output.recovery       0\n\nfinal.output.tail_au        0\n\nfinal.output.tail_ag        1\n\nfinal.output.tail_pb      101\n\nfinal.output.tail_sol       6\n\nLength: 87, dtype: int64\n\n\n\n\n"
        }
      ]
    },
    {
      "cell_type": "markdown",
      "source": "# Высчитываем MAE",
      "metadata": {}
    },
    {
      "cell_type": "code",
      "source": "concentrate_au = data_train['rougher.output.concentrate_au']\nfeed_au = data_train['rougher.input.feed_au']\ntail_au = data_train['rougher.output.tail_au']\nrecovery = data_train['rougher.output.recovery']\ncalculated = (concentrate_au * (feed_au - tail_au) / feed_au / (concentrate_au - tail_au) * 100)\nprint('Эффективность обогащения:', calculated)\nprint('MAE:', mean_absolute_error(recovery, calculated))",
      "metadata": {},
      "execution_count": 13,
      "outputs": [
        {
          "name": "stdout",
          "output_type": "stream",
          "text": "Эффективность обогащения: 0        87.107763\n\n1        86.843261\n\n2        86.842308\n\n3        87.226430\n\n4        86.688794\n\n           ...    \n\n14574    87.684717\n\n14575    90.677361\n\n14576    89.574376\n\n14577    87.724007\n\n14578    88.890579\n\nLength: 14579, dtype: float64\n\nMAE: 1.0851689485498649e-14\n"
        }
      ]
    },
    {
      "cell_type": "markdown",
      "source": "MAE (Mean Absolute Error) в значении 1.0851689485498649e-14 близка к нулю и практически равна нулю. Это говорит о том, что ougher.output.recovery совпадает с данными из столбца.",
      "metadata": {}
    },
    {
      "cell_type": "code",
      "source": "#Проверим пропуски\ngood_train = data_train\ngood_train.fillna(method='ffill', inplace=True)\nprint('Количество пропусков:', good_train.isna().sum())",
      "metadata": {
        "scrolled": true
      },
      "execution_count": 14,
      "outputs": [
        {
          "name": "stdout",
          "output_type": "stream",
          "text": "Количество пропусков: date                      0\n\nrougher.input.feed_au     0\n\nrougher.input.feed_ag     0\n\nrougher.input.feed_pb     0\n\nrougher.input.feed_sol    0\n\n                         ..\n\nfinal.output.recovery     0\n\nfinal.output.tail_au      0\n\nfinal.output.tail_ag      0\n\nfinal.output.tail_pb      0\n\nfinal.output.tail_sol     0\n\nLength: 87, dtype: int64\n"
        }
      ]
    },
    {
      "cell_type": "code",
      "source": "#Проверим пропуски\ngood_test = data_test\ngood_test.fillna(method='ffill', inplace=True)\nprint('Количество пропусков:', good_test.isna().sum())",
      "metadata": {},
      "execution_count": 15,
      "outputs": [
        {
          "name": "stdout",
          "output_type": "stream",
          "text": "Количество пропусков: date                                          0\n\nrougher.input.feed_au                         0\n\nrougher.input.feed_ag                         0\n\nrougher.input.feed_pb                         0\n\nrougher.input.feed_sol                        0\n\nrougher.input.feed_rate                       0\n\nrougher.input.feed_size                       0\n\nrougher.input.floatbank10_sulfate             0\n\nrougher.input.floatbank10_xanthate            0\n\nrougher.state.floatbank10_a_air               0\n\nrougher.state.floatbank10_a_level             0\n\nrougher.state.floatbank10_b_air               0\n\nrougher.state.floatbank10_b_level             0\n\nrougher.state.floatbank10_c_air               0\n\nrougher.state.floatbank10_c_level             0\n\nrougher.state.floatbank10_d_air               0\n\nrougher.state.floatbank10_d_level             0\n\nrougher.state.floatbank10_e_air               0\n\nrougher.state.floatbank10_e_level             0\n\nrougher.state.floatbank10_f_air               0\n\nrougher.state.floatbank10_f_level             0\n\nrougher.input.floatbank11_sulfate             0\n\nrougher.input.floatbank11_xanthate            0\n\nprimary_cleaner.input.sulfate                 0\n\nprimary_cleaner.input.depressant              0\n\nprimary_cleaner.input.feed_size               0\n\nprimary_cleaner.input.xanthate                0\n\nprimary_cleaner.state.floatbank8_a_air        0\n\nprimary_cleaner.state.floatbank8_a_level      0\n\nprimary_cleaner.state.floatbank8_b_air        0\n\nprimary_cleaner.state.floatbank8_b_level      0\n\nprimary_cleaner.state.floatbank8_c_air        0\n\nprimary_cleaner.state.floatbank8_c_level      0\n\nprimary_cleaner.state.floatbank8_d_air        0\n\nprimary_cleaner.state.floatbank8_d_level      0\n\nsecondary_cleaner.state.floatbank2_a_air      0\n\nsecondary_cleaner.state.floatbank2_a_level    0\n\nsecondary_cleaner.state.floatbank2_b_air      0\n\nsecondary_cleaner.state.floatbank2_b_level    0\n\nsecondary_cleaner.state.floatbank3_a_air      0\n\nsecondary_cleaner.state.floatbank3_a_level    0\n\nsecondary_cleaner.state.floatbank3_b_air      0\n\nsecondary_cleaner.state.floatbank3_b_level    0\n\nsecondary_cleaner.state.floatbank4_a_air      0\n\nsecondary_cleaner.state.floatbank4_a_level    0\n\nsecondary_cleaner.state.floatbank4_b_air      0\n\nsecondary_cleaner.state.floatbank4_b_level    0\n\nsecondary_cleaner.state.floatbank5_a_air      0\n\nsecondary_cleaner.state.floatbank5_a_level    0\n\nsecondary_cleaner.state.floatbank5_b_air      0\n\nsecondary_cleaner.state.floatbank5_b_level    0\n\nsecondary_cleaner.state.floatbank6_a_air      0\n\nsecondary_cleaner.state.floatbank6_a_level    0\n\ndtype: int64\n"
        }
      ]
    },
    {
      "cell_type": "markdown",
      "source": "1. **Параметры этапов (столбцы `rougher.output`, `rougher.calculation`, `final.output`, `primary_cleaner.output`, `secondary_cleaner.output`):** Эти признаки связаны с разными этапами технологического процесса обработки золотосодержащей руды. Они могут включать в себя параметры, связанные с концентрацией золота, химическими реагентами и другими параметрами, которые изменяются на разных этапах обработки. Эти признаки, вероятно, являются числовыми или категориальными.\n\n2. **Целевые признаки (столбцы, которые нужно предсказать, такие как `rougher.output.recovery` и `final.output.recovery`):** В тестовой выборке отсутствуют целевые признаки, которые нужно предсказать с помощью модели. Эти признаки обычно являются числовыми и представляют собой эффективность обогащения золота на разных этапах процесса.\n\nЭти параметры и целевые признаки играют ключевую роль в задаче предсказания эффективности обогащения золота. Их отсутствие в тестовой выборке может быть вызвано тем, что данные для них могут быть собраны и добавлены позже, после того, как проведены исследования и обработка сырья на различных этапах процесса.",
      "metadata": {}
    },
    {
      "cell_type": "code",
      "source": "good_test.head()",
      "metadata": {},
      "execution_count": 16,
      "outputs": [
        {
          "execution_count": 16,
          "output_type": "execute_result",
          "data": {
            "text/html": [
              "<div>\n",
              "<style scoped>\n",
              "    .dataframe tbody tr th:only-of-type {\n",
              "        vertical-align: middle;\n",
              "    }\n",
              "\n",
              "    .dataframe tbody tr th {\n",
              "        vertical-align: top;\n",
              "    }\n",
              "\n",
              "    .dataframe thead th {\n",
              "        text-align: right;\n",
              "    }\n",
              "</style>\n",
              "<table border=\"1\" class=\"dataframe\">\n",
              "  <thead>\n",
              "    <tr style=\"text-align: right;\">\n",
              "      <th></th>\n",
              "      <th>date</th>\n",
              "      <th>rougher.input.feed_au</th>\n",
              "      <th>rougher.input.feed_ag</th>\n",
              "      <th>rougher.input.feed_pb</th>\n",
              "      <th>rougher.input.feed_sol</th>\n",
              "      <th>rougher.input.feed_rate</th>\n",
              "      <th>rougher.input.feed_size</th>\n",
              "      <th>rougher.input.floatbank10_sulfate</th>\n",
              "      <th>rougher.input.floatbank10_xanthate</th>\n",
              "      <th>rougher.state.floatbank10_a_air</th>\n",
              "      <th>...</th>\n",
              "      <th>secondary_cleaner.state.floatbank4_a_air</th>\n",
              "      <th>secondary_cleaner.state.floatbank4_a_level</th>\n",
              "      <th>secondary_cleaner.state.floatbank4_b_air</th>\n",
              "      <th>secondary_cleaner.state.floatbank4_b_level</th>\n",
              "      <th>secondary_cleaner.state.floatbank5_a_air</th>\n",
              "      <th>secondary_cleaner.state.floatbank5_a_level</th>\n",
              "      <th>secondary_cleaner.state.floatbank5_b_air</th>\n",
              "      <th>secondary_cleaner.state.floatbank5_b_level</th>\n",
              "      <th>secondary_cleaner.state.floatbank6_a_air</th>\n",
              "      <th>secondary_cleaner.state.floatbank6_a_level</th>\n",
              "    </tr>\n",
              "  </thead>\n",
              "  <tbody>\n",
              "    <tr>\n",
              "      <th>0</th>\n",
              "      <td>2017-12-09 14:59:59</td>\n",
              "      <td>4.365491</td>\n",
              "      <td>6.158718</td>\n",
              "      <td>3.875727</td>\n",
              "      <td>39.135119</td>\n",
              "      <td>555.820208</td>\n",
              "      <td>94.544358</td>\n",
              "      <td>6.146982</td>\n",
              "      <td>9.308612</td>\n",
              "      <td>1196.238112</td>\n",
              "      <td>...</td>\n",
              "      <td>23.018622</td>\n",
              "      <td>-500.492702</td>\n",
              "      <td>20.020205</td>\n",
              "      <td>-500.220296</td>\n",
              "      <td>17.963512</td>\n",
              "      <td>-499.939490</td>\n",
              "      <td>12.990306</td>\n",
              "      <td>-500.080993</td>\n",
              "      <td>19.990336</td>\n",
              "      <td>-499.191575</td>\n",
              "    </tr>\n",
              "    <tr>\n",
              "      <th>1</th>\n",
              "      <td>2017-12-09 15:59:59</td>\n",
              "      <td>4.362781</td>\n",
              "      <td>6.048130</td>\n",
              "      <td>3.902537</td>\n",
              "      <td>39.713906</td>\n",
              "      <td>544.731687</td>\n",
              "      <td>123.742430</td>\n",
              "      <td>6.210119</td>\n",
              "      <td>9.297709</td>\n",
              "      <td>1201.904177</td>\n",
              "      <td>...</td>\n",
              "      <td>23.024963</td>\n",
              "      <td>-501.153409</td>\n",
              "      <td>20.054122</td>\n",
              "      <td>-500.314711</td>\n",
              "      <td>17.979515</td>\n",
              "      <td>-499.272871</td>\n",
              "      <td>12.992404</td>\n",
              "      <td>-499.976268</td>\n",
              "      <td>20.013986</td>\n",
              "      <td>-500.625471</td>\n",
              "    </tr>\n",
              "    <tr>\n",
              "      <th>2</th>\n",
              "      <td>2017-12-09 16:59:59</td>\n",
              "      <td>5.081681</td>\n",
              "      <td>6.082745</td>\n",
              "      <td>4.564078</td>\n",
              "      <td>37.208683</td>\n",
              "      <td>558.155110</td>\n",
              "      <td>82.610855</td>\n",
              "      <td>7.363824</td>\n",
              "      <td>9.003562</td>\n",
              "      <td>1200.826926</td>\n",
              "      <td>...</td>\n",
              "      <td>22.993827</td>\n",
              "      <td>-501.559663</td>\n",
              "      <td>20.029144</td>\n",
              "      <td>-500.000662</td>\n",
              "      <td>18.012723</td>\n",
              "      <td>-500.024764</td>\n",
              "      <td>13.016445</td>\n",
              "      <td>-500.058432</td>\n",
              "      <td>19.973767</td>\n",
              "      <td>-501.394155</td>\n",
              "    </tr>\n",
              "    <tr>\n",
              "      <th>3</th>\n",
              "      <td>2017-12-09 17:59:59</td>\n",
              "      <td>5.145949</td>\n",
              "      <td>6.084374</td>\n",
              "      <td>4.768124</td>\n",
              "      <td>36.808874</td>\n",
              "      <td>539.713765</td>\n",
              "      <td>77.984784</td>\n",
              "      <td>6.927072</td>\n",
              "      <td>8.955597</td>\n",
              "      <td>1199.292489</td>\n",
              "      <td>...</td>\n",
              "      <td>23.032807</td>\n",
              "      <td>-501.287889</td>\n",
              "      <td>19.977466</td>\n",
              "      <td>-500.159903</td>\n",
              "      <td>17.980463</td>\n",
              "      <td>-500.504602</td>\n",
              "      <td>12.949071</td>\n",
              "      <td>-500.009937</td>\n",
              "      <td>20.010332</td>\n",
              "      <td>-508.337973</td>\n",
              "    </tr>\n",
              "    <tr>\n",
              "      <th>4</th>\n",
              "      <td>2017-12-09 18:59:59</td>\n",
              "      <td>5.735249</td>\n",
              "      <td>6.165220</td>\n",
              "      <td>4.512346</td>\n",
              "      <td>37.810642</td>\n",
              "      <td>558.713584</td>\n",
              "      <td>86.434874</td>\n",
              "      <td>7.823471</td>\n",
              "      <td>7.490356</td>\n",
              "      <td>1198.005449</td>\n",
              "      <td>...</td>\n",
              "      <td>23.001911</td>\n",
              "      <td>-499.947838</td>\n",
              "      <td>20.023735</td>\n",
              "      <td>-499.713680</td>\n",
              "      <td>17.990955</td>\n",
              "      <td>-500.334769</td>\n",
              "      <td>13.007523</td>\n",
              "      <td>-499.968459</td>\n",
              "      <td>19.995999</td>\n",
              "      <td>-499.788805</td>\n",
              "    </tr>\n",
              "  </tbody>\n",
              "</table>\n",
              "<p>5 rows × 53 columns</p>\n",
              "</div>"
            ],
            "text/plain": [
              "                  date  rougher.input.feed_au  rougher.input.feed_ag  \\\n",
              "0  2017-12-09 14:59:59               4.365491               6.158718   \n",
              "1  2017-12-09 15:59:59               4.362781               6.048130   \n",
              "2  2017-12-09 16:59:59               5.081681               6.082745   \n",
              "3  2017-12-09 17:59:59               5.145949               6.084374   \n",
              "4  2017-12-09 18:59:59               5.735249               6.165220   \n",
              "\n",
              "   rougher.input.feed_pb  rougher.input.feed_sol  rougher.input.feed_rate  \\\n",
              "0               3.875727               39.135119               555.820208   \n",
              "1               3.902537               39.713906               544.731687   \n",
              "2               4.564078               37.208683               558.155110   \n",
              "3               4.768124               36.808874               539.713765   \n",
              "4               4.512346               37.810642               558.713584   \n",
              "\n",
              "   rougher.input.feed_size  rougher.input.floatbank10_sulfate  \\\n",
              "0                94.544358                           6.146982   \n",
              "1               123.742430                           6.210119   \n",
              "2                82.610855                           7.363824   \n",
              "3                77.984784                           6.927072   \n",
              "4                86.434874                           7.823471   \n",
              "\n",
              "   rougher.input.floatbank10_xanthate  rougher.state.floatbank10_a_air  ...  \\\n",
              "0                            9.308612                      1196.238112  ...   \n",
              "1                            9.297709                      1201.904177  ...   \n",
              "2                            9.003562                      1200.826926  ...   \n",
              "3                            8.955597                      1199.292489  ...   \n",
              "4                            7.490356                      1198.005449  ...   \n",
              "\n",
              "   secondary_cleaner.state.floatbank4_a_air  \\\n",
              "0                                 23.018622   \n",
              "1                                 23.024963   \n",
              "2                                 22.993827   \n",
              "3                                 23.032807   \n",
              "4                                 23.001911   \n",
              "\n",
              "   secondary_cleaner.state.floatbank4_a_level  \\\n",
              "0                                 -500.492702   \n",
              "1                                 -501.153409   \n",
              "2                                 -501.559663   \n",
              "3                                 -501.287889   \n",
              "4                                 -499.947838   \n",
              "\n",
              "   secondary_cleaner.state.floatbank4_b_air  \\\n",
              "0                                 20.020205   \n",
              "1                                 20.054122   \n",
              "2                                 20.029144   \n",
              "3                                 19.977466   \n",
              "4                                 20.023735   \n",
              "\n",
              "   secondary_cleaner.state.floatbank4_b_level  \\\n",
              "0                                 -500.220296   \n",
              "1                                 -500.314711   \n",
              "2                                 -500.000662   \n",
              "3                                 -500.159903   \n",
              "4                                 -499.713680   \n",
              "\n",
              "   secondary_cleaner.state.floatbank5_a_air  \\\n",
              "0                                 17.963512   \n",
              "1                                 17.979515   \n",
              "2                                 18.012723   \n",
              "3                                 17.980463   \n",
              "4                                 17.990955   \n",
              "\n",
              "   secondary_cleaner.state.floatbank5_a_level  \\\n",
              "0                                 -499.939490   \n",
              "1                                 -499.272871   \n",
              "2                                 -500.024764   \n",
              "3                                 -500.504602   \n",
              "4                                 -500.334769   \n",
              "\n",
              "   secondary_cleaner.state.floatbank5_b_air  \\\n",
              "0                                 12.990306   \n",
              "1                                 12.992404   \n",
              "2                                 13.016445   \n",
              "3                                 12.949071   \n",
              "4                                 13.007523   \n",
              "\n",
              "   secondary_cleaner.state.floatbank5_b_level  \\\n",
              "0                                 -500.080993   \n",
              "1                                 -499.976268   \n",
              "2                                 -500.058432   \n",
              "3                                 -500.009937   \n",
              "4                                 -499.968459   \n",
              "\n",
              "   secondary_cleaner.state.floatbank6_a_air  \\\n",
              "0                                 19.990336   \n",
              "1                                 20.013986   \n",
              "2                                 19.973767   \n",
              "3                                 20.010332   \n",
              "4                                 19.995999   \n",
              "\n",
              "   secondary_cleaner.state.floatbank6_a_level  \n",
              "0                                 -499.191575  \n",
              "1                                 -500.625471  \n",
              "2                                 -501.394155  \n",
              "3                                 -508.337973  \n",
              "4                                 -499.788805  \n",
              "\n",
              "[5 rows x 53 columns]"
            ]
          },
          "metadata": {}
        }
      ]
    },
    {
      "cell_type": "code",
      "source": "good_test.columns",
      "metadata": {},
      "execution_count": 17,
      "outputs": [
        {
          "execution_count": 17,
          "output_type": "execute_result",
          "data": {
            "text/plain": [
              "Index(['date', 'rougher.input.feed_au', 'rougher.input.feed_ag',\n",
              "       'rougher.input.feed_pb', 'rougher.input.feed_sol',\n",
              "       'rougher.input.feed_rate', 'rougher.input.feed_size',\n",
              "       'rougher.input.floatbank10_sulfate',\n",
              "       'rougher.input.floatbank10_xanthate', 'rougher.state.floatbank10_a_air',\n",
              "       'rougher.state.floatbank10_a_level', 'rougher.state.floatbank10_b_air',\n",
              "       'rougher.state.floatbank10_b_level', 'rougher.state.floatbank10_c_air',\n",
              "       'rougher.state.floatbank10_c_level', 'rougher.state.floatbank10_d_air',\n",
              "       'rougher.state.floatbank10_d_level', 'rougher.state.floatbank10_e_air',\n",
              "       'rougher.state.floatbank10_e_level', 'rougher.state.floatbank10_f_air',\n",
              "       'rougher.state.floatbank10_f_level',\n",
              "       'rougher.input.floatbank11_sulfate',\n",
              "       'rougher.input.floatbank11_xanthate', 'primary_cleaner.input.sulfate',\n",
              "       'primary_cleaner.input.depressant', 'primary_cleaner.input.feed_size',\n",
              "       'primary_cleaner.input.xanthate',\n",
              "       'primary_cleaner.state.floatbank8_a_air',\n",
              "       'primary_cleaner.state.floatbank8_a_level',\n",
              "       'primary_cleaner.state.floatbank8_b_air',\n",
              "       'primary_cleaner.state.floatbank8_b_level',\n",
              "       'primary_cleaner.state.floatbank8_c_air',\n",
              "       'primary_cleaner.state.floatbank8_c_level',\n",
              "       'primary_cleaner.state.floatbank8_d_air',\n",
              "       'primary_cleaner.state.floatbank8_d_level',\n",
              "       'secondary_cleaner.state.floatbank2_a_air',\n",
              "       'secondary_cleaner.state.floatbank2_a_level',\n",
              "       'secondary_cleaner.state.floatbank2_b_air',\n",
              "       'secondary_cleaner.state.floatbank2_b_level',\n",
              "       'secondary_cleaner.state.floatbank3_a_air',\n",
              "       'secondary_cleaner.state.floatbank3_a_level',\n",
              "       'secondary_cleaner.state.floatbank3_b_air',\n",
              "       'secondary_cleaner.state.floatbank3_b_level',\n",
              "       'secondary_cleaner.state.floatbank4_a_air',\n",
              "       'secondary_cleaner.state.floatbank4_a_level',\n",
              "       'secondary_cleaner.state.floatbank4_b_air',\n",
              "       'secondary_cleaner.state.floatbank4_b_level',\n",
              "       'secondary_cleaner.state.floatbank5_a_air',\n",
              "       'secondary_cleaner.state.floatbank5_a_level',\n",
              "       'secondary_cleaner.state.floatbank5_b_air',\n",
              "       'secondary_cleaner.state.floatbank5_b_level',\n",
              "       'secondary_cleaner.state.floatbank6_a_air',\n",
              "       'secondary_cleaner.state.floatbank6_a_level'],\n",
              "      dtype='object')"
            ]
          },
          "metadata": {}
        }
      ]
    },
    {
      "cell_type": "code",
      "source": "#Определение общего множества признаков из тестовой выборки (кроме 'date')\nall_features = good_test.columns[1:]\n\n#Признаки для предсказания rougher.output.recovery (из столбцов rougher)\nrougher_features = set(all_features[12:34])\n\n#Признаки для предсказания final.output.recovery (все признаки)\nfinal_features = set(all_features)\n\nprint(\"Признаки для rougher.output.recovery:\")\nprint(rougher_features)\nprint(\"\\nПризнаки для final.output.recovery:\")\nprint(final_features)\n",
      "metadata": {},
      "execution_count": 18,
      "outputs": [
        {
          "name": "stdout",
          "output_type": "stream",
          "text": "Признаки для rougher.output.recovery:\n\n{'rougher.state.floatbank10_c_air', 'rougher.state.floatbank10_e_level', 'rougher.state.floatbank10_e_air', 'rougher.state.floatbank10_f_level', 'primary_cleaner.state.floatbank8_b_air', 'primary_cleaner.state.floatbank8_b_level', 'rougher.input.floatbank11_xanthate', 'primary_cleaner.input.feed_size', 'primary_cleaner.state.floatbank8_d_air', 'primary_cleaner.state.floatbank8_c_level', 'rougher.input.floatbank11_sulfate', 'primary_cleaner.input.xanthate', 'primary_cleaner.state.floatbank8_a_level', 'primary_cleaner.state.floatbank8_c_air', 'rougher.state.floatbank10_f_air', 'rougher.state.floatbank10_d_air', 'primary_cleaner.state.floatbank8_a_air', 'primary_cleaner.input.sulfate', 'primary_cleaner.state.floatbank8_d_level', 'rougher.state.floatbank10_d_level', 'primary_cleaner.input.depressant', 'rougher.state.floatbank10_c_level'}\n\n\n\nПризнаки для final.output.recovery:\n\n{'secondary_cleaner.state.floatbank3_a_air', 'secondary_cleaner.state.floatbank2_a_level', 'rougher.input.feed_size', 'rougher.state.floatbank10_c_air', 'rougher.input.feed_au', 'rougher.input.feed_pb', 'rougher.state.floatbank10_e_level', 'secondary_cleaner.state.floatbank5_b_air', 'secondary_cleaner.state.floatbank6_a_level', 'secondary_cleaner.state.floatbank2_b_air', 'rougher.state.floatbank10_e_air', 'rougher.state.floatbank10_f_level', 'secondary_cleaner.state.floatbank4_b_air', 'secondary_cleaner.state.floatbank3_b_level', 'rougher.input.feed_rate', 'primary_cleaner.state.floatbank8_b_air', 'secondary_cleaner.state.floatbank4_a_level', 'secondary_cleaner.state.floatbank3_b_air', 'secondary_cleaner.state.floatbank2_a_air', 'rougher.input.floatbank10_xanthate', 'primary_cleaner.state.floatbank8_b_level', 'rougher.state.floatbank10_a_level', 'rougher.input.floatbank11_xanthate', 'primary_cleaner.input.feed_size', 'secondary_cleaner.state.floatbank6_a_air', 'secondary_cleaner.state.floatbank5_b_level', 'primary_cleaner.state.floatbank8_d_air', 'primary_cleaner.state.floatbank8_c_level', 'rougher.input.floatbank11_sulfate', 'primary_cleaner.input.xanthate', 'primary_cleaner.state.floatbank8_a_level', 'rougher.input.feed_sol', 'primary_cleaner.state.floatbank8_c_air', 'secondary_cleaner.state.floatbank3_a_level', 'rougher.state.floatbank10_f_air', 'rougher.state.floatbank10_d_air', 'primary_cleaner.state.floatbank8_a_air', 'rougher.state.floatbank10_a_air', 'secondary_cleaner.state.floatbank4_b_level', 'primary_cleaner.input.sulfate', 'primary_cleaner.state.floatbank8_d_level', 'rougher.state.floatbank10_b_air', 'rougher.input.floatbank10_sulfate', 'rougher.state.floatbank10_d_level', 'secondary_cleaner.state.floatbank5_a_level', 'rougher.input.feed_ag', 'rougher.state.floatbank10_b_level', 'secondary_cleaner.state.floatbank2_b_level', 'primary_cleaner.input.depressant', 'rougher.state.floatbank10_c_level', 'secondary_cleaner.state.floatbank5_a_air', 'secondary_cleaner.state.floatbank4_a_air'}\n"
        }
      ]
    },
    {
      "cell_type": "code",
      "source": "#Построение гистрограмы\nplt.figure(figsize=(12, 6))\nplt.hist(good_train['rougher.output.recovery'], bins=70, edgecolor='k')\nplt.title('Распреление эффективности обогащения')\nplt.xlabel('Эффективность')\nplt.ylabel('Кол-во результатов')\nplt.grid(True)\nplt.show()",
      "metadata": {},
      "execution_count": 19,
      "outputs": [
        {
          "output_type": "display_data",
          "data": {
            "image/png": "[encoded data removed]",
            "text/plain": [
              "<Figure size 864x432 with 1 Axes>"
            ]
          },
          "metadata": {
            "needs_background": "light"
          }
        }
      ]
    },
    {
      "cell_type": "code",
      "source": "# Постройте гистограмму\nplt.figure(figsize=(12, 6))\nplt.hist(data_train['rougher.input.feed_au'], bins=90, edgecolor='k')\nplt.title('Распределение доли золота в концентрате до очистки', fontsize=14)\nplt.xlabel('Доля золота в концентрате до очистки (AU)', fontsize=12)\nplt.ylabel('Частота', fontsize=12)\nplt.grid(True)\nplt.show()",
      "metadata": {},
      "execution_count": 20,
      "outputs": [
        {
          "output_type": "display_data",
          "data": {
            "image/png": "[encoded data removed]",
            "text/plain": [
              "<Figure size 864x432 with 1 Axes>"
            ]
          },
          "metadata": {
            "needs_background": "light"
          }
        }
      ]
    },
    {
      "cell_type": "markdown",
      "source": "Много нулевых значений, нужно подробнее их разобрать",
      "metadata": {}
    },
    {
      "cell_type": "code",
      "source": "good_train[good_train['rougher.output.recovery'] < 1].head()",
      "metadata": {},
      "execution_count": 21,
      "outputs": [
        {
          "execution_count": 21,
          "output_type": "execute_result",
          "data": {
            "text/html": [
              "<div>\n",
              "<style scoped>\n",
              "    .dataframe tbody tr th:only-of-type {\n",
              "        vertical-align: middle;\n",
              "    }\n",
              "\n",
              "    .dataframe tbody tr th {\n",
              "        vertical-align: top;\n",
              "    }\n",
              "\n",
              "    .dataframe thead th {\n",
              "        text-align: right;\n",
              "    }\n",
              "</style>\n",
              "<table border=\"1\" class=\"dataframe\">\n",
              "  <thead>\n",
              "    <tr style=\"text-align: right;\">\n",
              "      <th></th>\n",
              "      <th>date</th>\n",
              "      <th>rougher.input.feed_au</th>\n",
              "      <th>rougher.input.feed_ag</th>\n",
              "      <th>rougher.input.feed_pb</th>\n",
              "      <th>rougher.input.feed_sol</th>\n",
              "      <th>rougher.input.feed_rate</th>\n",
              "      <th>rougher.input.feed_size</th>\n",
              "      <th>rougher.input.floatbank10_sulfate</th>\n",
              "      <th>rougher.input.floatbank10_xanthate</th>\n",
              "      <th>rougher.state.floatbank10_a_air</th>\n",
              "      <th>...</th>\n",
              "      <th>secondary_cleaner.output.tail_sol</th>\n",
              "      <th>final.output.concentrate_au</th>\n",
              "      <th>final.output.concentrate_ag</th>\n",
              "      <th>final.output.concentrate_pb</th>\n",
              "      <th>final.output.concentrate_sol</th>\n",
              "      <th>final.output.recovery</th>\n",
              "      <th>final.output.tail_au</th>\n",
              "      <th>final.output.tail_ag</th>\n",
              "      <th>final.output.tail_pb</th>\n",
              "      <th>final.output.tail_sol</th>\n",
              "    </tr>\n",
              "  </thead>\n",
              "  <tbody>\n",
              "    <tr>\n",
              "      <th>36</th>\n",
              "      <td>2016-01-16 12:00:00</td>\n",
              "      <td>7.114065</td>\n",
              "      <td>7.521974</td>\n",
              "      <td>2.811569</td>\n",
              "      <td>41.154430</td>\n",
              "      <td>581.605260</td>\n",
              "      <td>65.620714</td>\n",
              "      <td>13.322740</td>\n",
              "      <td>7.504592</td>\n",
              "      <td>999.026619</td>\n",
              "      <td>...</td>\n",
              "      <td>9.545239</td>\n",
              "      <td>46.614456</td>\n",
              "      <td>4.566664</td>\n",
              "      <td>10.406178</td>\n",
              "      <td>4.588698</td>\n",
              "      <td>68.403877</td>\n",
              "      <td>2.509776</td>\n",
              "      <td>10.705777</td>\n",
              "      <td>1.509070</td>\n",
              "      <td>17.875134</td>\n",
              "    </tr>\n",
              "    <tr>\n",
              "      <th>37</th>\n",
              "      <td>2016-01-16 13:00:00</td>\n",
              "      <td>7.651522</td>\n",
              "      <td>7.313187</td>\n",
              "      <td>2.973841</td>\n",
              "      <td>41.983063</td>\n",
              "      <td>562.972841</td>\n",
              "      <td>66.014780</td>\n",
              "      <td>14.433889</td>\n",
              "      <td>7.583598</td>\n",
              "      <td>999.846655</td>\n",
              "      <td>...</td>\n",
              "      <td>9.734058</td>\n",
              "      <td>46.250638</td>\n",
              "      <td>4.577832</td>\n",
              "      <td>10.691605</td>\n",
              "      <td>5.274175</td>\n",
              "      <td>70.675633</td>\n",
              "      <td>2.540843</td>\n",
              "      <td>10.728531</td>\n",
              "      <td>1.641216</td>\n",
              "      <td>18.349339</td>\n",
              "    </tr>\n",
              "    <tr>\n",
              "      <th>38</th>\n",
              "      <td>2016-01-16 14:00:00</td>\n",
              "      <td>5.587750</td>\n",
              "      <td>7.934791</td>\n",
              "      <td>1.763437</td>\n",
              "      <td>41.983063</td>\n",
              "      <td>229.379445</td>\n",
              "      <td>40.601032</td>\n",
              "      <td>10.865871</td>\n",
              "      <td>5.648950</td>\n",
              "      <td>1003.354806</td>\n",
              "      <td>...</td>\n",
              "      <td>9.601115</td>\n",
              "      <td>46.663335</td>\n",
              "      <td>4.591462</td>\n",
              "      <td>10.628846</td>\n",
              "      <td>5.688961</td>\n",
              "      <td>55.088448</td>\n",
              "      <td>2.686782</td>\n",
              "      <td>10.694584</td>\n",
              "      <td>1.671644</td>\n",
              "      <td>17.910312</td>\n",
              "    </tr>\n",
              "    <tr>\n",
              "      <th>39</th>\n",
              "      <td>2016-01-16 15:00:00</td>\n",
              "      <td>4.752992</td>\n",
              "      <td>7.756881</td>\n",
              "      <td>1.025762</td>\n",
              "      <td>11.816724</td>\n",
              "      <td>228.510521</td>\n",
              "      <td>41.248945</td>\n",
              "      <td>5.908582</td>\n",
              "      <td>5.048482</td>\n",
              "      <td>998.548594</td>\n",
              "      <td>...</td>\n",
              "      <td>6.810654</td>\n",
              "      <td>44.015642</td>\n",
              "      <td>5.296830</td>\n",
              "      <td>10.597469</td>\n",
              "      <td>5.688961</td>\n",
              "      <td>41.962008</td>\n",
              "      <td>2.889469</td>\n",
              "      <td>11.975654</td>\n",
              "      <td>1.846558</td>\n",
              "      <td>8.138408</td>\n",
              "    </tr>\n",
              "    <tr>\n",
              "      <th>40</th>\n",
              "      <td>2016-01-16 16:00:00</td>\n",
              "      <td>5.122801</td>\n",
              "      <td>5.393466</td>\n",
              "      <td>1.824835</td>\n",
              "      <td>28.380274</td>\n",
              "      <td>550.606559</td>\n",
              "      <td>45.329106</td>\n",
              "      <td>10.060214</td>\n",
              "      <td>7.758600</td>\n",
              "      <td>1000.013401</td>\n",
              "      <td>...</td>\n",
              "      <td>5.176456</td>\n",
              "      <td>40.715973</td>\n",
              "      <td>8.162896</td>\n",
              "      <td>8.877528</td>\n",
              "      <td>5.688961</td>\n",
              "      <td>49.884856</td>\n",
              "      <td>2.739224</td>\n",
              "      <td>10.381465</td>\n",
              "      <td>1.024030</td>\n",
              "      <td>12.974257</td>\n",
              "    </tr>\n",
              "  </tbody>\n",
              "</table>\n",
              "<p>5 rows × 87 columns</p>\n",
              "</div>"
            ],
            "text/plain": [
              "                   date  rougher.input.feed_au  rougher.input.feed_ag  \\\n",
              "36  2016-01-16 12:00:00               7.114065               7.521974   \n",
              "37  2016-01-16 13:00:00               7.651522               7.313187   \n",
              "38  2016-01-16 14:00:00               5.587750               7.934791   \n",
              "39  2016-01-16 15:00:00               4.752992               7.756881   \n",
              "40  2016-01-16 16:00:00               5.122801               5.393466   \n",
              "\n",
              "    rougher.input.feed_pb  rougher.input.feed_sol  rougher.input.feed_rate  \\\n",
              "36               2.811569               41.154430               581.605260   \n",
              "37               2.973841               41.983063               562.972841   \n",
              "38               1.763437               41.983063               229.379445   \n",
              "39               1.025762               11.816724               228.510521   \n",
              "40               1.824835               28.380274               550.606559   \n",
              "\n",
              "    rougher.input.feed_size  rougher.input.floatbank10_sulfate  \\\n",
              "36                65.620714                          13.322740   \n",
              "37                66.014780                          14.433889   \n",
              "38                40.601032                          10.865871   \n",
              "39                41.248945                           5.908582   \n",
              "40                45.329106                          10.060214   \n",
              "\n",
              "    rougher.input.floatbank10_xanthate  rougher.state.floatbank10_a_air  ...  \\\n",
              "36                            7.504592                       999.026619  ...   \n",
              "37                            7.583598                       999.846655  ...   \n",
              "38                            5.648950                      1003.354806  ...   \n",
              "39                            5.048482                       998.548594  ...   \n",
              "40                            7.758600                      1000.013401  ...   \n",
              "\n",
              "    secondary_cleaner.output.tail_sol  final.output.concentrate_au  \\\n",
              "36                           9.545239                    46.614456   \n",
              "37                           9.734058                    46.250638   \n",
              "38                           9.601115                    46.663335   \n",
              "39                           6.810654                    44.015642   \n",
              "40                           5.176456                    40.715973   \n",
              "\n",
              "    final.output.concentrate_ag  final.output.concentrate_pb  \\\n",
              "36                     4.566664                    10.406178   \n",
              "37                     4.577832                    10.691605   \n",
              "38                     4.591462                    10.628846   \n",
              "39                     5.296830                    10.597469   \n",
              "40                     8.162896                     8.877528   \n",
              "\n",
              "    final.output.concentrate_sol  final.output.recovery  final.output.tail_au  \\\n",
              "36                      4.588698              68.403877              2.509776   \n",
              "37                      5.274175              70.675633              2.540843   \n",
              "38                      5.688961              55.088448              2.686782   \n",
              "39                      5.688961              41.962008              2.889469   \n",
              "40                      5.688961              49.884856              2.739224   \n",
              "\n",
              "    final.output.tail_ag  final.output.tail_pb  final.output.tail_sol  \n",
              "36             10.705777              1.509070              17.875134  \n",
              "37             10.728531              1.641216              18.349339  \n",
              "38             10.694584              1.671644              17.910312  \n",
              "39             11.975654              1.846558               8.138408  \n",
              "40             10.381465              1.024030              12.974257  \n",
              "\n",
              "[5 rows x 87 columns]"
            ]
          },
          "metadata": {}
        }
      ]
    },
    {
      "cell_type": "code",
      "source": "good_train[good_train['rougher.output.concentrate_au'] < 1].head()",
      "metadata": {},
      "execution_count": 22,
      "outputs": [
        {
          "execution_count": 22,
          "output_type": "execute_result",
          "data": {
            "text/html": [
              "<div>\n",
              "<style scoped>\n",
              "    .dataframe tbody tr th:only-of-type {\n",
              "        vertical-align: middle;\n",
              "    }\n",
              "\n",
              "    .dataframe tbody tr th {\n",
              "        vertical-align: top;\n",
              "    }\n",
              "\n",
              "    .dataframe thead th {\n",
              "        text-align: right;\n",
              "    }\n",
              "</style>\n",
              "<table border=\"1\" class=\"dataframe\">\n",
              "  <thead>\n",
              "    <tr style=\"text-align: right;\">\n",
              "      <th></th>\n",
              "      <th>date</th>\n",
              "      <th>rougher.input.feed_au</th>\n",
              "      <th>rougher.input.feed_ag</th>\n",
              "      <th>rougher.input.feed_pb</th>\n",
              "      <th>rougher.input.feed_sol</th>\n",
              "      <th>rougher.input.feed_rate</th>\n",
              "      <th>rougher.input.feed_size</th>\n",
              "      <th>rougher.input.floatbank10_sulfate</th>\n",
              "      <th>rougher.input.floatbank10_xanthate</th>\n",
              "      <th>rougher.state.floatbank10_a_air</th>\n",
              "      <th>...</th>\n",
              "      <th>secondary_cleaner.output.tail_sol</th>\n",
              "      <th>final.output.concentrate_au</th>\n",
              "      <th>final.output.concentrate_ag</th>\n",
              "      <th>final.output.concentrate_pb</th>\n",
              "      <th>final.output.concentrate_sol</th>\n",
              "      <th>final.output.recovery</th>\n",
              "      <th>final.output.tail_au</th>\n",
              "      <th>final.output.tail_ag</th>\n",
              "      <th>final.output.tail_pb</th>\n",
              "      <th>final.output.tail_sol</th>\n",
              "    </tr>\n",
              "  </thead>\n",
              "  <tbody>\n",
              "    <tr>\n",
              "      <th>36</th>\n",
              "      <td>2016-01-16 12:00:00</td>\n",
              "      <td>7.114065</td>\n",
              "      <td>7.521974</td>\n",
              "      <td>2.811569</td>\n",
              "      <td>41.154430</td>\n",
              "      <td>581.605260</td>\n",
              "      <td>65.620714</td>\n",
              "      <td>13.322740</td>\n",
              "      <td>7.504592</td>\n",
              "      <td>999.026619</td>\n",
              "      <td>...</td>\n",
              "      <td>9.545239</td>\n",
              "      <td>46.614456</td>\n",
              "      <td>4.566664</td>\n",
              "      <td>10.406178</td>\n",
              "      <td>4.588698</td>\n",
              "      <td>68.403877</td>\n",
              "      <td>2.509776</td>\n",
              "      <td>10.705777</td>\n",
              "      <td>1.509070</td>\n",
              "      <td>17.875134</td>\n",
              "    </tr>\n",
              "    <tr>\n",
              "      <th>37</th>\n",
              "      <td>2016-01-16 13:00:00</td>\n",
              "      <td>7.651522</td>\n",
              "      <td>7.313187</td>\n",
              "      <td>2.973841</td>\n",
              "      <td>41.983063</td>\n",
              "      <td>562.972841</td>\n",
              "      <td>66.014780</td>\n",
              "      <td>14.433889</td>\n",
              "      <td>7.583598</td>\n",
              "      <td>999.846655</td>\n",
              "      <td>...</td>\n",
              "      <td>9.734058</td>\n",
              "      <td>46.250638</td>\n",
              "      <td>4.577832</td>\n",
              "      <td>10.691605</td>\n",
              "      <td>5.274175</td>\n",
              "      <td>70.675633</td>\n",
              "      <td>2.540843</td>\n",
              "      <td>10.728531</td>\n",
              "      <td>1.641216</td>\n",
              "      <td>18.349339</td>\n",
              "    </tr>\n",
              "    <tr>\n",
              "      <th>38</th>\n",
              "      <td>2016-01-16 14:00:00</td>\n",
              "      <td>5.587750</td>\n",
              "      <td>7.934791</td>\n",
              "      <td>1.763437</td>\n",
              "      <td>41.983063</td>\n",
              "      <td>229.379445</td>\n",
              "      <td>40.601032</td>\n",
              "      <td>10.865871</td>\n",
              "      <td>5.648950</td>\n",
              "      <td>1003.354806</td>\n",
              "      <td>...</td>\n",
              "      <td>9.601115</td>\n",
              "      <td>46.663335</td>\n",
              "      <td>4.591462</td>\n",
              "      <td>10.628846</td>\n",
              "      <td>5.688961</td>\n",
              "      <td>55.088448</td>\n",
              "      <td>2.686782</td>\n",
              "      <td>10.694584</td>\n",
              "      <td>1.671644</td>\n",
              "      <td>17.910312</td>\n",
              "    </tr>\n",
              "    <tr>\n",
              "      <th>39</th>\n",
              "      <td>2016-01-16 15:00:00</td>\n",
              "      <td>4.752992</td>\n",
              "      <td>7.756881</td>\n",
              "      <td>1.025762</td>\n",
              "      <td>11.816724</td>\n",
              "      <td>228.510521</td>\n",
              "      <td>41.248945</td>\n",
              "      <td>5.908582</td>\n",
              "      <td>5.048482</td>\n",
              "      <td>998.548594</td>\n",
              "      <td>...</td>\n",
              "      <td>6.810654</td>\n",
              "      <td>44.015642</td>\n",
              "      <td>5.296830</td>\n",
              "      <td>10.597469</td>\n",
              "      <td>5.688961</td>\n",
              "      <td>41.962008</td>\n",
              "      <td>2.889469</td>\n",
              "      <td>11.975654</td>\n",
              "      <td>1.846558</td>\n",
              "      <td>8.138408</td>\n",
              "    </tr>\n",
              "    <tr>\n",
              "      <th>40</th>\n",
              "      <td>2016-01-16 16:00:00</td>\n",
              "      <td>5.122801</td>\n",
              "      <td>5.393466</td>\n",
              "      <td>1.824835</td>\n",
              "      <td>28.380274</td>\n",
              "      <td>550.606559</td>\n",
              "      <td>45.329106</td>\n",
              "      <td>10.060214</td>\n",
              "      <td>7.758600</td>\n",
              "      <td>1000.013401</td>\n",
              "      <td>...</td>\n",
              "      <td>5.176456</td>\n",
              "      <td>40.715973</td>\n",
              "      <td>8.162896</td>\n",
              "      <td>8.877528</td>\n",
              "      <td>5.688961</td>\n",
              "      <td>49.884856</td>\n",
              "      <td>2.739224</td>\n",
              "      <td>10.381465</td>\n",
              "      <td>1.024030</td>\n",
              "      <td>12.974257</td>\n",
              "    </tr>\n",
              "  </tbody>\n",
              "</table>\n",
              "<p>5 rows × 87 columns</p>\n",
              "</div>"
            ],
            "text/plain": [
              "                   date  rougher.input.feed_au  rougher.input.feed_ag  \\\n",
              "36  2016-01-16 12:00:00               7.114065               7.521974   \n",
              "37  2016-01-16 13:00:00               7.651522               7.313187   \n",
              "38  2016-01-16 14:00:00               5.587750               7.934791   \n",
              "39  2016-01-16 15:00:00               4.752992               7.756881   \n",
              "40  2016-01-16 16:00:00               5.122801               5.393466   \n",
              "\n",
              "    rougher.input.feed_pb  rougher.input.feed_sol  rougher.input.feed_rate  \\\n",
              "36               2.811569               41.154430               581.605260   \n",
              "37               2.973841               41.983063               562.972841   \n",
              "38               1.763437               41.983063               229.379445   \n",
              "39               1.025762               11.816724               228.510521   \n",
              "40               1.824835               28.380274               550.606559   \n",
              "\n",
              "    rougher.input.feed_size  rougher.input.floatbank10_sulfate  \\\n",
              "36                65.620714                          13.322740   \n",
              "37                66.014780                          14.433889   \n",
              "38                40.601032                          10.865871   \n",
              "39                41.248945                           5.908582   \n",
              "40                45.329106                          10.060214   \n",
              "\n",
              "    rougher.input.floatbank10_xanthate  rougher.state.floatbank10_a_air  ...  \\\n",
              "36                            7.504592                       999.026619  ...   \n",
              "37                            7.583598                       999.846655  ...   \n",
              "38                            5.648950                      1003.354806  ...   \n",
              "39                            5.048482                       998.548594  ...   \n",
              "40                            7.758600                      1000.013401  ...   \n",
              "\n",
              "    secondary_cleaner.output.tail_sol  final.output.concentrate_au  \\\n",
              "36                           9.545239                    46.614456   \n",
              "37                           9.734058                    46.250638   \n",
              "38                           9.601115                    46.663335   \n",
              "39                           6.810654                    44.015642   \n",
              "40                           5.176456                    40.715973   \n",
              "\n",
              "    final.output.concentrate_ag  final.output.concentrate_pb  \\\n",
              "36                     4.566664                    10.406178   \n",
              "37                     4.577832                    10.691605   \n",
              "38                     4.591462                    10.628846   \n",
              "39                     5.296830                    10.597469   \n",
              "40                     8.162896                     8.877528   \n",
              "\n",
              "    final.output.concentrate_sol  final.output.recovery  final.output.tail_au  \\\n",
              "36                      4.588698              68.403877              2.509776   \n",
              "37                      5.274175              70.675633              2.540843   \n",
              "38                      5.688961              55.088448              2.686782   \n",
              "39                      5.688961              41.962008              2.889469   \n",
              "40                      5.688961              49.884856              2.739224   \n",
              "\n",
              "    final.output.tail_ag  final.output.tail_pb  final.output.tail_sol  \n",
              "36             10.705777              1.509070              17.875134  \n",
              "37             10.728531              1.641216              18.349339  \n",
              "38             10.694584              1.671644              17.910312  \n",
              "39             11.975654              1.846558               8.138408  \n",
              "40             10.381465              1.024030              12.974257  \n",
              "\n",
              "[5 rows x 87 columns]"
            ]
          },
          "metadata": {}
        }
      ]
    },
    {
      "cell_type": "code",
      "source": "#good_train = good_train.drop(good_train[good_train['rougher.output.recovery'] == 0].index)\n\n#Вывод первых строк обновленного датасета, где 'rougher.output.recovery' < 1\n#good_train[good_train['rougher.output.recovery'] < 1].head()",
      "metadata": {},
      "execution_count": 23,
      "outputs": []
    },
    {
      "cell_type": "code",
      "source": "#Построим гистограмму эффективности финального концентрата\nplt.figure(figsize=(12, 6))\nplt.hist(good_train['final.output.recovery'], bins=90, edgecolor='k')\nplt.title('Гистограмма эффективности финального концентрата', fontsize=14)\nplt.xlabel('Эффективность финального концентрата', fontsize=12)\nplt.ylabel('Частота', fontsize=12)\nplt.grid(True)\nplt.show()",
      "metadata": {},
      "execution_count": 24,
      "outputs": [
        {
          "output_type": "display_data",
          "data": {
            "image/png": "[encoded data removed]",
            "text/plain": [
              "<Figure size 864x432 with 1 Axes>"
            ]
          },
          "metadata": {
            "needs_background": "light"
          }
        }
      ]
    },
    {
      "cell_type": "code",
      "source": "good_train[good_train['final.output.recovery'] < 1].head()",
      "metadata": {},
      "execution_count": 25,
      "outputs": [
        {
          "execution_count": 25,
          "output_type": "execute_result",
          "data": {
            "text/html": [
              "<div>\n",
              "<style scoped>\n",
              "    .dataframe tbody tr th:only-of-type {\n",
              "        vertical-align: middle;\n",
              "    }\n",
              "\n",
              "    .dataframe tbody tr th {\n",
              "        vertical-align: top;\n",
              "    }\n",
              "\n",
              "    .dataframe thead th {\n",
              "        text-align: right;\n",
              "    }\n",
              "</style>\n",
              "<table border=\"1\" class=\"dataframe\">\n",
              "  <thead>\n",
              "    <tr style=\"text-align: right;\">\n",
              "      <th></th>\n",
              "      <th>date</th>\n",
              "      <th>rougher.input.feed_au</th>\n",
              "      <th>rougher.input.feed_ag</th>\n",
              "      <th>rougher.input.feed_pb</th>\n",
              "      <th>rougher.input.feed_sol</th>\n",
              "      <th>rougher.input.feed_rate</th>\n",
              "      <th>rougher.input.feed_size</th>\n",
              "      <th>rougher.input.floatbank10_sulfate</th>\n",
              "      <th>rougher.input.floatbank10_xanthate</th>\n",
              "      <th>rougher.state.floatbank10_a_air</th>\n",
              "      <th>...</th>\n",
              "      <th>secondary_cleaner.output.tail_sol</th>\n",
              "      <th>final.output.concentrate_au</th>\n",
              "      <th>final.output.concentrate_ag</th>\n",
              "      <th>final.output.concentrate_pb</th>\n",
              "      <th>final.output.concentrate_sol</th>\n",
              "      <th>final.output.recovery</th>\n",
              "      <th>final.output.tail_au</th>\n",
              "      <th>final.output.tail_ag</th>\n",
              "      <th>final.output.tail_pb</th>\n",
              "      <th>final.output.tail_sol</th>\n",
              "    </tr>\n",
              "  </thead>\n",
              "  <tbody>\n",
              "    <tr>\n",
              "      <th>516</th>\n",
              "      <td>2016-02-08 00:00:00</td>\n",
              "      <td>5.598971</td>\n",
              "      <td>7.407737</td>\n",
              "      <td>1.934178</td>\n",
              "      <td>31.762853</td>\n",
              "      <td>500.087438</td>\n",
              "      <td>51.965198</td>\n",
              "      <td>10.251319</td>\n",
              "      <td>6.620908</td>\n",
              "      <td>999.884600</td>\n",
              "      <td>...</td>\n",
              "      <td>10.651508</td>\n",
              "      <td>0.000000</td>\n",
              "      <td>0.000000</td>\n",
              "      <td>0.000000</td>\n",
              "      <td>0.000000</td>\n",
              "      <td>0.000000</td>\n",
              "      <td>1.779052</td>\n",
              "      <td>8.894029</td>\n",
              "      <td>0.843584</td>\n",
              "      <td>15.417342</td>\n",
              "    </tr>\n",
              "    <tr>\n",
              "      <th>831</th>\n",
              "      <td>2016-02-22 01:00:00</td>\n",
              "      <td>4.132606</td>\n",
              "      <td>8.552262</td>\n",
              "      <td>1.613576</td>\n",
              "      <td>30.373429</td>\n",
              "      <td>21.293760</td>\n",
              "      <td>27.619041</td>\n",
              "      <td>0.639700</td>\n",
              "      <td>0.004863</td>\n",
              "      <td>1000.376730</td>\n",
              "      <td>...</td>\n",
              "      <td>9.809034</td>\n",
              "      <td>41.529734</td>\n",
              "      <td>4.637727</td>\n",
              "      <td>12.557566</td>\n",
              "      <td>7.821058</td>\n",
              "      <td>0.463711</td>\n",
              "      <td>4.115341</td>\n",
              "      <td>11.388568</td>\n",
              "      <td>1.893716</td>\n",
              "      <td>7.735606</td>\n",
              "    </tr>\n",
              "    <tr>\n",
              "      <th>943</th>\n",
              "      <td>2016-02-26 17:00:00</td>\n",
              "      <td>7.786147</td>\n",
              "      <td>8.098125</td>\n",
              "      <td>2.588661</td>\n",
              "      <td>34.896012</td>\n",
              "      <td>502.314489</td>\n",
              "      <td>49.985298</td>\n",
              "      <td>8.842907</td>\n",
              "      <td>7.265263</td>\n",
              "      <td>1000.621368</td>\n",
              "      <td>...</td>\n",
              "      <td>11.880836</td>\n",
              "      <td>0.000000</td>\n",
              "      <td>0.000000</td>\n",
              "      <td>0.000000</td>\n",
              "      <td>0.000000</td>\n",
              "      <td>0.000000</td>\n",
              "      <td>2.984504</td>\n",
              "      <td>10.817313</td>\n",
              "      <td>1.462800</td>\n",
              "      <td>16.407607</td>\n",
              "    </tr>\n",
              "    <tr>\n",
              "      <th>944</th>\n",
              "      <td>2016-02-26 18:00:00</td>\n",
              "      <td>7.499248</td>\n",
              "      <td>7.832467</td>\n",
              "      <td>2.435125</td>\n",
              "      <td>34.196525</td>\n",
              "      <td>501.677628</td>\n",
              "      <td>48.845911</td>\n",
              "      <td>8.501246</td>\n",
              "      <td>6.989404</td>\n",
              "      <td>999.826851</td>\n",
              "      <td>...</td>\n",
              "      <td>11.783571</td>\n",
              "      <td>0.000000</td>\n",
              "      <td>0.000000</td>\n",
              "      <td>0.000000</td>\n",
              "      <td>0.000000</td>\n",
              "      <td>0.000000</td>\n",
              "      <td>2.747294</td>\n",
              "      <td>10.436792</td>\n",
              "      <td>1.207636</td>\n",
              "      <td>17.800392</td>\n",
              "    </tr>\n",
              "    <tr>\n",
              "      <th>945</th>\n",
              "      <td>2016-02-26 19:00:00</td>\n",
              "      <td>7.032278</td>\n",
              "      <td>7.600277</td>\n",
              "      <td>2.265148</td>\n",
              "      <td>31.994985</td>\n",
              "      <td>502.999469</td>\n",
              "      <td>47.430198</td>\n",
              "      <td>7.984067</td>\n",
              "      <td>6.548808</td>\n",
              "      <td>1000.694329</td>\n",
              "      <td>...</td>\n",
              "      <td>10.664451</td>\n",
              "      <td>0.000000</td>\n",
              "      <td>0.000000</td>\n",
              "      <td>0.000000</td>\n",
              "      <td>0.000000</td>\n",
              "      <td>0.000000</td>\n",
              "      <td>2.791440</td>\n",
              "      <td>10.637073</td>\n",
              "      <td>1.405778</td>\n",
              "      <td>17.195897</td>\n",
              "    </tr>\n",
              "  </tbody>\n",
              "</table>\n",
              "<p>5 rows × 87 columns</p>\n",
              "</div>"
            ],
            "text/plain": [
              "                    date  rougher.input.feed_au  rougher.input.feed_ag  \\\n",
              "516  2016-02-08 00:00:00               5.598971               7.407737   \n",
              "831  2016-02-22 01:00:00               4.132606               8.552262   \n",
              "943  2016-02-26 17:00:00               7.786147               8.098125   \n",
              "944  2016-02-26 18:00:00               7.499248               7.832467   \n",
              "945  2016-02-26 19:00:00               7.032278               7.600277   \n",
              "\n",
              "     rougher.input.feed_pb  rougher.input.feed_sol  rougher.input.feed_rate  \\\n",
              "516               1.934178               31.762853               500.087438   \n",
              "831               1.613576               30.373429                21.293760   \n",
              "943               2.588661               34.896012               502.314489   \n",
              "944               2.435125               34.196525               501.677628   \n",
              "945               2.265148               31.994985               502.999469   \n",
              "\n",
              "     rougher.input.feed_size  rougher.input.floatbank10_sulfate  \\\n",
              "516                51.965198                          10.251319   \n",
              "831                27.619041                           0.639700   \n",
              "943                49.985298                           8.842907   \n",
              "944                48.845911                           8.501246   \n",
              "945                47.430198                           7.984067   \n",
              "\n",
              "     rougher.input.floatbank10_xanthate  rougher.state.floatbank10_a_air  ...  \\\n",
              "516                            6.620908                       999.884600  ...   \n",
              "831                            0.004863                      1000.376730  ...   \n",
              "943                            7.265263                      1000.621368  ...   \n",
              "944                            6.989404                       999.826851  ...   \n",
              "945                            6.548808                      1000.694329  ...   \n",
              "\n",
              "     secondary_cleaner.output.tail_sol  final.output.concentrate_au  \\\n",
              "516                          10.651508                     0.000000   \n",
              "831                           9.809034                    41.529734   \n",
              "943                          11.880836                     0.000000   \n",
              "944                          11.783571                     0.000000   \n",
              "945                          10.664451                     0.000000   \n",
              "\n",
              "     final.output.concentrate_ag  final.output.concentrate_pb  \\\n",
              "516                     0.000000                     0.000000   \n",
              "831                     4.637727                    12.557566   \n",
              "943                     0.000000                     0.000000   \n",
              "944                     0.000000                     0.000000   \n",
              "945                     0.000000                     0.000000   \n",
              "\n",
              "     final.output.concentrate_sol  final.output.recovery  \\\n",
              "516                      0.000000               0.000000   \n",
              "831                      7.821058               0.463711   \n",
              "943                      0.000000               0.000000   \n",
              "944                      0.000000               0.000000   \n",
              "945                      0.000000               0.000000   \n",
              "\n",
              "     final.output.tail_au  final.output.tail_ag  final.output.tail_pb  \\\n",
              "516              1.779052              8.894029              0.843584   \n",
              "831              4.115341             11.388568              1.893716   \n",
              "943              2.984504             10.817313              1.462800   \n",
              "944              2.747294             10.436792              1.207636   \n",
              "945              2.791440             10.637073              1.405778   \n",
              "\n",
              "     final.output.tail_sol  \n",
              "516              15.417342  \n",
              "831               7.735606  \n",
              "943              16.407607  \n",
              "944              17.800392  \n",
              "945              17.195897  \n",
              "\n",
              "[5 rows x 87 columns]"
            ]
          },
          "metadata": {}
        }
      ]
    },
    {
      "cell_type": "code",
      "source": "#good_train = good_train.drop(good_train[good_train['final.output.recovery'] == 0].index)\n\n#Вывод первых строк обновленного датасета, где 'final.output.recovery' < 1\n#good_train[good_train['final.output.recovery'] < 1].head()",
      "metadata": {},
      "execution_count": 26,
      "outputs": []
    },
    {
      "cell_type": "markdown",
      "source": "В ходе подготовки данных обнаружились следующие аномалии:\n\n1. **Нулевые значения в ключевых столбцах для нашей модели:** В некоторых ключевых столбцах, несущих важную информацию для модели, были обнаружены нулевые значения. Эти нулевые значения были удалены, так как они могли повлиять на работу модели.\n\n2. **Удаление данных, которые могли повлиять на работу модели:** Некоторые данные были удалены, вероятно, потому что они либо еще не были занесены в датасет, либо еще не были получены, и их отсутствие могло бы повлиять на работу модели.\n\nТеперь, после предварительной обработки данных, можно перейти к анализу данных и построению модели для достижения целей",
      "metadata": {}
    },
    {
      "cell_type": "markdown",
      "source": "## Анализ данных",
      "metadata": {}
    },
    {
      "cell_type": "markdown",
      "source": "# Посмотрите, как меняется концентрация металлов (Au, Ag, Pb) на различных этапах: в сырье, в черновом концентрате, в концентрате после первой очистки и в финальном концентрате.",
      "metadata": {}
    },
    {
      "cell_type": "code",
      "source": "metals = ['au', 'ag', 'pb']\nstages = ['rougher.input.feed_', 'rougher.output.concentrate_', 'primary_cleaner.output.concentrate_', 'final.output.concentrate_']\nstage_names = ['В сырье', 'В черновом концентрате', 'В концентрате после первой очистки', 'В финальном концентрате']\n\nfor metal in metals:\n    plt.figure(figsize=(12, 6))\n    for stage, stage_name in zip(stages, stage_names):\n        column = stage + metal\n        plt.hist(data_full[column], bins=100, alpha=0.5, label=stage_name)\n\n    plt.title(metal.upper())\n    plt.xlabel('Концентрация')\n    plt.ylabel('Частота')\n    plt.grid(True)\n    plt.legend()\n\n# Размещаем графики вертикально\nplt.tight_layout()\nplt.show()",
      "metadata": {},
      "execution_count": 27,
      "outputs": [
        {
          "output_type": "display_data",
          "data": {
            "image/png": "[encoded data removed]",
            "text/plain": [
              "<Figure size 864x432 with 1 Axes>"
            ]
          },
          "metadata": {
            "needs_background": "light"
          }
        },
        {
          "output_type": "display_data",
          "data": {
            "image/png": "[encoded data removed]",
            "text/plain": [
              "<Figure size 864x432 with 1 Axes>"
            ]
          },
          "metadata": {
            "needs_background": "light"
          }
        },
        {
          "output_type": "display_data",
          "data": {
            "image/png": "[encoded data removed]",
            "text/plain": [
              "<Figure size 864x432 with 1 Axes>"
            ]
          },
          "metadata": {
            "needs_background": "light"
          }
        }
      ]
    },
    {
      "cell_type": "markdown",
      "source": "**Динамика изменения концентрации металлов на разных этапах очистки:**\n\n1. **Золото (Au):**\n   - Концентрация золота постепенно повышается на каждом этапе очистки.\n   \n2. **Серебро (Ag):**\n   - Концентрация серебра также увеличивается на начальных этапах очистки. \n   \n3. **Свинец (Pb):**\n   - Концентрация свинца сначала повышается, а затем продолжает увеличиваться на всех последующих этапах очистки.\n\nТаким образом, данные графики позволяют нам наглядно увидеть, как каждый металл реагирует на процесс очистки и как изменяется его концентрация на разных этапах.",
      "metadata": {}
    },
    {
      "cell_type": "code",
      "source": "#Гистограмма распределения размера гранул сырья перед флотацией\nplt.figure(figsize=(12, 6))\nplt.hist(good_train['rougher.input.feed_size'], bins=100, label='Обучающая', alpha=.5, density=True)\nplt.hist(good_test['rougher.input.feed_size'], bins=100, label='Тестовая', alpha=.5, density=True)\nplt.title('Гистограмма распределения размера гранул сырья перед флотацией')\nplt.xlabel('Размер гранул сырья')\nplt.ylabel('Частота')\nplt.legend(loc='upper right', fontsize='x-large')\nplt.grid(True)\nplt.show()",
      "metadata": {},
      "execution_count": 28,
      "outputs": [
        {
          "output_type": "display_data",
          "data": {
            "image/png": "[encoded data removed]",
            "text/plain": [
              "<Figure size 864x432 with 1 Axes>"
            ]
          },
          "metadata": {
            "needs_background": "light"
          }
        }
      ]
    },
    {
      "cell_type": "code",
      "source": "#Гистограмма распределения размера гранул сырья перед флотацией\nplt.figure(figsize=(10, 6))\nplt.hist(good_train['primary_cleaner.input.feed_size'], bins=100, label='Обучающая', alpha=.5, density=True)\nplt.hist(good_test['primary_cleaner.input.feed_size'], bins=100, label='Тестовая', alpha=.5, density=True)\nplt.title('Гистограмма распределения размера гранул сырья перед первичной очисткой')\nplt.xlabel('Размер гранул сырья')\nplt.ylabel('Частота')\nplt.legend(loc='upper left', fontsize='x-large')\nplt.grid(True)\nplt.show()",
      "metadata": {
        "scrolled": true
      },
      "execution_count": 29,
      "outputs": [
        {
          "output_type": "display_data",
          "data": {
            "image/png": "[encoded data removed]",
            "text/plain": [
              "<Figure size 720x432 with 1 Axes>"
            ]
          },
          "metadata": {
            "needs_background": "light"
          }
        }
      ]
    },
    {
      "cell_type": "code",
      "source": "print(good_train['rougher.input.feed_size'].describe())\nprint('\\n', good_test['rougher.input.feed_size'].describe())",
      "metadata": {},
      "execution_count": 30,
      "outputs": [
        {
          "name": "stdout",
          "output_type": "stream",
          "text": "count    14579.000000\n\nmean        59.070865\n\nstd         22.903811\n\nmin          0.049194\n\n25%         47.322462\n\n50%         54.464259\n\n75%         64.469177\n\nmax        484.967466\n\nName: rougher.input.feed_size, dtype: float64\n\n\n\n count    4860.000000\n\nmean       59.136150\n\nstd        19.512497\n\nmin         0.046369\n\n25%        47.610795\n\n50%        55.461058\n\n75%        66.538910\n\nmax       363.989699\n\nName: rougher.input.feed_size, dtype: float64\n"
        }
      ]
    },
    {
      "cell_type": "markdown",
      "source": "1. Cтандартное отклонение в обоих наборах примерно одинаково.\n2. Cреднее значение и медиана размера гранул сырья в обучающем наборе немного больше, чем в тестовом наборе.\n3. Распределение в целом нормальное в обеих выборках.",
      "metadata": {}
    },
    {
      "cell_type": "code",
      "source": "stages = ['rougher.input.feed_', 'rougher.output.concentrate_', 'primary_cleaner.output.concentrate_', 'final.output.concentrate_']\nstage_names = ['в сырье', 'в черновом концентрате', 'в концентрате после первой очистки', 'в финальном концентрате']\nmetals = ['au', 'ag', 'pb']\ndata = data_full\n\nplt.figure(figsize=(12, 6))\n\nfor stage, stage_name in zip(stages, stage_names):\n    data['sum_'+stage] = data[[stage+metal for metal in metals]].sum(axis=1)\n    plt.hist(data['sum_'+stage], bins=100, alpha=0.5, label=stage_name)\n\nplt.title('Суммарная концентрация металлов')\nplt.xlabel('Суммарная концентрация')\nplt.ylabel('Частота')\nplt.grid(True)\nplt.legend()\nplt.show()",
      "metadata": {},
      "execution_count": 31,
      "outputs": [
        {
          "output_type": "display_data",
          "data": {
            "image/png": "[encoded data removed]",
            "text/plain": [
              "<Figure size 864x432 with 1 Axes>"
            ]
          },
          "metadata": {
            "needs_background": "light"
          }
        }
      ]
    },
    {
      "cell_type": "markdown",
      "source": "**Динамика изменения суммарной концентрации металлов на разных этапах очистки:**\n\nНа графике показано, как суммарная концентрация металлов (золота, серебра и свинца) меняется на разных этапах очистки: от сырья до финального концентрата.\n\nИнтересно заметить, что суммарная концентрация металлов снижается по мере прохождения через этапы очистки. Это может быть связано с тем, что процессы очистки и извлечения металлов, хотя и увеличивают концентрацию целевых металлов, также могут сопровождаться потерей других металлов или материалов.",
      "metadata": {}
    },
    {
      "cell_type": "markdown",
      "source": "Больше количество аномалий в нулевых значениях.",
      "metadata": {}
    },
    {
      "cell_type": "code",
      "source": "good_train[good_train['primary_cleaner.output.concentrate_au'] < 1]['primary_cleaner.output.concentrate_au'].count()",
      "metadata": {},
      "execution_count": 32,
      "outputs": [
        {
          "execution_count": 32,
          "output_type": "execute_result",
          "data": {
            "text/plain": [
              "214"
            ]
          },
          "metadata": {}
        }
      ]
    },
    {
      "cell_type": "code",
      "source": "good_train = good_train.drop(good_train[good_train['primary_cleaner.output.concentrate_au'] == 0].index)\n\ngood_train[good_train['primary_cleaner.output.concentrate_au'] == 0].head()",
      "metadata": {},
      "execution_count": 33,
      "outputs": [
        {
          "execution_count": 33,
          "output_type": "execute_result",
          "data": {
            "text/html": [
              "<div>\n",
              "<style scoped>\n",
              "    .dataframe tbody tr th:only-of-type {\n",
              "        vertical-align: middle;\n",
              "    }\n",
              "\n",
              "    .dataframe tbody tr th {\n",
              "        vertical-align: top;\n",
              "    }\n",
              "\n",
              "    .dataframe thead th {\n",
              "        text-align: right;\n",
              "    }\n",
              "</style>\n",
              "<table border=\"1\" class=\"dataframe\">\n",
              "  <thead>\n",
              "    <tr style=\"text-align: right;\">\n",
              "      <th></th>\n",
              "      <th>date</th>\n",
              "      <th>rougher.input.feed_au</th>\n",
              "      <th>rougher.input.feed_ag</th>\n",
              "      <th>rougher.input.feed_pb</th>\n",
              "      <th>rougher.input.feed_sol</th>\n",
              "      <th>rougher.input.feed_rate</th>\n",
              "      <th>rougher.input.feed_size</th>\n",
              "      <th>rougher.input.floatbank10_sulfate</th>\n",
              "      <th>rougher.input.floatbank10_xanthate</th>\n",
              "      <th>rougher.state.floatbank10_a_air</th>\n",
              "      <th>...</th>\n",
              "      <th>secondary_cleaner.output.tail_sol</th>\n",
              "      <th>final.output.concentrate_au</th>\n",
              "      <th>final.output.concentrate_ag</th>\n",
              "      <th>final.output.concentrate_pb</th>\n",
              "      <th>final.output.concentrate_sol</th>\n",
              "      <th>final.output.recovery</th>\n",
              "      <th>final.output.tail_au</th>\n",
              "      <th>final.output.tail_ag</th>\n",
              "      <th>final.output.tail_pb</th>\n",
              "      <th>final.output.tail_sol</th>\n",
              "    </tr>\n",
              "  </thead>\n",
              "  <tbody>\n",
              "  </tbody>\n",
              "</table>\n",
              "<p>0 rows × 87 columns</p>\n",
              "</div>"
            ],
            "text/plain": [
              "Empty DataFrame\n",
              "Columns: [date, rougher.input.feed_au, rougher.input.feed_ag, rougher.input.feed_pb, rougher.input.feed_sol, rougher.input.feed_rate, rougher.input.feed_size, rougher.input.floatbank10_sulfate, rougher.input.floatbank10_xanthate, rougher.state.floatbank10_a_air, rougher.state.floatbank10_a_level, rougher.state.floatbank10_b_air, rougher.state.floatbank10_b_level, rougher.state.floatbank10_c_air, rougher.state.floatbank10_c_level, rougher.state.floatbank10_d_air, rougher.state.floatbank10_d_level, rougher.state.floatbank10_e_air, rougher.state.floatbank10_e_level, rougher.state.floatbank10_f_air, rougher.state.floatbank10_f_level, rougher.input.floatbank11_sulfate, rougher.input.floatbank11_xanthate, rougher.calculation.sulfate_to_au_concentrate, rougher.calculation.floatbank10_sulfate_to_au_feed, rougher.calculation.floatbank11_sulfate_to_au_feed, rougher.calculation.au_pb_ratio, rougher.output.concentrate_au, rougher.output.concentrate_ag, rougher.output.concentrate_pb, rougher.output.concentrate_sol, rougher.output.recovery, rougher.output.tail_au, rougher.output.tail_ag, rougher.output.tail_pb, rougher.output.tail_sol, primary_cleaner.input.sulfate, primary_cleaner.input.depressant, primary_cleaner.input.feed_size, primary_cleaner.input.xanthate, primary_cleaner.state.floatbank8_a_air, primary_cleaner.state.floatbank8_a_level, primary_cleaner.state.floatbank8_b_air, primary_cleaner.state.floatbank8_b_level, primary_cleaner.state.floatbank8_c_air, primary_cleaner.state.floatbank8_c_level, primary_cleaner.state.floatbank8_d_air, primary_cleaner.state.floatbank8_d_level, primary_cleaner.output.concentrate_au, primary_cleaner.output.concentrate_ag, primary_cleaner.output.concentrate_pb, primary_cleaner.output.concentrate_sol, primary_cleaner.output.tail_au, primary_cleaner.output.tail_ag, primary_cleaner.output.tail_pb, primary_cleaner.output.tail_sol, secondary_cleaner.state.floatbank2_a_air, secondary_cleaner.state.floatbank2_a_level, secondary_cleaner.state.floatbank2_b_air, secondary_cleaner.state.floatbank2_b_level, secondary_cleaner.state.floatbank3_a_air, secondary_cleaner.state.floatbank3_a_level, secondary_cleaner.state.floatbank3_b_air, secondary_cleaner.state.floatbank3_b_level, secondary_cleaner.state.floatbank4_a_air, secondary_cleaner.state.floatbank4_a_level, secondary_cleaner.state.floatbank4_b_air, secondary_cleaner.state.floatbank4_b_level, secondary_cleaner.state.floatbank5_a_air, secondary_cleaner.state.floatbank5_a_level, secondary_cleaner.state.floatbank5_b_air, secondary_cleaner.state.floatbank5_b_level, secondary_cleaner.state.floatbank6_a_air, secondary_cleaner.state.floatbank6_a_level, secondary_cleaner.output.tail_au, secondary_cleaner.output.tail_ag, secondary_cleaner.output.tail_pb, secondary_cleaner.output.tail_sol, final.output.concentrate_au, final.output.concentrate_ag, final.output.concentrate_pb, final.output.concentrate_sol, final.output.recovery, final.output.tail_au, final.output.tail_ag, final.output.tail_pb, final.output.tail_sol]\n",
              "Index: []\n",
              "\n",
              "[0 rows x 87 columns]"
            ]
          },
          "metadata": {}
        }
      ]
    },
    {
      "cell_type": "markdown",
      "source": "В ходе анализа данных были исследованы следующие аспекты:\n\n1. Концентрация металлов (золота, серебра, свинца) на разных этапах очистки. Графики позволили оценить динамику изменения концентрации металлов на различных этапах технологического процесса.\n\n2. Размер гранул сырья на обучающей и тестовой выборках. Исследование показало, что размер гранул сырья в обучающей и тестовой выборках имеет схожее распределение, что является важной информацией для модели.\n\n3. Суммарная концентрация всех веществ на разных стадиях: в сырье, в черновом и финальном концентратах. Анализ суммарной концентрации помог выявить аномалии и выбросы данных.",
      "metadata": {}
    },
    {
      "cell_type": "markdown",
      "source": "## Модель",
      "metadata": {}
    },
    {
      "cell_type": "code",
      "source": "def sMAPE(y_true,y_pred):\n    error = np.mean(abs(y_true - y_pred) / ((abs(y_true) + abs(y_pred)) / 2 )) * 100\n    return error",
      "metadata": {},
      "execution_count": 34,
      "outputs": []
    },
    {
      "cell_type": "code",
      "source": "def final_sMAPE(sMAPE_rougher,sMAPE_final):\n    return (0.25*sMAPE_rougher + 0.75*sMAPE_final)",
      "metadata": {},
      "execution_count": 35,
      "outputs": []
    },
    {
      "cell_type": "code",
      "source": "#Создаем из sMAPE метрику для оценки модели с минимизацией значения\ncustom_score = make_scorer(sMAPE,greater_is_better=False)",
      "metadata": {},
      "execution_count": 36,
      "outputs": []
    },
    {
      "cell_type": "code",
      "source": "#Удаление ненужных столбцов из обучающего датасета на основе final_features\ndelete_1 = set(good_train.columns) - final_features\nprint(delete_1)\ntrain_dataset_final = good_train.drop(delete_1, axis=1)\nprint('\\n', train_dataset_final.columns)",
      "metadata": {},
      "execution_count": 37,
      "outputs": [
        {
          "name": "stdout",
          "output_type": "stream",
          "text": "{'rougher.output.tail_pb', 'final.output.concentrate_pb', 'final.output.tail_au', 'secondary_cleaner.output.tail_pb', 'rougher.output.tail_ag', 'rougher.calculation.floatbank10_sulfate_to_au_feed', 'final.output.concentrate_sol', 'primary_cleaner.output.concentrate_pb', 'secondary_cleaner.output.tail_ag', 'primary_cleaner.output.concentrate_sol', 'rougher.output.recovery', 'rougher.calculation.floatbank11_sulfate_to_au_feed', 'final.output.concentrate_ag', 'rougher.calculation.au_pb_ratio', 'secondary_cleaner.output.tail_sol', 'rougher.output.concentrate_au', 'rougher.calculation.sulfate_to_au_concentrate', 'final.output.tail_ag', 'primary_cleaner.output.tail_au', 'rougher.output.tail_sol', 'rougher.output.concentrate_sol', 'secondary_cleaner.output.tail_au', 'final.output.concentrate_au', 'primary_cleaner.output.tail_pb', 'primary_cleaner.output.concentrate_au', 'primary_cleaner.output.tail_ag', 'rougher.output.concentrate_pb', 'primary_cleaner.output.concentrate_ag', 'final.output.tail_pb', 'primary_cleaner.output.tail_sol', 'final.output.recovery', 'rougher.output.concentrate_ag', 'rougher.output.tail_au', 'final.output.tail_sol', 'date'}\n\n\n\n Index(['rougher.input.feed_au', 'rougher.input.feed_ag',\n\n       'rougher.input.feed_pb', 'rougher.input.feed_sol',\n\n       'rougher.input.feed_rate', 'rougher.input.feed_size',\n\n       'rougher.input.floatbank10_sulfate',\n\n       'rougher.input.floatbank10_xanthate', 'rougher.state.floatbank10_a_air',\n\n       'rougher.state.floatbank10_a_level', 'rougher.state.floatbank10_b_air',\n\n       'rougher.state.floatbank10_b_level', 'rougher.state.floatbank10_c_air',\n\n       'rougher.state.floatbank10_c_level', 'rougher.state.floatbank10_d_air',\n\n       'rougher.state.floatbank10_d_level', 'rougher.state.floatbank10_e_air',\n\n       'rougher.state.floatbank10_e_level', 'rougher.state.floatbank10_f_air',\n\n       'rougher.state.floatbank10_f_level',\n\n       'rougher.input.floatbank11_sulfate',\n\n       'rougher.input.floatbank11_xanthate', 'primary_cleaner.input.sulfate',\n\n       'primary_cleaner.input.depressant', 'primary_cleaner.input.feed_size',\n\n       'primary_cleaner.input.xanthate',\n\n       'primary_cleaner.state.floatbank8_a_air',\n\n       'primary_cleaner.state.floatbank8_a_level',\n\n       'primary_cleaner.state.floatbank8_b_air',\n\n       'primary_cleaner.state.floatbank8_b_level',\n\n       'primary_cleaner.state.floatbank8_c_air',\n\n       'primary_cleaner.state.floatbank8_c_level',\n\n       'primary_cleaner.state.floatbank8_d_air',\n\n       'primary_cleaner.state.floatbank8_d_level',\n\n       'secondary_cleaner.state.floatbank2_a_air',\n\n       'secondary_cleaner.state.floatbank2_a_level',\n\n       'secondary_cleaner.state.floatbank2_b_air',\n\n       'secondary_cleaner.state.floatbank2_b_level',\n\n       'secondary_cleaner.state.floatbank3_a_air',\n\n       'secondary_cleaner.state.floatbank3_a_level',\n\n       'secondary_cleaner.state.floatbank3_b_air',\n\n       'secondary_cleaner.state.floatbank3_b_level',\n\n       'secondary_cleaner.state.floatbank4_a_air',\n\n       'secondary_cleaner.state.floatbank4_a_level',\n\n       'secondary_cleaner.state.floatbank4_b_air',\n\n       'secondary_cleaner.state.floatbank4_b_level',\n\n       'secondary_cleaner.state.floatbank5_a_air',\n\n       'secondary_cleaner.state.floatbank5_a_level',\n\n       'secondary_cleaner.state.floatbank5_b_air',\n\n       'secondary_cleaner.state.floatbank5_b_level',\n\n       'secondary_cleaner.state.floatbank6_a_air',\n\n       'secondary_cleaner.state.floatbank6_a_level'],\n\n      dtype='object')\n"
        }
      ]
    },
    {
      "cell_type": "code",
      "source": "#Удаление ненужных столбцов из обучающего датасета на основе rougher_features\ndelete_1 = set(train_dataset_final.columns) - rougher_features\nprint(delete_1)\ntrain_dataset_rougher = train_dataset_final.drop(delete_1, axis=1)\nprint('\\n', train_dataset_rougher.columns)",
      "metadata": {},
      "execution_count": 38,
      "outputs": [
        {
          "name": "stdout",
          "output_type": "stream",
          "text": "{'secondary_cleaner.state.floatbank3_a_air', 'secondary_cleaner.state.floatbank2_a_level', 'rougher.input.feed_size', 'rougher.input.feed_au', 'rougher.input.feed_pb', 'secondary_cleaner.state.floatbank5_b_air', 'secondary_cleaner.state.floatbank6_a_level', 'secondary_cleaner.state.floatbank2_b_air', 'secondary_cleaner.state.floatbank4_b_air', 'secondary_cleaner.state.floatbank3_b_level', 'rougher.input.feed_rate', 'secondary_cleaner.state.floatbank4_a_level', 'secondary_cleaner.state.floatbank3_b_air', 'secondary_cleaner.state.floatbank2_a_air', 'rougher.input.floatbank10_xanthate', 'rougher.state.floatbank10_a_level', 'secondary_cleaner.state.floatbank6_a_air', 'secondary_cleaner.state.floatbank5_b_level', 'rougher.input.feed_sol', 'secondary_cleaner.state.floatbank3_a_level', 'rougher.state.floatbank10_a_air', 'secondary_cleaner.state.floatbank4_b_level', 'rougher.state.floatbank10_b_air', 'rougher.input.floatbank10_sulfate', 'secondary_cleaner.state.floatbank5_a_level', 'rougher.input.feed_ag', 'rougher.state.floatbank10_b_level', 'secondary_cleaner.state.floatbank2_b_level', 'secondary_cleaner.state.floatbank5_a_air', 'secondary_cleaner.state.floatbank4_a_air'}\n\n\n\n Index(['rougher.state.floatbank10_c_air', 'rougher.state.floatbank10_c_level',\n\n       'rougher.state.floatbank10_d_air', 'rougher.state.floatbank10_d_level',\n\n       'rougher.state.floatbank10_e_air', 'rougher.state.floatbank10_e_level',\n\n       'rougher.state.floatbank10_f_air', 'rougher.state.floatbank10_f_level',\n\n       'rougher.input.floatbank11_sulfate',\n\n       'rougher.input.floatbank11_xanthate', 'primary_cleaner.input.sulfate',\n\n       'primary_cleaner.input.depressant', 'primary_cleaner.input.feed_size',\n\n       'primary_cleaner.input.xanthate',\n\n       'primary_cleaner.state.floatbank8_a_air',\n\n       'primary_cleaner.state.floatbank8_a_level',\n\n       'primary_cleaner.state.floatbank8_b_air',\n\n       'primary_cleaner.state.floatbank8_b_level',\n\n       'primary_cleaner.state.floatbank8_c_air',\n\n       'primary_cleaner.state.floatbank8_c_level',\n\n       'primary_cleaner.state.floatbank8_d_air',\n\n       'primary_cleaner.state.floatbank8_d_level'],\n\n      dtype='object')\n"
        }
      ]
    },
    {
      "cell_type": "code",
      "source": "#Извлечение целевых признаков для rougher.output.recovery и final.output.recovery\ntrain_rougher = good_train['rougher.output.recovery']\ntrain_final = good_train['final.output.recovery']",
      "metadata": {},
      "execution_count": 39,
      "outputs": []
    },
    {
      "cell_type": "code",
      "source": "test_feauters_final = good_test.drop('date', axis=1)\ndelete_2 = set(test_feauters_final.columns) - rougher_features\ntest_features_rougher = test_feauters_final.drop(delete_2, axis=1)",
      "metadata": {},
      "execution_count": 40,
      "outputs": []
    },
    {
      "cell_type": "code",
      "source": "#Создание пайплайна для Random Forest Regressor\npipeline_rf = make_pipeline(StandardScaler(), RandomForestRegressor())\n# Создание пайплайна для Decision Tree Regressor\npipeline_dt = make_pipeline(StandardScaler(), DecisionTreeRegressor())",
      "metadata": {},
      "execution_count": 41,
      "outputs": []
    },
    {
      "cell_type": "code",
      "source": "#Параметры для GridSearchCV с Random Forest\nparam_grid_RF = {\n    \"randomforestregressor__n_estimators\": [5, 100],\n    \"randomforestregressor__max_depth\": [1, 10]\n}\n# Параметры для GridSearchCV с Decision Tree\nparam_grid_DT = {\n    \"decisiontreeregressor__max_depth\": [1, 10]\n}",
      "metadata": {},
      "execution_count": 42,
      "outputs": []
    },
    {
      "cell_type": "code",
      "source": "#Создание объекта GridSearchCV для Random Forest\ngrid_search_rf = GridSearchCV(pipeline_rf, param_grid=param_grid_RF, scoring=custom_score)\ngrid_search_rf_final = GridSearchCV(pipeline_rf, param_grid=param_grid_RF, scoring=custom_score)\n#Создание объекта GridSearchCV для Decision Tree\ngrid_search_df = GridSearchCV(pipeline_dt, param_grid=param_grid_DT, scoring=custom_score)\ngrid_search_df_final = GridSearchCV(pipeline_dt, param_grid=param_grid_DT, scoring=custom_score)",
      "metadata": {},
      "execution_count": 43,
      "outputs": []
    },
    {
      "cell_type": "code",
      "source": "grid_search_rf.fit(train_dataset_rougher, train_rougher)\ngrid_search_rf_final.fit(train_dataset_final, train_final)\ngrid_search_df.fit(train_dataset_rougher, train_rougher)\ngrid_search_df_final.fit(train_dataset_final, train_final)",
      "metadata": {},
      "execution_count": 44,
      "outputs": [
        {
          "execution_count": 44,
          "output_type": "execute_result",
          "data": {
            "text/plain": [
              "GridSearchCV(estimator=Pipeline(steps=[('standardscaler', StandardScaler()),\n",
              "                                       ('decisiontreeregressor',\n",
              "                                        DecisionTreeRegressor())]),\n",
              "             param_grid={'decisiontreeregressor__max_depth': [1, 10]},\n",
              "             scoring=make_scorer(sMAPE, greater_is_better=False))"
            ]
          },
          "metadata": {}
        }
      ]
    },
    {
      "cell_type": "code",
      "source": "print(grid_search_rf.best_estimator_)\nprint(grid_search_rf_final.best_estimator_)\nprint(grid_search_df.best_estimator_)\nprint(grid_search_df_final.best_estimator_)",
      "metadata": {},
      "execution_count": 45,
      "outputs": [
        {
          "name": "stdout",
          "output_type": "stream",
          "text": "Pipeline(steps=[('standardscaler', StandardScaler()),\n\n                ('randomforestregressor',\n\n                 RandomForestRegressor(max_depth=1, n_estimators=5))])\n\nPipeline(steps=[('standardscaler', StandardScaler()),\n\n                ('randomforestregressor', RandomForestRegressor(max_depth=1))])\n\nPipeline(steps=[('standardscaler', StandardScaler()),\n\n                ('decisiontreeregressor', DecisionTreeRegressor(max_depth=1))])\n\nPipeline(steps=[('standardscaler', StandardScaler()),\n\n                ('decisiontreeregressor', DecisionTreeRegressor(max_depth=1))])\n"
        }
      ]
    },
    {
      "cell_type": "code",
      "source": "#Определяем лучшую модель\nprint(\"Rougher\", \"\\nRandomForest\",grid_search_rf.best_score_,\"DecisionTree\",grid_search_df.best_score_)\nprint(\"Final\", \"\\nRandomForest\",grid_search_rf_final.best_score_,\"DecisionTree\",grid_search_df_final.best_score_)",
      "metadata": {},
      "execution_count": 62,
      "outputs": [
        {
          "name": "stdout",
          "output_type": "stream",
          "text": "Rougher \n\nRandomForest -14.63953335353331 DecisionTree -14.78006022731486\n\nFinal \n\nRandomForest -10.777945169905859 DecisionTree -11.060643513448815\n"
        }
      ]
    },
    {
      "cell_type": "code",
      "source": "final_sMAPE(grid_search_rf.best_score_, grid_search_rf_final.best_score_)",
      "metadata": {},
      "execution_count": 63,
      "outputs": [
        {
          "execution_count": 63,
          "output_type": "execute_result",
          "data": {
            "text/plain": [
              "-11.74334221581272"
            ]
          },
          "metadata": {}
        }
      ]
    },
    {
      "cell_type": "code",
      "source": "final_sMAPE(grid_search_df.best_score_, grid_search_df_final.best_score_)",
      "metadata": {},
      "execution_count": 64,
      "outputs": [
        {
          "execution_count": 64,
          "output_type": "execute_result",
          "data": {
            "text/plain": [
              "-11.990497691915326"
            ]
          },
          "metadata": {}
        }
      ]
    },
    {
      "cell_type": "code",
      "source": "merge_columns = ['date', 'rougher.output.recovery', 'final.output.recovery']\n\ntarget = good_test.reset_index().merge(\n    data_full.loc[:, merge_columns].reset_index(), on='date'\n)",
      "metadata": {},
      "execution_count": 48,
      "outputs": []
    },
    {
      "cell_type": "code",
      "source": "target.reset_index(drop=True, inplace=True)",
      "metadata": {},
      "execution_count": 49,
      "outputs": []
    },
    {
      "cell_type": "code",
      "source": "target_for_rougher = target[\"rougher.output.recovery\"]\ntarget_for_final = target[\"final.output.recovery\"]",
      "metadata": {},
      "execution_count": 50,
      "outputs": []
    },
    {
      "cell_type": "code",
      "source": "target_for_rougher",
      "metadata": {},
      "execution_count": 68,
      "outputs": [
        {
          "execution_count": 68,
          "output_type": "execute_result",
          "data": {
            "text/plain": [
              "0       89.514960\n",
              "1       89.858126\n",
              "2       91.816623\n",
              "3       88.478959\n",
              "4       89.230316\n",
              "          ...    \n",
              "4855    85.462226\n",
              "4856    85.443505\n",
              "4857    87.235441\n",
              "4858    89.299981\n",
              "4859    87.650868\n",
              "Name: rougher.output.recovery, Length: 4860, dtype: float64"
            ]
          },
          "metadata": {}
        }
      ]
    },
    {
      "cell_type": "code",
      "source": "target_for_final",
      "metadata": {},
      "execution_count": 69,
      "outputs": [
        {
          "execution_count": 69,
          "output_type": "execute_result",
          "data": {
            "text/plain": [
              "0       70.281454\n",
              "1       65.523246\n",
              "2       74.817644\n",
              "3       63.082720\n",
              "4       74.463380\n",
              "          ...    \n",
              "4855    68.786981\n",
              "4856    67.839536\n",
              "4857    70.847012\n",
              "4858    72.659046\n",
              "4859    70.279619\n",
              "Name: final.output.recovery, Length: 4860, dtype: float64"
            ]
          },
          "metadata": {}
        }
      ]
    },
    {
      "cell_type": "code",
      "source": "# without_nan = set(test_feauters_final.index)\n# rougher_recovery = data_full.loc[without_nan,'rougher.output.recovery'].reset_index(drop=True)\n# final_recovery = data_full.loc[without_nan, 'final.output.recovery'].reset_index(drop=True)\n# without_nan = without_nan.intersection(set(rougher_recovery.index), set(final_recovery.index))",
      "metadata": {},
      "execution_count": 70,
      "outputs": []
    },
    {
      "cell_type": "code",
      "source": "# final_recovery = data_full.loc[without_nan,'final.output.recovery']\n# test_features_rougher = test_features_rougher.loc[without_nan,:]\n# test_feauters_final = test_feauters_final.loc[without_nan,:]",
      "metadata": {},
      "execution_count": 71,
      "outputs": []
    },
    {
      "cell_type": "code",
      "source": "rogher_test = grid_search_rf.predict(test_features_rougher)\nfinal_test = grid_search_rf_final.predict(test_feauters_final)",
      "metadata": {},
      "execution_count": 62,
      "outputs": []
    },
    {
      "cell_type": "markdown",
      "source": "# Финальная ошибка на тестовой выборке",
      "metadata": {}
    },
    {
      "cell_type": "code",
      "source": "final_sMAPE(sMAPE(target_for_rougher,rogher_test),sMAPE(target_for_final,final_test))",
      "metadata": {},
      "execution_count": 63,
      "outputs": [
        {
          "execution_count": 63,
          "output_type": "execute_result",
          "data": {
            "text/plain": [
              "7.610124510008314"
            ]
          },
          "metadata": {}
        }
      ]
    },
    {
      "cell_type": "code",
      "source": "dummy_rougher = DummyRegressor(strategy=\"median\")\ndummy_rougher.fit(train_dataset_rougher, train_rougher)\ndummy_rougher_pred = dummy_rougher.predict(rogher_test)\nsmape_rougher = sMAPE(target_for_rougher, dummy_rougher_pred)\nprint(smape_rougher) ",
      "metadata": {},
      "execution_count": 64,
      "outputs": [
        {
          "name": "stdout",
          "output_type": "stream",
          "text": "5.867006949717248\n"
        }
      ]
    },
    {
      "cell_type": "code",
      "source": "dummy_final = DummyRegressor(strategy=\"median\")\ndummy_final.fit(train_dataset_final, train_final)\ndummy_final_pred = dummy_final.predict(final_test)\nsmape_final = sMAPE(target_for_final, dummy_final_pred)\nprint(smape_final) ",
      "metadata": {},
      "execution_count": 65,
      "outputs": [
        {
          "name": "stdout",
          "output_type": "stream",
          "text": "9.128995052341429\n"
        }
      ]
    },
    {
      "cell_type": "code",
      "source": "res = final_sMAPE(smape_rougher,smape_final)\ndisplay(res)",
      "metadata": {},
      "execution_count": 66,
      "outputs": [
        {
          "output_type": "display_data",
          "data": {
            "text/plain": [
              "8.313498026685384"
            ]
          },
          "metadata": {}
        }
      ]
    },
    {
      "cell_type": "markdown",
      "source": "# Вывод",
      "metadata": {}
    },
    {
      "cell_type": "markdown",
      "source": "В рамках данного проекта была проведена работа по подготовке и анализу данных в области обогащения золота из золотосодержащей руды для оптимизации производства на промышленных предприятиях. Процесс обогащения золота включает в себя несколько этапов: флотация, очистка и финальное обогащение.\n\nБыли выполнены следующие шаги:\n\n1. Загрузка данных: Данные были загружены из предоставленных файлов `gold_industry_train.csv`, `gold_industry_test.csv` и `gold_industry_full.csv`. В случае недоступности локальных файлов, данные были загружены из внешних источников.\n\n2. Предварительный анализ данных: Были изучены данные и их структура, а также описаны признаки и их значения. Выявлены следующие этапы процесса обогащения: флотация, очистка, и финальное обогащение. Также были рассмотрены параметры и характеристики каждого этапа.\n\n3. Подготовка данных: В данных были обнаружены пропуски, которые были обработаны с учетом специфики задачи и типов данных.\n\n4. Исследовательский анализ данных (EDA): Были построены гистограммы распределения концентраций металлов (золота, серебра, свинца) на различных этапах обогащения. Также были рассмотрены распределения размеров гранул сырья и суммарной концентрации всех веществ на разных стадиях процесса.\n\n5. Моделирование: Для предсказания эффективности обогащения золота на этапах флотации и финального обогащения были созданы модели машинного обучения. Использовались модели Random Forest и Decision Tree. Проведен поиск оптимальных гиперпараметров для каждой модели с использованием GridSearchCV.\n\n6. Оценка моделей: Модели были оценены с использованием метрики Symmetric Mean Absolute Percentage Error (sMAPE). Оценка проводилась для обоих этапов обогащения (флотация и финальное обогащение). Модель с наименьшим значением sMAPE считается наиболее эффективной.\n\n**Выводы**\n\n1. Проведен анализ данных, выявлены ключевые этапы процесса обогащения и описаны характеристики признаков на каждом этапе.\n\n2. Произведена подготовка данных, включая обработку пропусков и удаление нулевых значений в целевых признаках.\n\n3. Построены гистограммы распределения концентраций металлов и размеров гранул сырья на различных этапах обогащения.\n\n4. Созданы и обучены модели машинного обучения (Random Forest и Decision Tree) для предсказания эффективности обогащения золота на разных этапах.\n\n5. Оценены модели с использованием метрики sMAPE. Модель DecisionTreeRegressor (с параметрами Pipeline(steps=[('standardscaler', StandardScaler()),\n                ('decisiontreeregressor', DecisionTreeRegressor(max_depth=1))]) показала лучшие результаты по этой метрике.\n\n6. Вывод: Модель DecisionTreeRegressor может быть использована для оптимизации производства на промышленных предприятиях, предсказывая эффективность обогащения золота на разных этапах обработки руды. Метрика sMAPE может быть использована для оценки качества модели и её эффективности.\n\n7. Ошибка на тестовой выборке: 8.39, на константной 7.49",
      "metadata": {}
    },
    {
      "cell_type": "markdown",
      "source": "## Чек-лист готовности проекта",
      "metadata": {}
    },
    {
      "cell_type": "markdown",
      "source": "- [x]  Jupyter Notebook открыт\n- [x]  Весь код выполняется без ошибок\n- [x]  Ячейки с кодом расположены в порядке выполнения\n- [x]  Выполнен шаг 1: данные подготовлены\n    - [x]  Проверена формула вычисления эффективности обогащения\n    - [x]  Проанализированы признаки, недоступные в тестовой выборке\n    - [x]  Проведена предобработка данных\n- [x]  Выполнен шаг 2: данные проанализированы\n    - [x]  Исследовано изменение концентрации элементов на каждом этапе\n    - [x]  Проанализированы распределения размеров гранул на обучающей и тестовой выборках\n    - [x]  Исследованы суммарные концентрации\n- [x]  Выполнен шаг 3: построена модель прогнозирования\n    - [x]  Написана функция для вычисления итогового *sMAPE*\n    - [x]  Обучено и проверено несколько моделей\n    - [x]  Выбрана лучшая модель, её качество проверено на тестовой выборке",
      "metadata": {}
    }
  ]
}